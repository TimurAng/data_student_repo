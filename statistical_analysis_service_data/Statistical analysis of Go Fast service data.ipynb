{
 "cells": [
  {
   "cell_type": "markdown",
   "id": "a405d719",
   "metadata": {},
   "source": [
    "# Проект: Статистический анализ данных\n",
    "\n",
    "**Описание проекта**\n",
    "\n",
    "Для аналитики популярного сервиса аренды самокатов GoFast нам передали данные о некоторых пользователях из нескольких городов, а также об их поездках. Необходимо проанализировать данные и проверить некоторые гипотезы, которые могут помочь бизнесу вырасти.\n",
    "\n",
    "Чтобы совершать поездки по городу, пользователи сервиса GoFast пользуются мобильным приложением. Сервисом можно пользоваться:\n",
    "без подписки абонентская плата отсутствует;\n",
    "стоимость одной минуты поездки — 8 рублей;\n",
    "стоимость старта (начала поездки) — 50 рублей;\n",
    "с подпиской Ultra абонентская плата — 199 рублей в месяц;\n",
    "стоимость одной минуты поездки — 6 рублей;\n",
    "стоимость старта — бесплатно.\n",
    "\n",
    "**Описание данных**\n",
    "В основных данных есть информация о пользователях, их поездках и подписках.\n",
    "\n",
    "**План Исследования:**\n",
    "* загрузка данных и поверхностное их изучение;\n",
    "* предобработка данных;\n",
    "* исследовательский анализ данных;\n",
    "* объединение данных;\n",
    "* подсчёт выручки;\n",
    "* проверка гипотез;\n",
    "* распределения;\n",
    "* общий вывод"
   ]
  },
  {
   "cell_type": "code",
   "execution_count": 1,
   "id": "5f5f7358",
   "metadata": {},
   "outputs": [],
   "source": [
    "import pandas as pd"
   ]
  },
  {
   "cell_type": "markdown",
   "id": "c42cbe00",
   "metadata": {},
   "source": [
    "#### Шаг 1. Загрузка данных"
   ]
  },
  {
   "cell_type": "code",
   "execution_count": 2,
   "id": "eff9f206",
   "metadata": {},
   "outputs": [],
   "source": [
    "data_users = pd.read_csv('/datasets/users_go.csv')\n",
    "data_rides = pd.read_csv('/datasets/rides_go.csv')\n",
    "data_subscriptions = pd.read_csv('/datasets/subscriptions_go.csv')"
   ]
  },
  {
   "cell_type": "code",
   "execution_count": 3,
   "id": "6e76eace",
   "metadata": {},
   "outputs": [
    {
     "name": "stdout",
     "output_type": "stream",
     "text": [
      "<class 'pandas.core.frame.DataFrame'>\n",
      "RangeIndex: 1565 entries, 0 to 1564\n",
      "Data columns (total 5 columns):\n",
      " #   Column             Non-Null Count  Dtype \n",
      "---  ------             --------------  ----- \n",
      " 0   user_id            1565 non-null   int64 \n",
      " 1   name               1565 non-null   object\n",
      " 2   age                1565 non-null   int64 \n",
      " 3   city               1565 non-null   object\n",
      " 4   subscription_type  1565 non-null   object\n",
      "dtypes: int64(2), object(3)\n",
      "memory usage: 61.3+ KB\n"
     ]
    }
   ],
   "source": [
    "data_users.info()"
   ]
  },
  {
   "cell_type": "code",
   "execution_count": 4,
   "id": "a50eda4b",
   "metadata": {},
   "outputs": [
    {
     "data": {
      "text/html": [
       "<div>\n",
       "<style scoped>\n",
       "    .dataframe tbody tr th:only-of-type {\n",
       "        vertical-align: middle;\n",
       "    }\n",
       "\n",
       "    .dataframe tbody tr th {\n",
       "        vertical-align: top;\n",
       "    }\n",
       "\n",
       "    .dataframe thead th {\n",
       "        text-align: right;\n",
       "    }\n",
       "</style>\n",
       "<table border=\"1\" class=\"dataframe\">\n",
       "  <thead>\n",
       "    <tr style=\"text-align: right;\">\n",
       "      <th></th>\n",
       "      <th>user_id</th>\n",
       "      <th>name</th>\n",
       "      <th>age</th>\n",
       "      <th>city</th>\n",
       "      <th>subscription_type</th>\n",
       "    </tr>\n",
       "  </thead>\n",
       "  <tbody>\n",
       "    <tr>\n",
       "      <th>0</th>\n",
       "      <td>1</td>\n",
       "      <td>Кира</td>\n",
       "      <td>22</td>\n",
       "      <td>Тюмень</td>\n",
       "      <td>ultra</td>\n",
       "    </tr>\n",
       "    <tr>\n",
       "      <th>1</th>\n",
       "      <td>2</td>\n",
       "      <td>Станислав</td>\n",
       "      <td>31</td>\n",
       "      <td>Омск</td>\n",
       "      <td>ultra</td>\n",
       "    </tr>\n",
       "    <tr>\n",
       "      <th>2</th>\n",
       "      <td>3</td>\n",
       "      <td>Алексей</td>\n",
       "      <td>20</td>\n",
       "      <td>Москва</td>\n",
       "      <td>ultra</td>\n",
       "    </tr>\n",
       "    <tr>\n",
       "      <th>3</th>\n",
       "      <td>4</td>\n",
       "      <td>Константин</td>\n",
       "      <td>26</td>\n",
       "      <td>Ростов-на-Дону</td>\n",
       "      <td>ultra</td>\n",
       "    </tr>\n",
       "    <tr>\n",
       "      <th>4</th>\n",
       "      <td>5</td>\n",
       "      <td>Адель</td>\n",
       "      <td>28</td>\n",
       "      <td>Омск</td>\n",
       "      <td>ultra</td>\n",
       "    </tr>\n",
       "  </tbody>\n",
       "</table>\n",
       "</div>"
      ],
      "text/plain": [
       "   user_id        name  age            city subscription_type\n",
       "0        1        Кира   22          Тюмень             ultra\n",
       "1        2   Станислав   31            Омск             ultra\n",
       "2        3     Алексей   20          Москва             ultra\n",
       "3        4  Константин   26  Ростов-на-Дону             ultra\n",
       "4        5       Адель   28            Омск             ultra"
      ]
     },
     "execution_count": 4,
     "metadata": {},
     "output_type": "execute_result"
    }
   ],
   "source": [
    "data_users.head()"
   ]
  },
  {
   "cell_type": "code",
   "execution_count": 5,
   "id": "3e5e0ccd",
   "metadata": {},
   "outputs": [
    {
     "name": "stdout",
     "output_type": "stream",
     "text": [
      "<class 'pandas.core.frame.DataFrame'>\n",
      "RangeIndex: 18068 entries, 0 to 18067\n",
      "Data columns (total 4 columns):\n",
      " #   Column    Non-Null Count  Dtype  \n",
      "---  ------    --------------  -----  \n",
      " 0   user_id   18068 non-null  int64  \n",
      " 1   distance  18068 non-null  float64\n",
      " 2   duration  18068 non-null  float64\n",
      " 3   date      18068 non-null  object \n",
      "dtypes: float64(2), int64(1), object(1)\n",
      "memory usage: 564.8+ KB\n"
     ]
    }
   ],
   "source": [
    "data_rides.info()"
   ]
  },
  {
   "cell_type": "code",
   "execution_count": 6,
   "id": "3a6847b6",
   "metadata": {},
   "outputs": [
    {
     "data": {
      "text/html": [
       "<div>\n",
       "<style scoped>\n",
       "    .dataframe tbody tr th:only-of-type {\n",
       "        vertical-align: middle;\n",
       "    }\n",
       "\n",
       "    .dataframe tbody tr th {\n",
       "        vertical-align: top;\n",
       "    }\n",
       "\n",
       "    .dataframe thead th {\n",
       "        text-align: right;\n",
       "    }\n",
       "</style>\n",
       "<table border=\"1\" class=\"dataframe\">\n",
       "  <thead>\n",
       "    <tr style=\"text-align: right;\">\n",
       "      <th></th>\n",
       "      <th>user_id</th>\n",
       "      <th>distance</th>\n",
       "      <th>duration</th>\n",
       "      <th>date</th>\n",
       "    </tr>\n",
       "  </thead>\n",
       "  <tbody>\n",
       "    <tr>\n",
       "      <th>0</th>\n",
       "      <td>1</td>\n",
       "      <td>4409.919140</td>\n",
       "      <td>25.599769</td>\n",
       "      <td>2021-01-01</td>\n",
       "    </tr>\n",
       "    <tr>\n",
       "      <th>1</th>\n",
       "      <td>1</td>\n",
       "      <td>2617.592153</td>\n",
       "      <td>15.816871</td>\n",
       "      <td>2021-01-18</td>\n",
       "    </tr>\n",
       "    <tr>\n",
       "      <th>2</th>\n",
       "      <td>1</td>\n",
       "      <td>754.159807</td>\n",
       "      <td>6.232113</td>\n",
       "      <td>2021-04-20</td>\n",
       "    </tr>\n",
       "    <tr>\n",
       "      <th>3</th>\n",
       "      <td>1</td>\n",
       "      <td>2694.783254</td>\n",
       "      <td>18.511000</td>\n",
       "      <td>2021-08-11</td>\n",
       "    </tr>\n",
       "    <tr>\n",
       "      <th>4</th>\n",
       "      <td>1</td>\n",
       "      <td>4028.687306</td>\n",
       "      <td>26.265803</td>\n",
       "      <td>2021-08-28</td>\n",
       "    </tr>\n",
       "  </tbody>\n",
       "</table>\n",
       "</div>"
      ],
      "text/plain": [
       "   user_id     distance   duration        date\n",
       "0        1  4409.919140  25.599769  2021-01-01\n",
       "1        1  2617.592153  15.816871  2021-01-18\n",
       "2        1   754.159807   6.232113  2021-04-20\n",
       "3        1  2694.783254  18.511000  2021-08-11\n",
       "4        1  4028.687306  26.265803  2021-08-28"
      ]
     },
     "execution_count": 6,
     "metadata": {},
     "output_type": "execute_result"
    }
   ],
   "source": [
    "data_rides.head()"
   ]
  },
  {
   "cell_type": "code",
   "execution_count": 7,
   "id": "b3a8c219",
   "metadata": {
    "scrolled": true
   },
   "outputs": [
    {
     "name": "stdout",
     "output_type": "stream",
     "text": [
      "<class 'pandas.core.frame.DataFrame'>\n",
      "RangeIndex: 2 entries, 0 to 1\n",
      "Data columns (total 4 columns):\n",
      " #   Column             Non-Null Count  Dtype \n",
      "---  ------             --------------  ----- \n",
      " 0   subscription_type  2 non-null      object\n",
      " 1   minute_price       2 non-null      int64 \n",
      " 2   start_ride_price   2 non-null      int64 \n",
      " 3   subscription_fee   2 non-null      int64 \n",
      "dtypes: int64(3), object(1)\n",
      "memory usage: 192.0+ bytes\n"
     ]
    }
   ],
   "source": [
    "data_subscriptions.info()"
   ]
  },
  {
   "cell_type": "code",
   "execution_count": 8,
   "id": "53097c04",
   "metadata": {},
   "outputs": [
    {
     "data": {
      "text/html": [
       "<div>\n",
       "<style scoped>\n",
       "    .dataframe tbody tr th:only-of-type {\n",
       "        vertical-align: middle;\n",
       "    }\n",
       "\n",
       "    .dataframe tbody tr th {\n",
       "        vertical-align: top;\n",
       "    }\n",
       "\n",
       "    .dataframe thead th {\n",
       "        text-align: right;\n",
       "    }\n",
       "</style>\n",
       "<table border=\"1\" class=\"dataframe\">\n",
       "  <thead>\n",
       "    <tr style=\"text-align: right;\">\n",
       "      <th></th>\n",
       "      <th>subscription_type</th>\n",
       "      <th>minute_price</th>\n",
       "      <th>start_ride_price</th>\n",
       "      <th>subscription_fee</th>\n",
       "    </tr>\n",
       "  </thead>\n",
       "  <tbody>\n",
       "    <tr>\n",
       "      <th>0</th>\n",
       "      <td>free</td>\n",
       "      <td>8</td>\n",
       "      <td>50</td>\n",
       "      <td>0</td>\n",
       "    </tr>\n",
       "    <tr>\n",
       "      <th>1</th>\n",
       "      <td>ultra</td>\n",
       "      <td>6</td>\n",
       "      <td>0</td>\n",
       "      <td>199</td>\n",
       "    </tr>\n",
       "  </tbody>\n",
       "</table>\n",
       "</div>"
      ],
      "text/plain": [
       "  subscription_type  minute_price  start_ride_price  subscription_fee\n",
       "0              free             8                50                 0\n",
       "1             ultra             6                 0               199"
      ]
     },
     "execution_count": 8,
     "metadata": {},
     "output_type": "execute_result"
    }
   ],
   "source": [
    "data_subscriptions"
   ]
  },
  {
   "cell_type": "markdown",
   "id": "79c22d59",
   "metadata": {},
   "source": [
    "**Предварительный вывод**\n",
    "\n",
    "Мы считали данные. Предварительно по нашим данным:\n",
    "* по первой таблице 5 столбцов и 1565 строк, колоичество строк не отличается между столбцами;\n",
    "* по второй таблице 4 столбца и 18068 строк, аналогично количество строк не отличается между столбцами;\n",
    "    * в столбце с датой тип данных - `object`, необходимо будет изменить в дальнейшем на тип `datetime`\n",
    "* по 3 таблице там всего 4 столбца и 2 строки"
   ]
  },
  {
   "cell_type": "markdown",
   "id": "e95ebca7",
   "metadata": {},
   "source": [
    "#### Шаг 2. Предобработка данных"
   ]
  },
  {
   "cell_type": "markdown",
   "id": "cb25fcae",
   "metadata": {},
   "source": [
    "##### Зафиксируем длину первых двух датафреймов"
   ]
  },
  {
   "cell_type": "code",
   "execution_count": 9,
   "id": "fe9f797b",
   "metadata": {},
   "outputs": [
    {
     "data": {
      "text/plain": [
       "1565"
      ]
     },
     "execution_count": 9,
     "metadata": {},
     "output_type": "execute_result"
    }
   ],
   "source": [
    "len(data_users)"
   ]
  },
  {
   "cell_type": "code",
   "execution_count": 10,
   "id": "a6753366",
   "metadata": {},
   "outputs": [
    {
     "data": {
      "text/plain": [
       "18068"
      ]
     },
     "execution_count": 10,
     "metadata": {},
     "output_type": "execute_result"
    }
   ],
   "source": [
    "len(data_rides)"
   ]
  },
  {
   "cell_type": "markdown",
   "id": "a2257cc9",
   "metadata": {},
   "source": [
    "##### Изменим тип данных в столбце `date` датафрейма `data_rides` с `object` на `datetime`"
   ]
  },
  {
   "cell_type": "code",
   "execution_count": 11,
   "id": "be5bc942",
   "metadata": {},
   "outputs": [],
   "source": [
    "data_rides['date'] = pd.to_datetime(data_rides['date'], format='%Y-%m-%d')"
   ]
  },
  {
   "cell_type": "markdown",
   "id": "5addad9c",
   "metadata": {},
   "source": [
    "##### Создадим новый столбец `month` с номером месяца на основе столбца `date`"
   ]
  },
  {
   "cell_type": "code",
   "execution_count": 12,
   "id": "16b2aad7",
   "metadata": {},
   "outputs": [],
   "source": [
    "data_rides['month'] = pd.DatetimeIndex(data_rides['date']).month"
   ]
  },
  {
   "cell_type": "markdown",
   "id": "89116726",
   "metadata": {},
   "source": [
    "##### Проверим наличие пропущенных значений и дубликатов в датафреймах."
   ]
  },
  {
   "cell_type": "code",
   "execution_count": 13,
   "id": "ab723c0b",
   "metadata": {},
   "outputs": [
    {
     "data": {
      "text/plain": [
       "user_id              0\n",
       "name                 0\n",
       "age                  0\n",
       "city                 0\n",
       "subscription_type    0\n",
       "dtype: int64"
      ]
     },
     "execution_count": 13,
     "metadata": {},
     "output_type": "execute_result"
    }
   ],
   "source": [
    "data_users.isna().sum()"
   ]
  },
  {
   "cell_type": "code",
   "execution_count": 14,
   "id": "af71a7c2",
   "metadata": {},
   "outputs": [
    {
     "data": {
      "text/plain": [
       "user_id     0\n",
       "distance    0\n",
       "duration    0\n",
       "date        0\n",
       "month       0\n",
       "dtype: int64"
      ]
     },
     "execution_count": 14,
     "metadata": {},
     "output_type": "execute_result"
    }
   ],
   "source": [
    "data_rides.isna().sum()"
   ]
  },
  {
   "cell_type": "markdown",
   "id": "4d5d286e",
   "metadata": {},
   "source": [
    "Как мы видим пропусков нет. Проверим на наличие явных дубликатов. Если имеются таковые, посмотри м на них."
   ]
  },
  {
   "cell_type": "code",
   "execution_count": 15,
   "id": "b87cdbfa",
   "metadata": {},
   "outputs": [
    {
     "data": {
      "text/plain": [
       "31"
      ]
     },
     "execution_count": 15,
     "metadata": {},
     "output_type": "execute_result"
    }
   ],
   "source": [
    "data_users.duplicated().sum()"
   ]
  },
  {
   "cell_type": "code",
   "execution_count": 16,
   "id": "a259d353",
   "metadata": {},
   "outputs": [
    {
     "data": {
      "text/plain": [
       "0"
      ]
     },
     "execution_count": 16,
     "metadata": {},
     "output_type": "execute_result"
    }
   ],
   "source": [
    "data_rides.duplicated().sum()"
   ]
  },
  {
   "cell_type": "code",
   "execution_count": 17,
   "id": "40504d21",
   "metadata": {},
   "outputs": [
    {
     "data": {
      "text/html": [
       "<div>\n",
       "<style scoped>\n",
       "    .dataframe tbody tr th:only-of-type {\n",
       "        vertical-align: middle;\n",
       "    }\n",
       "\n",
       "    .dataframe tbody tr th {\n",
       "        vertical-align: top;\n",
       "    }\n",
       "\n",
       "    .dataframe thead th {\n",
       "        text-align: right;\n",
       "    }\n",
       "</style>\n",
       "<table border=\"1\" class=\"dataframe\">\n",
       "  <thead>\n",
       "    <tr style=\"text-align: right;\">\n",
       "      <th></th>\n",
       "      <th>user_id</th>\n",
       "      <th>name</th>\n",
       "      <th>age</th>\n",
       "      <th>city</th>\n",
       "      <th>subscription_type</th>\n",
       "    </tr>\n",
       "  </thead>\n",
       "  <tbody>\n",
       "    <tr>\n",
       "      <th>1534</th>\n",
       "      <td>293</td>\n",
       "      <td>Агата</td>\n",
       "      <td>26</td>\n",
       "      <td>Краснодар</td>\n",
       "      <td>ultra</td>\n",
       "    </tr>\n",
       "    <tr>\n",
       "      <th>292</th>\n",
       "      <td>293</td>\n",
       "      <td>Агата</td>\n",
       "      <td>26</td>\n",
       "      <td>Краснодар</td>\n",
       "      <td>ultra</td>\n",
       "    </tr>\n",
       "    <tr>\n",
       "      <th>1545</th>\n",
       "      <td>807</td>\n",
       "      <td>Александр</td>\n",
       "      <td>28</td>\n",
       "      <td>Екатеринбург</td>\n",
       "      <td>free</td>\n",
       "    </tr>\n",
       "    <tr>\n",
       "      <th>806</th>\n",
       "      <td>807</td>\n",
       "      <td>Александр</td>\n",
       "      <td>28</td>\n",
       "      <td>Екатеринбург</td>\n",
       "      <td>free</td>\n",
       "    </tr>\n",
       "    <tr>\n",
       "      <th>1553</th>\n",
       "      <td>121</td>\n",
       "      <td>Алина</td>\n",
       "      <td>25</td>\n",
       "      <td>Пятигорск</td>\n",
       "      <td>ultra</td>\n",
       "    </tr>\n",
       "    <tr>\n",
       "      <th>120</th>\n",
       "      <td>121</td>\n",
       "      <td>Алина</td>\n",
       "      <td>25</td>\n",
       "      <td>Пятигорск</td>\n",
       "      <td>ultra</td>\n",
       "    </tr>\n",
       "    <tr>\n",
       "      <th>15</th>\n",
       "      <td>16</td>\n",
       "      <td>Амалия</td>\n",
       "      <td>27</td>\n",
       "      <td>Краснодар</td>\n",
       "      <td>ultra</td>\n",
       "    </tr>\n",
       "    <tr>\n",
       "      <th>1535</th>\n",
       "      <td>16</td>\n",
       "      <td>Амалия</td>\n",
       "      <td>27</td>\n",
       "      <td>Краснодар</td>\n",
       "      <td>ultra</td>\n",
       "    </tr>\n",
       "  </tbody>\n",
       "</table>\n",
       "</div>"
      ],
      "text/plain": [
       "      user_id       name  age          city subscription_type\n",
       "1534      293      Агата   26     Краснодар             ultra\n",
       "292       293      Агата   26     Краснодар             ultra\n",
       "1545      807  Александр   28  Екатеринбург              free\n",
       "806       807  Александр   28  Екатеринбург              free\n",
       "1553      121      Алина   25     Пятигорск             ultra\n",
       "120       121      Алина   25     Пятигорск             ultra\n",
       "15         16     Амалия   27     Краснодар             ultra\n",
       "1535       16     Амалия   27     Краснодар             ultra"
      ]
     },
     "execution_count": 17,
     "metadata": {},
     "output_type": "execute_result"
    }
   ],
   "source": [
    "data_users[data_users.duplicated(keep=False)].sort_values('name').head(8)"
   ]
  },
  {
   "cell_type": "markdown",
   "id": "3cb35c70",
   "metadata": {},
   "source": [
    "Как мы видим в датафрейме `data_users` это полные дубликаты по всем параметрам. Удалим их."
   ]
  },
  {
   "cell_type": "code",
   "execution_count": 18,
   "id": "56defba3",
   "metadata": {},
   "outputs": [],
   "source": [
    "data_users = data_users.drop_duplicates().reset_index(drop=True)"
   ]
  },
  {
   "cell_type": "code",
   "execution_count": 19,
   "id": "b3773d13",
   "metadata": {},
   "outputs": [
    {
     "data": {
      "text/plain": [
       "0"
      ]
     },
     "execution_count": 19,
     "metadata": {},
     "output_type": "execute_result"
    }
   ],
   "source": [
    "data_users.duplicated().sum()"
   ]
  },
  {
   "cell_type": "markdown",
   "id": "6cbaeb7b",
   "metadata": {},
   "source": [
    "Проверим размер наших датафреймов"
   ]
  },
  {
   "cell_type": "code",
   "execution_count": 20,
   "id": "a23d12f8",
   "metadata": {},
   "outputs": [
    {
     "data": {
      "text/plain": [
       "1534"
      ]
     },
     "execution_count": 20,
     "metadata": {},
     "output_type": "execute_result"
    }
   ],
   "source": [
    "len(data_users)"
   ]
  },
  {
   "cell_type": "code",
   "execution_count": 21,
   "id": "3b29ea2c",
   "metadata": {},
   "outputs": [
    {
     "data": {
      "text/plain": [
       "18068"
      ]
     },
     "execution_count": 21,
     "metadata": {},
     "output_type": "execute_result"
    }
   ],
   "source": [
    "len(data_rides)"
   ]
  },
  {
   "cell_type": "markdown",
   "id": "1ab2777d",
   "metadata": {},
   "source": [
    "**Промежуточный вывод**\n",
    "\n",
    "На данном этапе мы:\n",
    "* Изменили тип данных в столбце `date` датафрейма `data_rides` с **object на datetime**;\n",
    "* Создали новый столбец `month` с номером месяца на основе столбца `date`;\n",
    "* Проверили наличие пропущенных значений и дубликатов в датафреймах, которых не оказалось;\n",
    "* Проверили на наличие явных дубликатов и произвели их удаление в датафрейме data_users"
   ]
  },
  {
   "cell_type": "markdown",
   "id": "212593c7",
   "metadata": {},
   "source": [
    "#### Шаг 3. Исследовательский анализ данных"
   ]
  },
  {
   "cell_type": "code",
   "execution_count": 22,
   "id": "d2ec5911",
   "metadata": {},
   "outputs": [],
   "source": [
    "import matplotlib.pyplot as plt"
   ]
  },
  {
   "cell_type": "markdown",
   "id": "8ca2dbdd",
   "metadata": {},
   "source": [
    "##### Посмотрим на распределение пользователей по городам"
   ]
  },
  {
   "cell_type": "code",
   "execution_count": 23,
   "id": "4dbcfc05",
   "metadata": {},
   "outputs": [
    {
     "data": {
      "image/png": "[encoded data removed]",
      "text/plain": [
       "<Figure size 864x432 with 1 Axes>"
      ]
     },
     "metadata": {
      "needs_background": "light"
     },
     "output_type": "display_data"
    },
    {
     "data": {
      "text/plain": [
       "Москва            168\n",
       "Тюмень            180\n",
       "Омск              183\n",
       "Сочи              189\n",
       "Краснодар         193\n",
       "Ростов-на-Дону    198\n",
       "Екатеринбург      204\n",
       "Пятигорск         219\n",
       "Name: city, dtype: int64"
      ]
     },
     "execution_count": 23,
     "metadata": {},
     "output_type": "execute_result"
    }
   ],
   "source": [
    "(\n",
    "data_users['city'].value_counts()\n",
    "    .sort_values()\n",
    "    .plot(kind='bar', grid=True, figsize=(12,6))\n",
    ")\n",
    "plt.xticks(rotation=0)\n",
    "plt.title('Распределение пользователей сервиса аренды самокатов \"GoFast\" по городам', size=15)\n",
    "plt.xlabel('Города', size=14)\n",
    "plt.ylabel('Количество пользователей сервиса', size=14)\n",
    "plt.show()\n",
    "data_users['city'].value_counts().sort_values()"
   ]
  },
  {
   "cell_type": "markdown",
   "id": "358f4c02",
   "metadata": {},
   "source": [
    "Минимальное количество пользователей сервиса \"GoFast\" находится в Москве, максимальное в городе Пятигорск. В основном охвачена центральная часть России, немного восток и южная часть. На удалении от Москвы в южную и восточную стороны, колличество пользователей увеличивается. Можно объяснить это конкуренцией в мегаполисе."
   ]
  },
  {
   "cell_type": "markdown",
   "id": "a2a457f9",
   "metadata": {},
   "source": [
    "##### Посмотрим на соотношение пользователей с подпиской и без подписки"
   ]
  },
  {
   "cell_type": "code",
   "execution_count": 24,
   "id": "c8d035e6",
   "metadata": {},
   "outputs": [
    {
     "data": {
      "image/png": "[encoded data removed]",
      "text/plain": [
       "<Figure size 432x432 with 1 Axes>"
      ]
     },
     "metadata": {},
     "output_type": "display_data"
    }
   ],
   "source": [
    "(\n",
    "data_users['subscription_type']\n",
    "    .value_counts(normalize=True)\n",
    "    .plot(kind='pie', autopct='%.1f%%', startangle=45,\n",
    "          colors=['#4CAF50', '#FF5722'],\n",
    "         shadow=True, explode=(0.05, 0), figsize=(6,6),\n",
    "         textprops={'fontsize': 14})\n",
    ")\n",
    "plt.title('Распределение пользователей с подпиской и без', size=12)\n",
    "plt.ylabel('')\n",
    "plt.show()"
   ]
  },
  {
   "cell_type": "markdown",
   "id": "227a9c22",
   "metadata": {},
   "source": [
    "Пользователей с подпиской меньше чем без подписки на ~10% от общего количества."
   ]
  },
  {
   "cell_type": "markdown",
   "id": "5b30aeb0",
   "metadata": {},
   "source": [
    "##### Посмотрим на возраст пользователей"
   ]
  },
  {
   "cell_type": "code",
   "execution_count": 25,
   "id": "5ff4e879",
   "metadata": {},
   "outputs": [
    {
     "data": {
      "image/png": "[encoded data removed]",
      "text/plain": [
       "<Figure size 648x432 with 1 Axes>"
      ]
     },
     "metadata": {
      "needs_background": "light"
     },
     "output_type": "display_data"
    },
    {
     "data": {
      "text/plain": [
       "count    1534.000000\n",
       "mean       24.903520\n",
       "std         4.572367\n",
       "min        12.000000\n",
       "25%        22.000000\n",
       "50%        25.000000\n",
       "75%        28.000000\n",
       "max        43.000000\n",
       "Name: age, dtype: float64"
      ]
     },
     "execution_count": 25,
     "metadata": {},
     "output_type": "execute_result"
    }
   ],
   "source": [
    "(\n",
    "data_users['age'].value_counts()\n",
    "    .sort_index()\n",
    "    .plot(grid=True, kind='bar', figsize=(9,6))\n",
    ")\n",
    "plt.xticks(rotation=0)\n",
    "plt.show()\n",
    "data_users['age'].describe()"
   ]
  },
  {
   "cell_type": "markdown",
   "id": "cf9cd920",
   "metadata": {},
   "source": [
    "Как мы видим наиболее популярен сервис у пользователей с возрастом от 22 до 28 лет. Само распределение очень похоже на нормальное распределение Гаусса."
   ]
  },
  {
   "cell_type": "markdown",
   "id": "b1dd74cb",
   "metadata": {},
   "source": [
    "##### Посмотрим на расстояние, которое пользователь преодолел за одну поездку"
   ]
  },
  {
   "cell_type": "code",
   "execution_count": 26,
   "id": "0dce567d",
   "metadata": {},
   "outputs": [
    {
     "data": {
      "image/png": "[encoded data removed]",
      "text/plain": [
       "<Figure size 648x360 with 1 Axes>"
      ]
     },
     "metadata": {
      "needs_background": "light"
     },
     "output_type": "display_data"
    },
    {
     "data": {
      "text/plain": [
       "count    18068.000000\n",
       "mean      3070.659976\n",
       "std       1116.831209\n",
       "min          0.855683\n",
       "25%       2543.226360\n",
       "50%       3133.609994\n",
       "75%       3776.222735\n",
       "max       7211.007745\n",
       "Name: distance, dtype: float64"
      ]
     },
     "execution_count": 26,
     "metadata": {},
     "output_type": "execute_result"
    }
   ],
   "source": [
    "(\n",
    "data_rides['distance']\n",
    "    .plot(kind='hist', bins=200, \n",
    "          color='#AC1080', grid=True, \n",
    "          figsize=(9,5))\n",
    ")\n",
    "plt.title('Распределение расстояний поездок пользователей', size=15)\n",
    "plt.xlabel('Расстояние поездок пользователей, м', size=14)\n",
    "plt.ylabel('Количество поездок', size=14)\n",
    "plt.show()\n",
    "data_rides['distance'].describe()"
   ]
  },
  {
   "cell_type": "markdown",
   "id": "a10cc9e0",
   "metadata": {},
   "source": [
    "Медианное расстояние поездок пользователей 3133,6м. По графику мы видим две вершины, условно можно разделить данные на 2 группы. \n",
    "\n",
    "Можно предположить, что в выборке имеются данные различных групп пользователей:\n",
    "* тех кто пользуется сервисом для поездки на работу и домой, для куръерских доставок (длинные расстояния);\n",
    "* и тех кто катается в парке, на небольшие расстояния ради недолгих развлечений\n",
    "* * различная инфраструктура городов также вносит свой вклад в значения расстояний"
   ]
  },
  {
   "cell_type": "markdown",
   "id": "2a15ec8d",
   "metadata": {},
   "source": [
    "##### Посмотрим на продолжительность поездок пользователей"
   ]
  },
  {
   "cell_type": "code",
   "execution_count": 27,
   "id": "47a37174",
   "metadata": {},
   "outputs": [
    {
     "data": {
      "image/png": "[encoded data removed]",
      "text/plain": [
       "<Figure size 648x360 with 1 Axes>"
      ]
     },
     "metadata": {
      "needs_background": "light"
     },
     "output_type": "display_data"
    },
    {
     "data": {
      "text/plain": [
       "count    18068.000000\n",
       "mean        17.805011\n",
       "std          6.091051\n",
       "min          0.500000\n",
       "25%         13.597563\n",
       "50%         17.678395\n",
       "75%         21.724800\n",
       "max         40.823963\n",
       "Name: duration, dtype: float64"
      ]
     },
     "execution_count": 27,
     "metadata": {},
     "output_type": "execute_result"
    }
   ],
   "source": [
    "(\n",
    "data_rides['duration']\n",
    "    .plot(kind='hist', bins=200, \n",
    "          color='#AC1080', grid=True, \n",
    "          figsize=(9,5))\n",
    ")\n",
    "plt.title('Распределение продолжительности поездок пользователей', size=14)\n",
    "plt.xlabel('Продолжительности поездок пользователей, мин', size=14)\n",
    "plt.ylabel('Количество поездок', size=14)\n",
    "plt.show()\n",
    "data_rides['duration'].describe()"
   ]
  },
  {
   "cell_type": "markdown",
   "id": "cec875ca",
   "metadata": {},
   "source": [
    "Наиболее распрсотранненая продолжительность поездок 13,6 - 21,7м. Само распределение очень похоже на нормальное распределение Гаусса."
   ]
  },
  {
   "cell_type": "markdown",
   "id": "9275e15f",
   "metadata": {},
   "source": [
    "**Промежуточный вывод**\n",
    "\n",
    "На данном этапе мы визуализировали общую информацию о пользователях и поездках:\n",
    "* частоту встречаемости городов:\n",
    "    * Минимальное количество пользователей сервиса \"GoFast\" находится в Москве, максимальное в городе Пятигорск. В основном охвачена центральная часть России, немного восток и южная часть. На удалении от Москвы в южную и восточную стороны, колличество пользователей увеличивается. Можно объяснить это конкуренцией в мегаполисе.\n",
    "    \n",
    "* Посмотрели на соотношение пользователей с подпиской и без подписки:\n",
    "    * Пользователей с подпиской меньше чем без подписки на ~10% от общего количества.\n",
    "    \n",
    "* Посмотрели на возраст пользователей:\n",
    "    * наиболее популярен сервис у пользователей с возрастом от 22 до 28 лет. Само распределение очень похоже на нормальное распределение Гаусса\n",
    "    \n",
    "* Посмотрели на расстояние, которое пользователь преодолел за одну поездку:\n",
    "    * Самое распространненое расстояние поездок пользователей 3133,6м. По графику мы видим две вершины, условно можно разделить данные на 2 группы. \n",
    "    * Можно предположить, что в выборке имеются данные различных групп пользователей:\n",
    "        * тех кто пользуется сервисом для поездки на работу и домой, для куръерских доставок (длинные расстояния);\n",
    "        * и тех кто катается в парке, на небольшие расстояния ради недолгих развлечений\n",
    "* Посмотрели на продолжительность поездок пользователей:\n",
    "    * Наиболее распрсотранненая продолжительность поездок 13,6 - 21,7м. Само распределение очень похоже на нормальное распределение Гаусса"
   ]
  },
  {
   "cell_type": "markdown",
   "id": "4ef51331",
   "metadata": {},
   "source": [
    "#### Шаг 4. Объединение данных"
   ]
  },
  {
   "cell_type": "markdown",
   "id": "a778ae3a",
   "metadata": {},
   "source": [
    "##### Объединим первые два датафрейма по столбцу `user_id`, а с третим по столбцу `subscription_type`"
   ]
  },
  {
   "cell_type": "code",
   "execution_count": 28,
   "id": "72de587c",
   "metadata": {},
   "outputs": [
    {
     "data": {
      "text/html": [
       "<div>\n",
       "<style scoped>\n",
       "    .dataframe tbody tr th:only-of-type {\n",
       "        vertical-align: middle;\n",
       "    }\n",
       "\n",
       "    .dataframe tbody tr th {\n",
       "        vertical-align: top;\n",
       "    }\n",
       "\n",
       "    .dataframe thead th {\n",
       "        text-align: right;\n",
       "    }\n",
       "</style>\n",
       "<table border=\"1\" class=\"dataframe\">\n",
       "  <thead>\n",
       "    <tr style=\"text-align: right;\">\n",
       "      <th></th>\n",
       "      <th>user_id</th>\n",
       "      <th>name</th>\n",
       "      <th>age</th>\n",
       "      <th>city</th>\n",
       "      <th>subscription_type</th>\n",
       "      <th>distance</th>\n",
       "      <th>duration</th>\n",
       "      <th>date</th>\n",
       "      <th>month</th>\n",
       "      <th>minute_price</th>\n",
       "      <th>start_ride_price</th>\n",
       "      <th>subscription_fee</th>\n",
       "    </tr>\n",
       "  </thead>\n",
       "  <tbody>\n",
       "    <tr>\n",
       "      <th>0</th>\n",
       "      <td>1</td>\n",
       "      <td>Кира</td>\n",
       "      <td>22</td>\n",
       "      <td>Тюмень</td>\n",
       "      <td>ultra</td>\n",
       "      <td>4409.919140</td>\n",
       "      <td>25.599769</td>\n",
       "      <td>2021-01-01</td>\n",
       "      <td>1</td>\n",
       "      <td>6</td>\n",
       "      <td>0</td>\n",
       "      <td>199</td>\n",
       "    </tr>\n",
       "    <tr>\n",
       "      <th>1</th>\n",
       "      <td>1</td>\n",
       "      <td>Кира</td>\n",
       "      <td>22</td>\n",
       "      <td>Тюмень</td>\n",
       "      <td>ultra</td>\n",
       "      <td>2617.592153</td>\n",
       "      <td>15.816871</td>\n",
       "      <td>2021-01-18</td>\n",
       "      <td>1</td>\n",
       "      <td>6</td>\n",
       "      <td>0</td>\n",
       "      <td>199</td>\n",
       "    </tr>\n",
       "    <tr>\n",
       "      <th>2</th>\n",
       "      <td>1</td>\n",
       "      <td>Кира</td>\n",
       "      <td>22</td>\n",
       "      <td>Тюмень</td>\n",
       "      <td>ultra</td>\n",
       "      <td>754.159807</td>\n",
       "      <td>6.232113</td>\n",
       "      <td>2021-04-20</td>\n",
       "      <td>4</td>\n",
       "      <td>6</td>\n",
       "      <td>0</td>\n",
       "      <td>199</td>\n",
       "    </tr>\n",
       "    <tr>\n",
       "      <th>3</th>\n",
       "      <td>1</td>\n",
       "      <td>Кира</td>\n",
       "      <td>22</td>\n",
       "      <td>Тюмень</td>\n",
       "      <td>ultra</td>\n",
       "      <td>2694.783254</td>\n",
       "      <td>18.511000</td>\n",
       "      <td>2021-08-11</td>\n",
       "      <td>8</td>\n",
       "      <td>6</td>\n",
       "      <td>0</td>\n",
       "      <td>199</td>\n",
       "    </tr>\n",
       "    <tr>\n",
       "      <th>4</th>\n",
       "      <td>1</td>\n",
       "      <td>Кира</td>\n",
       "      <td>22</td>\n",
       "      <td>Тюмень</td>\n",
       "      <td>ultra</td>\n",
       "      <td>4028.687306</td>\n",
       "      <td>26.265803</td>\n",
       "      <td>2021-08-28</td>\n",
       "      <td>8</td>\n",
       "      <td>6</td>\n",
       "      <td>0</td>\n",
       "      <td>199</td>\n",
       "    </tr>\n",
       "  </tbody>\n",
       "</table>\n",
       "</div>"
      ],
      "text/plain": [
       "   user_id  name  age    city subscription_type     distance   duration  \\\n",
       "0        1  Кира   22  Тюмень             ultra  4409.919140  25.599769   \n",
       "1        1  Кира   22  Тюмень             ultra  2617.592153  15.816871   \n",
       "2        1  Кира   22  Тюмень             ultra   754.159807   6.232113   \n",
       "3        1  Кира   22  Тюмень             ultra  2694.783254  18.511000   \n",
       "4        1  Кира   22  Тюмень             ultra  4028.687306  26.265803   \n",
       "\n",
       "        date  month  minute_price  start_ride_price  subscription_fee  \n",
       "0 2021-01-01      1             6                 0               199  \n",
       "1 2021-01-18      1             6                 0               199  \n",
       "2 2021-04-20      4             6                 0               199  \n",
       "3 2021-08-11      8             6                 0               199  \n",
       "4 2021-08-28      8             6                 0               199  "
      ]
     },
     "execution_count": 28,
     "metadata": {},
     "output_type": "execute_result"
    }
   ],
   "source": [
    "data = (\n",
    "    data_users.merge(data_rides, how='left', on='user_id')\n",
    "    .merge(data_subscriptions, how='left', on='subscription_type')\n",
    ")\n",
    "data.head()"
   ]
  },
  {
   "cell_type": "markdown",
   "id": "6e367f1e",
   "metadata": {},
   "source": [
    "Проверим наши данные после объединения"
   ]
  },
  {
   "cell_type": "code",
   "execution_count": 29,
   "id": "c95260a8",
   "metadata": {},
   "outputs": [
    {
     "name": "stdout",
     "output_type": "stream",
     "text": [
      "<class 'pandas.core.frame.DataFrame'>\n",
      "Int64Index: 18068 entries, 0 to 18067\n",
      "Data columns (total 12 columns):\n",
      " #   Column             Non-Null Count  Dtype         \n",
      "---  ------             --------------  -----         \n",
      " 0   user_id            18068 non-null  int64         \n",
      " 1   name               18068 non-null  object        \n",
      " 2   age                18068 non-null  int64         \n",
      " 3   city               18068 non-null  object        \n",
      " 4   subscription_type  18068 non-null  object        \n",
      " 5   distance           18068 non-null  float64       \n",
      " 6   duration           18068 non-null  float64       \n",
      " 7   date               18068 non-null  datetime64[ns]\n",
      " 8   month              18068 non-null  int64         \n",
      " 9   minute_price       18068 non-null  int64         \n",
      " 10  start_ride_price   18068 non-null  int64         \n",
      " 11  subscription_fee   18068 non-null  int64         \n",
      "dtypes: datetime64[ns](1), float64(2), int64(6), object(3)\n",
      "memory usage: 1.8+ MB\n"
     ]
    }
   ],
   "source": [
    "data.info()"
   ]
  },
  {
   "cell_type": "code",
   "execution_count": 30,
   "id": "957bf5ce",
   "metadata": {},
   "outputs": [
    {
     "data": {
      "text/plain": [
       "user_id              0\n",
       "name                 0\n",
       "age                  0\n",
       "city                 0\n",
       "subscription_type    0\n",
       "distance             0\n",
       "duration             0\n",
       "date                 0\n",
       "month                0\n",
       "minute_price         0\n",
       "start_ride_price     0\n",
       "subscription_fee     0\n",
       "dtype: int64"
      ]
     },
     "execution_count": 30,
     "metadata": {},
     "output_type": "execute_result"
    }
   ],
   "source": [
    "data.isna().sum()"
   ]
  },
  {
   "cell_type": "markdown",
   "id": "274fcf88",
   "metadata": {},
   "source": [
    "Объединение прошло нормально, количество строк одинаковое по столбцам, и пропусков нет."
   ]
  },
  {
   "cell_type": "markdown",
   "id": "bfd70f65",
   "metadata": {},
   "source": [
    "##### Создадим ещё два датафрейма из датафрейма, созданного на шаге 4.1\n",
    "\n",
    "* первый - c данными о пользователях без подписки"
   ]
  },
  {
   "cell_type": "code",
   "execution_count": 31,
   "id": "ce72b31b",
   "metadata": {},
   "outputs": [
    {
     "data": {
      "text/html": [
       "<div>\n",
       "<style scoped>\n",
       "    .dataframe tbody tr th:only-of-type {\n",
       "        vertical-align: middle;\n",
       "    }\n",
       "\n",
       "    .dataframe tbody tr th {\n",
       "        vertical-align: top;\n",
       "    }\n",
       "\n",
       "    .dataframe thead th {\n",
       "        text-align: right;\n",
       "    }\n",
       "</style>\n",
       "<table border=\"1\" class=\"dataframe\">\n",
       "  <thead>\n",
       "    <tr style=\"text-align: right;\">\n",
       "      <th></th>\n",
       "      <th>user_id</th>\n",
       "      <th>name</th>\n",
       "      <th>age</th>\n",
       "      <th>city</th>\n",
       "      <th>subscription_type</th>\n",
       "      <th>distance</th>\n",
       "      <th>duration</th>\n",
       "      <th>date</th>\n",
       "      <th>month</th>\n",
       "      <th>minute_price</th>\n",
       "      <th>start_ride_price</th>\n",
       "      <th>subscription_fee</th>\n",
       "    </tr>\n",
       "  </thead>\n",
       "  <tbody>\n",
       "    <tr>\n",
       "      <th>6500</th>\n",
       "      <td>700</td>\n",
       "      <td>Айдар</td>\n",
       "      <td>22</td>\n",
       "      <td>Омск</td>\n",
       "      <td>free</td>\n",
       "      <td>2515.690719</td>\n",
       "      <td>14.944286</td>\n",
       "      <td>2021-01-02</td>\n",
       "      <td>1</td>\n",
       "      <td>8</td>\n",
       "      <td>50</td>\n",
       "      <td>0</td>\n",
       "    </tr>\n",
       "    <tr>\n",
       "      <th>6501</th>\n",
       "      <td>700</td>\n",
       "      <td>Айдар</td>\n",
       "      <td>22</td>\n",
       "      <td>Омск</td>\n",
       "      <td>free</td>\n",
       "      <td>846.932642</td>\n",
       "      <td>16.234663</td>\n",
       "      <td>2021-02-01</td>\n",
       "      <td>2</td>\n",
       "      <td>8</td>\n",
       "      <td>50</td>\n",
       "      <td>0</td>\n",
       "    </tr>\n",
       "    <tr>\n",
       "      <th>6502</th>\n",
       "      <td>700</td>\n",
       "      <td>Айдар</td>\n",
       "      <td>22</td>\n",
       "      <td>Омск</td>\n",
       "      <td>free</td>\n",
       "      <td>4004.434142</td>\n",
       "      <td>20.016628</td>\n",
       "      <td>2021-02-04</td>\n",
       "      <td>2</td>\n",
       "      <td>8</td>\n",
       "      <td>50</td>\n",
       "      <td>0</td>\n",
       "    </tr>\n",
       "    <tr>\n",
       "      <th>6503</th>\n",
       "      <td>700</td>\n",
       "      <td>Айдар</td>\n",
       "      <td>22</td>\n",
       "      <td>Омск</td>\n",
       "      <td>free</td>\n",
       "      <td>1205.911290</td>\n",
       "      <td>9.782872</td>\n",
       "      <td>2021-02-10</td>\n",
       "      <td>2</td>\n",
       "      <td>8</td>\n",
       "      <td>50</td>\n",
       "      <td>0</td>\n",
       "    </tr>\n",
       "    <tr>\n",
       "      <th>6504</th>\n",
       "      <td>700</td>\n",
       "      <td>Айдар</td>\n",
       "      <td>22</td>\n",
       "      <td>Омск</td>\n",
       "      <td>free</td>\n",
       "      <td>3047.379435</td>\n",
       "      <td>17.427673</td>\n",
       "      <td>2021-02-14</td>\n",
       "      <td>2</td>\n",
       "      <td>8</td>\n",
       "      <td>50</td>\n",
       "      <td>0</td>\n",
       "    </tr>\n",
       "  </tbody>\n",
       "</table>\n",
       "</div>"
      ],
      "text/plain": [
       "      user_id   name  age  city subscription_type     distance   duration  \\\n",
       "6500      700  Айдар   22  Омск              free  2515.690719  14.944286   \n",
       "6501      700  Айдар   22  Омск              free   846.932642  16.234663   \n",
       "6502      700  Айдар   22  Омск              free  4004.434142  20.016628   \n",
       "6503      700  Айдар   22  Омск              free  1205.911290   9.782872   \n",
       "6504      700  Айдар   22  Омск              free  3047.379435  17.427673   \n",
       "\n",
       "           date  month  minute_price  start_ride_price  subscription_fee  \n",
       "6500 2021-01-02      1             8                50                 0  \n",
       "6501 2021-02-01      2             8                50                 0  \n",
       "6502 2021-02-04      2             8                50                 0  \n",
       "6503 2021-02-10      2             8                50                 0  \n",
       "6504 2021-02-14      2             8                50                 0  "
      ]
     },
     "execution_count": 31,
     "metadata": {},
     "output_type": "execute_result"
    }
   ],
   "source": [
    "data_free = data[data['subscription_type'] == 'free']\n",
    "data_free.head()"
   ]
  },
  {
   "cell_type": "markdown",
   "id": "db4c1c26",
   "metadata": {},
   "source": [
    "* второй с данными о пользователях с подпиской"
   ]
  },
  {
   "cell_type": "code",
   "execution_count": 32,
   "id": "a00a49e8",
   "metadata": {},
   "outputs": [
    {
     "data": {
      "text/html": [
       "<div>\n",
       "<style scoped>\n",
       "    .dataframe tbody tr th:only-of-type {\n",
       "        vertical-align: middle;\n",
       "    }\n",
       "\n",
       "    .dataframe tbody tr th {\n",
       "        vertical-align: top;\n",
       "    }\n",
       "\n",
       "    .dataframe thead th {\n",
       "        text-align: right;\n",
       "    }\n",
       "</style>\n",
       "<table border=\"1\" class=\"dataframe\">\n",
       "  <thead>\n",
       "    <tr style=\"text-align: right;\">\n",
       "      <th></th>\n",
       "      <th>user_id</th>\n",
       "      <th>name</th>\n",
       "      <th>age</th>\n",
       "      <th>city</th>\n",
       "      <th>subscription_type</th>\n",
       "      <th>distance</th>\n",
       "      <th>duration</th>\n",
       "      <th>date</th>\n",
       "      <th>month</th>\n",
       "      <th>minute_price</th>\n",
       "      <th>start_ride_price</th>\n",
       "      <th>subscription_fee</th>\n",
       "    </tr>\n",
       "  </thead>\n",
       "  <tbody>\n",
       "    <tr>\n",
       "      <th>0</th>\n",
       "      <td>1</td>\n",
       "      <td>Кира</td>\n",
       "      <td>22</td>\n",
       "      <td>Тюмень</td>\n",
       "      <td>ultra</td>\n",
       "      <td>4409.919140</td>\n",
       "      <td>25.599769</td>\n",
       "      <td>2021-01-01</td>\n",
       "      <td>1</td>\n",
       "      <td>6</td>\n",
       "      <td>0</td>\n",
       "      <td>199</td>\n",
       "    </tr>\n",
       "    <tr>\n",
       "      <th>1</th>\n",
       "      <td>1</td>\n",
       "      <td>Кира</td>\n",
       "      <td>22</td>\n",
       "      <td>Тюмень</td>\n",
       "      <td>ultra</td>\n",
       "      <td>2617.592153</td>\n",
       "      <td>15.816871</td>\n",
       "      <td>2021-01-18</td>\n",
       "      <td>1</td>\n",
       "      <td>6</td>\n",
       "      <td>0</td>\n",
       "      <td>199</td>\n",
       "    </tr>\n",
       "    <tr>\n",
       "      <th>2</th>\n",
       "      <td>1</td>\n",
       "      <td>Кира</td>\n",
       "      <td>22</td>\n",
       "      <td>Тюмень</td>\n",
       "      <td>ultra</td>\n",
       "      <td>754.159807</td>\n",
       "      <td>6.232113</td>\n",
       "      <td>2021-04-20</td>\n",
       "      <td>4</td>\n",
       "      <td>6</td>\n",
       "      <td>0</td>\n",
       "      <td>199</td>\n",
       "    </tr>\n",
       "    <tr>\n",
       "      <th>3</th>\n",
       "      <td>1</td>\n",
       "      <td>Кира</td>\n",
       "      <td>22</td>\n",
       "      <td>Тюмень</td>\n",
       "      <td>ultra</td>\n",
       "      <td>2694.783254</td>\n",
       "      <td>18.511000</td>\n",
       "      <td>2021-08-11</td>\n",
       "      <td>8</td>\n",
       "      <td>6</td>\n",
       "      <td>0</td>\n",
       "      <td>199</td>\n",
       "    </tr>\n",
       "    <tr>\n",
       "      <th>4</th>\n",
       "      <td>1</td>\n",
       "      <td>Кира</td>\n",
       "      <td>22</td>\n",
       "      <td>Тюмень</td>\n",
       "      <td>ultra</td>\n",
       "      <td>4028.687306</td>\n",
       "      <td>26.265803</td>\n",
       "      <td>2021-08-28</td>\n",
       "      <td>8</td>\n",
       "      <td>6</td>\n",
       "      <td>0</td>\n",
       "      <td>199</td>\n",
       "    </tr>\n",
       "  </tbody>\n",
       "</table>\n",
       "</div>"
      ],
      "text/plain": [
       "   user_id  name  age    city subscription_type     distance   duration  \\\n",
       "0        1  Кира   22  Тюмень             ultra  4409.919140  25.599769   \n",
       "1        1  Кира   22  Тюмень             ultra  2617.592153  15.816871   \n",
       "2        1  Кира   22  Тюмень             ultra   754.159807   6.232113   \n",
       "3        1  Кира   22  Тюмень             ultra  2694.783254  18.511000   \n",
       "4        1  Кира   22  Тюмень             ultra  4028.687306  26.265803   \n",
       "\n",
       "        date  month  minute_price  start_ride_price  subscription_fee  \n",
       "0 2021-01-01      1             6                 0               199  \n",
       "1 2021-01-18      1             6                 0               199  \n",
       "2 2021-04-20      4             6                 0               199  \n",
       "3 2021-08-11      8             6                 0               199  \n",
       "4 2021-08-28      8             6                 0               199  "
      ]
     },
     "execution_count": 32,
     "metadata": {},
     "output_type": "execute_result"
    }
   ],
   "source": [
    "data_ultra = data[data['subscription_type'] == 'ultra']\n",
    "data_ultra.head()"
   ]
  },
  {
   "cell_type": "markdown",
   "id": "050fa593",
   "metadata": {},
   "source": [
    "##### Визуализируем информацию о расстоянии и времени поездок для пользователей обеих категорий\n",
    "* расстояние поездок пользователей с подпиской и без"
   ]
  },
  {
   "cell_type": "code",
   "execution_count": 33,
   "id": "477c8edb",
   "metadata": {},
   "outputs": [
    {
     "data": {
      "image/png": "[encoded data removed]",
      "text/plain": [
       "<Figure size 720x432 with 1 Axes>"
      ]
     },
     "metadata": {
      "needs_background": "light"
     },
     "output_type": "display_data"
    }
   ],
   "source": [
    "plt.figure(figsize=(10, 6))\n",
    "\n",
    "(\n",
    "plt.hist(data_free['distance'], \n",
    "         label='Без подписки', bins=200,\n",
    "          color='blue', alpha=0.6)\n",
    ")\n",
    "\n",
    "(\n",
    "plt.hist(data_ultra['distance'],\n",
    "    label='С подпиской', bins=200,\n",
    "    color='#AC1090', alpha=0.9)\n",
    ")\n",
    "\n",
    "plt.title('Распределение расстояний поездок пользователей', size=16)\n",
    "plt.xlabel('Расстояние поездок', size=14)\n",
    "plt.ylabel('Количество пользователей', size=14)\n",
    "plt.legend()\n",
    "plt.grid(True, linestyle='--', alpha=0.3)\n",
    "plt.show()"
   ]
  },
  {
   "cell_type": "code",
   "execution_count": 34,
   "id": "b55f0ad2",
   "metadata": {},
   "outputs": [
    {
     "data": {
      "text/plain": [
       "count    11568.000000\n",
       "mean      3045.495282\n",
       "std       1246.173806\n",
       "min          0.855683\n",
       "25%       2366.562689\n",
       "50%       3114.648465\n",
       "75%       3905.697894\n",
       "max       7211.007745\n",
       "Name: distance, dtype: float64"
      ]
     },
     "execution_count": 34,
     "metadata": {},
     "output_type": "execute_result"
    }
   ],
   "source": [
    "data_free['distance'].describe()"
   ]
  },
  {
   "cell_type": "code",
   "execution_count": 35,
   "id": "997ed79f",
   "metadata": {},
   "outputs": [
    {
     "data": {
      "text/plain": [
       "count    6500.000000\n",
       "mean     3115.445388\n",
       "std       836.895330\n",
       "min       244.210438\n",
       "25%      2785.444017\n",
       "50%      3148.637229\n",
       "75%      3560.574425\n",
       "max      5699.769662\n",
       "Name: distance, dtype: float64"
      ]
     },
     "execution_count": 35,
     "metadata": {},
     "output_type": "execute_result"
    }
   ],
   "source": [
    "data_ultra['distance'].describe()"
   ]
  },
  {
   "cell_type": "markdown",
   "id": "171b76d7",
   "metadata": {},
   "source": [
    "Медианное расстояние поездок пользователей без подписок 3114,6м. \n",
    "\n",
    "По графику мы видим три вершины, условно можно разделить данные на 3 группы.\n",
    "   * Можно предположить, что в выборке имеются данные различных групп пользователей:\n",
    "        * тех кто пользуется сервисом для поездки на работу и домой, для куръерских доставок (длинные расстояния);\n",
    "        * и тех кто катается в парке, на небольшие расстояния ради недолгих развлечений;\n",
    "        * различная инфраструктура городов также вносит свой вклад в значения расстояний"
   ]
  },
  {
   "cell_type": "markdown",
   "id": "99bf3338",
   "metadata": {},
   "source": [
    "Медианное расстояние поездок пользователей без подписок 3148,6м. \n",
    "\n",
    "По графику мы видим три вершины, условно можно разделить данные на 3 группы.\n",
    "   * Можно предположить, что в выборке имеются данные различных групп пользователей:\n",
    "        * тех кто пользуется сервисом для поездки на работу и домой, для куръерских доставок (длинные расстояния);\n",
    "        * и тех кто катается в парке, на небольшие расстояния ради недолгих развлечений;\n",
    "        * различная инфраструктура городов также вносит свой вклад в значения расстояний"
   ]
  },
  {
   "cell_type": "markdown",
   "id": "59d8bc5b",
   "metadata": {},
   "source": [
    "* время поездок пользователей без подписки"
   ]
  },
  {
   "cell_type": "code",
   "execution_count": 36,
   "id": "5a0c1b98",
   "metadata": {},
   "outputs": [
    {
     "data": {
      "image/png": "[encoded data removed]",
      "text/plain": [
       "<Figure size 720x432 with 1 Axes>"
      ]
     },
     "metadata": {
      "needs_background": "light"
     },
     "output_type": "display_data"
    }
   ],
   "source": [
    "plt.figure(figsize=(10, 6))\n",
    "\n",
    "(\n",
    "plt.hist(data_free['duration'], \n",
    "         bins=200, label='без подписки',\n",
    "          color='blue', alpha=0.6)\n",
    ")\n",
    "\n",
    "(\n",
    "plt.hist(data_ultra['duration'], \n",
    "         bins=200, label='без подписки',\n",
    "          color='green', alpha=0.6)\n",
    ")\n",
    "\n",
    "plt.title('Распределение продолжительности поездок пользователей с подпиской и без', size=13)\n",
    "plt.xlabel('Продолжительности поездок пользователей, мин', size=14)\n",
    "plt.ylabel('Количество пользователей', size=14)\n",
    "plt.legend()\n",
    "plt.grid(True, linestyle='--', alpha=0.6)\n",
    "plt.show()"
   ]
  },
  {
   "cell_type": "code",
   "execution_count": 37,
   "id": "f6e83926",
   "metadata": {},
   "outputs": [
    {
     "data": {
      "text/plain": [
       "count    11568.000000\n",
       "mean        17.390909\n",
       "std          6.326803\n",
       "min          0.500000\n",
       "25%         12.958437\n",
       "50%         17.326890\n",
       "75%         21.594071\n",
       "max         34.948498\n",
       "Name: duration, dtype: float64"
      ]
     },
     "execution_count": 37,
     "metadata": {},
     "output_type": "execute_result"
    }
   ],
   "source": [
    "data_free['duration'].describe()"
   ]
  },
  {
   "cell_type": "code",
   "execution_count": 38,
   "id": "d0f7ad06",
   "metadata": {},
   "outputs": [
    {
     "data": {
      "text/plain": [
       "count    6500.000000\n",
       "mean       18.541985\n",
       "std         5.572048\n",
       "min         3.760353\n",
       "25%        14.524654\n",
       "50%        18.178153\n",
       "75%        21.884129\n",
       "max        40.823963\n",
       "Name: duration, dtype: float64"
      ]
     },
     "execution_count": 38,
     "metadata": {},
     "output_type": "execute_result"
    }
   ],
   "source": [
    "data_ultra['duration'].describe()"
   ]
  },
  {
   "cell_type": "markdown",
   "id": "e80d0ebe",
   "metadata": {},
   "source": [
    "Оба распределения слегка скошены относительно центра, но все же близки к нормальному. Медианное значение продолжительности поездок без подписки составляет 17.32 мин, с подпиской 18.18 мин."
   ]
  },
  {
   "cell_type": "markdown",
   "id": "fbf4186a",
   "metadata": {},
   "source": [
    "**Промежуточный вывод**\n",
    "\n",
    "* Объединили первые два датафрейма по столбцу `user_id`, а с третьим по столбцу `subscription_type` и проверили данные после объединения;\n",
    "\n",
    "* Создали ещё два датафрейма из датафрейма, созданного на шаге 4.1:\n",
    "    * первый - c данными о пользователях без подписки;\n",
    "    * второй с данными о пользователях с подпиской\n",
    "\n",
    "* Визуализировали информацию о расстоянии и времени поездок для пользователей обеих категорий:\n",
    "    * расстояние поездок пользователей без подписок\n",
    "        * Медианное расстояние поездок пользователей без подписок 3114,6м. По графику мы видим три вершины, условно можно разделить данные на 3 группы.\n",
    "        * Можно предположить, что в выборке имеются данные различных групп пользователей:\n",
    "            * тех кто пользуется сервисом для поездки на работу и домой, для куръерских доставок (длинные расстояния);\n",
    "            * и тех кто катается в парке, на небольшие расстояния ради недолгих развлечений;\n",
    "            * различная инфраструктура городов также вносит свой вклад в значения расстояний\n",
    "    * время поездок пользователей без подписки:\n",
    "        * Распределение близко к нормальному. Медианное значение составляет 17,32мин\n",
    "    * расстояние поездок пользователей с подпиской:\n",
    "        * Медианное расстояние поездок пользователей без подписок 3148,6м. По графику мы видим три вершины, условно можно разделить данные на 3 группы.\n",
    "        * Можно предположить, что в выборке имеются данные различных групп пользователей:\n",
    "            * тех кто пользуется сервисом для поездки на работу и домой, для куръерских доставок (длинные расстояния);\n",
    "            * и тех кто катается в парке, на небольшие расстояния ради недолгих развлечений;\n",
    "            * различная инфраструктура городов также вносит свой вклад в значения расстояний\n",
    "    * время поездок пользователей без подписки:\n",
    "        * Распределение слегка скошено относительно центра, но все же близко к нормальному. Медианное значение составляет 18,18мин"
   ]
  },
  {
   "cell_type": "markdown",
   "id": "402d620f",
   "metadata": {},
   "source": [
    "#### Шаг 5. Подсчёт выручки"
   ]
  },
  {
   "cell_type": "markdown",
   "id": "00f06821",
   "metadata": {},
   "source": [
    "##### Создадим датафрейм с агрегированными данными о поездках на основе датафрейма с объединёнными данными из шага 4: \n",
    "- найдем:\n",
    "    * суммарное расстояние;\n",
    "    * количество поездок;\n",
    "    * суммарное время для каждого пользователя за каждый месяц"
   ]
  },
  {
   "cell_type": "code",
   "execution_count": 39,
   "id": "c80e69ab",
   "metadata": {},
   "outputs": [],
   "source": [
    "import numpy as np"
   ]
  },
  {
   "cell_type": "code",
   "execution_count": 40,
   "id": "53049e0a",
   "metadata": {},
   "outputs": [
    {
     "data": {
      "text/html": [
       "<div>\n",
       "<style scoped>\n",
       "    .dataframe tbody tr th:only-of-type {\n",
       "        vertical-align: middle;\n",
       "    }\n",
       "\n",
       "    .dataframe tbody tr th {\n",
       "        vertical-align: top;\n",
       "    }\n",
       "\n",
       "    .dataframe thead th {\n",
       "        text-align: right;\n",
       "    }\n",
       "</style>\n",
       "<table border=\"1\" class=\"dataframe\">\n",
       "  <thead>\n",
       "    <tr style=\"text-align: right;\">\n",
       "      <th></th>\n",
       "      <th>user_id</th>\n",
       "      <th>name</th>\n",
       "      <th>age</th>\n",
       "      <th>city</th>\n",
       "      <th>subscription_type</th>\n",
       "      <th>distance</th>\n",
       "      <th>duration</th>\n",
       "      <th>date</th>\n",
       "      <th>month</th>\n",
       "      <th>minute_price</th>\n",
       "      <th>start_ride_price</th>\n",
       "      <th>subscription_fee</th>\n",
       "    </tr>\n",
       "  </thead>\n",
       "  <tbody>\n",
       "    <tr>\n",
       "      <th>0</th>\n",
       "      <td>1</td>\n",
       "      <td>Кира</td>\n",
       "      <td>22</td>\n",
       "      <td>Тюмень</td>\n",
       "      <td>ultra</td>\n",
       "      <td>4409.919140</td>\n",
       "      <td>25.599769</td>\n",
       "      <td>2021-01-01</td>\n",
       "      <td>1</td>\n",
       "      <td>6</td>\n",
       "      <td>0</td>\n",
       "      <td>199</td>\n",
       "    </tr>\n",
       "    <tr>\n",
       "      <th>1</th>\n",
       "      <td>1</td>\n",
       "      <td>Кира</td>\n",
       "      <td>22</td>\n",
       "      <td>Тюмень</td>\n",
       "      <td>ultra</td>\n",
       "      <td>2617.592153</td>\n",
       "      <td>15.816871</td>\n",
       "      <td>2021-01-18</td>\n",
       "      <td>1</td>\n",
       "      <td>6</td>\n",
       "      <td>0</td>\n",
       "      <td>199</td>\n",
       "    </tr>\n",
       "    <tr>\n",
       "      <th>2</th>\n",
       "      <td>1</td>\n",
       "      <td>Кира</td>\n",
       "      <td>22</td>\n",
       "      <td>Тюмень</td>\n",
       "      <td>ultra</td>\n",
       "      <td>754.159807</td>\n",
       "      <td>6.232113</td>\n",
       "      <td>2021-04-20</td>\n",
       "      <td>4</td>\n",
       "      <td>6</td>\n",
       "      <td>0</td>\n",
       "      <td>199</td>\n",
       "    </tr>\n",
       "    <tr>\n",
       "      <th>3</th>\n",
       "      <td>1</td>\n",
       "      <td>Кира</td>\n",
       "      <td>22</td>\n",
       "      <td>Тюмень</td>\n",
       "      <td>ultra</td>\n",
       "      <td>2694.783254</td>\n",
       "      <td>18.511000</td>\n",
       "      <td>2021-08-11</td>\n",
       "      <td>8</td>\n",
       "      <td>6</td>\n",
       "      <td>0</td>\n",
       "      <td>199</td>\n",
       "    </tr>\n",
       "    <tr>\n",
       "      <th>4</th>\n",
       "      <td>1</td>\n",
       "      <td>Кира</td>\n",
       "      <td>22</td>\n",
       "      <td>Тюмень</td>\n",
       "      <td>ultra</td>\n",
       "      <td>4028.687306</td>\n",
       "      <td>26.265803</td>\n",
       "      <td>2021-08-28</td>\n",
       "      <td>8</td>\n",
       "      <td>6</td>\n",
       "      <td>0</td>\n",
       "      <td>199</td>\n",
       "    </tr>\n",
       "  </tbody>\n",
       "</table>\n",
       "</div>"
      ],
      "text/plain": [
       "   user_id  name  age    city subscription_type     distance   duration  \\\n",
       "0        1  Кира   22  Тюмень             ultra  4409.919140  25.599769   \n",
       "1        1  Кира   22  Тюмень             ultra  2617.592153  15.816871   \n",
       "2        1  Кира   22  Тюмень             ultra   754.159807   6.232113   \n",
       "3        1  Кира   22  Тюмень             ultra  2694.783254  18.511000   \n",
       "4        1  Кира   22  Тюмень             ultra  4028.687306  26.265803   \n",
       "\n",
       "        date  month  minute_price  start_ride_price  subscription_fee  \n",
       "0 2021-01-01      1             6                 0               199  \n",
       "1 2021-01-18      1             6                 0               199  \n",
       "2 2021-04-20      4             6                 0               199  \n",
       "3 2021-08-11      8             6                 0               199  \n",
       "4 2021-08-28      8             6                 0               199  "
      ]
     },
     "execution_count": 40,
     "metadata": {},
     "output_type": "execute_result"
    }
   ],
   "source": [
    "data.head()"
   ]
  },
  {
   "cell_type": "code",
   "execution_count": 41,
   "id": "7d3d32f9",
   "metadata": {},
   "outputs": [
    {
     "data": {
      "text/html": [
       "<div>\n",
       "<style scoped>\n",
       "    .dataframe tbody tr th:only-of-type {\n",
       "        vertical-align: middle;\n",
       "    }\n",
       "\n",
       "    .dataframe tbody tr th {\n",
       "        vertical-align: top;\n",
       "    }\n",
       "\n",
       "    .dataframe thead th {\n",
       "        text-align: right;\n",
       "    }\n",
       "</style>\n",
       "<table border=\"1\" class=\"dataframe\">\n",
       "  <thead>\n",
       "    <tr style=\"text-align: right;\">\n",
       "      <th></th>\n",
       "      <th>user_id</th>\n",
       "      <th>name</th>\n",
       "      <th>age</th>\n",
       "      <th>city</th>\n",
       "      <th>subscription_type</th>\n",
       "      <th>distance</th>\n",
       "      <th>duration</th>\n",
       "      <th>date</th>\n",
       "      <th>month</th>\n",
       "      <th>minute_price</th>\n",
       "      <th>start_ride_price</th>\n",
       "      <th>subscription_fee</th>\n",
       "    </tr>\n",
       "  </thead>\n",
       "  <tbody>\n",
       "    <tr>\n",
       "      <th>0</th>\n",
       "      <td>1</td>\n",
       "      <td>Кира</td>\n",
       "      <td>22</td>\n",
       "      <td>Тюмень</td>\n",
       "      <td>ultra</td>\n",
       "      <td>4409.919140</td>\n",
       "      <td>26.0</td>\n",
       "      <td>2021-01-01</td>\n",
       "      <td>1</td>\n",
       "      <td>6</td>\n",
       "      <td>0</td>\n",
       "      <td>199</td>\n",
       "    </tr>\n",
       "    <tr>\n",
       "      <th>1</th>\n",
       "      <td>1</td>\n",
       "      <td>Кира</td>\n",
       "      <td>22</td>\n",
       "      <td>Тюмень</td>\n",
       "      <td>ultra</td>\n",
       "      <td>2617.592153</td>\n",
       "      <td>16.0</td>\n",
       "      <td>2021-01-18</td>\n",
       "      <td>1</td>\n",
       "      <td>6</td>\n",
       "      <td>0</td>\n",
       "      <td>199</td>\n",
       "    </tr>\n",
       "    <tr>\n",
       "      <th>2</th>\n",
       "      <td>1</td>\n",
       "      <td>Кира</td>\n",
       "      <td>22</td>\n",
       "      <td>Тюмень</td>\n",
       "      <td>ultra</td>\n",
       "      <td>754.159807</td>\n",
       "      <td>7.0</td>\n",
       "      <td>2021-04-20</td>\n",
       "      <td>4</td>\n",
       "      <td>6</td>\n",
       "      <td>0</td>\n",
       "      <td>199</td>\n",
       "    </tr>\n",
       "    <tr>\n",
       "      <th>3</th>\n",
       "      <td>1</td>\n",
       "      <td>Кира</td>\n",
       "      <td>22</td>\n",
       "      <td>Тюмень</td>\n",
       "      <td>ultra</td>\n",
       "      <td>2694.783254</td>\n",
       "      <td>19.0</td>\n",
       "      <td>2021-08-11</td>\n",
       "      <td>8</td>\n",
       "      <td>6</td>\n",
       "      <td>0</td>\n",
       "      <td>199</td>\n",
       "    </tr>\n",
       "    <tr>\n",
       "      <th>4</th>\n",
       "      <td>1</td>\n",
       "      <td>Кира</td>\n",
       "      <td>22</td>\n",
       "      <td>Тюмень</td>\n",
       "      <td>ultra</td>\n",
       "      <td>4028.687306</td>\n",
       "      <td>27.0</td>\n",
       "      <td>2021-08-28</td>\n",
       "      <td>8</td>\n",
       "      <td>6</td>\n",
       "      <td>0</td>\n",
       "      <td>199</td>\n",
       "    </tr>\n",
       "  </tbody>\n",
       "</table>\n",
       "</div>"
      ],
      "text/plain": [
       "   user_id  name  age    city subscription_type     distance  duration  \\\n",
       "0        1  Кира   22  Тюмень             ultra  4409.919140      26.0   \n",
       "1        1  Кира   22  Тюмень             ultra  2617.592153      16.0   \n",
       "2        1  Кира   22  Тюмень             ultra   754.159807       7.0   \n",
       "3        1  Кира   22  Тюмень             ultra  2694.783254      19.0   \n",
       "4        1  Кира   22  Тюмень             ultra  4028.687306      27.0   \n",
       "\n",
       "        date  month  minute_price  start_ride_price  subscription_fee  \n",
       "0 2021-01-01      1             6                 0               199  \n",
       "1 2021-01-18      1             6                 0               199  \n",
       "2 2021-04-20      4             6                 0               199  \n",
       "3 2021-08-11      8             6                 0               199  \n",
       "4 2021-08-28      8             6                 0               199  "
      ]
     },
     "execution_count": 41,
     "metadata": {},
     "output_type": "execute_result"
    }
   ],
   "source": [
    "data['duration'] = np.ceil(data['duration'])\n",
    "data.head()"
   ]
  },
  {
   "cell_type": "code",
   "execution_count": 42,
   "id": "155c5b6a",
   "metadata": {},
   "outputs": [
    {
     "data": {
      "text/html": [
       "<div>\n",
       "<style scoped>\n",
       "    .dataframe tbody tr th:only-of-type {\n",
       "        vertical-align: middle;\n",
       "    }\n",
       "\n",
       "    .dataframe tbody tr th {\n",
       "        vertical-align: top;\n",
       "    }\n",
       "\n",
       "    .dataframe thead tr th {\n",
       "        text-align: left;\n",
       "    }\n",
       "</style>\n",
       "<table border=\"1\" class=\"dataframe\">\n",
       "  <thead>\n",
       "    <tr>\n",
       "      <th></th>\n",
       "      <th>user_id</th>\n",
       "      <th>month</th>\n",
       "      <th>subscription_type</th>\n",
       "      <th>distance</th>\n",
       "      <th colspan=\"2\" halign=\"left\">duration</th>\n",
       "    </tr>\n",
       "    <tr>\n",
       "      <th></th>\n",
       "      <th></th>\n",
       "      <th></th>\n",
       "      <th></th>\n",
       "      <th>sum</th>\n",
       "      <th>sum</th>\n",
       "      <th>size</th>\n",
       "    </tr>\n",
       "  </thead>\n",
       "  <tbody>\n",
       "    <tr>\n",
       "      <th>0</th>\n",
       "      <td>1</td>\n",
       "      <td>1</td>\n",
       "      <td>ultra</td>\n",
       "      <td>7027.511294</td>\n",
       "      <td>42.0</td>\n",
       "      <td>2</td>\n",
       "    </tr>\n",
       "    <tr>\n",
       "      <th>1</th>\n",
       "      <td>1</td>\n",
       "      <td>4</td>\n",
       "      <td>ultra</td>\n",
       "      <td>754.159807</td>\n",
       "      <td>7.0</td>\n",
       "      <td>1</td>\n",
       "    </tr>\n",
       "    <tr>\n",
       "      <th>2</th>\n",
       "      <td>1</td>\n",
       "      <td>8</td>\n",
       "      <td>ultra</td>\n",
       "      <td>6723.470560</td>\n",
       "      <td>46.0</td>\n",
       "      <td>2</td>\n",
       "    </tr>\n",
       "    <tr>\n",
       "      <th>3</th>\n",
       "      <td>1</td>\n",
       "      <td>10</td>\n",
       "      <td>ultra</td>\n",
       "      <td>5809.911100</td>\n",
       "      <td>32.0</td>\n",
       "      <td>2</td>\n",
       "    </tr>\n",
       "    <tr>\n",
       "      <th>4</th>\n",
       "      <td>1</td>\n",
       "      <td>11</td>\n",
       "      <td>ultra</td>\n",
       "      <td>7003.499363</td>\n",
       "      <td>56.0</td>\n",
       "      <td>3</td>\n",
       "    </tr>\n",
       "  </tbody>\n",
       "</table>\n",
       "</div>"
      ],
      "text/plain": [
       "  user_id month subscription_type     distance duration     \n",
       "                                           sum      sum size\n",
       "0       1     1             ultra  7027.511294     42.0    2\n",
       "1       1     4             ultra   754.159807      7.0    1\n",
       "2       1     8             ultra  6723.470560     46.0    2\n",
       "3       1    10             ultra  5809.911100     32.0    2\n",
       "4       1    11             ultra  7003.499363     56.0    3"
      ]
     },
     "execution_count": 42,
     "metadata": {},
     "output_type": "execute_result"
    }
   ],
   "source": [
    "sum_df = (\n",
    "    data.groupby(['user_id', 'month', 'subscription_type'])\n",
    "    .agg({'distance':'sum', \n",
    "          'duration':['sum', 'size']})\n",
    "    .reset_index()\n",
    ")\n",
    "sum_df.head()"
   ]
  },
  {
   "cell_type": "code",
   "execution_count": 43,
   "id": "52c18ca0",
   "metadata": {},
   "outputs": [
    {
     "data": {
      "text/html": [
       "<div>\n",
       "<style scoped>\n",
       "    .dataframe tbody tr th:only-of-type {\n",
       "        vertical-align: middle;\n",
       "    }\n",
       "\n",
       "    .dataframe tbody tr th {\n",
       "        vertical-align: top;\n",
       "    }\n",
       "\n",
       "    .dataframe thead th {\n",
       "        text-align: right;\n",
       "    }\n",
       "</style>\n",
       "<table border=\"1\" class=\"dataframe\">\n",
       "  <thead>\n",
       "    <tr style=\"text-align: right;\">\n",
       "      <th></th>\n",
       "      <th>user_id</th>\n",
       "      <th>month</th>\n",
       "      <th>subscription_type</th>\n",
       "      <th>distance_sum</th>\n",
       "      <th>duration_sum</th>\n",
       "      <th>count</th>\n",
       "    </tr>\n",
       "  </thead>\n",
       "  <tbody>\n",
       "    <tr>\n",
       "      <th>0</th>\n",
       "      <td>1</td>\n",
       "      <td>1</td>\n",
       "      <td>ultra</td>\n",
       "      <td>7027.511294</td>\n",
       "      <td>42.0</td>\n",
       "      <td>2</td>\n",
       "    </tr>\n",
       "    <tr>\n",
       "      <th>1</th>\n",
       "      <td>1</td>\n",
       "      <td>4</td>\n",
       "      <td>ultra</td>\n",
       "      <td>754.159807</td>\n",
       "      <td>7.0</td>\n",
       "      <td>1</td>\n",
       "    </tr>\n",
       "    <tr>\n",
       "      <th>2</th>\n",
       "      <td>1</td>\n",
       "      <td>8</td>\n",
       "      <td>ultra</td>\n",
       "      <td>6723.470560</td>\n",
       "      <td>46.0</td>\n",
       "      <td>2</td>\n",
       "    </tr>\n",
       "    <tr>\n",
       "      <th>3</th>\n",
       "      <td>1</td>\n",
       "      <td>10</td>\n",
       "      <td>ultra</td>\n",
       "      <td>5809.911100</td>\n",
       "      <td>32.0</td>\n",
       "      <td>2</td>\n",
       "    </tr>\n",
       "    <tr>\n",
       "      <th>4</th>\n",
       "      <td>1</td>\n",
       "      <td>11</td>\n",
       "      <td>ultra</td>\n",
       "      <td>7003.499363</td>\n",
       "      <td>56.0</td>\n",
       "      <td>3</td>\n",
       "    </tr>\n",
       "  </tbody>\n",
       "</table>\n",
       "</div>"
      ],
      "text/plain": [
       "   user_id  month subscription_type  distance_sum  duration_sum  count\n",
       "0        1      1             ultra   7027.511294          42.0      2\n",
       "1        1      4             ultra    754.159807           7.0      1\n",
       "2        1      8             ultra   6723.470560          46.0      2\n",
       "3        1     10             ultra   5809.911100          32.0      2\n",
       "4        1     11             ultra   7003.499363          56.0      3"
      ]
     },
     "execution_count": 43,
     "metadata": {},
     "output_type": "execute_result"
    }
   ],
   "source": [
    "sum_df.columns = ['user_id','month', 'subscription_type', 'distance_sum', 'duration_sum', 'count']\n",
    "sum_df.head()"
   ]
  },
  {
   "cell_type": "markdown",
   "id": "7f599580",
   "metadata": {},
   "source": [
    "##### В этот же датафрейм добавим столбец с помесячной выручкой, которую принёс каждый пользователь. \n",
    "\n",
    "* Для этого обратимся к информации об условиях оплаты для подписчиков и тех, у кого нет подписки. Продолжительность каждой поездки в каждой строке исходного датафрейма для подсчёта стоимости округлим до следующего целого числа"
   ]
  },
  {
   "cell_type": "code",
   "execution_count": 44,
   "id": "adbe5ed8",
   "metadata": {},
   "outputs": [
    {
     "data": {
      "text/html": [
       "<div>\n",
       "<style scoped>\n",
       "    .dataframe tbody tr th:only-of-type {\n",
       "        vertical-align: middle;\n",
       "    }\n",
       "\n",
       "    .dataframe tbody tr th {\n",
       "        vertical-align: top;\n",
       "    }\n",
       "\n",
       "    .dataframe thead th {\n",
       "        text-align: right;\n",
       "    }\n",
       "</style>\n",
       "<table border=\"1\" class=\"dataframe\">\n",
       "  <thead>\n",
       "    <tr style=\"text-align: right;\">\n",
       "      <th></th>\n",
       "      <th>user_id</th>\n",
       "      <th>month</th>\n",
       "      <th>subscription_type</th>\n",
       "      <th>distance_sum</th>\n",
       "      <th>duration_sum</th>\n",
       "      <th>count</th>\n",
       "    </tr>\n",
       "  </thead>\n",
       "  <tbody>\n",
       "    <tr>\n",
       "      <th>0</th>\n",
       "      <td>1</td>\n",
       "      <td>1</td>\n",
       "      <td>ultra</td>\n",
       "      <td>7027.511294</td>\n",
       "      <td>42.0</td>\n",
       "      <td>2</td>\n",
       "    </tr>\n",
       "    <tr>\n",
       "      <th>1</th>\n",
       "      <td>1</td>\n",
       "      <td>4</td>\n",
       "      <td>ultra</td>\n",
       "      <td>754.159807</td>\n",
       "      <td>7.0</td>\n",
       "      <td>1</td>\n",
       "    </tr>\n",
       "    <tr>\n",
       "      <th>2</th>\n",
       "      <td>1</td>\n",
       "      <td>8</td>\n",
       "      <td>ultra</td>\n",
       "      <td>6723.470560</td>\n",
       "      <td>46.0</td>\n",
       "      <td>2</td>\n",
       "    </tr>\n",
       "    <tr>\n",
       "      <th>3</th>\n",
       "      <td>1</td>\n",
       "      <td>10</td>\n",
       "      <td>ultra</td>\n",
       "      <td>5809.911100</td>\n",
       "      <td>32.0</td>\n",
       "      <td>2</td>\n",
       "    </tr>\n",
       "    <tr>\n",
       "      <th>4</th>\n",
       "      <td>1</td>\n",
       "      <td>11</td>\n",
       "      <td>ultra</td>\n",
       "      <td>7003.499363</td>\n",
       "      <td>56.0</td>\n",
       "      <td>3</td>\n",
       "    </tr>\n",
       "  </tbody>\n",
       "</table>\n",
       "</div>"
      ],
      "text/plain": [
       "   user_id  month subscription_type  distance_sum  duration_sum  count\n",
       "0        1      1             ultra   7027.511294          42.0      2\n",
       "1        1      4             ultra    754.159807           7.0      1\n",
       "2        1      8             ultra   6723.470560          46.0      2\n",
       "3        1     10             ultra   5809.911100          32.0      2\n",
       "4        1     11             ultra   7003.499363          56.0      3"
      ]
     },
     "execution_count": 44,
     "metadata": {},
     "output_type": "execute_result"
    }
   ],
   "source": [
    "#sum_df['duration_sum'] = np.ceil(sum_df['duration_sum'])\n",
    "sum_df.head()"
   ]
  },
  {
   "cell_type": "markdown",
   "id": "0f82fb6f",
   "metadata": {},
   "source": [
    "* добавим столбец с помесячной выручкой, которую принёс каждый пользователь"
   ]
  },
  {
   "cell_type": "code",
   "execution_count": 45,
   "id": "21d9e0a5",
   "metadata": {},
   "outputs": [
    {
     "data": {
      "text/html": [
       "<div>\n",
       "<style scoped>\n",
       "    .dataframe tbody tr th:only-of-type {\n",
       "        vertical-align: middle;\n",
       "    }\n",
       "\n",
       "    .dataframe tbody tr th {\n",
       "        vertical-align: top;\n",
       "    }\n",
       "\n",
       "    .dataframe thead th {\n",
       "        text-align: right;\n",
       "    }\n",
       "</style>\n",
       "<table border=\"1\" class=\"dataframe\">\n",
       "  <thead>\n",
       "    <tr style=\"text-align: right;\">\n",
       "      <th></th>\n",
       "      <th>user_id</th>\n",
       "      <th>month</th>\n",
       "      <th>subscription_type</th>\n",
       "      <th>distance_sum</th>\n",
       "      <th>duration_sum</th>\n",
       "      <th>count</th>\n",
       "      <th>multiplier</th>\n",
       "      <th>revenue</th>\n",
       "    </tr>\n",
       "  </thead>\n",
       "  <tbody>\n",
       "    <tr>\n",
       "      <th>0</th>\n",
       "      <td>1</td>\n",
       "      <td>1</td>\n",
       "      <td>ultra</td>\n",
       "      <td>7027.511294</td>\n",
       "      <td>42.0</td>\n",
       "      <td>2</td>\n",
       "      <td>100</td>\n",
       "      <td>NaN</td>\n",
       "    </tr>\n",
       "    <tr>\n",
       "      <th>1</th>\n",
       "      <td>1</td>\n",
       "      <td>4</td>\n",
       "      <td>ultra</td>\n",
       "      <td>754.159807</td>\n",
       "      <td>7.0</td>\n",
       "      <td>1</td>\n",
       "      <td>50</td>\n",
       "      <td>NaN</td>\n",
       "    </tr>\n",
       "    <tr>\n",
       "      <th>2</th>\n",
       "      <td>1</td>\n",
       "      <td>8</td>\n",
       "      <td>ultra</td>\n",
       "      <td>6723.470560</td>\n",
       "      <td>46.0</td>\n",
       "      <td>2</td>\n",
       "      <td>100</td>\n",
       "      <td>NaN</td>\n",
       "    </tr>\n",
       "    <tr>\n",
       "      <th>3</th>\n",
       "      <td>1</td>\n",
       "      <td>10</td>\n",
       "      <td>ultra</td>\n",
       "      <td>5809.911100</td>\n",
       "      <td>32.0</td>\n",
       "      <td>2</td>\n",
       "      <td>100</td>\n",
       "      <td>NaN</td>\n",
       "    </tr>\n",
       "    <tr>\n",
       "      <th>4</th>\n",
       "      <td>1</td>\n",
       "      <td>11</td>\n",
       "      <td>ultra</td>\n",
       "      <td>7003.499363</td>\n",
       "      <td>56.0</td>\n",
       "      <td>3</td>\n",
       "      <td>150</td>\n",
       "      <td>NaN</td>\n",
       "    </tr>\n",
       "  </tbody>\n",
       "</table>\n",
       "</div>"
      ],
      "text/plain": [
       "   user_id  month subscription_type  distance_sum  duration_sum  count  \\\n",
       "0        1      1             ultra   7027.511294          42.0      2   \n",
       "1        1      4             ultra    754.159807           7.0      1   \n",
       "2        1      8             ultra   6723.470560          46.0      2   \n",
       "3        1     10             ultra   5809.911100          32.0      2   \n",
       "4        1     11             ultra   7003.499363          56.0      3   \n",
       "\n",
       "   multiplier  revenue  \n",
       "0         100      NaN  \n",
       "1          50      NaN  \n",
       "2         100      NaN  \n",
       "3         100      NaN  \n",
       "4         150      NaN  "
      ]
     },
     "execution_count": 45,
     "metadata": {},
     "output_type": "execute_result"
    }
   ],
   "source": [
    "free_price = (\n",
    "    data_subscriptions\n",
    "    .loc[data_subscriptions['subscription_type'] == 'free',\n",
    "         'minute_price'].item()\n",
    ")\n",
    "\n",
    "mask_free = (sum_df['subscription_type'] == 'free')\n",
    "sum_df['multiplier'] = 50 * sum_df['count']\n",
    "sum_df.loc[mask_free, 'revenue'] = (\n",
    "    sum_df[mask_free].groupby(['user_id', 'month'])['duration_sum']\n",
    "    .transform(lambda x: x * free_price) + sum_df.loc[mask_free, 'multiplier']\n",
    ")\n",
    "\n",
    "sum_df.head()"
   ]
  },
  {
   "cell_type": "code",
   "execution_count": 46,
   "id": "6e479b29",
   "metadata": {},
   "outputs": [
    {
     "data": {
      "text/html": [
       "<div>\n",
       "<style scoped>\n",
       "    .dataframe tbody tr th:only-of-type {\n",
       "        vertical-align: middle;\n",
       "    }\n",
       "\n",
       "    .dataframe tbody tr th {\n",
       "        vertical-align: top;\n",
       "    }\n",
       "\n",
       "    .dataframe thead th {\n",
       "        text-align: right;\n",
       "    }\n",
       "</style>\n",
       "<table border=\"1\" class=\"dataframe\">\n",
       "  <thead>\n",
       "    <tr style=\"text-align: right;\">\n",
       "      <th></th>\n",
       "      <th>user_id</th>\n",
       "      <th>month</th>\n",
       "      <th>subscription_type</th>\n",
       "      <th>distance_sum</th>\n",
       "      <th>duration_sum</th>\n",
       "      <th>count</th>\n",
       "      <th>multiplier</th>\n",
       "      <th>revenue</th>\n",
       "    </tr>\n",
       "  </thead>\n",
       "  <tbody>\n",
       "    <tr>\n",
       "      <th>11326</th>\n",
       "      <td>1534</td>\n",
       "      <td>6</td>\n",
       "      <td>free</td>\n",
       "      <td>3409.468534</td>\n",
       "      <td>26.0</td>\n",
       "      <td>2</td>\n",
       "      <td>100</td>\n",
       "      <td>308.0</td>\n",
       "    </tr>\n",
       "    <tr>\n",
       "      <th>11327</th>\n",
       "      <td>1534</td>\n",
       "      <td>8</td>\n",
       "      <td>free</td>\n",
       "      <td>7622.453034</td>\n",
       "      <td>48.0</td>\n",
       "      <td>2</td>\n",
       "      <td>100</td>\n",
       "      <td>484.0</td>\n",
       "    </tr>\n",
       "    <tr>\n",
       "      <th>11328</th>\n",
       "      <td>1534</td>\n",
       "      <td>9</td>\n",
       "      <td>free</td>\n",
       "      <td>4928.173852</td>\n",
       "      <td>23.0</td>\n",
       "      <td>1</td>\n",
       "      <td>50</td>\n",
       "      <td>234.0</td>\n",
       "    </tr>\n",
       "    <tr>\n",
       "      <th>11329</th>\n",
       "      <td>1534</td>\n",
       "      <td>11</td>\n",
       "      <td>free</td>\n",
       "      <td>13350.015305</td>\n",
       "      <td>78.0</td>\n",
       "      <td>4</td>\n",
       "      <td>200</td>\n",
       "      <td>824.0</td>\n",
       "    </tr>\n",
       "    <tr>\n",
       "      <th>11330</th>\n",
       "      <td>1534</td>\n",
       "      <td>12</td>\n",
       "      <td>free</td>\n",
       "      <td>2371.711192</td>\n",
       "      <td>16.0</td>\n",
       "      <td>1</td>\n",
       "      <td>50</td>\n",
       "      <td>178.0</td>\n",
       "    </tr>\n",
       "  </tbody>\n",
       "</table>\n",
       "</div>"
      ],
      "text/plain": [
       "       user_id  month subscription_type  distance_sum  duration_sum  count  \\\n",
       "11326     1534      6              free   3409.468534          26.0      2   \n",
       "11327     1534      8              free   7622.453034          48.0      2   \n",
       "11328     1534      9              free   4928.173852          23.0      1   \n",
       "11329     1534     11              free  13350.015305          78.0      4   \n",
       "11330     1534     12              free   2371.711192          16.0      1   \n",
       "\n",
       "       multiplier  revenue  \n",
       "11326         100    308.0  \n",
       "11327         100    484.0  \n",
       "11328          50    234.0  \n",
       "11329         200    824.0  \n",
       "11330          50    178.0  "
      ]
     },
     "execution_count": 46,
     "metadata": {},
     "output_type": "execute_result"
    }
   ],
   "source": [
    "sum_df.tail()"
   ]
  },
  {
   "cell_type": "code",
   "execution_count": 47,
   "id": "b3b72aa3",
   "metadata": {
    "scrolled": true
   },
   "outputs": [
    {
     "data": {
      "text/html": [
       "<div>\n",
       "<style scoped>\n",
       "    .dataframe tbody tr th:only-of-type {\n",
       "        vertical-align: middle;\n",
       "    }\n",
       "\n",
       "    .dataframe tbody tr th {\n",
       "        vertical-align: top;\n",
       "    }\n",
       "\n",
       "    .dataframe thead th {\n",
       "        text-align: right;\n",
       "    }\n",
       "</style>\n",
       "<table border=\"1\" class=\"dataframe\">\n",
       "  <thead>\n",
       "    <tr style=\"text-align: right;\">\n",
       "      <th></th>\n",
       "      <th>user_id</th>\n",
       "      <th>month</th>\n",
       "      <th>subscription_type</th>\n",
       "      <th>distance_sum</th>\n",
       "      <th>duration_sum</th>\n",
       "      <th>count</th>\n",
       "      <th>multiplier</th>\n",
       "      <th>revenue</th>\n",
       "    </tr>\n",
       "  </thead>\n",
       "  <tbody>\n",
       "    <tr>\n",
       "      <th>0</th>\n",
       "      <td>1</td>\n",
       "      <td>1</td>\n",
       "      <td>ultra</td>\n",
       "      <td>7027.511294</td>\n",
       "      <td>42.0</td>\n",
       "      <td>2</td>\n",
       "      <td>100</td>\n",
       "      <td>451.0</td>\n",
       "    </tr>\n",
       "    <tr>\n",
       "      <th>1</th>\n",
       "      <td>1</td>\n",
       "      <td>4</td>\n",
       "      <td>ultra</td>\n",
       "      <td>754.159807</td>\n",
       "      <td>7.0</td>\n",
       "      <td>1</td>\n",
       "      <td>50</td>\n",
       "      <td>241.0</td>\n",
       "    </tr>\n",
       "    <tr>\n",
       "      <th>2</th>\n",
       "      <td>1</td>\n",
       "      <td>8</td>\n",
       "      <td>ultra</td>\n",
       "      <td>6723.470560</td>\n",
       "      <td>46.0</td>\n",
       "      <td>2</td>\n",
       "      <td>100</td>\n",
       "      <td>475.0</td>\n",
       "    </tr>\n",
       "    <tr>\n",
       "      <th>3</th>\n",
       "      <td>1</td>\n",
       "      <td>10</td>\n",
       "      <td>ultra</td>\n",
       "      <td>5809.911100</td>\n",
       "      <td>32.0</td>\n",
       "      <td>2</td>\n",
       "      <td>100</td>\n",
       "      <td>391.0</td>\n",
       "    </tr>\n",
       "    <tr>\n",
       "      <th>4</th>\n",
       "      <td>1</td>\n",
       "      <td>11</td>\n",
       "      <td>ultra</td>\n",
       "      <td>7003.499363</td>\n",
       "      <td>56.0</td>\n",
       "      <td>3</td>\n",
       "      <td>150</td>\n",
       "      <td>535.0</td>\n",
       "    </tr>\n",
       "  </tbody>\n",
       "</table>\n",
       "</div>"
      ],
      "text/plain": [
       "   user_id  month subscription_type  distance_sum  duration_sum  count  \\\n",
       "0        1      1             ultra   7027.511294          42.0      2   \n",
       "1        1      4             ultra    754.159807           7.0      1   \n",
       "2        1      8             ultra   6723.470560          46.0      2   \n",
       "3        1     10             ultra   5809.911100          32.0      2   \n",
       "4        1     11             ultra   7003.499363          56.0      3   \n",
       "\n",
       "   multiplier  revenue  \n",
       "0         100    451.0  \n",
       "1          50    241.0  \n",
       "2         100    475.0  \n",
       "3         100    391.0  \n",
       "4         150    535.0  "
      ]
     },
     "execution_count": 47,
     "metadata": {},
     "output_type": "execute_result"
    }
   ],
   "source": [
    "ultra_price = (\n",
    "    data_subscriptions\n",
    "    .loc[data_subscriptions['subscription_type'] == 'ultra',\n",
    "         'minute_price'].item()\n",
    ")\n",
    "\n",
    "mask_ultra = (sum_df['subscription_type'] == 'ultra')\n",
    "\n",
    "sum_df.loc[mask_ultra, 'revenue'] = (\n",
    "    sum_df[mask_ultra].groupby(['user_id', 'month'])['duration_sum']\n",
    "    .transform(lambda x: x * ultra_price + 199)\n",
    ")\n",
    "\n",
    "sum_df.head()"
   ]
  },
  {
   "cell_type": "markdown",
   "id": "5f2298fe",
   "metadata": {},
   "source": [
    "**Промежуточный вывод**\n",
    "\n",
    "* продолжительность каждой поездки в каждой строке исходного датафрейма для подсчёта стоимости округлили до следующего целого числа;\n",
    "* создали датафрейм с агрегированными данными о поездках на основе датафрейма с объединёнными данными на этапе 4:\n",
    "    * суммарное расстояние, количество поездок и суммарное время для каждого пользователя за каждый месяц\n",
    "* в этот же датафрейм добавили столбец с помесячной выручкой, которую принёс каждый пользователь"
   ]
  },
  {
   "cell_type": "markdown",
   "id": "41545ac0",
   "metadata": {},
   "source": [
    "#### Шаг 6. Проверка гипотез"
   ]
  },
  {
   "cell_type": "markdown",
   "id": "7886be1a",
   "metadata": {},
   "source": [
    "##### Продакт-менеджеры сервиса хотят увеличить количество пользователей с подпиской. Для этого они будут проводить различные акции, но сначала нужно выяснить несколько важных моментов.\n",
    "\n",
    "* Важно понять, тратят ли пользователи с подпиской больше времени на поездки? Если да, то пользователи с подпиской могут быть «выгоднее» для компании. Проверим гипотезу. Используем исходные данные о продолжительности каждой сессии — отдельно для подписчиков и тех, у кого нет подписки."
   ]
  },
  {
   "cell_type": "code",
   "execution_count": 48,
   "id": "23ea867b",
   "metadata": {},
   "outputs": [],
   "source": [
    "from scipy import stats as st"
   ]
  },
  {
   "cell_type": "code",
   "execution_count": 49,
   "id": "3d89073d",
   "metadata": {},
   "outputs": [
    {
     "data": {
      "text/plain": [
       "11568"
      ]
     },
     "execution_count": 49,
     "metadata": {},
     "output_type": "execute_result"
    }
   ],
   "source": [
    "len(data_free)"
   ]
  },
  {
   "cell_type": "code",
   "execution_count": 50,
   "id": "50af9178",
   "metadata": {},
   "outputs": [
    {
     "data": {
      "text/plain": [
       "6500"
      ]
     },
     "execution_count": 50,
     "metadata": {},
     "output_type": "execute_result"
    }
   ],
   "source": [
    "len(data_ultra)"
   ]
  },
  {
   "cell_type": "markdown",
   "id": "d57f54ca",
   "metadata": {},
   "source": [
    "Используем проверку гипотезы о равенстве средних двух генеральных совокупностей. За Но примем что средняя потраченного времени пользователей с подпиской и без равны, за альтернативную гипотезу Н1 - что средняя потраченного времени пользователей с подпиской по месяцам выше, чем пользователей без подписки."
   ]
  },
  {
   "cell_type": "code",
   "execution_count": 51,
   "id": "988b4002",
   "metadata": {},
   "outputs": [
    {
     "name": "stdout",
     "output_type": "stream",
     "text": [
      "p-значение: 5.6757813771289775e-37\n",
      "Отвергаем нулевую гипотезу\n"
     ]
    }
   ],
   "source": [
    "alpha = 0.05\n",
    "\n",
    "results = st.ttest_ind(data_ultra['duration'], data_free['duration'], equal_var=False, alternative='greater')\n",
    "\n",
    "print('p-значение:', results.pvalue)\n",
    "\n",
    "if results.pvalue < alpha:\n",
    "    print('Отвергаем нулевую гипотезу')\n",
    "else:\n",
    "    print('Не получилось отвергнуть нулевую гипотезу')"
   ]
  },
  {
   "cell_type": "markdown",
   "id": "58523fd1",
   "metadata": {},
   "source": [
    "Нулевая гипотеза о равенстве времени, которое тратят пользователи с подпиской и без не потвердилась, а дпополнительный параметр `alternative='greater'` нам говорит о том что пользователи с подпиской в среднем тратят больше времени на поездки."
   ]
  },
  {
   "cell_type": "markdown",
   "id": "5ec57195",
   "metadata": {},
   "source": [
    "##### Расстояние одной поездки в 3130 метров — оптимальное с точки зрения износа самоката. \n",
    "* Можно ли сказать, что среднее расстояние, которое проезжают пользователи с подпиской за одну поездку, не превышает 3130 метров? Проверим гипотезу и сделаем выводы"
   ]
  },
  {
   "cell_type": "markdown",
   "id": "8dbb61b3",
   "metadata": {},
   "source": [
    "Используем проверку односторонней гипотезы. За Но примем что среднее расстояние которое проезжают пользователи с подпиской за одну поездку равно 3130 метров, за альттернативную гипотезу Н1 примем это что среднее расстояние больше чем 3130 метров."
   ]
  },
  {
   "cell_type": "code",
   "execution_count": 52,
   "id": "1bae6c66",
   "metadata": {},
   "outputs": [
    {
     "name": "stdout",
     "output_type": "stream",
     "text": [
      "p-значение: 0.9195368847849785\n",
      "Не получилось отвергнуть нулевую гипотезу\n"
     ]
    }
   ],
   "source": [
    "interested_value = 3130\n",
    "\n",
    "alpha = 0.05\n",
    "\n",
    "results = st.ttest_1samp(data_ultra['distance'], interested_value, alternative='greater')\n",
    "\n",
    "print('p-значение:', results.pvalue)\n",
    "\n",
    "if results.pvalue < alpha:\n",
    "    print('Отвергаем нулевую гипотезу')\n",
    "else:\n",
    "    print('Не получилось отвергнуть нулевую гипотезу')"
   ]
  },
  {
   "cell_type": "markdown",
   "id": "56e0e934",
   "metadata": {},
   "source": [
    "Не получилось отвергнуть гипотезу Но, значит можно предположить что среднее которое проезжают пользователи с подпиской за одну поездку, не превышает 3130 метров."
   ]
  },
  {
   "cell_type": "markdown",
   "id": "f9ebe5e5",
   "metadata": {},
   "source": [
    "##### Проверим гипотезу о том, будет ли помесячная выручка от пользователей с подпиской по месяцам выше, чем выручка от пользователей без подписки."
   ]
  },
  {
   "cell_type": "code",
   "execution_count": 53,
   "id": "ff8b29dc",
   "metadata": {},
   "outputs": [
    {
     "data": {
      "text/plain": [
       "4533"
      ]
     },
     "execution_count": 53,
     "metadata": {},
     "output_type": "execute_result"
    }
   ],
   "source": [
    "len(sum_df.loc[sum_df['subscription_type'] == 'ultra', 'revenue'])"
   ]
  },
  {
   "cell_type": "code",
   "execution_count": 54,
   "id": "f2c62e96",
   "metadata": {},
   "outputs": [
    {
     "data": {
      "text/plain": [
       "6798"
      ]
     },
     "execution_count": 54,
     "metadata": {},
     "output_type": "execute_result"
    }
   ],
   "source": [
    "len(sum_df.loc[sum_df['subscription_type'] == 'free', 'revenue'])"
   ]
  },
  {
   "cell_type": "markdown",
   "id": "f89113ba",
   "metadata": {},
   "source": [
    "Используем проверку гипотезы о равенстве средних двух генеральных совокупностей. За Но примем что средняя помесячная выручка от пользователей с подпиской и без равны, за альтернативную гипотезу Н1 - что средняя выручка от пользователей с подпиской по месяцам выше, чем выручка от пользователей без подписки."
   ]
  },
  {
   "cell_type": "code",
   "execution_count": 55,
   "id": "a8815043",
   "metadata": {},
   "outputs": [
    {
     "name": "stdout",
     "output_type": "stream",
     "text": [
      "p-значение: 8.874140893976874e-40\n",
      "Отвергаем нулевую гипотезу\n"
     ]
    }
   ],
   "source": [
    "alpha = 0.05\n",
    "\n",
    "values_ultra = sum_df.loc[sum_df['subscription_type'] == 'ultra', 'revenue']\n",
    "values_free = sum_df.loc[sum_df['subscription_type'] == 'free', 'revenue']\n",
    "\n",
    "results = st.ttest_ind(values_ultra, values_free, equal_var=False, alternative='greater')\n",
    "\n",
    "print('p-значение:', results.pvalue)\n",
    "\n",
    "if results.pvalue < alpha:\n",
    "    print('Отвергаем нулевую гипотезу')\n",
    "else:\n",
    "    print('Не получилось отвергнуть нулевую гипотезу') "
   ]
  },
  {
   "cell_type": "markdown",
   "id": "a71e194f",
   "metadata": {},
   "source": [
    "Нулевая гипотеза о равенстве помесячной выручки от пользователей с подпиской и без не потвердилась, а дпополнительный параметр `alternative='greater'` нам говорит о том что пользователи с подпиской в среднем приносят больше."
   ]
  },
  {
   "cell_type": "markdown",
   "id": "d09696e1",
   "metadata": {},
   "source": [
    "##### Представьте такую ситуацию: техническая команда сервиса обновила сервера, с которыми взаимодействует мобильное приложение. Она надеется, что из-за этого количество обращений в техподдержку значимо снизилось. Некоторый файл содержит для каждого пользователя данные о количестве обращений до обновления и после него. Какой тест вам понадобился бы для проверки этой гипотезы?"
   ]
  },
  {
   "cell_type": "markdown",
   "id": "851149d4",
   "metadata": {},
   "source": [
    "Нам понадобиться тест`st.ttest_rel(values_1, values_2, alternative='greater')` при условии одинаковой размерности выборок.\n",
    "При этом за нулевую гипотезу Но мы примем **количестве обращений до обновления и после него не изменилось**, \n",
    "альтернативная Н1 - **количестве обращений до обновления больше чем после**"
   ]
  },
  {
   "cell_type": "markdown",
   "id": "cc9a6379",
   "metadata": {},
   "source": [
    "**Промежуточный вывод**\n",
    "\n",
    "* Используя исходные данные о продолжительности каждой сессии — отдельно для подписчиков и тех, у кого нет подписки проверили гипотезу тратят ли пользователи с подпиской больше времени на поездки?\n",
    "    * Использовали проверку гипотезы о равенстве средних двух генеральных совокупностей. За Но приняли что средняя потраченного времени пользователей с подпиской и без равны, за альтернативную гипотезу Н1 - что средняя потраченного времени пользователей с подпиской по месяцам выше, чем пользователей без подписки.:\n",
    "        * p-значение: 5.6757813771289775e-37, отвергаем нулевую гипотезу\n",
    "        * Нулевая гипотеза о равенстве времени, которое тратят пользователи с подпиской и без не потвердилась, а дпополнительный параметр alternative='greater' нам говорит о том что пользователи с подпиской в среднем тратят больше времени на поездки.\n",
    "        \n",
    "        \n",
    "* Проверили гипотезу, можно ли сказать, что среднее расстояние, которое проезжают пользователи с подпиской за одну поездку, не превышает 3130 метров?\n",
    "    * Использовали проверку односторонней гипотезы. За Но приняли что среднее расстояние которое проезжают пользователи с подпиской за одну поездку равно 3130 метров, за альттернативную гипотезу Н1 приняли это что среднее расстояние больше чем 3130 метров\n",
    "        * p-значение: 0.9195368847849785, не получилось отвергнуть нулевую гипотезу\n",
    "        * Не получилось отвергнуть гипотезу Но, значит можно предположить что среднее которое проезжают пользователи с подпиской за одну поездку, не превышает 3130 метров\n",
    "        \n",
    "        \n",
    "* Проверили гипотезу о том, будет ли помесячная выручка от пользователей с подпиской по месяцам выше, чем выручка от пользователей без подписки\n",
    "    * Используя проверку гипотезы о равенстве средних двух генеральных совокупностей. За Но приняли что средняя помесячная выручка от пользователей с подпиской и без равны, за альтернативную гипотезу Н1 - что средняя выручка от пользователей с подпиской по месяцам выше, чем выручка от пользователей без подписки\n",
    "        * p-значение: 8.874140893976874e-40\n",
    "        * Нулевая гипотеза о равенстве помесячной выручки от пользователей с подпиской и без не потвердилась, а дпополнительный параметр alternative='greater' нам говорит о том что пользователи с подпиской в среднем приносят больше"
   ]
  },
  {
   "cell_type": "markdown",
   "id": "61213c5e",
   "metadata": {},
   "source": [
    "#### Шаг 7. Распределения"
   ]
  },
  {
   "cell_type": "markdown",
   "id": "a1878fb4",
   "metadata": {},
   "source": [
    "##### Отделу маркетинга GoFast поставили задачу:\n",
    "* нужно провести акцию с раздачей промокодов на один бесплатный месяц подписки, в рамках которой как минимум 100 существующих клиентов должны продлить эту подписку. То есть по завершении периода действия подписки пользователь может либо отказаться от неё, либо продлить, совершив соответствующий платёж. \n",
    "\n",
    "Эта акция уже проводилась ранее и по итогу выяснилось, что после бесплатного пробного периода подписку продлевают \n",
    "10% пользователей. Выясните, какое минимальное количество промокодов нужно разослать, чтобы вероятность не выполнить план была примерно 5%. Подберите параметры распределения, описывающего эту ситуацию, постройте график распределения и сформулируйте ответ на вопрос о количестве промокодов."
   ]
  },
  {
   "cell_type": "markdown",
   "id": "383659ff",
   "metadata": {},
   "source": [
    "Построим график кумулятивной функции распределения (CDF) для биномиального распределения с параметрами:\n",
    "* p = 0.1 (вероятность успеха)\n",
    "* n - подберем такое значение, при котором вероятность неуспеха получить 100 продлений подписки будет равна 5%"
   ]
  },
  {
   "cell_type": "code",
   "execution_count": 56,
   "id": "de3b00f3",
   "metadata": {},
   "outputs": [],
   "source": [
    "from scipy.stats import binom, norm"
   ]
  },
  {
   "cell_type": "code",
   "execution_count": 57,
   "id": "7b691e19",
   "metadata": {},
   "outputs": [
    {
     "name": "stdout",
     "output_type": "stream",
     "text": [
      "Минимальное n: 1161\n"
     ]
    }
   ],
   "source": [
    "p = 0.1\n",
    "target_prob = 0.05\n",
    "min_k = 99\n",
    "\n",
    "n = 1000\n",
    "while True:\n",
    "    cdf = binom.cdf(min_k, n, p)\n",
    "    if cdf <= target_prob:\n",
    "        break\n",
    "    n += 1\n",
    "\n",
    "print(f\"Минимальное n: {n}\") "
   ]
  },
  {
   "cell_type": "code",
   "execution_count": 58,
   "id": "2749b504",
   "metadata": {},
   "outputs": [
    {
     "data": {
      "image/png": "[encoded data removed]",
      "text/plain": [
       "<Figure size 864x432 with 1 Axes>"
      ]
     },
     "metadata": {
      "needs_background": "light"
     },
     "output_type": "display_data"
    }
   ],
   "source": [
    "n = 1161\n",
    "p = 0.1\n",
    "\n",
    "k_values = range(0, n + 1)\n",
    "\n",
    "cdf_values = [binom.cdf(k, n, p) for k in k_values]\n",
    "\n",
    "plt.figure(figsize=(12, 6))\n",
    "plt.plot(k_values, cdf_values, 'r-')\n",
    "plt.xlabel('Число успехов', size=16)\n",
    "plt.ylabel('Вероятность', size=16)\n",
    "plt.title('Кумулятивная функция распределения (CDF)', size=18)\n",
    "plt.grid(True)\n",
    "plt.xlim(95, 105)\n",
    "plt.ylim(0, 0.2)\n",
    "plt.show()"
   ]
  },
  {
   "cell_type": "markdown",
   "id": "b999da52",
   "metadata": {},
   "source": [
    "Минимальное количество промокодов, которое нужно разослать, чтобы вероятность не выполнить план 5%, равно примерно 1172шт"
   ]
  },
  {
   "cell_type": "markdown",
   "id": "4727aa05",
   "metadata": {},
   "source": [
    "##### Отдел маркетинга рассылает клиентам push-уведомления в мобильном приложении. Клиенты могут открыть его или не открывать. Известно, что уведомления открывают около 40 % получивших клиентов. Отдел планирует разослать 1 млн уведомлений. С помощью аппроксимации постройте примерный график распределения и оцените вероятность того, что уведомление откроют не более 399,5 тыс. пользователей."
   ]
  },
  {
   "cell_type": "markdown",
   "id": "f5eed132",
   "metadata": {},
   "source": [
    "Воспользуемся нормальной аппроксимацией биномиального распределения и cdf() для быстрой оценки.\n",
    "* для начала проверим условие выполнения апроксимации нормальным распределением"
   ]
  },
  {
   "cell_type": "code",
   "execution_count": 59,
   "id": "14864fb0",
   "metadata": {},
   "outputs": [],
   "source": [
    "from math import sqrt"
   ]
  },
  {
   "cell_type": "code",
   "execution_count": 60,
   "id": "ab6a88f0",
   "metadata": {},
   "outputs": [
    {
     "data": {
      "image/png": "[encoded data removed]",
      "text/plain": [
       "<Figure size 720x432 with 1 Axes>"
      ]
     },
     "metadata": {
      "needs_background": "light"
     },
     "output_type": "display_data"
    },
    {
     "name": "stdout",
     "output_type": "stream",
     "text": [
      "Условие выполняется\n"
     ]
    }
   ],
   "source": [
    "def linspace(start, stop, num):\n",
    "    step = (stop - start) / (num - 1)\n",
    "    result = []\n",
    "    for i in range(num):\n",
    "        result.append(start + step * i)\n",
    "    return result\n",
    " \n",
    "n = 50\n",
    "p = 0.22\n",
    "\n",
    "left = int(n * p - 4 * sqrt(n * p * (1 - p)))\n",
    "right = int(n * p + 4 * sqrt(n * p * (1 - p)))\n",
    "\n",
    "plt.figure(figsize=(10, 6))\n",
    "x = list(range(max(0, left), right))\n",
    "ax = plt.subplot()\n",
    "ax.plot(x, binom.pmf(x, n, p), 'ro', ms=5,\n",
    "\t      label='вероятности биномиального распределения')\n",
    "\n",
    "mu = n * p\n",
    "sigma = sqrt(n * p * (1 - p))\n",
    " \n",
    "x = linspace(left, right, 100)\n",
    "ax.plot(x, norm.pdf(x, mu, sigma), 'b-', lw=3, alpha=0.3, label='плотность вероятности нормального распределения')\n",
    "\n",
    "x_ticks = list(range(int(mu - 3 * sigma), int(mu + 3 * sigma), 1))\n",
    "ax.set_xticks(x_ticks)\n",
    "\n",
    "ax.legend(loc='best')\n",
    "plt.show()\n",
    "\n",
    "if (mu - (3 * sigma) >= 0) and ((mu + (3 * sigma) <= n)):\n",
    "    print('Условие выполняется')\n",
    "else:\n",
    "    print('Условие не выполняется')"
   ]
  },
  {
   "cell_type": "markdown",
   "id": "5aa0f434",
   "metadata": {},
   "source": [
    "* Оценим вероятность того, что уведомление откроют не более 399,5 тыс."
   ]
  },
  {
   "cell_type": "code",
   "execution_count": 61,
   "id": "74ef4f07",
   "metadata": {},
   "outputs": [
    {
     "data": {
      "text/plain": [
       "0.154"
      ]
     },
     "execution_count": 61,
     "metadata": {},
     "output_type": "execute_result"
    }
   ],
   "source": [
    "n = 1000000\n",
    "p = 0.4\n",
    "\n",
    "mu = n * p\n",
    "sigma = sqrt(n * p * (1 - p))\n",
    "\n",
    "distr = st.norm(mu, sigma)\n",
    "\n",
    "result = distr.cdf(399500)\n",
    "round(result, 3)"
   ]
  },
  {
   "cell_type": "markdown",
   "id": "de228c12",
   "metadata": {},
   "source": [
    "Вероятность того что уведомление откроют не более 399,5 тыс равна 15,4%"
   ]
  },
  {
   "cell_type": "markdown",
   "id": "96c53a49",
   "metadata": {},
   "source": [
    "**Общий вывод**\n",
    "\n",
    "1) Мы считали данные. Предварительно по нашим данным:\n",
    "* по первой таблице 5 столбцов и 1565 строк, колоичество строк не отличается между столбцами;\n",
    "* по второй таблице 4 столбца и 18068 строк, аналогично количество строк не отличается между столбцами;\n",
    "    * в столбце с датой тип данных - `object`, необходимо будет изменить в дальнейшем на тип `datetime`\n",
    "* по 3 таблице там всего 4 столбца и 2 строки\n",
    "\n",
    "2) Предобработка:\n",
    "    На данном этапе мы:\n",
    "* Изменили тип данных в столбце `date` датафрейма `data_rides` с **object на datetime**;\n",
    "* Создали новый столбец `month` с номером месяца на основе столбца `date`;\n",
    "* Проверили наличие пропущенных значений и дубликатов в датафреймах, которых не оказалось;\n",
    "* Проверили на наличие явных дубликатов и произвели их удаление в датафрейме data_users\n",
    "\n",
    "3) Исследовательский анализ данных:\n",
    "На данном этапе мы визуализировали общую информацию о пользователях и поездках:\n",
    "* частоту встречаемости городов:\n",
    "    * Минимальное количество пользователей сервиса \"GoFast\" находится в Москве, максимальное в городе Пятигорск. В основном охвачена центральная часть России, немного восток и южная часть. На удалении от Москвы в южную и восточную стороны, колличество пользователей увеличивается. Можно объяснить это конкуренцией в мегаполисе.\n",
    "    \n",
    "* Посмотрели на соотношение пользователей с подпиской и без подписки:\n",
    "    * Пользователей с подпиской меньше чем без подписки на ~10% от общего количества.\n",
    "    \n",
    "* Посмотрели на возраст пользователей:\n",
    "    * наиболее популярен сервис у пользователей с возрастом от 22 до 28 лет. Само распределение очень похоже на нормальное распределение Гаусса\n",
    "    \n",
    "* Посмотрели на расстояние, которое пользователь преодолел за одну поездку:\n",
    "    * Самое распространненое расстояние поездок пользователей 3133,6м. По графику мы видим две вершины, условно можно разделить данные на 2 группы. \n",
    "    * Можно предположить, что в выборке имеются данные различных групп пользователей:\n",
    "        * тех кто пользуется сервисом для поездки на работу и домой, для куръерских доставок (длинные расстояния);\n",
    "        * и тех кто катается в парке, на небольшие расстояния ради недолгих развлечений\n",
    "* Посмотрели на продолжительность поездок пользователей:\n",
    "    * Наиболее распрсотранненая продолжительность поездок 13,6 - 21,7м. Само распределение очень похоже на нормальное распределение Гаусса\n",
    "    \n",
    "4) Объединение данных:\n",
    "* Объединили первые два датафрейма по столбцу `user_id`, а с третьим по столбцу `subscription_type` и проверили данные после объединения;\n",
    "\n",
    "* Создали ещё два датафрейма из датафрейма, созданного на шаге 4.1:\n",
    "    * первый - c данными о пользователях без подписки;\n",
    "    * второй с данными о пользователях с подпиской\n",
    "\n",
    "* Визуализировали информацию о расстоянии и времени поездок для пользователей обеих категорий:\n",
    "    * расстояние поездок пользователей без подписок\n",
    "        * Медианное расстояние поездок пользователей без подписок 3114,6м. По графику мы видим три вершины, условно можно разделить данные на 3 группы.\n",
    "        * Можно предположить, что в выборке имеются данные различных групп пользователей:\n",
    "            * тех кто пользуется сервисом для поездки на работу и домой, для куръерских доставок (длинные расстояния);\n",
    "            * и тех кто катается в парке, на небольшие расстояния ради недолгих развлечений;\n",
    "            * различная инфраструктура городов также вносит свой вклад в значения расстояний\n",
    "    * время поездок пользователей без подписки:\n",
    "        * Распределение близко к нормальному. Медианное значение составляет 17,32мин\n",
    "    * расстояние поездок пользователей с подпиской:\n",
    "        * Медианное расстояние поездок пользователей без подписок 3148,6м. По графику мы видим три вершины, условно можно разделить данные на 3 группы.\n",
    "        * Можно предположить, что в выборке имеются данные различных групп пользователей:\n",
    "            * тех кто пользуется сервисом для поездки на работу и домой, для куръерских доставок (длинные расстояния);\n",
    "            * и тех кто катается в парке, на небольшие расстояния ради недолгих развлечений;\n",
    "            * различная инфраструктура городов также вносит свой вклад в значения расстояний\n",
    "    * время поездок пользователей без подписки:\n",
    "        * Распределение слегка скошено относительно центра, но все же близко к нормальному. Медианное значение составляет 18,18мин\n",
    "        \n",
    "5) Подсчет выручки:\n",
    "* продолжительность каждой поездки в каждой строке исходного датафрейма для подсчёта стоимости округлили до следующего целого числа;\n",
    "* создали датафрейм с агрегированными данными о поездках на основе датафрейма с объединёнными данными на этапе 4:\n",
    "    * суммарное расстояние, количество поездок и суммарное время для каждого пользователя за каждый месяц\n",
    "* в этот же датафрейм добавили столбец с помесячной выручкой, которую принёс каждый пользователь\n",
    "\n",
    "6) Проверка гипотез:\n",
    "* Используя исходные данные о продолжительности каждой сессии — отдельно для подписчиков и тех, у кого нет подписки проверили гипотезу тратят ли пользователи с подпиской больше времени на поездки?\n",
    "    * Использовали проверку гипотезы о равенстве средних двух генеральных совокупностей. За Но приняли что средняя потраченного времени пользователей с подпиской и без равны, за альтернативную гипотезу Н1 - что средняя потраченного времени пользователей с подпиской по месяцам выше, чем пользователей без подписки.:\n",
    "        * p-значение: 5.6757813771289775e-37, отвергаем нулевую гипотезу\n",
    "        * Нулевая гипотеза о равенстве времени, которое тратят пользователи с подпиской и без не потвердилась, а дпополнительный параметр alternative='greater' нам говорит о том что пользователи с подпиской в среднем тратят больше времени на поездки.\n",
    "        \n",
    "        \n",
    "* Проверили гипотезу, можно ли сказать, что среднее расстояние, которое проезжают пользователи с подпиской за одну поездку, не превышает 3130 метров?\n",
    "    * Использовали проверку односторонней гипотезы. За Но приняли что среднее расстояние которое проезжают пользователи с подпиской за одну поездку равно 3130 метров, за альттернативную гипотезу Н1 приняли это что среднее расстояние больше чем 3130 метров\n",
    "        * p-значение: 0.9195368847849785, не получилось отвергнуть нулевую гипотезу\n",
    "        * Не получилось отвергнуть гипотезу Но, значит можно предположить что среднее которое проезжают пользователи с подпиской за одну поездку, не превышает 3130 метров\n",
    "        \n",
    "        \n",
    "* Проверили гипотезу о том, будет ли помесячная выручка от пользователей с подпиской по месяцам выше, чем выручка от пользователей без подписки\n",
    "    * Используя проверку гипотезы о равенстве средних двух генеральных совокупностей. За Но приняли что средняя помесячная выручка от пользователей с подпиской и без равны, за альтернативную гипотезу Н1 - что средняя выручка от пользователей с подпиской по месяцам выше, чем выручка от пользователей без подписки\n",
    "        * p-значение: 8.874140893976874e-40\n",
    "        * Нулевая гипотеза о равенстве помесячной выручки от пользователей с подпиской и без не потвердилась, а дпополнительный параметр alternative='greater' нам говорит о том что пользователи с подпиской в среднем приносят больше\n",
    "        \n",
    "7) Распределения:\n",
    "    * Построили график кумулятивной функции распределения (CDF) для биномиального распределения и определили минимальное количество промокодов, которое нужно разослать, чтобы вероятность не выполнить план 5%, равно примерно 1172шт\n",
    "    * Воспользуемся нормальной аппроксимацией биномиального распределения и cdf() для быстрой оценки:\n",
    "        * проверили условие выполнения апроксимации нормальным распределением\n",
    "        * Оценим вероятность того, что уведомление откроют не более 399,5 тыс, составляет ~15,4%"
   ]
  }
 ],
 "metadata": {
  "ExecuteTimeLog": [
   {
    "duration": 424,
    "start_time": "2025-04-14T01:30:51.356Z"
   },
   {
    "duration": 71,
    "start_time": "2025-04-14T01:30:53.772Z"
   },
   {
    "duration": 11,
    "start_time": "2025-04-14T01:31:42.958Z"
   },
   {
    "duration": 12,
    "start_time": "2025-04-14T01:31:52.489Z"
   },
   {
    "duration": 11,
    "start_time": "2025-04-14T01:31:53.682Z"
   },
   {
    "duration": 81,
    "start_time": "2025-04-14T01:34:42.666Z"
   },
   {
    "duration": 17,
    "start_time": "2025-04-14T01:34:56.856Z"
   },
   {
    "duration": 14,
    "start_time": "2025-04-14T01:35:19.550Z"
   },
   {
    "duration": 15,
    "start_time": "2025-04-14T01:35:38.493Z"
   },
   {
    "duration": 9,
    "start_time": "2025-04-14T01:36:10.841Z"
   },
   {
    "duration": 12,
    "start_time": "2025-04-14T01:37:40.118Z"
   },
   {
    "duration": 6,
    "start_time": "2025-04-14T01:37:50.492Z"
   },
   {
    "duration": 7,
    "start_time": "2025-04-14T01:38:45.592Z"
   },
   {
    "duration": 6,
    "start_time": "2025-04-14T01:38:46.933Z"
   },
   {
    "duration": 53,
    "start_time": "2025-04-14T15:13:54.178Z"
   },
   {
    "duration": 408,
    "start_time": "2025-04-14T15:14:00.256Z"
   },
   {
    "duration": 73,
    "start_time": "2025-04-14T15:14:03.061Z"
   },
   {
    "duration": 12,
    "start_time": "2025-04-14T15:14:04.925Z"
   },
   {
    "duration": 14,
    "start_time": "2025-04-14T15:14:07.456Z"
   },
   {
    "duration": 11,
    "start_time": "2025-04-14T15:14:10.729Z"
   },
   {
    "duration": 9,
    "start_time": "2025-04-14T15:14:28.276Z"
   },
   {
    "duration": 10,
    "start_time": "2025-04-14T15:14:50.727Z"
   },
   {
    "duration": 6,
    "start_time": "2025-04-14T15:15:03.358Z"
   },
   {
    "duration": 7,
    "start_time": "2025-04-14T15:37:13.630Z"
   },
   {
    "duration": 9,
    "start_time": "2025-04-14T15:37:42.799Z"
   },
   {
    "duration": 32,
    "start_time": "2025-04-14T15:38:08.439Z"
   },
   {
    "duration": 7,
    "start_time": "2025-04-14T15:38:16.340Z"
   },
   {
    "duration": 11,
    "start_time": "2025-04-14T15:38:26.551Z"
   },
   {
    "duration": 5,
    "start_time": "2025-04-14T15:55:32.362Z"
   },
   {
    "duration": 10,
    "start_time": "2025-04-14T15:55:33.146Z"
   },
   {
    "duration": 9,
    "start_time": "2025-04-14T15:58:42.729Z"
   },
   {
    "duration": 6,
    "start_time": "2025-04-14T15:59:27.732Z"
   },
   {
    "duration": 6,
    "start_time": "2025-04-14T15:59:28.985Z"
   },
   {
    "duration": 6,
    "start_time": "2025-04-14T15:59:29.933Z"
   },
   {
    "duration": 8,
    "start_time": "2025-04-14T16:01:02.082Z"
   },
   {
    "duration": 7,
    "start_time": "2025-04-14T16:01:08.552Z"
   },
   {
    "duration": 16,
    "start_time": "2025-04-14T16:06:07.913Z"
   },
   {
    "duration": 11,
    "start_time": "2025-04-14T16:06:45.033Z"
   },
   {
    "duration": 13,
    "start_time": "2025-04-14T16:07:06.566Z"
   },
   {
    "duration": 11,
    "start_time": "2025-04-14T16:07:20.083Z"
   },
   {
    "duration": 15,
    "start_time": "2025-04-14T16:08:27.613Z"
   },
   {
    "duration": 12,
    "start_time": "2025-04-14T16:08:42.563Z"
   },
   {
    "duration": 11,
    "start_time": "2025-04-14T16:08:57.013Z"
   },
   {
    "duration": 12,
    "start_time": "2025-04-14T16:09:02.509Z"
   },
   {
    "duration": 5,
    "start_time": "2025-04-14T16:15:07.843Z"
   },
   {
    "duration": 3,
    "start_time": "2025-04-14T16:16:20.962Z"
   },
   {
    "duration": 72,
    "start_time": "2025-04-14T16:16:23.083Z"
   },
   {
    "duration": 11,
    "start_time": "2025-04-14T16:16:25.553Z"
   },
   {
    "duration": 8,
    "start_time": "2025-04-14T16:16:27.805Z"
   },
   {
    "duration": 12,
    "start_time": "2025-04-14T16:16:30.363Z"
   },
   {
    "duration": 8,
    "start_time": "2025-04-14T16:16:32.413Z"
   },
   {
    "duration": 10,
    "start_time": "2025-04-14T16:16:34.788Z"
   },
   {
    "duration": 7,
    "start_time": "2025-04-14T16:16:37.373Z"
   },
   {
    "duration": 4,
    "start_time": "2025-04-14T16:16:55.383Z"
   },
   {
    "duration": 3,
    "start_time": "2025-04-14T16:17:20.883Z"
   },
   {
    "duration": 5,
    "start_time": "2025-04-14T16:21:22.394Z"
   },
   {
    "duration": 5,
    "start_time": "2025-04-14T16:21:24.613Z"
   },
   {
    "duration": 7,
    "start_time": "2025-04-14T16:21:26.354Z"
   },
   {
    "duration": 10,
    "start_time": "2025-04-14T16:21:55.235Z"
   },
   {
    "duration": 6,
    "start_time": "2025-04-14T16:32:48.508Z"
   },
   {
    "duration": 436,
    "start_time": "2025-04-14T16:33:56.568Z"
   },
   {
    "duration": 152,
    "start_time": "2025-04-14T16:35:42.578Z"
   },
   {
    "duration": 25,
    "start_time": "2025-04-14T16:36:27.223Z"
   },
   {
    "duration": 143,
    "start_time": "2025-04-14T16:36:44.849Z"
   },
   {
    "duration": 152,
    "start_time": "2025-04-14T16:39:19.269Z"
   },
   {
    "duration": 154,
    "start_time": "2025-04-14T16:39:29.848Z"
   },
   {
    "duration": 617,
    "start_time": "2025-04-14T16:40:56.813Z"
   },
   {
    "duration": 176,
    "start_time": "2025-04-14T16:41:08.052Z"
   },
   {
    "duration": 174,
    "start_time": "2025-04-14T16:41:20.169Z"
   },
   {
    "duration": 167,
    "start_time": "2025-04-14T16:41:26.599Z"
   },
   {
    "duration": 169,
    "start_time": "2025-04-14T16:41:33.599Z"
   },
   {
    "duration": 173,
    "start_time": "2025-04-14T16:43:14.462Z"
   },
   {
    "duration": 170,
    "start_time": "2025-04-14T16:43:35.850Z"
   },
   {
    "duration": 61,
    "start_time": "2025-04-14T16:44:12.679Z"
   },
   {
    "duration": 175,
    "start_time": "2025-04-14T16:44:26.929Z"
   },
   {
    "duration": 175,
    "start_time": "2025-04-14T16:44:48.177Z"
   },
   {
    "duration": 170,
    "start_time": "2025-04-14T16:44:54.848Z"
   },
   {
    "duration": 183,
    "start_time": "2025-04-14T17:54:57.311Z"
   },
   {
    "duration": 270,
    "start_time": "2025-04-14T17:55:35.375Z"
   },
   {
    "duration": 177,
    "start_time": "2025-04-14T17:55:56.942Z"
   },
   {
    "duration": 179,
    "start_time": "2025-04-14T17:56:10.890Z"
   },
   {
    "duration": 184,
    "start_time": "2025-04-14T17:56:22.504Z"
   },
   {
    "duration": 90,
    "start_time": "2025-04-14T17:56:48.711Z"
   },
   {
    "duration": 201,
    "start_time": "2025-04-14T17:57:05.062Z"
   },
   {
    "duration": 180,
    "start_time": "2025-04-14T17:57:12.737Z"
   },
   {
    "duration": 179,
    "start_time": "2025-04-14T17:57:33.430Z"
   },
   {
    "duration": 7,
    "start_time": "2025-04-14T18:04:05.591Z"
   },
   {
    "duration": 8,
    "start_time": "2025-04-14T18:04:10.151Z"
   },
   {
    "duration": 12,
    "start_time": "2025-04-14T18:04:25.731Z"
   },
   {
    "duration": 1334,
    "start_time": "2025-04-14T18:04:45.930Z"
   },
   {
    "duration": 1268,
    "start_time": "2025-04-14T18:05:23.550Z"
   },
   {
    "duration": 9,
    "start_time": "2025-04-14T18:05:39.529Z"
   },
   {
    "duration": 7,
    "start_time": "2025-04-14T18:05:47.118Z"
   },
   {
    "duration": 9,
    "start_time": "2025-04-14T18:09:58.795Z"
   },
   {
    "duration": 80,
    "start_time": "2025-04-14T18:11:50.124Z"
   },
   {
    "duration": 73,
    "start_time": "2025-04-14T18:12:10.484Z"
   },
   {
    "duration": 80,
    "start_time": "2025-04-14T18:14:19.556Z"
   },
   {
    "duration": 81,
    "start_time": "2025-04-14T18:14:49.149Z"
   },
   {
    "duration": 153,
    "start_time": "2025-04-14T18:15:42.190Z"
   },
   {
    "duration": 78,
    "start_time": "2025-04-14T18:16:02.183Z"
   },
   {
    "duration": 83,
    "start_time": "2025-04-14T18:16:09.578Z"
   },
   {
    "duration": 85,
    "start_time": "2025-04-14T18:18:02.998Z"
   },
   {
    "duration": 92,
    "start_time": "2025-04-14T18:19:31.024Z"
   },
   {
    "duration": 102,
    "start_time": "2025-04-14T18:20:22.139Z"
   },
   {
    "duration": 94,
    "start_time": "2025-04-14T18:20:30.515Z"
   },
   {
    "duration": 103,
    "start_time": "2025-04-14T18:20:35.119Z"
   },
   {
    "duration": 94,
    "start_time": "2025-04-14T18:20:44.256Z"
   },
   {
    "duration": 93,
    "start_time": "2025-04-14T18:20:51.901Z"
   },
   {
    "duration": 91,
    "start_time": "2025-04-14T18:20:58.587Z"
   },
   {
    "duration": 91,
    "start_time": "2025-04-14T18:21:03.355Z"
   },
   {
    "duration": 164,
    "start_time": "2025-04-14T18:21:11.174Z"
   },
   {
    "duration": 92,
    "start_time": "2025-04-14T18:21:18.096Z"
   },
   {
    "duration": 90,
    "start_time": "2025-04-14T18:21:28.727Z"
   },
   {
    "duration": 87,
    "start_time": "2025-04-14T18:21:46.851Z"
   },
   {
    "duration": 101,
    "start_time": "2025-04-14T18:22:40.995Z"
   },
   {
    "duration": 107,
    "start_time": "2025-04-14T18:23:22.504Z"
   },
   {
    "duration": 106,
    "start_time": "2025-04-14T18:24:16.257Z"
   },
   {
    "duration": 73,
    "start_time": "2025-04-14T18:25:52.146Z"
   },
   {
    "duration": 104,
    "start_time": "2025-04-14T18:26:11.469Z"
   },
   {
    "duration": 107,
    "start_time": "2025-04-14T18:27:43.875Z"
   },
   {
    "duration": 104,
    "start_time": "2025-04-14T18:27:52.897Z"
   },
   {
    "duration": 107,
    "start_time": "2025-04-14T18:28:00.287Z"
   },
   {
    "duration": 106,
    "start_time": "2025-04-14T18:28:05.841Z"
   },
   {
    "duration": 192,
    "start_time": "2025-04-14T18:28:15.074Z"
   },
   {
    "duration": 110,
    "start_time": "2025-04-14T18:28:32.404Z"
   },
   {
    "duration": 107,
    "start_time": "2025-04-14T18:28:39.337Z"
   },
   {
    "duration": 107,
    "start_time": "2025-04-14T18:28:47.002Z"
   },
   {
    "duration": 107,
    "start_time": "2025-04-14T18:30:24.415Z"
   },
   {
    "duration": 104,
    "start_time": "2025-04-14T18:30:31.898Z"
   },
   {
    "duration": 122,
    "start_time": "2025-04-14T18:30:36.041Z"
   },
   {
    "duration": 5,
    "start_time": "2025-04-14T18:33:31.914Z"
   },
   {
    "duration": 6,
    "start_time": "2025-04-14T18:34:43.873Z"
   },
   {
    "duration": 6,
    "start_time": "2025-04-14T18:34:49.840Z"
   },
   {
    "duration": 4,
    "start_time": "2025-04-14T18:36:32.241Z"
   },
   {
    "duration": 4,
    "start_time": "2025-04-14T18:36:53.145Z"
   },
   {
    "duration": 72,
    "start_time": "2025-04-14T18:36:55.012Z"
   },
   {
    "duration": 3,
    "start_time": "2025-04-14T18:37:00.303Z"
   },
   {
    "duration": 8,
    "start_time": "2025-04-14T18:41:28.751Z"
   },
   {
    "duration": 150,
    "start_time": "2025-04-14T18:42:18.719Z"
   },
   {
    "duration": 183,
    "start_time": "2025-04-14T18:43:25.880Z"
   },
   {
    "duration": 12,
    "start_time": "2025-04-14T18:43:56.930Z"
   },
   {
    "duration": 6,
    "start_time": "2025-04-14T18:44:09.687Z"
   },
   {
    "duration": 8,
    "start_time": "2025-04-14T18:46:19.750Z"
   },
   {
    "duration": 10,
    "start_time": "2025-04-14T18:53:51.482Z"
   },
   {
    "duration": 12472,
    "start_time": "2025-04-14T18:54:07.447Z"
   },
   {
    "duration": 18895,
    "start_time": "2025-04-14T18:54:37.646Z"
   },
   {
    "duration": 533,
    "start_time": "2025-04-14T18:55:36.736Z"
   },
   {
    "duration": 257,
    "start_time": "2025-04-14T18:55:52.834Z"
   },
   {
    "duration": 272,
    "start_time": "2025-04-14T18:56:21.346Z"
   },
   {
    "duration": 252,
    "start_time": "2025-04-14T18:56:39.954Z"
   },
   {
    "duration": 247,
    "start_time": "2025-04-14T18:56:51.725Z"
   },
   {
    "duration": 280,
    "start_time": "2025-04-14T18:57:02.095Z"
   },
   {
    "duration": 332,
    "start_time": "2025-04-14T18:57:29.824Z"
   },
   {
    "duration": 10,
    "start_time": "2025-04-14T18:59:15.214Z"
   },
   {
    "duration": 10,
    "start_time": "2025-04-14T18:59:50.851Z"
   },
   {
    "duration": 265,
    "start_time": "2025-04-14T19:02:30.115Z"
   },
   {
    "duration": 263,
    "start_time": "2025-04-14T19:03:54.356Z"
   },
   {
    "duration": 291,
    "start_time": "2025-04-14T19:09:14.071Z"
   },
   {
    "duration": 261,
    "start_time": "2025-04-14T19:09:41.961Z"
   },
   {
    "duration": 261,
    "start_time": "2025-04-14T19:09:52.020Z"
   },
   {
    "duration": 8,
    "start_time": "2025-04-14T19:32:47.162Z"
   },
   {
    "duration": 9,
    "start_time": "2025-04-14T19:32:56.314Z"
   },
   {
    "duration": 11,
    "start_time": "2025-04-14T19:37:48.484Z"
   },
   {
    "duration": 10,
    "start_time": "2025-04-14T19:38:20.662Z"
   },
   {
    "duration": 6,
    "start_time": "2025-04-14T19:39:30.282Z"
   },
   {
    "duration": 6,
    "start_time": "2025-04-14T19:39:38.751Z"
   },
   {
    "duration": 9,
    "start_time": "2025-04-14T19:39:51.742Z"
   },
   {
    "duration": 5,
    "start_time": "2025-04-14T19:39:59.280Z"
   },
   {
    "duration": 14,
    "start_time": "2025-04-14T19:41:57.116Z"
   },
   {
    "duration": 15,
    "start_time": "2025-04-14T19:42:02.322Z"
   },
   {
    "duration": 9,
    "start_time": "2025-04-14T19:48:40.755Z"
   },
   {
    "duration": 11,
    "start_time": "2025-04-14T20:02:06.001Z"
   },
   {
    "duration": 537,
    "start_time": "2025-04-14T20:02:18.479Z"
   },
   {
    "duration": 275,
    "start_time": "2025-04-14T20:02:24.565Z"
   },
   {
    "duration": 143,
    "start_time": "2025-04-14T20:04:35.081Z"
   },
   {
    "duration": 316,
    "start_time": "2025-04-14T20:04:47.605Z"
   },
   {
    "duration": 526,
    "start_time": "2025-04-14T20:08:44.932Z"
   },
   {
    "duration": 1328,
    "start_time": "2025-04-14T20:11:12.449Z"
   },
   {
    "duration": 9,
    "start_time": "2025-04-14T20:11:20.086Z"
   },
   {
    "duration": 381,
    "start_time": "2025-04-14T20:12:37.825Z"
   },
   {
    "duration": 403,
    "start_time": "2025-04-14T20:12:55.850Z"
   },
   {
    "duration": 500,
    "start_time": "2025-04-14T20:13:40.825Z"
   },
   {
    "duration": 384,
    "start_time": "2025-04-14T20:13:53.145Z"
   },
   {
    "duration": 418,
    "start_time": "2025-04-14T20:17:15.052Z"
   },
   {
    "duration": 418,
    "start_time": "2025-04-14T20:20:35.870Z"
   },
   {
    "duration": 567,
    "start_time": "2025-04-14T20:20:46.687Z"
   },
   {
    "duration": 407,
    "start_time": "2025-04-14T20:20:51.850Z"
   },
   {
    "duration": 447,
    "start_time": "2025-04-14T20:20:59.150Z"
   },
   {
    "duration": 435,
    "start_time": "2025-04-14T20:21:07.050Z"
   },
   {
    "duration": 544,
    "start_time": "2025-04-14T20:21:26.065Z"
   },
   {
    "duration": 303,
    "start_time": "2025-04-14T20:22:04.326Z"
   },
   {
    "duration": 281,
    "start_time": "2025-04-14T20:22:12.181Z"
   },
   {
    "duration": 758,
    "start_time": "2025-04-14T20:22:26.251Z"
   },
   {
    "duration": 433,
    "start_time": "2025-04-14T20:22:34.788Z"
   },
   {
    "duration": 9,
    "start_time": "2025-04-14T20:30:57.823Z"
   },
   {
    "duration": 20,
    "start_time": "2025-04-14T20:31:30.183Z"
   },
   {
    "duration": 428,
    "start_time": "2025-04-14T20:31:58.524Z"
   },
   {
    "duration": 423,
    "start_time": "2025-04-14T20:32:28.584Z"
   },
   {
    "duration": 596,
    "start_time": "2025-04-14T20:34:06.064Z"
   },
   {
    "duration": 422,
    "start_time": "2025-04-14T20:34:14.250Z"
   },
   {
    "duration": 438,
    "start_time": "2025-04-14T20:34:30.073Z"
   },
   {
    "duration": 413,
    "start_time": "2025-04-14T20:34:38.410Z"
   },
   {
    "duration": 22,
    "start_time": "2025-04-14T20:46:14.534Z"
   },
   {
    "duration": 6,
    "start_time": "2025-04-14T21:08:21.274Z"
   },
   {
    "duration": 7,
    "start_time": "2025-04-14T21:08:28.833Z"
   },
   {
    "duration": 98,
    "start_time": "2025-04-14T21:21:32.473Z"
   },
   {
    "duration": 24,
    "start_time": "2025-04-14T21:23:31.250Z"
   },
   {
    "duration": 10,
    "start_time": "2025-04-14T21:24:12.993Z"
   },
   {
    "duration": 84,
    "start_time": "2025-04-14T21:24:33.013Z"
   },
   {
    "duration": 23,
    "start_time": "2025-04-14T21:24:39.273Z"
   },
   {
    "duration": 16,
    "start_time": "2025-04-14T21:25:11.149Z"
   },
   {
    "duration": 10,
    "start_time": "2025-04-14T21:27:22.450Z"
   },
   {
    "duration": 17,
    "start_time": "2025-04-14T21:34:05.672Z"
   },
   {
    "duration": 3,
    "start_time": "2025-04-14T21:38:20.057Z"
   },
   {
    "duration": 63,
    "start_time": "2025-04-14T21:38:21.333Z"
   },
   {
    "duration": 3,
    "start_time": "2025-04-14T21:38:31.453Z"
   },
   {
    "duration": 3,
    "start_time": "2025-04-14T21:38:32.231Z"
   },
   {
    "duration": 8,
    "start_time": "2025-04-14T21:38:38.923Z"
   },
   {
    "duration": 5,
    "start_time": "2025-04-14T21:38:40.973Z"
   },
   {
    "duration": 6,
    "start_time": "2025-04-14T21:38:49.373Z"
   },
   {
    "duration": 6,
    "start_time": "2025-04-14T21:38:50.073Z"
   },
   {
    "duration": 7,
    "start_time": "2025-04-14T21:39:07.570Z"
   },
   {
    "duration": 8,
    "start_time": "2025-04-14T21:39:12.113Z"
   },
   {
    "duration": 12,
    "start_time": "2025-04-14T21:39:25.490Z"
   },
   {
    "duration": 5,
    "start_time": "2025-04-14T21:39:39.009Z"
   },
   {
    "duration": 7,
    "start_time": "2025-04-14T21:39:40.389Z"
   },
   {
    "duration": 4,
    "start_time": "2025-04-14T21:39:42.650Z"
   },
   {
    "duration": 5,
    "start_time": "2025-04-14T21:39:43.851Z"
   },
   {
    "duration": 2,
    "start_time": "2025-04-14T21:39:48.651Z"
   },
   {
    "duration": 334,
    "start_time": "2025-04-14T21:39:51.594Z"
   },
   {
    "duration": 123,
    "start_time": "2025-04-14T21:39:58.030Z"
   },
   {
    "duration": 275,
    "start_time": "2025-04-14T21:40:03.730Z"
   },
   {
    "duration": 446,
    "start_time": "2025-04-14T21:40:09.730Z"
   },
   {
    "duration": 462,
    "start_time": "2025-04-14T21:40:14.590Z"
   },
   {
    "duration": 25,
    "start_time": "2025-04-14T21:40:22.071Z"
   },
   {
    "duration": 15,
    "start_time": "2025-04-14T21:40:28.370Z"
   },
   {
    "duration": 10,
    "start_time": "2025-04-14T21:40:31.810Z"
   },
   {
    "duration": 24,
    "start_time": "2025-04-14T21:40:48.553Z"
   },
   {
    "duration": 5,
    "start_time": "2025-04-14T21:41:19.270Z"
   },
   {
    "duration": 7,
    "start_time": "2025-04-14T21:41:35.070Z"
   },
   {
    "duration": 16,
    "start_time": "2025-04-14T21:43:03.810Z"
   },
   {
    "duration": 540,
    "start_time": "2025-04-14T21:45:51.610Z"
   },
   {
    "duration": 432,
    "start_time": "2025-04-14T21:46:10.122Z"
   },
   {
    "duration": 398,
    "start_time": "2025-04-14T21:47:41.975Z"
   },
   {
    "duration": 403,
    "start_time": "2025-04-14T21:47:47.250Z"
   },
   {
    "duration": 537,
    "start_time": "2025-04-14T21:47:52.309Z"
   },
   {
    "duration": 400,
    "start_time": "2025-04-14T21:47:58.923Z"
   },
   {
    "duration": 462,
    "start_time": "2025-04-14T21:48:04.630Z"
   },
   {
    "duration": 519,
    "start_time": "2025-04-14T21:48:55.578Z"
   },
   {
    "duration": 443,
    "start_time": "2025-04-14T21:49:01.499Z"
   },
   {
    "duration": 130,
    "start_time": "2025-04-14T21:53:07.630Z"
   },
   {
    "duration": 405,
    "start_time": "2025-04-14T21:53:24.168Z"
   },
   {
    "duration": 396,
    "start_time": "2025-04-14T21:53:32.250Z"
   },
   {
    "duration": 515,
    "start_time": "2025-04-14T21:53:40.231Z"
   },
   {
    "duration": 396,
    "start_time": "2025-04-14T21:53:48.691Z"
   },
   {
    "duration": 420,
    "start_time": "2025-04-14T21:54:00.970Z"
   },
   {
    "duration": 520,
    "start_time": "2025-04-14T21:54:06.267Z"
   },
   {
    "duration": 397,
    "start_time": "2025-04-14T21:55:38.510Z"
   },
   {
    "duration": 394,
    "start_time": "2025-04-14T21:55:50.834Z"
   },
   {
    "duration": 391,
    "start_time": "2025-04-14T21:56:02.270Z"
   },
   {
    "duration": 514,
    "start_time": "2025-04-14T21:56:13.180Z"
   },
   {
    "duration": 402,
    "start_time": "2025-04-15T16:05:37.180Z"
   },
   {
    "duration": 78,
    "start_time": "2025-04-15T16:05:37.584Z"
   },
   {
    "duration": 12,
    "start_time": "2025-04-15T16:05:37.664Z"
   },
   {
    "duration": 44,
    "start_time": "2025-04-15T16:05:37.678Z"
   },
   {
    "duration": 29,
    "start_time": "2025-04-15T16:05:37.725Z"
   },
   {
    "duration": 21,
    "start_time": "2025-04-15T16:05:37.756Z"
   },
   {
    "duration": 34,
    "start_time": "2025-04-15T16:05:37.779Z"
   },
   {
    "duration": 40,
    "start_time": "2025-04-15T16:05:37.814Z"
   },
   {
    "duration": 27,
    "start_time": "2025-04-15T16:05:37.855Z"
   },
   {
    "duration": 27,
    "start_time": "2025-04-15T16:05:37.883Z"
   },
   {
    "duration": 32,
    "start_time": "2025-04-15T16:05:37.911Z"
   },
   {
    "duration": 35,
    "start_time": "2025-04-15T16:05:37.945Z"
   },
   {
    "duration": 36,
    "start_time": "2025-04-15T16:05:37.981Z"
   },
   {
    "duration": 30,
    "start_time": "2025-04-15T16:05:38.020Z"
   },
   {
    "duration": 36,
    "start_time": "2025-04-15T16:05:38.052Z"
   },
   {
    "duration": 37,
    "start_time": "2025-04-15T16:05:38.090Z"
   },
   {
    "duration": 35,
    "start_time": "2025-04-15T16:05:38.129Z"
   },
   {
    "duration": 17,
    "start_time": "2025-04-15T16:05:38.166Z"
   },
   {
    "duration": 22,
    "start_time": "2025-04-15T16:05:38.185Z"
   },
   {
    "duration": 35,
    "start_time": "2025-04-15T16:05:38.209Z"
   },
   {
    "duration": 30,
    "start_time": "2025-04-15T16:05:38.246Z"
   },
   {
    "duration": 1035,
    "start_time": "2025-04-15T16:05:38.278Z"
   },
   {
    "duration": 211,
    "start_time": "2025-04-15T16:05:39.316Z"
   },
   {
    "duration": 115,
    "start_time": "2025-04-15T16:05:39.528Z"
   },
   {
    "duration": 277,
    "start_time": "2025-04-15T16:05:39.644Z"
   },
   {
    "duration": 431,
    "start_time": "2025-04-15T16:05:39.923Z"
   },
   {
    "duration": 506,
    "start_time": "2025-04-15T16:05:40.356Z"
   },
   {
    "duration": 26,
    "start_time": "2025-04-15T16:05:40.864Z"
   },
   {
    "duration": 16,
    "start_time": "2025-04-15T16:05:40.892Z"
   },
   {
    "duration": 10,
    "start_time": "2025-04-15T16:05:40.938Z"
   },
   {
    "duration": 18,
    "start_time": "2025-04-15T16:05:40.949Z"
   },
   {
    "duration": 15,
    "start_time": "2025-04-15T16:05:40.968Z"
   },
   {
    "duration": 488,
    "start_time": "2025-04-15T16:05:40.985Z"
   },
   {
    "duration": 431,
    "start_time": "2025-04-15T16:05:41.475Z"
   },
   {
    "duration": 530,
    "start_time": "2025-04-15T16:05:41.909Z"
   },
   {
    "duration": 419,
    "start_time": "2025-04-15T16:05:42.441Z"
   },
   {
    "duration": 13,
    "start_time": "2025-04-15T16:11:58.830Z"
   },
   {
    "duration": 112,
    "start_time": "2025-04-15T18:01:33.768Z"
   },
   {
    "duration": 12,
    "start_time": "2025-04-15T18:03:56.482Z"
   },
   {
    "duration": 428,
    "start_time": "2025-04-15T18:04:20.053Z"
   },
   {
    "duration": 60,
    "start_time": "2025-04-15T18:04:20.484Z"
   },
   {
    "duration": 12,
    "start_time": "2025-04-15T18:04:20.546Z"
   },
   {
    "duration": 22,
    "start_time": "2025-04-15T18:04:20.560Z"
   },
   {
    "duration": 29,
    "start_time": "2025-04-15T18:04:20.584Z"
   },
   {
    "duration": 17,
    "start_time": "2025-04-15T18:04:20.616Z"
   },
   {
    "duration": 31,
    "start_time": "2025-04-15T18:04:20.635Z"
   },
   {
    "duration": 10,
    "start_time": "2025-04-15T18:04:20.667Z"
   },
   {
    "duration": 6,
    "start_time": "2025-04-15T18:04:20.678Z"
   },
   {
    "duration": 7,
    "start_time": "2025-04-15T18:04:20.686Z"
   },
   {
    "duration": 17,
    "start_time": "2025-04-15T18:04:20.695Z"
   },
   {
    "duration": 9,
    "start_time": "2025-04-15T18:04:20.714Z"
   },
   {
    "duration": 6,
    "start_time": "2025-04-15T18:04:20.724Z"
   },
   {
    "duration": 14,
    "start_time": "2025-04-15T18:04:20.732Z"
   },
   {
    "duration": 11,
    "start_time": "2025-04-15T18:04:20.747Z"
   },
   {
    "duration": 9,
    "start_time": "2025-04-15T18:04:20.760Z"
   },
   {
    "duration": 15,
    "start_time": "2025-04-15T18:04:20.771Z"
   },
   {
    "duration": 5,
    "start_time": "2025-04-15T18:04:20.788Z"
   },
   {
    "duration": 11,
    "start_time": "2025-04-15T18:04:20.794Z"
   },
   {
    "duration": 4,
    "start_time": "2025-04-15T18:04:20.807Z"
   },
   {
    "duration": 27,
    "start_time": "2025-04-15T18:04:20.813Z"
   },
   {
    "duration": 833,
    "start_time": "2025-04-15T18:04:20.841Z"
   },
   {
    "duration": 203,
    "start_time": "2025-04-15T18:04:21.676Z"
   },
   {
    "duration": 117,
    "start_time": "2025-04-15T18:04:21.881Z"
   },
   {
    "duration": 273,
    "start_time": "2025-04-15T18:04:22.000Z"
   },
   {
    "duration": 430,
    "start_time": "2025-04-15T18:04:22.274Z"
   },
   {
    "duration": 505,
    "start_time": "2025-04-15T18:04:22.705Z"
   },
   {
    "duration": 37,
    "start_time": "2025-04-15T18:04:23.214Z"
   },
   {
    "duration": 15,
    "start_time": "2025-04-15T18:04:23.253Z"
   },
   {
    "duration": 50,
    "start_time": "2025-04-15T18:04:23.270Z"
   },
   {
    "duration": 17,
    "start_time": "2025-04-15T18:04:23.322Z"
   },
   {
    "duration": 15,
    "start_time": "2025-04-15T18:04:23.341Z"
   },
   {
    "duration": 418,
    "start_time": "2025-04-15T18:04:23.357Z"
   },
   {
    "duration": 439,
    "start_time": "2025-04-15T18:04:23.777Z"
   },
   {
    "duration": 420,
    "start_time": "2025-04-15T18:04:24.217Z"
   },
   {
    "duration": 545,
    "start_time": "2025-04-15T18:04:24.639Z"
   },
   {
    "duration": 13,
    "start_time": "2025-04-15T18:04:25.185Z"
   },
   {
    "duration": 35,
    "start_time": "2025-04-15T18:04:25.200Z"
   },
   {
    "duration": 13,
    "start_time": "2025-04-15T18:09:10.293Z"
   },
   {
    "duration": 635,
    "start_time": "2025-04-15T18:15:23.656Z"
   },
   {
    "duration": 11,
    "start_time": "2025-04-15T18:15:35.794Z"
   },
   {
    "duration": 8,
    "start_time": "2025-04-15T18:16:05.822Z"
   },
   {
    "duration": 3,
    "start_time": "2025-04-15T18:22:41.084Z"
   },
   {
    "duration": 9,
    "start_time": "2025-04-15T18:23:51.842Z"
   },
   {
    "duration": 404,
    "start_time": "2025-04-15T18:27:25.473Z"
   },
   {
    "duration": 71,
    "start_time": "2025-04-15T18:27:25.879Z"
   },
   {
    "duration": 15,
    "start_time": "2025-04-15T18:27:25.951Z"
   },
   {
    "duration": 61,
    "start_time": "2025-04-15T18:27:25.967Z"
   },
   {
    "duration": 37,
    "start_time": "2025-04-15T18:27:26.030Z"
   },
   {
    "duration": 34,
    "start_time": "2025-04-15T18:27:26.069Z"
   },
   {
    "duration": 32,
    "start_time": "2025-04-15T18:27:26.105Z"
   },
   {
    "duration": 22,
    "start_time": "2025-04-15T18:27:26.139Z"
   },
   {
    "duration": 30,
    "start_time": "2025-04-15T18:27:26.163Z"
   },
   {
    "duration": 28,
    "start_time": "2025-04-15T18:27:26.195Z"
   },
   {
    "duration": 35,
    "start_time": "2025-04-15T18:27:26.225Z"
   },
   {
    "duration": 25,
    "start_time": "2025-04-15T18:27:26.262Z"
   },
   {
    "duration": 26,
    "start_time": "2025-04-15T18:27:26.289Z"
   },
   {
    "duration": 37,
    "start_time": "2025-04-15T18:27:26.318Z"
   },
   {
    "duration": 16,
    "start_time": "2025-04-15T18:27:26.356Z"
   },
   {
    "duration": 31,
    "start_time": "2025-04-15T18:27:26.373Z"
   },
   {
    "duration": 14,
    "start_time": "2025-04-15T18:27:26.406Z"
   },
   {
    "duration": 9,
    "start_time": "2025-04-15T18:27:26.422Z"
   },
   {
    "duration": 30,
    "start_time": "2025-04-15T18:27:26.433Z"
   },
   {
    "duration": 20,
    "start_time": "2025-04-15T18:27:26.464Z"
   },
   {
    "duration": 21,
    "start_time": "2025-04-15T18:27:26.486Z"
   },
   {
    "duration": 765,
    "start_time": "2025-04-15T18:27:26.509Z"
   },
   {
    "duration": 198,
    "start_time": "2025-04-15T18:27:27.275Z"
   },
   {
    "duration": 109,
    "start_time": "2025-04-15T18:27:27.475Z"
   },
   {
    "duration": 276,
    "start_time": "2025-04-15T18:27:27.586Z"
   },
   {
    "duration": 420,
    "start_time": "2025-04-15T18:27:27.864Z"
   },
   {
    "duration": 495,
    "start_time": "2025-04-15T18:27:28.286Z"
   },
   {
    "duration": 26,
    "start_time": "2025-04-15T18:27:28.782Z"
   },
   {
    "duration": 35,
    "start_time": "2025-04-15T18:27:28.810Z"
   },
   {
    "duration": 10,
    "start_time": "2025-04-15T18:27:28.847Z"
   },
   {
    "duration": 33,
    "start_time": "2025-04-15T18:27:28.859Z"
   },
   {
    "duration": 15,
    "start_time": "2025-04-15T18:27:28.894Z"
   },
   {
    "duration": 428,
    "start_time": "2025-04-15T18:27:28.911Z"
   },
   {
    "duration": 416,
    "start_time": "2025-04-15T18:27:29.340Z"
   },
   {
    "duration": 418,
    "start_time": "2025-04-15T18:27:29.758Z"
   },
   {
    "duration": 535,
    "start_time": "2025-04-15T18:27:30.178Z"
   },
   {
    "duration": 3,
    "start_time": "2025-04-15T18:27:30.715Z"
   },
   {
    "duration": 36,
    "start_time": "2025-04-15T18:27:30.719Z"
   },
   {
    "duration": 136,
    "start_time": "2025-04-15T18:27:30.757Z"
   },
   {
    "duration": 0,
    "start_time": "2025-04-15T18:27:30.895Z"
   },
   {
    "duration": 0,
    "start_time": "2025-04-15T18:27:30.896Z"
   },
   {
    "duration": 422,
    "start_time": "2025-04-15T18:28:10.541Z"
   },
   {
    "duration": 61,
    "start_time": "2025-04-15T18:28:10.965Z"
   },
   {
    "duration": 13,
    "start_time": "2025-04-15T18:28:11.028Z"
   },
   {
    "duration": 19,
    "start_time": "2025-04-15T18:28:11.043Z"
   },
   {
    "duration": 12,
    "start_time": "2025-04-15T18:28:11.063Z"
   },
   {
    "duration": 34,
    "start_time": "2025-04-15T18:28:11.076Z"
   },
   {
    "duration": 12,
    "start_time": "2025-04-15T18:28:11.112Z"
   },
   {
    "duration": 14,
    "start_time": "2025-04-15T18:28:11.126Z"
   },
   {
    "duration": 4,
    "start_time": "2025-04-15T18:28:11.142Z"
   },
   {
    "duration": 8,
    "start_time": "2025-04-15T18:28:11.148Z"
   },
   {
    "duration": 9,
    "start_time": "2025-04-15T18:28:11.157Z"
   },
   {
    "duration": 5,
    "start_time": "2025-04-15T18:28:11.168Z"
   },
   {
    "duration": 32,
    "start_time": "2025-04-15T18:28:11.174Z"
   },
   {
    "duration": 18,
    "start_time": "2025-04-15T18:28:11.208Z"
   },
   {
    "duration": 10,
    "start_time": "2025-04-15T18:28:11.227Z"
   },
   {
    "duration": 10,
    "start_time": "2025-04-15T18:28:11.239Z"
   },
   {
    "duration": 12,
    "start_time": "2025-04-15T18:28:11.250Z"
   },
   {
    "duration": 6,
    "start_time": "2025-04-15T18:28:11.264Z"
   },
   {
    "duration": 9,
    "start_time": "2025-04-15T18:28:11.271Z"
   },
   {
    "duration": 5,
    "start_time": "2025-04-15T18:28:11.282Z"
   },
   {
    "duration": 11,
    "start_time": "2025-04-15T18:28:11.288Z"
   },
   {
    "duration": 871,
    "start_time": "2025-04-15T18:28:11.300Z"
   },
   {
    "duration": 208,
    "start_time": "2025-04-15T18:28:12.173Z"
   },
   {
    "duration": 128,
    "start_time": "2025-04-15T18:28:12.382Z"
   },
   {
    "duration": 268,
    "start_time": "2025-04-15T18:28:12.511Z"
   },
   {
    "duration": 430,
    "start_time": "2025-04-15T18:28:12.780Z"
   },
   {
    "duration": 511,
    "start_time": "2025-04-15T18:28:13.212Z"
   },
   {
    "duration": 34,
    "start_time": "2025-04-15T18:28:13.726Z"
   },
   {
    "duration": 15,
    "start_time": "2025-04-15T18:28:13.762Z"
   },
   {
    "duration": 13,
    "start_time": "2025-04-15T18:28:13.780Z"
   },
   {
    "duration": 50,
    "start_time": "2025-04-15T18:28:13.795Z"
   },
   {
    "duration": 16,
    "start_time": "2025-04-15T18:28:13.848Z"
   },
   {
    "duration": 461,
    "start_time": "2025-04-15T18:28:13.866Z"
   },
   {
    "duration": 448,
    "start_time": "2025-04-15T18:28:14.329Z"
   },
   {
    "duration": 426,
    "start_time": "2025-04-15T18:28:14.778Z"
   },
   {
    "duration": 571,
    "start_time": "2025-04-15T18:28:15.206Z"
   },
   {
    "duration": 2,
    "start_time": "2025-04-15T18:28:15.779Z"
   },
   {
    "duration": 14,
    "start_time": "2025-04-15T18:28:15.783Z"
   },
   {
    "duration": 39,
    "start_time": "2025-04-15T18:28:15.799Z"
   },
   {
    "duration": 10,
    "start_time": "2025-04-15T18:28:15.840Z"
   },
   {
    "duration": 18,
    "start_time": "2025-04-15T18:28:15.851Z"
   },
   {
    "duration": 138,
    "start_time": "2025-04-15T18:30:14.689Z"
   },
   {
    "duration": 9,
    "start_time": "2025-04-15T18:30:17.980Z"
   },
   {
    "duration": 8,
    "start_time": "2025-04-15T18:30:55.699Z"
   },
   {
    "duration": 8,
    "start_time": "2025-04-15T18:31:02.248Z"
   },
   {
    "duration": 381,
    "start_time": "2025-04-15T18:34:06.695Z"
   },
   {
    "duration": 61,
    "start_time": "2025-04-15T18:34:07.078Z"
   },
   {
    "duration": 13,
    "start_time": "2025-04-15T18:34:07.141Z"
   },
   {
    "duration": 15,
    "start_time": "2025-04-15T18:34:07.156Z"
   },
   {
    "duration": 11,
    "start_time": "2025-04-15T18:34:07.173Z"
   },
   {
    "duration": 62,
    "start_time": "2025-04-15T18:34:07.186Z"
   },
   {
    "duration": 16,
    "start_time": "2025-04-15T18:34:07.250Z"
   },
   {
    "duration": 26,
    "start_time": "2025-04-15T18:34:07.267Z"
   },
   {
    "duration": 34,
    "start_time": "2025-04-15T18:34:07.295Z"
   },
   {
    "duration": 91,
    "start_time": "2025-04-15T18:34:07.332Z"
   },
   {
    "duration": 34,
    "start_time": "2025-04-15T18:34:07.424Z"
   },
   {
    "duration": 11,
    "start_time": "2025-04-15T18:34:07.460Z"
   },
   {
    "duration": 9,
    "start_time": "2025-04-15T18:34:07.473Z"
   },
   {
    "duration": 23,
    "start_time": "2025-04-15T18:34:07.484Z"
   },
   {
    "duration": 32,
    "start_time": "2025-04-15T18:34:07.508Z"
   },
   {
    "duration": 45,
    "start_time": "2025-04-15T18:34:07.542Z"
   },
   {
    "duration": 12,
    "start_time": "2025-04-15T18:34:07.589Z"
   },
   {
    "duration": 9,
    "start_time": "2025-04-15T18:34:07.603Z"
   },
   {
    "duration": 7,
    "start_time": "2025-04-15T18:34:07.614Z"
   },
   {
    "duration": 4,
    "start_time": "2025-04-15T18:34:07.623Z"
   },
   {
    "duration": 10,
    "start_time": "2025-04-15T18:34:07.628Z"
   },
   {
    "duration": 846,
    "start_time": "2025-04-15T18:34:07.639Z"
   },
   {
    "duration": 204,
    "start_time": "2025-04-15T18:34:08.487Z"
   },
   {
    "duration": 118,
    "start_time": "2025-04-15T18:34:08.692Z"
   },
   {
    "duration": 276,
    "start_time": "2025-04-15T18:34:08.811Z"
   },
   {
    "duration": 437,
    "start_time": "2025-04-15T18:34:09.089Z"
   },
   {
    "duration": 511,
    "start_time": "2025-04-15T18:34:09.528Z"
   },
   {
    "duration": 25,
    "start_time": "2025-04-15T18:34:10.042Z"
   },
   {
    "duration": 34,
    "start_time": "2025-04-15T18:34:10.068Z"
   },
   {
    "duration": 9,
    "start_time": "2025-04-15T18:34:10.104Z"
   },
   {
    "duration": 28,
    "start_time": "2025-04-15T18:34:10.115Z"
   },
   {
    "duration": 15,
    "start_time": "2025-04-15T18:34:10.144Z"
   },
   {
    "duration": 431,
    "start_time": "2025-04-15T18:34:10.161Z"
   },
   {
    "duration": 416,
    "start_time": "2025-04-15T18:34:10.594Z"
   },
   {
    "duration": 419,
    "start_time": "2025-04-15T18:34:11.013Z"
   },
   {
    "duration": 569,
    "start_time": "2025-04-15T18:34:11.433Z"
   },
   {
    "duration": 3,
    "start_time": "2025-04-15T18:34:12.004Z"
   },
   {
    "duration": 71,
    "start_time": "2025-04-15T18:34:12.009Z"
   },
   {
    "duration": 105,
    "start_time": "2025-04-15T18:34:12.082Z"
   },
   {
    "duration": 0,
    "start_time": "2025-04-15T18:34:12.189Z"
   },
   {
    "duration": 0,
    "start_time": "2025-04-15T18:34:12.190Z"
   },
   {
    "duration": 0,
    "start_time": "2025-04-15T18:34:12.192Z"
   },
   {
    "duration": 0,
    "start_time": "2025-04-15T18:34:12.193Z"
   },
   {
    "duration": 413,
    "start_time": "2025-04-15T18:37:28.753Z"
   },
   {
    "duration": 60,
    "start_time": "2025-04-15T18:37:29.168Z"
   },
   {
    "duration": 12,
    "start_time": "2025-04-15T18:37:29.230Z"
   },
   {
    "duration": 85,
    "start_time": "2025-04-15T18:37:29.244Z"
   },
   {
    "duration": 11,
    "start_time": "2025-04-15T18:37:29.331Z"
   },
   {
    "duration": 76,
    "start_time": "2025-04-15T18:37:29.344Z"
   },
   {
    "duration": 35,
    "start_time": "2025-04-15T18:37:29.422Z"
   },
   {
    "duration": 20,
    "start_time": "2025-04-15T18:37:29.458Z"
   },
   {
    "duration": 22,
    "start_time": "2025-04-15T18:37:29.479Z"
   },
   {
    "duration": 26,
    "start_time": "2025-04-15T18:37:29.504Z"
   },
   {
    "duration": 46,
    "start_time": "2025-04-15T18:37:29.532Z"
   },
   {
    "duration": 29,
    "start_time": "2025-04-15T18:37:29.579Z"
   },
   {
    "duration": 27,
    "start_time": "2025-04-15T18:37:29.610Z"
   },
   {
    "duration": 19,
    "start_time": "2025-04-15T18:37:29.639Z"
   },
   {
    "duration": 11,
    "start_time": "2025-04-15T18:37:29.659Z"
   },
   {
    "duration": 13,
    "start_time": "2025-04-15T18:37:29.671Z"
   },
   {
    "duration": 11,
    "start_time": "2025-04-15T18:37:29.686Z"
   },
   {
    "duration": 15,
    "start_time": "2025-04-15T18:37:29.698Z"
   },
   {
    "duration": 14,
    "start_time": "2025-04-15T18:37:29.715Z"
   },
   {
    "duration": 13,
    "start_time": "2025-04-15T18:37:29.731Z"
   },
   {
    "duration": 18,
    "start_time": "2025-04-15T18:37:29.746Z"
   },
   {
    "duration": 816,
    "start_time": "2025-04-15T18:37:29.765Z"
   },
   {
    "duration": 208,
    "start_time": "2025-04-15T18:37:30.583Z"
   },
   {
    "duration": 110,
    "start_time": "2025-04-15T18:37:30.793Z"
   },
   {
    "duration": 274,
    "start_time": "2025-04-15T18:37:30.905Z"
   },
   {
    "duration": 428,
    "start_time": "2025-04-15T18:37:31.181Z"
   },
   {
    "duration": 533,
    "start_time": "2025-04-15T18:37:31.611Z"
   },
   {
    "duration": 27,
    "start_time": "2025-04-15T18:37:32.149Z"
   },
   {
    "duration": 16,
    "start_time": "2025-04-15T18:37:32.177Z"
   },
   {
    "duration": 30,
    "start_time": "2025-04-15T18:37:32.194Z"
   },
   {
    "duration": 39,
    "start_time": "2025-04-15T18:37:32.236Z"
   },
   {
    "duration": 16,
    "start_time": "2025-04-15T18:37:32.277Z"
   },
   {
    "duration": 428,
    "start_time": "2025-04-15T18:37:32.294Z"
   },
   {
    "duration": 436,
    "start_time": "2025-04-15T18:37:32.723Z"
   },
   {
    "duration": 433,
    "start_time": "2025-04-15T18:37:33.161Z"
   },
   {
    "duration": 546,
    "start_time": "2025-04-15T18:37:33.596Z"
   },
   {
    "duration": 4,
    "start_time": "2025-04-15T18:37:34.144Z"
   },
   {
    "duration": 15,
    "start_time": "2025-04-15T18:37:34.150Z"
   },
   {
    "duration": 93,
    "start_time": "2025-04-15T18:37:34.167Z"
   },
   {
    "duration": 468,
    "start_time": "2025-04-15T18:37:34.262Z"
   },
   {
    "duration": 0,
    "start_time": "2025-04-15T18:37:34.732Z"
   },
   {
    "duration": 0,
    "start_time": "2025-04-15T18:37:34.734Z"
   },
   {
    "duration": 0,
    "start_time": "2025-04-15T18:37:34.736Z"
   },
   {
    "duration": 12,
    "start_time": "2025-04-15T18:38:07.262Z"
   },
   {
    "duration": 12,
    "start_time": "2025-04-15T18:38:19.631Z"
   },
   {
    "duration": 8,
    "start_time": "2025-04-15T18:38:46.431Z"
   },
   {
    "duration": 6,
    "start_time": "2025-04-15T18:57:56.268Z"
   },
   {
    "duration": 6,
    "start_time": "2025-04-15T19:27:35.415Z"
   },
   {
    "duration": 3666,
    "start_time": "2025-04-15T19:41:43.744Z"
   },
   {
    "duration": 3596,
    "start_time": "2025-04-15T19:42:03.584Z"
   },
   {
    "duration": 9,
    "start_time": "2025-04-15T19:43:07.035Z"
   },
   {
    "duration": 481,
    "start_time": "2025-04-15T19:58:01.456Z"
   },
   {
    "duration": 62,
    "start_time": "2025-04-15T19:58:01.940Z"
   },
   {
    "duration": 13,
    "start_time": "2025-04-15T19:58:02.004Z"
   },
   {
    "duration": 51,
    "start_time": "2025-04-15T19:58:02.020Z"
   },
   {
    "duration": 33,
    "start_time": "2025-04-15T19:58:02.073Z"
   },
   {
    "duration": 34,
    "start_time": "2025-04-15T19:58:02.109Z"
   },
   {
    "duration": 30,
    "start_time": "2025-04-15T19:58:02.145Z"
   },
   {
    "duration": 28,
    "start_time": "2025-04-15T19:58:02.177Z"
   },
   {
    "duration": 11,
    "start_time": "2025-04-15T19:58:02.207Z"
   },
   {
    "duration": 5,
    "start_time": "2025-04-15T19:58:02.222Z"
   },
   {
    "duration": 27,
    "start_time": "2025-04-15T19:58:02.229Z"
   },
   {
    "duration": 7,
    "start_time": "2025-04-15T19:58:02.259Z"
   },
   {
    "duration": 75,
    "start_time": "2025-04-15T19:58:02.268Z"
   },
   {
    "duration": 53,
    "start_time": "2025-04-15T19:58:02.345Z"
   },
   {
    "duration": 24,
    "start_time": "2025-04-15T19:58:02.400Z"
   },
   {
    "duration": 23,
    "start_time": "2025-04-15T19:58:02.426Z"
   },
   {
    "duration": 31,
    "start_time": "2025-04-15T19:58:02.451Z"
   },
   {
    "duration": 17,
    "start_time": "2025-04-15T19:58:02.484Z"
   },
   {
    "duration": 29,
    "start_time": "2025-04-15T19:58:02.503Z"
   },
   {
    "duration": 17,
    "start_time": "2025-04-15T19:58:02.534Z"
   },
   {
    "duration": 6,
    "start_time": "2025-04-15T19:58:02.553Z"
   },
   {
    "duration": 820,
    "start_time": "2025-04-15T19:58:02.562Z"
   },
   {
    "duration": 228,
    "start_time": "2025-04-15T19:58:03.385Z"
   },
   {
    "duration": 126,
    "start_time": "2025-04-15T19:58:03.615Z"
   },
   {
    "duration": 289,
    "start_time": "2025-04-15T19:58:03.744Z"
   },
   {
    "duration": 502,
    "start_time": "2025-04-15T19:58:04.038Z"
   },
   {
    "duration": 556,
    "start_time": "2025-04-15T19:58:04.542Z"
   },
   {
    "duration": 50,
    "start_time": "2025-04-15T19:58:05.103Z"
   },
   {
    "duration": 21,
    "start_time": "2025-04-15T19:58:05.157Z"
   },
   {
    "duration": 16,
    "start_time": "2025-04-15T19:58:05.180Z"
   },
   {
    "duration": 57,
    "start_time": "2025-04-15T19:58:05.201Z"
   },
   {
    "duration": 22,
    "start_time": "2025-04-15T19:58:05.260Z"
   },
   {
    "duration": 474,
    "start_time": "2025-04-15T19:58:05.284Z"
   },
   {
    "duration": 447,
    "start_time": "2025-04-15T19:58:05.760Z"
   },
   {
    "duration": 434,
    "start_time": "2025-04-15T19:58:06.209Z"
   },
   {
    "duration": 571,
    "start_time": "2025-04-15T19:58:06.645Z"
   },
   {
    "duration": 3,
    "start_time": "2025-04-15T19:58:07.218Z"
   },
   {
    "duration": 69,
    "start_time": "2025-04-15T19:58:07.238Z"
   },
   {
    "duration": 44,
    "start_time": "2025-04-15T19:58:07.309Z"
   },
   {
    "duration": 28,
    "start_time": "2025-04-15T19:58:07.358Z"
   },
   {
    "duration": 17,
    "start_time": "2025-04-15T19:58:07.388Z"
   },
   {
    "duration": 3551,
    "start_time": "2025-04-15T19:58:07.408Z"
   },
   {
    "duration": 9,
    "start_time": "2025-04-15T19:58:10.960Z"
   },
   {
    "duration": 414,
    "start_time": "2025-04-15T20:13:05.284Z"
   },
   {
    "duration": 65,
    "start_time": "2025-04-15T20:13:05.700Z"
   },
   {
    "duration": 14,
    "start_time": "2025-04-15T20:13:05.766Z"
   },
   {
    "duration": 53,
    "start_time": "2025-04-15T20:13:05.783Z"
   },
   {
    "duration": 27,
    "start_time": "2025-04-15T20:13:05.838Z"
   },
   {
    "duration": 42,
    "start_time": "2025-04-15T20:13:05.867Z"
   },
   {
    "duration": 31,
    "start_time": "2025-04-15T20:13:05.912Z"
   },
   {
    "duration": 20,
    "start_time": "2025-04-15T20:13:05.945Z"
   },
   {
    "duration": 69,
    "start_time": "2025-04-15T20:13:05.967Z"
   },
   {
    "duration": 12,
    "start_time": "2025-04-15T20:13:06.040Z"
   },
   {
    "duration": 11,
    "start_time": "2025-04-15T20:13:06.054Z"
   },
   {
    "duration": 22,
    "start_time": "2025-04-15T20:13:06.067Z"
   },
   {
    "duration": 33,
    "start_time": "2025-04-15T20:13:06.091Z"
   },
   {
    "duration": 24,
    "start_time": "2025-04-15T20:13:06.126Z"
   },
   {
    "duration": 6,
    "start_time": "2025-04-15T20:13:06.152Z"
   },
   {
    "duration": 9,
    "start_time": "2025-04-15T20:13:06.159Z"
   },
   {
    "duration": 12,
    "start_time": "2025-04-15T20:13:06.170Z"
   },
   {
    "duration": 10,
    "start_time": "2025-04-15T20:13:06.184Z"
   },
   {
    "duration": 37,
    "start_time": "2025-04-15T20:13:06.196Z"
   },
   {
    "duration": 24,
    "start_time": "2025-04-15T20:13:06.235Z"
   },
   {
    "duration": 21,
    "start_time": "2025-04-15T20:13:06.261Z"
   },
   {
    "duration": 824,
    "start_time": "2025-04-15T20:13:06.284Z"
   },
   {
    "duration": 215,
    "start_time": "2025-04-15T20:13:07.110Z"
   },
   {
    "duration": 125,
    "start_time": "2025-04-15T20:13:07.327Z"
   },
   {
    "duration": 295,
    "start_time": "2025-04-15T20:13:07.454Z"
   },
   {
    "duration": 467,
    "start_time": "2025-04-15T20:13:07.751Z"
   },
   {
    "duration": 535,
    "start_time": "2025-04-15T20:13:08.220Z"
   },
   {
    "duration": 27,
    "start_time": "2025-04-15T20:13:08.760Z"
   },
   {
    "duration": 16,
    "start_time": "2025-04-15T20:13:08.789Z"
   },
   {
    "duration": 51,
    "start_time": "2025-04-15T20:13:08.807Z"
   },
   {
    "duration": 19,
    "start_time": "2025-04-15T20:13:08.860Z"
   },
   {
    "duration": 21,
    "start_time": "2025-04-15T20:13:08.881Z"
   },
   {
    "duration": 500,
    "start_time": "2025-04-15T20:13:08.904Z"
   },
   {
    "duration": 432,
    "start_time": "2025-04-15T20:13:09.406Z"
   },
   {
    "duration": 432,
    "start_time": "2025-04-15T20:13:09.840Z"
   },
   {
    "duration": 553,
    "start_time": "2025-04-15T20:13:10.274Z"
   },
   {
    "duration": 10,
    "start_time": "2025-04-15T20:13:10.828Z"
   },
   {
    "duration": 21,
    "start_time": "2025-04-15T20:13:10.840Z"
   },
   {
    "duration": 35,
    "start_time": "2025-04-15T20:13:10.864Z"
   },
   {
    "duration": 10,
    "start_time": "2025-04-15T20:13:10.901Z"
   },
   {
    "duration": 37,
    "start_time": "2025-04-15T20:13:10.913Z"
   },
   {
    "duration": 2014,
    "start_time": "2025-04-15T20:13:10.952Z"
   },
   {
    "duration": 7,
    "start_time": "2025-04-15T20:13:12.968Z"
   },
   {
    "duration": 407,
    "start_time": "2025-04-15T20:17:32.272Z"
   },
   {
    "duration": 64,
    "start_time": "2025-04-15T20:17:32.681Z"
   },
   {
    "duration": 13,
    "start_time": "2025-04-15T20:17:32.747Z"
   },
   {
    "duration": 31,
    "start_time": "2025-04-15T20:17:32.763Z"
   },
   {
    "duration": 22,
    "start_time": "2025-04-15T20:17:32.796Z"
   },
   {
    "duration": 9,
    "start_time": "2025-04-15T20:17:32.820Z"
   },
   {
    "duration": 15,
    "start_time": "2025-04-15T20:17:32.831Z"
   },
   {
    "duration": 14,
    "start_time": "2025-04-15T20:17:32.847Z"
   },
   {
    "duration": 21,
    "start_time": "2025-04-15T20:17:32.862Z"
   },
   {
    "duration": 25,
    "start_time": "2025-04-15T20:17:32.886Z"
   },
   {
    "duration": 39,
    "start_time": "2025-04-15T20:17:32.912Z"
   },
   {
    "duration": 15,
    "start_time": "2025-04-15T20:17:32.952Z"
   },
   {
    "duration": 34,
    "start_time": "2025-04-15T20:17:32.969Z"
   },
   {
    "duration": 35,
    "start_time": "2025-04-15T20:17:33.005Z"
   },
   {
    "duration": 15,
    "start_time": "2025-04-15T20:17:33.042Z"
   },
   {
    "duration": 9,
    "start_time": "2025-04-15T20:17:33.059Z"
   },
   {
    "duration": 34,
    "start_time": "2025-04-15T20:17:33.069Z"
   },
   {
    "duration": 18,
    "start_time": "2025-04-15T20:17:33.105Z"
   },
   {
    "duration": 9,
    "start_time": "2025-04-15T20:17:33.124Z"
   },
   {
    "duration": 32,
    "start_time": "2025-04-15T20:17:33.135Z"
   },
   {
    "duration": 20,
    "start_time": "2025-04-15T20:17:33.169Z"
   },
   {
    "duration": 828,
    "start_time": "2025-04-15T20:17:33.191Z"
   },
   {
    "duration": 223,
    "start_time": "2025-04-15T20:17:34.021Z"
   },
   {
    "duration": 124,
    "start_time": "2025-04-15T20:17:34.246Z"
   },
   {
    "duration": 275,
    "start_time": "2025-04-15T20:17:34.372Z"
   },
   {
    "duration": 478,
    "start_time": "2025-04-15T20:17:34.649Z"
   },
   {
    "duration": 521,
    "start_time": "2025-04-15T20:17:35.137Z"
   },
   {
    "duration": 26,
    "start_time": "2025-04-15T20:17:35.662Z"
   },
   {
    "duration": 63,
    "start_time": "2025-04-15T20:17:35.689Z"
   },
   {
    "duration": 18,
    "start_time": "2025-04-15T20:17:35.753Z"
   },
   {
    "duration": 46,
    "start_time": "2025-04-15T20:17:35.774Z"
   },
   {
    "duration": 16,
    "start_time": "2025-04-15T20:17:35.822Z"
   },
   {
    "duration": 426,
    "start_time": "2025-04-15T20:17:35.839Z"
   },
   {
    "duration": 441,
    "start_time": "2025-04-15T20:17:36.267Z"
   },
   {
    "duration": 419,
    "start_time": "2025-04-15T20:17:36.710Z"
   },
   {
    "duration": 542,
    "start_time": "2025-04-15T20:17:37.131Z"
   },
   {
    "duration": 3,
    "start_time": "2025-04-15T20:17:37.675Z"
   },
   {
    "duration": 19,
    "start_time": "2025-04-15T20:17:37.679Z"
   },
   {
    "duration": 50,
    "start_time": "2025-04-15T20:17:37.699Z"
   },
   {
    "duration": 10,
    "start_time": "2025-04-15T20:17:37.751Z"
   },
   {
    "duration": 20,
    "start_time": "2025-04-15T20:17:37.762Z"
   },
   {
    "duration": 127,
    "start_time": "2025-04-15T20:17:37.784Z"
   },
   {
    "duration": 0,
    "start_time": "2025-04-15T20:17:37.912Z"
   },
   {
    "duration": 422,
    "start_time": "2025-04-15T20:18:09.952Z"
   },
   {
    "duration": 62,
    "start_time": "2025-04-15T20:18:10.376Z"
   },
   {
    "duration": 23,
    "start_time": "2025-04-15T20:18:10.440Z"
   },
   {
    "duration": 20,
    "start_time": "2025-04-15T20:18:10.465Z"
   },
   {
    "duration": 14,
    "start_time": "2025-04-15T20:18:10.487Z"
   },
   {
    "duration": 34,
    "start_time": "2025-04-15T20:18:10.503Z"
   },
   {
    "duration": 12,
    "start_time": "2025-04-15T20:18:10.539Z"
   },
   {
    "duration": 10,
    "start_time": "2025-04-15T20:18:10.553Z"
   },
   {
    "duration": 5,
    "start_time": "2025-04-15T20:18:10.564Z"
   },
   {
    "duration": 4,
    "start_time": "2025-04-15T20:18:10.572Z"
   },
   {
    "duration": 10,
    "start_time": "2025-04-15T20:18:10.578Z"
   },
   {
    "duration": 5,
    "start_time": "2025-04-15T20:18:10.590Z"
   },
   {
    "duration": 14,
    "start_time": "2025-04-15T20:18:10.637Z"
   },
   {
    "duration": 8,
    "start_time": "2025-04-15T20:18:10.653Z"
   },
   {
    "duration": 8,
    "start_time": "2025-04-15T20:18:10.663Z"
   },
   {
    "duration": 12,
    "start_time": "2025-04-15T20:18:10.674Z"
   },
   {
    "duration": 49,
    "start_time": "2025-04-15T20:18:10.688Z"
   },
   {
    "duration": 7,
    "start_time": "2025-04-15T20:18:10.740Z"
   },
   {
    "duration": 9,
    "start_time": "2025-04-15T20:18:10.749Z"
   },
   {
    "duration": 5,
    "start_time": "2025-04-15T20:18:10.760Z"
   },
   {
    "duration": 11,
    "start_time": "2025-04-15T20:18:10.767Z"
   },
   {
    "duration": 814,
    "start_time": "2025-04-15T20:18:10.779Z"
   },
   {
    "duration": 203,
    "start_time": "2025-04-15T20:18:11.595Z"
   },
   {
    "duration": 113,
    "start_time": "2025-04-15T20:18:11.800Z"
   },
   {
    "duration": 272,
    "start_time": "2025-04-15T20:18:11.914Z"
   },
   {
    "duration": 425,
    "start_time": "2025-04-15T20:18:12.188Z"
   },
   {
    "duration": 523,
    "start_time": "2025-04-15T20:18:12.615Z"
   },
   {
    "duration": 25,
    "start_time": "2025-04-15T20:18:13.142Z"
   },
   {
    "duration": 16,
    "start_time": "2025-04-15T20:18:13.169Z"
   },
   {
    "duration": 11,
    "start_time": "2025-04-15T20:18:13.187Z"
   },
   {
    "duration": 51,
    "start_time": "2025-04-15T20:18:13.201Z"
   },
   {
    "duration": 16,
    "start_time": "2025-04-15T20:18:13.254Z"
   },
   {
    "duration": 434,
    "start_time": "2025-04-15T20:18:13.273Z"
   },
   {
    "duration": 447,
    "start_time": "2025-04-15T20:18:13.709Z"
   },
   {
    "duration": 437,
    "start_time": "2025-04-15T20:18:14.158Z"
   },
   {
    "duration": 584,
    "start_time": "2025-04-15T20:18:14.597Z"
   },
   {
    "duration": 3,
    "start_time": "2025-04-15T20:18:15.183Z"
   },
   {
    "duration": 18,
    "start_time": "2025-04-15T20:18:15.188Z"
   },
   {
    "duration": 51,
    "start_time": "2025-04-15T20:18:15.208Z"
   },
   {
    "duration": 10,
    "start_time": "2025-04-15T20:18:15.261Z"
   },
   {
    "duration": 24,
    "start_time": "2025-04-15T20:18:15.273Z"
   },
   {
    "duration": 194,
    "start_time": "2025-04-15T20:18:15.299Z"
   },
   {
    "duration": 0,
    "start_time": "2025-04-15T20:18:15.495Z"
   },
   {
    "duration": 449,
    "start_time": "2025-04-15T20:18:44.936Z"
   },
   {
    "duration": 63,
    "start_time": "2025-04-15T20:18:45.387Z"
   },
   {
    "duration": 16,
    "start_time": "2025-04-15T20:18:45.452Z"
   },
   {
    "duration": 30,
    "start_time": "2025-04-15T20:18:45.470Z"
   },
   {
    "duration": 29,
    "start_time": "2025-04-15T20:18:45.502Z"
   },
   {
    "duration": 43,
    "start_time": "2025-04-15T20:18:45.533Z"
   },
   {
    "duration": 20,
    "start_time": "2025-04-15T20:18:45.577Z"
   },
   {
    "duration": 84,
    "start_time": "2025-04-15T20:18:45.599Z"
   },
   {
    "duration": 7,
    "start_time": "2025-04-15T20:18:45.684Z"
   },
   {
    "duration": 4,
    "start_time": "2025-04-15T20:18:45.694Z"
   },
   {
    "duration": 12,
    "start_time": "2025-04-15T20:18:45.699Z"
   },
   {
    "duration": 7,
    "start_time": "2025-04-15T20:18:45.713Z"
   },
   {
    "duration": 27,
    "start_time": "2025-04-15T20:18:45.722Z"
   },
   {
    "duration": 41,
    "start_time": "2025-04-15T20:18:45.752Z"
   },
   {
    "duration": 8,
    "start_time": "2025-04-15T20:18:45.794Z"
   },
   {
    "duration": 11,
    "start_time": "2025-04-15T20:18:45.804Z"
   },
   {
    "duration": 11,
    "start_time": "2025-04-15T20:18:45.817Z"
   },
   {
    "duration": 13,
    "start_time": "2025-04-15T20:18:45.829Z"
   },
   {
    "duration": 17,
    "start_time": "2025-04-15T20:18:45.844Z"
   },
   {
    "duration": 12,
    "start_time": "2025-04-15T20:18:45.862Z"
   },
   {
    "duration": 5,
    "start_time": "2025-04-15T20:18:45.876Z"
   },
   {
    "duration": 844,
    "start_time": "2025-04-15T20:18:45.883Z"
   },
   {
    "duration": 217,
    "start_time": "2025-04-15T20:18:46.729Z"
   },
   {
    "duration": 125,
    "start_time": "2025-04-15T20:18:46.948Z"
   },
   {
    "duration": 302,
    "start_time": "2025-04-15T20:18:47.075Z"
   },
   {
    "duration": 472,
    "start_time": "2025-04-15T20:18:47.378Z"
   },
   {
    "duration": 560,
    "start_time": "2025-04-15T20:18:47.852Z"
   },
   {
    "duration": 44,
    "start_time": "2025-04-15T20:18:48.415Z"
   },
   {
    "duration": 15,
    "start_time": "2025-04-15T20:18:48.461Z"
   },
   {
    "duration": 9,
    "start_time": "2025-04-15T20:18:48.478Z"
   },
   {
    "duration": 17,
    "start_time": "2025-04-15T20:18:48.489Z"
   },
   {
    "duration": 54,
    "start_time": "2025-04-15T20:18:48.507Z"
   },
   {
    "duration": 459,
    "start_time": "2025-04-15T20:18:48.563Z"
   },
   {
    "duration": 463,
    "start_time": "2025-04-15T20:18:49.024Z"
   },
   {
    "duration": 450,
    "start_time": "2025-04-15T20:18:49.489Z"
   },
   {
    "duration": 580,
    "start_time": "2025-04-15T20:18:49.942Z"
   },
   {
    "duration": 3,
    "start_time": "2025-04-15T20:18:50.524Z"
   },
   {
    "duration": 14,
    "start_time": "2025-04-15T20:18:50.538Z"
   },
   {
    "duration": 33,
    "start_time": "2025-04-15T20:18:50.553Z"
   },
   {
    "duration": 10,
    "start_time": "2025-04-15T20:18:50.587Z"
   },
   {
    "duration": 40,
    "start_time": "2025-04-15T20:18:50.599Z"
   },
   {
    "duration": 3610,
    "start_time": "2025-04-15T20:18:50.641Z"
   },
   {
    "duration": 7,
    "start_time": "2025-04-15T20:18:54.253Z"
   },
   {
    "duration": 8,
    "start_time": "2025-04-15T20:19:25.347Z"
   },
   {
    "duration": 421,
    "start_time": "2025-04-15T20:20:08.202Z"
   },
   {
    "duration": 74,
    "start_time": "2025-04-15T20:20:08.625Z"
   },
   {
    "duration": 13,
    "start_time": "2025-04-15T20:20:08.701Z"
   },
   {
    "duration": 15,
    "start_time": "2025-04-15T20:20:08.717Z"
   },
   {
    "duration": 11,
    "start_time": "2025-04-15T20:20:08.734Z"
   },
   {
    "duration": 14,
    "start_time": "2025-04-15T20:20:08.746Z"
   },
   {
    "duration": 15,
    "start_time": "2025-04-15T20:20:08.762Z"
   },
   {
    "duration": 9,
    "start_time": "2025-04-15T20:20:08.779Z"
   },
   {
    "duration": 4,
    "start_time": "2025-04-15T20:20:08.789Z"
   },
   {
    "duration": 3,
    "start_time": "2025-04-15T20:20:08.796Z"
   },
   {
    "duration": 36,
    "start_time": "2025-04-15T20:20:08.801Z"
   },
   {
    "duration": 6,
    "start_time": "2025-04-15T20:20:08.839Z"
   },
   {
    "duration": 6,
    "start_time": "2025-04-15T20:20:08.847Z"
   },
   {
    "duration": 8,
    "start_time": "2025-04-15T20:20:08.855Z"
   },
   {
    "duration": 7,
    "start_time": "2025-04-15T20:20:08.865Z"
   },
   {
    "duration": 10,
    "start_time": "2025-04-15T20:20:08.874Z"
   },
   {
    "duration": 52,
    "start_time": "2025-04-15T20:20:08.886Z"
   },
   {
    "duration": 6,
    "start_time": "2025-04-15T20:20:08.941Z"
   },
   {
    "duration": 12,
    "start_time": "2025-04-15T20:20:08.949Z"
   },
   {
    "duration": 6,
    "start_time": "2025-04-15T20:20:08.963Z"
   },
   {
    "duration": 24,
    "start_time": "2025-04-15T20:20:08.971Z"
   },
   {
    "duration": 784,
    "start_time": "2025-04-15T20:20:08.997Z"
   },
   {
    "duration": 215,
    "start_time": "2025-04-15T20:20:09.782Z"
   },
   {
    "duration": 121,
    "start_time": "2025-04-15T20:20:09.998Z"
   },
   {
    "duration": 290,
    "start_time": "2025-04-15T20:20:10.121Z"
   },
   {
    "duration": 469,
    "start_time": "2025-04-15T20:20:10.413Z"
   },
   {
    "duration": 530,
    "start_time": "2025-04-15T20:20:10.883Z"
   },
   {
    "duration": 51,
    "start_time": "2025-04-15T20:20:11.416Z"
   },
   {
    "duration": 15,
    "start_time": "2025-04-15T20:20:11.468Z"
   },
   {
    "duration": 9,
    "start_time": "2025-04-15T20:20:11.485Z"
   },
   {
    "duration": 42,
    "start_time": "2025-04-15T20:20:11.496Z"
   },
   {
    "duration": 16,
    "start_time": "2025-04-15T20:20:11.539Z"
   },
   {
    "duration": 429,
    "start_time": "2025-04-15T20:20:11.557Z"
   },
   {
    "duration": 431,
    "start_time": "2025-04-15T20:20:11.987Z"
   },
   {
    "duration": 430,
    "start_time": "2025-04-15T20:20:12.419Z"
   },
   {
    "duration": 559,
    "start_time": "2025-04-15T20:20:12.851Z"
   },
   {
    "duration": 3,
    "start_time": "2025-04-15T20:20:13.412Z"
   },
   {
    "duration": 34,
    "start_time": "2025-04-15T20:20:13.416Z"
   },
   {
    "duration": 77,
    "start_time": "2025-04-15T20:20:13.451Z"
   },
   {
    "duration": 40,
    "start_time": "2025-04-15T20:20:13.530Z"
   },
   {
    "duration": 101,
    "start_time": "2025-04-15T20:20:13.572Z"
   },
   {
    "duration": 3657,
    "start_time": "2025-04-15T20:20:13.675Z"
   },
   {
    "duration": 11,
    "start_time": "2025-04-15T20:20:17.333Z"
   },
   {
    "duration": 3615,
    "start_time": "2025-04-15T20:20:51.172Z"
   },
   {
    "duration": 399,
    "start_time": "2025-04-15T20:21:27.283Z"
   },
   {
    "duration": 62,
    "start_time": "2025-04-15T20:21:27.684Z"
   },
   {
    "duration": 17,
    "start_time": "2025-04-15T20:21:27.749Z"
   },
   {
    "duration": 22,
    "start_time": "2025-04-15T20:21:27.769Z"
   },
   {
    "duration": 17,
    "start_time": "2025-04-15T20:21:27.794Z"
   },
   {
    "duration": 34,
    "start_time": "2025-04-15T20:21:27.813Z"
   },
   {
    "duration": 13,
    "start_time": "2025-04-15T20:21:27.850Z"
   },
   {
    "duration": 16,
    "start_time": "2025-04-15T20:21:27.864Z"
   },
   {
    "duration": 9,
    "start_time": "2025-04-15T20:21:27.882Z"
   },
   {
    "duration": 16,
    "start_time": "2025-04-15T20:21:27.895Z"
   },
   {
    "duration": 26,
    "start_time": "2025-04-15T20:21:27.913Z"
   },
   {
    "duration": 8,
    "start_time": "2025-04-15T20:21:27.941Z"
   },
   {
    "duration": 9,
    "start_time": "2025-04-15T20:21:27.952Z"
   },
   {
    "duration": 8,
    "start_time": "2025-04-15T20:21:27.963Z"
   },
   {
    "duration": 8,
    "start_time": "2025-04-15T20:21:27.972Z"
   },
   {
    "duration": 11,
    "start_time": "2025-04-15T20:21:27.982Z"
   },
   {
    "duration": 52,
    "start_time": "2025-04-15T20:21:27.995Z"
   },
   {
    "duration": 6,
    "start_time": "2025-04-15T20:21:28.050Z"
   },
   {
    "duration": 12,
    "start_time": "2025-04-15T20:21:28.057Z"
   },
   {
    "duration": 4,
    "start_time": "2025-04-15T20:21:28.071Z"
   },
   {
    "duration": 23,
    "start_time": "2025-04-15T20:21:28.077Z"
   },
   {
    "duration": 859,
    "start_time": "2025-04-15T20:21:28.102Z"
   },
   {
    "duration": 211,
    "start_time": "2025-04-15T20:21:28.963Z"
   },
   {
    "duration": 130,
    "start_time": "2025-04-15T20:21:29.176Z"
   },
   {
    "duration": 284,
    "start_time": "2025-04-15T20:21:29.308Z"
   },
   {
    "duration": 463,
    "start_time": "2025-04-15T20:21:29.594Z"
   },
   {
    "duration": 548,
    "start_time": "2025-04-15T20:21:30.058Z"
   },
   {
    "duration": 38,
    "start_time": "2025-04-15T20:21:30.610Z"
   },
   {
    "duration": 56,
    "start_time": "2025-04-15T20:21:30.650Z"
   },
   {
    "duration": 26,
    "start_time": "2025-04-15T20:21:30.708Z"
   },
   {
    "duration": 18,
    "start_time": "2025-04-15T20:21:30.736Z"
   },
   {
    "duration": 18,
    "start_time": "2025-04-15T20:21:30.755Z"
   },
   {
    "duration": 443,
    "start_time": "2025-04-15T20:21:30.774Z"
   },
   {
    "duration": 439,
    "start_time": "2025-04-15T20:21:31.219Z"
   },
   {
    "duration": 442,
    "start_time": "2025-04-15T20:21:31.659Z"
   },
   {
    "duration": 570,
    "start_time": "2025-04-15T20:21:32.102Z"
   },
   {
    "duration": 3,
    "start_time": "2025-04-15T20:21:32.674Z"
   },
   {
    "duration": 21,
    "start_time": "2025-04-15T20:21:32.680Z"
   },
   {
    "duration": 49,
    "start_time": "2025-04-15T20:21:32.703Z"
   },
   {
    "duration": 10,
    "start_time": "2025-04-15T20:21:32.754Z"
   },
   {
    "duration": 33,
    "start_time": "2025-04-15T20:21:32.767Z"
   },
   {
    "duration": 2158,
    "start_time": "2025-04-15T20:21:32.802Z"
   },
   {
    "duration": 1453,
    "start_time": "2025-04-15T20:21:34.962Z"
   },
   {
    "duration": 399,
    "start_time": "2025-04-15T20:39:27.286Z"
   },
   {
    "duration": 62,
    "start_time": "2025-04-15T20:39:27.687Z"
   },
   {
    "duration": 22,
    "start_time": "2025-04-15T20:39:27.750Z"
   },
   {
    "duration": 27,
    "start_time": "2025-04-15T20:39:27.774Z"
   },
   {
    "duration": 12,
    "start_time": "2025-04-15T20:39:27.803Z"
   },
   {
    "duration": 12,
    "start_time": "2025-04-15T20:39:27.816Z"
   },
   {
    "duration": 20,
    "start_time": "2025-04-15T20:39:27.829Z"
   },
   {
    "duration": 26,
    "start_time": "2025-04-15T20:39:27.851Z"
   },
   {
    "duration": 5,
    "start_time": "2025-04-15T20:39:27.879Z"
   },
   {
    "duration": 4,
    "start_time": "2025-04-15T20:39:27.887Z"
   },
   {
    "duration": 9,
    "start_time": "2025-04-15T20:39:27.893Z"
   },
   {
    "duration": 19,
    "start_time": "2025-04-15T20:39:27.903Z"
   },
   {
    "duration": 20,
    "start_time": "2025-04-15T20:39:27.923Z"
   },
   {
    "duration": 16,
    "start_time": "2025-04-15T20:39:27.945Z"
   },
   {
    "duration": 7,
    "start_time": "2025-04-15T20:39:27.963Z"
   },
   {
    "duration": 8,
    "start_time": "2025-04-15T20:39:27.972Z"
   },
   {
    "duration": 11,
    "start_time": "2025-04-15T20:39:27.982Z"
   },
   {
    "duration": 9,
    "start_time": "2025-04-15T20:39:27.995Z"
   },
   {
    "duration": 32,
    "start_time": "2025-04-15T20:39:28.006Z"
   },
   {
    "duration": 4,
    "start_time": "2025-04-15T20:39:28.039Z"
   },
   {
    "duration": 7,
    "start_time": "2025-04-15T20:39:28.045Z"
   },
   {
    "duration": 860,
    "start_time": "2025-04-15T20:39:28.054Z"
   },
   {
    "duration": 215,
    "start_time": "2025-04-15T20:39:28.916Z"
   },
   {
    "duration": 112,
    "start_time": "2025-04-15T20:39:29.137Z"
   },
   {
    "duration": 289,
    "start_time": "2025-04-15T20:39:29.251Z"
   },
   {
    "duration": 449,
    "start_time": "2025-04-15T20:39:29.541Z"
   },
   {
    "duration": 549,
    "start_time": "2025-04-15T20:39:29.992Z"
   },
   {
    "duration": 38,
    "start_time": "2025-04-15T20:39:30.544Z"
   },
   {
    "duration": 49,
    "start_time": "2025-04-15T20:39:30.584Z"
   },
   {
    "duration": 38,
    "start_time": "2025-04-15T20:39:30.635Z"
   },
   {
    "duration": 21,
    "start_time": "2025-04-15T20:39:30.674Z"
   },
   {
    "duration": 16,
    "start_time": "2025-04-15T20:39:30.697Z"
   },
   {
    "duration": 450,
    "start_time": "2025-04-15T20:39:30.715Z"
   },
   {
    "duration": 450,
    "start_time": "2025-04-15T20:39:31.167Z"
   },
   {
    "duration": 454,
    "start_time": "2025-04-15T20:39:31.619Z"
   },
   {
    "duration": 571,
    "start_time": "2025-04-15T20:39:32.075Z"
   },
   {
    "duration": 3,
    "start_time": "2025-04-15T20:39:32.648Z"
   },
   {
    "duration": 59,
    "start_time": "2025-04-15T20:39:32.652Z"
   },
   {
    "duration": 52,
    "start_time": "2025-04-15T20:39:32.713Z"
   },
   {
    "duration": 12,
    "start_time": "2025-04-15T20:39:32.766Z"
   },
   {
    "duration": 26,
    "start_time": "2025-04-15T20:39:32.780Z"
   },
   {
    "duration": 2121,
    "start_time": "2025-04-15T20:39:32.808Z"
   },
   {
    "duration": 108,
    "start_time": "2025-04-15T20:39:34.938Z"
   },
   {
    "duration": 0,
    "start_time": "2025-04-15T20:39:35.048Z"
   },
   {
    "duration": 387,
    "start_time": "2025-04-15T20:39:50.991Z"
   },
   {
    "duration": 74,
    "start_time": "2025-04-15T20:39:51.379Z"
   },
   {
    "duration": 12,
    "start_time": "2025-04-15T20:39:51.455Z"
   },
   {
    "duration": 45,
    "start_time": "2025-04-15T20:39:51.469Z"
   },
   {
    "duration": 28,
    "start_time": "2025-04-15T20:39:51.515Z"
   },
   {
    "duration": 41,
    "start_time": "2025-04-15T20:39:51.545Z"
   },
   {
    "duration": 18,
    "start_time": "2025-04-15T20:39:51.588Z"
   },
   {
    "duration": 28,
    "start_time": "2025-04-15T20:39:51.607Z"
   },
   {
    "duration": 97,
    "start_time": "2025-04-15T20:39:51.636Z"
   },
   {
    "duration": 35,
    "start_time": "2025-04-15T20:39:51.735Z"
   },
   {
    "duration": 21,
    "start_time": "2025-04-15T20:39:51.772Z"
   },
   {
    "duration": 29,
    "start_time": "2025-04-15T20:39:51.795Z"
   },
   {
    "duration": 39,
    "start_time": "2025-04-15T20:39:51.826Z"
   },
   {
    "duration": 39,
    "start_time": "2025-04-15T20:39:51.867Z"
   },
   {
    "duration": 17,
    "start_time": "2025-04-15T20:39:51.908Z"
   },
   {
    "duration": 28,
    "start_time": "2025-04-15T20:39:51.926Z"
   },
   {
    "duration": 29,
    "start_time": "2025-04-15T20:39:51.956Z"
   },
   {
    "duration": 8,
    "start_time": "2025-04-15T20:39:51.986Z"
   },
   {
    "duration": 36,
    "start_time": "2025-04-15T20:39:51.996Z"
   },
   {
    "duration": 15,
    "start_time": "2025-04-15T20:39:52.034Z"
   },
   {
    "duration": 42,
    "start_time": "2025-04-15T20:39:52.050Z"
   },
   {
    "duration": 797,
    "start_time": "2025-04-15T20:39:52.094Z"
   },
   {
    "duration": 212,
    "start_time": "2025-04-15T20:39:52.893Z"
   },
   {
    "duration": 117,
    "start_time": "2025-04-15T20:39:53.107Z"
   },
   {
    "duration": 273,
    "start_time": "2025-04-15T20:39:53.227Z"
   },
   {
    "duration": 425,
    "start_time": "2025-04-15T20:39:53.502Z"
   },
   {
    "duration": 532,
    "start_time": "2025-04-15T20:39:53.937Z"
   },
   {
    "duration": 26,
    "start_time": "2025-04-15T20:39:54.472Z"
   },
   {
    "duration": 131,
    "start_time": "2025-04-15T20:39:54.500Z"
   },
   {
    "duration": 23,
    "start_time": "2025-04-15T20:39:54.633Z"
   },
   {
    "duration": 24,
    "start_time": "2025-04-15T20:39:54.658Z"
   },
   {
    "duration": 26,
    "start_time": "2025-04-15T20:39:54.685Z"
   },
   {
    "duration": 447,
    "start_time": "2025-04-15T20:39:54.713Z"
   },
   {
    "duration": 435,
    "start_time": "2025-04-15T20:39:55.162Z"
   },
   {
    "duration": 414,
    "start_time": "2025-04-15T20:39:55.598Z"
   },
   {
    "duration": 544,
    "start_time": "2025-04-15T20:39:56.014Z"
   },
   {
    "duration": 3,
    "start_time": "2025-04-15T20:39:56.560Z"
   },
   {
    "duration": 24,
    "start_time": "2025-04-15T20:39:56.565Z"
   },
   {
    "duration": 48,
    "start_time": "2025-04-15T20:39:56.591Z"
   },
   {
    "duration": 10,
    "start_time": "2025-04-15T20:39:56.641Z"
   },
   {
    "duration": 34,
    "start_time": "2025-04-15T20:39:56.653Z"
   },
   {
    "duration": 2001,
    "start_time": "2025-04-15T20:39:56.689Z"
   },
   {
    "duration": 13,
    "start_time": "2025-04-15T20:39:58.692Z"
   },
   {
    "duration": 1340,
    "start_time": "2025-04-15T20:39:58.707Z"
   },
   {
    "duration": 440,
    "start_time": "2025-04-15T20:40:53.341Z"
   },
   {
    "duration": 73,
    "start_time": "2025-04-15T20:40:53.782Z"
   },
   {
    "duration": 20,
    "start_time": "2025-04-15T20:40:53.857Z"
   },
   {
    "duration": 25,
    "start_time": "2025-04-15T20:40:53.880Z"
   },
   {
    "duration": 14,
    "start_time": "2025-04-15T20:40:53.907Z"
   },
   {
    "duration": 21,
    "start_time": "2025-04-15T20:40:53.923Z"
   },
   {
    "duration": 13,
    "start_time": "2025-04-15T20:40:53.946Z"
   },
   {
    "duration": 7,
    "start_time": "2025-04-15T20:40:53.961Z"
   },
   {
    "duration": 4,
    "start_time": "2025-04-15T20:40:53.970Z"
   },
   {
    "duration": 4,
    "start_time": "2025-04-15T20:40:53.976Z"
   },
   {
    "duration": 56,
    "start_time": "2025-04-15T20:40:53.982Z"
   },
   {
    "duration": 5,
    "start_time": "2025-04-15T20:40:54.039Z"
   },
   {
    "duration": 10,
    "start_time": "2025-04-15T20:40:54.046Z"
   },
   {
    "duration": 6,
    "start_time": "2025-04-15T20:40:54.058Z"
   },
   {
    "duration": 6,
    "start_time": "2025-04-15T20:40:54.065Z"
   },
   {
    "duration": 8,
    "start_time": "2025-04-15T20:40:54.073Z"
   },
   {
    "duration": 13,
    "start_time": "2025-04-15T20:40:54.083Z"
   },
   {
    "duration": 7,
    "start_time": "2025-04-15T20:40:54.139Z"
   },
   {
    "duration": 9,
    "start_time": "2025-04-15T20:40:54.148Z"
   },
   {
    "duration": 5,
    "start_time": "2025-04-15T20:40:54.159Z"
   },
   {
    "duration": 6,
    "start_time": "2025-04-15T20:40:54.167Z"
   },
   {
    "duration": 850,
    "start_time": "2025-04-15T20:40:54.175Z"
   },
   {
    "duration": 216,
    "start_time": "2025-04-15T20:40:55.027Z"
   },
   {
    "duration": 120,
    "start_time": "2025-04-15T20:40:55.245Z"
   },
   {
    "duration": 275,
    "start_time": "2025-04-15T20:40:55.367Z"
   },
   {
    "duration": 425,
    "start_time": "2025-04-15T20:40:55.643Z"
   },
   {
    "duration": 498,
    "start_time": "2025-04-15T20:40:56.070Z"
   },
   {
    "duration": 26,
    "start_time": "2025-04-15T20:40:56.571Z"
   },
   {
    "duration": 16,
    "start_time": "2025-04-15T20:40:56.598Z"
   },
   {
    "duration": 11,
    "start_time": "2025-04-15T20:40:56.638Z"
   },
   {
    "duration": 18,
    "start_time": "2025-04-15T20:40:56.650Z"
   },
   {
    "duration": 16,
    "start_time": "2025-04-15T20:40:56.670Z"
   },
   {
    "duration": 452,
    "start_time": "2025-04-15T20:40:56.688Z"
   },
   {
    "duration": 433,
    "start_time": "2025-04-15T20:40:57.142Z"
   },
   {
    "duration": 424,
    "start_time": "2025-04-15T20:40:57.576Z"
   },
   {
    "duration": 545,
    "start_time": "2025-04-15T20:40:58.002Z"
   },
   {
    "duration": 2,
    "start_time": "2025-04-15T20:40:58.549Z"
   },
   {
    "duration": 36,
    "start_time": "2025-04-15T20:40:58.553Z"
   },
   {
    "duration": 48,
    "start_time": "2025-04-15T20:40:58.591Z"
   },
   {
    "duration": 10,
    "start_time": "2025-04-15T20:40:58.640Z"
   },
   {
    "duration": 17,
    "start_time": "2025-04-15T20:40:58.652Z"
   },
   {
    "duration": 2081,
    "start_time": "2025-04-15T20:40:58.670Z"
   },
   {
    "duration": 14,
    "start_time": "2025-04-15T20:41:00.753Z"
   },
   {
    "duration": 1554,
    "start_time": "2025-04-15T20:41:00.769Z"
   },
   {
    "duration": 8,
    "start_time": "2025-04-15T20:41:36.668Z"
   },
   {
    "duration": 13,
    "start_time": "2025-04-15T20:42:02.614Z"
   },
   {
    "duration": 3,
    "start_time": "2025-04-15T20:55:41.449Z"
   },
   {
    "duration": 7,
    "start_time": "2025-04-15T21:00:34.986Z"
   },
   {
    "duration": 504,
    "start_time": "2025-04-15T21:02:27.944Z"
   },
   {
    "duration": 2,
    "start_time": "2025-04-15T21:04:05.135Z"
   },
   {
    "duration": 7,
    "start_time": "2025-04-15T21:04:05.768Z"
   },
   {
    "duration": 7,
    "start_time": "2025-04-15T21:05:53.368Z"
   },
   {
    "duration": 7,
    "start_time": "2025-04-15T21:12:44.599Z"
   },
   {
    "duration": 5,
    "start_time": "2025-04-15T21:20:09.415Z"
   },
   {
    "duration": 4,
    "start_time": "2025-04-15T21:20:10.244Z"
   },
   {
    "duration": 6,
    "start_time": "2025-04-15T21:21:26.657Z"
   },
   {
    "duration": 5,
    "start_time": "2025-04-15T21:24:45.479Z"
   },
   {
    "duration": 6,
    "start_time": "2025-04-15T21:28:40.383Z"
   },
   {
    "duration": 9,
    "start_time": "2025-04-15T22:04:49.256Z"
   },
   {
    "duration": 13,
    "start_time": "2025-04-15T22:05:28.563Z"
   },
   {
    "duration": 15,
    "start_time": "2025-04-15T22:05:51.516Z"
   },
   {
    "duration": 17,
    "start_time": "2025-04-15T22:06:08.023Z"
   },
   {
    "duration": 19,
    "start_time": "2025-04-15T22:06:19.385Z"
   },
   {
    "duration": 439,
    "start_time": "2025-04-16T00:13:40.925Z"
   },
   {
    "duration": 69,
    "start_time": "2025-04-16T00:13:41.366Z"
   },
   {
    "duration": 12,
    "start_time": "2025-04-16T00:13:41.437Z"
   },
   {
    "duration": 15,
    "start_time": "2025-04-16T00:13:41.451Z"
   },
   {
    "duration": 12,
    "start_time": "2025-04-16T00:13:41.468Z"
   },
   {
    "duration": 25,
    "start_time": "2025-04-16T00:13:41.482Z"
   },
   {
    "duration": 16,
    "start_time": "2025-04-16T00:13:41.510Z"
   },
   {
    "duration": 7,
    "start_time": "2025-04-16T00:13:41.528Z"
   },
   {
    "duration": 12,
    "start_time": "2025-04-16T00:13:41.537Z"
   },
   {
    "duration": 6,
    "start_time": "2025-04-16T00:13:41.552Z"
   },
   {
    "duration": 26,
    "start_time": "2025-04-16T00:13:41.559Z"
   },
   {
    "duration": 24,
    "start_time": "2025-04-16T00:13:41.586Z"
   },
   {
    "duration": 34,
    "start_time": "2025-04-16T00:13:41.612Z"
   },
   {
    "duration": 28,
    "start_time": "2025-04-16T00:13:41.647Z"
   },
   {
    "duration": 38,
    "start_time": "2025-04-16T00:13:41.676Z"
   },
   {
    "duration": 26,
    "start_time": "2025-04-16T00:13:41.716Z"
   },
   {
    "duration": 19,
    "start_time": "2025-04-16T00:13:41.744Z"
   },
   {
    "duration": 28,
    "start_time": "2025-04-16T00:13:41.766Z"
   },
   {
    "duration": 26,
    "start_time": "2025-04-16T00:13:41.796Z"
   },
   {
    "duration": 19,
    "start_time": "2025-04-16T00:13:41.823Z"
   },
   {
    "duration": 26,
    "start_time": "2025-04-16T00:13:41.844Z"
   },
   {
    "duration": 1112,
    "start_time": "2025-04-16T00:13:41.872Z"
   },
   {
    "duration": 246,
    "start_time": "2025-04-16T00:13:42.986Z"
   },
   {
    "duration": 121,
    "start_time": "2025-04-16T00:13:43.235Z"
   },
   {
    "duration": 308,
    "start_time": "2025-04-16T00:13:43.358Z"
   },
   {
    "duration": 514,
    "start_time": "2025-04-16T00:13:43.668Z"
   },
   {
    "duration": 567,
    "start_time": "2025-04-16T00:13:44.184Z"
   },
   {
    "duration": 26,
    "start_time": "2025-04-16T00:13:44.755Z"
   },
   {
    "duration": 43,
    "start_time": "2025-04-16T00:13:44.783Z"
   },
   {
    "duration": 10,
    "start_time": "2025-04-16T00:13:44.828Z"
   },
   {
    "duration": 115,
    "start_time": "2025-04-16T00:13:44.840Z"
   },
   {
    "duration": 31,
    "start_time": "2025-04-16T00:13:44.957Z"
   },
   {
    "duration": 475,
    "start_time": "2025-04-16T00:13:44.991Z"
   },
   {
    "duration": 489,
    "start_time": "2025-04-16T00:13:45.468Z"
   },
   {
    "duration": 611,
    "start_time": "2025-04-16T00:13:45.958Z"
   },
   {
    "duration": 472,
    "start_time": "2025-04-16T00:13:46.570Z"
   },
   {
    "duration": 3,
    "start_time": "2025-04-16T00:13:47.044Z"
   },
   {
    "duration": 35,
    "start_time": "2025-04-16T00:13:47.048Z"
   },
   {
    "duration": 50,
    "start_time": "2025-04-16T00:13:47.084Z"
   },
   {
    "duration": 10,
    "start_time": "2025-04-16T00:13:47.135Z"
   },
   {
    "duration": 29,
    "start_time": "2025-04-16T00:13:47.147Z"
   },
   {
    "duration": 2396,
    "start_time": "2025-04-16T00:13:47.178Z"
   },
   {
    "duration": 1568,
    "start_time": "2025-04-16T00:13:49.577Z"
   },
   {
    "duration": 3,
    "start_time": "2025-04-16T00:13:51.147Z"
   },
   {
    "duration": 23,
    "start_time": "2025-04-16T00:13:51.151Z"
   },
   {
    "duration": 11,
    "start_time": "2025-04-16T00:13:51.176Z"
   },
   {
    "duration": 15,
    "start_time": "2025-04-16T00:13:51.188Z"
   },
   {
    "duration": 134,
    "start_time": "2025-04-16T00:16:01.204Z"
   },
   {
    "duration": 18,
    "start_time": "2025-04-16T00:33:59.290Z"
   },
   {
    "duration": 20,
    "start_time": "2025-04-16T00:34:30.140Z"
   },
   {
    "duration": 28,
    "start_time": "2025-04-16T00:34:45.160Z"
   },
   {
    "duration": 18,
    "start_time": "2025-04-16T00:35:03.446Z"
   },
   {
    "duration": 9,
    "start_time": "2025-04-16T00:36:09.219Z"
   },
   {
    "duration": 119,
    "start_time": "2025-04-16T00:36:28.919Z"
   },
   {
    "duration": 13,
    "start_time": "2025-04-16T00:36:39.571Z"
   },
   {
    "duration": 12,
    "start_time": "2025-04-16T00:36:49.070Z"
   },
   {
    "duration": 8,
    "start_time": "2025-04-16T00:37:11.661Z"
   },
   {
    "duration": 10,
    "start_time": "2025-04-16T00:37:37.587Z"
   },
   {
    "duration": 12,
    "start_time": "2025-04-16T00:38:42.813Z"
   },
   {
    "duration": 8,
    "start_time": "2025-04-16T00:38:55.155Z"
   },
   {
    "duration": 8,
    "start_time": "2025-04-16T00:39:35.466Z"
   },
   {
    "duration": 20,
    "start_time": "2025-04-16T00:40:08.065Z"
   },
   {
    "duration": 11,
    "start_time": "2025-04-16T00:42:26.034Z"
   },
   {
    "duration": 11,
    "start_time": "2025-04-16T00:42:36.083Z"
   },
   {
    "duration": 8,
    "start_time": "2025-04-16T00:43:24.227Z"
   },
   {
    "duration": 13,
    "start_time": "2025-04-16T00:43:36.403Z"
   },
   {
    "duration": 10,
    "start_time": "2025-04-16T00:47:59.536Z"
   },
   {
    "duration": 12,
    "start_time": "2025-04-16T00:48:10.037Z"
   },
   {
    "duration": 1254,
    "start_time": "2025-04-16T01:05:29.846Z"
   },
   {
    "duration": 694,
    "start_time": "2025-04-16T01:06:13.214Z"
   },
   {
    "duration": 590,
    "start_time": "2025-04-16T01:06:50.164Z"
   },
   {
    "duration": 255,
    "start_time": "2025-04-16T01:08:17.638Z"
   },
   {
    "duration": 497,
    "start_time": "2025-04-16T01:08:59.268Z"
   },
   {
    "duration": 46,
    "start_time": "2025-04-16T18:19:26.966Z"
   },
   {
    "duration": 434,
    "start_time": "2025-04-16T18:19:36.229Z"
   },
   {
    "duration": 57,
    "start_time": "2025-04-16T18:19:36.666Z"
   },
   {
    "duration": 22,
    "start_time": "2025-04-16T18:19:36.724Z"
   },
   {
    "duration": 29,
    "start_time": "2025-04-16T18:19:36.748Z"
   },
   {
    "duration": 15,
    "start_time": "2025-04-16T18:19:36.779Z"
   },
   {
    "duration": 16,
    "start_time": "2025-04-16T18:19:36.802Z"
   },
   {
    "duration": 11,
    "start_time": "2025-04-16T18:19:36.820Z"
   },
   {
    "duration": 11,
    "start_time": "2025-04-16T18:19:36.833Z"
   },
   {
    "duration": 6,
    "start_time": "2025-04-16T18:19:36.846Z"
   },
   {
    "duration": 10,
    "start_time": "2025-04-16T18:19:36.854Z"
   },
   {
    "duration": 21,
    "start_time": "2025-04-16T18:19:36.865Z"
   },
   {
    "duration": 12,
    "start_time": "2025-04-16T18:19:36.887Z"
   },
   {
    "duration": 16,
    "start_time": "2025-04-16T18:19:36.901Z"
   },
   {
    "duration": 23,
    "start_time": "2025-04-16T18:19:36.918Z"
   },
   {
    "duration": 25,
    "start_time": "2025-04-16T18:19:36.943Z"
   },
   {
    "duration": 31,
    "start_time": "2025-04-16T18:19:36.970Z"
   },
   {
    "duration": 24,
    "start_time": "2025-04-16T18:19:37.002Z"
   },
   {
    "duration": 11,
    "start_time": "2025-04-16T18:19:37.027Z"
   },
   {
    "duration": 6,
    "start_time": "2025-04-16T18:19:37.040Z"
   },
   {
    "duration": 12,
    "start_time": "2025-04-16T18:19:37.047Z"
   },
   {
    "duration": 16,
    "start_time": "2025-04-16T18:19:37.061Z"
   },
   {
    "duration": 950,
    "start_time": "2025-04-16T18:19:37.079Z"
   },
   {
    "duration": 202,
    "start_time": "2025-04-16T18:19:38.031Z"
   },
   {
    "duration": 105,
    "start_time": "2025-04-16T18:19:38.237Z"
   },
   {
    "duration": 261,
    "start_time": "2025-04-16T18:19:38.343Z"
   },
   {
    "duration": 442,
    "start_time": "2025-04-16T18:19:38.605Z"
   },
   {
    "duration": 468,
    "start_time": "2025-04-16T18:19:39.049Z"
   },
   {
    "duration": 33,
    "start_time": "2025-04-16T18:19:39.521Z"
   },
   {
    "duration": 14,
    "start_time": "2025-04-16T18:19:39.557Z"
   },
   {
    "duration": 9,
    "start_time": "2025-04-16T18:19:39.573Z"
   },
   {
    "duration": 17,
    "start_time": "2025-04-16T18:19:39.584Z"
   },
   {
    "duration": 46,
    "start_time": "2025-04-16T18:19:39.603Z"
   },
   {
    "duration": 400,
    "start_time": "2025-04-16T18:19:39.650Z"
   },
   {
    "duration": 816,
    "start_time": "2025-04-16T18:19:40.052Z"
   },
   {
    "duration": 512,
    "start_time": "2025-04-16T18:19:40.870Z"
   },
   {
    "duration": 397,
    "start_time": "2025-04-16T18:19:41.384Z"
   },
   {
    "duration": 417,
    "start_time": "2025-04-16T18:19:41.783Z"
   },
   {
    "duration": 434,
    "start_time": "2025-04-16T18:19:42.201Z"
   },
   {
    "duration": 4,
    "start_time": "2025-04-16T18:19:42.637Z"
   },
   {
    "duration": 138,
    "start_time": "2025-04-16T18:19:42.643Z"
   },
   {
    "duration": 40,
    "start_time": "2025-04-16T18:19:42.783Z"
   },
   {
    "duration": 9,
    "start_time": "2025-04-16T18:19:42.825Z"
   },
   {
    "duration": 18,
    "start_time": "2025-04-16T18:19:42.835Z"
   },
   {
    "duration": 2283,
    "start_time": "2025-04-16T18:19:42.854Z"
   },
   {
    "duration": 1455,
    "start_time": "2025-04-16T18:19:45.139Z"
   },
   {
    "duration": 3,
    "start_time": "2025-04-16T18:19:46.595Z"
   },
   {
    "duration": 15,
    "start_time": "2025-04-16T18:19:46.600Z"
   },
   {
    "duration": 21,
    "start_time": "2025-04-16T18:19:46.617Z"
   },
   {
    "duration": 122,
    "start_time": "2025-04-16T18:19:46.639Z"
   },
   {
    "duration": 20,
    "start_time": "2025-04-16T18:19:46.763Z"
   },
   {
    "duration": 5,
    "start_time": "2025-04-16T18:50:55.833Z"
   },
   {
    "duration": 5,
    "start_time": "2025-04-16T18:50:58.550Z"
   },
   {
    "duration": 12,
    "start_time": "2025-04-16T19:03:39.381Z"
   },
   {
    "duration": 1426,
    "start_time": "2025-04-16T19:06:45.434Z"
   },
   {
    "duration": 6,
    "start_time": "2025-04-16T19:07:20.873Z"
   },
   {
    "duration": 9,
    "start_time": "2025-04-16T19:07:28.664Z"
   },
   {
    "duration": 110,
    "start_time": "2025-04-16T19:08:48.105Z"
   },
   {
    "duration": 250,
    "start_time": "2025-04-16T19:08:58.784Z"
   },
   {
    "duration": 361,
    "start_time": "2025-04-16T19:09:06.584Z"
   },
   {
    "duration": 168,
    "start_time": "2025-04-16T19:09:11.918Z"
   },
   {
    "duration": 212,
    "start_time": "2025-04-16T19:09:19.734Z"
   },
   {
    "duration": 346,
    "start_time": "2025-04-16T19:09:39.833Z"
   },
   {
    "duration": 238,
    "start_time": "2025-04-16T19:09:52.151Z"
   },
   {
    "duration": 11,
    "start_time": "2025-04-16T19:12:20.708Z"
   },
   {
    "duration": 215,
    "start_time": "2025-04-16T19:12:32.478Z"
   },
   {
    "duration": 193,
    "start_time": "2025-04-16T19:12:44.138Z"
   },
   {
    "duration": 206,
    "start_time": "2025-04-16T19:12:49.048Z"
   },
   {
    "duration": 229,
    "start_time": "2025-04-16T19:13:14.203Z"
   },
   {
    "duration": 321,
    "start_time": "2025-04-16T19:19:09.797Z"
   },
   {
    "duration": 5,
    "start_time": "2025-04-16T19:42:28.079Z"
   },
   {
    "duration": 6,
    "start_time": "2025-04-16T19:42:30.199Z"
   },
   {
    "duration": 6,
    "start_time": "2025-04-16T19:43:51.559Z"
   },
   {
    "duration": 7,
    "start_time": "2025-04-16T19:43:52.142Z"
   },
   {
    "duration": 8,
    "start_time": "2025-04-16T19:56:14.922Z"
   },
   {
    "duration": 11,
    "start_time": "2025-04-16T21:19:16.686Z"
   },
   {
    "duration": 6,
    "start_time": "2025-04-16T21:19:24.399Z"
   },
   {
    "duration": 4,
    "start_time": "2025-04-16T21:19:33.459Z"
   },
   {
    "duration": 4,
    "start_time": "2025-04-16T21:19:43.978Z"
   },
   {
    "duration": 4,
    "start_time": "2025-04-16T21:19:50.798Z"
   },
   {
    "duration": 4,
    "start_time": "2025-04-16T21:20:01.806Z"
   },
   {
    "duration": 5,
    "start_time": "2025-04-16T21:20:05.818Z"
   },
   {
    "duration": 4,
    "start_time": "2025-04-16T21:20:13.418Z"
   },
   {
    "duration": 4,
    "start_time": "2025-04-16T21:20:19.652Z"
   },
   {
    "duration": 5,
    "start_time": "2025-04-16T21:20:27.418Z"
   },
   {
    "duration": 4,
    "start_time": "2025-04-16T21:20:33.278Z"
   },
   {
    "duration": 4,
    "start_time": "2025-04-16T21:20:43.518Z"
   },
   {
    "duration": 5,
    "start_time": "2025-04-16T21:21:14.916Z"
   },
   {
    "duration": 4,
    "start_time": "2025-04-16T21:21:20.619Z"
   },
   {
    "duration": 4,
    "start_time": "2025-04-16T21:21:26.518Z"
   },
   {
    "duration": 4,
    "start_time": "2025-04-16T21:21:31.908Z"
   },
   {
    "duration": 52,
    "start_time": "2025-04-17T04:14:49.352Z"
   },
   {
    "duration": 401,
    "start_time": "2025-04-17T04:14:57.956Z"
   },
   {
    "duration": 60,
    "start_time": "2025-04-17T04:14:58.359Z"
   },
   {
    "duration": 12,
    "start_time": "2025-04-17T04:14:58.421Z"
   },
   {
    "duration": 29,
    "start_time": "2025-04-17T04:14:58.435Z"
   },
   {
    "duration": 11,
    "start_time": "2025-04-17T04:14:58.466Z"
   },
   {
    "duration": 10,
    "start_time": "2025-04-17T04:14:58.479Z"
   },
   {
    "duration": 15,
    "start_time": "2025-04-17T04:14:58.491Z"
   },
   {
    "duration": 20,
    "start_time": "2025-04-17T04:14:58.507Z"
   },
   {
    "duration": 8,
    "start_time": "2025-04-17T04:14:58.528Z"
   },
   {
    "duration": 7,
    "start_time": "2025-04-17T04:14:58.539Z"
   },
   {
    "duration": 54,
    "start_time": "2025-04-17T04:14:58.547Z"
   },
   {
    "duration": 40,
    "start_time": "2025-04-17T04:14:58.603Z"
   },
   {
    "duration": 6,
    "start_time": "2025-04-17T04:14:58.645Z"
   },
   {
    "duration": 9,
    "start_time": "2025-04-17T04:14:58.652Z"
   },
   {
    "duration": 9,
    "start_time": "2025-04-17T04:14:58.663Z"
   },
   {
    "duration": 19,
    "start_time": "2025-04-17T04:14:58.674Z"
   },
   {
    "duration": 11,
    "start_time": "2025-04-17T04:14:58.695Z"
   },
   {
    "duration": 5,
    "start_time": "2025-04-17T04:14:58.708Z"
   },
   {
    "duration": 33,
    "start_time": "2025-04-17T04:14:58.714Z"
   },
   {
    "duration": 6,
    "start_time": "2025-04-17T04:14:58.749Z"
   },
   {
    "duration": 7,
    "start_time": "2025-04-17T04:14:58.757Z"
   },
   {
    "duration": 1009,
    "start_time": "2025-04-17T04:14:58.765Z"
   },
   {
    "duration": 209,
    "start_time": "2025-04-17T04:14:59.776Z"
   },
   {
    "duration": 119,
    "start_time": "2025-04-17T04:14:59.987Z"
   },
   {
    "duration": 330,
    "start_time": "2025-04-17T04:15:00.108Z"
   },
   {
    "duration": 435,
    "start_time": "2025-04-17T04:15:00.440Z"
   },
   {
    "duration": 514,
    "start_time": "2025-04-17T04:15:00.877Z"
   },
   {
    "duration": 34,
    "start_time": "2025-04-17T04:15:01.394Z"
   },
   {
    "duration": 144,
    "start_time": "2025-04-17T04:15:01.429Z"
   },
   {
    "duration": 51,
    "start_time": "2025-04-17T04:15:01.574Z"
   },
   {
    "duration": 52,
    "start_time": "2025-04-17T04:15:01.627Z"
   },
   {
    "duration": 50,
    "start_time": "2025-04-17T04:15:01.682Z"
   },
   {
    "duration": 425,
    "start_time": "2025-04-17T04:15:01.734Z"
   },
   {
    "duration": 463,
    "start_time": "2025-04-17T04:15:02.161Z"
   },
   {
    "duration": 531,
    "start_time": "2025-04-17T04:15:02.625Z"
   },
   {
    "duration": 429,
    "start_time": "2025-04-17T04:15:03.158Z"
   },
   {
    "duration": 3,
    "start_time": "2025-04-17T04:15:03.589Z"
   },
   {
    "duration": 46,
    "start_time": "2025-04-17T04:15:03.593Z"
   },
   {
    "duration": 63,
    "start_time": "2025-04-17T04:15:03.641Z"
   },
   {
    "duration": 10,
    "start_time": "2025-04-17T04:15:03.706Z"
   },
   {
    "duration": 41,
    "start_time": "2025-04-17T04:15:03.718Z"
   },
   {
    "duration": 2222,
    "start_time": "2025-04-17T04:15:03.761Z"
   },
   {
    "duration": 1429,
    "start_time": "2025-04-17T04:15:05.984Z"
   },
   {
    "duration": 4,
    "start_time": "2025-04-17T04:15:07.415Z"
   },
   {
    "duration": 85,
    "start_time": "2025-04-17T04:15:07.420Z"
   },
   {
    "duration": 35,
    "start_time": "2025-04-17T04:15:07.507Z"
   },
   {
    "duration": 10,
    "start_time": "2025-04-17T04:15:07.544Z"
   },
   {
    "duration": 60,
    "start_time": "2025-04-17T04:15:07.556Z"
   },
   {
    "duration": 40,
    "start_time": "2025-04-17T04:15:07.618Z"
   },
   {
    "duration": 50,
    "start_time": "2025-04-17T04:15:07.660Z"
   },
   {
    "duration": 10,
    "start_time": "2025-04-17T04:15:07.711Z"
   },
   {
    "duration": 44,
    "start_time": "2025-04-17T04:15:07.723Z"
   },
   {
    "duration": 149,
    "start_time": "2025-04-17T04:15:07.768Z"
   },
   {
    "duration": 439,
    "start_time": "2025-04-17T04:29:49.599Z"
   },
   {
    "duration": 61,
    "start_time": "2025-04-17T04:29:50.040Z"
   },
   {
    "duration": 11,
    "start_time": "2025-04-17T04:29:50.103Z"
   },
   {
    "duration": 22,
    "start_time": "2025-04-17T04:29:50.117Z"
   },
   {
    "duration": 17,
    "start_time": "2025-04-17T04:29:50.142Z"
   },
   {
    "duration": 13,
    "start_time": "2025-04-17T04:29:50.160Z"
   },
   {
    "duration": 30,
    "start_time": "2025-04-17T04:29:50.175Z"
   },
   {
    "duration": 21,
    "start_time": "2025-04-17T04:29:50.207Z"
   },
   {
    "duration": 8,
    "start_time": "2025-04-17T04:29:50.230Z"
   },
   {
    "duration": 18,
    "start_time": "2025-04-17T04:29:50.240Z"
   },
   {
    "duration": 14,
    "start_time": "2025-04-17T04:29:50.259Z"
   },
   {
    "duration": 12,
    "start_time": "2025-04-17T04:29:50.274Z"
   },
   {
    "duration": 7,
    "start_time": "2025-04-17T04:29:50.288Z"
   },
   {
    "duration": 21,
    "start_time": "2025-04-17T04:29:50.297Z"
   },
   {
    "duration": 7,
    "start_time": "2025-04-17T04:29:50.320Z"
   },
   {
    "duration": 15,
    "start_time": "2025-04-17T04:29:50.329Z"
   },
   {
    "duration": 85,
    "start_time": "2025-04-17T04:29:50.345Z"
   },
   {
    "duration": 13,
    "start_time": "2025-04-17T04:29:50.432Z"
   },
   {
    "duration": 15,
    "start_time": "2025-04-17T04:29:50.447Z"
   },
   {
    "duration": 6,
    "start_time": "2025-04-17T04:29:50.463Z"
   },
   {
    "duration": 23,
    "start_time": "2025-04-17T04:29:50.471Z"
   },
   {
    "duration": 803,
    "start_time": "2025-04-17T04:29:50.495Z"
   },
   {
    "duration": 222,
    "start_time": "2025-04-17T04:29:51.300Z"
   },
   {
    "duration": 130,
    "start_time": "2025-04-17T04:29:51.524Z"
   },
   {
    "duration": 293,
    "start_time": "2025-04-17T04:29:51.656Z"
   },
   {
    "duration": 444,
    "start_time": "2025-04-17T04:29:51.950Z"
   },
   {
    "duration": 517,
    "start_time": "2025-04-17T04:29:52.396Z"
   },
   {
    "duration": 26,
    "start_time": "2025-04-17T04:29:52.917Z"
   },
   {
    "duration": 45,
    "start_time": "2025-04-17T04:29:52.944Z"
   },
   {
    "duration": 32,
    "start_time": "2025-04-17T04:29:52.991Z"
   },
   {
    "duration": 34,
    "start_time": "2025-04-17T04:29:53.024Z"
   },
   {
    "duration": 50,
    "start_time": "2025-04-17T04:29:53.060Z"
   },
   {
    "duration": 487,
    "start_time": "2025-04-17T04:29:53.111Z"
   },
   {
    "duration": 468,
    "start_time": "2025-04-17T04:29:53.600Z"
   },
   {
    "duration": 432,
    "start_time": "2025-04-17T04:29:54.069Z"
   },
   {
    "duration": 570,
    "start_time": "2025-04-17T04:29:54.505Z"
   },
   {
    "duration": 3,
    "start_time": "2025-04-17T04:29:55.076Z"
   },
   {
    "duration": 28,
    "start_time": "2025-04-17T04:29:55.080Z"
   },
   {
    "duration": 62,
    "start_time": "2025-04-17T04:29:55.110Z"
   },
   {
    "duration": 0,
    "start_time": "2025-04-17T04:29:55.173Z"
   },
   {
    "duration": 0,
    "start_time": "2025-04-17T04:29:55.175Z"
   },
   {
    "duration": 1,
    "start_time": "2025-04-17T04:29:55.176Z"
   },
   {
    "duration": 0,
    "start_time": "2025-04-17T04:29:55.178Z"
   },
   {
    "duration": 0,
    "start_time": "2025-04-17T04:29:55.179Z"
   },
   {
    "duration": 0,
    "start_time": "2025-04-17T04:29:55.180Z"
   },
   {
    "duration": 0,
    "start_time": "2025-04-17T04:29:55.181Z"
   },
   {
    "duration": 0,
    "start_time": "2025-04-17T04:29:55.182Z"
   },
   {
    "duration": 0,
    "start_time": "2025-04-17T04:29:55.183Z"
   },
   {
    "duration": 0,
    "start_time": "2025-04-17T04:29:55.184Z"
   },
   {
    "duration": 0,
    "start_time": "2025-04-17T04:29:55.185Z"
   },
   {
    "duration": 0,
    "start_time": "2025-04-17T04:29:55.187Z"
   },
   {
    "duration": 0,
    "start_time": "2025-04-17T04:29:55.188Z"
   },
   {
    "duration": 0,
    "start_time": "2025-04-17T04:29:55.189Z"
   },
   {
    "duration": 0,
    "start_time": "2025-04-17T04:29:55.191Z"
   },
   {
    "duration": 4,
    "start_time": "2025-04-17T04:30:35.925Z"
   },
   {
    "duration": 31,
    "start_time": "2025-04-17T04:30:40.762Z"
   },
   {
    "duration": 10,
    "start_time": "2025-04-17T04:30:42.883Z"
   },
   {
    "duration": 10,
    "start_time": "2025-04-17T04:30:44.416Z"
   },
   {
    "duration": 2076,
    "start_time": "2025-04-17T04:30:45.062Z"
   },
   {
    "duration": 1385,
    "start_time": "2025-04-17T04:30:47.140Z"
   },
   {
    "duration": 4,
    "start_time": "2025-04-17T04:30:48.527Z"
   },
   {
    "duration": 5,
    "start_time": "2025-04-17T04:30:48.533Z"
   },
   {
    "duration": 7,
    "start_time": "2025-04-17T04:30:48.539Z"
   },
   {
    "duration": 15,
    "start_time": "2025-04-17T04:30:48.547Z"
   },
   {
    "duration": 6,
    "start_time": "2025-04-17T04:30:48.563Z"
   },
   {
    "duration": 5,
    "start_time": "2025-04-17T04:30:48.842Z"
   },
   {
    "duration": 6,
    "start_time": "2025-04-17T04:30:49.181Z"
   },
   {
    "duration": 6,
    "start_time": "2025-04-17T04:30:49.502Z"
   },
   {
    "duration": 64,
    "start_time": "2025-04-17T04:30:49.526Z"
   },
   {
    "duration": 4,
    "start_time": "2025-04-17T04:30:50.692Z"
   },
   {
    "duration": 5,
    "start_time": "2025-04-17T04:31:16.323Z"
   },
   {
    "duration": 446,
    "start_time": "2025-04-17T04:31:55.991Z"
   },
   {
    "duration": 61,
    "start_time": "2025-04-17T04:31:56.439Z"
   },
   {
    "duration": 11,
    "start_time": "2025-04-17T04:31:56.502Z"
   },
   {
    "duration": 17,
    "start_time": "2025-04-17T04:31:56.515Z"
   },
   {
    "duration": 16,
    "start_time": "2025-04-17T04:31:56.533Z"
   },
   {
    "duration": 9,
    "start_time": "2025-04-17T04:31:56.550Z"
   },
   {
    "duration": 14,
    "start_time": "2025-04-17T04:31:56.560Z"
   },
   {
    "duration": 35,
    "start_time": "2025-04-17T04:31:56.576Z"
   },
   {
    "duration": 6,
    "start_time": "2025-04-17T04:31:56.612Z"
   },
   {
    "duration": 3,
    "start_time": "2025-04-17T04:31:56.621Z"
   },
   {
    "duration": 22,
    "start_time": "2025-04-17T04:31:56.625Z"
   },
   {
    "duration": 24,
    "start_time": "2025-04-17T04:31:56.648Z"
   },
   {
    "duration": 8,
    "start_time": "2025-04-17T04:31:56.674Z"
   },
   {
    "duration": 12,
    "start_time": "2025-04-17T04:31:56.684Z"
   },
   {
    "duration": 14,
    "start_time": "2025-04-17T04:31:56.697Z"
   },
   {
    "duration": 10,
    "start_time": "2025-04-17T04:31:56.712Z"
   },
   {
    "duration": 11,
    "start_time": "2025-04-17T04:31:56.724Z"
   },
   {
    "duration": 5,
    "start_time": "2025-04-17T04:31:56.737Z"
   },
   {
    "duration": 12,
    "start_time": "2025-04-17T04:31:56.743Z"
   },
   {
    "duration": 4,
    "start_time": "2025-04-17T04:31:56.756Z"
   },
   {
    "duration": 5,
    "start_time": "2025-04-17T04:31:56.761Z"
   },
   {
    "duration": 851,
    "start_time": "2025-04-17T04:31:56.767Z"
   },
   {
    "duration": 216,
    "start_time": "2025-04-17T04:31:57.620Z"
   },
   {
    "duration": 120,
    "start_time": "2025-04-17T04:31:57.837Z"
   },
   {
    "duration": 279,
    "start_time": "2025-04-17T04:31:57.958Z"
   },
   {
    "duration": 448,
    "start_time": "2025-04-17T04:31:58.238Z"
   },
   {
    "duration": 519,
    "start_time": "2025-04-17T04:31:58.688Z"
   },
   {
    "duration": 25,
    "start_time": "2025-04-17T04:31:59.211Z"
   },
   {
    "duration": 21,
    "start_time": "2025-04-17T04:31:59.237Z"
   },
   {
    "duration": 10,
    "start_time": "2025-04-17T04:31:59.260Z"
   },
   {
    "duration": 43,
    "start_time": "2025-04-17T04:31:59.272Z"
   },
   {
    "duration": 17,
    "start_time": "2025-04-17T04:31:59.317Z"
   },
   {
    "duration": 447,
    "start_time": "2025-04-17T04:31:59.336Z"
   },
   {
    "duration": 452,
    "start_time": "2025-04-17T04:31:59.784Z"
   },
   {
    "duration": 433,
    "start_time": "2025-04-17T04:32:00.238Z"
   },
   {
    "duration": 552,
    "start_time": "2025-04-17T04:32:00.673Z"
   },
   {
    "duration": 3,
    "start_time": "2025-04-17T04:32:01.226Z"
   },
   {
    "duration": 23,
    "start_time": "2025-04-17T04:32:01.231Z"
   },
   {
    "duration": 42,
    "start_time": "2025-04-17T04:32:01.256Z"
   },
   {
    "duration": 111,
    "start_time": "2025-04-17T04:32:01.300Z"
   },
   {
    "duration": 56,
    "start_time": "2025-04-17T04:32:01.413Z"
   },
   {
    "duration": 145,
    "start_time": "2025-04-17T04:32:01.470Z"
   },
   {
    "duration": 2121,
    "start_time": "2025-04-17T04:32:01.617Z"
   },
   {
    "duration": 1447,
    "start_time": "2025-04-17T04:32:03.739Z"
   },
   {
    "duration": 5,
    "start_time": "2025-04-17T04:32:05.188Z"
   },
   {
    "duration": 37,
    "start_time": "2025-04-17T04:32:05.205Z"
   },
   {
    "duration": 40,
    "start_time": "2025-04-17T04:32:05.244Z"
   },
   {
    "duration": 20,
    "start_time": "2025-04-17T04:32:05.286Z"
   },
   {
    "duration": 8,
    "start_time": "2025-04-17T04:32:05.307Z"
   },
   {
    "duration": 7,
    "start_time": "2025-04-17T04:32:05.317Z"
   },
   {
    "duration": 16,
    "start_time": "2025-04-17T04:32:05.326Z"
   },
   {
    "duration": 18,
    "start_time": "2025-04-17T04:32:05.343Z"
   },
   {
    "duration": 63,
    "start_time": "2025-04-17T04:32:05.363Z"
   },
   {
    "duration": 24,
    "start_time": "2025-04-17T04:32:05.428Z"
   },
   {
    "duration": 13,
    "start_time": "2025-04-17T04:32:48.249Z"
   },
   {
    "duration": 5,
    "start_time": "2025-04-17T04:39:48.906Z"
   },
   {
    "duration": 8,
    "start_time": "2025-04-17T04:42:39.880Z"
   },
   {
    "duration": 449,
    "start_time": "2025-04-17T04:43:29.973Z"
   },
   {
    "duration": 62,
    "start_time": "2025-04-17T04:43:30.424Z"
   },
   {
    "duration": 81,
    "start_time": "2025-04-17T04:43:30.487Z"
   },
   {
    "duration": 71,
    "start_time": "2025-04-17T04:43:30.569Z"
   },
   {
    "duration": 24,
    "start_time": "2025-04-17T04:43:30.642Z"
   },
   {
    "duration": 34,
    "start_time": "2025-04-17T04:43:30.668Z"
   },
   {
    "duration": 17,
    "start_time": "2025-04-17T04:43:30.704Z"
   },
   {
    "duration": 15,
    "start_time": "2025-04-17T04:43:30.722Z"
   },
   {
    "duration": 9,
    "start_time": "2025-04-17T04:43:30.739Z"
   },
   {
    "duration": 5,
    "start_time": "2025-04-17T04:43:30.750Z"
   },
   {
    "duration": 11,
    "start_time": "2025-04-17T04:43:30.756Z"
   },
   {
    "duration": 30,
    "start_time": "2025-04-17T04:43:30.769Z"
   },
   {
    "duration": 7,
    "start_time": "2025-04-17T04:43:30.800Z"
   },
   {
    "duration": 6,
    "start_time": "2025-04-17T04:43:30.810Z"
   },
   {
    "duration": 5,
    "start_time": "2025-04-17T04:43:30.818Z"
   },
   {
    "duration": 9,
    "start_time": "2025-04-17T04:43:30.824Z"
   },
   {
    "duration": 20,
    "start_time": "2025-04-17T04:43:30.835Z"
   },
   {
    "duration": 6,
    "start_time": "2025-04-17T04:43:30.856Z"
   },
   {
    "duration": 26,
    "start_time": "2025-04-17T04:43:30.863Z"
   },
   {
    "duration": 41,
    "start_time": "2025-04-17T04:43:30.891Z"
   },
   {
    "duration": 23,
    "start_time": "2025-04-17T04:43:30.933Z"
   },
   {
    "duration": 903,
    "start_time": "2025-04-17T04:43:30.958Z"
   },
   {
    "duration": 208,
    "start_time": "2025-04-17T04:43:31.863Z"
   },
   {
    "duration": 120,
    "start_time": "2025-04-17T04:43:32.073Z"
   },
   {
    "duration": 285,
    "start_time": "2025-04-17T04:43:32.195Z"
   },
   {
    "duration": 446,
    "start_time": "2025-04-17T04:43:32.482Z"
   },
   {
    "duration": 524,
    "start_time": "2025-04-17T04:43:32.930Z"
   },
   {
    "duration": 25,
    "start_time": "2025-04-17T04:43:33.456Z"
   },
   {
    "duration": 32,
    "start_time": "2025-04-17T04:43:33.483Z"
   },
   {
    "duration": 10,
    "start_time": "2025-04-17T04:43:33.516Z"
   },
   {
    "duration": 160,
    "start_time": "2025-04-17T04:43:33.527Z"
   },
   {
    "duration": 43,
    "start_time": "2025-04-17T04:43:33.688Z"
   },
   {
    "duration": 454,
    "start_time": "2025-04-17T04:43:33.733Z"
   },
   {
    "duration": 462,
    "start_time": "2025-04-17T04:43:34.189Z"
   },
   {
    "duration": 462,
    "start_time": "2025-04-17T04:43:34.653Z"
   },
   {
    "duration": 546,
    "start_time": "2025-04-17T04:43:35.117Z"
   },
   {
    "duration": 3,
    "start_time": "2025-04-17T04:43:35.665Z"
   },
   {
    "duration": 42,
    "start_time": "2025-04-17T04:43:35.669Z"
   },
   {
    "duration": 32,
    "start_time": "2025-04-17T04:43:35.713Z"
   },
   {
    "duration": 31,
    "start_time": "2025-04-17T04:43:35.746Z"
   },
   {
    "duration": 12,
    "start_time": "2025-04-17T04:43:35.781Z"
   },
   {
    "duration": 33,
    "start_time": "2025-04-17T04:43:35.795Z"
   },
   {
    "duration": 12,
    "start_time": "2025-04-17T04:43:35.830Z"
   },
   {
    "duration": 133,
    "start_time": "2025-04-17T04:43:35.844Z"
   },
   {
    "duration": 0,
    "start_time": "2025-04-17T04:43:35.979Z"
   },
   {
    "duration": 0,
    "start_time": "2025-04-17T04:43:35.980Z"
   },
   {
    "duration": 0,
    "start_time": "2025-04-17T04:43:35.982Z"
   },
   {
    "duration": 0,
    "start_time": "2025-04-17T04:43:35.983Z"
   },
   {
    "duration": 0,
    "start_time": "2025-04-17T04:43:35.984Z"
   },
   {
    "duration": 0,
    "start_time": "2025-04-17T04:43:35.985Z"
   },
   {
    "duration": 0,
    "start_time": "2025-04-17T04:43:35.986Z"
   },
   {
    "duration": 0,
    "start_time": "2025-04-17T04:43:35.988Z"
   },
   {
    "duration": 0,
    "start_time": "2025-04-17T04:43:35.989Z"
   },
   {
    "duration": 0,
    "start_time": "2025-04-17T04:43:35.990Z"
   },
   {
    "duration": 0,
    "start_time": "2025-04-17T04:43:36.005Z"
   },
   {
    "duration": 0,
    "start_time": "2025-04-17T04:43:36.006Z"
   },
   {
    "duration": 10,
    "start_time": "2025-04-17T04:47:03.282Z"
   },
   {
    "duration": 4869,
    "start_time": "2025-04-17T04:55:27.036Z"
   },
   {
    "duration": 1350,
    "start_time": "2025-04-17T04:55:47.016Z"
   },
   {
    "duration": 5,
    "start_time": "2025-04-17T04:55:48.368Z"
   },
   {
    "duration": 5,
    "start_time": "2025-04-17T04:55:50.515Z"
   },
   {
    "duration": 455,
    "start_time": "2025-04-17T05:03:45.576Z"
   },
   {
    "duration": 73,
    "start_time": "2025-04-17T05:03:46.033Z"
   },
   {
    "duration": 12,
    "start_time": "2025-04-17T05:03:46.108Z"
   },
   {
    "duration": 74,
    "start_time": "2025-04-17T05:03:46.122Z"
   },
   {
    "duration": 12,
    "start_time": "2025-04-17T05:03:46.198Z"
   },
   {
    "duration": 9,
    "start_time": "2025-04-17T05:03:46.212Z"
   },
   {
    "duration": 15,
    "start_time": "2025-04-17T05:03:46.222Z"
   },
   {
    "duration": 10,
    "start_time": "2025-04-17T05:03:46.238Z"
   },
   {
    "duration": 5,
    "start_time": "2025-04-17T05:03:46.250Z"
   },
   {
    "duration": 13,
    "start_time": "2025-04-17T05:03:46.257Z"
   },
   {
    "duration": 33,
    "start_time": "2025-04-17T05:03:46.272Z"
   },
   {
    "duration": 10,
    "start_time": "2025-04-17T05:03:46.307Z"
   },
   {
    "duration": 8,
    "start_time": "2025-04-17T05:03:46.319Z"
   },
   {
    "duration": 6,
    "start_time": "2025-04-17T05:03:46.329Z"
   },
   {
    "duration": 6,
    "start_time": "2025-04-17T05:03:46.337Z"
   },
   {
    "duration": 24,
    "start_time": "2025-04-17T05:03:46.344Z"
   },
   {
    "duration": 12,
    "start_time": "2025-04-17T05:03:46.370Z"
   },
   {
    "duration": 6,
    "start_time": "2025-04-17T05:03:46.406Z"
   },
   {
    "duration": 11,
    "start_time": "2025-04-17T05:03:46.413Z"
   },
   {
    "duration": 24,
    "start_time": "2025-04-17T05:03:46.426Z"
   },
   {
    "duration": 13,
    "start_time": "2025-04-17T05:03:46.451Z"
   },
   {
    "duration": 793,
    "start_time": "2025-04-17T05:03:46.465Z"
   },
   {
    "duration": 209,
    "start_time": "2025-04-17T05:03:47.260Z"
   },
   {
    "duration": 123,
    "start_time": "2025-04-17T05:03:47.470Z"
   },
   {
    "duration": 283,
    "start_time": "2025-04-17T05:03:47.594Z"
   },
   {
    "duration": 450,
    "start_time": "2025-04-17T05:03:47.879Z"
   },
   {
    "duration": 518,
    "start_time": "2025-04-17T05:03:48.331Z"
   },
   {
    "duration": 23,
    "start_time": "2025-04-17T05:03:48.853Z"
   },
   {
    "duration": 31,
    "start_time": "2025-04-17T05:03:48.878Z"
   },
   {
    "duration": 9,
    "start_time": "2025-04-17T05:03:48.911Z"
   },
   {
    "duration": 16,
    "start_time": "2025-04-17T05:03:48.922Z"
   },
   {
    "duration": 14,
    "start_time": "2025-04-17T05:03:48.940Z"
   },
   {
    "duration": 470,
    "start_time": "2025-04-17T05:03:48.956Z"
   },
   {
    "duration": 461,
    "start_time": "2025-04-17T05:03:49.428Z"
   },
   {
    "duration": 443,
    "start_time": "2025-04-17T05:03:49.891Z"
   },
   {
    "duration": 560,
    "start_time": "2025-04-17T05:03:50.336Z"
   },
   {
    "duration": 8,
    "start_time": "2025-04-17T05:03:50.898Z"
   },
   {
    "duration": 22,
    "start_time": "2025-04-17T05:03:50.907Z"
   },
   {
    "duration": 56,
    "start_time": "2025-04-17T05:03:50.931Z"
   },
   {
    "duration": 60,
    "start_time": "2025-04-17T05:03:50.989Z"
   },
   {
    "duration": 9,
    "start_time": "2025-04-17T05:03:51.051Z"
   },
   {
    "duration": 20,
    "start_time": "2025-04-17T05:03:51.062Z"
   },
   {
    "duration": 16,
    "start_time": "2025-04-17T05:03:51.084Z"
   },
   {
    "duration": 2126,
    "start_time": "2025-04-17T05:03:51.102Z"
   },
   {
    "duration": 1403,
    "start_time": "2025-04-17T05:03:53.230Z"
   },
   {
    "duration": 4,
    "start_time": "2025-04-17T05:03:54.634Z"
   },
   {
    "duration": 59,
    "start_time": "2025-04-17T05:03:54.640Z"
   },
   {
    "duration": 24,
    "start_time": "2025-04-17T05:03:54.700Z"
   },
   {
    "duration": 11,
    "start_time": "2025-04-17T05:03:54.726Z"
   },
   {
    "duration": 18,
    "start_time": "2025-04-17T05:03:54.739Z"
   },
   {
    "duration": 41,
    "start_time": "2025-04-17T05:03:54.759Z"
   },
   {
    "duration": 13,
    "start_time": "2025-04-17T05:03:54.802Z"
   },
   {
    "duration": 16,
    "start_time": "2025-04-17T05:03:54.816Z"
   },
   {
    "duration": 8,
    "start_time": "2025-04-17T05:03:54.833Z"
   },
   {
    "duration": 26,
    "start_time": "2025-04-17T05:03:54.842Z"
   },
   {
    "duration": 31,
    "start_time": "2025-04-17T05:03:54.870Z"
   },
   {
    "duration": 10,
    "start_time": "2025-04-17T05:05:03.557Z"
   },
   {
    "duration": 412,
    "start_time": "2025-04-17T05:12:30.133Z"
   },
   {
    "duration": 62,
    "start_time": "2025-04-17T05:12:30.547Z"
   },
   {
    "duration": 12,
    "start_time": "2025-04-17T05:12:30.610Z"
   },
   {
    "duration": 68,
    "start_time": "2025-04-17T05:12:30.624Z"
   },
   {
    "duration": 36,
    "start_time": "2025-04-17T05:12:30.694Z"
   },
   {
    "duration": 20,
    "start_time": "2025-04-17T05:12:30.732Z"
   },
   {
    "duration": 14,
    "start_time": "2025-04-17T05:12:30.754Z"
   },
   {
    "duration": 45,
    "start_time": "2025-04-17T05:12:30.770Z"
   },
   {
    "duration": 22,
    "start_time": "2025-04-17T05:12:30.816Z"
   },
   {
    "duration": 15,
    "start_time": "2025-04-17T05:12:30.839Z"
   },
   {
    "duration": 21,
    "start_time": "2025-04-17T05:12:30.856Z"
   },
   {
    "duration": 19,
    "start_time": "2025-04-17T05:12:30.879Z"
   },
   {
    "duration": 32,
    "start_time": "2025-04-17T05:12:30.900Z"
   },
   {
    "duration": 20,
    "start_time": "2025-04-17T05:12:30.935Z"
   },
   {
    "duration": 23,
    "start_time": "2025-04-17T05:12:30.957Z"
   },
   {
    "duration": 25,
    "start_time": "2025-04-17T05:12:30.982Z"
   },
   {
    "duration": 29,
    "start_time": "2025-04-17T05:12:31.009Z"
   },
   {
    "duration": 6,
    "start_time": "2025-04-17T05:12:31.039Z"
   },
   {
    "duration": 16,
    "start_time": "2025-04-17T05:12:31.047Z"
   },
   {
    "duration": 38,
    "start_time": "2025-04-17T05:12:31.065Z"
   },
   {
    "duration": 35,
    "start_time": "2025-04-17T05:12:31.104Z"
   },
   {
    "duration": 821,
    "start_time": "2025-04-17T05:12:31.140Z"
   },
   {
    "duration": 209,
    "start_time": "2025-04-17T05:12:31.963Z"
   },
   {
    "duration": 120,
    "start_time": "2025-04-17T05:12:32.173Z"
   },
   {
    "duration": 283,
    "start_time": "2025-04-17T05:12:32.295Z"
   },
   {
    "duration": 445,
    "start_time": "2025-04-17T05:12:32.580Z"
   },
   {
    "duration": 521,
    "start_time": "2025-04-17T05:12:33.027Z"
   },
   {
    "duration": 25,
    "start_time": "2025-04-17T05:12:33.550Z"
   },
   {
    "duration": 32,
    "start_time": "2025-04-17T05:12:33.577Z"
   },
   {
    "duration": 38,
    "start_time": "2025-04-17T05:12:33.610Z"
   },
   {
    "duration": 150,
    "start_time": "2025-04-17T05:12:33.650Z"
   },
   {
    "duration": 68,
    "start_time": "2025-04-17T05:12:33.802Z"
   },
   {
    "duration": 457,
    "start_time": "2025-04-17T05:12:33.872Z"
   },
   {
    "duration": 451,
    "start_time": "2025-04-17T05:12:34.331Z"
   },
   {
    "duration": 457,
    "start_time": "2025-04-17T05:12:34.784Z"
   },
   {
    "duration": 545,
    "start_time": "2025-04-17T05:12:35.243Z"
   },
   {
    "duration": 2,
    "start_time": "2025-04-17T05:12:35.790Z"
   },
   {
    "duration": 49,
    "start_time": "2025-04-17T05:12:35.804Z"
   },
   {
    "duration": 32,
    "start_time": "2025-04-17T05:12:35.855Z"
   },
   {
    "duration": 65,
    "start_time": "2025-04-17T05:12:35.889Z"
   },
   {
    "duration": 10,
    "start_time": "2025-04-17T05:12:35.959Z"
   },
   {
    "duration": 52,
    "start_time": "2025-04-17T05:12:35.971Z"
   },
   {
    "duration": 39,
    "start_time": "2025-04-17T05:12:36.025Z"
   },
   {
    "duration": 4668,
    "start_time": "2025-04-17T05:12:36.067Z"
   },
   {
    "duration": 9,
    "start_time": "2025-04-17T05:12:40.737Z"
   },
   {
    "duration": 1404,
    "start_time": "2025-04-17T05:12:40.748Z"
   },
   {
    "duration": 4,
    "start_time": "2025-04-17T05:12:42.153Z"
   },
   {
    "duration": 100,
    "start_time": "2025-04-17T05:12:42.159Z"
   },
   {
    "duration": 3,
    "start_time": "2025-04-17T05:12:42.261Z"
   },
   {
    "duration": 6,
    "start_time": "2025-04-17T05:12:42.265Z"
   },
   {
    "duration": 11,
    "start_time": "2025-04-17T05:12:42.273Z"
   },
   {
    "duration": 5,
    "start_time": "2025-04-17T05:12:42.286Z"
   },
   {
    "duration": 10,
    "start_time": "2025-04-17T05:12:42.293Z"
   },
   {
    "duration": 20,
    "start_time": "2025-04-17T05:12:42.304Z"
   },
   {
    "duration": 7,
    "start_time": "2025-04-17T05:12:42.326Z"
   },
   {
    "duration": 8,
    "start_time": "2025-04-17T05:12:42.335Z"
   },
   {
    "duration": 22,
    "start_time": "2025-04-17T05:12:42.345Z"
   },
   {
    "duration": 481,
    "start_time": "2025-04-17T05:13:19.990Z"
   },
   {
    "duration": 62,
    "start_time": "2025-04-17T05:13:20.474Z"
   },
   {
    "duration": 12,
    "start_time": "2025-04-17T05:13:20.538Z"
   },
   {
    "duration": 30,
    "start_time": "2025-04-17T05:13:20.552Z"
   },
   {
    "duration": 26,
    "start_time": "2025-04-17T05:13:20.585Z"
   },
   {
    "duration": 45,
    "start_time": "2025-04-17T05:13:20.614Z"
   },
   {
    "duration": 46,
    "start_time": "2025-04-17T05:13:20.661Z"
   },
   {
    "duration": 21,
    "start_time": "2025-04-17T05:13:20.709Z"
   },
   {
    "duration": 46,
    "start_time": "2025-04-17T05:13:20.732Z"
   },
   {
    "duration": 32,
    "start_time": "2025-04-17T05:13:20.781Z"
   },
   {
    "duration": 13,
    "start_time": "2025-04-17T05:13:20.815Z"
   },
   {
    "duration": 19,
    "start_time": "2025-04-17T05:13:20.830Z"
   },
   {
    "duration": 10,
    "start_time": "2025-04-17T05:13:20.851Z"
   },
   {
    "duration": 16,
    "start_time": "2025-04-17T05:13:20.864Z"
   },
   {
    "duration": 20,
    "start_time": "2025-04-17T05:13:20.882Z"
   },
   {
    "duration": 41,
    "start_time": "2025-04-17T05:13:20.904Z"
   },
   {
    "duration": 12,
    "start_time": "2025-04-17T05:13:20.947Z"
   },
   {
    "duration": 5,
    "start_time": "2025-04-17T05:13:20.960Z"
   },
   {
    "duration": 22,
    "start_time": "2025-04-17T05:13:20.967Z"
   },
   {
    "duration": 22,
    "start_time": "2025-04-17T05:13:20.991Z"
   },
   {
    "duration": 21,
    "start_time": "2025-04-17T05:13:21.015Z"
   },
   {
    "duration": 810,
    "start_time": "2025-04-17T05:13:21.038Z"
   },
   {
    "duration": 206,
    "start_time": "2025-04-17T05:13:21.850Z"
   },
   {
    "duration": 120,
    "start_time": "2025-04-17T05:13:22.058Z"
   },
   {
    "duration": 286,
    "start_time": "2025-04-17T05:13:22.180Z"
   },
   {
    "duration": 446,
    "start_time": "2025-04-17T05:13:22.468Z"
   },
   {
    "duration": 528,
    "start_time": "2025-04-17T05:13:22.916Z"
   },
   {
    "duration": 26,
    "start_time": "2025-04-17T05:13:23.445Z"
   },
   {
    "duration": 38,
    "start_time": "2025-04-17T05:13:23.472Z"
   },
   {
    "duration": 10,
    "start_time": "2025-04-17T05:13:23.512Z"
   },
   {
    "duration": 31,
    "start_time": "2025-04-17T05:13:23.524Z"
   },
   {
    "duration": 15,
    "start_time": "2025-04-17T05:13:23.557Z"
   },
   {
    "duration": 472,
    "start_time": "2025-04-17T05:13:23.574Z"
   },
   {
    "duration": 448,
    "start_time": "2025-04-17T05:13:24.048Z"
   },
   {
    "duration": 450,
    "start_time": "2025-04-17T05:13:24.504Z"
   },
   {
    "duration": 557,
    "start_time": "2025-04-17T05:13:24.957Z"
   },
   {
    "duration": 2,
    "start_time": "2025-04-17T05:13:25.516Z"
   },
   {
    "duration": 44,
    "start_time": "2025-04-17T05:13:25.520Z"
   },
   {
    "duration": 22,
    "start_time": "2025-04-17T05:13:25.566Z"
   },
   {
    "duration": 35,
    "start_time": "2025-04-17T05:13:25.590Z"
   },
   {
    "duration": 10,
    "start_time": "2025-04-17T05:13:25.629Z"
   },
   {
    "duration": 10,
    "start_time": "2025-04-17T05:13:25.640Z"
   },
   {
    "duration": 25,
    "start_time": "2025-04-17T05:13:25.652Z"
   },
   {
    "duration": 5232,
    "start_time": "2025-04-17T05:13:25.679Z"
   },
   {
    "duration": 0,
    "start_time": "2025-04-17T05:13:30.913Z"
   },
   {
    "duration": 0,
    "start_time": "2025-04-17T05:13:30.914Z"
   },
   {
    "duration": 0,
    "start_time": "2025-04-17T05:13:30.915Z"
   },
   {
    "duration": 0,
    "start_time": "2025-04-17T05:13:30.916Z"
   },
   {
    "duration": 0,
    "start_time": "2025-04-17T05:13:30.917Z"
   },
   {
    "duration": 0,
    "start_time": "2025-04-17T05:13:30.918Z"
   },
   {
    "duration": 0,
    "start_time": "2025-04-17T05:13:30.919Z"
   },
   {
    "duration": 0,
    "start_time": "2025-04-17T05:13:30.920Z"
   },
   {
    "duration": 0,
    "start_time": "2025-04-17T05:13:30.921Z"
   },
   {
    "duration": 0,
    "start_time": "2025-04-17T05:13:30.922Z"
   },
   {
    "duration": 0,
    "start_time": "2025-04-17T05:13:30.922Z"
   },
   {
    "duration": 0,
    "start_time": "2025-04-17T05:13:30.923Z"
   },
   {
    "duration": 0,
    "start_time": "2025-04-17T05:13:30.924Z"
   },
   {
    "duration": 2294,
    "start_time": "2025-04-17T05:14:12.770Z"
   },
   {
    "duration": 10,
    "start_time": "2025-04-17T05:14:15.066Z"
   },
   {
    "duration": 1534,
    "start_time": "2025-04-17T05:14:15.444Z"
   },
   {
    "duration": 4,
    "start_time": "2025-04-17T05:14:16.980Z"
   },
   {
    "duration": 5,
    "start_time": "2025-04-17T05:14:17.319Z"
   },
   {
    "duration": 434,
    "start_time": "2025-04-17T05:17:45.110Z"
   },
   {
    "duration": 62,
    "start_time": "2025-04-17T05:17:45.546Z"
   },
   {
    "duration": 12,
    "start_time": "2025-04-17T05:17:45.610Z"
   },
   {
    "duration": 34,
    "start_time": "2025-04-17T05:17:45.624Z"
   },
   {
    "duration": 12,
    "start_time": "2025-04-17T05:17:45.660Z"
   },
   {
    "duration": 12,
    "start_time": "2025-04-17T05:17:45.674Z"
   },
   {
    "duration": 82,
    "start_time": "2025-04-17T05:17:45.689Z"
   },
   {
    "duration": 86,
    "start_time": "2025-04-17T05:17:45.773Z"
   },
   {
    "duration": 27,
    "start_time": "2025-04-17T05:17:45.861Z"
   },
   {
    "duration": 7,
    "start_time": "2025-04-17T05:17:45.891Z"
   },
   {
    "duration": 20,
    "start_time": "2025-04-17T05:17:45.899Z"
   },
   {
    "duration": 6,
    "start_time": "2025-04-17T05:17:45.921Z"
   },
   {
    "duration": 6,
    "start_time": "2025-04-17T05:17:45.928Z"
   },
   {
    "duration": 8,
    "start_time": "2025-04-17T05:17:45.935Z"
   },
   {
    "duration": 6,
    "start_time": "2025-04-17T05:17:45.944Z"
   },
   {
    "duration": 13,
    "start_time": "2025-04-17T05:17:45.951Z"
   },
   {
    "duration": 39,
    "start_time": "2025-04-17T05:17:45.966Z"
   },
   {
    "duration": 6,
    "start_time": "2025-04-17T05:17:46.007Z"
   },
   {
    "duration": 10,
    "start_time": "2025-04-17T05:17:46.014Z"
   },
   {
    "duration": 16,
    "start_time": "2025-04-17T05:17:46.025Z"
   },
   {
    "duration": 5,
    "start_time": "2025-04-17T05:17:46.042Z"
   },
   {
    "duration": 841,
    "start_time": "2025-04-17T05:17:46.050Z"
   },
   {
    "duration": 207,
    "start_time": "2025-04-17T05:17:46.893Z"
   },
   {
    "duration": 115,
    "start_time": "2025-04-17T05:17:47.106Z"
   },
   {
    "duration": 292,
    "start_time": "2025-04-17T05:17:47.223Z"
   },
   {
    "duration": 436,
    "start_time": "2025-04-17T05:17:47.517Z"
   },
   {
    "duration": 511,
    "start_time": "2025-04-17T05:17:47.955Z"
   },
   {
    "duration": 36,
    "start_time": "2025-04-17T05:17:48.470Z"
   },
   {
    "duration": 15,
    "start_time": "2025-04-17T05:17:48.508Z"
   },
   {
    "duration": 10,
    "start_time": "2025-04-17T05:17:48.525Z"
   },
   {
    "duration": 17,
    "start_time": "2025-04-17T05:17:48.536Z"
   },
   {
    "duration": 35,
    "start_time": "2025-04-17T05:17:48.555Z"
   },
   {
    "duration": 435,
    "start_time": "2025-04-17T05:17:48.591Z"
   },
   {
    "duration": 441,
    "start_time": "2025-04-17T05:17:49.028Z"
   },
   {
    "duration": 438,
    "start_time": "2025-04-17T05:17:49.471Z"
   },
   {
    "duration": 534,
    "start_time": "2025-04-17T05:17:49.911Z"
   },
   {
    "duration": 2,
    "start_time": "2025-04-17T05:17:50.447Z"
   },
   {
    "duration": 28,
    "start_time": "2025-04-17T05:17:50.451Z"
   },
   {
    "duration": 22,
    "start_time": "2025-04-17T05:17:50.481Z"
   },
   {
    "duration": 31,
    "start_time": "2025-04-17T05:17:50.505Z"
   },
   {
    "duration": 10,
    "start_time": "2025-04-17T05:17:50.538Z"
   },
   {
    "duration": 57,
    "start_time": "2025-04-17T05:17:50.549Z"
   },
   {
    "duration": 19,
    "start_time": "2025-04-17T05:17:50.607Z"
   },
   {
    "duration": 1411,
    "start_time": "2025-04-17T05:17:50.627Z"
   },
   {
    "duration": 11,
    "start_time": "2025-04-17T05:17:52.039Z"
   },
   {
    "duration": 1406,
    "start_time": "2025-04-17T05:17:52.051Z"
   },
   {
    "duration": 5,
    "start_time": "2025-04-17T05:17:53.458Z"
   },
   {
    "duration": 13,
    "start_time": "2025-04-17T05:17:53.465Z"
   },
   {
    "duration": 28,
    "start_time": "2025-04-17T05:17:53.480Z"
   },
   {
    "duration": 20,
    "start_time": "2025-04-17T05:17:53.510Z"
   },
   {
    "duration": 13,
    "start_time": "2025-04-17T05:17:53.532Z"
   },
   {
    "duration": 39,
    "start_time": "2025-04-17T05:17:53.547Z"
   },
   {
    "duration": 24,
    "start_time": "2025-04-17T05:17:53.587Z"
   },
   {
    "duration": 16,
    "start_time": "2025-04-17T05:17:53.613Z"
   },
   {
    "duration": 34,
    "start_time": "2025-04-17T05:17:53.631Z"
   },
   {
    "duration": 36,
    "start_time": "2025-04-17T05:17:53.667Z"
   },
   {
    "duration": 139,
    "start_time": "2025-04-17T05:17:53.705Z"
   },
   {
    "duration": 378,
    "start_time": "2025-04-17T18:38:31.895Z"
   },
   {
    "duration": 59,
    "start_time": "2025-04-17T18:38:32.274Z"
   },
   {
    "duration": 11,
    "start_time": "2025-04-17T18:38:32.335Z"
   },
   {
    "duration": 14,
    "start_time": "2025-04-17T18:38:32.348Z"
   },
   {
    "duration": 11,
    "start_time": "2025-04-17T18:38:32.401Z"
   },
   {
    "duration": 9,
    "start_time": "2025-04-17T18:38:32.439Z"
   },
   {
    "duration": 10,
    "start_time": "2025-04-17T18:38:33.064Z"
   },
   {
    "duration": 9,
    "start_time": "2025-04-17T18:38:33.075Z"
   },
   {
    "duration": 5,
    "start_time": "2025-04-17T18:38:33.085Z"
   },
   {
    "duration": 4,
    "start_time": "2025-04-17T18:38:33.270Z"
   },
   {
    "duration": 7,
    "start_time": "2025-04-17T18:38:33.376Z"
   },
   {
    "duration": 5,
    "start_time": "2025-04-17T18:38:33.515Z"
   },
   {
    "duration": 59,
    "start_time": "2025-04-17T18:38:33.522Z"
   },
   {
    "duration": 6,
    "start_time": "2025-04-17T18:38:33.658Z"
   },
   {
    "duration": 58,
    "start_time": "2025-04-17T18:38:33.665Z"
   },
   {
    "duration": 8,
    "start_time": "2025-04-17T18:38:33.744Z"
   },
   {
    "duration": 10,
    "start_time": "2025-04-17T18:38:33.754Z"
   },
   {
    "duration": 5,
    "start_time": "2025-04-17T18:38:35.458Z"
   },
   {
    "duration": 127,
    "start_time": "2025-04-17T18:38:35.465Z"
   },
   {
    "duration": 14,
    "start_time": "2025-04-17T18:38:35.593Z"
   },
   {
    "duration": 73,
    "start_time": "2025-04-17T18:38:35.608Z"
   },
   {
    "duration": 999,
    "start_time": "2025-04-17T18:38:35.683Z"
   },
   {
    "duration": 197,
    "start_time": "2025-04-17T18:38:36.720Z"
   },
   {
    "duration": 107,
    "start_time": "2025-04-17T18:38:36.919Z"
   },
   {
    "duration": 256,
    "start_time": "2025-04-17T18:38:37.028Z"
   },
   {
    "duration": 395,
    "start_time": "2025-04-17T18:38:37.286Z"
   },
   {
    "duration": 452,
    "start_time": "2025-04-17T18:38:37.683Z"
   },
   {
    "duration": 31,
    "start_time": "2025-04-17T18:38:38.137Z"
   },
   {
    "duration": 14,
    "start_time": "2025-04-17T18:38:38.169Z"
   },
   {
    "duration": 8,
    "start_time": "2025-04-17T18:38:38.184Z"
   },
   {
    "duration": 31,
    "start_time": "2025-04-17T18:38:38.194Z"
   },
   {
    "duration": 15,
    "start_time": "2025-04-17T18:38:39.276Z"
   },
   {
    "duration": 376,
    "start_time": "2025-04-17T18:38:39.293Z"
   },
   {
    "duration": 383,
    "start_time": "2025-04-17T18:38:39.670Z"
   },
   {
    "duration": 493,
    "start_time": "2025-04-17T18:38:40.055Z"
   },
   {
    "duration": 365,
    "start_time": "2025-04-17T18:38:40.560Z"
   },
   {
    "duration": 3,
    "start_time": "2025-04-17T18:38:40.926Z"
   },
   {
    "duration": 13,
    "start_time": "2025-04-17T18:38:40.930Z"
   },
   {
    "duration": 27,
    "start_time": "2025-04-17T18:38:40.944Z"
   },
   {
    "duration": 29,
    "start_time": "2025-04-17T18:38:40.973Z"
   },
   {
    "duration": 9,
    "start_time": "2025-04-17T18:38:41.004Z"
   },
   {
    "duration": 10,
    "start_time": "2025-04-17T18:38:41.014Z"
   },
   {
    "duration": 1241,
    "start_time": "2025-04-17T18:38:41.025Z"
   },
   {
    "duration": 10,
    "start_time": "2025-04-17T18:38:42.267Z"
   },
   {
    "duration": 1226,
    "start_time": "2025-04-17T18:38:42.280Z"
   },
   {
    "duration": 2,
    "start_time": "2025-04-17T18:38:43.508Z"
   },
   {
    "duration": 81,
    "start_time": "2025-04-17T18:38:43.512Z"
   },
   {
    "duration": 5,
    "start_time": "2025-04-17T18:38:43.594Z"
   },
   {
    "duration": 5,
    "start_time": "2025-04-17T18:38:43.601Z"
   },
   {
    "duration": 4,
    "start_time": "2025-04-17T18:38:43.608Z"
   },
   {
    "duration": 7,
    "start_time": "2025-04-17T18:38:43.614Z"
   },
   {
    "duration": 7,
    "start_time": "2025-04-17T18:38:43.622Z"
   },
   {
    "duration": 63,
    "start_time": "2025-04-17T18:38:43.631Z"
   },
   {
    "duration": 5,
    "start_time": "2025-04-17T18:38:43.696Z"
   },
   {
    "duration": 441,
    "start_time": "2025-04-17T21:37:40.809Z"
   },
   {
    "duration": 69,
    "start_time": "2025-04-17T21:37:41.252Z"
   },
   {
    "duration": 13,
    "start_time": "2025-04-17T21:37:41.322Z"
   },
   {
    "duration": 114,
    "start_time": "2025-04-17T21:37:41.338Z"
   },
   {
    "duration": 12,
    "start_time": "2025-04-17T21:37:41.453Z"
   },
   {
    "duration": 32,
    "start_time": "2025-04-17T21:37:41.467Z"
   },
   {
    "duration": 17,
    "start_time": "2025-04-17T21:37:41.501Z"
   },
   {
    "duration": 12,
    "start_time": "2025-04-17T21:37:41.520Z"
   },
   {
    "duration": 5,
    "start_time": "2025-04-17T21:37:41.534Z"
   },
   {
    "duration": 4,
    "start_time": "2025-04-17T21:37:42.571Z"
   },
   {
    "duration": 8,
    "start_time": "2025-04-17T21:37:43.342Z"
   },
   {
    "duration": 89,
    "start_time": "2025-04-17T21:37:43.352Z"
   },
   {
    "duration": 36,
    "start_time": "2025-04-17T21:37:43.442Z"
   },
   {
    "duration": 7,
    "start_time": "2025-04-17T21:37:43.615Z"
   },
   {
    "duration": 11,
    "start_time": "2025-04-17T21:37:43.623Z"
   },
   {
    "duration": 27,
    "start_time": "2025-04-17T21:37:43.635Z"
   },
   {
    "duration": 12,
    "start_time": "2025-04-17T21:37:43.871Z"
   },
   {
    "duration": 8,
    "start_time": "2025-04-17T21:37:43.885Z"
   },
   {
    "duration": 9,
    "start_time": "2025-04-17T21:37:43.895Z"
   },
   {
    "duration": 4,
    "start_time": "2025-04-17T21:37:44.412Z"
   },
   {
    "duration": 7,
    "start_time": "2025-04-17T21:37:44.418Z"
   },
   {
    "duration": 452,
    "start_time": "2025-04-17T21:37:44.427Z"
   },
   {
    "duration": 216,
    "start_time": "2025-04-17T21:37:44.882Z"
   },
   {
    "duration": 115,
    "start_time": "2025-04-17T21:37:45.099Z"
   },
   {
    "duration": 288,
    "start_time": "2025-04-17T21:37:45.216Z"
   },
   {
    "duration": 509,
    "start_time": "2025-04-17T21:37:45.505Z"
   },
   {
    "duration": 441,
    "start_time": "2025-04-17T21:37:46.016Z"
   },
   {
    "duration": 25,
    "start_time": "2025-04-17T21:37:46.460Z"
   },
   {
    "duration": 57,
    "start_time": "2025-04-17T21:37:46.487Z"
   },
   {
    "duration": 32,
    "start_time": "2025-04-17T21:37:46.546Z"
   },
   {
    "duration": 18,
    "start_time": "2025-04-17T21:37:46.581Z"
   },
   {
    "duration": 88,
    "start_time": "2025-04-17T21:37:46.601Z"
   },
   {
    "duration": 423,
    "start_time": "2025-04-17T21:37:46.692Z"
   },
   {
    "duration": 570,
    "start_time": "2025-04-17T21:37:47.117Z"
   },
   {
    "duration": 421,
    "start_time": "2025-04-17T21:37:47.688Z"
   },
   {
    "duration": 453,
    "start_time": "2025-04-17T21:37:48.111Z"
   },
   {
    "duration": 3,
    "start_time": "2025-04-17T21:37:48.565Z"
   },
   {
    "duration": 111,
    "start_time": "2025-04-17T21:37:48.569Z"
   },
   {
    "duration": 39,
    "start_time": "2025-04-17T21:37:48.683Z"
   },
   {
    "duration": 30,
    "start_time": "2025-04-17T21:37:48.724Z"
   },
   {
    "duration": 10,
    "start_time": "2025-04-17T21:37:48.755Z"
   },
   {
    "duration": 77,
    "start_time": "2025-04-17T21:37:48.766Z"
   },
   {
    "duration": 1578,
    "start_time": "2025-04-17T21:37:48.845Z"
   },
   {
    "duration": 10,
    "start_time": "2025-04-17T21:37:50.425Z"
   },
   {
    "duration": 1949,
    "start_time": "2025-04-17T21:37:50.437Z"
   },
   {
    "duration": 506,
    "start_time": "2025-04-17T21:37:52.388Z"
   },
   {
    "duration": 4,
    "start_time": "2025-04-17T21:37:52.896Z"
   },
   {
    "duration": 23,
    "start_time": "2025-04-17T21:37:52.901Z"
   },
   {
    "duration": 11,
    "start_time": "2025-04-17T21:37:52.926Z"
   },
   {
    "duration": 13,
    "start_time": "2025-04-17T21:37:52.939Z"
   },
   {
    "duration": 9,
    "start_time": "2025-04-17T21:37:52.954Z"
   },
   {
    "duration": 20,
    "start_time": "2025-04-17T21:37:52.965Z"
   },
   {
    "duration": 9,
    "start_time": "2025-04-17T21:37:52.987Z"
   },
   {
    "duration": 6,
    "start_time": "2025-04-17T21:37:52.997Z"
   },
   {
    "duration": 414,
    "start_time": "2025-04-19T12:31:25.067Z"
   },
   {
    "duration": 59,
    "start_time": "2025-04-19T12:31:25.483Z"
   },
   {
    "duration": 12,
    "start_time": "2025-04-19T12:31:25.544Z"
   },
   {
    "duration": 15,
    "start_time": "2025-04-19T12:31:25.559Z"
   },
   {
    "duration": 13,
    "start_time": "2025-04-19T12:31:25.576Z"
   },
   {
    "duration": 10,
    "start_time": "2025-04-19T12:31:25.591Z"
   },
   {
    "duration": 43,
    "start_time": "2025-04-19T12:31:25.603Z"
   },
   {
    "duration": 24,
    "start_time": "2025-04-19T12:31:25.648Z"
   },
   {
    "duration": 11,
    "start_time": "2025-04-19T12:31:25.674Z"
   },
   {
    "duration": 5,
    "start_time": "2025-04-19T12:31:25.688Z"
   },
   {
    "duration": 13,
    "start_time": "2025-04-19T12:31:25.694Z"
   },
   {
    "duration": 14,
    "start_time": "2025-04-19T12:31:25.708Z"
   },
   {
    "duration": 8,
    "start_time": "2025-04-19T12:31:25.724Z"
   },
   {
    "duration": 7,
    "start_time": "2025-04-19T12:31:25.733Z"
   },
   {
    "duration": 6,
    "start_time": "2025-04-19T12:31:25.742Z"
   },
   {
    "duration": 8,
    "start_time": "2025-04-19T12:31:25.749Z"
   },
   {
    "duration": 10,
    "start_time": "2025-04-19T12:31:25.759Z"
   },
   {
    "duration": 5,
    "start_time": "2025-04-19T12:31:25.770Z"
   },
   {
    "duration": 8,
    "start_time": "2025-04-19T12:31:25.776Z"
   },
   {
    "duration": 4,
    "start_time": "2025-04-19T12:31:25.786Z"
   },
   {
    "duration": 45,
    "start_time": "2025-04-19T12:31:25.792Z"
   },
   {
    "duration": 416,
    "start_time": "2025-04-19T12:31:25.838Z"
   },
   {
    "duration": 206,
    "start_time": "2025-04-19T12:31:26.256Z"
   },
   {
    "duration": 108,
    "start_time": "2025-04-19T12:31:26.464Z"
   },
   {
    "duration": 270,
    "start_time": "2025-04-19T12:31:26.573Z"
   },
   {
    "duration": 495,
    "start_time": "2025-04-19T12:31:26.845Z"
   },
   {
    "duration": 430,
    "start_time": "2025-04-19T12:31:27.341Z"
   },
   {
    "duration": 31,
    "start_time": "2025-04-19T12:31:27.775Z"
   },
   {
    "duration": 32,
    "start_time": "2025-04-19T12:31:27.807Z"
   },
   {
    "duration": 10,
    "start_time": "2025-04-19T12:31:27.841Z"
   },
   {
    "duration": 21,
    "start_time": "2025-04-19T12:31:27.852Z"
   },
   {
    "duration": 44,
    "start_time": "2025-04-19T12:31:27.875Z"
   },
   {
    "duration": 425,
    "start_time": "2025-04-19T12:31:27.920Z"
   },
   {
    "duration": 506,
    "start_time": "2025-04-19T12:31:28.347Z"
   },
   {
    "duration": 441,
    "start_time": "2025-04-19T12:31:28.855Z"
   },
   {
    "duration": 409,
    "start_time": "2025-04-19T12:31:29.298Z"
   },
   {
    "duration": 3,
    "start_time": "2025-04-19T12:31:29.708Z"
   },
   {
    "duration": 30,
    "start_time": "2025-04-19T12:31:29.712Z"
   },
   {
    "duration": 20,
    "start_time": "2025-04-19T12:31:29.744Z"
   },
   {
    "duration": 29,
    "start_time": "2025-04-19T12:31:29.766Z"
   },
   {
    "duration": 9,
    "start_time": "2025-04-19T12:31:29.796Z"
   },
   {
    "duration": 9,
    "start_time": "2025-04-19T12:31:29.806Z"
   },
   {
    "duration": 1390,
    "start_time": "2025-04-19T12:31:29.837Z"
   },
   {
    "duration": 15,
    "start_time": "2025-04-19T12:31:31.229Z"
   },
   {
    "duration": 1359,
    "start_time": "2025-04-19T12:31:31.245Z"
   },
   {
    "duration": 500,
    "start_time": "2025-04-19T12:31:32.605Z"
   },
   {
    "duration": 4,
    "start_time": "2025-04-19T12:31:33.107Z"
   },
   {
    "duration": 21,
    "start_time": "2025-04-19T12:31:33.112Z"
   },
   {
    "duration": 25,
    "start_time": "2025-04-19T12:31:33.134Z"
   },
   {
    "duration": 37,
    "start_time": "2025-04-19T12:31:33.161Z"
   },
   {
    "duration": 31,
    "start_time": "2025-04-19T12:31:33.199Z"
   },
   {
    "duration": 40,
    "start_time": "2025-04-19T12:31:33.231Z"
   },
   {
    "duration": 107,
    "start_time": "2025-04-19T12:31:33.272Z"
   },
   {
    "duration": 29,
    "start_time": "2025-04-19T12:31:33.381Z"
   },
   {
    "duration": 5,
    "start_time": "2025-04-19T12:46:36.216Z"
   },
   {
    "duration": 6,
    "start_time": "2025-04-19T12:47:10.110Z"
   },
   {
    "duration": 77,
    "start_time": "2025-04-19T12:47:34.945Z"
   },
   {
    "duration": 67,
    "start_time": "2025-04-19T12:49:40.948Z"
   },
   {
    "duration": 217,
    "start_time": "2025-04-19T12:50:35.798Z"
   },
   {
    "duration": 134,
    "start_time": "2025-04-19T12:53:41.631Z"
   },
   {
    "duration": 123,
    "start_time": "2025-04-19T12:55:32.351Z"
   },
   {
    "duration": 628,
    "start_time": "2025-04-19T12:55:51.949Z"
   },
   {
    "duration": 140,
    "start_time": "2025-04-19T12:56:23.138Z"
   },
   {
    "duration": 14,
    "start_time": "2025-04-19T13:01:53.569Z"
   },
   {
    "duration": 841,
    "start_time": "2025-04-19T13:02:21.857Z"
   },
   {
    "duration": 837,
    "start_time": "2025-04-19T13:02:33.647Z"
   },
   {
    "duration": 922,
    "start_time": "2025-04-19T13:02:46.028Z"
   },
   {
    "duration": 883,
    "start_time": "2025-04-19T13:03:25.180Z"
   },
   {
    "duration": 828,
    "start_time": "2025-04-19T13:03:38.531Z"
   },
   {
    "duration": 956,
    "start_time": "2025-04-19T13:03:48.311Z"
   },
   {
    "duration": 789,
    "start_time": "2025-04-19T13:03:56.254Z"
   },
   {
    "duration": 926,
    "start_time": "2025-04-19T13:05:49.294Z"
   },
   {
    "duration": 811,
    "start_time": "2025-04-19T13:06:05.549Z"
   },
   {
    "duration": 9,
    "start_time": "2025-04-19T13:07:25.740Z"
   },
   {
    "duration": 9,
    "start_time": "2025-04-19T13:07:26.639Z"
   },
   {
    "duration": 68,
    "start_time": "2025-04-19T13:12:55.685Z"
   },
   {
    "duration": 69,
    "start_time": "2025-04-19T13:15:13.320Z"
   },
   {
    "duration": 909,
    "start_time": "2025-04-19T13:15:22.810Z"
   },
   {
    "duration": 800,
    "start_time": "2025-04-19T13:15:40.865Z"
   },
   {
    "duration": 919,
    "start_time": "2025-04-19T13:15:56.402Z"
   },
   {
    "duration": 854,
    "start_time": "2025-04-19T13:16:04.887Z"
   },
   {
    "duration": 970,
    "start_time": "2025-04-19T13:16:15.628Z"
   },
   {
    "duration": 904,
    "start_time": "2025-04-19T13:16:41.191Z"
   },
   {
    "duration": 8,
    "start_time": "2025-04-19T13:18:05.578Z"
   },
   {
    "duration": 7,
    "start_time": "2025-04-19T13:18:06.127Z"
   },
   {
    "duration": 454,
    "start_time": "2025-04-19T21:37:51.343Z"
   },
   {
    "duration": 68,
    "start_time": "2025-04-19T21:37:51.803Z"
   },
   {
    "duration": 12,
    "start_time": "2025-04-19T21:37:51.873Z"
   },
   {
    "duration": 125,
    "start_time": "2025-04-19T21:37:51.886Z"
   },
   {
    "duration": 18,
    "start_time": "2025-04-19T21:37:52.013Z"
   },
   {
    "duration": 20,
    "start_time": "2025-04-19T21:37:52.033Z"
   },
   {
    "duration": 30,
    "start_time": "2025-04-19T21:37:52.055Z"
   },
   {
    "duration": 29,
    "start_time": "2025-04-19T21:37:52.087Z"
   },
   {
    "duration": 29,
    "start_time": "2025-04-19T21:37:52.117Z"
   },
   {
    "duration": 5,
    "start_time": "2025-04-19T21:37:52.147Z"
   },
   {
    "duration": 111,
    "start_time": "2025-04-19T21:37:52.154Z"
   },
   {
    "duration": 6,
    "start_time": "2025-04-19T21:37:52.267Z"
   },
   {
    "duration": 17,
    "start_time": "2025-04-19T21:37:52.275Z"
   },
   {
    "duration": 6,
    "start_time": "2025-04-19T21:37:52.296Z"
   },
   {
    "duration": 6,
    "start_time": "2025-04-19T21:37:52.304Z"
   },
   {
    "duration": 17,
    "start_time": "2025-04-19T21:37:52.312Z"
   },
   {
    "duration": 12,
    "start_time": "2025-04-19T21:37:52.331Z"
   },
   {
    "duration": 5,
    "start_time": "2025-04-19T21:37:52.345Z"
   },
   {
    "duration": 11,
    "start_time": "2025-04-19T21:37:52.351Z"
   },
   {
    "duration": 34,
    "start_time": "2025-04-19T21:37:52.363Z"
   },
   {
    "duration": 8,
    "start_time": "2025-04-19T21:37:52.399Z"
   },
   {
    "duration": 458,
    "start_time": "2025-04-19T21:37:52.408Z"
   },
   {
    "duration": 218,
    "start_time": "2025-04-19T21:37:52.868Z"
   },
   {
    "duration": 120,
    "start_time": "2025-04-19T21:37:53.088Z"
   },
   {
    "duration": 296,
    "start_time": "2025-04-19T21:37:53.210Z"
   },
   {
    "duration": 507,
    "start_time": "2025-04-19T21:37:53.507Z"
   },
   {
    "duration": 441,
    "start_time": "2025-04-19T21:37:54.015Z"
   },
   {
    "duration": 26,
    "start_time": "2025-04-19T21:37:54.458Z"
   },
   {
    "duration": 16,
    "start_time": "2025-04-19T21:37:54.503Z"
   },
   {
    "duration": 11,
    "start_time": "2025-04-19T21:37:54.521Z"
   },
   {
    "duration": 17,
    "start_time": "2025-04-19T21:37:54.534Z"
   },
   {
    "duration": 14,
    "start_time": "2025-04-19T21:37:54.553Z"
   },
   {
    "duration": 943,
    "start_time": "2025-04-19T21:37:54.569Z"
   },
   {
    "duration": 10,
    "start_time": "2025-04-19T21:37:55.514Z"
   },
   {
    "duration": 20,
    "start_time": "2025-04-19T21:37:55.526Z"
   },
   {
    "duration": 856,
    "start_time": "2025-04-19T21:37:55.548Z"
   },
   {
    "duration": 10,
    "start_time": "2025-04-19T21:37:56.405Z"
   },
   {
    "duration": 14,
    "start_time": "2025-04-19T21:37:56.417Z"
   },
   {
    "duration": 4,
    "start_time": "2025-04-19T21:37:56.433Z"
   },
   {
    "duration": 17,
    "start_time": "2025-04-19T21:37:56.439Z"
   },
   {
    "duration": 25,
    "start_time": "2025-04-19T21:37:56.461Z"
   },
   {
    "duration": 55,
    "start_time": "2025-04-19T21:37:56.504Z"
   },
   {
    "duration": 9,
    "start_time": "2025-04-19T21:37:56.561Z"
   },
   {
    "duration": 14,
    "start_time": "2025-04-19T21:37:56.571Z"
   },
   {
    "duration": 1399,
    "start_time": "2025-04-19T21:37:56.587Z"
   },
   {
    "duration": 17,
    "start_time": "2025-04-19T21:37:57.988Z"
   },
   {
    "duration": 1394,
    "start_time": "2025-04-19T21:37:58.007Z"
   },
   {
    "duration": 486,
    "start_time": "2025-04-19T21:37:59.404Z"
   },
   {
    "duration": 4,
    "start_time": "2025-04-19T21:37:59.892Z"
   },
   {
    "duration": 78,
    "start_time": "2025-04-19T21:37:59.904Z"
   },
   {
    "duration": 44,
    "start_time": "2025-04-19T21:37:59.983Z"
   },
   {
    "duration": 32,
    "start_time": "2025-04-19T21:38:00.029Z"
   },
   {
    "duration": 42,
    "start_time": "2025-04-19T21:38:00.062Z"
   },
   {
    "duration": 42,
    "start_time": "2025-04-19T21:38:00.106Z"
   },
   {
    "duration": 142,
    "start_time": "2025-04-19T21:38:00.149Z"
   },
   {
    "duration": 25,
    "start_time": "2025-04-19T21:38:00.293Z"
   },
   {
    "duration": 422,
    "start_time": "2025-04-20T01:46:23.342Z"
   },
   {
    "duration": 79,
    "start_time": "2025-04-20T01:46:23.766Z"
   },
   {
    "duration": 22,
    "start_time": "2025-04-20T01:46:23.847Z"
   },
   {
    "duration": 32,
    "start_time": "2025-04-20T01:46:23.872Z"
   },
   {
    "duration": 21,
    "start_time": "2025-04-20T01:46:23.906Z"
   },
   {
    "duration": 12,
    "start_time": "2025-04-20T01:46:23.929Z"
   },
   {
    "duration": 27,
    "start_time": "2025-04-20T01:46:23.942Z"
   },
   {
    "duration": 34,
    "start_time": "2025-04-20T01:46:23.971Z"
   },
   {
    "duration": 31,
    "start_time": "2025-04-20T01:46:24.007Z"
   },
   {
    "duration": 29,
    "start_time": "2025-04-20T01:46:24.041Z"
   },
   {
    "duration": 48,
    "start_time": "2025-04-20T01:46:24.072Z"
   },
   {
    "duration": 15,
    "start_time": "2025-04-20T01:46:24.122Z"
   },
   {
    "duration": 37,
    "start_time": "2025-04-20T01:46:24.139Z"
   },
   {
    "duration": 23,
    "start_time": "2025-04-20T01:46:24.177Z"
   },
   {
    "duration": 20,
    "start_time": "2025-04-20T01:46:24.202Z"
   },
   {
    "duration": 29,
    "start_time": "2025-04-20T01:46:24.225Z"
   },
   {
    "duration": 40,
    "start_time": "2025-04-20T01:46:24.257Z"
   },
   {
    "duration": 129,
    "start_time": "2025-04-20T01:46:24.299Z"
   },
   {
    "duration": 23,
    "start_time": "2025-04-20T01:46:24.431Z"
   },
   {
    "duration": 37,
    "start_time": "2025-04-20T01:46:24.456Z"
   },
   {
    "duration": 98,
    "start_time": "2025-04-20T01:46:24.495Z"
   },
   {
    "duration": 595,
    "start_time": "2025-04-20T01:46:24.595Z"
   },
   {
    "duration": 242,
    "start_time": "2025-04-20T01:46:25.192Z"
   },
   {
    "duration": 129,
    "start_time": "2025-04-20T01:46:25.437Z"
   },
   {
    "duration": 310,
    "start_time": "2025-04-20T01:46:25.567Z"
   },
   {
    "duration": 538,
    "start_time": "2025-04-20T01:46:25.879Z"
   },
   {
    "duration": 472,
    "start_time": "2025-04-20T01:46:26.419Z"
   },
   {
    "duration": 42,
    "start_time": "2025-04-20T01:46:26.895Z"
   },
   {
    "duration": 15,
    "start_time": "2025-04-20T01:46:26.939Z"
   },
   {
    "duration": 34,
    "start_time": "2025-04-20T01:46:26.955Z"
   },
   {
    "duration": 35,
    "start_time": "2025-04-20T01:46:26.991Z"
   },
   {
    "duration": 19,
    "start_time": "2025-04-20T01:46:27.027Z"
   },
   {
    "duration": 982,
    "start_time": "2025-04-20T01:46:27.047Z"
   },
   {
    "duration": 10,
    "start_time": "2025-04-20T01:46:28.031Z"
   },
   {
    "duration": 19,
    "start_time": "2025-04-20T01:46:28.042Z"
   },
   {
    "duration": 957,
    "start_time": "2025-04-20T01:46:28.062Z"
   },
   {
    "duration": 11,
    "start_time": "2025-04-20T01:46:29.021Z"
   },
   {
    "duration": 23,
    "start_time": "2025-04-20T01:46:29.034Z"
   },
   {
    "duration": 33,
    "start_time": "2025-04-20T01:46:29.059Z"
   },
   {
    "duration": 59,
    "start_time": "2025-04-20T01:46:29.094Z"
   },
   {
    "duration": 32,
    "start_time": "2025-04-20T01:46:29.155Z"
   },
   {
    "duration": 38,
    "start_time": "2025-04-20T01:46:29.189Z"
   },
   {
    "duration": 13,
    "start_time": "2025-04-20T01:46:29.229Z"
   },
   {
    "duration": 12,
    "start_time": "2025-04-20T01:46:29.244Z"
   },
   {
    "duration": 1631,
    "start_time": "2025-04-20T01:46:29.258Z"
   },
   {
    "duration": 21,
    "start_time": "2025-04-20T01:46:30.890Z"
   },
   {
    "duration": 1544,
    "start_time": "2025-04-20T01:46:30.914Z"
   },
   {
    "duration": 566,
    "start_time": "2025-04-20T01:46:32.460Z"
   },
   {
    "duration": 4,
    "start_time": "2025-04-20T01:46:33.028Z"
   },
   {
    "duration": 13,
    "start_time": "2025-04-20T01:46:33.034Z"
   },
   {
    "duration": 7,
    "start_time": "2025-04-20T01:46:33.048Z"
   },
   {
    "duration": 6,
    "start_time": "2025-04-20T01:46:33.056Z"
   },
   {
    "duration": 11,
    "start_time": "2025-04-20T01:46:33.064Z"
   },
   {
    "duration": 30,
    "start_time": "2025-04-20T01:46:33.077Z"
   },
   {
    "duration": 17,
    "start_time": "2025-04-20T01:46:33.109Z"
   },
   {
    "duration": 7,
    "start_time": "2025-04-20T01:46:33.128Z"
   },
   {
    "duration": 265,
    "start_time": "2025-04-20T02:42:23.638Z"
   },
   {
    "duration": 1642,
    "start_time": "2025-04-20T02:42:37.109Z"
   },
   {
    "duration": 1751,
    "start_time": "2025-04-20T02:43:01.269Z"
   },
   {
    "duration": 439,
    "start_time": "2025-04-20T02:43:18.151Z"
   },
   {
    "duration": 339,
    "start_time": "2025-04-20T02:43:55.539Z"
   },
   {
    "duration": 1896,
    "start_time": "2025-04-20T02:44:03.239Z"
   },
   {
    "duration": 319,
    "start_time": "2025-04-20T02:44:53.171Z"
   },
   {
    "duration": 1797,
    "start_time": "2025-04-20T02:45:03.622Z"
   },
   {
    "duration": 1748,
    "start_time": "2025-04-20T02:46:31.702Z"
   },
   {
    "duration": 1756,
    "start_time": "2025-04-20T02:46:41.773Z"
   },
   {
    "duration": 1691,
    "start_time": "2025-04-20T02:46:52.701Z"
   },
   {
    "duration": 1714,
    "start_time": "2025-04-20T02:47:02.621Z"
   },
   {
    "duration": 1783,
    "start_time": "2025-04-20T02:47:51.902Z"
   },
   {
    "duration": 1831,
    "start_time": "2025-04-20T02:48:09.242Z"
   },
   {
    "duration": 1902,
    "start_time": "2025-04-20T02:48:18.124Z"
   },
   {
    "duration": 1941,
    "start_time": "2025-04-20T02:48:29.982Z"
   },
   {
    "duration": 1879,
    "start_time": "2025-04-20T02:48:36.982Z"
   },
   {
    "duration": 2072,
    "start_time": "2025-04-20T02:48:44.152Z"
   },
   {
    "duration": 1999,
    "start_time": "2025-04-20T02:50:10.263Z"
   },
   {
    "duration": 1927,
    "start_time": "2025-04-20T02:50:57.673Z"
   },
   {
    "duration": 1891,
    "start_time": "2025-04-20T02:51:21.253Z"
   },
   {
    "duration": 1923,
    "start_time": "2025-04-20T02:51:32.134Z"
   },
   {
    "duration": 254,
    "start_time": "2025-04-20T02:51:53.413Z"
   },
   {
    "duration": 1726,
    "start_time": "2025-04-20T02:52:01.502Z"
   },
   {
    "duration": 2238,
    "start_time": "2025-04-20T02:55:02.084Z"
   },
   {
    "duration": 1956,
    "start_time": "2025-04-20T02:55:19.674Z"
   },
   {
    "duration": 1964,
    "start_time": "2025-04-20T02:56:54.624Z"
   },
   {
    "duration": 1938,
    "start_time": "2025-04-20T02:57:13.865Z"
   },
   {
    "duration": 1676,
    "start_time": "2025-04-20T03:01:19.366Z"
   },
   {
    "duration": 1760,
    "start_time": "2025-04-20T03:01:29.365Z"
   },
   {
    "duration": 1702,
    "start_time": "2025-04-20T03:01:38.026Z"
   },
   {
    "duration": 1867,
    "start_time": "2025-04-20T03:01:44.446Z"
   },
   {
    "duration": 1724,
    "start_time": "2025-04-20T03:01:52.356Z"
   },
   {
    "duration": 1717,
    "start_time": "2025-04-20T03:01:59.774Z"
   },
   {
    "duration": 287,
    "start_time": "2025-04-20T03:06:43.857Z"
   },
   {
    "duration": 280,
    "start_time": "2025-04-20T03:07:21.886Z"
   },
   {
    "duration": 286,
    "start_time": "2025-04-20T03:07:37.167Z"
   },
   {
    "duration": 269,
    "start_time": "2025-04-20T03:08:39.909Z"
   },
   {
    "duration": 290,
    "start_time": "2025-04-20T03:09:09.438Z"
   },
   {
    "duration": 289,
    "start_time": "2025-04-20T03:09:19.087Z"
   },
   {
    "duration": 287,
    "start_time": "2025-04-20T03:09:27.585Z"
   },
   {
    "duration": 287,
    "start_time": "2025-04-20T03:09:38.197Z"
   },
   {
    "duration": 1899,
    "start_time": "2025-04-20T03:10:01.877Z"
   },
   {
    "duration": 271,
    "start_time": "2025-04-20T03:13:58.469Z"
   },
   {
    "duration": 497,
    "start_time": "2025-04-20T03:14:07.907Z"
   },
   {
    "duration": 278,
    "start_time": "2025-04-20T03:14:37.209Z"
   },
   {
    "duration": 270,
    "start_time": "2025-04-20T03:20:24.075Z"
   },
   {
    "duration": 265,
    "start_time": "2025-04-20T03:20:32.715Z"
   },
   {
    "duration": 282,
    "start_time": "2025-04-20T03:22:49.726Z"
   },
   {
    "duration": 283,
    "start_time": "2025-04-20T03:23:10.314Z"
   },
   {
    "duration": 310,
    "start_time": "2025-04-20T03:23:29.126Z"
   },
   {
    "duration": 296,
    "start_time": "2025-04-20T03:25:02.053Z"
   },
   {
    "duration": 504,
    "start_time": "2025-04-20T03:25:23.206Z"
   },
   {
    "duration": 413,
    "start_time": "2025-04-20T03:25:32.315Z"
   },
   {
    "duration": 413,
    "start_time": "2025-04-20T03:25:46.235Z"
   },
   {
    "duration": 295,
    "start_time": "2025-04-20T03:26:13.884Z"
   },
   {
    "duration": 318,
    "start_time": "2025-04-20T03:27:43.072Z"
   },
   {
    "duration": 320,
    "start_time": "2025-04-20T03:27:56.785Z"
   },
   {
    "duration": 327,
    "start_time": "2025-04-20T03:28:04.013Z"
   },
   {
    "duration": 305,
    "start_time": "2025-04-20T03:28:22.163Z"
   },
   {
    "duration": 304,
    "start_time": "2025-04-20T03:28:37.033Z"
   },
   {
    "duration": 340,
    "start_time": "2025-04-20T03:33:24.652Z"
   },
   {
    "duration": 442,
    "start_time": "2025-04-20T03:33:38.072Z"
   },
   {
    "duration": 3,
    "start_time": "2025-04-20T04:03:07.762Z"
   },
   {
    "duration": 14,
    "start_time": "2025-04-20T04:04:30.313Z"
   },
   {
    "duration": 3,
    "start_time": "2025-04-20T04:05:03.032Z"
   },
   {
    "duration": 206,
    "start_time": "2025-04-20T04:05:04.272Z"
   },
   {
    "duration": 202,
    "start_time": "2025-04-20T04:05:53.334Z"
   },
   {
    "duration": 213,
    "start_time": "2025-04-20T04:05:59.747Z"
   },
   {
    "duration": 132,
    "start_time": "2025-04-20T04:06:20.953Z"
   },
   {
    "duration": 206,
    "start_time": "2025-04-20T04:06:28.124Z"
   },
   {
    "duration": 206,
    "start_time": "2025-04-20T04:06:34.993Z"
   },
   {
    "duration": 6,
    "start_time": "2025-04-20T04:11:29.205Z"
   },
   {
    "duration": 7,
    "start_time": "2025-04-20T04:12:10.973Z"
   },
   {
    "duration": 7,
    "start_time": "2025-04-20T04:12:17.612Z"
   },
   {
    "duration": 15,
    "start_time": "2025-04-20T04:17:47.145Z"
   },
   {
    "duration": 212,
    "start_time": "2025-04-20T04:17:53.545Z"
   },
   {
    "duration": 228,
    "start_time": "2025-04-20T04:18:04.385Z"
   },
   {
    "duration": 407,
    "start_time": "2025-04-20T04:35:27.255Z"
   },
   {
    "duration": 60,
    "start_time": "2025-04-20T04:35:27.664Z"
   },
   {
    "duration": 11,
    "start_time": "2025-04-20T04:35:27.726Z"
   },
   {
    "duration": 17,
    "start_time": "2025-04-20T04:35:27.739Z"
   },
   {
    "duration": 23,
    "start_time": "2025-04-20T04:35:27.758Z"
   },
   {
    "duration": 22,
    "start_time": "2025-04-20T04:35:27.782Z"
   },
   {
    "duration": 17,
    "start_time": "2025-04-20T04:35:27.805Z"
   },
   {
    "duration": 12,
    "start_time": "2025-04-20T04:35:27.823Z"
   },
   {
    "duration": 7,
    "start_time": "2025-04-20T04:35:27.836Z"
   },
   {
    "duration": 4,
    "start_time": "2025-04-20T04:35:27.846Z"
   },
   {
    "duration": 9,
    "start_time": "2025-04-20T04:35:27.851Z"
   },
   {
    "duration": 8,
    "start_time": "2025-04-20T04:35:27.861Z"
   },
   {
    "duration": 5,
    "start_time": "2025-04-20T04:35:27.871Z"
   },
   {
    "duration": 7,
    "start_time": "2025-04-20T04:35:27.905Z"
   },
   {
    "duration": 32,
    "start_time": "2025-04-20T04:35:27.913Z"
   },
   {
    "duration": 9,
    "start_time": "2025-04-20T04:35:27.947Z"
   },
   {
    "duration": 15,
    "start_time": "2025-04-20T04:35:27.957Z"
   },
   {
    "duration": 5,
    "start_time": "2025-04-20T04:35:27.973Z"
   },
   {
    "duration": 11,
    "start_time": "2025-04-20T04:35:27.979Z"
   },
   {
    "duration": 9,
    "start_time": "2025-04-20T04:35:27.992Z"
   },
   {
    "duration": 11,
    "start_time": "2025-04-20T04:35:28.005Z"
   },
   {
    "duration": 260,
    "start_time": "2025-04-20T04:35:28.017Z"
   },
   {
    "duration": 213,
    "start_time": "2025-04-20T04:35:28.279Z"
   },
   {
    "duration": 106,
    "start_time": "2025-04-20T04:35:28.493Z"
   },
   {
    "duration": 276,
    "start_time": "2025-04-20T04:35:28.605Z"
   },
   {
    "duration": 542,
    "start_time": "2025-04-20T04:35:28.883Z"
   },
   {
    "duration": 605,
    "start_time": "2025-04-20T04:35:29.427Z"
   },
   {
    "duration": 26,
    "start_time": "2025-04-20T04:35:30.036Z"
   },
   {
    "duration": 47,
    "start_time": "2025-04-20T04:35:30.064Z"
   },
   {
    "duration": 44,
    "start_time": "2025-04-20T04:35:30.113Z"
   },
   {
    "duration": 47,
    "start_time": "2025-04-20T04:35:30.159Z"
   },
   {
    "duration": 40,
    "start_time": "2025-04-20T04:35:30.208Z"
   },
   {
    "duration": 948,
    "start_time": "2025-04-20T04:35:30.250Z"
   },
   {
    "duration": 9,
    "start_time": "2025-04-20T04:35:31.205Z"
   },
   {
    "duration": 30,
    "start_time": "2025-04-20T04:35:31.216Z"
   },
   {
    "duration": 877,
    "start_time": "2025-04-20T04:35:31.247Z"
   },
   {
    "duration": 8,
    "start_time": "2025-04-20T04:35:32.126Z"
   },
   {
    "duration": 18,
    "start_time": "2025-04-20T04:35:32.136Z"
   },
   {
    "duration": 24,
    "start_time": "2025-04-20T04:35:32.156Z"
   },
   {
    "duration": 41,
    "start_time": "2025-04-20T04:35:32.182Z"
   },
   {
    "duration": 41,
    "start_time": "2025-04-20T04:35:32.225Z"
   },
   {
    "duration": 62,
    "start_time": "2025-04-20T04:35:32.268Z"
   },
   {
    "duration": 10,
    "start_time": "2025-04-20T04:35:32.332Z"
   },
   {
    "duration": 33,
    "start_time": "2025-04-20T04:35:32.343Z"
   },
   {
    "duration": 1504,
    "start_time": "2025-04-20T04:35:32.377Z"
   },
   {
    "duration": 10,
    "start_time": "2025-04-20T04:35:33.883Z"
   },
   {
    "duration": 1422,
    "start_time": "2025-04-20T04:35:33.895Z"
   },
   {
    "duration": 471,
    "start_time": "2025-04-20T04:35:35.318Z"
   },
   {
    "duration": 4,
    "start_time": "2025-04-20T04:35:35.791Z"
   },
   {
    "duration": 68,
    "start_time": "2025-04-20T04:35:35.796Z"
   },
   {
    "duration": 50,
    "start_time": "2025-04-20T04:35:35.866Z"
   },
   {
    "duration": 55,
    "start_time": "2025-04-20T04:35:35.918Z"
   },
   {
    "duration": 88,
    "start_time": "2025-04-20T04:35:35.974Z"
   },
   {
    "duration": 53,
    "start_time": "2025-04-20T04:35:36.064Z"
   },
   {
    "duration": 50,
    "start_time": "2025-04-20T04:35:36.118Z"
   },
   {
    "duration": 3,
    "start_time": "2025-04-20T04:35:36.170Z"
   },
   {
    "duration": 363,
    "start_time": "2025-04-20T04:35:36.174Z"
   },
   {
    "duration": 2,
    "start_time": "2025-04-20T04:35:36.539Z"
   },
   {
    "duration": 346,
    "start_time": "2025-04-20T04:35:36.543Z"
   },
   {
    "duration": 7,
    "start_time": "2025-04-20T04:35:36.891Z"
   },
   {
    "duration": 396,
    "start_time": "2025-04-20T06:14:00.758Z"
   },
   {
    "duration": 60,
    "start_time": "2025-04-20T06:14:01.156Z"
   },
   {
    "duration": 11,
    "start_time": "2025-04-20T06:14:01.218Z"
   },
   {
    "duration": 20,
    "start_time": "2025-04-20T06:14:01.232Z"
   },
   {
    "duration": 16,
    "start_time": "2025-04-20T06:14:01.255Z"
   },
   {
    "duration": 9,
    "start_time": "2025-04-20T06:14:01.273Z"
   },
   {
    "duration": 56,
    "start_time": "2025-04-20T06:14:01.284Z"
   },
   {
    "duration": 9,
    "start_time": "2025-04-20T06:14:01.342Z"
   },
   {
    "duration": 11,
    "start_time": "2025-04-20T06:14:01.352Z"
   },
   {
    "duration": 16,
    "start_time": "2025-04-20T06:14:01.366Z"
   },
   {
    "duration": 40,
    "start_time": "2025-04-20T06:14:01.383Z"
   },
   {
    "duration": 13,
    "start_time": "2025-04-20T06:14:01.424Z"
   },
   {
    "duration": 12,
    "start_time": "2025-04-20T06:14:01.439Z"
   },
   {
    "duration": 18,
    "start_time": "2025-04-20T06:14:01.453Z"
   },
   {
    "duration": 30,
    "start_time": "2025-04-20T06:14:01.473Z"
   },
   {
    "duration": 46,
    "start_time": "2025-04-20T06:14:01.505Z"
   },
   {
    "duration": 12,
    "start_time": "2025-04-20T06:14:01.552Z"
   },
   {
    "duration": 5,
    "start_time": "2025-04-20T06:14:01.566Z"
   },
   {
    "duration": 28,
    "start_time": "2025-04-20T06:14:01.572Z"
   },
   {
    "duration": 39,
    "start_time": "2025-04-20T06:14:01.602Z"
   },
   {
    "duration": 28,
    "start_time": "2025-04-20T06:14:01.643Z"
   },
   {
    "duration": 645,
    "start_time": "2025-04-20T06:14:01.672Z"
   },
   {
    "duration": 214,
    "start_time": "2025-04-20T06:14:02.319Z"
   },
   {
    "duration": 122,
    "start_time": "2025-04-20T06:14:02.535Z"
   },
   {
    "duration": 291,
    "start_time": "2025-04-20T06:14:02.659Z"
   },
   {
    "duration": 498,
    "start_time": "2025-04-20T06:14:02.951Z"
   },
   {
    "duration": 443,
    "start_time": "2025-04-20T06:14:03.450Z"
   },
   {
    "duration": 26,
    "start_time": "2025-04-20T06:14:03.905Z"
   },
   {
    "duration": 21,
    "start_time": "2025-04-20T06:14:03.933Z"
   },
   {
    "duration": 10,
    "start_time": "2025-04-20T06:14:03.955Z"
   },
   {
    "duration": 47,
    "start_time": "2025-04-20T06:14:03.966Z"
   },
   {
    "duration": 21,
    "start_time": "2025-04-20T06:14:04.014Z"
   },
   {
    "duration": 970,
    "start_time": "2025-04-20T06:14:04.037Z"
   },
   {
    "duration": 9,
    "start_time": "2025-04-20T06:14:05.009Z"
   },
   {
    "duration": 15,
    "start_time": "2025-04-20T06:14:05.019Z"
   },
   {
    "duration": 856,
    "start_time": "2025-04-20T06:14:05.036Z"
   },
   {
    "duration": 18,
    "start_time": "2025-04-20T06:14:05.894Z"
   },
   {
    "duration": 25,
    "start_time": "2025-04-20T06:14:05.914Z"
   },
   {
    "duration": 5,
    "start_time": "2025-04-20T06:14:05.941Z"
   },
   {
    "duration": 54,
    "start_time": "2025-04-20T06:14:05.947Z"
   },
   {
    "duration": 37,
    "start_time": "2025-04-20T06:14:06.003Z"
   },
   {
    "duration": 102,
    "start_time": "2025-04-20T06:14:06.042Z"
   },
   {
    "duration": 10,
    "start_time": "2025-04-20T06:14:06.145Z"
   },
   {
    "duration": 34,
    "start_time": "2025-04-20T06:14:06.156Z"
   },
   {
    "duration": 1483,
    "start_time": "2025-04-20T06:14:06.192Z"
   },
   {
    "duration": 10,
    "start_time": "2025-04-20T06:14:07.677Z"
   },
   {
    "duration": 1546,
    "start_time": "2025-04-20T06:14:07.688Z"
   },
   {
    "duration": 469,
    "start_time": "2025-04-20T06:14:09.236Z"
   },
   {
    "duration": 4,
    "start_time": "2025-04-20T06:14:09.707Z"
   },
   {
    "duration": 161,
    "start_time": "2025-04-20T06:14:09.712Z"
   },
   {
    "duration": 7,
    "start_time": "2025-04-20T06:14:09.875Z"
   },
   {
    "duration": 23,
    "start_time": "2025-04-20T06:14:09.884Z"
   },
   {
    "duration": 7,
    "start_time": "2025-04-20T06:14:09.909Z"
   },
   {
    "duration": 7,
    "start_time": "2025-04-20T06:14:09.917Z"
   },
   {
    "duration": 18,
    "start_time": "2025-04-20T06:14:09.925Z"
   },
   {
    "duration": 22,
    "start_time": "2025-04-20T06:14:09.945Z"
   },
   {
    "duration": 326,
    "start_time": "2025-04-20T06:14:09.968Z"
   },
   {
    "duration": 9,
    "start_time": "2025-04-20T06:14:10.296Z"
   },
   {
    "duration": 230,
    "start_time": "2025-04-20T06:14:10.307Z"
   },
   {
    "duration": 7,
    "start_time": "2025-04-20T06:14:10.539Z"
   },
   {
    "duration": 75,
    "start_time": "2025-04-20T06:27:42.925Z"
   },
   {
    "duration": 287,
    "start_time": "2025-04-20T06:28:09.206Z"
   },
   {
    "duration": 15,
    "start_time": "2025-04-20T06:29:07.044Z"
   },
   {
    "duration": 124,
    "start_time": "2025-04-20T06:29:43.770Z"
   },
   {
    "duration": 124,
    "start_time": "2025-04-20T06:29:52.232Z"
   },
   {
    "duration": 298,
    "start_time": "2025-04-20T06:30:46.675Z"
   },
   {
    "duration": 52,
    "start_time": "2025-04-20T07:36:39.818Z"
   },
   {
    "duration": 668,
    "start_time": "2025-04-20T07:36:50.698Z"
   },
   {
    "duration": 11,
    "start_time": "2025-04-20T07:36:51.632Z"
   },
   {
    "duration": 5,
    "start_time": "2025-04-20T07:37:17.298Z"
   },
   {
    "duration": 5,
    "start_time": "2025-04-20T07:37:46.008Z"
   },
   {
    "duration": 5,
    "start_time": "2025-04-20T07:38:25.468Z"
   },
   {
    "duration": 5,
    "start_time": "2025-04-20T07:38:36.513Z"
   },
   {
    "duration": 5,
    "start_time": "2025-04-20T07:38:50.950Z"
   },
   {
    "duration": 6,
    "start_time": "2025-04-20T07:38:57.588Z"
   },
   {
    "duration": 5,
    "start_time": "2025-04-20T07:39:04.157Z"
   },
   {
    "duration": 6,
    "start_time": "2025-04-20T07:39:09.168Z"
   },
   {
    "duration": 6,
    "start_time": "2025-04-20T07:39:17.148Z"
   },
   {
    "duration": 5,
    "start_time": "2025-04-20T07:39:22.620Z"
   },
   {
    "duration": 5,
    "start_time": "2025-04-20T07:39:28.390Z"
   },
   {
    "duration": 29,
    "start_time": "2025-04-20T07:40:15.193Z"
   },
   {
    "duration": 7,
    "start_time": "2025-04-20T07:40:32.685Z"
   },
   {
    "duration": 5,
    "start_time": "2025-04-20T07:41:08.026Z"
   },
   {
    "duration": 26,
    "start_time": "2025-04-20T07:41:38.114Z"
   },
   {
    "duration": 227,
    "start_time": "2025-04-20T07:41:54.171Z"
   },
   {
    "duration": 3,
    "start_time": "2025-04-20T07:42:12.444Z"
   },
   {
    "duration": 436,
    "start_time": "2025-04-20T07:42:28.017Z"
   },
   {
    "duration": 329,
    "start_time": "2025-04-20T07:42:39.904Z"
   },
   {
    "duration": 361,
    "start_time": "2025-04-20T07:43:11.973Z"
   },
   {
    "duration": 312,
    "start_time": "2025-04-20T07:43:21.303Z"
   },
   {
    "duration": 374,
    "start_time": "2025-04-20T07:43:31.831Z"
   },
   {
    "duration": 403,
    "start_time": "2025-04-20T07:43:40.012Z"
   },
   {
    "duration": 329,
    "start_time": "2025-04-20T07:43:54.086Z"
   },
   {
    "duration": 333,
    "start_time": "2025-04-20T07:44:02.388Z"
   },
   {
    "duration": 328,
    "start_time": "2025-04-20T07:44:13.627Z"
   },
   {
    "duration": 312,
    "start_time": "2025-04-20T07:45:03.421Z"
   },
   {
    "duration": 323,
    "start_time": "2025-04-20T07:45:17.210Z"
   },
   {
    "duration": 454,
    "start_time": "2025-04-20T07:46:35.692Z"
   },
   {
    "duration": 64,
    "start_time": "2025-04-20T07:46:36.148Z"
   },
   {
    "duration": 11,
    "start_time": "2025-04-20T07:46:36.214Z"
   },
   {
    "duration": 42,
    "start_time": "2025-04-20T07:46:36.227Z"
   },
   {
    "duration": 24,
    "start_time": "2025-04-20T07:46:36.271Z"
   },
   {
    "duration": 11,
    "start_time": "2025-04-20T07:46:36.297Z"
   },
   {
    "duration": 35,
    "start_time": "2025-04-20T07:46:36.309Z"
   },
   {
    "duration": 65,
    "start_time": "2025-04-20T07:46:36.346Z"
   },
   {
    "duration": 29,
    "start_time": "2025-04-20T07:46:36.413Z"
   },
   {
    "duration": 5,
    "start_time": "2025-04-20T07:46:36.443Z"
   },
   {
    "duration": 21,
    "start_time": "2025-04-20T07:46:36.450Z"
   },
   {
    "duration": 25,
    "start_time": "2025-04-20T07:46:36.473Z"
   },
   {
    "duration": 6,
    "start_time": "2025-04-20T07:46:36.500Z"
   },
   {
    "duration": 114,
    "start_time": "2025-04-20T07:46:36.509Z"
   },
   {
    "duration": 21,
    "start_time": "2025-04-20T07:46:36.625Z"
   },
   {
    "duration": 29,
    "start_time": "2025-04-20T07:46:36.647Z"
   },
   {
    "duration": 17,
    "start_time": "2025-04-20T07:46:36.678Z"
   },
   {
    "duration": 6,
    "start_time": "2025-04-20T07:46:36.697Z"
   },
   {
    "duration": 31,
    "start_time": "2025-04-20T07:46:36.705Z"
   },
   {
    "duration": 19,
    "start_time": "2025-04-20T07:46:36.738Z"
   },
   {
    "duration": 13,
    "start_time": "2025-04-20T07:46:36.759Z"
   },
   {
    "duration": 277,
    "start_time": "2025-04-20T07:46:36.774Z"
   },
   {
    "duration": 217,
    "start_time": "2025-04-20T07:46:37.052Z"
   },
   {
    "duration": 126,
    "start_time": "2025-04-20T07:46:37.271Z"
   },
   {
    "duration": 305,
    "start_time": "2025-04-20T07:46:37.399Z"
   },
   {
    "duration": 544,
    "start_time": "2025-04-20T07:46:37.706Z"
   },
   {
    "duration": 476,
    "start_time": "2025-04-20T07:46:38.252Z"
   },
   {
    "duration": 26,
    "start_time": "2025-04-20T07:46:38.730Z"
   },
   {
    "duration": 36,
    "start_time": "2025-04-20T07:46:38.758Z"
   },
   {
    "duration": 11,
    "start_time": "2025-04-20T07:46:38.796Z"
   },
   {
    "duration": 23,
    "start_time": "2025-04-20T07:46:38.809Z"
   },
   {
    "duration": 57,
    "start_time": "2025-04-20T07:46:38.834Z"
   },
   {
    "duration": 959,
    "start_time": "2025-04-20T07:46:38.893Z"
   },
   {
    "duration": 9,
    "start_time": "2025-04-20T07:46:39.853Z"
   },
   {
    "duration": 77,
    "start_time": "2025-04-20T07:46:39.875Z"
   },
   {
    "duration": 997,
    "start_time": "2025-04-20T07:46:39.954Z"
   },
   {
    "duration": 9,
    "start_time": "2025-04-20T07:46:40.953Z"
   },
   {
    "duration": 33,
    "start_time": "2025-04-20T07:46:40.963Z"
   },
   {
    "duration": 3,
    "start_time": "2025-04-20T07:46:40.997Z"
   },
   {
    "duration": 26,
    "start_time": "2025-04-20T07:46:41.001Z"
   },
   {
    "duration": 15,
    "start_time": "2025-04-20T07:46:41.030Z"
   },
   {
    "duration": 45,
    "start_time": "2025-04-20T07:46:41.046Z"
   },
   {
    "duration": 9,
    "start_time": "2025-04-20T07:46:41.093Z"
   },
   {
    "duration": 12,
    "start_time": "2025-04-20T07:46:41.104Z"
   },
   {
    "duration": 1583,
    "start_time": "2025-04-20T07:46:41.118Z"
   },
   {
    "duration": 11,
    "start_time": "2025-04-20T07:46:42.703Z"
   },
   {
    "duration": 1437,
    "start_time": "2025-04-20T07:46:42.716Z"
   },
   {
    "duration": 511,
    "start_time": "2025-04-20T07:46:44.154Z"
   },
   {
    "duration": 13,
    "start_time": "2025-04-20T07:46:44.666Z"
   },
   {
    "duration": 15,
    "start_time": "2025-04-20T07:46:44.682Z"
   },
   {
    "duration": 10,
    "start_time": "2025-04-20T07:46:44.698Z"
   },
   {
    "duration": 5,
    "start_time": "2025-04-20T07:46:44.710Z"
   },
   {
    "duration": 6,
    "start_time": "2025-04-20T07:46:44.716Z"
   },
   {
    "duration": 22,
    "start_time": "2025-04-20T07:46:44.723Z"
   },
   {
    "duration": 16,
    "start_time": "2025-04-20T07:46:44.747Z"
   },
   {
    "duration": 3,
    "start_time": "2025-04-20T07:46:44.765Z"
   },
   {
    "duration": 31,
    "start_time": "2025-04-20T07:46:44.779Z"
   },
   {
    "duration": 373,
    "start_time": "2025-04-20T07:46:44.812Z"
   },
   {
    "duration": 3,
    "start_time": "2025-04-20T07:46:45.187Z"
   },
   {
    "duration": 316,
    "start_time": "2025-04-20T07:46:45.193Z"
   },
   {
    "duration": 52,
    "start_time": "2025-04-20T07:46:45.511Z"
   }
  ],
  "kernelspec": {
   "display_name": "Python 3 (ipykernel)",
   "language": "python",
   "name": "python3"
  },
  "language_info": {
   "codemirror_mode": {
    "name": "ipython",
    "version": 3
   },
   "file_extension": ".py",
   "mimetype": "text/x-python",
   "name": "python",
   "nbconvert_exporter": "python",
   "pygments_lexer": "ipython3",
   "version": "3.9.21"
  },
  "toc": {
   "base_numbering": 1,
   "nav_menu": {},
   "number_sections": true,
   "sideBar": true,
   "skip_h1_title": true,
   "title_cell": "Table of Contents",
   "title_sidebar": "Contents",
   "toc_cell": false,
   "toc_position": {
    "height": "calc(100% - 180px)",
    "left": "10px",
    "top": "150px",
    "width": "330.2px"
   },
   "toc_section_display": true,
   "toc_window_display": false
  }
 },
 "nbformat": 4,
 "nbformat_minor": 5
}
