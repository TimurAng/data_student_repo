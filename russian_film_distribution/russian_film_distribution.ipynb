{
 "cells": [
  {
   "cell_type": "markdown",
   "metadata": {
    "id": "sIfNaMOxgFyK"
   },
   "source": [
    "# Исследование данных о российском кинопрокате\n",
    "\n"
   ]
  },
  {
   "cell_type": "markdown",
   "metadata": {},
   "source": [
    "**Описание проекта**\n",
    "\n",
    "Заказчик этого исследования — Министерство культуры Российской Федерации.<br>Нужно изучить:\n",
    "* рынок российского кинопроката и выявить текущие тренды;\n",
    "* фильмы, которые получили государственную поддержку, ответить на вопрос, насколько такие фильмы интересны зрителю.\n",
    "\n",
    "Мы будем работать с данными, опубликованными на портале открытых данных Министерства культуры. Набор данных содержит информацию о прокатных удостоверениях, сборах и государственной поддержке фильмов, а также информацию с сайта КиноПоиск.\n",
    "\n",
    "**План Исследования:**\n",
    "* произведем считывание файлов с данными и их объединение в один датафрейм;\n",
    "* произведем предобработку данных;\n",
    "* проведем исследовательский анализ данных;\n",
    "* исследуем фильмы, которые получили государственную поддержку;\n",
    "* сделаем общий вывод"
   ]
  },
  {
   "cell_type": "markdown",
   "metadata": {
    "id": "3bSlkCsbgFyL"
   },
   "source": [
    "### Откроем файлы с данными и объединим их в один датафрейм. "
   ]
  },
  {
   "cell_type": "code",
   "execution_count": 1,
   "metadata": {
    "id": "dw87FlzMgFyM"
   },
   "outputs": [],
   "source": [
    "import pandas as pd\n",
    "import matplotlib.pyplot as plt"
   ]
  },
  {
   "cell_type": "markdown",
   "metadata": {},
   "source": [
    "Прочтем файлы с данными и сохраним их в переменных `data` и `data_show`, ознакомимся с ними."
   ]
  },
  {
   "cell_type": "code",
   "execution_count": 2,
   "metadata": {},
   "outputs": [],
   "source": [
    "pd.set_option('display.float_format', '{:.2f}'.format)\n",
    "data = pd.read_csv('/datasets/mkrf_movies.csv')\n",
    "data_shows = pd.read_csv('/datasets/mkrf_shows.csv')"
   ]
  },
  {
   "cell_type": "code",
   "execution_count": 3,
   "metadata": {
    "scrolled": true
   },
   "outputs": [
    {
     "name": "stdout",
     "output_type": "stream",
     "text": [
      "<class 'pandas.core.frame.DataFrame'>\n",
      "RangeIndex: 7486 entries, 0 to 7485\n",
      "Data columns (total 15 columns):\n",
      " #   Column                 Non-Null Count  Dtype  \n",
      "---  ------                 --------------  -----  \n",
      " 0   title                  7486 non-null   object \n",
      " 1   puNumber               7486 non-null   object \n",
      " 2   show_start_date        7486 non-null   object \n",
      " 3   type                   7486 non-null   object \n",
      " 4   film_studio            7468 non-null   object \n",
      " 5   production_country     7484 non-null   object \n",
      " 6   director               7477 non-null   object \n",
      " 7   producer               6918 non-null   object \n",
      " 8   age_restriction        7486 non-null   object \n",
      " 9   refundable_support     332 non-null    float64\n",
      " 10  nonrefundable_support  332 non-null    float64\n",
      " 11  budget                 332 non-null    float64\n",
      " 12  financing_source       332 non-null    object \n",
      " 13  ratings                6519 non-null   object \n",
      " 14  genres                 6510 non-null   object \n",
      "dtypes: float64(3), object(12)\n",
      "memory usage: 877.4+ KB\n"
     ]
    }
   ],
   "source": [
    "data.info()"
   ]
  },
  {
   "cell_type": "code",
   "execution_count": 4,
   "metadata": {},
   "outputs": [
    {
     "name": "stdout",
     "output_type": "stream",
     "text": [
      "<class 'pandas.core.frame.DataFrame'>\n",
      "RangeIndex: 3158 entries, 0 to 3157\n",
      "Data columns (total 2 columns):\n",
      " #   Column      Non-Null Count  Dtype  \n",
      "---  ------      --------------  -----  \n",
      " 0   puNumber    3158 non-null   int64  \n",
      " 1   box_office  3158 non-null   float64\n",
      "dtypes: float64(1), int64(1)\n",
      "memory usage: 49.5 KB\n"
     ]
    }
   ],
   "source": [
    "data_shows.info()"
   ]
  },
  {
   "cell_type": "code",
   "execution_count": 5,
   "metadata": {
    "scrolled": true
   },
   "outputs": [
    {
     "data": {
      "text/html": [
       "<div>\n",
       "<style scoped>\n",
       "    .dataframe tbody tr th:only-of-type {\n",
       "        vertical-align: middle;\n",
       "    }\n",
       "\n",
       "    .dataframe tbody tr th {\n",
       "        vertical-align: top;\n",
       "    }\n",
       "\n",
       "    .dataframe thead th {\n",
       "        text-align: right;\n",
       "    }\n",
       "</style>\n",
       "<table border=\"1\" class=\"dataframe\">\n",
       "  <thead>\n",
       "    <tr style=\"text-align: right;\">\n",
       "      <th></th>\n",
       "      <th>title</th>\n",
       "      <th>puNumber</th>\n",
       "      <th>show_start_date</th>\n",
       "      <th>type</th>\n",
       "      <th>film_studio</th>\n",
       "      <th>production_country</th>\n",
       "      <th>director</th>\n",
       "      <th>producer</th>\n",
       "      <th>age_restriction</th>\n",
       "      <th>refundable_support</th>\n",
       "      <th>nonrefundable_support</th>\n",
       "      <th>budget</th>\n",
       "      <th>financing_source</th>\n",
       "      <th>ratings</th>\n",
       "      <th>genres</th>\n",
       "    </tr>\n",
       "  </thead>\n",
       "  <tbody>\n",
       "    <tr>\n",
       "      <th>0</th>\n",
       "      <td>Открытый простор</td>\n",
       "      <td>221048915</td>\n",
       "      <td>2015-11-27T12:00:00.000Z</td>\n",
       "      <td>Художественный</td>\n",
       "      <td>Тачстоун Пикчерз, Кобальт Пикчерз, Бикон Пикче...</td>\n",
       "      <td>США</td>\n",
       "      <td>Кевин Костнер</td>\n",
       "      <td>Дэвид Валдес, Кевин Костнер, Джейк Эбертс</td>\n",
       "      <td>«18+» - запрещено для детей</td>\n",
       "      <td>NaN</td>\n",
       "      <td>NaN</td>\n",
       "      <td>NaN</td>\n",
       "      <td>NaN</td>\n",
       "      <td>7.2</td>\n",
       "      <td>боевик,драма,мелодрама</td>\n",
       "    </tr>\n",
       "    <tr>\n",
       "      <th>1</th>\n",
       "      <td>Особо важное задание</td>\n",
       "      <td>111013716</td>\n",
       "      <td>2016-09-13T12:00:00.000Z</td>\n",
       "      <td>Художественный</td>\n",
       "      <td>Киностудия \"Мосфильм\"</td>\n",
       "      <td>СССР</td>\n",
       "      <td>Е.Матвеев</td>\n",
       "      <td>NaN</td>\n",
       "      <td>«6+» - для детей старше 6 лет</td>\n",
       "      <td>NaN</td>\n",
       "      <td>NaN</td>\n",
       "      <td>NaN</td>\n",
       "      <td>NaN</td>\n",
       "      <td>6.6</td>\n",
       "      <td>драма,военный</td>\n",
       "    </tr>\n",
       "    <tr>\n",
       "      <th>2</th>\n",
       "      <td>Особо опасен</td>\n",
       "      <td>221038416</td>\n",
       "      <td>2016-10-10T12:00:00.000Z</td>\n",
       "      <td>Художественный</td>\n",
       "      <td>Юниверсал Пикчерз, Кикстарт Продакшнз, Марк Пл...</td>\n",
       "      <td>США</td>\n",
       "      <td>Тимур Бекмамбетов</td>\n",
       "      <td>Джим Лемли, Джейсон Нетер, Марк Е.Платт, Яйн Смит</td>\n",
       "      <td>«18+» - запрещено для детей</td>\n",
       "      <td>NaN</td>\n",
       "      <td>NaN</td>\n",
       "      <td>NaN</td>\n",
       "      <td>NaN</td>\n",
       "      <td>6.8</td>\n",
       "      <td>фантастика,боевик,триллер</td>\n",
       "    </tr>\n",
       "    <tr>\n",
       "      <th>3</th>\n",
       "      <td>Особо опасен</td>\n",
       "      <td>221026916</td>\n",
       "      <td>2016-06-10T12:00:00.000Z</td>\n",
       "      <td>Художественный</td>\n",
       "      <td>Юниверсал Пикчерз, Кикстарт Продакшнз, Марк Пл...</td>\n",
       "      <td>США</td>\n",
       "      <td>Тимур Бекмамбетов</td>\n",
       "      <td>Джим Лемли, Джейсон Нетер, Марк Е.Платт, Яйн Смит</td>\n",
       "      <td>«18+» - запрещено для детей</td>\n",
       "      <td>NaN</td>\n",
       "      <td>NaN</td>\n",
       "      <td>NaN</td>\n",
       "      <td>NaN</td>\n",
       "      <td>6.8</td>\n",
       "      <td>фантастика,боевик,триллер</td>\n",
       "    </tr>\n",
       "    <tr>\n",
       "      <th>4</th>\n",
       "      <td>Особо опасен</td>\n",
       "      <td>221030815</td>\n",
       "      <td>2015-07-29T12:00:00.000Z</td>\n",
       "      <td>Художественный</td>\n",
       "      <td>Юниверсал Пикчерз, Кикстарт Продакшнз, Марк Пл...</td>\n",
       "      <td>США</td>\n",
       "      <td>Тимур Бекмамбетов</td>\n",
       "      <td>Джим Лемли, Джейсон Нетер, Марк Е.Платт, Яйн Смит</td>\n",
       "      <td>«18+» - запрещено для детей</td>\n",
       "      <td>NaN</td>\n",
       "      <td>NaN</td>\n",
       "      <td>NaN</td>\n",
       "      <td>NaN</td>\n",
       "      <td>6.8</td>\n",
       "      <td>фантастика,боевик,триллер</td>\n",
       "    </tr>\n",
       "  </tbody>\n",
       "</table>\n",
       "</div>"
      ],
      "text/plain": [
       "                  title   puNumber           show_start_date            type  \\\n",
       "0      Открытый простор  221048915  2015-11-27T12:00:00.000Z  Художественный   \n",
       "1  Особо важное задание  111013716  2016-09-13T12:00:00.000Z  Художественный   \n",
       "2          Особо опасен  221038416  2016-10-10T12:00:00.000Z  Художественный   \n",
       "3          Особо опасен  221026916  2016-06-10T12:00:00.000Z  Художественный   \n",
       "4          Особо опасен  221030815  2015-07-29T12:00:00.000Z  Художественный   \n",
       "\n",
       "                                         film_studio production_country  \\\n",
       "0  Тачстоун Пикчерз, Кобальт Пикчерз, Бикон Пикче...                США   \n",
       "1                              Киностудия \"Мосфильм\"               СССР   \n",
       "2  Юниверсал Пикчерз, Кикстарт Продакшнз, Марк Пл...                США   \n",
       "3  Юниверсал Пикчерз, Кикстарт Продакшнз, Марк Пл...                США   \n",
       "4  Юниверсал Пикчерз, Кикстарт Продакшнз, Марк Пл...                США   \n",
       "\n",
       "            director                                           producer  \\\n",
       "0      Кевин Костнер          Дэвид Валдес, Кевин Костнер, Джейк Эбертс   \n",
       "1          Е.Матвеев                                                NaN   \n",
       "2  Тимур Бекмамбетов  Джим Лемли, Джейсон Нетер, Марк Е.Платт, Яйн Смит   \n",
       "3  Тимур Бекмамбетов  Джим Лемли, Джейсон Нетер, Марк Е.Платт, Яйн Смит   \n",
       "4  Тимур Бекмамбетов  Джим Лемли, Джейсон Нетер, Марк Е.Платт, Яйн Смит   \n",
       "\n",
       "                 age_restriction  refundable_support  nonrefundable_support  \\\n",
       "0    «18+» - запрещено для детей                 NaN                    NaN   \n",
       "1  «6+» - для детей старше 6 лет                 NaN                    NaN   \n",
       "2    «18+» - запрещено для детей                 NaN                    NaN   \n",
       "3    «18+» - запрещено для детей                 NaN                    NaN   \n",
       "4    «18+» - запрещено для детей                 NaN                    NaN   \n",
       "\n",
       "   budget financing_source ratings                     genres  \n",
       "0     NaN              NaN     7.2     боевик,драма,мелодрама  \n",
       "1     NaN              NaN     6.6              драма,военный  \n",
       "2     NaN              NaN     6.8  фантастика,боевик,триллер  \n",
       "3     NaN              NaN     6.8  фантастика,боевик,триллер  \n",
       "4     NaN              NaN     6.8  фантастика,боевик,триллер  "
      ]
     },
     "execution_count": 5,
     "metadata": {},
     "output_type": "execute_result"
    }
   ],
   "source": [
    "data.head()"
   ]
  },
  {
   "cell_type": "code",
   "execution_count": 6,
   "metadata": {},
   "outputs": [
    {
     "data": {
      "text/html": [
       "<div>\n",
       "<style scoped>\n",
       "    .dataframe tbody tr th:only-of-type {\n",
       "        vertical-align: middle;\n",
       "    }\n",
       "\n",
       "    .dataframe tbody tr th {\n",
       "        vertical-align: top;\n",
       "    }\n",
       "\n",
       "    .dataframe thead th {\n",
       "        text-align: right;\n",
       "    }\n",
       "</style>\n",
       "<table border=\"1\" class=\"dataframe\">\n",
       "  <thead>\n",
       "    <tr style=\"text-align: right;\">\n",
       "      <th></th>\n",
       "      <th>puNumber</th>\n",
       "      <th>box_office</th>\n",
       "    </tr>\n",
       "  </thead>\n",
       "  <tbody>\n",
       "    <tr>\n",
       "      <th>0</th>\n",
       "      <td>111000113</td>\n",
       "      <td>2450.00</td>\n",
       "    </tr>\n",
       "    <tr>\n",
       "      <th>1</th>\n",
       "      <td>111000115</td>\n",
       "      <td>61040.00</td>\n",
       "    </tr>\n",
       "    <tr>\n",
       "      <th>2</th>\n",
       "      <td>111000116</td>\n",
       "      <td>153030013.40</td>\n",
       "    </tr>\n",
       "    <tr>\n",
       "      <th>3</th>\n",
       "      <td>111000117</td>\n",
       "      <td>12260956.00</td>\n",
       "    </tr>\n",
       "    <tr>\n",
       "      <th>4</th>\n",
       "      <td>111000118</td>\n",
       "      <td>163684057.79</td>\n",
       "    </tr>\n",
       "  </tbody>\n",
       "</table>\n",
       "</div>"
      ],
      "text/plain": [
       "    puNumber   box_office\n",
       "0  111000113      2450.00\n",
       "1  111000115     61040.00\n",
       "2  111000116 153030013.40\n",
       "3  111000117  12260956.00\n",
       "4  111000118 163684057.79"
      ]
     },
     "execution_count": 6,
     "metadata": {},
     "output_type": "execute_result"
    }
   ],
   "source": [
    "data_shows.head()"
   ]
  },
  {
   "cell_type": "markdown",
   "metadata": {},
   "source": [
    "Для дальнейшей работы с данными нам необходимо объеденить их в один датафрейм, например по столбцу 'puNumber', только нам необходимо привести их к одному типу. Очевидно, что мы можем приветси к такому же типу данныx как и в **'data_shows'** (Int64) данные в **'data'**."
   ]
  },
  {
   "cell_type": "code",
   "execution_count": 7,
   "metadata": {
    "scrolled": true
   },
   "outputs": [],
   "source": [
    "#data['puNumber'] = data['puNumber'].astype('int')"
   ]
  },
  {
   "cell_type": "markdown",
   "metadata": {},
   "source": [
    "Судя по ошибке, в данных столбца 'puNumber' пристутсвует строки **'нет'**, ее мы не можем привести к типу **Int**. Посмотрим на эти строки."
   ]
  },
  {
   "cell_type": "code",
   "execution_count": 8,
   "metadata": {},
   "outputs": [
    {
     "data": {
      "text/html": [
       "<div>\n",
       "<style scoped>\n",
       "    .dataframe tbody tr th:only-of-type {\n",
       "        vertical-align: middle;\n",
       "    }\n",
       "\n",
       "    .dataframe tbody tr th {\n",
       "        vertical-align: top;\n",
       "    }\n",
       "\n",
       "    .dataframe thead th {\n",
       "        text-align: right;\n",
       "    }\n",
       "</style>\n",
       "<table border=\"1\" class=\"dataframe\">\n",
       "  <thead>\n",
       "    <tr style=\"text-align: right;\">\n",
       "      <th></th>\n",
       "      <th>title</th>\n",
       "      <th>puNumber</th>\n",
       "      <th>show_start_date</th>\n",
       "      <th>type</th>\n",
       "      <th>film_studio</th>\n",
       "      <th>production_country</th>\n",
       "      <th>director</th>\n",
       "      <th>producer</th>\n",
       "      <th>age_restriction</th>\n",
       "      <th>refundable_support</th>\n",
       "      <th>nonrefundable_support</th>\n",
       "      <th>budget</th>\n",
       "      <th>financing_source</th>\n",
       "      <th>ratings</th>\n",
       "      <th>genres</th>\n",
       "    </tr>\n",
       "  </thead>\n",
       "  <tbody>\n",
       "    <tr>\n",
       "      <th>1797</th>\n",
       "      <td>Курбан-роман. (История с жертвой)</td>\n",
       "      <td>нет</td>\n",
       "      <td>2014-05-15T12:00:00.000Z</td>\n",
       "      <td>Художественный</td>\n",
       "      <td>ФОНД \"ИННОВАЦИЯ\"</td>\n",
       "      <td>Россия</td>\n",
       "      <td>С.Юзеев</td>\n",
       "      <td>М.Галицкая</td>\n",
       "      <td>«12+» - для детей старше 12 лет</td>\n",
       "      <td>NaN</td>\n",
       "      <td>NaN</td>\n",
       "      <td>NaN</td>\n",
       "      <td>NaN</td>\n",
       "      <td>NaN</td>\n",
       "      <td>NaN</td>\n",
       "    </tr>\n",
       "  </tbody>\n",
       "</table>\n",
       "</div>"
      ],
      "text/plain": [
       "                                  title puNumber           show_start_date  \\\n",
       "1797  Курбан-роман. (История с жертвой)      нет  2014-05-15T12:00:00.000Z   \n",
       "\n",
       "                type       film_studio production_country director  \\\n",
       "1797  Художественный  ФОНД \"ИННОВАЦИЯ\"             Россия  С.Юзеев   \n",
       "\n",
       "        producer                  age_restriction  refundable_support  \\\n",
       "1797  М.Галицкая  «12+» - для детей старше 12 лет                 NaN   \n",
       "\n",
       "      nonrefundable_support  budget financing_source ratings genres  \n",
       "1797                    NaN     NaN              NaN     NaN    NaN  "
      ]
     },
     "execution_count": 8,
     "metadata": {},
     "output_type": "execute_result"
    }
   ],
   "source": [
    "data[data['puNumber'] == 'нет']"
   ]
  },
  {
   "cell_type": "markdown",
   "metadata": {},
   "source": [
    "Как мы видим это 1 строка, в которой пропущено очень много значений в 7 столбцах из 15. Удалим ее, приведем к одному типу данных данные и повторим объединение. Проверим наши объединенные данные в **'data'**."
   ]
  },
  {
   "cell_type": "code",
   "execution_count": 9,
   "metadata": {},
   "outputs": [],
   "source": [
    "data = data.drop(data[data['puNumber'] == 'нет'].index)"
   ]
  },
  {
   "cell_type": "code",
   "execution_count": 10,
   "metadata": {},
   "outputs": [],
   "source": [
    "data['puNumber'] = data['puNumber'].astype('int')"
   ]
  },
  {
   "cell_type": "code",
   "execution_count": 11,
   "metadata": {},
   "outputs": [],
   "source": [
    "data = data.merge(data_shows, on='puNumber', how='left')"
   ]
  },
  {
   "cell_type": "code",
   "execution_count": 12,
   "metadata": {
    "scrolled": true
   },
   "outputs": [
    {
     "name": "stdout",
     "output_type": "stream",
     "text": [
      "<class 'pandas.core.frame.DataFrame'>\n",
      "Int64Index: 7485 entries, 0 to 7484\n",
      "Data columns (total 16 columns):\n",
      " #   Column                 Non-Null Count  Dtype  \n",
      "---  ------                 --------------  -----  \n",
      " 0   title                  7485 non-null   object \n",
      " 1   puNumber               7485 non-null   int64  \n",
      " 2   show_start_date        7485 non-null   object \n",
      " 3   type                   7485 non-null   object \n",
      " 4   film_studio            7467 non-null   object \n",
      " 5   production_country     7483 non-null   object \n",
      " 6   director               7476 non-null   object \n",
      " 7   producer               6917 non-null   object \n",
      " 8   age_restriction        7485 non-null   object \n",
      " 9   refundable_support     332 non-null    float64\n",
      " 10  nonrefundable_support  332 non-null    float64\n",
      " 11  budget                 332 non-null    float64\n",
      " 12  financing_source       332 non-null    object \n",
      " 13  ratings                6519 non-null   object \n",
      " 14  genres                 6510 non-null   object \n",
      " 15  box_office             3158 non-null   float64\n",
      "dtypes: float64(4), int64(1), object(11)\n",
      "memory usage: 994.1+ KB\n"
     ]
    }
   ],
   "source": [
    "data.info()"
   ]
  },
  {
   "cell_type": "code",
   "execution_count": 13,
   "metadata": {
    "scrolled": true
   },
   "outputs": [
    {
     "data": {
      "text/html": [
       "<div>\n",
       "<style scoped>\n",
       "    .dataframe tbody tr th:only-of-type {\n",
       "        vertical-align: middle;\n",
       "    }\n",
       "\n",
       "    .dataframe tbody tr th {\n",
       "        vertical-align: top;\n",
       "    }\n",
       "\n",
       "    .dataframe thead th {\n",
       "        text-align: right;\n",
       "    }\n",
       "</style>\n",
       "<table border=\"1\" class=\"dataframe\">\n",
       "  <thead>\n",
       "    <tr style=\"text-align: right;\">\n",
       "      <th></th>\n",
       "      <th>title</th>\n",
       "      <th>puNumber</th>\n",
       "      <th>show_start_date</th>\n",
       "      <th>type</th>\n",
       "      <th>film_studio</th>\n",
       "      <th>production_country</th>\n",
       "      <th>director</th>\n",
       "      <th>producer</th>\n",
       "      <th>age_restriction</th>\n",
       "      <th>refundable_support</th>\n",
       "      <th>nonrefundable_support</th>\n",
       "      <th>budget</th>\n",
       "      <th>financing_source</th>\n",
       "      <th>ratings</th>\n",
       "      <th>genres</th>\n",
       "      <th>box_office</th>\n",
       "    </tr>\n",
       "  </thead>\n",
       "  <tbody>\n",
       "    <tr>\n",
       "      <th>0</th>\n",
       "      <td>Открытый простор</td>\n",
       "      <td>221048915</td>\n",
       "      <td>2015-11-27T12:00:00.000Z</td>\n",
       "      <td>Художественный</td>\n",
       "      <td>Тачстоун Пикчерз, Кобальт Пикчерз, Бикон Пикче...</td>\n",
       "      <td>США</td>\n",
       "      <td>Кевин Костнер</td>\n",
       "      <td>Дэвид Валдес, Кевин Костнер, Джейк Эбертс</td>\n",
       "      <td>«18+» - запрещено для детей</td>\n",
       "      <td>NaN</td>\n",
       "      <td>NaN</td>\n",
       "      <td>NaN</td>\n",
       "      <td>NaN</td>\n",
       "      <td>7.2</td>\n",
       "      <td>боевик,драма,мелодрама</td>\n",
       "      <td>NaN</td>\n",
       "    </tr>\n",
       "    <tr>\n",
       "      <th>1</th>\n",
       "      <td>Особо важное задание</td>\n",
       "      <td>111013716</td>\n",
       "      <td>2016-09-13T12:00:00.000Z</td>\n",
       "      <td>Художественный</td>\n",
       "      <td>Киностудия \"Мосфильм\"</td>\n",
       "      <td>СССР</td>\n",
       "      <td>Е.Матвеев</td>\n",
       "      <td>NaN</td>\n",
       "      <td>«6+» - для детей старше 6 лет</td>\n",
       "      <td>NaN</td>\n",
       "      <td>NaN</td>\n",
       "      <td>NaN</td>\n",
       "      <td>NaN</td>\n",
       "      <td>6.6</td>\n",
       "      <td>драма,военный</td>\n",
       "      <td>NaN</td>\n",
       "    </tr>\n",
       "    <tr>\n",
       "      <th>2</th>\n",
       "      <td>Особо опасен</td>\n",
       "      <td>221038416</td>\n",
       "      <td>2016-10-10T12:00:00.000Z</td>\n",
       "      <td>Художественный</td>\n",
       "      <td>Юниверсал Пикчерз, Кикстарт Продакшнз, Марк Пл...</td>\n",
       "      <td>США</td>\n",
       "      <td>Тимур Бекмамбетов</td>\n",
       "      <td>Джим Лемли, Джейсон Нетер, Марк Е.Платт, Яйн Смит</td>\n",
       "      <td>«18+» - запрещено для детей</td>\n",
       "      <td>NaN</td>\n",
       "      <td>NaN</td>\n",
       "      <td>NaN</td>\n",
       "      <td>NaN</td>\n",
       "      <td>6.8</td>\n",
       "      <td>фантастика,боевик,триллер</td>\n",
       "      <td>NaN</td>\n",
       "    </tr>\n",
       "    <tr>\n",
       "      <th>3</th>\n",
       "      <td>Особо опасен</td>\n",
       "      <td>221026916</td>\n",
       "      <td>2016-06-10T12:00:00.000Z</td>\n",
       "      <td>Художественный</td>\n",
       "      <td>Юниверсал Пикчерз, Кикстарт Продакшнз, Марк Пл...</td>\n",
       "      <td>США</td>\n",
       "      <td>Тимур Бекмамбетов</td>\n",
       "      <td>Джим Лемли, Джейсон Нетер, Марк Е.Платт, Яйн Смит</td>\n",
       "      <td>«18+» - запрещено для детей</td>\n",
       "      <td>NaN</td>\n",
       "      <td>NaN</td>\n",
       "      <td>NaN</td>\n",
       "      <td>NaN</td>\n",
       "      <td>6.8</td>\n",
       "      <td>фантастика,боевик,триллер</td>\n",
       "      <td>NaN</td>\n",
       "    </tr>\n",
       "    <tr>\n",
       "      <th>4</th>\n",
       "      <td>Особо опасен</td>\n",
       "      <td>221030815</td>\n",
       "      <td>2015-07-29T12:00:00.000Z</td>\n",
       "      <td>Художественный</td>\n",
       "      <td>Юниверсал Пикчерз, Кикстарт Продакшнз, Марк Пл...</td>\n",
       "      <td>США</td>\n",
       "      <td>Тимур Бекмамбетов</td>\n",
       "      <td>Джим Лемли, Джейсон Нетер, Марк Е.Платт, Яйн Смит</td>\n",
       "      <td>«18+» - запрещено для детей</td>\n",
       "      <td>NaN</td>\n",
       "      <td>NaN</td>\n",
       "      <td>NaN</td>\n",
       "      <td>NaN</td>\n",
       "      <td>6.8</td>\n",
       "      <td>фантастика,боевик,триллер</td>\n",
       "      <td>NaN</td>\n",
       "    </tr>\n",
       "  </tbody>\n",
       "</table>\n",
       "</div>"
      ],
      "text/plain": [
       "                  title   puNumber           show_start_date            type  \\\n",
       "0      Открытый простор  221048915  2015-11-27T12:00:00.000Z  Художественный   \n",
       "1  Особо важное задание  111013716  2016-09-13T12:00:00.000Z  Художественный   \n",
       "2          Особо опасен  221038416  2016-10-10T12:00:00.000Z  Художественный   \n",
       "3          Особо опасен  221026916  2016-06-10T12:00:00.000Z  Художественный   \n",
       "4          Особо опасен  221030815  2015-07-29T12:00:00.000Z  Художественный   \n",
       "\n",
       "                                         film_studio production_country  \\\n",
       "0  Тачстоун Пикчерз, Кобальт Пикчерз, Бикон Пикче...                США   \n",
       "1                              Киностудия \"Мосфильм\"               СССР   \n",
       "2  Юниверсал Пикчерз, Кикстарт Продакшнз, Марк Пл...                США   \n",
       "3  Юниверсал Пикчерз, Кикстарт Продакшнз, Марк Пл...                США   \n",
       "4  Юниверсал Пикчерз, Кикстарт Продакшнз, Марк Пл...                США   \n",
       "\n",
       "            director                                           producer  \\\n",
       "0      Кевин Костнер          Дэвид Валдес, Кевин Костнер, Джейк Эбертс   \n",
       "1          Е.Матвеев                                                NaN   \n",
       "2  Тимур Бекмамбетов  Джим Лемли, Джейсон Нетер, Марк Е.Платт, Яйн Смит   \n",
       "3  Тимур Бекмамбетов  Джим Лемли, Джейсон Нетер, Марк Е.Платт, Яйн Смит   \n",
       "4  Тимур Бекмамбетов  Джим Лемли, Джейсон Нетер, Марк Е.Платт, Яйн Смит   \n",
       "\n",
       "                 age_restriction  refundable_support  nonrefundable_support  \\\n",
       "0    «18+» - запрещено для детей                 NaN                    NaN   \n",
       "1  «6+» - для детей старше 6 лет                 NaN                    NaN   \n",
       "2    «18+» - запрещено для детей                 NaN                    NaN   \n",
       "3    «18+» - запрещено для детей                 NaN                    NaN   \n",
       "4    «18+» - запрещено для детей                 NaN                    NaN   \n",
       "\n",
       "   budget financing_source ratings                     genres  box_office  \n",
       "0     NaN              NaN     7.2     боевик,драма,мелодрама         NaN  \n",
       "1     NaN              NaN     6.6              драма,военный         NaN  \n",
       "2     NaN              NaN     6.8  фантастика,боевик,триллер         NaN  \n",
       "3     NaN              NaN     6.8  фантастика,боевик,триллер         NaN  \n",
       "4     NaN              NaN     6.8  фантастика,боевик,триллер         NaN  "
      ]
     },
     "execution_count": 13,
     "metadata": {},
     "output_type": "execute_result"
    }
   ],
   "source": [
    "data.head()"
   ]
  },
  {
   "cell_type": "markdown",
   "metadata": {},
   "source": [
    "Объединение прошло успешно, мы видим что у нас добавился новый столбец **'box_office'**. \n",
    "\n",
    "Переименуем столбец **'puNumber'** на **'pu_number'**"
   ]
  },
  {
   "cell_type": "code",
   "execution_count": 14,
   "metadata": {},
   "outputs": [],
   "source": [
    "data = data.rename(columns={'puNumber': 'pu_number'})"
   ]
  },
  {
   "cell_type": "markdown",
   "metadata": {},
   "source": [
    "**Промежуточный вывод**\n",
    "\n",
    "Мы считали файлы с данными о российском кинопрокате с 2х источников.\n",
    "* В 1м источнике данных имеются 7486 записи.\n",
    "* Во 2м источнике 3158 записи, это 2 столбца:\n",
    "    * номер прокатного удостоверения (который имеется также в первом источнике)\n",
    "    * сборы от проката фильма в кинотеатрах в рублях.\n",
    "* Мы объеденили таблицы с разных источников по общим данным - номер прокатного удостоверения\n",
    "* Дополнительно мы переименовали столбец 'puNumber' на 'pu_number' согласно принятому стилю\n",
    "* В данных имеются такие проблемы как:\n",
    "    * пропуски в нескольких колонках\n",
    "    * формат типа данных не везде соответствует типу данных\n",
    "Необходимо сделать предобработку данных, для возможности их дальнейшего анализа."
   ]
  },
  {
   "cell_type": "markdown",
   "metadata": {
    "id": "KLDGpPG0gFyM"
   },
   "source": [
    "### Предобработка данных"
   ]
  },
  {
   "cell_type": "markdown",
   "metadata": {
    "id": "ssWwKXsxgFyO"
   },
   "source": [
    "#### Проверим типы данных"
   ]
  },
  {
   "cell_type": "code",
   "execution_count": 15,
   "metadata": {
    "id": "kVGSplJOgFyO",
    "scrolled": true
   },
   "outputs": [
    {
     "name": "stdout",
     "output_type": "stream",
     "text": [
      "<class 'pandas.core.frame.DataFrame'>\n",
      "Int64Index: 7485 entries, 0 to 7484\n",
      "Data columns (total 16 columns):\n",
      " #   Column                 Non-Null Count  Dtype  \n",
      "---  ------                 --------------  -----  \n",
      " 0   title                  7485 non-null   object \n",
      " 1   pu_number              7485 non-null   int64  \n",
      " 2   show_start_date        7485 non-null   object \n",
      " 3   type                   7485 non-null   object \n",
      " 4   film_studio            7467 non-null   object \n",
      " 5   production_country     7483 non-null   object \n",
      " 6   director               7476 non-null   object \n",
      " 7   producer               6917 non-null   object \n",
      " 8   age_restriction        7485 non-null   object \n",
      " 9   refundable_support     332 non-null    float64\n",
      " 10  nonrefundable_support  332 non-null    float64\n",
      " 11  budget                 332 non-null    float64\n",
      " 12  financing_source       332 non-null    object \n",
      " 13  ratings                6519 non-null   object \n",
      " 14  genres                 6510 non-null   object \n",
      " 15  box_office             3158 non-null   float64\n",
      "dtypes: float64(4), int64(1), object(11)\n",
      "memory usage: 994.1+ KB\n"
     ]
    }
   ],
   "source": [
    "data.info()"
   ]
  },
  {
   "cell_type": "markdown",
   "metadata": {},
   "source": [
    "Изменим тип данных в столбцах:\n",
    "* **'show_start_date'** с 'object' на 'datetime'\n",
    "* **'ratings'** с 'object' на 'float'\n",
    "* **'refundable_support', 'nonrefundable_support', 'budget'** с 'float' на 'int'\n",
    "\n",
    "Предварительно проверим уникальные значения в столбце **'ratings'**"
   ]
  },
  {
   "cell_type": "code",
   "execution_count": 16,
   "metadata": {
    "scrolled": false
   },
   "outputs": [
    {
     "data": {
      "text/plain": [
       "array(['7.2', '6.6', '6.8', '7.7', '8.3', '8.0', '7.8', '8.1', '7.1',\n",
       "       '6.0', '7.4', '5.8', '8.7', '6.3', '6.9', '5.0', '4.3', '7.3',\n",
       "       '7.0', '6.4', nan, '8.2', '7.5', '6.7', '7.9', '5.9', '6.2', '5.6',\n",
       "       '6.5', '2.4', '7.6', '6.1', '8.6', '8.5', '8.8', '5.5', '5.1',\n",
       "       '5.7', '5.4', '99%', '4.4', '4.5', '5.3', '4.1', '8.4', '2.6',\n",
       "       '3.8', '4.6', '4.8', '4.0', '3.0', '1.6', '4.2', '5.2', '4.7',\n",
       "       '4.9', '3.9', '2.7', '3.3', '2.9', '28%', '3.7', '1.4', '3.1',\n",
       "       '97%', '3.5', '3.2', '2.8', '1.5', '2.1', '2.5', '9.2', '3.4',\n",
       "       '1.1', '3.6', '83%', '64%', '91%', '94%', '62%', '79%', '90%',\n",
       "       '19%', '88%', '1.0', '89%', '1.3', '1.9', '1.8', '1.2', '1.7',\n",
       "       '9.0', '98%', '8.9', '9.1'], dtype=object)"
      ]
     },
     "execution_count": 16,
     "metadata": {},
     "output_type": "execute_result"
    }
   ],
   "source": [
    "data['ratings'].unique()"
   ]
  },
  {
   "cell_type": "markdown",
   "metadata": {},
   "source": [
    "как видно из представленных значений здесь 2 проблемы:\n",
    "* наличие символа **`%`** в рейтинге;\n",
    "* разная шкала рейтинга `10` бальная шкала и `100%` шкала\n",
    "Приведем все к одному типу"
   ]
  },
  {
   "cell_type": "code",
   "execution_count": 17,
   "metadata": {
    "scrolled": true
   },
   "outputs": [],
   "source": [
    "data['show_start_date'] = pd.to_datetime(data['show_start_date'], format='%Y-%m-%dT%H:%M:%S.%fZ')\n",
    "\n",
    "data['ratings'] = (\n",
    "    data['ratings'].str.rstrip('%')\n",
    "    .astype('float').apply(lambda x: x/10 if x > 10 else x)\n",
    ")\n",
    "\n",
    "data[['refundable_support', 'nonrefundable_support', 'budget']] = (\n",
    "    data[['refundable_support', 'nonrefundable_support', 'budget']]\n",
    "    .apply(pd.to_numeric, errors='coerce').astype('Int64')\n",
    ")"
   ]
  },
  {
   "cell_type": "code",
   "execution_count": 18,
   "metadata": {
    "scrolled": true
   },
   "outputs": [
    {
     "name": "stdout",
     "output_type": "stream",
     "text": [
      "<class 'pandas.core.frame.DataFrame'>\n",
      "Int64Index: 7485 entries, 0 to 7484\n",
      "Data columns (total 16 columns):\n",
      " #   Column                 Non-Null Count  Dtype         \n",
      "---  ------                 --------------  -----         \n",
      " 0   title                  7485 non-null   object        \n",
      " 1   pu_number              7485 non-null   int64         \n",
      " 2   show_start_date        7485 non-null   datetime64[ns]\n",
      " 3   type                   7485 non-null   object        \n",
      " 4   film_studio            7467 non-null   object        \n",
      " 5   production_country     7483 non-null   object        \n",
      " 6   director               7476 non-null   object        \n",
      " 7   producer               6917 non-null   object        \n",
      " 8   age_restriction        7485 non-null   object        \n",
      " 9   refundable_support     332 non-null    Int64         \n",
      " 10  nonrefundable_support  332 non-null    Int64         \n",
      " 11  budget                 332 non-null    Int64         \n",
      " 12  financing_source       332 non-null    object        \n",
      " 13  ratings                6519 non-null   float64       \n",
      " 14  genres                 6510 non-null   object        \n",
      " 15  box_office             3158 non-null   float64       \n",
      "dtypes: Int64(3), datetime64[ns](1), float64(2), int64(1), object(9)\n",
      "memory usage: 1016.0+ KB\n"
     ]
    }
   ],
   "source": [
    "data.info()"
   ]
  },
  {
   "cell_type": "code",
   "execution_count": 19,
   "metadata": {
    "scrolled": false
   },
   "outputs": [
    {
     "data": {
      "text/plain": [
       "array([1. , 1.1, 1.2, 1.3, 1.4, 1.5, 1.6, 1.7, 1.8, 1.9, 2.1, 2.4, 2.5,\n",
       "       2.6, 2.7, 2.8, 2.9, 3. , 3.1, 3.2, 3.3, 3.4, 3.5, 3.6, 3.7, 3.8,\n",
       "       3.9, 4. , 4.1, 4.2, 4.3, 4.4, 4.5, 4.6, 4.7, 4.8, 4.9, 5. , 5.1,\n",
       "       5.2, 5.3, 5.4, 5.5, 5.6, 5.7, 5.8, 5.9, 6. , 6.1, 6.2, 6.3, 6.4,\n",
       "       6.5, 6.6, 6.7, 6.8, 6.9, 7. , 7.1, 7.2, 7.3, 7.4, 7.5, 7.6, 7.7,\n",
       "       7.8, 7.9, 8. , 8.1, 8.2, 8.3, 8.4, 8.5, 8.6, 8.7, 8.8, 8.9, 9. ,\n",
       "       9.1, 9.2, 9.4, 9.7, 9.8, 9.9, nan])"
      ]
     },
     "execution_count": 19,
     "metadata": {},
     "output_type": "execute_result"
    }
   ],
   "source": [
    "data['ratings'].sort_values().unique()"
   ]
  },
  {
   "cell_type": "markdown",
   "metadata": {
    "id": "i0MOLbF-gFyP"
   },
   "source": [
    "#### Изучим пропуски в датафрейме"
   ]
  },
  {
   "cell_type": "markdown",
   "metadata": {},
   "source": [
    "Перед обработкой пропусков зафиксируем размер датасета."
   ]
  },
  {
   "cell_type": "code",
   "execution_count": 20,
   "metadata": {},
   "outputs": [
    {
     "data": {
      "text/plain": [
       "7485"
      ]
     },
     "execution_count": 20,
     "metadata": {},
     "output_type": "execute_result"
    }
   ],
   "source": [
    "temp = data.copy()\n",
    "len(temp)"
   ]
  },
  {
   "cell_type": "markdown",
   "metadata": {},
   "source": [
    "Посмотрим на пропуски в данных"
   ]
  },
  {
   "cell_type": "code",
   "execution_count": 21,
   "metadata": {
    "id": "8MJD_lkngFyP",
    "scrolled": false
   },
   "outputs": [
    {
     "data": {
      "text/plain": [
       "title                       0\n",
       "pu_number                   0\n",
       "show_start_date             0\n",
       "type                        0\n",
       "film_studio                18\n",
       "production_country          2\n",
       "director                    9\n",
       "producer                  568\n",
       "age_restriction             0\n",
       "refundable_support       7153\n",
       "nonrefundable_support    7153\n",
       "budget                   7153\n",
       "financing_source         7153\n",
       "ratings                   966\n",
       "genres                    975\n",
       "box_office               4327\n",
       "dtype: int64"
      ]
     },
     "execution_count": 21,
     "metadata": {},
     "output_type": "execute_result"
    }
   ],
   "source": [
    "data.isna().sum()"
   ]
  },
  {
   "cell_type": "code",
   "execution_count": 22,
   "metadata": {},
   "outputs": [
    {
     "data": {
      "text/html": [
       "<style  type=\"text/css\" >\n",
       "#T_3241a_row0_col0,#T_3241a_row0_col1,#T_3241a_row1_col0,#T_3241a_row1_col1,#T_3241a_row2_col0,#T_3241a_row2_col1,#T_3241a_row3_col0,#T_3241a_row3_col1,#T_3241a_row4_col0,#T_3241a_row4_col1,#T_3241a_row5_col0,#T_3241a_row5_col1,#T_3241a_row6_col0,#T_3241a_row6_col1,#T_3241a_row8_col0,#T_3241a_row8_col1{\n",
       "            background-color:  #3b4cc0;\n",
       "            color:  #f1f1f1;\n",
       "        }#T_3241a_row7_col0,#T_3241a_row7_col1{\n",
       "            background-color:  #536edd;\n",
       "            color:  #000000;\n",
       "        }#T_3241a_row9_col0,#T_3241a_row9_col1,#T_3241a_row10_col0,#T_3241a_row10_col1,#T_3241a_row11_col0,#T_3241a_row11_col1,#T_3241a_row12_col0,#T_3241a_row12_col1{\n",
       "            background-color:  #b40426;\n",
       "            color:  #f1f1f1;\n",
       "        }#T_3241a_row13_col0,#T_3241a_row13_col1,#T_3241a_row14_col0,#T_3241a_row14_col1{\n",
       "            background-color:  #6485ec;\n",
       "            color:  #000000;\n",
       "        }#T_3241a_row15_col0,#T_3241a_row15_col1{\n",
       "            background-color:  #f2cab5;\n",
       "            color:  #000000;\n",
       "        }</style><table id=\"T_3241a_\" ><thead>    <tr>        <th class=\"blank level0\" ></th>        <th class=\"col_heading level0 col0\" >Кол-во пропусков</th>        <th class=\"col_heading level0 col1\" >Доля пропусков</th>    </tr></thead><tbody>\n",
       "                <tr>\n",
       "                        <th id=\"T_3241a_level0_row0\" class=\"row_heading level0 row0\" >title</th>\n",
       "                        <td id=\"T_3241a_row0_col0\" class=\"data row0 col0\" >0</td>\n",
       "                        <td id=\"T_3241a_row0_col1\" class=\"data row0 col1\" >0.000000</td>\n",
       "            </tr>\n",
       "            <tr>\n",
       "                        <th id=\"T_3241a_level0_row1\" class=\"row_heading level0 row1\" >pu_number</th>\n",
       "                        <td id=\"T_3241a_row1_col0\" class=\"data row1 col0\" >0</td>\n",
       "                        <td id=\"T_3241a_row1_col1\" class=\"data row1 col1\" >0.000000</td>\n",
       "            </tr>\n",
       "            <tr>\n",
       "                        <th id=\"T_3241a_level0_row2\" class=\"row_heading level0 row2\" >show_start_date</th>\n",
       "                        <td id=\"T_3241a_row2_col0\" class=\"data row2 col0\" >0</td>\n",
       "                        <td id=\"T_3241a_row2_col1\" class=\"data row2 col1\" >0.000000</td>\n",
       "            </tr>\n",
       "            <tr>\n",
       "                        <th id=\"T_3241a_level0_row3\" class=\"row_heading level0 row3\" >type</th>\n",
       "                        <td id=\"T_3241a_row3_col0\" class=\"data row3 col0\" >0</td>\n",
       "                        <td id=\"T_3241a_row3_col1\" class=\"data row3 col1\" >0.000000</td>\n",
       "            </tr>\n",
       "            <tr>\n",
       "                        <th id=\"T_3241a_level0_row4\" class=\"row_heading level0 row4\" >film_studio</th>\n",
       "                        <td id=\"T_3241a_row4_col0\" class=\"data row4 col0\" >18</td>\n",
       "                        <td id=\"T_3241a_row4_col1\" class=\"data row4 col1\" >0.002400</td>\n",
       "            </tr>\n",
       "            <tr>\n",
       "                        <th id=\"T_3241a_level0_row5\" class=\"row_heading level0 row5\" >production_country</th>\n",
       "                        <td id=\"T_3241a_row5_col0\" class=\"data row5 col0\" >2</td>\n",
       "                        <td id=\"T_3241a_row5_col1\" class=\"data row5 col1\" >0.000300</td>\n",
       "            </tr>\n",
       "            <tr>\n",
       "                        <th id=\"T_3241a_level0_row6\" class=\"row_heading level0 row6\" >director</th>\n",
       "                        <td id=\"T_3241a_row6_col0\" class=\"data row6 col0\" >9</td>\n",
       "                        <td id=\"T_3241a_row6_col1\" class=\"data row6 col1\" >0.001200</td>\n",
       "            </tr>\n",
       "            <tr>\n",
       "                        <th id=\"T_3241a_level0_row7\" class=\"row_heading level0 row7\" >producer</th>\n",
       "                        <td id=\"T_3241a_row7_col0\" class=\"data row7 col0\" >568</td>\n",
       "                        <td id=\"T_3241a_row7_col1\" class=\"data row7 col1\" >0.075900</td>\n",
       "            </tr>\n",
       "            <tr>\n",
       "                        <th id=\"T_3241a_level0_row8\" class=\"row_heading level0 row8\" >age_restriction</th>\n",
       "                        <td id=\"T_3241a_row8_col0\" class=\"data row8 col0\" >0</td>\n",
       "                        <td id=\"T_3241a_row8_col1\" class=\"data row8 col1\" >0.000000</td>\n",
       "            </tr>\n",
       "            <tr>\n",
       "                        <th id=\"T_3241a_level0_row9\" class=\"row_heading level0 row9\" >refundable_support</th>\n",
       "                        <td id=\"T_3241a_row9_col0\" class=\"data row9 col0\" >7153</td>\n",
       "                        <td id=\"T_3241a_row9_col1\" class=\"data row9 col1\" >0.955600</td>\n",
       "            </tr>\n",
       "            <tr>\n",
       "                        <th id=\"T_3241a_level0_row10\" class=\"row_heading level0 row10\" >nonrefundable_support</th>\n",
       "                        <td id=\"T_3241a_row10_col0\" class=\"data row10 col0\" >7153</td>\n",
       "                        <td id=\"T_3241a_row10_col1\" class=\"data row10 col1\" >0.955600</td>\n",
       "            </tr>\n",
       "            <tr>\n",
       "                        <th id=\"T_3241a_level0_row11\" class=\"row_heading level0 row11\" >budget</th>\n",
       "                        <td id=\"T_3241a_row11_col0\" class=\"data row11 col0\" >7153</td>\n",
       "                        <td id=\"T_3241a_row11_col1\" class=\"data row11 col1\" >0.955600</td>\n",
       "            </tr>\n",
       "            <tr>\n",
       "                        <th id=\"T_3241a_level0_row12\" class=\"row_heading level0 row12\" >financing_source</th>\n",
       "                        <td id=\"T_3241a_row12_col0\" class=\"data row12 col0\" >7153</td>\n",
       "                        <td id=\"T_3241a_row12_col1\" class=\"data row12 col1\" >0.955600</td>\n",
       "            </tr>\n",
       "            <tr>\n",
       "                        <th id=\"T_3241a_level0_row13\" class=\"row_heading level0 row13\" >ratings</th>\n",
       "                        <td id=\"T_3241a_row13_col0\" class=\"data row13 col0\" >966</td>\n",
       "                        <td id=\"T_3241a_row13_col1\" class=\"data row13 col1\" >0.129100</td>\n",
       "            </tr>\n",
       "            <tr>\n",
       "                        <th id=\"T_3241a_level0_row14\" class=\"row_heading level0 row14\" >genres</th>\n",
       "                        <td id=\"T_3241a_row14_col0\" class=\"data row14 col0\" >975</td>\n",
       "                        <td id=\"T_3241a_row14_col1\" class=\"data row14 col1\" >0.130300</td>\n",
       "            </tr>\n",
       "            <tr>\n",
       "                        <th id=\"T_3241a_level0_row15\" class=\"row_heading level0 row15\" >box_office</th>\n",
       "                        <td id=\"T_3241a_row15_col0\" class=\"data row15 col0\" >4327</td>\n",
       "                        <td id=\"T_3241a_row15_col1\" class=\"data row15 col1\" >0.578100</td>\n",
       "            </tr>\n",
       "    </tbody></table>"
      ],
      "text/plain": [
       "<pandas.io.formats.style.Styler at 0x7f9b6b1db310>"
      ]
     },
     "execution_count": 22,
     "metadata": {},
     "output_type": "execute_result"
    }
   ],
   "source": [
    "missing = (pd.DataFrame({'Кол-во пропусков': temp.isnull().sum(), 'Доля пропусков': temp.isnull().mean().round(4)})\n",
    "           .style.background_gradient(cmap='coolwarm'))\n",
    "missing"
   ]
  },
  {
   "cell_type": "markdown",
   "metadata": {},
   "source": [
    "Посмотрим на пропуски в столбцах **'film_studio'**, **'production_country'** и **'director'**"
   ]
  },
  {
   "cell_type": "code",
   "execution_count": 23,
   "metadata": {
    "scrolled": true
   },
   "outputs": [
    {
     "data": {
      "text/html": [
       "<div>\n",
       "<style scoped>\n",
       "    .dataframe tbody tr th:only-of-type {\n",
       "        vertical-align: middle;\n",
       "    }\n",
       "\n",
       "    .dataframe tbody tr th {\n",
       "        vertical-align: top;\n",
       "    }\n",
       "\n",
       "    .dataframe thead th {\n",
       "        text-align: right;\n",
       "    }\n",
       "</style>\n",
       "<table border=\"1\" class=\"dataframe\">\n",
       "  <thead>\n",
       "    <tr style=\"text-align: right;\">\n",
       "      <th></th>\n",
       "      <th>title</th>\n",
       "      <th>pu_number</th>\n",
       "      <th>show_start_date</th>\n",
       "      <th>type</th>\n",
       "      <th>film_studio</th>\n",
       "      <th>production_country</th>\n",
       "      <th>director</th>\n",
       "      <th>producer</th>\n",
       "      <th>age_restriction</th>\n",
       "      <th>refundable_support</th>\n",
       "      <th>nonrefundable_support</th>\n",
       "      <th>budget</th>\n",
       "      <th>financing_source</th>\n",
       "      <th>ratings</th>\n",
       "      <th>genres</th>\n",
       "      <th>box_office</th>\n",
       "    </tr>\n",
       "  </thead>\n",
       "  <tbody>\n",
       "    <tr>\n",
       "      <th>1293</th>\n",
       "      <td>Stars in Shorts</td>\n",
       "      <td>121011114</td>\n",
       "      <td>2014-06-03 12:00:00</td>\n",
       "      <td>Художественный</td>\n",
       "      <td>NaN</td>\n",
       "      <td>США, Великобритания</td>\n",
       "      <td>Роберт Фестингер, Руперт Френд, Джей Камен, Ни...</td>\n",
       "      <td>Татьяна Келли, Роберта Мунро, Руперт Френд, До...</td>\n",
       "      <td>«16+» - для детей старше 16 лет</td>\n",
       "      <td>&lt;NA&gt;</td>\n",
       "      <td>&lt;NA&gt;</td>\n",
       "      <td>&lt;NA&gt;</td>\n",
       "      <td>NaN</td>\n",
       "      <td>7.30</td>\n",
       "      <td>комедия</td>\n",
       "      <td>NaN</td>\n",
       "    </tr>\n",
       "    <tr>\n",
       "      <th>4440</th>\n",
       "      <td>Мульт личности. Выпуск 5</td>\n",
       "      <td>214000410</td>\n",
       "      <td>2010-01-25 12:00:00</td>\n",
       "      <td>Художественный</td>\n",
       "      <td>NaN</td>\n",
       "      <td>NaN</td>\n",
       "      <td>NaN</td>\n",
       "      <td>NaN</td>\n",
       "      <td>«0+» - для любой зрительской аудитории</td>\n",
       "      <td>&lt;NA&gt;</td>\n",
       "      <td>&lt;NA&gt;</td>\n",
       "      <td>&lt;NA&gt;</td>\n",
       "      <td>NaN</td>\n",
       "      <td>4.00</td>\n",
       "      <td>мультфильм,комедия</td>\n",
       "      <td>NaN</td>\n",
       "    </tr>\n",
       "    <tr>\n",
       "      <th>6104</th>\n",
       "      <td>Значит любит</td>\n",
       "      <td>111013818</td>\n",
       "      <td>2018-08-10 12:00:00</td>\n",
       "      <td>Художественный</td>\n",
       "      <td>NaN</td>\n",
       "      <td>Россия</td>\n",
       "      <td>А.Краевский</td>\n",
       "      <td>Е.Щербакова</td>\n",
       "      <td>«18+» - запрещено для детей</td>\n",
       "      <td>&lt;NA&gt;</td>\n",
       "      <td>&lt;NA&gt;</td>\n",
       "      <td>&lt;NA&gt;</td>\n",
       "      <td>NaN</td>\n",
       "      <td>NaN</td>\n",
       "      <td>NaN</td>\n",
       "      <td>NaN</td>\n",
       "    </tr>\n",
       "    <tr>\n",
       "      <th>6180</th>\n",
       "      <td>Несейка. Младшая дочь</td>\n",
       "      <td>112007018</td>\n",
       "      <td>2018-09-01 12:00:00</td>\n",
       "      <td>Документальный</td>\n",
       "      <td>NaN</td>\n",
       "      <td>Россия</td>\n",
       "      <td>В.Марин</td>\n",
       "      <td>Д.Якунин, Ф.Абрютин, О.Филонова</td>\n",
       "      <td>«6+» - для детей старше 6 лет</td>\n",
       "      <td>&lt;NA&gt;</td>\n",
       "      <td>&lt;NA&gt;</td>\n",
       "      <td>&lt;NA&gt;</td>\n",
       "      <td>NaN</td>\n",
       "      <td>NaN</td>\n",
       "      <td>NaN</td>\n",
       "      <td>NaN</td>\n",
       "    </tr>\n",
       "    <tr>\n",
       "      <th>6378</th>\n",
       "      <td>Ян Антонышев</td>\n",
       "      <td>112011818</td>\n",
       "      <td>2018-11-15 12:00:00</td>\n",
       "      <td>Документальный</td>\n",
       "      <td>NaN</td>\n",
       "      <td>Россия</td>\n",
       "      <td>Е.Окопная</td>\n",
       "      <td>Е.Герасимов</td>\n",
       "      <td>«12+» - для детей старше 12 лет</td>\n",
       "      <td>&lt;NA&gt;</td>\n",
       "      <td>&lt;NA&gt;</td>\n",
       "      <td>&lt;NA&gt;</td>\n",
       "      <td>NaN</td>\n",
       "      <td>NaN</td>\n",
       "      <td>NaN</td>\n",
       "      <td>NaN</td>\n",
       "    </tr>\n",
       "    <tr>\n",
       "      <th>6379</th>\n",
       "      <td>Ян Антонышев</td>\n",
       "      <td>112011918</td>\n",
       "      <td>2018-11-15 12:00:00</td>\n",
       "      <td>Документальный</td>\n",
       "      <td>NaN</td>\n",
       "      <td>Россия</td>\n",
       "      <td>Е.Окопная</td>\n",
       "      <td>Е.Герасимов</td>\n",
       "      <td>«12+» - для детей старше 12 лет</td>\n",
       "      <td>&lt;NA&gt;</td>\n",
       "      <td>&lt;NA&gt;</td>\n",
       "      <td>&lt;NA&gt;</td>\n",
       "      <td>NaN</td>\n",
       "      <td>NaN</td>\n",
       "      <td>NaN</td>\n",
       "      <td>NaN</td>\n",
       "    </tr>\n",
       "    <tr>\n",
       "      <th>6398</th>\n",
       "      <td>Доживем до каникул?..</td>\n",
       "      <td>111021918</td>\n",
       "      <td>2018-11-15 12:00:00</td>\n",
       "      <td>Художественный</td>\n",
       "      <td>NaN</td>\n",
       "      <td>Россия</td>\n",
       "      <td>Я.Хальпукова (псевдоним Яна Мартынец)</td>\n",
       "      <td>Я.Хальпукова (псевдоним Яна Мартынец)</td>\n",
       "      <td>«12+» - для детей старше 12 лет</td>\n",
       "      <td>&lt;NA&gt;</td>\n",
       "      <td>&lt;NA&gt;</td>\n",
       "      <td>&lt;NA&gt;</td>\n",
       "      <td>NaN</td>\n",
       "      <td>NaN</td>\n",
       "      <td>NaN</td>\n",
       "      <td>41225.00</td>\n",
       "    </tr>\n",
       "    <tr>\n",
       "      <th>6484</th>\n",
       "      <td>До и После</td>\n",
       "      <td>112014418</td>\n",
       "      <td>2018-12-05 12:00:00</td>\n",
       "      <td>Документальный</td>\n",
       "      <td>NaN</td>\n",
       "      <td>Россия</td>\n",
       "      <td>А.Новокреповская</td>\n",
       "      <td>А.Новокреповская</td>\n",
       "      <td>«6+» - для детей старше 6 лет</td>\n",
       "      <td>&lt;NA&gt;</td>\n",
       "      <td>&lt;NA&gt;</td>\n",
       "      <td>&lt;NA&gt;</td>\n",
       "      <td>NaN</td>\n",
       "      <td>6.90</td>\n",
       "      <td>драма,криминал,детектив</td>\n",
       "      <td>NaN</td>\n",
       "    </tr>\n",
       "    <tr>\n",
       "      <th>6493</th>\n",
       "      <td>Калмыцкий геше Нгаванг Вангьял</td>\n",
       "      <td>113002018</td>\n",
       "      <td>2018-12-05 12:00:00</td>\n",
       "      <td>Научно-популярный</td>\n",
       "      <td>NaN</td>\n",
       "      <td>Россия</td>\n",
       "      <td>И.Долгина</td>\n",
       "      <td>И.Долгина</td>\n",
       "      <td>«12+» - для детей старше 12 лет</td>\n",
       "      <td>&lt;NA&gt;</td>\n",
       "      <td>&lt;NA&gt;</td>\n",
       "      <td>&lt;NA&gt;</td>\n",
       "      <td>NaN</td>\n",
       "      <td>NaN</td>\n",
       "      <td>NaN</td>\n",
       "      <td>NaN</td>\n",
       "    </tr>\n",
       "    <tr>\n",
       "      <th>6496</th>\n",
       "      <td>Мой папа Чингисхан</td>\n",
       "      <td>112014918</td>\n",
       "      <td>2018-12-06 12:00:00</td>\n",
       "      <td>Документальный</td>\n",
       "      <td>NaN</td>\n",
       "      <td>Россия</td>\n",
       "      <td>А.Сайфуллина</td>\n",
       "      <td>А.Сайфуллина</td>\n",
       "      <td>«12+» - для детей старше 12 лет</td>\n",
       "      <td>&lt;NA&gt;</td>\n",
       "      <td>&lt;NA&gt;</td>\n",
       "      <td>&lt;NA&gt;</td>\n",
       "      <td>NaN</td>\n",
       "      <td>NaN</td>\n",
       "      <td>NaN</td>\n",
       "      <td>NaN</td>\n",
       "    </tr>\n",
       "    <tr>\n",
       "      <th>6497</th>\n",
       "      <td>В плену города грёз</td>\n",
       "      <td>112014818</td>\n",
       "      <td>2018-12-06 12:00:00</td>\n",
       "      <td>Документальный</td>\n",
       "      <td>NaN</td>\n",
       "      <td>Россия</td>\n",
       "      <td>В.Витовцев</td>\n",
       "      <td>О.Мичи</td>\n",
       "      <td>«18+» - запрещено для детей</td>\n",
       "      <td>&lt;NA&gt;</td>\n",
       "      <td>&lt;NA&gt;</td>\n",
       "      <td>&lt;NA&gt;</td>\n",
       "      <td>NaN</td>\n",
       "      <td>7.90</td>\n",
       "      <td>фантастика,боевик,триллер</td>\n",
       "      <td>NaN</td>\n",
       "    </tr>\n",
       "    <tr>\n",
       "      <th>6498</th>\n",
       "      <td>Последнее фото</td>\n",
       "      <td>112014518</td>\n",
       "      <td>2018-12-06 12:00:00</td>\n",
       "      <td>Документальный</td>\n",
       "      <td>NaN</td>\n",
       "      <td>Россия</td>\n",
       "      <td>Е.Севастьянов</td>\n",
       "      <td>Е.Севастьянов</td>\n",
       "      <td>«18+» - запрещено для детей</td>\n",
       "      <td>&lt;NA&gt;</td>\n",
       "      <td>&lt;NA&gt;</td>\n",
       "      <td>&lt;NA&gt;</td>\n",
       "      <td>NaN</td>\n",
       "      <td>NaN</td>\n",
       "      <td>NaN</td>\n",
       "      <td>NaN</td>\n",
       "    </tr>\n",
       "    <tr>\n",
       "      <th>6506</th>\n",
       "      <td>Мой селфхарм</td>\n",
       "      <td>113001918</td>\n",
       "      <td>2018-12-06 12:00:00</td>\n",
       "      <td>Научно-популярный</td>\n",
       "      <td>NaN</td>\n",
       "      <td>Россия</td>\n",
       "      <td>Я.Лаптев (псевдоним Яков Раскалов)</td>\n",
       "      <td>Я.Лаптев (псевдоним Яков Раскалов)</td>\n",
       "      <td>«18+» - запрещено для детей</td>\n",
       "      <td>&lt;NA&gt;</td>\n",
       "      <td>&lt;NA&gt;</td>\n",
       "      <td>&lt;NA&gt;</td>\n",
       "      <td>NaN</td>\n",
       "      <td>NaN</td>\n",
       "      <td>NaN</td>\n",
       "      <td>NaN</td>\n",
       "    </tr>\n",
       "    <tr>\n",
       "      <th>6510</th>\n",
       "      <td>Обстоятельства места и времени</td>\n",
       "      <td>112015018</td>\n",
       "      <td>2018-12-12 12:00:00</td>\n",
       "      <td>Документальный</td>\n",
       "      <td>NaN</td>\n",
       "      <td>Россия</td>\n",
       "      <td>Д.Кабаков</td>\n",
       "      <td>Д.Кабаков</td>\n",
       "      <td>«12+» - для детей старше 12 лет</td>\n",
       "      <td>&lt;NA&gt;</td>\n",
       "      <td>&lt;NA&gt;</td>\n",
       "      <td>&lt;NA&gt;</td>\n",
       "      <td>NaN</td>\n",
       "      <td>NaN</td>\n",
       "      <td>NaN</td>\n",
       "      <td>NaN</td>\n",
       "    </tr>\n",
       "    <tr>\n",
       "      <th>6637</th>\n",
       "      <td>Эрик Булатов. Моя Третьяковка, серии 1-2</td>\n",
       "      <td>113000319</td>\n",
       "      <td>2019-01-28 12:00:00</td>\n",
       "      <td>Научно-популярный</td>\n",
       "      <td>NaN</td>\n",
       "      <td>Россия</td>\n",
       "      <td>С.Гарькавый</td>\n",
       "      <td>Т.Пинская</td>\n",
       "      <td>«6+» - для детей старше 6 лет</td>\n",
       "      <td>&lt;NA&gt;</td>\n",
       "      <td>&lt;NA&gt;</td>\n",
       "      <td>&lt;NA&gt;</td>\n",
       "      <td>NaN</td>\n",
       "      <td>NaN</td>\n",
       "      <td>NaN</td>\n",
       "      <td>NaN</td>\n",
       "    </tr>\n",
       "    <tr>\n",
       "      <th>6638</th>\n",
       "      <td>Брови</td>\n",
       "      <td>111000719</td>\n",
       "      <td>2019-03-01 12:00:00</td>\n",
       "      <td>Художественный</td>\n",
       "      <td>NaN</td>\n",
       "      <td>Россия</td>\n",
       "      <td>О.Штром</td>\n",
       "      <td>В.Максимов, В.Степанов, Г.Киракосян, О.Штром</td>\n",
       "      <td>«16+» - для детей старше 16 лет</td>\n",
       "      <td>&lt;NA&gt;</td>\n",
       "      <td>&lt;NA&gt;</td>\n",
       "      <td>&lt;NA&gt;</td>\n",
       "      <td>NaN</td>\n",
       "      <td>NaN</td>\n",
       "      <td>NaN</td>\n",
       "      <td>NaN</td>\n",
       "    </tr>\n",
       "    <tr>\n",
       "      <th>6661</th>\n",
       "      <td>Топливо</td>\n",
       "      <td>111001419</td>\n",
       "      <td>2019-02-12 12:00:00</td>\n",
       "      <td>Художественный</td>\n",
       "      <td>NaN</td>\n",
       "      <td>Россия</td>\n",
       "      <td>М.Архипов</td>\n",
       "      <td>М.Архипов</td>\n",
       "      <td>«12+» - для детей старше 12 лет</td>\n",
       "      <td>&lt;NA&gt;</td>\n",
       "      <td>&lt;NA&gt;</td>\n",
       "      <td>&lt;NA&gt;</td>\n",
       "      <td>NaN</td>\n",
       "      <td>6.10</td>\n",
       "      <td>короткометражка,фантастика</td>\n",
       "      <td>NaN</td>\n",
       "    </tr>\n",
       "    <tr>\n",
       "      <th>6721</th>\n",
       "      <td>Путешествие в Париж</td>\n",
       "      <td>111002919</td>\n",
       "      <td>2019-03-01 12:00:00</td>\n",
       "      <td>Художественный</td>\n",
       "      <td>NaN</td>\n",
       "      <td>Россия</td>\n",
       "      <td>М.Олейник (псевдоним - Мария Полякова)</td>\n",
       "      <td>Н.Савко</td>\n",
       "      <td>«16+» - для детей старше 16 лет</td>\n",
       "      <td>&lt;NA&gt;</td>\n",
       "      <td>&lt;NA&gt;</td>\n",
       "      <td>&lt;NA&gt;</td>\n",
       "      <td>NaN</td>\n",
       "      <td>NaN</td>\n",
       "      <td>NaN</td>\n",
       "      <td>NaN</td>\n",
       "    </tr>\n",
       "  </tbody>\n",
       "</table>\n",
       "</div>"
      ],
      "text/plain": [
       "                                         title  pu_number     show_start_date  \\\n",
       "1293                           Stars in Shorts  121011114 2014-06-03 12:00:00   \n",
       "4440                  Мульт личности. Выпуск 5  214000410 2010-01-25 12:00:00   \n",
       "6104                              Значит любит  111013818 2018-08-10 12:00:00   \n",
       "6180                     Несейка. Младшая дочь  112007018 2018-09-01 12:00:00   \n",
       "6378                              Ян Антонышев  112011818 2018-11-15 12:00:00   \n",
       "6379                              Ян Антонышев  112011918 2018-11-15 12:00:00   \n",
       "6398                     Доживем до каникул?..  111021918 2018-11-15 12:00:00   \n",
       "6484                                До и После  112014418 2018-12-05 12:00:00   \n",
       "6493            Калмыцкий геше Нгаванг Вангьял  113002018 2018-12-05 12:00:00   \n",
       "6496                        Мой папа Чингисхан  112014918 2018-12-06 12:00:00   \n",
       "6497                       В плену города грёз  112014818 2018-12-06 12:00:00   \n",
       "6498                            Последнее фото  112014518 2018-12-06 12:00:00   \n",
       "6506                              Мой селфхарм  113001918 2018-12-06 12:00:00   \n",
       "6510            Обстоятельства места и времени  112015018 2018-12-12 12:00:00   \n",
       "6637  Эрик Булатов. Моя Третьяковка, серии 1-2  113000319 2019-01-28 12:00:00   \n",
       "6638                                     Брови  111000719 2019-03-01 12:00:00   \n",
       "6661                                   Топливо  111001419 2019-02-12 12:00:00   \n",
       "6721                       Путешествие в Париж  111002919 2019-03-01 12:00:00   \n",
       "\n",
       "                   type film_studio   production_country  \\\n",
       "1293     Художественный         NaN  США, Великобритания   \n",
       "4440     Художественный         NaN                  NaN   \n",
       "6104     Художественный         NaN               Россия   \n",
       "6180     Документальный         NaN               Россия   \n",
       "6378     Документальный         NaN               Россия   \n",
       "6379     Документальный         NaN               Россия   \n",
       "6398     Художественный         NaN               Россия   \n",
       "6484     Документальный         NaN               Россия   \n",
       "6493  Научно-популярный         NaN               Россия   \n",
       "6496     Документальный         NaN               Россия   \n",
       "6497     Документальный         NaN               Россия   \n",
       "6498     Документальный         NaN               Россия   \n",
       "6506  Научно-популярный         NaN               Россия   \n",
       "6510     Документальный         NaN               Россия   \n",
       "6637  Научно-популярный         NaN               Россия   \n",
       "6638     Художественный         NaN               Россия   \n",
       "6661     Художественный         NaN               Россия   \n",
       "6721     Художественный         NaN               Россия   \n",
       "\n",
       "                                               director  \\\n",
       "1293  Роберт Фестингер, Руперт Френд, Джей Камен, Ни...   \n",
       "4440                                                NaN   \n",
       "6104                                        А.Краевский   \n",
       "6180                                            В.Марин   \n",
       "6378                                          Е.Окопная   \n",
       "6379                                          Е.Окопная   \n",
       "6398              Я.Хальпукова (псевдоним Яна Мартынец)   \n",
       "6484                                   А.Новокреповская   \n",
       "6493                                          И.Долгина   \n",
       "6496                                       А.Сайфуллина   \n",
       "6497                                         В.Витовцев   \n",
       "6498                                      Е.Севастьянов   \n",
       "6506                 Я.Лаптев (псевдоним Яков Раскалов)   \n",
       "6510                                          Д.Кабаков   \n",
       "6637                                        С.Гарькавый   \n",
       "6638                                            О.Штром   \n",
       "6661                                          М.Архипов   \n",
       "6721             М.Олейник (псевдоним - Мария Полякова)   \n",
       "\n",
       "                                               producer  \\\n",
       "1293  Татьяна Келли, Роберта Мунро, Руперт Френд, До...   \n",
       "4440                                                NaN   \n",
       "6104                                        Е.Щербакова   \n",
       "6180                    Д.Якунин, Ф.Абрютин, О.Филонова   \n",
       "6378                                        Е.Герасимов   \n",
       "6379                                        Е.Герасимов   \n",
       "6398              Я.Хальпукова (псевдоним Яна Мартынец)   \n",
       "6484                                   А.Новокреповская   \n",
       "6493                                          И.Долгина   \n",
       "6496                                       А.Сайфуллина   \n",
       "6497                                             О.Мичи   \n",
       "6498                                      Е.Севастьянов   \n",
       "6506                 Я.Лаптев (псевдоним Яков Раскалов)   \n",
       "6510                                          Д.Кабаков   \n",
       "6637                                          Т.Пинская   \n",
       "6638       В.Максимов, В.Степанов, Г.Киракосян, О.Штром   \n",
       "6661                                          М.Архипов   \n",
       "6721                                            Н.Савко   \n",
       "\n",
       "                             age_restriction  refundable_support  \\\n",
       "1293         «16+» - для детей старше 16 лет                <NA>   \n",
       "4440  «0+» - для любой зрительской аудитории                <NA>   \n",
       "6104             «18+» - запрещено для детей                <NA>   \n",
       "6180           «6+» - для детей старше 6 лет                <NA>   \n",
       "6378         «12+» - для детей старше 12 лет                <NA>   \n",
       "6379         «12+» - для детей старше 12 лет                <NA>   \n",
       "6398         «12+» - для детей старше 12 лет                <NA>   \n",
       "6484           «6+» - для детей старше 6 лет                <NA>   \n",
       "6493         «12+» - для детей старше 12 лет                <NA>   \n",
       "6496         «12+» - для детей старше 12 лет                <NA>   \n",
       "6497             «18+» - запрещено для детей                <NA>   \n",
       "6498             «18+» - запрещено для детей                <NA>   \n",
       "6506             «18+» - запрещено для детей                <NA>   \n",
       "6510         «12+» - для детей старше 12 лет                <NA>   \n",
       "6637           «6+» - для детей старше 6 лет                <NA>   \n",
       "6638         «16+» - для детей старше 16 лет                <NA>   \n",
       "6661         «12+» - для детей старше 12 лет                <NA>   \n",
       "6721         «16+» - для детей старше 16 лет                <NA>   \n",
       "\n",
       "      nonrefundable_support  budget financing_source  ratings  \\\n",
       "1293                   <NA>    <NA>              NaN     7.30   \n",
       "4440                   <NA>    <NA>              NaN     4.00   \n",
       "6104                   <NA>    <NA>              NaN      NaN   \n",
       "6180                   <NA>    <NA>              NaN      NaN   \n",
       "6378                   <NA>    <NA>              NaN      NaN   \n",
       "6379                   <NA>    <NA>              NaN      NaN   \n",
       "6398                   <NA>    <NA>              NaN      NaN   \n",
       "6484                   <NA>    <NA>              NaN     6.90   \n",
       "6493                   <NA>    <NA>              NaN      NaN   \n",
       "6496                   <NA>    <NA>              NaN      NaN   \n",
       "6497                   <NA>    <NA>              NaN     7.90   \n",
       "6498                   <NA>    <NA>              NaN      NaN   \n",
       "6506                   <NA>    <NA>              NaN      NaN   \n",
       "6510                   <NA>    <NA>              NaN      NaN   \n",
       "6637                   <NA>    <NA>              NaN      NaN   \n",
       "6638                   <NA>    <NA>              NaN      NaN   \n",
       "6661                   <NA>    <NA>              NaN     6.10   \n",
       "6721                   <NA>    <NA>              NaN      NaN   \n",
       "\n",
       "                          genres  box_office  \n",
       "1293                     комедия         NaN  \n",
       "4440          мультфильм,комедия         NaN  \n",
       "6104                         NaN         NaN  \n",
       "6180                         NaN         NaN  \n",
       "6378                         NaN         NaN  \n",
       "6379                         NaN         NaN  \n",
       "6398                         NaN    41225.00  \n",
       "6484     драма,криминал,детектив         NaN  \n",
       "6493                         NaN         NaN  \n",
       "6496                         NaN         NaN  \n",
       "6497   фантастика,боевик,триллер         NaN  \n",
       "6498                         NaN         NaN  \n",
       "6506                         NaN         NaN  \n",
       "6510                         NaN         NaN  \n",
       "6637                         NaN         NaN  \n",
       "6638                         NaN         NaN  \n",
       "6661  короткометражка,фантастика         NaN  \n",
       "6721                         NaN         NaN  "
      ]
     },
     "execution_count": 23,
     "metadata": {},
     "output_type": "execute_result"
    }
   ],
   "source": [
    "data[data['film_studio'].isna()]"
   ]
  },
  {
   "cell_type": "code",
   "execution_count": 24,
   "metadata": {},
   "outputs": [
    {
     "data": {
      "text/html": [
       "<div>\n",
       "<style scoped>\n",
       "    .dataframe tbody tr th:only-of-type {\n",
       "        vertical-align: middle;\n",
       "    }\n",
       "\n",
       "    .dataframe tbody tr th {\n",
       "        vertical-align: top;\n",
       "    }\n",
       "\n",
       "    .dataframe thead th {\n",
       "        text-align: right;\n",
       "    }\n",
       "</style>\n",
       "<table border=\"1\" class=\"dataframe\">\n",
       "  <thead>\n",
       "    <tr style=\"text-align: right;\">\n",
       "      <th></th>\n",
       "      <th>title</th>\n",
       "      <th>pu_number</th>\n",
       "      <th>show_start_date</th>\n",
       "      <th>type</th>\n",
       "      <th>film_studio</th>\n",
       "      <th>production_country</th>\n",
       "      <th>director</th>\n",
       "      <th>producer</th>\n",
       "      <th>age_restriction</th>\n",
       "      <th>refundable_support</th>\n",
       "      <th>nonrefundable_support</th>\n",
       "      <th>budget</th>\n",
       "      <th>financing_source</th>\n",
       "      <th>ratings</th>\n",
       "      <th>genres</th>\n",
       "      <th>box_office</th>\n",
       "    </tr>\n",
       "  </thead>\n",
       "  <tbody>\n",
       "    <tr>\n",
       "      <th>3185</th>\n",
       "      <td>Детский юмористический киножурнал \"Ералаш. Ну ...</td>\n",
       "      <td>111001216</td>\n",
       "      <td>2016-02-09 12:00:00</td>\n",
       "      <td>Художественный</td>\n",
       "      <td>ООО \"Продюсерский центр ЕРАЛАШ\"</td>\n",
       "      <td>NaN</td>\n",
       "      <td>Р.Светлов, И.Магитон, А.Арутюнян, Л.Мирский, А...</td>\n",
       "      <td>ООО \"Продюсерский центр ЕРАЛАШ\"</td>\n",
       "      <td>«0+» - для любой зрительской аудитории</td>\n",
       "      <td>&lt;NA&gt;</td>\n",
       "      <td>&lt;NA&gt;</td>\n",
       "      <td>&lt;NA&gt;</td>\n",
       "      <td>NaN</td>\n",
       "      <td>7.20</td>\n",
       "      <td>детский,комедия</td>\n",
       "      <td>194527.00</td>\n",
       "    </tr>\n",
       "    <tr>\n",
       "      <th>4440</th>\n",
       "      <td>Мульт личности. Выпуск 5</td>\n",
       "      <td>214000410</td>\n",
       "      <td>2010-01-25 12:00:00</td>\n",
       "      <td>Художественный</td>\n",
       "      <td>NaN</td>\n",
       "      <td>NaN</td>\n",
       "      <td>NaN</td>\n",
       "      <td>NaN</td>\n",
       "      <td>«0+» - для любой зрительской аудитории</td>\n",
       "      <td>&lt;NA&gt;</td>\n",
       "      <td>&lt;NA&gt;</td>\n",
       "      <td>&lt;NA&gt;</td>\n",
       "      <td>NaN</td>\n",
       "      <td>4.00</td>\n",
       "      <td>мультфильм,комедия</td>\n",
       "      <td>NaN</td>\n",
       "    </tr>\n",
       "  </tbody>\n",
       "</table>\n",
       "</div>"
      ],
      "text/plain": [
       "                                                  title  pu_number  \\\n",
       "3185  Детский юмористический киножурнал \"Ералаш. Ну ...  111001216   \n",
       "4440                           Мульт личности. Выпуск 5  214000410   \n",
       "\n",
       "         show_start_date            type                      film_studio  \\\n",
       "3185 2016-02-09 12:00:00  Художественный  ООО \"Продюсерский центр ЕРАЛАШ\"   \n",
       "4440 2010-01-25 12:00:00  Художественный                              NaN   \n",
       "\n",
       "     production_country                                           director  \\\n",
       "3185                NaN  Р.Светлов, И.Магитон, А.Арутюнян, Л.Мирский, А...   \n",
       "4440                NaN                                                NaN   \n",
       "\n",
       "                             producer                         age_restriction  \\\n",
       "3185  ООО \"Продюсерский центр ЕРАЛАШ\"  «0+» - для любой зрительской аудитории   \n",
       "4440                              NaN  «0+» - для любой зрительской аудитории   \n",
       "\n",
       "      refundable_support  nonrefundable_support  budget financing_source  \\\n",
       "3185                <NA>                   <NA>    <NA>              NaN   \n",
       "4440                <NA>                   <NA>    <NA>              NaN   \n",
       "\n",
       "      ratings              genres  box_office  \n",
       "3185     7.20     детский,комедия   194527.00  \n",
       "4440     4.00  мультфильм,комедия         NaN  "
      ]
     },
     "execution_count": 24,
     "metadata": {},
     "output_type": "execute_result"
    }
   ],
   "source": [
    "data[data['production_country'].isna()]"
   ]
  },
  {
   "cell_type": "code",
   "execution_count": 25,
   "metadata": {
    "scrolled": true
   },
   "outputs": [
    {
     "data": {
      "text/html": [
       "<div>\n",
       "<style scoped>\n",
       "    .dataframe tbody tr th:only-of-type {\n",
       "        vertical-align: middle;\n",
       "    }\n",
       "\n",
       "    .dataframe tbody tr th {\n",
       "        vertical-align: top;\n",
       "    }\n",
       "\n",
       "    .dataframe thead th {\n",
       "        text-align: right;\n",
       "    }\n",
       "</style>\n",
       "<table border=\"1\" class=\"dataframe\">\n",
       "  <thead>\n",
       "    <tr style=\"text-align: right;\">\n",
       "      <th></th>\n",
       "      <th>title</th>\n",
       "      <th>pu_number</th>\n",
       "      <th>show_start_date</th>\n",
       "      <th>type</th>\n",
       "      <th>film_studio</th>\n",
       "      <th>production_country</th>\n",
       "      <th>director</th>\n",
       "      <th>producer</th>\n",
       "      <th>age_restriction</th>\n",
       "      <th>refundable_support</th>\n",
       "      <th>nonrefundable_support</th>\n",
       "      <th>budget</th>\n",
       "      <th>financing_source</th>\n",
       "      <th>ratings</th>\n",
       "      <th>genres</th>\n",
       "      <th>box_office</th>\n",
       "    </tr>\n",
       "  </thead>\n",
       "  <tbody>\n",
       "    <tr>\n",
       "      <th>764</th>\n",
       "      <td>Три звезды. Концерт в Waldbuhne Theater, Берли...</td>\n",
       "      <td>126003512</td>\n",
       "      <td>2012-12-04 12:00:00</td>\n",
       "      <td>Прочие</td>\n",
       "      <td>Райзинг Алтернатив</td>\n",
       "      <td>Великобритания</td>\n",
       "      <td>NaN</td>\n",
       "      <td>Вальдбюне Театр</td>\n",
       "      <td>«0+» - для любой зрительской аудитории</td>\n",
       "      <td>&lt;NA&gt;</td>\n",
       "      <td>&lt;NA&gt;</td>\n",
       "      <td>&lt;NA&gt;</td>\n",
       "      <td>NaN</td>\n",
       "      <td>NaN</td>\n",
       "      <td>NaN</td>\n",
       "      <td>44350.00</td>\n",
       "    </tr>\n",
       "    <tr>\n",
       "      <th>1735</th>\n",
       "      <td>Помпеи. Британский музей</td>\n",
       "      <td>126003413</td>\n",
       "      <td>2013-09-11 12:00:00</td>\n",
       "      <td>Прочие</td>\n",
       "      <td>МортуСкрин, Британский музей</td>\n",
       "      <td>Великобритания</td>\n",
       "      <td>NaN</td>\n",
       "      <td>Британский музей</td>\n",
       "      <td>«0+» - для любой зрительской аудитории</td>\n",
       "      <td>&lt;NA&gt;</td>\n",
       "      <td>&lt;NA&gt;</td>\n",
       "      <td>&lt;NA&gt;</td>\n",
       "      <td>NaN</td>\n",
       "      <td>NaN</td>\n",
       "      <td>NaN</td>\n",
       "      <td>NaN</td>\n",
       "    </tr>\n",
       "    <tr>\n",
       "      <th>3839</th>\n",
       "      <td>Зур концерт (Большой концерт).</td>\n",
       "      <td>217027010</td>\n",
       "      <td>2010-06-24 12:00:00</td>\n",
       "      <td>Художественный</td>\n",
       "      <td>ООО \"Барс Рекордс\"</td>\n",
       "      <td>Россия</td>\n",
       "      <td>NaN</td>\n",
       "      <td>NaN</td>\n",
       "      <td>«12+» - для детей старше 12 лет</td>\n",
       "      <td>&lt;NA&gt;</td>\n",
       "      <td>&lt;NA&gt;</td>\n",
       "      <td>&lt;NA&gt;</td>\n",
       "      <td>NaN</td>\n",
       "      <td>NaN</td>\n",
       "      <td>NaN</td>\n",
       "      <td>NaN</td>\n",
       "    </tr>\n",
       "    <tr>\n",
       "      <th>4051</th>\n",
       "      <td>Ганс Сэйфуллин \"Авылым чишмэлэре. Ганс Сэйфулл...</td>\n",
       "      <td>217017310</td>\n",
       "      <td>2010-04-22 12:00:00</td>\n",
       "      <td>Художественный</td>\n",
       "      <td>ООО \"Барс-Рекордс\"</td>\n",
       "      <td>Россия</td>\n",
       "      <td>NaN</td>\n",
       "      <td>NaN</td>\n",
       "      <td>«0+» - для любой зрительской аудитории</td>\n",
       "      <td>&lt;NA&gt;</td>\n",
       "      <td>&lt;NA&gt;</td>\n",
       "      <td>&lt;NA&gt;</td>\n",
       "      <td>NaN</td>\n",
       "      <td>NaN</td>\n",
       "      <td>NaN</td>\n",
       "      <td>NaN</td>\n",
       "    </tr>\n",
       "    <tr>\n",
       "      <th>4297</th>\n",
       "      <td>Изге Вэли (Святой Валентин)</td>\n",
       "      <td>217020610</td>\n",
       "      <td>2010-05-20 12:00:00</td>\n",
       "      <td>Художественный</td>\n",
       "      <td>ООО \"Барс Рекордс\"</td>\n",
       "      <td>Россия</td>\n",
       "      <td>NaN</td>\n",
       "      <td>NaN</td>\n",
       "      <td>«12+» - для детей старше 12 лет</td>\n",
       "      <td>&lt;NA&gt;</td>\n",
       "      <td>&lt;NA&gt;</td>\n",
       "      <td>&lt;NA&gt;</td>\n",
       "      <td>NaN</td>\n",
       "      <td>NaN</td>\n",
       "      <td>NaN</td>\n",
       "      <td>NaN</td>\n",
       "    </tr>\n",
       "    <tr>\n",
       "      <th>4414</th>\n",
       "      <td>Bon Jovi. The Circle Tour</td>\n",
       "      <td>126001710</td>\n",
       "      <td>2010-11-11 12:00:00</td>\n",
       "      <td>Прочие</td>\n",
       "      <td>Эншутц Интертейнмент Груп</td>\n",
       "      <td>США</td>\n",
       "      <td>NaN</td>\n",
       "      <td>Эншутц Интертейнмент Груп</td>\n",
       "      <td>«0+» - для любой зрительской аудитории</td>\n",
       "      <td>&lt;NA&gt;</td>\n",
       "      <td>&lt;NA&gt;</td>\n",
       "      <td>&lt;NA&gt;</td>\n",
       "      <td>NaN</td>\n",
       "      <td>7.90</td>\n",
       "      <td>концерт,музыка</td>\n",
       "      <td>NaN</td>\n",
       "    </tr>\n",
       "    <tr>\n",
       "      <th>4440</th>\n",
       "      <td>Мульт личности. Выпуск 5</td>\n",
       "      <td>214000410</td>\n",
       "      <td>2010-01-25 12:00:00</td>\n",
       "      <td>Художественный</td>\n",
       "      <td>NaN</td>\n",
       "      <td>NaN</td>\n",
       "      <td>NaN</td>\n",
       "      <td>NaN</td>\n",
       "      <td>«0+» - для любой зрительской аудитории</td>\n",
       "      <td>&lt;NA&gt;</td>\n",
       "      <td>&lt;NA&gt;</td>\n",
       "      <td>&lt;NA&gt;</td>\n",
       "      <td>NaN</td>\n",
       "      <td>4.00</td>\n",
       "      <td>мультфильм,комедия</td>\n",
       "      <td>NaN</td>\n",
       "    </tr>\n",
       "    <tr>\n",
       "      <th>4922</th>\n",
       "      <td>Георг Фридрих Гендель. Мессия. Оратория. Корол...</td>\n",
       "      <td>126001111</td>\n",
       "      <td>2011-04-25 12:00:00</td>\n",
       "      <td>Прочие</td>\n",
       "      <td>Опус Арт</td>\n",
       "      <td>Великобритания</td>\n",
       "      <td>NaN</td>\n",
       "      <td>Короевский колледж Кембриджа</td>\n",
       "      <td>«0+» - для любой зрительской аудитории</td>\n",
       "      <td>&lt;NA&gt;</td>\n",
       "      <td>&lt;NA&gt;</td>\n",
       "      <td>&lt;NA&gt;</td>\n",
       "      <td>NaN</td>\n",
       "      <td>NaN</td>\n",
       "      <td>NaN</td>\n",
       "      <td>NaN</td>\n",
       "    </tr>\n",
       "    <tr>\n",
       "      <th>4941</th>\n",
       "      <td>Питер Гэбриэл и New Blood Orchestra 3D</td>\n",
       "      <td>126002711</td>\n",
       "      <td>2011-11-11 12:00:00</td>\n",
       "      <td>Прочие</td>\n",
       "      <td>Омниверс Визион</td>\n",
       "      <td>Великобритания</td>\n",
       "      <td>NaN</td>\n",
       "      <td>Омниверс Визион</td>\n",
       "      <td>«0+» - для любой зрительской аудитории</td>\n",
       "      <td>&lt;NA&gt;</td>\n",
       "      <td>&lt;NA&gt;</td>\n",
       "      <td>&lt;NA&gt;</td>\n",
       "      <td>NaN</td>\n",
       "      <td>6.70</td>\n",
       "      <td>концерт,музыка</td>\n",
       "      <td>NaN</td>\n",
       "    </tr>\n",
       "  </tbody>\n",
       "</table>\n",
       "</div>"
      ],
      "text/plain": [
       "                                                  title  pu_number  \\\n",
       "764   Три звезды. Концерт в Waldbuhne Theater, Берли...  126003512   \n",
       "1735                           Помпеи. Британский музей  126003413   \n",
       "3839                     Зур концерт (Большой концерт).  217027010   \n",
       "4051  Ганс Сэйфуллин \"Авылым чишмэлэре. Ганс Сэйфулл...  217017310   \n",
       "4297                        Изге Вэли (Святой Валентин)  217020610   \n",
       "4414                          Bon Jovi. The Circle Tour  126001710   \n",
       "4440                           Мульт личности. Выпуск 5  214000410   \n",
       "4922  Георг Фридрих Гендель. Мессия. Оратория. Корол...  126001111   \n",
       "4941             Питер Гэбриэл и New Blood Orchestra 3D  126002711   \n",
       "\n",
       "         show_start_date            type                   film_studio  \\\n",
       "764  2012-12-04 12:00:00          Прочие            Райзинг Алтернатив   \n",
       "1735 2013-09-11 12:00:00          Прочие  МортуСкрин, Британский музей   \n",
       "3839 2010-06-24 12:00:00  Художественный            ООО \"Барс Рекордс\"   \n",
       "4051 2010-04-22 12:00:00  Художественный            ООО \"Барс-Рекордс\"   \n",
       "4297 2010-05-20 12:00:00  Художественный            ООО \"Барс Рекордс\"   \n",
       "4414 2010-11-11 12:00:00          Прочие     Эншутц Интертейнмент Груп   \n",
       "4440 2010-01-25 12:00:00  Художественный                           NaN   \n",
       "4922 2011-04-25 12:00:00          Прочие                      Опус Арт   \n",
       "4941 2011-11-11 12:00:00          Прочие               Омниверс Визион   \n",
       "\n",
       "     production_country director                      producer  \\\n",
       "764      Великобритания      NaN               Вальдбюне Театр   \n",
       "1735     Великобритания      NaN              Британский музей   \n",
       "3839             Россия      NaN                           NaN   \n",
       "4051             Россия      NaN                           NaN   \n",
       "4297             Россия      NaN                           NaN   \n",
       "4414                США      NaN     Эншутц Интертейнмент Груп   \n",
       "4440                NaN      NaN                           NaN   \n",
       "4922     Великобритания      NaN  Короевский колледж Кембриджа   \n",
       "4941     Великобритания      NaN               Омниверс Визион   \n",
       "\n",
       "                             age_restriction  refundable_support  \\\n",
       "764   «0+» - для любой зрительской аудитории                <NA>   \n",
       "1735  «0+» - для любой зрительской аудитории                <NA>   \n",
       "3839         «12+» - для детей старше 12 лет                <NA>   \n",
       "4051  «0+» - для любой зрительской аудитории                <NA>   \n",
       "4297         «12+» - для детей старше 12 лет                <NA>   \n",
       "4414  «0+» - для любой зрительской аудитории                <NA>   \n",
       "4440  «0+» - для любой зрительской аудитории                <NA>   \n",
       "4922  «0+» - для любой зрительской аудитории                <NA>   \n",
       "4941  «0+» - для любой зрительской аудитории                <NA>   \n",
       "\n",
       "      nonrefundable_support  budget financing_source  ratings  \\\n",
       "764                    <NA>    <NA>              NaN      NaN   \n",
       "1735                   <NA>    <NA>              NaN      NaN   \n",
       "3839                   <NA>    <NA>              NaN      NaN   \n",
       "4051                   <NA>    <NA>              NaN      NaN   \n",
       "4297                   <NA>    <NA>              NaN      NaN   \n",
       "4414                   <NA>    <NA>              NaN     7.90   \n",
       "4440                   <NA>    <NA>              NaN     4.00   \n",
       "4922                   <NA>    <NA>              NaN      NaN   \n",
       "4941                   <NA>    <NA>              NaN     6.70   \n",
       "\n",
       "                  genres  box_office  \n",
       "764                  NaN    44350.00  \n",
       "1735                 NaN         NaN  \n",
       "3839                 NaN         NaN  \n",
       "4051                 NaN         NaN  \n",
       "4297                 NaN         NaN  \n",
       "4414      концерт,музыка         NaN  \n",
       "4440  мультфильм,комедия         NaN  \n",
       "4922                 NaN         NaN  \n",
       "4941      концерт,музыка         NaN  "
      ]
     },
     "execution_count": 25,
     "metadata": {},
     "output_type": "execute_result"
    }
   ],
   "source": [
    "data[data['director'].isna()]"
   ]
  },
  {
   "cell_type": "markdown",
   "metadata": {},
   "source": [
    "Данные в столбцах **'film_studio'**, **'director'** нам заполнить нечем, слишком мало данных, заполним значением **'unknown'**. А вот в столбце **'production_country'** для **'Ералаш'** мы можем заполнить страну как Россия."
   ]
  },
  {
   "cell_type": "code",
   "execution_count": 26,
   "metadata": {},
   "outputs": [],
   "source": [
    "data.loc[data['pu_number'] == 111001216, 'production_country'] = 'Россия'"
   ]
  },
  {
   "cell_type": "markdown",
   "metadata": {},
   "source": [
    "По данным в столбце **'producer'**, и оставшийся пропуск в столбце **'production_country'** аналогично нам заполнить нечем, также заполним **'unknown'**."
   ]
  },
  {
   "cell_type": "code",
   "execution_count": 27,
   "metadata": {},
   "outputs": [],
   "source": [
    "columns_to_fill = [ 'film_studio', 'director', 'producer', 'production_country']\n",
    "data[columns_to_fill] = data[columns_to_fill].fillna('unknown')"
   ]
  },
  {
   "cell_type": "markdown",
   "metadata": {},
   "source": [
    "Расмотрим пропуски в столбцах **'refundable_support'**, **'nonrefundable_support'**, **'budget'** и **'financing_source'**\n",
    "\n",
    "Судя по описанию <b>\"...столбец budget уже включает в себя полный объём государственной поддержки. Данные в этом столбце указаны только для тех фильмов, которые получили государственную поддержку. \"</b>.\n",
    "\n",
    "Соответственно, данные во всех четырех столбцах связаны, что также потверждает общее количество пропущенных значений. Отсюда следует, что раз пропущено значение в столбце **'budget'**, значит государственная поддержка для данного фильма равна **'0'**, как и в остальных столбцах, кроме **'financing_source'**.\n",
    "В столбце **'financing_source'** мы пропуски заполним словом 'нет'."
   ]
  },
  {
   "cell_type": "code",
   "execution_count": 28,
   "metadata": {},
   "outputs": [],
   "source": [
    "columns_to_fill = ['refundable_support', 'nonrefundable_support', 'budget']\n",
    "data[columns_to_fill] = data[columns_to_fill].fillna(0)"
   ]
  },
  {
   "cell_type": "code",
   "execution_count": 29,
   "metadata": {},
   "outputs": [],
   "source": [
    "data['financing_source'] = data['financing_source'].fillna('нет')"
   ]
  },
  {
   "cell_type": "markdown",
   "metadata": {},
   "source": [
    "По столбцам **'ratings', 'genres'** у нас нет данных, посмоторим на распределение рейтингов по имеющимся данным. А пропуски в столбце **'genres'** заполним на значение **'unknown'**."
   ]
  },
  {
   "cell_type": "code",
   "execution_count": 30,
   "metadata": {},
   "outputs": [],
   "source": [
    "data['genres'] = data['genres'].fillna('unknown')"
   ]
  },
  {
   "cell_type": "code",
   "execution_count": 31,
   "metadata": {
    "scrolled": true
   },
   "outputs": [
    {
     "data": {
      "image/png": "[encoded data removed]",
      "text/plain": [
       "<Figure size 576x432 with 1 Axes>"
      ]
     },
     "metadata": {
      "needs_background": "light"
     },
     "output_type": "display_data"
    },
    {
     "data": {
      "text/plain": [
       "count   6519.00\n",
       "mean       6.49\n",
       "std        1.11\n",
       "min        1.00\n",
       "25%        5.90\n",
       "50%        6.60\n",
       "75%        7.20\n",
       "max        9.90\n",
       "Name: ratings, dtype: float64"
      ]
     },
     "execution_count": 31,
     "metadata": {},
     "output_type": "execute_result"
    }
   ],
   "source": [
    "data['ratings'].plot(grid=True, kind='box', figsize=(8, 6))\n",
    "plt.title('Диаграмма размаха рейтингов', size=14)\n",
    "plt.boxplot(data['ratings'], labels=[''])\n",
    "plt.ylabel('Рейтинг', size=14)\n",
    "plt.xticks(fontsize=14)\n",
    "plt.show()\n",
    "data['ratings'].describe()"
   ]
  },
  {
   "cell_type": "markdown",
   "metadata": {},
   "source": [
    "Медианное значение рейтингов 6,6. Посмотрим на распределение рейтингов в зависимости от группировки по столбцам **'age_restriction', 'type', 'genres'**"
   ]
  },
  {
   "cell_type": "code",
   "execution_count": 32,
   "metadata": {},
   "outputs": [
    {
     "data": {
      "text/html": [
       "<div>\n",
       "<style scoped>\n",
       "    .dataframe tbody tr th:only-of-type {\n",
       "        vertical-align: middle;\n",
       "    }\n",
       "\n",
       "    .dataframe tbody tr th {\n",
       "        vertical-align: top;\n",
       "    }\n",
       "\n",
       "    .dataframe thead th {\n",
       "        text-align: right;\n",
       "    }\n",
       "</style>\n",
       "<table border=\"1\" class=\"dataframe\">\n",
       "  <thead>\n",
       "    <tr style=\"text-align: right;\">\n",
       "      <th></th>\n",
       "      <th>count</th>\n",
       "      <th>mean</th>\n",
       "      <th>std</th>\n",
       "      <th>min</th>\n",
       "      <th>25%</th>\n",
       "      <th>50%</th>\n",
       "      <th>75%</th>\n",
       "      <th>max</th>\n",
       "    </tr>\n",
       "    <tr>\n",
       "      <th>age_restriction</th>\n",
       "      <th></th>\n",
       "      <th></th>\n",
       "      <th></th>\n",
       "      <th></th>\n",
       "      <th></th>\n",
       "      <th></th>\n",
       "      <th></th>\n",
       "      <th></th>\n",
       "    </tr>\n",
       "  </thead>\n",
       "  <tbody>\n",
       "    <tr>\n",
       "      <th>«0+» - для любой зрительской аудитории</th>\n",
       "      <td>468.00</td>\n",
       "      <td>6.55</td>\n",
       "      <td>1.46</td>\n",
       "      <td>1.20</td>\n",
       "      <td>5.80</td>\n",
       "      <td>6.90</td>\n",
       "      <td>7.60</td>\n",
       "      <td>9.90</td>\n",
       "    </tr>\n",
       "    <tr>\n",
       "      <th>«12+» - для детей старше 12 лет</th>\n",
       "      <td>1348.00</td>\n",
       "      <td>6.67</td>\n",
       "      <td>1.07</td>\n",
       "      <td>1.60</td>\n",
       "      <td>6.10</td>\n",
       "      <td>6.80</td>\n",
       "      <td>7.40</td>\n",
       "      <td>9.90</td>\n",
       "    </tr>\n",
       "    <tr>\n",
       "      <th>«16+» - для детей старше 16 лет</th>\n",
       "      <td>2663.00</td>\n",
       "      <td>6.47</td>\n",
       "      <td>1.04</td>\n",
       "      <td>1.10</td>\n",
       "      <td>5.90</td>\n",
       "      <td>6.60</td>\n",
       "      <td>7.20</td>\n",
       "      <td>9.90</td>\n",
       "    </tr>\n",
       "    <tr>\n",
       "      <th>«18+» - запрещено для детей</th>\n",
       "      <td>1512.00</td>\n",
       "      <td>6.30</td>\n",
       "      <td>1.10</td>\n",
       "      <td>1.50</td>\n",
       "      <td>5.60</td>\n",
       "      <td>6.40</td>\n",
       "      <td>7.10</td>\n",
       "      <td>9.40</td>\n",
       "    </tr>\n",
       "    <tr>\n",
       "      <th>«6+» - для детей старше 6 лет</th>\n",
       "      <td>528.00</td>\n",
       "      <td>6.56</td>\n",
       "      <td>1.20</td>\n",
       "      <td>1.00</td>\n",
       "      <td>5.88</td>\n",
       "      <td>6.70</td>\n",
       "      <td>7.40</td>\n",
       "      <td>9.90</td>\n",
       "    </tr>\n",
       "  </tbody>\n",
       "</table>\n",
       "</div>"
      ],
      "text/plain": [
       "                                         count  mean  std  min  25%  50%  75%  \\\n",
       "age_restriction                                                                 \n",
       "«0+» - для любой зрительской аудитории  468.00  6.55 1.46 1.20 5.80 6.90 7.60   \n",
       "«12+» - для детей старше 12 лет        1348.00  6.67 1.07 1.60 6.10 6.80 7.40   \n",
       "«16+» - для детей старше 16 лет        2663.00  6.47 1.04 1.10 5.90 6.60 7.20   \n",
       "«18+» - запрещено для детей            1512.00  6.30 1.10 1.50 5.60 6.40 7.10   \n",
       "«6+» - для детей старше 6 лет           528.00  6.56 1.20 1.00 5.88 6.70 7.40   \n",
       "\n",
       "                                        max  \n",
       "age_restriction                              \n",
       "«0+» - для любой зрительской аудитории 9.90  \n",
       "«12+» - для детей старше 12 лет        9.90  \n",
       "«16+» - для детей старше 16 лет        9.90  \n",
       "«18+» - запрещено для детей            9.40  \n",
       "«6+» - для детей старше 6 лет          9.90  "
      ]
     },
     "execution_count": 32,
     "metadata": {},
     "output_type": "execute_result"
    }
   ],
   "source": [
    "data.groupby('age_restriction')['ratings'].describe()"
   ]
  },
  {
   "cell_type": "markdown",
   "metadata": {},
   "source": [
    "Здесь у нас особо не изменяется медианное значение по группам аудиторий, медианое значение находится в пределах `6,4-6,9`."
   ]
  },
  {
   "cell_type": "code",
   "execution_count": 33,
   "metadata": {},
   "outputs": [
    {
     "data": {
      "text/html": [
       "<div>\n",
       "<style scoped>\n",
       "    .dataframe tbody tr th:only-of-type {\n",
       "        vertical-align: middle;\n",
       "    }\n",
       "\n",
       "    .dataframe tbody tr th {\n",
       "        vertical-align: top;\n",
       "    }\n",
       "\n",
       "    .dataframe thead th {\n",
       "        text-align: right;\n",
       "    }\n",
       "</style>\n",
       "<table border=\"1\" class=\"dataframe\">\n",
       "  <thead>\n",
       "    <tr style=\"text-align: right;\">\n",
       "      <th></th>\n",
       "      <th>count</th>\n",
       "      <th>mean</th>\n",
       "      <th>std</th>\n",
       "      <th>min</th>\n",
       "      <th>25%</th>\n",
       "      <th>50%</th>\n",
       "      <th>75%</th>\n",
       "      <th>max</th>\n",
       "    </tr>\n",
       "    <tr>\n",
       "      <th>type</th>\n",
       "      <th></th>\n",
       "      <th></th>\n",
       "      <th></th>\n",
       "      <th></th>\n",
       "      <th></th>\n",
       "      <th></th>\n",
       "      <th></th>\n",
       "      <th></th>\n",
       "    </tr>\n",
       "  </thead>\n",
       "  <tbody>\n",
       "    <tr>\n",
       "      <th>Анимационный</th>\n",
       "      <td>1.00</td>\n",
       "      <td>6.40</td>\n",
       "      <td>NaN</td>\n",
       "      <td>6.40</td>\n",
       "      <td>6.40</td>\n",
       "      <td>6.40</td>\n",
       "      <td>6.40</td>\n",
       "      <td>6.40</td>\n",
       "    </tr>\n",
       "    <tr>\n",
       "      <th>Художественный</th>\n",
       "      <td>1234.00</td>\n",
       "      <td>6.36</td>\n",
       "      <td>1.02</td>\n",
       "      <td>1.60</td>\n",
       "      <td>5.70</td>\n",
       "      <td>6.40</td>\n",
       "      <td>7.00</td>\n",
       "      <td>9.80</td>\n",
       "    </tr>\n",
       "    <tr>\n",
       "      <th>Анимационный</th>\n",
       "      <td>570.00</td>\n",
       "      <td>6.33</td>\n",
       "      <td>1.38</td>\n",
       "      <td>1.30</td>\n",
       "      <td>5.60</td>\n",
       "      <td>6.50</td>\n",
       "      <td>7.40</td>\n",
       "      <td>9.70</td>\n",
       "    </tr>\n",
       "    <tr>\n",
       "      <th>Документальный</th>\n",
       "      <td>162.00</td>\n",
       "      <td>7.00</td>\n",
       "      <td>1.00</td>\n",
       "      <td>3.20</td>\n",
       "      <td>6.40</td>\n",
       "      <td>7.10</td>\n",
       "      <td>7.70</td>\n",
       "      <td>9.90</td>\n",
       "    </tr>\n",
       "    <tr>\n",
       "      <th>Музыкально-развлекательный</th>\n",
       "      <td>1.00</td>\n",
       "      <td>6.90</td>\n",
       "      <td>NaN</td>\n",
       "      <td>6.90</td>\n",
       "      <td>6.90</td>\n",
       "      <td>6.90</td>\n",
       "      <td>6.90</td>\n",
       "      <td>6.90</td>\n",
       "    </tr>\n",
       "    <tr>\n",
       "      <th>Научно-популярный</th>\n",
       "      <td>35.00</td>\n",
       "      <td>7.05</td>\n",
       "      <td>1.10</td>\n",
       "      <td>3.70</td>\n",
       "      <td>6.85</td>\n",
       "      <td>7.30</td>\n",
       "      <td>7.70</td>\n",
       "      <td>8.50</td>\n",
       "    </tr>\n",
       "    <tr>\n",
       "      <th>Прочие</th>\n",
       "      <td>210.00</td>\n",
       "      <td>7.10</td>\n",
       "      <td>1.01</td>\n",
       "      <td>1.60</td>\n",
       "      <td>6.62</td>\n",
       "      <td>7.20</td>\n",
       "      <td>7.80</td>\n",
       "      <td>8.80</td>\n",
       "    </tr>\n",
       "    <tr>\n",
       "      <th>Художественный</th>\n",
       "      <td>4306.00</td>\n",
       "      <td>6.49</td>\n",
       "      <td>1.09</td>\n",
       "      <td>1.00</td>\n",
       "      <td>5.90</td>\n",
       "      <td>6.60</td>\n",
       "      <td>7.20</td>\n",
       "      <td>9.90</td>\n",
       "    </tr>\n",
       "  </tbody>\n",
       "</table>\n",
       "</div>"
      ],
      "text/plain": [
       "                             count  mean  std  min  25%  50%  75%  max\n",
       "type                                                                  \n",
       " Анимационный                 1.00  6.40  NaN 6.40 6.40 6.40 6.40 6.40\n",
       " Художественный            1234.00  6.36 1.02 1.60 5.70 6.40 7.00 9.80\n",
       "Анимационный                570.00  6.33 1.38 1.30 5.60 6.50 7.40 9.70\n",
       "Документальный              162.00  7.00 1.00 3.20 6.40 7.10 7.70 9.90\n",
       "Музыкально-развлекательный    1.00  6.90  NaN 6.90 6.90 6.90 6.90 6.90\n",
       "Научно-популярный            35.00  7.05 1.10 3.70 6.85 7.30 7.70 8.50\n",
       "Прочие                      210.00  7.10 1.01 1.60 6.62 7.20 7.80 8.80\n",
       "Художественный             4306.00  6.49 1.09 1.00 5.90 6.60 7.20 9.90"
      ]
     },
     "execution_count": 33,
     "metadata": {},
     "output_type": "execute_result"
    }
   ],
   "source": [
    "data.groupby('type')['ratings'].describe()"
   ]
  },
  {
   "cell_type": "markdown",
   "metadata": {},
   "source": [
    "Есть небольшие изменения медианного значения в зависимости от типа фильма."
   ]
  },
  {
   "cell_type": "code",
   "execution_count": 34,
   "metadata": {},
   "outputs": [
    {
     "data": {
      "text/html": [
       "<div>\n",
       "<style scoped>\n",
       "    .dataframe tbody tr th:only-of-type {\n",
       "        vertical-align: middle;\n",
       "    }\n",
       "\n",
       "    .dataframe tbody tr th {\n",
       "        vertical-align: top;\n",
       "    }\n",
       "\n",
       "    .dataframe thead th {\n",
       "        text-align: right;\n",
       "    }\n",
       "</style>\n",
       "<table border=\"1\" class=\"dataframe\">\n",
       "  <thead>\n",
       "    <tr style=\"text-align: right;\">\n",
       "      <th></th>\n",
       "      <th>count</th>\n",
       "      <th>mean</th>\n",
       "      <th>std</th>\n",
       "      <th>min</th>\n",
       "      <th>25%</th>\n",
       "      <th>50%</th>\n",
       "      <th>75%</th>\n",
       "      <th>max</th>\n",
       "    </tr>\n",
       "    <tr>\n",
       "      <th>genres</th>\n",
       "      <th></th>\n",
       "      <th></th>\n",
       "      <th></th>\n",
       "      <th></th>\n",
       "      <th></th>\n",
       "      <th></th>\n",
       "      <th></th>\n",
       "      <th></th>\n",
       "    </tr>\n",
       "  </thead>\n",
       "  <tbody>\n",
       "    <tr>\n",
       "      <th>unknown</th>\n",
       "      <td>9.00</td>\n",
       "      <td>6.46</td>\n",
       "      <td>1.74</td>\n",
       "      <td>4.30</td>\n",
       "      <td>5.20</td>\n",
       "      <td>5.50</td>\n",
       "      <td>8.30</td>\n",
       "      <td>8.80</td>\n",
       "    </tr>\n",
       "    <tr>\n",
       "      <th>аниме,мультфильм</th>\n",
       "      <td>2.00</td>\n",
       "      <td>6.95</td>\n",
       "      <td>0.07</td>\n",
       "      <td>6.90</td>\n",
       "      <td>6.93</td>\n",
       "      <td>6.95</td>\n",
       "      <td>6.97</td>\n",
       "      <td>7.00</td>\n",
       "    </tr>\n",
       "    <tr>\n",
       "      <th>аниме,мультфильм,боевик</th>\n",
       "      <td>11.00</td>\n",
       "      <td>6.90</td>\n",
       "      <td>0.81</td>\n",
       "      <td>5.80</td>\n",
       "      <td>6.35</td>\n",
       "      <td>6.90</td>\n",
       "      <td>7.20</td>\n",
       "      <td>8.10</td>\n",
       "    </tr>\n",
       "    <tr>\n",
       "      <th>аниме,мультфильм,детектив</th>\n",
       "      <td>2.00</td>\n",
       "      <td>7.95</td>\n",
       "      <td>0.07</td>\n",
       "      <td>7.90</td>\n",
       "      <td>7.93</td>\n",
       "      <td>7.95</td>\n",
       "      <td>7.97</td>\n",
       "      <td>8.00</td>\n",
       "    </tr>\n",
       "    <tr>\n",
       "      <th>аниме,мультфильм,драма</th>\n",
       "      <td>7.00</td>\n",
       "      <td>7.74</td>\n",
       "      <td>0.27</td>\n",
       "      <td>7.40</td>\n",
       "      <td>7.50</td>\n",
       "      <td>7.90</td>\n",
       "      <td>7.95</td>\n",
       "      <td>8.00</td>\n",
       "    </tr>\n",
       "    <tr>\n",
       "      <th>...</th>\n",
       "      <td>...</td>\n",
       "      <td>...</td>\n",
       "      <td>...</td>\n",
       "      <td>...</td>\n",
       "      <td>...</td>\n",
       "      <td>...</td>\n",
       "      <td>...</td>\n",
       "      <td>...</td>\n",
       "    </tr>\n",
       "    <tr>\n",
       "      <th>фэнтези,триллер,драма</th>\n",
       "      <td>12.00</td>\n",
       "      <td>6.59</td>\n",
       "      <td>0.85</td>\n",
       "      <td>4.90</td>\n",
       "      <td>6.05</td>\n",
       "      <td>6.85</td>\n",
       "      <td>7.10</td>\n",
       "      <td>8.00</td>\n",
       "    </tr>\n",
       "    <tr>\n",
       "      <th>фэнтези,триллер,мелодрама</th>\n",
       "      <td>4.00</td>\n",
       "      <td>5.97</td>\n",
       "      <td>0.05</td>\n",
       "      <td>5.90</td>\n",
       "      <td>5.97</td>\n",
       "      <td>6.00</td>\n",
       "      <td>6.00</td>\n",
       "      <td>6.00</td>\n",
       "    </tr>\n",
       "    <tr>\n",
       "      <th>фэнтези,триллер,приключения</th>\n",
       "      <td>4.00</td>\n",
       "      <td>5.85</td>\n",
       "      <td>0.44</td>\n",
       "      <td>5.30</td>\n",
       "      <td>5.60</td>\n",
       "      <td>5.95</td>\n",
       "      <td>6.20</td>\n",
       "      <td>6.20</td>\n",
       "    </tr>\n",
       "    <tr>\n",
       "      <th>фэнтези,ужасы</th>\n",
       "      <td>1.00</td>\n",
       "      <td>4.60</td>\n",
       "      <td>NaN</td>\n",
       "      <td>4.60</td>\n",
       "      <td>4.60</td>\n",
       "      <td>4.60</td>\n",
       "      <td>4.60</td>\n",
       "      <td>4.60</td>\n",
       "    </tr>\n",
       "    <tr>\n",
       "      <th>фэнтези,ужасы,триллер</th>\n",
       "      <td>1.00</td>\n",
       "      <td>8.20</td>\n",
       "      <td>NaN</td>\n",
       "      <td>8.20</td>\n",
       "      <td>8.20</td>\n",
       "      <td>8.20</td>\n",
       "      <td>8.20</td>\n",
       "      <td>8.20</td>\n",
       "    </tr>\n",
       "  </tbody>\n",
       "</table>\n",
       "<p>743 rows × 8 columns</p>\n",
       "</div>"
      ],
      "text/plain": [
       "                             count  mean  std  min  25%  50%  75%  max\n",
       "genres                                                                \n",
       "unknown                       9.00  6.46 1.74 4.30 5.20 5.50 8.30 8.80\n",
       "аниме,мультфильм              2.00  6.95 0.07 6.90 6.93 6.95 6.97 7.00\n",
       "аниме,мультфильм,боевик      11.00  6.90 0.81 5.80 6.35 6.90 7.20 8.10\n",
       "аниме,мультфильм,детектив     2.00  7.95 0.07 7.90 7.93 7.95 7.97 8.00\n",
       "аниме,мультфильм,драма        7.00  7.74 0.27 7.40 7.50 7.90 7.95 8.00\n",
       "...                            ...   ...  ...  ...  ...  ...  ...  ...\n",
       "фэнтези,триллер,драма        12.00  6.59 0.85 4.90 6.05 6.85 7.10 8.00\n",
       "фэнтези,триллер,мелодрама     4.00  5.97 0.05 5.90 5.97 6.00 6.00 6.00\n",
       "фэнтези,триллер,приключения   4.00  5.85 0.44 5.30 5.60 5.95 6.20 6.20\n",
       "фэнтези,ужасы                 1.00  4.60  NaN 4.60 4.60 4.60 4.60 4.60\n",
       "фэнтези,ужасы,триллер         1.00  8.20  NaN 8.20 8.20 8.20 8.20 8.20\n",
       "\n",
       "[743 rows x 8 columns]"
      ]
     },
     "execution_count": 34,
     "metadata": {},
     "output_type": "execute_result"
    }
   ],
   "source": [
    "data.groupby('genres')['ratings'].describe()"
   ]
  },
  {
   "cell_type": "markdown",
   "metadata": {},
   "source": [
    "Оставим пропуски в данном столбце, так как корректной замены у нас не получиться, ввиду того что существуют различные версии фильмов (расширенная, режиссерская), и другие признаки."
   ]
  },
  {
   "cell_type": "code",
   "execution_count": 35,
   "metadata": {},
   "outputs": [
    {
     "data": {
      "text/plain": [
       "966"
      ]
     },
     "execution_count": 35,
     "metadata": {},
     "output_type": "execute_result"
    }
   ],
   "source": [
    "data['ratings'].isna().sum()"
   ]
  },
  {
   "cell_type": "markdown",
   "metadata": {},
   "source": [
    "Посмотрим на пропуски в столбце **'box_office'**."
   ]
  },
  {
   "cell_type": "code",
   "execution_count": 36,
   "metadata": {
    "scrolled": true
   },
   "outputs": [
    {
     "data": {
      "text/html": [
       "<div>\n",
       "<style scoped>\n",
       "    .dataframe tbody tr th:only-of-type {\n",
       "        vertical-align: middle;\n",
       "    }\n",
       "\n",
       "    .dataframe tbody tr th {\n",
       "        vertical-align: top;\n",
       "    }\n",
       "\n",
       "    .dataframe thead th {\n",
       "        text-align: right;\n",
       "    }\n",
       "</style>\n",
       "<table border=\"1\" class=\"dataframe\">\n",
       "  <thead>\n",
       "    <tr style=\"text-align: right;\">\n",
       "      <th></th>\n",
       "      <th>title</th>\n",
       "      <th>pu_number</th>\n",
       "      <th>show_start_date</th>\n",
       "      <th>type</th>\n",
       "      <th>film_studio</th>\n",
       "      <th>production_country</th>\n",
       "      <th>director</th>\n",
       "      <th>producer</th>\n",
       "      <th>age_restriction</th>\n",
       "      <th>refundable_support</th>\n",
       "      <th>nonrefundable_support</th>\n",
       "      <th>budget</th>\n",
       "      <th>financing_source</th>\n",
       "      <th>ratings</th>\n",
       "      <th>genres</th>\n",
       "      <th>box_office</th>\n",
       "    </tr>\n",
       "  </thead>\n",
       "  <tbody>\n",
       "    <tr>\n",
       "      <th>0</th>\n",
       "      <td>Открытый простор</td>\n",
       "      <td>221048915</td>\n",
       "      <td>2015-11-27 12:00:00</td>\n",
       "      <td>Художественный</td>\n",
       "      <td>Тачстоун Пикчерз, Кобальт Пикчерз, Бикон Пикче...</td>\n",
       "      <td>США</td>\n",
       "      <td>Кевин Костнер</td>\n",
       "      <td>Дэвид Валдес, Кевин Костнер, Джейк Эбертс</td>\n",
       "      <td>«18+» - запрещено для детей</td>\n",
       "      <td>0</td>\n",
       "      <td>0</td>\n",
       "      <td>0</td>\n",
       "      <td>нет</td>\n",
       "      <td>7.20</td>\n",
       "      <td>боевик,драма,мелодрама</td>\n",
       "      <td>NaN</td>\n",
       "    </tr>\n",
       "    <tr>\n",
       "      <th>1</th>\n",
       "      <td>Особо важное задание</td>\n",
       "      <td>111013716</td>\n",
       "      <td>2016-09-13 12:00:00</td>\n",
       "      <td>Художественный</td>\n",
       "      <td>Киностудия \"Мосфильм\"</td>\n",
       "      <td>СССР</td>\n",
       "      <td>Е.Матвеев</td>\n",
       "      <td>unknown</td>\n",
       "      <td>«6+» - для детей старше 6 лет</td>\n",
       "      <td>0</td>\n",
       "      <td>0</td>\n",
       "      <td>0</td>\n",
       "      <td>нет</td>\n",
       "      <td>6.60</td>\n",
       "      <td>драма,военный</td>\n",
       "      <td>NaN</td>\n",
       "    </tr>\n",
       "    <tr>\n",
       "      <th>2</th>\n",
       "      <td>Особо опасен</td>\n",
       "      <td>221038416</td>\n",
       "      <td>2016-10-10 12:00:00</td>\n",
       "      <td>Художественный</td>\n",
       "      <td>Юниверсал Пикчерз, Кикстарт Продакшнз, Марк Пл...</td>\n",
       "      <td>США</td>\n",
       "      <td>Тимур Бекмамбетов</td>\n",
       "      <td>Джим Лемли, Джейсон Нетер, Марк Е.Платт, Яйн Смит</td>\n",
       "      <td>«18+» - запрещено для детей</td>\n",
       "      <td>0</td>\n",
       "      <td>0</td>\n",
       "      <td>0</td>\n",
       "      <td>нет</td>\n",
       "      <td>6.80</td>\n",
       "      <td>фантастика,боевик,триллер</td>\n",
       "      <td>NaN</td>\n",
       "    </tr>\n",
       "    <tr>\n",
       "      <th>3</th>\n",
       "      <td>Особо опасен</td>\n",
       "      <td>221026916</td>\n",
       "      <td>2016-06-10 12:00:00</td>\n",
       "      <td>Художественный</td>\n",
       "      <td>Юниверсал Пикчерз, Кикстарт Продакшнз, Марк Пл...</td>\n",
       "      <td>США</td>\n",
       "      <td>Тимур Бекмамбетов</td>\n",
       "      <td>Джим Лемли, Джейсон Нетер, Марк Е.Платт, Яйн Смит</td>\n",
       "      <td>«18+» - запрещено для детей</td>\n",
       "      <td>0</td>\n",
       "      <td>0</td>\n",
       "      <td>0</td>\n",
       "      <td>нет</td>\n",
       "      <td>6.80</td>\n",
       "      <td>фантастика,боевик,триллер</td>\n",
       "      <td>NaN</td>\n",
       "    </tr>\n",
       "    <tr>\n",
       "      <th>4</th>\n",
       "      <td>Особо опасен</td>\n",
       "      <td>221030815</td>\n",
       "      <td>2015-07-29 12:00:00</td>\n",
       "      <td>Художественный</td>\n",
       "      <td>Юниверсал Пикчерз, Кикстарт Продакшнз, Марк Пл...</td>\n",
       "      <td>США</td>\n",
       "      <td>Тимур Бекмамбетов</td>\n",
       "      <td>Джим Лемли, Джейсон Нетер, Марк Е.Платт, Яйн Смит</td>\n",
       "      <td>«18+» - запрещено для детей</td>\n",
       "      <td>0</td>\n",
       "      <td>0</td>\n",
       "      <td>0</td>\n",
       "      <td>нет</td>\n",
       "      <td>6.80</td>\n",
       "      <td>фантастика,боевик,триллер</td>\n",
       "      <td>NaN</td>\n",
       "    </tr>\n",
       "    <tr>\n",
       "      <th>5</th>\n",
       "      <td>Остановился поезд</td>\n",
       "      <td>111013816</td>\n",
       "      <td>2016-09-13 12:00:00</td>\n",
       "      <td>Художественный</td>\n",
       "      <td>Киностудия \"Мосфильм\"</td>\n",
       "      <td>СССР</td>\n",
       "      <td>В.Абдрашитов</td>\n",
       "      <td>unknown</td>\n",
       "      <td>«6+» - для детей старше 6 лет</td>\n",
       "      <td>0</td>\n",
       "      <td>0</td>\n",
       "      <td>0</td>\n",
       "      <td>нет</td>\n",
       "      <td>7.70</td>\n",
       "      <td>драма</td>\n",
       "      <td>NaN</td>\n",
       "    </tr>\n",
       "    <tr>\n",
       "      <th>7</th>\n",
       "      <td>Любовь и сигареты</td>\n",
       "      <td>221074614</td>\n",
       "      <td>2014-12-29 12:00:00</td>\n",
       "      <td>Художественный</td>\n",
       "      <td>Юнайтед Артистс, Грин Стрит Филмз, Айкон Интер...</td>\n",
       "      <td>США</td>\n",
       "      <td>Джон Туртурро</td>\n",
       "      <td>Джон Пенотти, Джон Туртурро</td>\n",
       "      <td>«18+» - запрещено для детей</td>\n",
       "      <td>0</td>\n",
       "      <td>0</td>\n",
       "      <td>0</td>\n",
       "      <td>нет</td>\n",
       "      <td>6.60</td>\n",
       "      <td>мюзикл,мелодрама,комедия</td>\n",
       "      <td>NaN</td>\n",
       "    </tr>\n",
       "    <tr>\n",
       "      <th>8</th>\n",
       "      <td>Отпетые мошенники.</td>\n",
       "      <td>121011416</td>\n",
       "      <td>2016-05-05 12:00:00</td>\n",
       "      <td>Художественный</td>\n",
       "      <td>Пульсар Продюксьон, ТФ1 Фильм</td>\n",
       "      <td>Франция</td>\n",
       "      <td>Эрик Беснард</td>\n",
       "      <td>Патрис Леду</td>\n",
       "      <td>«18+» - запрещено для детей</td>\n",
       "      <td>0</td>\n",
       "      <td>0</td>\n",
       "      <td>0</td>\n",
       "      <td>нет</td>\n",
       "      <td>8.00</td>\n",
       "      <td>комедия,криминал</td>\n",
       "      <td>NaN</td>\n",
       "    </tr>\n",
       "    <tr>\n",
       "      <th>9</th>\n",
       "      <td>Отпуск за свой счет</td>\n",
       "      <td>111019114</td>\n",
       "      <td>2014-12-01 12:00:00</td>\n",
       "      <td>Художественный</td>\n",
       "      <td>Киностудия \"Мосфильм\", Телевидение ВНР</td>\n",
       "      <td>СССР, Венгрия</td>\n",
       "      <td>В.Титов</td>\n",
       "      <td>unknown</td>\n",
       "      <td>«12+» - для детей старше 12 лет</td>\n",
       "      <td>0</td>\n",
       "      <td>0</td>\n",
       "      <td>0</td>\n",
       "      <td>нет</td>\n",
       "      <td>7.80</td>\n",
       "      <td>мелодрама,комедия</td>\n",
       "      <td>NaN</td>\n",
       "    </tr>\n",
       "    <tr>\n",
       "      <th>10</th>\n",
       "      <td>Превосходство Борна /По одноименной новелле Ро...</td>\n",
       "      <td>221031416</td>\n",
       "      <td>2016-06-29 12:00:00</td>\n",
       "      <td>Художественный</td>\n",
       "      <td>Кеннеди/Маршал Компани, Юниверсал Пикчерз, Гип...</td>\n",
       "      <td>США</td>\n",
       "      <td>Пол Грингросс</td>\n",
       "      <td>Патрик Кроули, Фрэнк Маршалл, Пол Сэндберг</td>\n",
       "      <td>«16+» - для детей старше 16 лет</td>\n",
       "      <td>0</td>\n",
       "      <td>0</td>\n",
       "      <td>0</td>\n",
       "      <td>нет</td>\n",
       "      <td>7.70</td>\n",
       "      <td>боевик,триллер,детектив</td>\n",
       "      <td>NaN</td>\n",
       "    </tr>\n",
       "  </tbody>\n",
       "</table>\n",
       "</div>"
      ],
      "text/plain": [
       "                                                title  pu_number  \\\n",
       "0                                    Открытый простор  221048915   \n",
       "1                                Особо важное задание  111013716   \n",
       "2                                        Особо опасен  221038416   \n",
       "3                                        Особо опасен  221026916   \n",
       "4                                        Особо опасен  221030815   \n",
       "5                                   Остановился поезд  111013816   \n",
       "7                                   Любовь и сигареты  221074614   \n",
       "8                                  Отпетые мошенники.  121011416   \n",
       "9                                 Отпуск за свой счет  111019114   \n",
       "10  Превосходство Борна /По одноименной новелле Ро...  221031416   \n",
       "\n",
       "       show_start_date            type  \\\n",
       "0  2015-11-27 12:00:00  Художественный   \n",
       "1  2016-09-13 12:00:00  Художественный   \n",
       "2  2016-10-10 12:00:00  Художественный   \n",
       "3  2016-06-10 12:00:00  Художественный   \n",
       "4  2015-07-29 12:00:00  Художественный   \n",
       "5  2016-09-13 12:00:00  Художественный   \n",
       "7  2014-12-29 12:00:00  Художественный   \n",
       "8  2016-05-05 12:00:00  Художественный   \n",
       "9  2014-12-01 12:00:00  Художественный   \n",
       "10 2016-06-29 12:00:00  Художественный   \n",
       "\n",
       "                                          film_studio production_country  \\\n",
       "0   Тачстоун Пикчерз, Кобальт Пикчерз, Бикон Пикче...                США   \n",
       "1                               Киностудия \"Мосфильм\"               СССР   \n",
       "2   Юниверсал Пикчерз, Кикстарт Продакшнз, Марк Пл...                США   \n",
       "3   Юниверсал Пикчерз, Кикстарт Продакшнз, Марк Пл...                США   \n",
       "4   Юниверсал Пикчерз, Кикстарт Продакшнз, Марк Пл...                США   \n",
       "5                               Киностудия \"Мосфильм\"               СССР   \n",
       "7   Юнайтед Артистс, Грин Стрит Филмз, Айкон Интер...                США   \n",
       "8                      Пульсар Продюксьон, ТФ1 Фильм             Франция   \n",
       "9              Киностудия \"Мосфильм\", Телевидение ВНР      СССР, Венгрия   \n",
       "10  Кеннеди/Маршал Компани, Юниверсал Пикчерз, Гип...                США   \n",
       "\n",
       "             director                                           producer  \\\n",
       "0       Кевин Костнер          Дэвид Валдес, Кевин Костнер, Джейк Эбертс   \n",
       "1           Е.Матвеев                                            unknown   \n",
       "2   Тимур Бекмамбетов  Джим Лемли, Джейсон Нетер, Марк Е.Платт, Яйн Смит   \n",
       "3   Тимур Бекмамбетов  Джим Лемли, Джейсон Нетер, Марк Е.Платт, Яйн Смит   \n",
       "4   Тимур Бекмамбетов  Джим Лемли, Джейсон Нетер, Марк Е.Платт, Яйн Смит   \n",
       "5        В.Абдрашитов                                            unknown   \n",
       "7       Джон Туртурро                        Джон Пенотти, Джон Туртурро   \n",
       "8        Эрик Беснард                                        Патрис Леду   \n",
       "9             В.Титов                                            unknown   \n",
       "10      Пол Грингросс         Патрик Кроули, Фрэнк Маршалл, Пол Сэндберг   \n",
       "\n",
       "                    age_restriction  refundable_support  \\\n",
       "0       «18+» - запрещено для детей                   0   \n",
       "1     «6+» - для детей старше 6 лет                   0   \n",
       "2       «18+» - запрещено для детей                   0   \n",
       "3       «18+» - запрещено для детей                   0   \n",
       "4       «18+» - запрещено для детей                   0   \n",
       "5     «6+» - для детей старше 6 лет                   0   \n",
       "7       «18+» - запрещено для детей                   0   \n",
       "8       «18+» - запрещено для детей                   0   \n",
       "9   «12+» - для детей старше 12 лет                   0   \n",
       "10  «16+» - для детей старше 16 лет                   0   \n",
       "\n",
       "    nonrefundable_support  budget financing_source  ratings  \\\n",
       "0                       0       0              нет     7.20   \n",
       "1                       0       0              нет     6.60   \n",
       "2                       0       0              нет     6.80   \n",
       "3                       0       0              нет     6.80   \n",
       "4                       0       0              нет     6.80   \n",
       "5                       0       0              нет     7.70   \n",
       "7                       0       0              нет     6.60   \n",
       "8                       0       0              нет     8.00   \n",
       "9                       0       0              нет     7.80   \n",
       "10                      0       0              нет     7.70   \n",
       "\n",
       "                       genres  box_office  \n",
       "0      боевик,драма,мелодрама         NaN  \n",
       "1               драма,военный         NaN  \n",
       "2   фантастика,боевик,триллер         NaN  \n",
       "3   фантастика,боевик,триллер         NaN  \n",
       "4   фантастика,боевик,триллер         NaN  \n",
       "5                       драма         NaN  \n",
       "7    мюзикл,мелодрама,комедия         NaN  \n",
       "8            комедия,криминал         NaN  \n",
       "9           мелодрама,комедия         NaN  \n",
       "10    боевик,триллер,детектив         NaN  "
      ]
     },
     "execution_count": 36,
     "metadata": {},
     "output_type": "execute_result"
    }
   ],
   "source": [
    "data[data['box_office'].isna()].head(10)"
   ]
  },
  {
   "cell_type": "markdown",
   "metadata": {},
   "source": [
    "Данные пропуски нам нечем заполнять, оставим их."
   ]
  },
  {
   "cell_type": "markdown",
   "metadata": {
    "id": "4c6k1t9ygFyQ"
   },
   "source": [
    "#### Изучим дубликаты в датафрейме"
   ]
  },
  {
   "cell_type": "markdown",
   "metadata": {},
   "source": [
    "Для начала проверим наличие явных дубликатов."
   ]
  },
  {
   "cell_type": "code",
   "execution_count": 37,
   "metadata": {
    "id": "aKck8RIdgFyQ"
   },
   "outputs": [
    {
     "data": {
      "text/plain": [
       "0"
      ]
     },
     "execution_count": 37,
     "metadata": {},
     "output_type": "execute_result"
    }
   ],
   "source": [
    "data.duplicated().sum()"
   ]
  },
  {
   "cell_type": "markdown",
   "metadata": {},
   "source": [
    "Явных дубликатов нет. Начнем поиск неявных дубликатов со столбца **'title'**. Если таковые имеются посмотрим на часть из них, что они из себя представляют."
   ]
  },
  {
   "cell_type": "code",
   "execution_count": 38,
   "metadata": {},
   "outputs": [
    {
     "data": {
      "text/plain": [
       "714"
      ]
     },
     "execution_count": 38,
     "metadata": {},
     "output_type": "execute_result"
    }
   ],
   "source": [
    "data['title'].duplicated().sum()"
   ]
  },
  {
   "cell_type": "code",
   "execution_count": 39,
   "metadata": {},
   "outputs": [
    {
     "data": {
      "text/plain": [
       "2"
      ]
     },
     "execution_count": 39,
     "metadata": {},
     "output_type": "execute_result"
    }
   ],
   "source": [
    "data['pu_number'].duplicated().sum()"
   ]
  },
  {
   "cell_type": "code",
   "execution_count": 40,
   "metadata": {
    "scrolled": true
   },
   "outputs": [
    {
     "data": {
      "text/html": [
       "<div>\n",
       "<style scoped>\n",
       "    .dataframe tbody tr th:only-of-type {\n",
       "        vertical-align: middle;\n",
       "    }\n",
       "\n",
       "    .dataframe tbody tr th {\n",
       "        vertical-align: top;\n",
       "    }\n",
       "\n",
       "    .dataframe thead th {\n",
       "        text-align: right;\n",
       "    }\n",
       "</style>\n",
       "<table border=\"1\" class=\"dataframe\">\n",
       "  <thead>\n",
       "    <tr style=\"text-align: right;\">\n",
       "      <th></th>\n",
       "      <th>title</th>\n",
       "      <th>pu_number</th>\n",
       "      <th>show_start_date</th>\n",
       "      <th>type</th>\n",
       "      <th>film_studio</th>\n",
       "      <th>production_country</th>\n",
       "      <th>director</th>\n",
       "      <th>producer</th>\n",
       "      <th>age_restriction</th>\n",
       "      <th>refundable_support</th>\n",
       "      <th>nonrefundable_support</th>\n",
       "      <th>budget</th>\n",
       "      <th>financing_source</th>\n",
       "      <th>ratings</th>\n",
       "      <th>genres</th>\n",
       "      <th>box_office</th>\n",
       "    </tr>\n",
       "  </thead>\n",
       "  <tbody>\n",
       "    <tr>\n",
       "      <th>6379</th>\n",
       "      <td>Ян Антонышев</td>\n",
       "      <td>112011918</td>\n",
       "      <td>2018-11-15 12:00:00</td>\n",
       "      <td>Документальный</td>\n",
       "      <td>unknown</td>\n",
       "      <td>Россия</td>\n",
       "      <td>Е.Окопная</td>\n",
       "      <td>Е.Герасимов</td>\n",
       "      <td>«12+» - для детей старше 12 лет</td>\n",
       "      <td>0</td>\n",
       "      <td>0</td>\n",
       "      <td>0</td>\n",
       "      <td>нет</td>\n",
       "      <td>NaN</td>\n",
       "      <td>unknown</td>\n",
       "      <td>NaN</td>\n",
       "    </tr>\n",
       "    <tr>\n",
       "      <th>6378</th>\n",
       "      <td>Ян Антонышев</td>\n",
       "      <td>112011818</td>\n",
       "      <td>2018-11-15 12:00:00</td>\n",
       "      <td>Документальный</td>\n",
       "      <td>unknown</td>\n",
       "      <td>Россия</td>\n",
       "      <td>Е.Окопная</td>\n",
       "      <td>Е.Герасимов</td>\n",
       "      <td>«12+» - для детей старше 12 лет</td>\n",
       "      <td>0</td>\n",
       "      <td>0</td>\n",
       "      <td>0</td>\n",
       "      <td>нет</td>\n",
       "      <td>NaN</td>\n",
       "      <td>unknown</td>\n",
       "      <td>NaN</td>\n",
       "    </tr>\n",
       "    <tr>\n",
       "      <th>1703</th>\n",
       "      <td>Я, снова я и мама</td>\n",
       "      <td>121013116</td>\n",
       "      <td>2016-05-23 12:00:00</td>\n",
       "      <td>Художественный</td>\n",
       "      <td>Гомон, Эль Джи Эм Продакшнз, Ректанль Продюксь...</td>\n",
       "      <td>Франция - Бельгия</td>\n",
       "      <td>Гийом Гальенн</td>\n",
       "      <td>Жан-Батист Дюпон, Алис Жирар, Сирил Кольбо-Жюстен</td>\n",
       "      <td>«16+» - для детей старше 16 лет</td>\n",
       "      <td>0</td>\n",
       "      <td>0</td>\n",
       "      <td>0</td>\n",
       "      <td>нет</td>\n",
       "      <td>6.30</td>\n",
       "      <td>комедия,мелодрама,драма</td>\n",
       "      <td>NaN</td>\n",
       "    </tr>\n",
       "    <tr>\n",
       "      <th>1704</th>\n",
       "      <td>Я, снова я и мама</td>\n",
       "      <td>121030213</td>\n",
       "      <td>2013-11-21 12:00:00</td>\n",
       "      <td>Художественный</td>\n",
       "      <td>Гомон, Эль Джи Эм Продакшнз, Ректанль Продюксь...</td>\n",
       "      <td>Франция - Бельгия</td>\n",
       "      <td>Гийом Гальенн</td>\n",
       "      <td>Жан-Батист Дюпон, Алис Жирар, Сирил Кольбо-Жюстен</td>\n",
       "      <td>«16+» - для детей старше 16 лет</td>\n",
       "      <td>0</td>\n",
       "      <td>0</td>\n",
       "      <td>0</td>\n",
       "      <td>нет</td>\n",
       "      <td>6.30</td>\n",
       "      <td>комедия,мелодрама,драма</td>\n",
       "      <td>NaN</td>\n",
       "    </tr>\n",
       "    <tr>\n",
       "      <th>4070</th>\n",
       "      <td>Я ненавижу день святого Валентина</td>\n",
       "      <td>121002010</td>\n",
       "      <td>2010-02-04 12:00:00</td>\n",
       "      <td>Художественный</td>\n",
       "      <td>Блю Стар Пикчерз, Ай Хэйт Вдэй Продакшнз, Ай С...</td>\n",
       "      <td>США</td>\n",
       "      <td>Ниа Вардалос</td>\n",
       "      <td>Доминик Йанно, Мэдлейн Шерак, Уильям Шерак</td>\n",
       "      <td>«16+» - для детей старше 16 лет</td>\n",
       "      <td>0</td>\n",
       "      <td>0</td>\n",
       "      <td>0</td>\n",
       "      <td>нет</td>\n",
       "      <td>5.00</td>\n",
       "      <td>мелодрама,комедия</td>\n",
       "      <td>NaN</td>\n",
       "    </tr>\n",
       "    <tr>\n",
       "      <th>4504</th>\n",
       "      <td>Я ненавижу день святого Валентина</td>\n",
       "      <td>221139210</td>\n",
       "      <td>2010-12-03 12:00:00</td>\n",
       "      <td>Художественный</td>\n",
       "      <td>Блю Стар Пикчерз, Ай Хэйт Вдэй Продакшнз, Ай С...</td>\n",
       "      <td>США</td>\n",
       "      <td>Ниа Вардалос</td>\n",
       "      <td>Доминик Йанно, Мэдлейн Шерак, Уильям Шерак</td>\n",
       "      <td>«16+» - для детей старше 16 лет</td>\n",
       "      <td>0</td>\n",
       "      <td>0</td>\n",
       "      <td>0</td>\n",
       "      <td>нет</td>\n",
       "      <td>5.00</td>\n",
       "      <td>мелодрама,комедия</td>\n",
       "      <td>NaN</td>\n",
       "    </tr>\n",
       "    <tr>\n",
       "      <th>1810</th>\n",
       "      <td>Этим утром в Нью-Йорке</td>\n",
       "      <td>221033214</td>\n",
       "      <td>2014-08-20 12:00:00</td>\n",
       "      <td>Художественный</td>\n",
       "      <td>Лэндскейп Интертейнмент, Форс Мажор, Проминент...</td>\n",
       "      <td>США</td>\n",
       "      <td>Фил Олден Робинсон</td>\n",
       "      <td>Боб Купер, Тайлер Митчелл, Дэниэл Дж. Уолкер</td>\n",
       "      <td>«12+» - для детей старше 12 лет</td>\n",
       "      <td>0</td>\n",
       "      <td>0</td>\n",
       "      <td>0</td>\n",
       "      <td>нет</td>\n",
       "      <td>6.20</td>\n",
       "      <td>драма,комедия</td>\n",
       "      <td>1090.00</td>\n",
       "    </tr>\n",
       "    <tr>\n",
       "      <th>1811</th>\n",
       "      <td>Этим утром в Нью-Йорке</td>\n",
       "      <td>121009614</td>\n",
       "      <td>2014-05-21 12:00:00</td>\n",
       "      <td>Художественный</td>\n",
       "      <td>Лэндскейп Интертейнмент, Форс Мажор, Проминент...</td>\n",
       "      <td>США</td>\n",
       "      <td>Фил Олден Робинсон</td>\n",
       "      <td>Боб Купер, Тайлер Митчелл, Дэниэл Дж. Уолкер</td>\n",
       "      <td>«12+» - для детей старше 12 лет</td>\n",
       "      <td>0</td>\n",
       "      <td>0</td>\n",
       "      <td>0</td>\n",
       "      <td>нет</td>\n",
       "      <td>6.20</td>\n",
       "      <td>драма,комедия</td>\n",
       "      <td>360.00</td>\n",
       "    </tr>\n",
       "    <tr>\n",
       "      <th>4607</th>\n",
       "      <td>Эскадрилья \"Лафайет\"</td>\n",
       "      <td>221160910</td>\n",
       "      <td>2010-12-17 12:00:00</td>\n",
       "      <td>Художественный</td>\n",
       "      <td>Электрик Интертейнмент, Инжениус Интертейнмент...</td>\n",
       "      <td>Франция - США</td>\n",
       "      <td>Тони Билл</td>\n",
       "      <td>Дин Девлин, Марк Фрайдман</td>\n",
       "      <td>«16+» - для детей старше 16 лет</td>\n",
       "      <td>0</td>\n",
       "      <td>0</td>\n",
       "      <td>0</td>\n",
       "      <td>нет</td>\n",
       "      <td>7.40</td>\n",
       "      <td>боевик,драма,мелодрама</td>\n",
       "      <td>NaN</td>\n",
       "    </tr>\n",
       "    <tr>\n",
       "      <th>334</th>\n",
       "      <td>Эскадрилья \"Лафайет\"</td>\n",
       "      <td>221031915</td>\n",
       "      <td>2015-07-29 12:00:00</td>\n",
       "      <td>Художественный</td>\n",
       "      <td>Электрик Интертейнмент, Инжениус Интертейнмент...</td>\n",
       "      <td>Франция - США</td>\n",
       "      <td>Тони Билл</td>\n",
       "      <td>Дин Девлин, Марк Фрайдман</td>\n",
       "      <td>«16+» - для детей старше 16 лет</td>\n",
       "      <td>0</td>\n",
       "      <td>0</td>\n",
       "      <td>0</td>\n",
       "      <td>нет</td>\n",
       "      <td>7.40</td>\n",
       "      <td>боевик,драма,мелодрама</td>\n",
       "      <td>NaN</td>\n",
       "    </tr>\n",
       "    <tr>\n",
       "      <th>705</th>\n",
       "      <td>Эпик /По произведению Уильяма Джойса/</td>\n",
       "      <td>224028313</td>\n",
       "      <td>2013-11-05 12:00:00</td>\n",
       "      <td>Анимационный</td>\n",
       "      <td>ХХ век Фокс, Блю Скай Студиос</td>\n",
       "      <td>США</td>\n",
       "      <td>Крис Уэдж</td>\n",
       "      <td>Джерри Дэвис, Лори Форте, Джеймс В.Харт</td>\n",
       "      <td>«0+» - для любой зрительской аудитории</td>\n",
       "      <td>0</td>\n",
       "      <td>0</td>\n",
       "      <td>0</td>\n",
       "      <td>нет</td>\n",
       "      <td>6.90</td>\n",
       "      <td>мультфильм,фэнтези,приключения</td>\n",
       "      <td>NaN</td>\n",
       "    </tr>\n",
       "    <tr>\n",
       "      <th>706</th>\n",
       "      <td>Эпик /По произведению Уильяма Джойса/</td>\n",
       "      <td>124001613</td>\n",
       "      <td>2013-05-15 12:00:00</td>\n",
       "      <td>Анимационный</td>\n",
       "      <td>ХХ век Фокс, Блю Скай Студиос</td>\n",
       "      <td>США</td>\n",
       "      <td>Крис Уэдж</td>\n",
       "      <td>Джерри Дэвис, Лори Форте, Джеймс В.Харт</td>\n",
       "      <td>«0+» - для любой зрительской аудитории</td>\n",
       "      <td>0</td>\n",
       "      <td>0</td>\n",
       "      <td>0</td>\n",
       "      <td>нет</td>\n",
       "      <td>6.90</td>\n",
       "      <td>мультфильм,фэнтези,приключения</td>\n",
       "      <td>NaN</td>\n",
       "    </tr>\n",
       "    <tr>\n",
       "      <th>1299</th>\n",
       "      <td>Эпидемия_</td>\n",
       "      <td>221000616</td>\n",
       "      <td>2016-01-29 12:00:00</td>\n",
       "      <td>Художественный</td>\n",
       "      <td>Морена Фильм, Ребелион Террестр, А 3 Медиа Гру...</td>\n",
       "      <td>Испания - Франция</td>\n",
       "      <td>Алекс Пастор, Давид Пастор</td>\n",
       "      <td>Мерседес Гамеро, Альберто Марини, Педро Уриоль</td>\n",
       "      <td>«16+» - для детей старше 16 лет</td>\n",
       "      <td>0</td>\n",
       "      <td>0</td>\n",
       "      <td>0</td>\n",
       "      <td>нет</td>\n",
       "      <td>7.20</td>\n",
       "      <td>драма,фантастика,триллер</td>\n",
       "      <td>NaN</td>\n",
       "    </tr>\n",
       "    <tr>\n",
       "      <th>1301</th>\n",
       "      <td>Эпидемия_</td>\n",
       "      <td>221035513</td>\n",
       "      <td>2013-10-07 12:00:00</td>\n",
       "      <td>Художественный</td>\n",
       "      <td>Морена Фильм, Ребелион Террестр, А 3 Медиа Гру...</td>\n",
       "      <td>Испания - Франция</td>\n",
       "      <td>Алекс Пастор, Давид Пастор</td>\n",
       "      <td>Мерседес Гамеро, Альберто Марини, Педро Уриоль</td>\n",
       "      <td>«16+» - для детей старше 16 лет</td>\n",
       "      <td>0</td>\n",
       "      <td>0</td>\n",
       "      <td>0</td>\n",
       "      <td>нет</td>\n",
       "      <td>7.20</td>\n",
       "      <td>драма,фантастика,триллер</td>\n",
       "      <td>NaN</td>\n",
       "    </tr>\n",
       "    <tr>\n",
       "      <th>1300</th>\n",
       "      <td>Эпидемия_</td>\n",
       "      <td>121025713</td>\n",
       "      <td>2013-10-07 12:00:00</td>\n",
       "      <td>Художественный</td>\n",
       "      <td>Морена Фильм, Ребелион Террестр, А 3 Медиа Гру...</td>\n",
       "      <td>Испания - Франция</td>\n",
       "      <td>Алекс Пастор, Давид Пастор</td>\n",
       "      <td>Мерседес Гамеро, Альберто Марини, Педро Уриоль</td>\n",
       "      <td>«16+» - для детей старше 16 лет</td>\n",
       "      <td>0</td>\n",
       "      <td>0</td>\n",
       "      <td>0</td>\n",
       "      <td>нет</td>\n",
       "      <td>7.20</td>\n",
       "      <td>драма,фантастика,триллер</td>\n",
       "      <td>NaN</td>\n",
       "    </tr>\n",
       "  </tbody>\n",
       "</table>\n",
       "</div>"
      ],
      "text/plain": [
       "                                      title  pu_number     show_start_date  \\\n",
       "6379                           Ян Антонышев  112011918 2018-11-15 12:00:00   \n",
       "6378                           Ян Антонышев  112011818 2018-11-15 12:00:00   \n",
       "1703                      Я, снова я и мама  121013116 2016-05-23 12:00:00   \n",
       "1704                      Я, снова я и мама  121030213 2013-11-21 12:00:00   \n",
       "4070      Я ненавижу день святого Валентина  121002010 2010-02-04 12:00:00   \n",
       "4504      Я ненавижу день святого Валентина  221139210 2010-12-03 12:00:00   \n",
       "1810                 Этим утром в Нью-Йорке  221033214 2014-08-20 12:00:00   \n",
       "1811                 Этим утром в Нью-Йорке  121009614 2014-05-21 12:00:00   \n",
       "4607                   Эскадрилья \"Лафайет\"  221160910 2010-12-17 12:00:00   \n",
       "334                    Эскадрилья \"Лафайет\"  221031915 2015-07-29 12:00:00   \n",
       "705   Эпик /По произведению Уильяма Джойса/  224028313 2013-11-05 12:00:00   \n",
       "706   Эпик /По произведению Уильяма Джойса/  124001613 2013-05-15 12:00:00   \n",
       "1299                              Эпидемия_  221000616 2016-01-29 12:00:00   \n",
       "1301                              Эпидемия_  221035513 2013-10-07 12:00:00   \n",
       "1300                              Эпидемия_  121025713 2013-10-07 12:00:00   \n",
       "\n",
       "                type                                        film_studio  \\\n",
       "6379  Документальный                                            unknown   \n",
       "6378  Документальный                                            unknown   \n",
       "1703  Художественный  Гомон, Эль Джи Эм Продакшнз, Ректанль Продюксь...   \n",
       "1704  Художественный  Гомон, Эль Джи Эм Продакшнз, Ректанль Продюксь...   \n",
       "4070  Художественный  Блю Стар Пикчерз, Ай Хэйт Вдэй Продакшнз, Ай С...   \n",
       "4504  Художественный  Блю Стар Пикчерз, Ай Хэйт Вдэй Продакшнз, Ай С...   \n",
       "1810  Художественный  Лэндскейп Интертейнмент, Форс Мажор, Проминент...   \n",
       "1811  Художественный  Лэндскейп Интертейнмент, Форс Мажор, Проминент...   \n",
       "4607  Художественный  Электрик Интертейнмент, Инжениус Интертейнмент...   \n",
       "334   Художественный  Электрик Интертейнмент, Инжениус Интертейнмент...   \n",
       "705     Анимационный                      ХХ век Фокс, Блю Скай Студиос   \n",
       "706     Анимационный                      ХХ век Фокс, Блю Скай Студиос   \n",
       "1299  Художественный  Морена Фильм, Ребелион Террестр, А 3 Медиа Гру...   \n",
       "1301  Художественный  Морена Фильм, Ребелион Террестр, А 3 Медиа Гру...   \n",
       "1300  Художественный  Морена Фильм, Ребелион Террестр, А 3 Медиа Гру...   \n",
       "\n",
       "     production_country                    director  \\\n",
       "6379             Россия                   Е.Окопная   \n",
       "6378             Россия                   Е.Окопная   \n",
       "1703  Франция - Бельгия               Гийом Гальенн   \n",
       "1704  Франция - Бельгия               Гийом Гальенн   \n",
       "4070                США                Ниа Вардалос   \n",
       "4504                США                Ниа Вардалос   \n",
       "1810                США          Фил Олден Робинсон   \n",
       "1811                США          Фил Олден Робинсон   \n",
       "4607      Франция - США                   Тони Билл   \n",
       "334       Франция - США                   Тони Билл   \n",
       "705                 США                   Крис Уэдж   \n",
       "706                 США                   Крис Уэдж   \n",
       "1299  Испания - Франция  Алекс Пастор, Давид Пастор   \n",
       "1301  Испания - Франция  Алекс Пастор, Давид Пастор   \n",
       "1300  Испания - Франция  Алекс Пастор, Давид Пастор   \n",
       "\n",
       "                                               producer  \\\n",
       "6379                                        Е.Герасимов   \n",
       "6378                                        Е.Герасимов   \n",
       "1703  Жан-Батист Дюпон, Алис Жирар, Сирил Кольбо-Жюстен   \n",
       "1704  Жан-Батист Дюпон, Алис Жирар, Сирил Кольбо-Жюстен   \n",
       "4070         Доминик Йанно, Мэдлейн Шерак, Уильям Шерак   \n",
       "4504         Доминик Йанно, Мэдлейн Шерак, Уильям Шерак   \n",
       "1810       Боб Купер, Тайлер Митчелл, Дэниэл Дж. Уолкер   \n",
       "1811       Боб Купер, Тайлер Митчелл, Дэниэл Дж. Уолкер   \n",
       "4607                          Дин Девлин, Марк Фрайдман   \n",
       "334                           Дин Девлин, Марк Фрайдман   \n",
       "705             Джерри Дэвис, Лори Форте, Джеймс В.Харт   \n",
       "706             Джерри Дэвис, Лори Форте, Джеймс В.Харт   \n",
       "1299     Мерседес Гамеро, Альберто Марини, Педро Уриоль   \n",
       "1301     Мерседес Гамеро, Альберто Марини, Педро Уриоль   \n",
       "1300     Мерседес Гамеро, Альберто Марини, Педро Уриоль   \n",
       "\n",
       "                             age_restriction  refundable_support  \\\n",
       "6379         «12+» - для детей старше 12 лет                   0   \n",
       "6378         «12+» - для детей старше 12 лет                   0   \n",
       "1703         «16+» - для детей старше 16 лет                   0   \n",
       "1704         «16+» - для детей старше 16 лет                   0   \n",
       "4070         «16+» - для детей старше 16 лет                   0   \n",
       "4504         «16+» - для детей старше 16 лет                   0   \n",
       "1810         «12+» - для детей старше 12 лет                   0   \n",
       "1811         «12+» - для детей старше 12 лет                   0   \n",
       "4607         «16+» - для детей старше 16 лет                   0   \n",
       "334          «16+» - для детей старше 16 лет                   0   \n",
       "705   «0+» - для любой зрительской аудитории                   0   \n",
       "706   «0+» - для любой зрительской аудитории                   0   \n",
       "1299         «16+» - для детей старше 16 лет                   0   \n",
       "1301         «16+» - для детей старше 16 лет                   0   \n",
       "1300         «16+» - для детей старше 16 лет                   0   \n",
       "\n",
       "      nonrefundable_support  budget financing_source  ratings  \\\n",
       "6379                      0       0              нет      NaN   \n",
       "6378                      0       0              нет      NaN   \n",
       "1703                      0       0              нет     6.30   \n",
       "1704                      0       0              нет     6.30   \n",
       "4070                      0       0              нет     5.00   \n",
       "4504                      0       0              нет     5.00   \n",
       "1810                      0       0              нет     6.20   \n",
       "1811                      0       0              нет     6.20   \n",
       "4607                      0       0              нет     7.40   \n",
       "334                       0       0              нет     7.40   \n",
       "705                       0       0              нет     6.90   \n",
       "706                       0       0              нет     6.90   \n",
       "1299                      0       0              нет     7.20   \n",
       "1301                      0       0              нет     7.20   \n",
       "1300                      0       0              нет     7.20   \n",
       "\n",
       "                              genres  box_office  \n",
       "6379                         unknown         NaN  \n",
       "6378                         unknown         NaN  \n",
       "1703         комедия,мелодрама,драма         NaN  \n",
       "1704         комедия,мелодрама,драма         NaN  \n",
       "4070               мелодрама,комедия         NaN  \n",
       "4504               мелодрама,комедия         NaN  \n",
       "1810                   драма,комедия     1090.00  \n",
       "1811                   драма,комедия      360.00  \n",
       "4607          боевик,драма,мелодрама         NaN  \n",
       "334           боевик,драма,мелодрама         NaN  \n",
       "705   мультфильм,фэнтези,приключения         NaN  \n",
       "706   мультфильм,фэнтези,приключения         NaN  \n",
       "1299        драма,фантастика,триллер         NaN  \n",
       "1301        драма,фантастика,триллер         NaN  \n",
       "1300        драма,фантастика,триллер         NaN  "
      ]
     },
     "execution_count": 40,
     "metadata": {},
     "output_type": "execute_result"
    }
   ],
   "source": [
    "data[data['title'].duplicated(keep=False)].sort_values('title', ascending=False).head(15)"
   ]
  },
  {
   "cell_type": "markdown",
   "metadata": {},
   "source": [
    "Как мы видим, совпадения в названиях фильмов не случайны, не смотря на то что у них разные номера прокатного удостоверения, это зачастую дубликаты, судя по совпаданиям в других столбцах, таких как: год выпуска, тип фильма, киностудия производитель, страна производитель, режиссер, продюсер, рейтинг. "
   ]
  },
  {
   "cell_type": "markdown",
   "metadata": {},
   "source": [
    "Предварительно подготовим столбец **'production_country'**. Так как у нас присутствуют такие значения как **'США, Германия'** и **'США-Германия'** при прочих равных, приведем их к одному виду."
   ]
  },
  {
   "cell_type": "code",
   "execution_count": 41,
   "metadata": {},
   "outputs": [],
   "source": [
    "data['production_country'] = data['production_country'].str.replace(r', | - ', '-', regex=True)"
   ]
  },
  {
   "cell_type": "markdown",
   "metadata": {},
   "source": [
    "Удалим возможные пробелы в начале и в конце строк по столбцам: **тип фильма, страна производитель, режиссер**"
   ]
  },
  {
   "cell_type": "code",
   "execution_count": 42,
   "metadata": {},
   "outputs": [],
   "source": [
    "columns_tab = ['type', 'production_country', 'director']\n",
    "\n",
    "for column in columns_tab:\n",
    "    data[column] = data[column].str.strip()"
   ]
  },
  {
   "cell_type": "markdown",
   "metadata": {},
   "source": [
    "Посмотрим еще раз что теперь представляют неявные дубликаты по столбцу **'title'**"
   ]
  },
  {
   "cell_type": "code",
   "execution_count": 43,
   "metadata": {
    "scrolled": true
   },
   "outputs": [
    {
     "data": {
      "text/html": [
       "<div>\n",
       "<style scoped>\n",
       "    .dataframe tbody tr th:only-of-type {\n",
       "        vertical-align: middle;\n",
       "    }\n",
       "\n",
       "    .dataframe tbody tr th {\n",
       "        vertical-align: top;\n",
       "    }\n",
       "\n",
       "    .dataframe thead th {\n",
       "        text-align: right;\n",
       "    }\n",
       "</style>\n",
       "<table border=\"1\" class=\"dataframe\">\n",
       "  <thead>\n",
       "    <tr style=\"text-align: right;\">\n",
       "      <th></th>\n",
       "      <th>title</th>\n",
       "      <th>pu_number</th>\n",
       "      <th>show_start_date</th>\n",
       "      <th>type</th>\n",
       "      <th>film_studio</th>\n",
       "      <th>production_country</th>\n",
       "      <th>director</th>\n",
       "      <th>producer</th>\n",
       "      <th>age_restriction</th>\n",
       "      <th>refundable_support</th>\n",
       "      <th>nonrefundable_support</th>\n",
       "      <th>budget</th>\n",
       "      <th>financing_source</th>\n",
       "      <th>ratings</th>\n",
       "      <th>genres</th>\n",
       "      <th>box_office</th>\n",
       "    </tr>\n",
       "  </thead>\n",
       "  <tbody>\n",
       "    <tr>\n",
       "      <th>6379</th>\n",
       "      <td>Ян Антонышев</td>\n",
       "      <td>112011918</td>\n",
       "      <td>2018-11-15 12:00:00</td>\n",
       "      <td>Документальный</td>\n",
       "      <td>unknown</td>\n",
       "      <td>Россия</td>\n",
       "      <td>Е.Окопная</td>\n",
       "      <td>Е.Герасимов</td>\n",
       "      <td>«12+» - для детей старше 12 лет</td>\n",
       "      <td>0</td>\n",
       "      <td>0</td>\n",
       "      <td>0</td>\n",
       "      <td>нет</td>\n",
       "      <td>NaN</td>\n",
       "      <td>unknown</td>\n",
       "      <td>NaN</td>\n",
       "    </tr>\n",
       "    <tr>\n",
       "      <th>6378</th>\n",
       "      <td>Ян Антонышев</td>\n",
       "      <td>112011818</td>\n",
       "      <td>2018-11-15 12:00:00</td>\n",
       "      <td>Документальный</td>\n",
       "      <td>unknown</td>\n",
       "      <td>Россия</td>\n",
       "      <td>Е.Окопная</td>\n",
       "      <td>Е.Герасимов</td>\n",
       "      <td>«12+» - для детей старше 12 лет</td>\n",
       "      <td>0</td>\n",
       "      <td>0</td>\n",
       "      <td>0</td>\n",
       "      <td>нет</td>\n",
       "      <td>NaN</td>\n",
       "      <td>unknown</td>\n",
       "      <td>NaN</td>\n",
       "    </tr>\n",
       "    <tr>\n",
       "      <th>1703</th>\n",
       "      <td>Я, снова я и мама</td>\n",
       "      <td>121013116</td>\n",
       "      <td>2016-05-23 12:00:00</td>\n",
       "      <td>Художественный</td>\n",
       "      <td>Гомон, Эль Джи Эм Продакшнз, Ректанль Продюксь...</td>\n",
       "      <td>Франция-Бельгия</td>\n",
       "      <td>Гийом Гальенн</td>\n",
       "      <td>Жан-Батист Дюпон, Алис Жирар, Сирил Кольбо-Жюстен</td>\n",
       "      <td>«16+» - для детей старше 16 лет</td>\n",
       "      <td>0</td>\n",
       "      <td>0</td>\n",
       "      <td>0</td>\n",
       "      <td>нет</td>\n",
       "      <td>6.30</td>\n",
       "      <td>комедия,мелодрама,драма</td>\n",
       "      <td>NaN</td>\n",
       "    </tr>\n",
       "    <tr>\n",
       "      <th>1704</th>\n",
       "      <td>Я, снова я и мама</td>\n",
       "      <td>121030213</td>\n",
       "      <td>2013-11-21 12:00:00</td>\n",
       "      <td>Художественный</td>\n",
       "      <td>Гомон, Эль Джи Эм Продакшнз, Ректанль Продюксь...</td>\n",
       "      <td>Франция-Бельгия</td>\n",
       "      <td>Гийом Гальенн</td>\n",
       "      <td>Жан-Батист Дюпон, Алис Жирар, Сирил Кольбо-Жюстен</td>\n",
       "      <td>«16+» - для детей старше 16 лет</td>\n",
       "      <td>0</td>\n",
       "      <td>0</td>\n",
       "      <td>0</td>\n",
       "      <td>нет</td>\n",
       "      <td>6.30</td>\n",
       "      <td>комедия,мелодрама,драма</td>\n",
       "      <td>NaN</td>\n",
       "    </tr>\n",
       "    <tr>\n",
       "      <th>4070</th>\n",
       "      <td>Я ненавижу день святого Валентина</td>\n",
       "      <td>121002010</td>\n",
       "      <td>2010-02-04 12:00:00</td>\n",
       "      <td>Художественный</td>\n",
       "      <td>Блю Стар Пикчерз, Ай Хэйт Вдэй Продакшнз, Ай С...</td>\n",
       "      <td>США</td>\n",
       "      <td>Ниа Вардалос</td>\n",
       "      <td>Доминик Йанно, Мэдлейн Шерак, Уильям Шерак</td>\n",
       "      <td>«16+» - для детей старше 16 лет</td>\n",
       "      <td>0</td>\n",
       "      <td>0</td>\n",
       "      <td>0</td>\n",
       "      <td>нет</td>\n",
       "      <td>5.00</td>\n",
       "      <td>мелодрама,комедия</td>\n",
       "      <td>NaN</td>\n",
       "    </tr>\n",
       "    <tr>\n",
       "      <th>4504</th>\n",
       "      <td>Я ненавижу день святого Валентина</td>\n",
       "      <td>221139210</td>\n",
       "      <td>2010-12-03 12:00:00</td>\n",
       "      <td>Художественный</td>\n",
       "      <td>Блю Стар Пикчерз, Ай Хэйт Вдэй Продакшнз, Ай С...</td>\n",
       "      <td>США</td>\n",
       "      <td>Ниа Вардалос</td>\n",
       "      <td>Доминик Йанно, Мэдлейн Шерак, Уильям Шерак</td>\n",
       "      <td>«16+» - для детей старше 16 лет</td>\n",
       "      <td>0</td>\n",
       "      <td>0</td>\n",
       "      <td>0</td>\n",
       "      <td>нет</td>\n",
       "      <td>5.00</td>\n",
       "      <td>мелодрама,комедия</td>\n",
       "      <td>NaN</td>\n",
       "    </tr>\n",
       "    <tr>\n",
       "      <th>1810</th>\n",
       "      <td>Этим утром в Нью-Йорке</td>\n",
       "      <td>221033214</td>\n",
       "      <td>2014-08-20 12:00:00</td>\n",
       "      <td>Художественный</td>\n",
       "      <td>Лэндскейп Интертейнмент, Форс Мажор, Проминент...</td>\n",
       "      <td>США</td>\n",
       "      <td>Фил Олден Робинсон</td>\n",
       "      <td>Боб Купер, Тайлер Митчелл, Дэниэл Дж. Уолкер</td>\n",
       "      <td>«12+» - для детей старше 12 лет</td>\n",
       "      <td>0</td>\n",
       "      <td>0</td>\n",
       "      <td>0</td>\n",
       "      <td>нет</td>\n",
       "      <td>6.20</td>\n",
       "      <td>драма,комедия</td>\n",
       "      <td>1090.00</td>\n",
       "    </tr>\n",
       "    <tr>\n",
       "      <th>1811</th>\n",
       "      <td>Этим утром в Нью-Йорке</td>\n",
       "      <td>121009614</td>\n",
       "      <td>2014-05-21 12:00:00</td>\n",
       "      <td>Художественный</td>\n",
       "      <td>Лэндскейп Интертейнмент, Форс Мажор, Проминент...</td>\n",
       "      <td>США</td>\n",
       "      <td>Фил Олден Робинсон</td>\n",
       "      <td>Боб Купер, Тайлер Митчелл, Дэниэл Дж. Уолкер</td>\n",
       "      <td>«12+» - для детей старше 12 лет</td>\n",
       "      <td>0</td>\n",
       "      <td>0</td>\n",
       "      <td>0</td>\n",
       "      <td>нет</td>\n",
       "      <td>6.20</td>\n",
       "      <td>драма,комедия</td>\n",
       "      <td>360.00</td>\n",
       "    </tr>\n",
       "    <tr>\n",
       "      <th>4607</th>\n",
       "      <td>Эскадрилья \"Лафайет\"</td>\n",
       "      <td>221160910</td>\n",
       "      <td>2010-12-17 12:00:00</td>\n",
       "      <td>Художественный</td>\n",
       "      <td>Электрик Интертейнмент, Инжениус Интертейнмент...</td>\n",
       "      <td>Франция-США</td>\n",
       "      <td>Тони Билл</td>\n",
       "      <td>Дин Девлин, Марк Фрайдман</td>\n",
       "      <td>«16+» - для детей старше 16 лет</td>\n",
       "      <td>0</td>\n",
       "      <td>0</td>\n",
       "      <td>0</td>\n",
       "      <td>нет</td>\n",
       "      <td>7.40</td>\n",
       "      <td>боевик,драма,мелодрама</td>\n",
       "      <td>NaN</td>\n",
       "    </tr>\n",
       "    <tr>\n",
       "      <th>334</th>\n",
       "      <td>Эскадрилья \"Лафайет\"</td>\n",
       "      <td>221031915</td>\n",
       "      <td>2015-07-29 12:00:00</td>\n",
       "      <td>Художественный</td>\n",
       "      <td>Электрик Интертейнмент, Инжениус Интертейнмент...</td>\n",
       "      <td>Франция-США</td>\n",
       "      <td>Тони Билл</td>\n",
       "      <td>Дин Девлин, Марк Фрайдман</td>\n",
       "      <td>«16+» - для детей старше 16 лет</td>\n",
       "      <td>0</td>\n",
       "      <td>0</td>\n",
       "      <td>0</td>\n",
       "      <td>нет</td>\n",
       "      <td>7.40</td>\n",
       "      <td>боевик,драма,мелодрама</td>\n",
       "      <td>NaN</td>\n",
       "    </tr>\n",
       "    <tr>\n",
       "      <th>705</th>\n",
       "      <td>Эпик /По произведению Уильяма Джойса/</td>\n",
       "      <td>224028313</td>\n",
       "      <td>2013-11-05 12:00:00</td>\n",
       "      <td>Анимационный</td>\n",
       "      <td>ХХ век Фокс, Блю Скай Студиос</td>\n",
       "      <td>США</td>\n",
       "      <td>Крис Уэдж</td>\n",
       "      <td>Джерри Дэвис, Лори Форте, Джеймс В.Харт</td>\n",
       "      <td>«0+» - для любой зрительской аудитории</td>\n",
       "      <td>0</td>\n",
       "      <td>0</td>\n",
       "      <td>0</td>\n",
       "      <td>нет</td>\n",
       "      <td>6.90</td>\n",
       "      <td>мультфильм,фэнтези,приключения</td>\n",
       "      <td>NaN</td>\n",
       "    </tr>\n",
       "    <tr>\n",
       "      <th>706</th>\n",
       "      <td>Эпик /По произведению Уильяма Джойса/</td>\n",
       "      <td>124001613</td>\n",
       "      <td>2013-05-15 12:00:00</td>\n",
       "      <td>Анимационный</td>\n",
       "      <td>ХХ век Фокс, Блю Скай Студиос</td>\n",
       "      <td>США</td>\n",
       "      <td>Крис Уэдж</td>\n",
       "      <td>Джерри Дэвис, Лори Форте, Джеймс В.Харт</td>\n",
       "      <td>«0+» - для любой зрительской аудитории</td>\n",
       "      <td>0</td>\n",
       "      <td>0</td>\n",
       "      <td>0</td>\n",
       "      <td>нет</td>\n",
       "      <td>6.90</td>\n",
       "      <td>мультфильм,фэнтези,приключения</td>\n",
       "      <td>NaN</td>\n",
       "    </tr>\n",
       "    <tr>\n",
       "      <th>1299</th>\n",
       "      <td>Эпидемия_</td>\n",
       "      <td>221000616</td>\n",
       "      <td>2016-01-29 12:00:00</td>\n",
       "      <td>Художественный</td>\n",
       "      <td>Морена Фильм, Ребелион Террестр, А 3 Медиа Гру...</td>\n",
       "      <td>Испания-Франция</td>\n",
       "      <td>Алекс Пастор, Давид Пастор</td>\n",
       "      <td>Мерседес Гамеро, Альберто Марини, Педро Уриоль</td>\n",
       "      <td>«16+» - для детей старше 16 лет</td>\n",
       "      <td>0</td>\n",
       "      <td>0</td>\n",
       "      <td>0</td>\n",
       "      <td>нет</td>\n",
       "      <td>7.20</td>\n",
       "      <td>драма,фантастика,триллер</td>\n",
       "      <td>NaN</td>\n",
       "    </tr>\n",
       "    <tr>\n",
       "      <th>1301</th>\n",
       "      <td>Эпидемия_</td>\n",
       "      <td>221035513</td>\n",
       "      <td>2013-10-07 12:00:00</td>\n",
       "      <td>Художественный</td>\n",
       "      <td>Морена Фильм, Ребелион Террестр, А 3 Медиа Гру...</td>\n",
       "      <td>Испания-Франция</td>\n",
       "      <td>Алекс Пастор, Давид Пастор</td>\n",
       "      <td>Мерседес Гамеро, Альберто Марини, Педро Уриоль</td>\n",
       "      <td>«16+» - для детей старше 16 лет</td>\n",
       "      <td>0</td>\n",
       "      <td>0</td>\n",
       "      <td>0</td>\n",
       "      <td>нет</td>\n",
       "      <td>7.20</td>\n",
       "      <td>драма,фантастика,триллер</td>\n",
       "      <td>NaN</td>\n",
       "    </tr>\n",
       "    <tr>\n",
       "      <th>1300</th>\n",
       "      <td>Эпидемия_</td>\n",
       "      <td>121025713</td>\n",
       "      <td>2013-10-07 12:00:00</td>\n",
       "      <td>Художественный</td>\n",
       "      <td>Морена Фильм, Ребелион Террестр, А 3 Медиа Гру...</td>\n",
       "      <td>Испания-Франция</td>\n",
       "      <td>Алекс Пастор, Давид Пастор</td>\n",
       "      <td>Мерседес Гамеро, Альберто Марини, Педро Уриоль</td>\n",
       "      <td>«16+» - для детей старше 16 лет</td>\n",
       "      <td>0</td>\n",
       "      <td>0</td>\n",
       "      <td>0</td>\n",
       "      <td>нет</td>\n",
       "      <td>7.20</td>\n",
       "      <td>драма,фантастика,триллер</td>\n",
       "      <td>NaN</td>\n",
       "    </tr>\n",
       "    <tr>\n",
       "      <th>3174</th>\n",
       "      <td>Элвин и бурундуки: Грандиозное бурундуключение</td>\n",
       "      <td>121026415</td>\n",
       "      <td>2015-12-30 12:00:00</td>\n",
       "      <td>Художественный</td>\n",
       "      <td>Фокс 2000, Ридженси Энтерпрайзис, Багдасарян П...</td>\n",
       "      <td>США</td>\n",
       "      <td>Уолт Бекер</td>\n",
       "      <td>Росс Багдасарян младший, Дженис Карман</td>\n",
       "      <td>«6+» - для детей старше 6 лет</td>\n",
       "      <td>0</td>\n",
       "      <td>0</td>\n",
       "      <td>0</td>\n",
       "      <td>нет</td>\n",
       "      <td>5.80</td>\n",
       "      <td>семейный,комедия,музыка</td>\n",
       "      <td>216000243.90</td>\n",
       "    </tr>\n",
       "    <tr>\n",
       "      <th>3173</th>\n",
       "      <td>Элвин и бурундуки: Грандиозное бурундуключение</td>\n",
       "      <td>221017716</td>\n",
       "      <td>2016-03-29 12:00:00</td>\n",
       "      <td>Художественный</td>\n",
       "      <td>Фокс 2000, Ридженси Энтерпрайзис, Багдасарян П...</td>\n",
       "      <td>США</td>\n",
       "      <td>Уолт Бекер</td>\n",
       "      <td>Росс Багдасарян младший, Дженис Карман</td>\n",
       "      <td>«6+» - для детей старше 6 лет</td>\n",
       "      <td>0</td>\n",
       "      <td>0</td>\n",
       "      <td>0</td>\n",
       "      <td>нет</td>\n",
       "      <td>5.80</td>\n",
       "      <td>семейный,комедия,музыка</td>\n",
       "      <td>NaN</td>\n",
       "    </tr>\n",
       "    <tr>\n",
       "      <th>591</th>\n",
       "      <td>Экстрасенс_</td>\n",
       "      <td>221039013</td>\n",
       "      <td>2013-10-25 12:00:00</td>\n",
       "      <td>Художественный</td>\n",
       "      <td>Би-Би-Си, Креатив Шотланд, ЛипСинк Продакшнз, ...</td>\n",
       "      <td>Великобритания</td>\n",
       "      <td>Ник Мерфи</td>\n",
       "      <td>Сара Кертис, Дэвид М.Томпсон, Джулия Стэннард</td>\n",
       "      <td>«16+» - для детей старше 16 лет</td>\n",
       "      <td>0</td>\n",
       "      <td>0</td>\n",
       "      <td>0</td>\n",
       "      <td>нет</td>\n",
       "      <td>6.60</td>\n",
       "      <td>триллер,криминал,детектив</td>\n",
       "      <td>NaN</td>\n",
       "    </tr>\n",
       "    <tr>\n",
       "      <th>592</th>\n",
       "      <td>Экстрасенс_</td>\n",
       "      <td>121002212</td>\n",
       "      <td>2012-01-31 12:00:00</td>\n",
       "      <td>Художественный</td>\n",
       "      <td>Би-Би-Си, Креатив Шотланд, ЛипСинк Продакшнз, ...</td>\n",
       "      <td>Великобритания</td>\n",
       "      <td>Ник Мерфи</td>\n",
       "      <td>Сара Кертис, Дэвид М.Томпсон, Джулия Стэннард</td>\n",
       "      <td>«16+» - для детей старше 16 лет</td>\n",
       "      <td>0</td>\n",
       "      <td>0</td>\n",
       "      <td>0</td>\n",
       "      <td>нет</td>\n",
       "      <td>6.60</td>\n",
       "      <td>триллер,криминал,детектив</td>\n",
       "      <td>NaN</td>\n",
       "    </tr>\n",
       "    <tr>\n",
       "      <th>3026</th>\n",
       "      <td>Эдди \"Орёл\"</td>\n",
       "      <td>221022216</td>\n",
       "      <td>2016-05-05 12:00:00</td>\n",
       "      <td>Художественный</td>\n",
       "      <td>Марв Филмз, Сэвил Продакшнз, Студио Бабелсберг...</td>\n",
       "      <td>Великобритания-США-Германия</td>\n",
       "      <td>Декстер Флетчер</td>\n",
       "      <td>Адам Болинг, Руперт Маконик, Дэвид Рейд</td>\n",
       "      <td>«16+» - для детей старше 16 лет</td>\n",
       "      <td>0</td>\n",
       "      <td>0</td>\n",
       "      <td>0</td>\n",
       "      <td>нет</td>\n",
       "      <td>5.70</td>\n",
       "      <td>ужасы,комедия,музыка</td>\n",
       "      <td>NaN</td>\n",
       "    </tr>\n",
       "    <tr>\n",
       "      <th>3027</th>\n",
       "      <td>Эдди \"Орёл\"</td>\n",
       "      <td>121006316</td>\n",
       "      <td>2016-03-23 12:00:00</td>\n",
       "      <td>Художественный</td>\n",
       "      <td>Марв Филмз, Сэвил Продакшнз, Студио Бабелсберг...</td>\n",
       "      <td>Великобритания-США-Германия</td>\n",
       "      <td>Декстер Флетчер</td>\n",
       "      <td>Адам Болинг, Руперт Маконик, Дэвид Рейд</td>\n",
       "      <td>«16+» - для детей старше 16 лет</td>\n",
       "      <td>0</td>\n",
       "      <td>0</td>\n",
       "      <td>0</td>\n",
       "      <td>нет</td>\n",
       "      <td>5.70</td>\n",
       "      <td>ужасы,комедия,музыка</td>\n",
       "      <td>27200398.96</td>\n",
       "    </tr>\n",
       "    <tr>\n",
       "      <th>4489</th>\n",
       "      <td>Шрэк навсегда</td>\n",
       "      <td>224025010</td>\n",
       "      <td>2010-11-12 12:00:00</td>\n",
       "      <td>Анимационный</td>\n",
       "      <td>ДримУоркс Анимейшн, ПацификДэйт Имейджес</td>\n",
       "      <td>США</td>\n",
       "      <td>Майк Митчел</td>\n",
       "      <td>Тереза Ченг, Джина Шэй</td>\n",
       "      <td>«12+» - для детей старше 12 лет</td>\n",
       "      <td>0</td>\n",
       "      <td>0</td>\n",
       "      <td>0</td>\n",
       "      <td>нет</td>\n",
       "      <td>7.00</td>\n",
       "      <td>мультфильм,фэнтези,мелодрама</td>\n",
       "      <td>NaN</td>\n",
       "    </tr>\n",
       "    <tr>\n",
       "      <th>4543</th>\n",
       "      <td>Шрэк навсегда</td>\n",
       "      <td>124000210</td>\n",
       "      <td>2010-04-19 12:00:00</td>\n",
       "      <td>Анимационный</td>\n",
       "      <td>ДримУоркс Анимейшн, ПацификДэйт Имейджес</td>\n",
       "      <td>США</td>\n",
       "      <td>Майк Митчел</td>\n",
       "      <td>Тереза Ченг, Джина Шэй</td>\n",
       "      <td>«12+» - для детей старше 12 лет</td>\n",
       "      <td>0</td>\n",
       "      <td>0</td>\n",
       "      <td>0</td>\n",
       "      <td>нет</td>\n",
       "      <td>7.00</td>\n",
       "      <td>мультфильм,фэнтези,мелодрама</td>\n",
       "      <td>4070.00</td>\n",
       "    </tr>\n",
       "    <tr>\n",
       "      <th>4748</th>\n",
       "      <td>Шрэк навсегда</td>\n",
       "      <td>224022910</td>\n",
       "      <td>2010-11-16 12:00:00</td>\n",
       "      <td>Анимационный</td>\n",
       "      <td>ДримУоркс Анимейшн, ПацификДэйт Имейджес</td>\n",
       "      <td>США</td>\n",
       "      <td>Майк Митчел</td>\n",
       "      <td>Тереза Ченг, Джина Шэй</td>\n",
       "      <td>«12+» - для детей старше 12 лет</td>\n",
       "      <td>0</td>\n",
       "      <td>0</td>\n",
       "      <td>0</td>\n",
       "      <td>нет</td>\n",
       "      <td>7.00</td>\n",
       "      <td>мультфильм,фэнтези,мелодрама</td>\n",
       "      <td>NaN</td>\n",
       "    </tr>\n",
       "    <tr>\n",
       "      <th>599</th>\n",
       "      <td>Шпион, выйди вон! /По мотивам романа Джона Ле ...</td>\n",
       "      <td>221067014</td>\n",
       "      <td>2014-11-14 12:00:00</td>\n",
       "      <td>Художественный</td>\n",
       "      <td>Студио Канал</td>\n",
       "      <td>Франция-Великобритания-Германия</td>\n",
       "      <td>Томас Альфредсон</td>\n",
       "      <td>Тим Беван, Эрик Феллнер, Робин Слово</td>\n",
       "      <td>«18+» - запрещено для детей</td>\n",
       "      <td>0</td>\n",
       "      <td>0</td>\n",
       "      <td>0</td>\n",
       "      <td>нет</td>\n",
       "      <td>6.60</td>\n",
       "      <td>триллер,детектив</td>\n",
       "      <td>NaN</td>\n",
       "    </tr>\n",
       "    <tr>\n",
       "      <th>4971</th>\n",
       "      <td>Шпион, выйди вон! /По мотивам романа Джона Ле ...</td>\n",
       "      <td>121023011</td>\n",
       "      <td>2011-12-06 12:00:00</td>\n",
       "      <td>Художественный</td>\n",
       "      <td>Студио Канал</td>\n",
       "      <td>Франция-Великобритания-Германия</td>\n",
       "      <td>Томас Альфредсон</td>\n",
       "      <td>Тим Беван, Эрик Феллнер, Робин Слово</td>\n",
       "      <td>«18+» - запрещено для детей</td>\n",
       "      <td>0</td>\n",
       "      <td>0</td>\n",
       "      <td>0</td>\n",
       "      <td>нет</td>\n",
       "      <td>6.60</td>\n",
       "      <td>триллер,детектив</td>\n",
       "      <td>NaN</td>\n",
       "    </tr>\n",
       "    <tr>\n",
       "      <th>6879</th>\n",
       "      <td>Шпион по соседству</td>\n",
       "      <td>124002419</td>\n",
       "      <td>2019-04-26 12:00:00</td>\n",
       "      <td>Анимационный</td>\n",
       "      <td>Копенгаген Бомбей Продакшн 1</td>\n",
       "      <td>Дания</td>\n",
       "      <td>Карла фон Бенгтсон</td>\n",
       "      <td>Фи Орнсо, Метт Вольбьорн. Скотт</td>\n",
       "      <td>«12+» - для детей старше 12 лет</td>\n",
       "      <td>0</td>\n",
       "      <td>0</td>\n",
       "      <td>0</td>\n",
       "      <td>нет</td>\n",
       "      <td>6.10</td>\n",
       "      <td>боевик,комедия,семейный</td>\n",
       "      <td>NaN</td>\n",
       "    </tr>\n",
       "    <tr>\n",
       "      <th>4335</th>\n",
       "      <td>Шпион по соседству</td>\n",
       "      <td>121000710</td>\n",
       "      <td>2010-01-20 12:00:00</td>\n",
       "      <td>Художественный</td>\n",
       "      <td>Релативити Медиа, Лайонсгейт Филмз, Роберт Сай...</td>\n",
       "      <td>США</td>\n",
       "      <td>Браян Левант</td>\n",
       "      <td>Роберт Саймондс</td>\n",
       "      <td>«12+» - для детей старше 12 лет</td>\n",
       "      <td>0</td>\n",
       "      <td>0</td>\n",
       "      <td>0</td>\n",
       "      <td>нет</td>\n",
       "      <td>6.10</td>\n",
       "      <td>боевик,комедия,семейный</td>\n",
       "      <td>NaN</td>\n",
       "    </tr>\n",
       "    <tr>\n",
       "      <th>4717</th>\n",
       "      <td>Шерлок Холмс</td>\n",
       "      <td>221056710</td>\n",
       "      <td>2010-04-14 12:00:00</td>\n",
       "      <td>Художественный</td>\n",
       "      <td>Лин Пикчерз, Сильвер Пикчерз, Виладж Роадшоу П...</td>\n",
       "      <td>США-Германия</td>\n",
       "      <td>Гай Ричи</td>\n",
       "      <td>Сьюзан Доуни, Дэн Лин, Джоел Сильвер, Лайонел ...</td>\n",
       "      <td>«12+» - для детей старше 12 лет</td>\n",
       "      <td>0</td>\n",
       "      <td>0</td>\n",
       "      <td>0</td>\n",
       "      <td>нет</td>\n",
       "      <td>8.10</td>\n",
       "      <td>боевик,приключения,триллер</td>\n",
       "      <td>NaN</td>\n",
       "    </tr>\n",
       "    <tr>\n",
       "      <th>3899</th>\n",
       "      <td>Шерлок Холмс</td>\n",
       "      <td>221083510</td>\n",
       "      <td>2010-07-15 12:00:00</td>\n",
       "      <td>Художественный</td>\n",
       "      <td>Лин Пикчерз, Сильвер Пикчерз, Виладж Роадшоу П...</td>\n",
       "      <td>США-Германия</td>\n",
       "      <td>Гай Ричи</td>\n",
       "      <td>Сьюзан Доуни, Дэн Лин, Джоел Сильвер, Лайонел ...</td>\n",
       "      <td>«12+» - для детей старше 12 лет</td>\n",
       "      <td>0</td>\n",
       "      <td>0</td>\n",
       "      <td>0</td>\n",
       "      <td>нет</td>\n",
       "      <td>8.10</td>\n",
       "      <td>боевик,приключения,триллер</td>\n",
       "      <td>NaN</td>\n",
       "    </tr>\n",
       "  </tbody>\n",
       "</table>\n",
       "</div>"
      ],
      "text/plain": [
       "                                                  title  pu_number  \\\n",
       "6379                                       Ян Антонышев  112011918   \n",
       "6378                                       Ян Антонышев  112011818   \n",
       "1703                                  Я, снова я и мама  121013116   \n",
       "1704                                  Я, снова я и мама  121030213   \n",
       "4070                  Я ненавижу день святого Валентина  121002010   \n",
       "4504                  Я ненавижу день святого Валентина  221139210   \n",
       "1810                             Этим утром в Нью-Йорке  221033214   \n",
       "1811                             Этим утром в Нью-Йорке  121009614   \n",
       "4607                               Эскадрилья \"Лафайет\"  221160910   \n",
       "334                                Эскадрилья \"Лафайет\"  221031915   \n",
       "705               Эпик /По произведению Уильяма Джойса/  224028313   \n",
       "706               Эпик /По произведению Уильяма Джойса/  124001613   \n",
       "1299                                          Эпидемия_  221000616   \n",
       "1301                                          Эпидемия_  221035513   \n",
       "1300                                          Эпидемия_  121025713   \n",
       "3174     Элвин и бурундуки: Грандиозное бурундуключение  121026415   \n",
       "3173     Элвин и бурундуки: Грандиозное бурундуключение  221017716   \n",
       "591                                         Экстрасенс_  221039013   \n",
       "592                                         Экстрасенс_  121002212   \n",
       "3026                                        Эдди \"Орёл\"  221022216   \n",
       "3027                                        Эдди \"Орёл\"  121006316   \n",
       "4489                                      Шрэк навсегда  224025010   \n",
       "4543                                      Шрэк навсегда  124000210   \n",
       "4748                                      Шрэк навсегда  224022910   \n",
       "599   Шпион, выйди вон! /По мотивам романа Джона Ле ...  221067014   \n",
       "4971  Шпион, выйди вон! /По мотивам романа Джона Ле ...  121023011   \n",
       "6879                                 Шпион по соседству  124002419   \n",
       "4335                                 Шпион по соседству  121000710   \n",
       "4717                                       Шерлок Холмс  221056710   \n",
       "3899                                       Шерлок Холмс  221083510   \n",
       "\n",
       "         show_start_date            type  \\\n",
       "6379 2018-11-15 12:00:00  Документальный   \n",
       "6378 2018-11-15 12:00:00  Документальный   \n",
       "1703 2016-05-23 12:00:00  Художественный   \n",
       "1704 2013-11-21 12:00:00  Художественный   \n",
       "4070 2010-02-04 12:00:00  Художественный   \n",
       "4504 2010-12-03 12:00:00  Художественный   \n",
       "1810 2014-08-20 12:00:00  Художественный   \n",
       "1811 2014-05-21 12:00:00  Художественный   \n",
       "4607 2010-12-17 12:00:00  Художественный   \n",
       "334  2015-07-29 12:00:00  Художественный   \n",
       "705  2013-11-05 12:00:00    Анимационный   \n",
       "706  2013-05-15 12:00:00    Анимационный   \n",
       "1299 2016-01-29 12:00:00  Художественный   \n",
       "1301 2013-10-07 12:00:00  Художественный   \n",
       "1300 2013-10-07 12:00:00  Художественный   \n",
       "3174 2015-12-30 12:00:00  Художественный   \n",
       "3173 2016-03-29 12:00:00  Художественный   \n",
       "591  2013-10-25 12:00:00  Художественный   \n",
       "592  2012-01-31 12:00:00  Художественный   \n",
       "3026 2016-05-05 12:00:00  Художественный   \n",
       "3027 2016-03-23 12:00:00  Художественный   \n",
       "4489 2010-11-12 12:00:00    Анимационный   \n",
       "4543 2010-04-19 12:00:00    Анимационный   \n",
       "4748 2010-11-16 12:00:00    Анимационный   \n",
       "599  2014-11-14 12:00:00  Художественный   \n",
       "4971 2011-12-06 12:00:00  Художественный   \n",
       "6879 2019-04-26 12:00:00    Анимационный   \n",
       "4335 2010-01-20 12:00:00  Художественный   \n",
       "4717 2010-04-14 12:00:00  Художественный   \n",
       "3899 2010-07-15 12:00:00  Художественный   \n",
       "\n",
       "                                            film_studio  \\\n",
       "6379                                            unknown   \n",
       "6378                                            unknown   \n",
       "1703  Гомон, Эль Джи Эм Продакшнз, Ректанль Продюксь...   \n",
       "1704  Гомон, Эль Джи Эм Продакшнз, Ректанль Продюксь...   \n",
       "4070  Блю Стар Пикчерз, Ай Хэйт Вдэй Продакшнз, Ай С...   \n",
       "4504  Блю Стар Пикчерз, Ай Хэйт Вдэй Продакшнз, Ай С...   \n",
       "1810  Лэндскейп Интертейнмент, Форс Мажор, Проминент...   \n",
       "1811  Лэндскейп Интертейнмент, Форс Мажор, Проминент...   \n",
       "4607  Электрик Интертейнмент, Инжениус Интертейнмент...   \n",
       "334   Электрик Интертейнмент, Инжениус Интертейнмент...   \n",
       "705                       ХХ век Фокс, Блю Скай Студиос   \n",
       "706                       ХХ век Фокс, Блю Скай Студиос   \n",
       "1299  Морена Фильм, Ребелион Террестр, А 3 Медиа Гру...   \n",
       "1301  Морена Фильм, Ребелион Террестр, А 3 Медиа Гру...   \n",
       "1300  Морена Фильм, Ребелион Террестр, А 3 Медиа Гру...   \n",
       "3174  Фокс 2000, Ридженси Энтерпрайзис, Багдасарян П...   \n",
       "3173  Фокс 2000, Ридженси Энтерпрайзис, Багдасарян П...   \n",
       "591   Би-Би-Си, Креатив Шотланд, ЛипСинк Продакшнз, ...   \n",
       "592   Би-Би-Си, Креатив Шотланд, ЛипСинк Продакшнз, ...   \n",
       "3026  Марв Филмз, Сэвил Продакшнз, Студио Бабелсберг...   \n",
       "3027  Марв Филмз, Сэвил Продакшнз, Студио Бабелсберг...   \n",
       "4489           ДримУоркс Анимейшн, ПацификДэйт Имейджес   \n",
       "4543           ДримУоркс Анимейшн, ПацификДэйт Имейджес   \n",
       "4748           ДримУоркс Анимейшн, ПацификДэйт Имейджес   \n",
       "599                                        Студио Канал   \n",
       "4971                                       Студио Канал   \n",
       "6879                       Копенгаген Бомбей Продакшн 1   \n",
       "4335  Релативити Медиа, Лайонсгейт Филмз, Роберт Сай...   \n",
       "4717  Лин Пикчерз, Сильвер Пикчерз, Виладж Роадшоу П...   \n",
       "3899  Лин Пикчерз, Сильвер Пикчерз, Виладж Роадшоу П...   \n",
       "\n",
       "                   production_country                    director  \\\n",
       "6379                           Россия                   Е.Окопная   \n",
       "6378                           Россия                   Е.Окопная   \n",
       "1703                  Франция-Бельгия               Гийом Гальенн   \n",
       "1704                  Франция-Бельгия               Гийом Гальенн   \n",
       "4070                              США                Ниа Вардалос   \n",
       "4504                              США                Ниа Вардалос   \n",
       "1810                              США          Фил Олден Робинсон   \n",
       "1811                              США          Фил Олден Робинсон   \n",
       "4607                      Франция-США                   Тони Билл   \n",
       "334                       Франция-США                   Тони Билл   \n",
       "705                               США                   Крис Уэдж   \n",
       "706                               США                   Крис Уэдж   \n",
       "1299                  Испания-Франция  Алекс Пастор, Давид Пастор   \n",
       "1301                  Испания-Франция  Алекс Пастор, Давид Пастор   \n",
       "1300                  Испания-Франция  Алекс Пастор, Давид Пастор   \n",
       "3174                              США                  Уолт Бекер   \n",
       "3173                              США                  Уолт Бекер   \n",
       "591                    Великобритания                   Ник Мерфи   \n",
       "592                    Великобритания                   Ник Мерфи   \n",
       "3026      Великобритания-США-Германия             Декстер Флетчер   \n",
       "3027      Великобритания-США-Германия             Декстер Флетчер   \n",
       "4489                              США                 Майк Митчел   \n",
       "4543                              США                 Майк Митчел   \n",
       "4748                              США                 Майк Митчел   \n",
       "599   Франция-Великобритания-Германия            Томас Альфредсон   \n",
       "4971  Франция-Великобритания-Германия            Томас Альфредсон   \n",
       "6879                            Дания          Карла фон Бенгтсон   \n",
       "4335                              США                Браян Левант   \n",
       "4717                     США-Германия                    Гай Ричи   \n",
       "3899                     США-Германия                    Гай Ричи   \n",
       "\n",
       "                                               producer  \\\n",
       "6379                                        Е.Герасимов   \n",
       "6378                                        Е.Герасимов   \n",
       "1703  Жан-Батист Дюпон, Алис Жирар, Сирил Кольбо-Жюстен   \n",
       "1704  Жан-Батист Дюпон, Алис Жирар, Сирил Кольбо-Жюстен   \n",
       "4070         Доминик Йанно, Мэдлейн Шерак, Уильям Шерак   \n",
       "4504         Доминик Йанно, Мэдлейн Шерак, Уильям Шерак   \n",
       "1810       Боб Купер, Тайлер Митчелл, Дэниэл Дж. Уолкер   \n",
       "1811       Боб Купер, Тайлер Митчелл, Дэниэл Дж. Уолкер   \n",
       "4607                          Дин Девлин, Марк Фрайдман   \n",
       "334                           Дин Девлин, Марк Фрайдман   \n",
       "705             Джерри Дэвис, Лори Форте, Джеймс В.Харт   \n",
       "706             Джерри Дэвис, Лори Форте, Джеймс В.Харт   \n",
       "1299     Мерседес Гамеро, Альберто Марини, Педро Уриоль   \n",
       "1301     Мерседес Гамеро, Альберто Марини, Педро Уриоль   \n",
       "1300     Мерседес Гамеро, Альберто Марини, Педро Уриоль   \n",
       "3174             Росс Багдасарян младший, Дженис Карман   \n",
       "3173             Росс Багдасарян младший, Дженис Карман   \n",
       "591       Сара Кертис, Дэвид М.Томпсон, Джулия Стэннард   \n",
       "592       Сара Кертис, Дэвид М.Томпсон, Джулия Стэннард   \n",
       "3026            Адам Болинг, Руперт Маконик, Дэвид Рейд   \n",
       "3027            Адам Болинг, Руперт Маконик, Дэвид Рейд   \n",
       "4489                             Тереза Ченг, Джина Шэй   \n",
       "4543                             Тереза Ченг, Джина Шэй   \n",
       "4748                             Тереза Ченг, Джина Шэй   \n",
       "599                Тим Беван, Эрик Феллнер, Робин Слово   \n",
       "4971               Тим Беван, Эрик Феллнер, Робин Слово   \n",
       "6879                    Фи Орнсо, Метт Вольбьорн. Скотт   \n",
       "4335                                    Роберт Саймондс   \n",
       "4717  Сьюзан Доуни, Дэн Лин, Джоел Сильвер, Лайонел ...   \n",
       "3899  Сьюзан Доуни, Дэн Лин, Джоел Сильвер, Лайонел ...   \n",
       "\n",
       "                             age_restriction  refundable_support  \\\n",
       "6379         «12+» - для детей старше 12 лет                   0   \n",
       "6378         «12+» - для детей старше 12 лет                   0   \n",
       "1703         «16+» - для детей старше 16 лет                   0   \n",
       "1704         «16+» - для детей старше 16 лет                   0   \n",
       "4070         «16+» - для детей старше 16 лет                   0   \n",
       "4504         «16+» - для детей старше 16 лет                   0   \n",
       "1810         «12+» - для детей старше 12 лет                   0   \n",
       "1811         «12+» - для детей старше 12 лет                   0   \n",
       "4607         «16+» - для детей старше 16 лет                   0   \n",
       "334          «16+» - для детей старше 16 лет                   0   \n",
       "705   «0+» - для любой зрительской аудитории                   0   \n",
       "706   «0+» - для любой зрительской аудитории                   0   \n",
       "1299         «16+» - для детей старше 16 лет                   0   \n",
       "1301         «16+» - для детей старше 16 лет                   0   \n",
       "1300         «16+» - для детей старше 16 лет                   0   \n",
       "3174           «6+» - для детей старше 6 лет                   0   \n",
       "3173           «6+» - для детей старше 6 лет                   0   \n",
       "591          «16+» - для детей старше 16 лет                   0   \n",
       "592          «16+» - для детей старше 16 лет                   0   \n",
       "3026         «16+» - для детей старше 16 лет                   0   \n",
       "3027         «16+» - для детей старше 16 лет                   0   \n",
       "4489         «12+» - для детей старше 12 лет                   0   \n",
       "4543         «12+» - для детей старше 12 лет                   0   \n",
       "4748         «12+» - для детей старше 12 лет                   0   \n",
       "599              «18+» - запрещено для детей                   0   \n",
       "4971             «18+» - запрещено для детей                   0   \n",
       "6879         «12+» - для детей старше 12 лет                   0   \n",
       "4335         «12+» - для детей старше 12 лет                   0   \n",
       "4717         «12+» - для детей старше 12 лет                   0   \n",
       "3899         «12+» - для детей старше 12 лет                   0   \n",
       "\n",
       "      nonrefundable_support  budget financing_source  ratings  \\\n",
       "6379                      0       0              нет      NaN   \n",
       "6378                      0       0              нет      NaN   \n",
       "1703                      0       0              нет     6.30   \n",
       "1704                      0       0              нет     6.30   \n",
       "4070                      0       0              нет     5.00   \n",
       "4504                      0       0              нет     5.00   \n",
       "1810                      0       0              нет     6.20   \n",
       "1811                      0       0              нет     6.20   \n",
       "4607                      0       0              нет     7.40   \n",
       "334                       0       0              нет     7.40   \n",
       "705                       0       0              нет     6.90   \n",
       "706                       0       0              нет     6.90   \n",
       "1299                      0       0              нет     7.20   \n",
       "1301                      0       0              нет     7.20   \n",
       "1300                      0       0              нет     7.20   \n",
       "3174                      0       0              нет     5.80   \n",
       "3173                      0       0              нет     5.80   \n",
       "591                       0       0              нет     6.60   \n",
       "592                       0       0              нет     6.60   \n",
       "3026                      0       0              нет     5.70   \n",
       "3027                      0       0              нет     5.70   \n",
       "4489                      0       0              нет     7.00   \n",
       "4543                      0       0              нет     7.00   \n",
       "4748                      0       0              нет     7.00   \n",
       "599                       0       0              нет     6.60   \n",
       "4971                      0       0              нет     6.60   \n",
       "6879                      0       0              нет     6.10   \n",
       "4335                      0       0              нет     6.10   \n",
       "4717                      0       0              нет     8.10   \n",
       "3899                      0       0              нет     8.10   \n",
       "\n",
       "                              genres   box_office  \n",
       "6379                         unknown          NaN  \n",
       "6378                         unknown          NaN  \n",
       "1703         комедия,мелодрама,драма          NaN  \n",
       "1704         комедия,мелодрама,драма          NaN  \n",
       "4070               мелодрама,комедия          NaN  \n",
       "4504               мелодрама,комедия          NaN  \n",
       "1810                   драма,комедия      1090.00  \n",
       "1811                   драма,комедия       360.00  \n",
       "4607          боевик,драма,мелодрама          NaN  \n",
       "334           боевик,драма,мелодрама          NaN  \n",
       "705   мультфильм,фэнтези,приключения          NaN  \n",
       "706   мультфильм,фэнтези,приключения          NaN  \n",
       "1299        драма,фантастика,триллер          NaN  \n",
       "1301        драма,фантастика,триллер          NaN  \n",
       "1300        драма,фантастика,триллер          NaN  \n",
       "3174         семейный,комедия,музыка 216000243.90  \n",
       "3173         семейный,комедия,музыка          NaN  \n",
       "591        триллер,криминал,детектив          NaN  \n",
       "592        триллер,криминал,детектив          NaN  \n",
       "3026            ужасы,комедия,музыка          NaN  \n",
       "3027            ужасы,комедия,музыка  27200398.96  \n",
       "4489    мультфильм,фэнтези,мелодрама          NaN  \n",
       "4543    мультфильм,фэнтези,мелодрама      4070.00  \n",
       "4748    мультфильм,фэнтези,мелодрама          NaN  \n",
       "599                 триллер,детектив          NaN  \n",
       "4971                триллер,детектив          NaN  \n",
       "6879         боевик,комедия,семейный          NaN  \n",
       "4335         боевик,комедия,семейный          NaN  \n",
       "4717      боевик,приключения,триллер          NaN  \n",
       "3899      боевик,приключения,триллер          NaN  "
      ]
     },
     "execution_count": 43,
     "metadata": {},
     "output_type": "execute_result"
    }
   ],
   "source": [
    "data[data['title'].duplicated(keep=False)].sort_values('title', ascending=False).head(30)"
   ]
  },
  {
   "cell_type": "markdown",
   "metadata": {},
   "source": [
    "Удалять дубликаты фильмов мы не можем, несмотря на многочисленные совпадаения, это судя по разным прокатным удостоверениям одни и теже фильмы, но выпущенные в прокат разными организациями, в разных местах. Соответственно несмотря на дублирование самих картин, у них различные финансовые показатели, которые нельзя удалять, они необходимы для анализа."
   ]
  },
  {
   "cell_type": "markdown",
   "metadata": {},
   "source": [
    "Посмотрим на дубликаты по столбцу **'pu_number'**"
   ]
  },
  {
   "cell_type": "code",
   "execution_count": 44,
   "metadata": {},
   "outputs": [
    {
     "data": {
      "text/plain": [
       "2"
      ]
     },
     "execution_count": 44,
     "metadata": {},
     "output_type": "execute_result"
    }
   ],
   "source": [
    "data['pu_number'].duplicated().sum()"
   ]
  },
  {
   "cell_type": "code",
   "execution_count": 45,
   "metadata": {
    "scrolled": true
   },
   "outputs": [
    {
     "data": {
      "text/html": [
       "<div>\n",
       "<style scoped>\n",
       "    .dataframe tbody tr th:only-of-type {\n",
       "        vertical-align: middle;\n",
       "    }\n",
       "\n",
       "    .dataframe tbody tr th {\n",
       "        vertical-align: top;\n",
       "    }\n",
       "\n",
       "    .dataframe thead th {\n",
       "        text-align: right;\n",
       "    }\n",
       "</style>\n",
       "<table border=\"1\" class=\"dataframe\">\n",
       "  <thead>\n",
       "    <tr style=\"text-align: right;\">\n",
       "      <th></th>\n",
       "      <th>title</th>\n",
       "      <th>pu_number</th>\n",
       "      <th>show_start_date</th>\n",
       "      <th>type</th>\n",
       "      <th>film_studio</th>\n",
       "      <th>production_country</th>\n",
       "      <th>director</th>\n",
       "      <th>producer</th>\n",
       "      <th>age_restriction</th>\n",
       "      <th>refundable_support</th>\n",
       "      <th>nonrefundable_support</th>\n",
       "      <th>budget</th>\n",
       "      <th>financing_source</th>\n",
       "      <th>ratings</th>\n",
       "      <th>genres</th>\n",
       "      <th>box_office</th>\n",
       "    </tr>\n",
       "  </thead>\n",
       "  <tbody>\n",
       "    <tr>\n",
       "      <th>4637</th>\n",
       "      <td>Как жениться и остаться холостым</td>\n",
       "      <td>221154310</td>\n",
       "      <td>2010-12-17 12:00:00</td>\n",
       "      <td>Художественный</td>\n",
       "      <td>Ше Вам, Скрипт Ассосье, Тэ Фэ 1 Фильм Продюксь...</td>\n",
       "      <td>Франция</td>\n",
       "      <td>Эрик Лартиго</td>\n",
       "      <td>Амандин Било, Алан Шаба</td>\n",
       "      <td>«16+» - для детей старше 16 лет</td>\n",
       "      <td>0</td>\n",
       "      <td>0</td>\n",
       "      <td>0</td>\n",
       "      <td>нет</td>\n",
       "      <td>7.00</td>\n",
       "      <td>мелодрама,комедия</td>\n",
       "      <td>NaN</td>\n",
       "    </tr>\n",
       "    <tr>\n",
       "      <th>4638</th>\n",
       "      <td>Иоанна - женщина на папском престоле /По роман...</td>\n",
       "      <td>221154310</td>\n",
       "      <td>2010-12-17 12:00:00</td>\n",
       "      <td>Художественный</td>\n",
       "      <td>Константин Фильм, А Эр Ди Дегето Фильм, Дюне ...</td>\n",
       "      <td>Германия-Великобритания-Италия-Испания</td>\n",
       "      <td>Зенке Вортманн</td>\n",
       "      <td>Оливер Бербен, Дорис Д.Хайнце, Фарук Элтан</td>\n",
       "      <td>«16+» - для детей старше 16 лет</td>\n",
       "      <td>0</td>\n",
       "      <td>0</td>\n",
       "      <td>0</td>\n",
       "      <td>нет</td>\n",
       "      <td>7.60</td>\n",
       "      <td>драма,мелодрама,история</td>\n",
       "      <td>NaN</td>\n",
       "    </tr>\n",
       "    <tr>\n",
       "      <th>5066</th>\n",
       "      <td>Анализируй это!</td>\n",
       "      <td>221054410</td>\n",
       "      <td>2010-05-25 12:00:00</td>\n",
       "      <td>Художественный</td>\n",
       "      <td>Уорнер Бразерс, Вилладж Роудшоу Филмз ЛТД</td>\n",
       "      <td>США-Австралия</td>\n",
       "      <td>ХЭрольд Рэмис</td>\n",
       "      <td>Джейн Розенталь, Пола Уейнстейн</td>\n",
       "      <td>«16+» - для детей старше 16 лет</td>\n",
       "      <td>0</td>\n",
       "      <td>0</td>\n",
       "      <td>0</td>\n",
       "      <td>нет</td>\n",
       "      <td>7.40</td>\n",
       "      <td>комедия,криминал</td>\n",
       "      <td>NaN</td>\n",
       "    </tr>\n",
       "    <tr>\n",
       "      <th>5067</th>\n",
       "      <td>Анализируй то!</td>\n",
       "      <td>221054410</td>\n",
       "      <td>2010-05-25 12:00:00</td>\n",
       "      <td>Художественный</td>\n",
       "      <td>Уорнер Бразерс, Виллидж Роадшоу Пикчерз, Эн-Пи...</td>\n",
       "      <td>США</td>\n",
       "      <td>Гарольд Реймис</td>\n",
       "      <td>Джейн Розенталь, Паул Уэйнстейн</td>\n",
       "      <td>«12+» - для детей старше 12 лет</td>\n",
       "      <td>0</td>\n",
       "      <td>0</td>\n",
       "      <td>0</td>\n",
       "      <td>нет</td>\n",
       "      <td>6.80</td>\n",
       "      <td>комедия,криминал</td>\n",
       "      <td>NaN</td>\n",
       "    </tr>\n",
       "  </tbody>\n",
       "</table>\n",
       "</div>"
      ],
      "text/plain": [
       "                                                  title  pu_number  \\\n",
       "4637                   Как жениться и остаться холостым  221154310   \n",
       "4638  Иоанна - женщина на папском престоле /По роман...  221154310   \n",
       "5066                                    Анализируй это!  221054410   \n",
       "5067                                     Анализируй то!  221054410   \n",
       "\n",
       "         show_start_date            type  \\\n",
       "4637 2010-12-17 12:00:00  Художественный   \n",
       "4638 2010-12-17 12:00:00  Художественный   \n",
       "5066 2010-05-25 12:00:00  Художественный   \n",
       "5067 2010-05-25 12:00:00  Художественный   \n",
       "\n",
       "                                            film_studio  \\\n",
       "4637  Ше Вам, Скрипт Ассосье, Тэ Фэ 1 Фильм Продюксь...   \n",
       "4638   Константин Фильм, А Эр Ди Дегето Фильм, Дюне ...   \n",
       "5066          Уорнер Бразерс, Вилладж Роудшоу Филмз ЛТД   \n",
       "5067  Уорнер Бразерс, Виллидж Роадшоу Пикчерз, Эн-Пи...   \n",
       "\n",
       "                          production_country        director  \\\n",
       "4637                                 Франция    Эрик Лартиго   \n",
       "4638  Германия-Великобритания-Италия-Испания  Зенке Вортманн   \n",
       "5066                           США-Австралия   ХЭрольд Рэмис   \n",
       "5067                                     США  Гарольд Реймис   \n",
       "\n",
       "                                        producer  \\\n",
       "4637                     Амандин Било, Алан Шаба   \n",
       "4638  Оливер Бербен, Дорис Д.Хайнце, Фарук Элтан   \n",
       "5066             Джейн Розенталь, Пола Уейнстейн   \n",
       "5067             Джейн Розенталь, Паул Уэйнстейн   \n",
       "\n",
       "                      age_restriction  refundable_support  \\\n",
       "4637  «16+» - для детей старше 16 лет                   0   \n",
       "4638  «16+» - для детей старше 16 лет                   0   \n",
       "5066  «16+» - для детей старше 16 лет                   0   \n",
       "5067  «12+» - для детей старше 12 лет                   0   \n",
       "\n",
       "      nonrefundable_support  budget financing_source  ratings  \\\n",
       "4637                      0       0              нет     7.00   \n",
       "4638                      0       0              нет     7.60   \n",
       "5066                      0       0              нет     7.40   \n",
       "5067                      0       0              нет     6.80   \n",
       "\n",
       "                       genres  box_office  \n",
       "4637        мелодрама,комедия         NaN  \n",
       "4638  драма,мелодрама,история         NaN  \n",
       "5066         комедия,криминал         NaN  \n",
       "5067         комедия,криминал         NaN  "
      ]
     },
     "execution_count": 45,
     "metadata": {},
     "output_type": "execute_result"
    }
   ],
   "source": [
    "data[data['pu_number'].duplicated(keep=False)]"
   ]
  },
  {
   "cell_type": "markdown",
   "metadata": {},
   "source": [
    "Строка 5067 является дубликатом по всем признакам, включая прокатное удостоверение. Удалим ее"
   ]
  },
  {
   "cell_type": "code",
   "execution_count": 46,
   "metadata": {},
   "outputs": [],
   "source": [
    "data = data.drop(5067)"
   ]
  },
  {
   "cell_type": "markdown",
   "metadata": {
    "id": "52fOPrEBgFyQ"
   },
   "source": [
    "#### Изучим категориальные значения"
   ]
  },
  {
   "cell_type": "markdown",
   "metadata": {
    "id": "PnXKIVdFgFyR"
   },
   "source": [
    "По категориальным столбцам у нас присутсвуют следующие проблемы:\n",
    "* наличие пробелов с троках\n",
    "* различные способы записи групп стран (например **'США, Германия'** и **'США-Германия'**, либо **'США - Франция'** и **'США-Франция'**)\n",
    "* при прочих равных столбцах различный порядок написания стран: **'США-Германия'** и **'Германия-США'**\n",
    "\n",
    "Основную часть этих проблем мы исправили на предыдущем этапе."
   ]
  },
  {
   "cell_type": "markdown",
   "metadata": {},
   "source": [
    "Общая проблема многих колонок с категориальными данными связана с тем, что они содержат очень много уникальных значений из-за того, что в них идет перечисления отдельных признаков. Так как такие колонки анализировать невозможно, в дальнейшем выделим основной жанр и главного режиссёра в отдельные колонки."
   ]
  },
  {
   "cell_type": "markdown",
   "metadata": {
    "id": "XFSN5lrEgFyR"
   },
   "source": [
    "#### Проверим количественные значения"
   ]
  },
  {
   "cell_type": "markdown",
   "metadata": {},
   "source": [
    "Количественные значения которые мы можем сравнить и проверить - **'budget', 'refundable_support', 'nonrefundable_support'**. Судя по поисанию данных **\"столбец 'budget' уже включает в себя полный объём государственной поддержки. Данные в этом столбце указаны только для тех фильмов, которые получили государственную поддержку.\"** Отсюда следует, что должно выполнятся равенство **'budget' == 'refundable_support' + 'nonrefundable_support'**. Проверим так ли это."
   ]
  },
  {
   "cell_type": "code",
   "execution_count": 47,
   "metadata": {},
   "outputs": [
    {
     "data": {
      "text/plain": [
       "7152"
      ]
     },
     "execution_count": 47,
     "metadata": {},
     "output_type": "execute_result"
    }
   ],
   "source": [
    "data[data['budget'] == (data['refundable_support'] + data['nonrefundable_support'])]['budget'].count()"
   ]
  },
  {
   "cell_type": "markdown",
   "metadata": {},
   "source": [
    "По 95% данным в этом вопросе у нас все сходится, но есть и другие 5%. Посмотрим на них."
   ]
  },
  {
   "cell_type": "code",
   "execution_count": 48,
   "metadata": {
    "scrolled": true
   },
   "outputs": [
    {
     "data": {
      "text/plain": [
       "17"
      ]
     },
     "execution_count": 48,
     "metadata": {},
     "output_type": "execute_result"
    }
   ],
   "source": [
    "data[data['budget'] < (data['refundable_support'] + data['nonrefundable_support'])]['budget'].count()"
   ]
  },
  {
   "cell_type": "code",
   "execution_count": 49,
   "metadata": {
    "scrolled": true
   },
   "outputs": [
    {
     "data": {
      "text/html": [
       "<div>\n",
       "<style scoped>\n",
       "    .dataframe tbody tr th:only-of-type {\n",
       "        vertical-align: middle;\n",
       "    }\n",
       "\n",
       "    .dataframe tbody tr th {\n",
       "        vertical-align: top;\n",
       "    }\n",
       "\n",
       "    .dataframe thead th {\n",
       "        text-align: right;\n",
       "    }\n",
       "</style>\n",
       "<table border=\"1\" class=\"dataframe\">\n",
       "  <thead>\n",
       "    <tr style=\"text-align: right;\">\n",
       "      <th></th>\n",
       "      <th>title</th>\n",
       "      <th>pu_number</th>\n",
       "      <th>show_start_date</th>\n",
       "      <th>type</th>\n",
       "      <th>film_studio</th>\n",
       "      <th>production_country</th>\n",
       "      <th>director</th>\n",
       "      <th>producer</th>\n",
       "      <th>age_restriction</th>\n",
       "      <th>refundable_support</th>\n",
       "      <th>nonrefundable_support</th>\n",
       "      <th>budget</th>\n",
       "      <th>financing_source</th>\n",
       "      <th>ratings</th>\n",
       "      <th>genres</th>\n",
       "      <th>box_office</th>\n",
       "    </tr>\n",
       "  </thead>\n",
       "  <tbody>\n",
       "    <tr>\n",
       "      <th>2052</th>\n",
       "      <td>14+</td>\n",
       "      <td>111023614</td>\n",
       "      <td>2014-12-19 12:00:00</td>\n",
       "      <td>Художественный</td>\n",
       "      <td>ООО Киностудия  \"Сентябрь\"</td>\n",
       "      <td>Россия</td>\n",
       "      <td>А.Зайцев</td>\n",
       "      <td>О.Гранина, А.Зайцев</td>\n",
       "      <td>«16+» - для детей старше 16 лет</td>\n",
       "      <td>0</td>\n",
       "      <td>23000000</td>\n",
       "      <td>0</td>\n",
       "      <td>Министерство культуры, Фонд кино</td>\n",
       "      <td>6.60</td>\n",
       "      <td>мелодрама</td>\n",
       "      <td>10234016.10</td>\n",
       "    </tr>\n",
       "    <tr>\n",
       "      <th>2057</th>\n",
       "      <td>Дуxless 2</td>\n",
       "      <td>111000415</td>\n",
       "      <td>2015-01-26 12:00:00</td>\n",
       "      <td>Художественный</td>\n",
       "      <td>ООО \"Киностудия \"Слово\", ООО \"Арт Пикчерс Студия\"</td>\n",
       "      <td>Россия</td>\n",
       "      <td>Р.Прыгунов</td>\n",
       "      <td>П.Ануров, Ф.Бондарчук, Д.Рудовский</td>\n",
       "      <td>«16+» - для детей старше 16 лет</td>\n",
       "      <td>0</td>\n",
       "      <td>75000000</td>\n",
       "      <td>0</td>\n",
       "      <td>Фонд кино</td>\n",
       "      <td>6.60</td>\n",
       "      <td>драма</td>\n",
       "      <td>446163511.00</td>\n",
       "    </tr>\n",
       "    <tr>\n",
       "      <th>2471</th>\n",
       "      <td>Воин (2015)</td>\n",
       "      <td>111017315</td>\n",
       "      <td>2015-09-28 12:00:00</td>\n",
       "      <td>Художественный</td>\n",
       "      <td>ООО \"Форпост Продакшн\", ООО \"Арт Пикчерс Студия\"</td>\n",
       "      <td>Россия</td>\n",
       "      <td>А.Андрианов</td>\n",
       "      <td>ООО \"Арт Пикчерс Студия\"</td>\n",
       "      <td>«12+» - для детей старше 12 лет</td>\n",
       "      <td>10000000</td>\n",
       "      <td>70000000</td>\n",
       "      <td>0</td>\n",
       "      <td>Фонд кино</td>\n",
       "      <td>7.80</td>\n",
       "      <td>боевик,драма,криминал</td>\n",
       "      <td>196572438.40</td>\n",
       "    </tr>\n",
       "    <tr>\n",
       "      <th>2531</th>\n",
       "      <td>Бармен.</td>\n",
       "      <td>111009615</td>\n",
       "      <td>2015-05-26 12:00:00</td>\n",
       "      <td>Художественный</td>\n",
       "      <td>АО \"ВайТ Медиа\", ООО \"Арт Пикчерс Студия\"</td>\n",
       "      <td>Россия</td>\n",
       "      <td>Д.Штурманова</td>\n",
       "      <td>Т.Вайнштейн</td>\n",
       "      <td>«16+» - для детей старше 16 лет</td>\n",
       "      <td>20000000</td>\n",
       "      <td>0</td>\n",
       "      <td>0</td>\n",
       "      <td>Фонд кино</td>\n",
       "      <td>6.20</td>\n",
       "      <td>комедия,фэнтези</td>\n",
       "      <td>67418974.80</td>\n",
       "    </tr>\n",
       "    <tr>\n",
       "      <th>2614</th>\n",
       "      <td>Савва. Сердце воина</td>\n",
       "      <td>114001715</td>\n",
       "      <td>2015-07-21 12:00:00</td>\n",
       "      <td>Анимационный</td>\n",
       "      <td>ООО \"Глюкоза Продакшн\", ООО \"Арт Пикчерс Студия\"</td>\n",
       "      <td>Россия</td>\n",
       "      <td>М.Фадеев</td>\n",
       "      <td>А.Чистяков</td>\n",
       "      <td>«6+» - для детей старше 6 лет</td>\n",
       "      <td>60000000</td>\n",
       "      <td>100000000</td>\n",
       "      <td>0</td>\n",
       "      <td>Фонд кино</td>\n",
       "      <td>4.60</td>\n",
       "      <td>мультфильм,приключения,фэнтези</td>\n",
       "      <td>184487551.40</td>\n",
       "    </tr>\n",
       "    <tr>\n",
       "      <th>2683</th>\n",
       "      <td>Тряпичный союз</td>\n",
       "      <td>111010215</td>\n",
       "      <td>2015-06-08 12:00:00</td>\n",
       "      <td>Художественный</td>\n",
       "      <td>ООО \"Кинокомпания \"КОКТЕБЕЛЬ\"</td>\n",
       "      <td>Россия</td>\n",
       "      <td>М.Местецкий</td>\n",
       "      <td>Р.Борисевич, А.Кушаев</td>\n",
       "      <td>«18+» - запрещено для детей</td>\n",
       "      <td>0</td>\n",
       "      <td>59000000</td>\n",
       "      <td>0</td>\n",
       "      <td>Фонд кино</td>\n",
       "      <td>6.30</td>\n",
       "      <td>комедия,драма</td>\n",
       "      <td>1957738.51</td>\n",
       "    </tr>\n",
       "    <tr>\n",
       "      <th>2787</th>\n",
       "      <td>Срочно выйду замуж</td>\n",
       "      <td>111017115</td>\n",
       "      <td>2015-09-30 12:00:00</td>\n",
       "      <td>Художественный</td>\n",
       "      <td>АО \"ВайТ Медиа\", ООО \"Арт Пикчерс Студия\"</td>\n",
       "      <td>Россия</td>\n",
       "      <td>С Чекалов</td>\n",
       "      <td>Ф.Бондарчук, Т.Вайнштейн, Д.Рудовский</td>\n",
       "      <td>«16+» - для детей старше 16 лет</td>\n",
       "      <td>0</td>\n",
       "      <td>35000000</td>\n",
       "      <td>0</td>\n",
       "      <td>Фонд кино</td>\n",
       "      <td>5.10</td>\n",
       "      <td>комедия,мелодрама</td>\n",
       "      <td>72937783.20</td>\n",
       "    </tr>\n",
       "    <tr>\n",
       "      <th>2873</th>\n",
       "      <td>Помню - не помню!</td>\n",
       "      <td>111004916</td>\n",
       "      <td>2016-03-01 12:00:00</td>\n",
       "      <td>Художественный</td>\n",
       "      <td>ООО \"КиноФирма\"</td>\n",
       "      <td>Россия</td>\n",
       "      <td>В.Ровенский</td>\n",
       "      <td>ООО \"КиноФирма\"</td>\n",
       "      <td>«12+» - для детей старше 12 лет</td>\n",
       "      <td>0</td>\n",
       "      <td>6000000</td>\n",
       "      <td>0</td>\n",
       "      <td>Министерство культуры</td>\n",
       "      <td>4.30</td>\n",
       "      <td>комедия</td>\n",
       "      <td>15362931.43</td>\n",
       "    </tr>\n",
       "    <tr>\n",
       "      <th>3046</th>\n",
       "      <td>Любовь с ограничениями</td>\n",
       "      <td>111008216</td>\n",
       "      <td>2016-04-29 12:00:00</td>\n",
       "      <td>Художественный</td>\n",
       "      <td>АО \"ВайТ Медиа\", ООО \"Арт Пикчерс Студия\"</td>\n",
       "      <td>Россия</td>\n",
       "      <td>Д.Тюрин</td>\n",
       "      <td>Ф.Бондарчук, Т.Вайнштейн, Д.Рудовский</td>\n",
       "      <td>«16+» - для детей старше 16 лет</td>\n",
       "      <td>19000000</td>\n",
       "      <td>51000000</td>\n",
       "      <td>0</td>\n",
       "      <td>Фонд кино</td>\n",
       "      <td>6.30</td>\n",
       "      <td>комедия,мелодрама</td>\n",
       "      <td>70299052.00</td>\n",
       "    </tr>\n",
       "    <tr>\n",
       "      <th>3564</th>\n",
       "      <td>Притяжение (2016)</td>\n",
       "      <td>111018116</td>\n",
       "      <td>2016-12-16 12:00:00</td>\n",
       "      <td>Художественный</td>\n",
       "      <td>ООО \"Водород 2011\",  ООО \"Арт Пикчерс Студия\"</td>\n",
       "      <td>Россия</td>\n",
       "      <td>Ф.Бондарчук</td>\n",
       "      <td>ООО \"Арт Пикчерс Студия\"</td>\n",
       "      <td>«12+» - для детей старше 12 лет</td>\n",
       "      <td>0</td>\n",
       "      <td>250000000</td>\n",
       "      <td>0</td>\n",
       "      <td>Фонд кино</td>\n",
       "      <td>5.60</td>\n",
       "      <td>фантастика</td>\n",
       "      <td>1038321489.00</td>\n",
       "    </tr>\n",
       "    <tr>\n",
       "      <th>3674</th>\n",
       "      <td>Чудо-юдо</td>\n",
       "      <td>114001817</td>\n",
       "      <td>2017-06-27 12:00:00</td>\n",
       "      <td>Анимационный</td>\n",
       "      <td>ООО \"КиноФирма\"</td>\n",
       "      <td>Россия</td>\n",
       "      <td>А.Лукичев</td>\n",
       "      <td>ООО \"КиноФирма\"</td>\n",
       "      <td>«6+» - для детей старше 6 лет</td>\n",
       "      <td>20000000</td>\n",
       "      <td>20000000</td>\n",
       "      <td>0</td>\n",
       "      <td>Фонд кино</td>\n",
       "      <td>5.20</td>\n",
       "      <td>мультфильм,фэнтези,семейный</td>\n",
       "      <td>55108014.76</td>\n",
       "    </tr>\n",
       "    <tr>\n",
       "      <th>3738</th>\n",
       "      <td>Мифы</td>\n",
       "      <td>111004317</td>\n",
       "      <td>2017-06-07 12:00:00</td>\n",
       "      <td>Художественный</td>\n",
       "      <td>ООО \"ХАЙПФИЛМ\", ООО \"Арт Пикчерс Студия\"</td>\n",
       "      <td>Россия</td>\n",
       "      <td>А.Молочников</td>\n",
       "      <td>Ф.Бондарчук, Д.Рудовский, И.Стюарт, М.Османн, ...</td>\n",
       "      <td>«16+» - для детей старше 16 лет</td>\n",
       "      <td>25000000</td>\n",
       "      <td>20000000</td>\n",
       "      <td>0</td>\n",
       "      <td>Фонд кино</td>\n",
       "      <td>4.80</td>\n",
       "      <td>комедия</td>\n",
       "      <td>50451949.00</td>\n",
       "    </tr>\n",
       "    <tr>\n",
       "      <th>5672</th>\n",
       "      <td>Селфи</td>\n",
       "      <td>111012117</td>\n",
       "      <td>2018-02-01 12:00:00</td>\n",
       "      <td>Художественный</td>\n",
       "      <td>ООО \"Киностудия \"Слово\", ООО \"Арт Пикчерс Студия\"</td>\n",
       "      <td>Россия</td>\n",
       "      <td>Н.Хомерики</td>\n",
       "      <td>П.Ануров, Ф.Бондарчук, Д.Рудовский</td>\n",
       "      <td>«16+» - для детей старше 16 лет</td>\n",
       "      <td>20000000</td>\n",
       "      <td>40000000</td>\n",
       "      <td>0</td>\n",
       "      <td>Фонд кино</td>\n",
       "      <td>5.80</td>\n",
       "      <td>триллер,драма</td>\n",
       "      <td>225196400.03</td>\n",
       "    </tr>\n",
       "    <tr>\n",
       "      <th>5805</th>\n",
       "      <td>Два хвоста</td>\n",
       "      <td>114001018</td>\n",
       "      <td>2018-05-31 12:00:00</td>\n",
       "      <td>Анимационный</td>\n",
       "      <td>ООО \"ЛИЦЕНЗИОННЫЕ БРЕНДЫ\"</td>\n",
       "      <td>Россия</td>\n",
       "      <td>В.Ровенский, Н.Лопато, В.Азеев</td>\n",
       "      <td>ООО \"ЛИЦЕНЗИОННЫЕ БРЕНДЫ\"</td>\n",
       "      <td>«6+» - для детей старше 6 лет</td>\n",
       "      <td>10000000</td>\n",
       "      <td>60000000</td>\n",
       "      <td>0</td>\n",
       "      <td>Фонд кино</td>\n",
       "      <td>5.00</td>\n",
       "      <td>мультфильм,детский</td>\n",
       "      <td>106514301.03</td>\n",
       "    </tr>\n",
       "    <tr>\n",
       "      <th>6007</th>\n",
       "      <td>Принцесса и дракон</td>\n",
       "      <td>114003018</td>\n",
       "      <td>2018-08-23 12:00:00</td>\n",
       "      <td>Анимационный</td>\n",
       "      <td>ООО \"ЛИЦЕНЗИОННЫЕ БРЕНДЫ\"</td>\n",
       "      <td>Россия</td>\n",
       "      <td>М.Нефедова</td>\n",
       "      <td>ООО \"ЛИЦЕНЗИОННЫЕ БРЕНДЫ\"</td>\n",
       "      <td>«6+» - для детей старше 6 лет</td>\n",
       "      <td>40000000</td>\n",
       "      <td>40000000</td>\n",
       "      <td>0</td>\n",
       "      <td>Фонд кино</td>\n",
       "      <td>5.20</td>\n",
       "      <td>мультфильм,фэнтези,детский</td>\n",
       "      <td>83366328.66</td>\n",
       "    </tr>\n",
       "    <tr>\n",
       "      <th>6322</th>\n",
       "      <td>Баба Яга</td>\n",
       "      <td>114006518</td>\n",
       "      <td>2018-11-08 12:00:00</td>\n",
       "      <td>Анимационный</td>\n",
       "      <td>ООО \"Арт Пикчерс Студия\"</td>\n",
       "      <td>Россия</td>\n",
       "      <td>В.Саков</td>\n",
       "      <td>ООО \"Арт Пикчерс Студия\", ООО \"КРИЭЙТИВ АНИМЭЙ...</td>\n",
       "      <td>«6+» - для детей старше 6 лет</td>\n",
       "      <td>0</td>\n",
       "      <td>138969465</td>\n",
       "      <td>0</td>\n",
       "      <td>Фонд кино</td>\n",
       "      <td>NaN</td>\n",
       "      <td>unknown</td>\n",
       "      <td>1334699.40</td>\n",
       "    </tr>\n",
       "    <tr>\n",
       "      <th>6822</th>\n",
       "      <td>Большое путешествие</td>\n",
       "      <td>114002419</td>\n",
       "      <td>2019-04-20 12:00:00</td>\n",
       "      <td>Анимационный</td>\n",
       "      <td>ООО \"ЛИЦЕНЗИОННЫЕ БРЕНДЫ\"</td>\n",
       "      <td>Россия</td>\n",
       "      <td>Н.Лопато, В.Ровенский</td>\n",
       "      <td>ООО \"ЛИЦЕНЗИОННЫЕ БРЕНДЫ\"</td>\n",
       "      <td>«6+» - для детей старше 6 лет</td>\n",
       "      <td>60000000</td>\n",
       "      <td>120000000</td>\n",
       "      <td>0</td>\n",
       "      <td>Фонд кино</td>\n",
       "      <td>6.20</td>\n",
       "      <td>мультфильм,комедия,приключения</td>\n",
       "      <td>147606826.51</td>\n",
       "    </tr>\n",
       "  </tbody>\n",
       "</table>\n",
       "</div>"
      ],
      "text/plain": [
       "                       title  pu_number     show_start_date            type  \\\n",
       "2052                     14+  111023614 2014-12-19 12:00:00  Художественный   \n",
       "2057               Дуxless 2  111000415 2015-01-26 12:00:00  Художественный   \n",
       "2471             Воин (2015)  111017315 2015-09-28 12:00:00  Художественный   \n",
       "2531                 Бармен.  111009615 2015-05-26 12:00:00  Художественный   \n",
       "2614     Савва. Сердце воина  114001715 2015-07-21 12:00:00    Анимационный   \n",
       "2683          Тряпичный союз  111010215 2015-06-08 12:00:00  Художественный   \n",
       "2787      Срочно выйду замуж  111017115 2015-09-30 12:00:00  Художественный   \n",
       "2873       Помню - не помню!  111004916 2016-03-01 12:00:00  Художественный   \n",
       "3046  Любовь с ограничениями  111008216 2016-04-29 12:00:00  Художественный   \n",
       "3564       Притяжение (2016)  111018116 2016-12-16 12:00:00  Художественный   \n",
       "3674                Чудо-юдо  114001817 2017-06-27 12:00:00    Анимационный   \n",
       "3738                    Мифы  111004317 2017-06-07 12:00:00  Художественный   \n",
       "5672                   Селфи  111012117 2018-02-01 12:00:00  Художественный   \n",
       "5805              Два хвоста  114001018 2018-05-31 12:00:00    Анимационный   \n",
       "6007      Принцесса и дракон  114003018 2018-08-23 12:00:00    Анимационный   \n",
       "6322                Баба Яга  114006518 2018-11-08 12:00:00    Анимационный   \n",
       "6822     Большое путешествие  114002419 2019-04-20 12:00:00    Анимационный   \n",
       "\n",
       "                                            film_studio production_country  \\\n",
       "2052                         ООО Киностудия  \"Сентябрь\"             Россия   \n",
       "2057  ООО \"Киностудия \"Слово\", ООО \"Арт Пикчерс Студия\"             Россия   \n",
       "2471   ООО \"Форпост Продакшн\", ООО \"Арт Пикчерс Студия\"             Россия   \n",
       "2531          АО \"ВайТ Медиа\", ООО \"Арт Пикчерс Студия\"             Россия   \n",
       "2614   ООО \"Глюкоза Продакшн\", ООО \"Арт Пикчерс Студия\"             Россия   \n",
       "2683                      ООО \"Кинокомпания \"КОКТЕБЕЛЬ\"             Россия   \n",
       "2787          АО \"ВайТ Медиа\", ООО \"Арт Пикчерс Студия\"             Россия   \n",
       "2873                                    ООО \"КиноФирма\"             Россия   \n",
       "3046          АО \"ВайТ Медиа\", ООО \"Арт Пикчерс Студия\"             Россия   \n",
       "3564      ООО \"Водород 2011\",  ООО \"Арт Пикчерс Студия\"             Россия   \n",
       "3674                                    ООО \"КиноФирма\"             Россия   \n",
       "3738           ООО \"ХАЙПФИЛМ\", ООО \"Арт Пикчерс Студия\"             Россия   \n",
       "5672  ООО \"Киностудия \"Слово\", ООО \"Арт Пикчерс Студия\"             Россия   \n",
       "5805                          ООО \"ЛИЦЕНЗИОННЫЕ БРЕНДЫ\"             Россия   \n",
       "6007                          ООО \"ЛИЦЕНЗИОННЫЕ БРЕНДЫ\"             Россия   \n",
       "6322                           ООО \"Арт Пикчерс Студия\"             Россия   \n",
       "6822                          ООО \"ЛИЦЕНЗИОННЫЕ БРЕНДЫ\"             Россия   \n",
       "\n",
       "                            director  \\\n",
       "2052                        А.Зайцев   \n",
       "2057                      Р.Прыгунов   \n",
       "2471                     А.Андрианов   \n",
       "2531                    Д.Штурманова   \n",
       "2614                        М.Фадеев   \n",
       "2683                     М.Местецкий   \n",
       "2787                       С Чекалов   \n",
       "2873                     В.Ровенский   \n",
       "3046                         Д.Тюрин   \n",
       "3564                     Ф.Бондарчук   \n",
       "3674                       А.Лукичев   \n",
       "3738                    А.Молочников   \n",
       "5672                      Н.Хомерики   \n",
       "5805  В.Ровенский, Н.Лопато, В.Азеев   \n",
       "6007                      М.Нефедова   \n",
       "6322                         В.Саков   \n",
       "6822           Н.Лопато, В.Ровенский   \n",
       "\n",
       "                                               producer  \\\n",
       "2052                                О.Гранина, А.Зайцев   \n",
       "2057                 П.Ануров, Ф.Бондарчук, Д.Рудовский   \n",
       "2471                           ООО \"Арт Пикчерс Студия\"   \n",
       "2531                                        Т.Вайнштейн   \n",
       "2614                                         А.Чистяков   \n",
       "2683                              Р.Борисевич, А.Кушаев   \n",
       "2787              Ф.Бондарчук, Т.Вайнштейн, Д.Рудовский   \n",
       "2873                                    ООО \"КиноФирма\"   \n",
       "3046              Ф.Бондарчук, Т.Вайнштейн, Д.Рудовский   \n",
       "3564                           ООО \"Арт Пикчерс Студия\"   \n",
       "3674                                    ООО \"КиноФирма\"   \n",
       "3738  Ф.Бондарчук, Д.Рудовский, И.Стюарт, М.Османн, ...   \n",
       "5672                 П.Ануров, Ф.Бондарчук, Д.Рудовский   \n",
       "5805                          ООО \"ЛИЦЕНЗИОННЫЕ БРЕНДЫ\"   \n",
       "6007                          ООО \"ЛИЦЕНЗИОННЫЕ БРЕНДЫ\"   \n",
       "6322  ООО \"Арт Пикчерс Студия\", ООО \"КРИЭЙТИВ АНИМЭЙ...   \n",
       "6822                          ООО \"ЛИЦЕНЗИОННЫЕ БРЕНДЫ\"   \n",
       "\n",
       "                      age_restriction  refundable_support  \\\n",
       "2052  «16+» - для детей старше 16 лет                   0   \n",
       "2057  «16+» - для детей старше 16 лет                   0   \n",
       "2471  «12+» - для детей старше 12 лет            10000000   \n",
       "2531  «16+» - для детей старше 16 лет            20000000   \n",
       "2614    «6+» - для детей старше 6 лет            60000000   \n",
       "2683      «18+» - запрещено для детей                   0   \n",
       "2787  «16+» - для детей старше 16 лет                   0   \n",
       "2873  «12+» - для детей старше 12 лет                   0   \n",
       "3046  «16+» - для детей старше 16 лет            19000000   \n",
       "3564  «12+» - для детей старше 12 лет                   0   \n",
       "3674    «6+» - для детей старше 6 лет            20000000   \n",
       "3738  «16+» - для детей старше 16 лет            25000000   \n",
       "5672  «16+» - для детей старше 16 лет            20000000   \n",
       "5805    «6+» - для детей старше 6 лет            10000000   \n",
       "6007    «6+» - для детей старше 6 лет            40000000   \n",
       "6322    «6+» - для детей старше 6 лет                   0   \n",
       "6822    «6+» - для детей старше 6 лет            60000000   \n",
       "\n",
       "      nonrefundable_support  budget                  financing_source  \\\n",
       "2052               23000000       0  Министерство культуры, Фонд кино   \n",
       "2057               75000000       0                         Фонд кино   \n",
       "2471               70000000       0                         Фонд кино   \n",
       "2531                      0       0                         Фонд кино   \n",
       "2614              100000000       0                         Фонд кино   \n",
       "2683               59000000       0                         Фонд кино   \n",
       "2787               35000000       0                         Фонд кино   \n",
       "2873                6000000       0             Министерство культуры   \n",
       "3046               51000000       0                         Фонд кино   \n",
       "3564              250000000       0                         Фонд кино   \n",
       "3674               20000000       0                         Фонд кино   \n",
       "3738               20000000       0                         Фонд кино   \n",
       "5672               40000000       0                         Фонд кино   \n",
       "5805               60000000       0                         Фонд кино   \n",
       "6007               40000000       0                         Фонд кино   \n",
       "6322              138969465       0                         Фонд кино   \n",
       "6822              120000000       0                         Фонд кино   \n",
       "\n",
       "      ratings                          genres    box_office  \n",
       "2052     6.60                       мелодрама   10234016.10  \n",
       "2057     6.60                           драма  446163511.00  \n",
       "2471     7.80           боевик,драма,криминал  196572438.40  \n",
       "2531     6.20                 комедия,фэнтези   67418974.80  \n",
       "2614     4.60  мультфильм,приключения,фэнтези  184487551.40  \n",
       "2683     6.30                   комедия,драма    1957738.51  \n",
       "2787     5.10               комедия,мелодрама   72937783.20  \n",
       "2873     4.30                         комедия   15362931.43  \n",
       "3046     6.30               комедия,мелодрама   70299052.00  \n",
       "3564     5.60                      фантастика 1038321489.00  \n",
       "3674     5.20     мультфильм,фэнтези,семейный   55108014.76  \n",
       "3738     4.80                         комедия   50451949.00  \n",
       "5672     5.80                   триллер,драма  225196400.03  \n",
       "5805     5.00              мультфильм,детский  106514301.03  \n",
       "6007     5.20      мультфильм,фэнтези,детский   83366328.66  \n",
       "6322      NaN                         unknown    1334699.40  \n",
       "6822     6.20  мультфильм,комедия,приключения  147606826.51  "
      ]
     },
     "execution_count": 49,
     "metadata": {},
     "output_type": "execute_result"
    }
   ],
   "source": [
    "data[data['budget'] < (data['refundable_support'] + data['nonrefundable_support'])]"
   ]
  },
  {
   "cell_type": "markdown",
   "metadata": {},
   "source": [
    "Удалим эти строки."
   ]
  },
  {
   "cell_type": "code",
   "execution_count": 50,
   "metadata": {},
   "outputs": [],
   "source": [
    "data = data.loc[~(data['budget'] < (data['refundable_support'] + data['nonrefundable_support']))]"
   ]
  },
  {
   "cell_type": "markdown",
   "metadata": {},
   "source": [
    "Проверим другой вариант, когда **'budget' > 'refundable_support', 'nonrefundable_support'**."
   ]
  },
  {
   "cell_type": "code",
   "execution_count": 51,
   "metadata": {
    "scrolled": true
   },
   "outputs": [
    {
     "data": {
      "text/plain": [
       "315"
      ]
     },
     "execution_count": 51,
     "metadata": {},
     "output_type": "execute_result"
    }
   ],
   "source": [
    "data[data['budget'] > (data['refundable_support'] + data['nonrefundable_support'])]['budget'].count()"
   ]
  },
  {
   "cell_type": "markdown",
   "metadata": {},
   "source": [
    "Посмотрим на эти данные."
   ]
  },
  {
   "cell_type": "code",
   "execution_count": 52,
   "metadata": {
    "scrolled": true
   },
   "outputs": [
    {
     "data": {
      "text/html": [
       "<div>\n",
       "<style scoped>\n",
       "    .dataframe tbody tr th:only-of-type {\n",
       "        vertical-align: middle;\n",
       "    }\n",
       "\n",
       "    .dataframe tbody tr th {\n",
       "        vertical-align: top;\n",
       "    }\n",
       "\n",
       "    .dataframe thead th {\n",
       "        text-align: right;\n",
       "    }\n",
       "</style>\n",
       "<table border=\"1\" class=\"dataframe\">\n",
       "  <thead>\n",
       "    <tr style=\"text-align: right;\">\n",
       "      <th></th>\n",
       "      <th>title</th>\n",
       "      <th>pu_number</th>\n",
       "      <th>show_start_date</th>\n",
       "      <th>type</th>\n",
       "      <th>film_studio</th>\n",
       "      <th>production_country</th>\n",
       "      <th>director</th>\n",
       "      <th>producer</th>\n",
       "      <th>age_restriction</th>\n",
       "      <th>refundable_support</th>\n",
       "      <th>nonrefundable_support</th>\n",
       "      <th>budget</th>\n",
       "      <th>financing_source</th>\n",
       "      <th>ratings</th>\n",
       "      <th>genres</th>\n",
       "      <th>box_office</th>\n",
       "    </tr>\n",
       "  </thead>\n",
       "  <tbody>\n",
       "    <tr>\n",
       "      <th>1281</th>\n",
       "      <td>Пока еще жива</td>\n",
       "      <td>111005313</td>\n",
       "      <td>2013-10-11 12:00:00</td>\n",
       "      <td>Художественный</td>\n",
       "      <td>АНО содействия развитию кинематографии \"Ангел-...</td>\n",
       "      <td>Россия</td>\n",
       "      <td>А.Атанесян</td>\n",
       "      <td>А.Атанесян, М.Бабаханов, Р.Бутко</td>\n",
       "      <td>«16+» - для детей старше 16 лет</td>\n",
       "      <td>0</td>\n",
       "      <td>26500000</td>\n",
       "      <td>79411900</td>\n",
       "      <td>Министерство культуры</td>\n",
       "      <td>8.10</td>\n",
       "      <td>драма,мелодрама</td>\n",
       "      <td>365353.60</td>\n",
       "    </tr>\n",
       "    <tr>\n",
       "      <th>1448</th>\n",
       "      <td>Бесславные придурки</td>\n",
       "      <td>111003314</td>\n",
       "      <td>2014-03-28 12:00:00</td>\n",
       "      <td>Художественный</td>\n",
       "      <td>ООО \"Компания \"АТК-Студио\"</td>\n",
       "      <td>Россия</td>\n",
       "      <td>А.Якимчук</td>\n",
       "      <td>А.Тютрюмов</td>\n",
       "      <td>«12+» - для детей старше 12 лет</td>\n",
       "      <td>0</td>\n",
       "      <td>26000000</td>\n",
       "      <td>37142857</td>\n",
       "      <td>Министерство культуры</td>\n",
       "      <td>NaN</td>\n",
       "      <td>unknown</td>\n",
       "      <td>28140.00</td>\n",
       "    </tr>\n",
       "    <tr>\n",
       "      <th>1498</th>\n",
       "      <td>Невидимки</td>\n",
       "      <td>111004213</td>\n",
       "      <td>2013-09-10 12:00:00</td>\n",
       "      <td>Художественный</td>\n",
       "      <td>ООО \"Компания \"РЕАЛ-ДАКОТА\"</td>\n",
       "      <td>Россия</td>\n",
       "      <td>Р.Давлетьяров, С.Комаров</td>\n",
       "      <td>Р.Давлетьяров, А.Котелевский, А.Олейников</td>\n",
       "      <td>«12+» - для детей старше 12 лет</td>\n",
       "      <td>0</td>\n",
       "      <td>107847945</td>\n",
       "      <td>176023490</td>\n",
       "      <td>Фонд кино</td>\n",
       "      <td>5.30</td>\n",
       "      <td>комедия,фантастика</td>\n",
       "      <td>19957031.50</td>\n",
       "    </tr>\n",
       "    <tr>\n",
       "      <th>1524</th>\n",
       "      <td>БЕРЦЫ</td>\n",
       "      <td>111004314</td>\n",
       "      <td>2014-05-05 12:00:00</td>\n",
       "      <td>Художественный</td>\n",
       "      <td>ООО \"Студия \"Пассажир\"</td>\n",
       "      <td>Россия</td>\n",
       "      <td>Е.Миндадзе (псевдоним Катя Шагалова)</td>\n",
       "      <td>Л.Антонова</td>\n",
       "      <td>«16+» - для детей старше 16 лет</td>\n",
       "      <td>0</td>\n",
       "      <td>28000000</td>\n",
       "      <td>40574140</td>\n",
       "      <td>Министерство культуры</td>\n",
       "      <td>4.20</td>\n",
       "      <td>драма</td>\n",
       "      <td>55917.50</td>\n",
       "    </tr>\n",
       "    <tr>\n",
       "      <th>1792</th>\n",
       "      <td>Братья Ч</td>\n",
       "      <td>111004414</td>\n",
       "      <td>2014-04-23 12:00:00</td>\n",
       "      <td>Художественный</td>\n",
       "      <td>ООО \"Студия \"Пассажир\"</td>\n",
       "      <td>Россия</td>\n",
       "      <td>М.Угаров</td>\n",
       "      <td>А.Миндадзе, Л.Антонова</td>\n",
       "      <td>«16+» - для детей старше 16 лет</td>\n",
       "      <td>0</td>\n",
       "      <td>25000000</td>\n",
       "      <td>40015122</td>\n",
       "      <td>Министерство культуры</td>\n",
       "      <td>6.40</td>\n",
       "      <td>драма</td>\n",
       "      <td>232100.00</td>\n",
       "    </tr>\n",
       "    <tr>\n",
       "      <th>1853</th>\n",
       "      <td>Тайна Сухаревой башни. Чародей равновесия</td>\n",
       "      <td>114000115</td>\n",
       "      <td>2015-02-18 12:00:00</td>\n",
       "      <td>Анимационный</td>\n",
       "      <td>ООО \"Студия \"Мастер-Фильм\"</td>\n",
       "      <td>Россия</td>\n",
       "      <td>С.Серегин</td>\n",
       "      <td>А.Герасимов</td>\n",
       "      <td>«6+» - для детей старше 6 лет</td>\n",
       "      <td>0</td>\n",
       "      <td>25000000</td>\n",
       "      <td>51850000</td>\n",
       "      <td>Министерство культуры</td>\n",
       "      <td>6.10</td>\n",
       "      <td>мультфильм,фэнтези,история</td>\n",
       "      <td>15078858.60</td>\n",
       "    </tr>\n",
       "    <tr>\n",
       "      <th>1869</th>\n",
       "      <td>А зори здесь тихие..._</td>\n",
       "      <td>111002915</td>\n",
       "      <td>2015-03-16 12:00:00</td>\n",
       "      <td>Художественный</td>\n",
       "      <td>ООО \"Компания \"Реал-Дакота\"</td>\n",
       "      <td>Россия</td>\n",
       "      <td>Р.Давлетьяров</td>\n",
       "      <td>unknown</td>\n",
       "      <td>«12+» - для детей старше 12 лет</td>\n",
       "      <td>50000000</td>\n",
       "      <td>100000000</td>\n",
       "      <td>220588394</td>\n",
       "      <td>Фонд кино</td>\n",
       "      <td>8.50</td>\n",
       "      <td>драма,военный,история</td>\n",
       "      <td>249166767.70</td>\n",
       "    </tr>\n",
       "    <tr>\n",
       "      <th>1870</th>\n",
       "      <td>Две женщины</td>\n",
       "      <td>111013714</td>\n",
       "      <td>2014-10-02 12:00:00</td>\n",
       "      <td>Художественный</td>\n",
       "      <td>ООО \"Продюсерский Центр \"Хорошо Продакшн\", Rez...</td>\n",
       "      <td>Россия-Франция-Латвия</td>\n",
       "      <td>В.Глаголева</td>\n",
       "      <td>Н.Иванова</td>\n",
       "      <td>«12+» - для детей старше 12 лет</td>\n",
       "      <td>0</td>\n",
       "      <td>46502299</td>\n",
       "      <td>86210067</td>\n",
       "      <td>Министерство культуры, Фонд кино</td>\n",
       "      <td>6.70</td>\n",
       "      <td>драма</td>\n",
       "      <td>4731239.50</td>\n",
       "    </tr>\n",
       "    <tr>\n",
       "      <th>1902</th>\n",
       "      <td>Призрак_.</td>\n",
       "      <td>111001815</td>\n",
       "      <td>2015-03-02 12:00:00</td>\n",
       "      <td>Художественный</td>\n",
       "      <td>ООО \"Водород 2011\"</td>\n",
       "      <td>Россия</td>\n",
       "      <td>А.Войтинский</td>\n",
       "      <td>С.Сельянов</td>\n",
       "      <td>«6+» - для детей старше 6 лет</td>\n",
       "      <td>0</td>\n",
       "      <td>75000000</td>\n",
       "      <td>139551503</td>\n",
       "      <td>Фонд кино</td>\n",
       "      <td>7.00</td>\n",
       "      <td>триллер,боевик,приключения</td>\n",
       "      <td>352804320.40</td>\n",
       "    </tr>\n",
       "    <tr>\n",
       "      <th>1911</th>\n",
       "      <td>Ведьма .</td>\n",
       "      <td>111002215</td>\n",
       "      <td>2015-03-05 12:00:00</td>\n",
       "      <td>Художественный</td>\n",
       "      <td>ООО \"Кинокомпания \"Ракурс\"</td>\n",
       "      <td>Россия</td>\n",
       "      <td>Д.Федоров</td>\n",
       "      <td>В.Сидоренко</td>\n",
       "      <td>«16+» - для детей старше 16 лет</td>\n",
       "      <td>0</td>\n",
       "      <td>34000000</td>\n",
       "      <td>48571430</td>\n",
       "      <td>Министерство культуры</td>\n",
       "      <td>7.40</td>\n",
       "      <td>фэнтези,приключения,драма</td>\n",
       "      <td>51907.50</td>\n",
       "    </tr>\n",
       "  </tbody>\n",
       "</table>\n",
       "</div>"
      ],
      "text/plain": [
       "                                          title  pu_number  \\\n",
       "1281                              Пока еще жива  111005313   \n",
       "1448                        Бесславные придурки  111003314   \n",
       "1498                                  Невидимки  111004213   \n",
       "1524                                      БЕРЦЫ  111004314   \n",
       "1792                                   Братья Ч  111004414   \n",
       "1853  Тайна Сухаревой башни. Чародей равновесия  114000115   \n",
       "1869                     А зори здесь тихие..._  111002915   \n",
       "1870                                Две женщины  111013714   \n",
       "1902                                  Призрак_.  111001815   \n",
       "1911                                   Ведьма .  111002215   \n",
       "\n",
       "         show_start_date            type  \\\n",
       "1281 2013-10-11 12:00:00  Художественный   \n",
       "1448 2014-03-28 12:00:00  Художественный   \n",
       "1498 2013-09-10 12:00:00  Художественный   \n",
       "1524 2014-05-05 12:00:00  Художественный   \n",
       "1792 2014-04-23 12:00:00  Художественный   \n",
       "1853 2015-02-18 12:00:00    Анимационный   \n",
       "1869 2015-03-16 12:00:00  Художественный   \n",
       "1870 2014-10-02 12:00:00  Художественный   \n",
       "1902 2015-03-02 12:00:00  Художественный   \n",
       "1911 2015-03-05 12:00:00  Художественный   \n",
       "\n",
       "                                            film_studio  \\\n",
       "1281  АНО содействия развитию кинематографии \"Ангел-...   \n",
       "1448                         ООО \"Компания \"АТК-Студио\"   \n",
       "1498                        ООО \"Компания \"РЕАЛ-ДАКОТА\"   \n",
       "1524                             ООО \"Студия \"Пассажир\"   \n",
       "1792                             ООО \"Студия \"Пассажир\"   \n",
       "1853                        ООО \"Студия \"Мастер-Фильм\"    \n",
       "1869                        ООО \"Компания \"Реал-Дакота\"   \n",
       "1870  ООО \"Продюсерский Центр \"Хорошо Продакшн\", Rez...   \n",
       "1902                                 ООО \"Водород 2011\"   \n",
       "1911                         ООО \"Кинокомпания \"Ракурс\"   \n",
       "\n",
       "         production_country                              director  \\\n",
       "1281                 Россия                            А.Атанесян   \n",
       "1448                 Россия                             А.Якимчук   \n",
       "1498                 Россия              Р.Давлетьяров, С.Комаров   \n",
       "1524                 Россия  Е.Миндадзе (псевдоним Катя Шагалова)   \n",
       "1792                 Россия                              М.Угаров   \n",
       "1853                 Россия                             С.Серегин   \n",
       "1869                 Россия                         Р.Давлетьяров   \n",
       "1870  Россия-Франция-Латвия                           В.Глаголева   \n",
       "1902                 Россия                          А.Войтинский   \n",
       "1911                 Россия                             Д.Федоров   \n",
       "\n",
       "                                       producer  \\\n",
       "1281           А.Атанесян, М.Бабаханов, Р.Бутко   \n",
       "1448                                 А.Тютрюмов   \n",
       "1498  Р.Давлетьяров, А.Котелевский, А.Олейников   \n",
       "1524                                 Л.Антонова   \n",
       "1792                     А.Миндадзе, Л.Антонова   \n",
       "1853                                А.Герасимов   \n",
       "1869                                    unknown   \n",
       "1870                                  Н.Иванова   \n",
       "1902                                 С.Сельянов   \n",
       "1911                                В.Сидоренко   \n",
       "\n",
       "                      age_restriction  refundable_support  \\\n",
       "1281  «16+» - для детей старше 16 лет                   0   \n",
       "1448  «12+» - для детей старше 12 лет                   0   \n",
       "1498  «12+» - для детей старше 12 лет                   0   \n",
       "1524  «16+» - для детей старше 16 лет                   0   \n",
       "1792  «16+» - для детей старше 16 лет                   0   \n",
       "1853    «6+» - для детей старше 6 лет                   0   \n",
       "1869  «12+» - для детей старше 12 лет            50000000   \n",
       "1870  «12+» - для детей старше 12 лет                   0   \n",
       "1902    «6+» - для детей старше 6 лет                   0   \n",
       "1911  «16+» - для детей старше 16 лет                   0   \n",
       "\n",
       "      nonrefundable_support     budget                  financing_source  \\\n",
       "1281               26500000   79411900             Министерство культуры   \n",
       "1448               26000000   37142857             Министерство культуры   \n",
       "1498              107847945  176023490                         Фонд кино   \n",
       "1524               28000000   40574140             Министерство культуры   \n",
       "1792               25000000   40015122             Министерство культуры   \n",
       "1853               25000000   51850000             Министерство культуры   \n",
       "1869              100000000  220588394                         Фонд кино   \n",
       "1870               46502299   86210067  Министерство культуры, Фонд кино   \n",
       "1902               75000000  139551503                         Фонд кино   \n",
       "1911               34000000   48571430             Министерство культуры   \n",
       "\n",
       "      ratings                      genres   box_office  \n",
       "1281     8.10             драма,мелодрама    365353.60  \n",
       "1448      NaN                     unknown     28140.00  \n",
       "1498     5.30          комедия,фантастика  19957031.50  \n",
       "1524     4.20                       драма     55917.50  \n",
       "1792     6.40                       драма    232100.00  \n",
       "1853     6.10  мультфильм,фэнтези,история  15078858.60  \n",
       "1869     8.50       драма,военный,история 249166767.70  \n",
       "1870     6.70                       драма   4731239.50  \n",
       "1902     7.00  триллер,боевик,приключения 352804320.40  \n",
       "1911     7.40   фэнтези,приключения,драма     51907.50  "
      ]
     },
     "execution_count": 52,
     "metadata": {},
     "output_type": "execute_result"
    }
   ],
   "source": [
    "data[data['budget'] > (data['refundable_support'] + data['nonrefundable_support'])].head(10)"
   ]
  },
  {
   "cell_type": "markdown",
   "metadata": {},
   "source": [
    "Здесь не стыковку по суммам можно объяснить участие спонсорских денег не относящихся к средствам государственной поддержке. Здесь менять ничего не будем."
   ]
  },
  {
   "cell_type": "code",
   "execution_count": 53,
   "metadata": {},
   "outputs": [
    {
     "data": {
      "text/html": [
       "<div>\n",
       "<style scoped>\n",
       "    .dataframe tbody tr th:only-of-type {\n",
       "        vertical-align: middle;\n",
       "    }\n",
       "\n",
       "    .dataframe tbody tr th {\n",
       "        vertical-align: top;\n",
       "    }\n",
       "\n",
       "    .dataframe thead th {\n",
       "        text-align: right;\n",
       "    }\n",
       "</style>\n",
       "<table border=\"1\" class=\"dataframe\">\n",
       "  <thead>\n",
       "    <tr style=\"text-align: right;\">\n",
       "      <th></th>\n",
       "      <th>pu_number</th>\n",
       "      <th>refundable_support</th>\n",
       "      <th>nonrefundable_support</th>\n",
       "      <th>budget</th>\n",
       "      <th>ratings</th>\n",
       "      <th>box_office</th>\n",
       "    </tr>\n",
       "  </thead>\n",
       "  <tbody>\n",
       "    <tr>\n",
       "      <th>count</th>\n",
       "      <td>7467.00</td>\n",
       "      <td>7467.00</td>\n",
       "      <td>7467.00</td>\n",
       "      <td>7467.00</td>\n",
       "      <td>6502.00</td>\n",
       "      <td>3141.00</td>\n",
       "    </tr>\n",
       "    <tr>\n",
       "      <th>mean</th>\n",
       "      <td>135237747.56</td>\n",
       "      <td>489487.08</td>\n",
       "      <td>2029425.32</td>\n",
       "      <td>5656925.93</td>\n",
       "      <td>6.49</td>\n",
       "      <td>76009674.78</td>\n",
       "    </tr>\n",
       "    <tr>\n",
       "      <th>std</th>\n",
       "      <td>38370313.45</td>\n",
       "      <td>5660917.26</td>\n",
       "      <td>15631887.23</td>\n",
       "      <td>47587762.30</td>\n",
       "      <td>1.11</td>\n",
       "      <td>240250266.23</td>\n",
       "    </tr>\n",
       "    <tr>\n",
       "      <th>min</th>\n",
       "      <td>1811096.00</td>\n",
       "      <td>0.00</td>\n",
       "      <td>0.00</td>\n",
       "      <td>0.00</td>\n",
       "      <td>1.00</td>\n",
       "      <td>0.00</td>\n",
       "    </tr>\n",
       "    <tr>\n",
       "      <th>25%</th>\n",
       "      <td>113000116.50</td>\n",
       "      <td>0.00</td>\n",
       "      <td>0.00</td>\n",
       "      <td>0.00</td>\n",
       "      <td>5.90</td>\n",
       "      <td>83950.00</td>\n",
       "    </tr>\n",
       "    <tr>\n",
       "      <th>50%</th>\n",
       "      <td>121015518.00</td>\n",
       "      <td>0.00</td>\n",
       "      <td>0.00</td>\n",
       "      <td>0.00</td>\n",
       "      <td>6.60</td>\n",
       "      <td>2284862.00</td>\n",
       "    </tr>\n",
       "    <tr>\n",
       "      <th>75%</th>\n",
       "      <td>124003317.50</td>\n",
       "      <td>0.00</td>\n",
       "      <td>0.00</td>\n",
       "      <td>0.00</td>\n",
       "      <td>7.20</td>\n",
       "      <td>23441120.00</td>\n",
       "    </tr>\n",
       "    <tr>\n",
       "      <th>max</th>\n",
       "      <td>231001111.00</td>\n",
       "      <td>180000000.00</td>\n",
       "      <td>400000000.00</td>\n",
       "      <td>2305074303.00</td>\n",
       "      <td>9.90</td>\n",
       "      <td>3073568690.79</td>\n",
       "    </tr>\n",
       "  </tbody>\n",
       "</table>\n",
       "</div>"
      ],
      "text/plain": [
       "         pu_number  refundable_support  nonrefundable_support        budget  \\\n",
       "count      7467.00             7467.00                7467.00       7467.00   \n",
       "mean  135237747.56           489487.08             2029425.32    5656925.93   \n",
       "std    38370313.45          5660917.26            15631887.23   47587762.30   \n",
       "min     1811096.00                0.00                   0.00          0.00   \n",
       "25%   113000116.50                0.00                   0.00          0.00   \n",
       "50%   121015518.00                0.00                   0.00          0.00   \n",
       "75%   124003317.50                0.00                   0.00          0.00   \n",
       "max   231001111.00        180000000.00           400000000.00 2305074303.00   \n",
       "\n",
       "       ratings    box_office  \n",
       "count  6502.00       3141.00  \n",
       "mean      6.49   76009674.78  \n",
       "std       1.11  240250266.23  \n",
       "min       1.00          0.00  \n",
       "25%       5.90      83950.00  \n",
       "50%       6.60    2284862.00  \n",
       "75%       7.20   23441120.00  \n",
       "max       9.90 3073568690.79  "
      ]
     },
     "execution_count": 53,
     "metadata": {},
     "output_type": "execute_result"
    }
   ],
   "source": [
    "data.describe()"
   ]
  },
  {
   "cell_type": "markdown",
   "metadata": {},
   "source": [
    "В наших данных в столбце **'pu_number'** имеется аномальное значение номера прокатного удостоверения, которое выбивается из всей массы по количеству знаков, скорее всего это связано с ошибкой при заполнении, и добавления точки перед двумя нулями\n",
    "  Также у нас имеется нулевое значение сборов с опредленных фильмов. Это необычно, но вполне допустимо:\n",
    "        - при провальных прокатов фильма\n",
    "        - государственные/ведомственные заказы без коммерческого распространения\n",
    "        - бесплатные показы (благотворительные, учебные)"
   ]
  },
  {
   "cell_type": "markdown",
   "metadata": {
    "id": "Eu6oWp2CgFyS"
   },
   "source": [
    "#### Добавим новые столбцы"
   ]
  },
  {
   "cell_type": "markdown",
   "metadata": {
    "id": "7GgW-UpAgFyS"
   },
   "source": [
    "- Создадим столбец с информацией о годе проката. Выделим год из даты премьеры фильма."
   ]
  },
  {
   "cell_type": "code",
   "execution_count": 54,
   "metadata": {
    "id": "I-yd1DkWgFyT"
   },
   "outputs": [
    {
     "data": {
      "text/plain": [
       "0    2015\n",
       "1    2016\n",
       "2    2016\n",
       "3    2016\n",
       "4    2015\n",
       "Name: year, dtype: int64"
      ]
     },
     "execution_count": 54,
     "metadata": {},
     "output_type": "execute_result"
    }
   ],
   "source": [
    "data['year'] = pd.DatetimeIndex(data['show_start_date']).year\n",
    "data['year'].head()"
   ]
  },
  {
   "cell_type": "markdown",
   "metadata": {
    "id": "nFTDLDYOgFyT"
   },
   "source": [
    "- Создадим два столбца: с именем и фамилией главного режиссёра и основным жанром фильма. В столбцы войдут первые значения из списка режиссёров и жанров соответственно."
   ]
  },
  {
   "cell_type": "code",
   "execution_count": 55,
   "metadata": {
    "id": "LSbRZKbMgFyU",
    "scrolled": true
   },
   "outputs": [],
   "source": [
    "def new_columns(df, column_new, column_old):\n",
    "    df[column_new] = df[column_old].str.split(',').str[0]\n",
    "    return df\n",
    "\n",
    "\n",
    "data = new_columns(data, 'main_director', 'director')"
   ]
  },
  {
   "cell_type": "code",
   "execution_count": 56,
   "metadata": {
    "scrolled": true
   },
   "outputs": [],
   "source": [
    "data = new_columns(data, 'main_genres', 'genres')"
   ]
  },
  {
   "cell_type": "code",
   "execution_count": 57,
   "metadata": {
    "scrolled": true
   },
   "outputs": [
    {
     "data": {
      "text/html": [
       "<div>\n",
       "<style scoped>\n",
       "    .dataframe tbody tr th:only-of-type {\n",
       "        vertical-align: middle;\n",
       "    }\n",
       "\n",
       "    .dataframe tbody tr th {\n",
       "        vertical-align: top;\n",
       "    }\n",
       "\n",
       "    .dataframe thead th {\n",
       "        text-align: right;\n",
       "    }\n",
       "</style>\n",
       "<table border=\"1\" class=\"dataframe\">\n",
       "  <thead>\n",
       "    <tr style=\"text-align: right;\">\n",
       "      <th></th>\n",
       "      <th>title</th>\n",
       "      <th>pu_number</th>\n",
       "      <th>show_start_date</th>\n",
       "      <th>type</th>\n",
       "      <th>film_studio</th>\n",
       "      <th>production_country</th>\n",
       "      <th>director</th>\n",
       "      <th>producer</th>\n",
       "      <th>age_restriction</th>\n",
       "      <th>refundable_support</th>\n",
       "      <th>nonrefundable_support</th>\n",
       "      <th>budget</th>\n",
       "      <th>financing_source</th>\n",
       "      <th>ratings</th>\n",
       "      <th>genres</th>\n",
       "      <th>box_office</th>\n",
       "      <th>year</th>\n",
       "      <th>main_director</th>\n",
       "      <th>main_genres</th>\n",
       "    </tr>\n",
       "  </thead>\n",
       "  <tbody>\n",
       "    <tr>\n",
       "      <th>0</th>\n",
       "      <td>Открытый простор</td>\n",
       "      <td>221048915</td>\n",
       "      <td>2015-11-27 12:00:00</td>\n",
       "      <td>Художественный</td>\n",
       "      <td>Тачстоун Пикчерз, Кобальт Пикчерз, Бикон Пикче...</td>\n",
       "      <td>США</td>\n",
       "      <td>Кевин Костнер</td>\n",
       "      <td>Дэвид Валдес, Кевин Костнер, Джейк Эбертс</td>\n",
       "      <td>«18+» - запрещено для детей</td>\n",
       "      <td>0</td>\n",
       "      <td>0</td>\n",
       "      <td>0</td>\n",
       "      <td>нет</td>\n",
       "      <td>7.20</td>\n",
       "      <td>боевик,драма,мелодрама</td>\n",
       "      <td>NaN</td>\n",
       "      <td>2015</td>\n",
       "      <td>Кевин Костнер</td>\n",
       "      <td>боевик</td>\n",
       "    </tr>\n",
       "    <tr>\n",
       "      <th>1</th>\n",
       "      <td>Особо важное задание</td>\n",
       "      <td>111013716</td>\n",
       "      <td>2016-09-13 12:00:00</td>\n",
       "      <td>Художественный</td>\n",
       "      <td>Киностудия \"Мосфильм\"</td>\n",
       "      <td>СССР</td>\n",
       "      <td>Е.Матвеев</td>\n",
       "      <td>unknown</td>\n",
       "      <td>«6+» - для детей старше 6 лет</td>\n",
       "      <td>0</td>\n",
       "      <td>0</td>\n",
       "      <td>0</td>\n",
       "      <td>нет</td>\n",
       "      <td>6.60</td>\n",
       "      <td>драма,военный</td>\n",
       "      <td>NaN</td>\n",
       "      <td>2016</td>\n",
       "      <td>Е.Матвеев</td>\n",
       "      <td>драма</td>\n",
       "    </tr>\n",
       "    <tr>\n",
       "      <th>2</th>\n",
       "      <td>Особо опасен</td>\n",
       "      <td>221038416</td>\n",
       "      <td>2016-10-10 12:00:00</td>\n",
       "      <td>Художественный</td>\n",
       "      <td>Юниверсал Пикчерз, Кикстарт Продакшнз, Марк Пл...</td>\n",
       "      <td>США</td>\n",
       "      <td>Тимур Бекмамбетов</td>\n",
       "      <td>Джим Лемли, Джейсон Нетер, Марк Е.Платт, Яйн Смит</td>\n",
       "      <td>«18+» - запрещено для детей</td>\n",
       "      <td>0</td>\n",
       "      <td>0</td>\n",
       "      <td>0</td>\n",
       "      <td>нет</td>\n",
       "      <td>6.80</td>\n",
       "      <td>фантастика,боевик,триллер</td>\n",
       "      <td>NaN</td>\n",
       "      <td>2016</td>\n",
       "      <td>Тимур Бекмамбетов</td>\n",
       "      <td>фантастика</td>\n",
       "    </tr>\n",
       "    <tr>\n",
       "      <th>3</th>\n",
       "      <td>Особо опасен</td>\n",
       "      <td>221026916</td>\n",
       "      <td>2016-06-10 12:00:00</td>\n",
       "      <td>Художественный</td>\n",
       "      <td>Юниверсал Пикчерз, Кикстарт Продакшнз, Марк Пл...</td>\n",
       "      <td>США</td>\n",
       "      <td>Тимур Бекмамбетов</td>\n",
       "      <td>Джим Лемли, Джейсон Нетер, Марк Е.Платт, Яйн Смит</td>\n",
       "      <td>«18+» - запрещено для детей</td>\n",
       "      <td>0</td>\n",
       "      <td>0</td>\n",
       "      <td>0</td>\n",
       "      <td>нет</td>\n",
       "      <td>6.80</td>\n",
       "      <td>фантастика,боевик,триллер</td>\n",
       "      <td>NaN</td>\n",
       "      <td>2016</td>\n",
       "      <td>Тимур Бекмамбетов</td>\n",
       "      <td>фантастика</td>\n",
       "    </tr>\n",
       "    <tr>\n",
       "      <th>4</th>\n",
       "      <td>Особо опасен</td>\n",
       "      <td>221030815</td>\n",
       "      <td>2015-07-29 12:00:00</td>\n",
       "      <td>Художественный</td>\n",
       "      <td>Юниверсал Пикчерз, Кикстарт Продакшнз, Марк Пл...</td>\n",
       "      <td>США</td>\n",
       "      <td>Тимур Бекмамбетов</td>\n",
       "      <td>Джим Лемли, Джейсон Нетер, Марк Е.Платт, Яйн Смит</td>\n",
       "      <td>«18+» - запрещено для детей</td>\n",
       "      <td>0</td>\n",
       "      <td>0</td>\n",
       "      <td>0</td>\n",
       "      <td>нет</td>\n",
       "      <td>6.80</td>\n",
       "      <td>фантастика,боевик,триллер</td>\n",
       "      <td>NaN</td>\n",
       "      <td>2015</td>\n",
       "      <td>Тимур Бекмамбетов</td>\n",
       "      <td>фантастика</td>\n",
       "    </tr>\n",
       "    <tr>\n",
       "      <th>5</th>\n",
       "      <td>Остановился поезд</td>\n",
       "      <td>111013816</td>\n",
       "      <td>2016-09-13 12:00:00</td>\n",
       "      <td>Художественный</td>\n",
       "      <td>Киностудия \"Мосфильм\"</td>\n",
       "      <td>СССР</td>\n",
       "      <td>В.Абдрашитов</td>\n",
       "      <td>unknown</td>\n",
       "      <td>«6+» - для детей старше 6 лет</td>\n",
       "      <td>0</td>\n",
       "      <td>0</td>\n",
       "      <td>0</td>\n",
       "      <td>нет</td>\n",
       "      <td>7.70</td>\n",
       "      <td>драма</td>\n",
       "      <td>NaN</td>\n",
       "      <td>2016</td>\n",
       "      <td>В.Абдрашитов</td>\n",
       "      <td>драма</td>\n",
       "    </tr>\n",
       "    <tr>\n",
       "      <th>6</th>\n",
       "      <td>Любовь и голуби</td>\n",
       "      <td>111007013</td>\n",
       "      <td>2013-10-18 12:00:00</td>\n",
       "      <td>Художественный</td>\n",
       "      <td>Киностудия \"Мосфильм\"</td>\n",
       "      <td>СССР</td>\n",
       "      <td>В.Меньшов</td>\n",
       "      <td>unknown</td>\n",
       "      <td>«12+» - для детей старше 12 лет</td>\n",
       "      <td>0</td>\n",
       "      <td>0</td>\n",
       "      <td>0</td>\n",
       "      <td>нет</td>\n",
       "      <td>8.30</td>\n",
       "      <td>мелодрама,комедия</td>\n",
       "      <td>2700.00</td>\n",
       "      <td>2013</td>\n",
       "      <td>В.Меньшов</td>\n",
       "      <td>мелодрама</td>\n",
       "    </tr>\n",
       "    <tr>\n",
       "      <th>7</th>\n",
       "      <td>Любовь и сигареты</td>\n",
       "      <td>221074614</td>\n",
       "      <td>2014-12-29 12:00:00</td>\n",
       "      <td>Художественный</td>\n",
       "      <td>Юнайтед Артистс, Грин Стрит Филмз, Айкон Интер...</td>\n",
       "      <td>США</td>\n",
       "      <td>Джон Туртурро</td>\n",
       "      <td>Джон Пенотти, Джон Туртурро</td>\n",
       "      <td>«18+» - запрещено для детей</td>\n",
       "      <td>0</td>\n",
       "      <td>0</td>\n",
       "      <td>0</td>\n",
       "      <td>нет</td>\n",
       "      <td>6.60</td>\n",
       "      <td>мюзикл,мелодрама,комедия</td>\n",
       "      <td>NaN</td>\n",
       "      <td>2014</td>\n",
       "      <td>Джон Туртурро</td>\n",
       "      <td>мюзикл</td>\n",
       "    </tr>\n",
       "    <tr>\n",
       "      <th>8</th>\n",
       "      <td>Отпетые мошенники.</td>\n",
       "      <td>121011416</td>\n",
       "      <td>2016-05-05 12:00:00</td>\n",
       "      <td>Художественный</td>\n",
       "      <td>Пульсар Продюксьон, ТФ1 Фильм</td>\n",
       "      <td>Франция</td>\n",
       "      <td>Эрик Беснард</td>\n",
       "      <td>Патрис Леду</td>\n",
       "      <td>«18+» - запрещено для детей</td>\n",
       "      <td>0</td>\n",
       "      <td>0</td>\n",
       "      <td>0</td>\n",
       "      <td>нет</td>\n",
       "      <td>8.00</td>\n",
       "      <td>комедия,криминал</td>\n",
       "      <td>NaN</td>\n",
       "      <td>2016</td>\n",
       "      <td>Эрик Беснард</td>\n",
       "      <td>комедия</td>\n",
       "    </tr>\n",
       "    <tr>\n",
       "      <th>9</th>\n",
       "      <td>Отпуск за свой счет</td>\n",
       "      <td>111019114</td>\n",
       "      <td>2014-12-01 12:00:00</td>\n",
       "      <td>Художественный</td>\n",
       "      <td>Киностудия \"Мосфильм\", Телевидение ВНР</td>\n",
       "      <td>СССР-Венгрия</td>\n",
       "      <td>В.Титов</td>\n",
       "      <td>unknown</td>\n",
       "      <td>«12+» - для детей старше 12 лет</td>\n",
       "      <td>0</td>\n",
       "      <td>0</td>\n",
       "      <td>0</td>\n",
       "      <td>нет</td>\n",
       "      <td>7.80</td>\n",
       "      <td>мелодрама,комедия</td>\n",
       "      <td>NaN</td>\n",
       "      <td>2014</td>\n",
       "      <td>В.Титов</td>\n",
       "      <td>мелодрама</td>\n",
       "    </tr>\n",
       "  </tbody>\n",
       "</table>\n",
       "</div>"
      ],
      "text/plain": [
       "                  title  pu_number     show_start_date            type  \\\n",
       "0      Открытый простор  221048915 2015-11-27 12:00:00  Художественный   \n",
       "1  Особо важное задание  111013716 2016-09-13 12:00:00  Художественный   \n",
       "2          Особо опасен  221038416 2016-10-10 12:00:00  Художественный   \n",
       "3          Особо опасен  221026916 2016-06-10 12:00:00  Художественный   \n",
       "4          Особо опасен  221030815 2015-07-29 12:00:00  Художественный   \n",
       "5     Остановился поезд  111013816 2016-09-13 12:00:00  Художественный   \n",
       "6       Любовь и голуби  111007013 2013-10-18 12:00:00  Художественный   \n",
       "7     Любовь и сигареты  221074614 2014-12-29 12:00:00  Художественный   \n",
       "8    Отпетые мошенники.  121011416 2016-05-05 12:00:00  Художественный   \n",
       "9   Отпуск за свой счет  111019114 2014-12-01 12:00:00  Художественный   \n",
       "\n",
       "                                         film_studio production_country  \\\n",
       "0  Тачстоун Пикчерз, Кобальт Пикчерз, Бикон Пикче...                США   \n",
       "1                              Киностудия \"Мосфильм\"               СССР   \n",
       "2  Юниверсал Пикчерз, Кикстарт Продакшнз, Марк Пл...                США   \n",
       "3  Юниверсал Пикчерз, Кикстарт Продакшнз, Марк Пл...                США   \n",
       "4  Юниверсал Пикчерз, Кикстарт Продакшнз, Марк Пл...                США   \n",
       "5                              Киностудия \"Мосфильм\"               СССР   \n",
       "6                              Киностудия \"Мосфильм\"               СССР   \n",
       "7  Юнайтед Артистс, Грин Стрит Филмз, Айкон Интер...                США   \n",
       "8                     Пульсар Продюксьон, ТФ1 Фильм             Франция   \n",
       "9             Киностудия \"Мосфильм\", Телевидение ВНР       СССР-Венгрия   \n",
       "\n",
       "            director                                           producer  \\\n",
       "0      Кевин Костнер          Дэвид Валдес, Кевин Костнер, Джейк Эбертс   \n",
       "1          Е.Матвеев                                            unknown   \n",
       "2  Тимур Бекмамбетов  Джим Лемли, Джейсон Нетер, Марк Е.Платт, Яйн Смит   \n",
       "3  Тимур Бекмамбетов  Джим Лемли, Джейсон Нетер, Марк Е.Платт, Яйн Смит   \n",
       "4  Тимур Бекмамбетов  Джим Лемли, Джейсон Нетер, Марк Е.Платт, Яйн Смит   \n",
       "5       В.Абдрашитов                                            unknown   \n",
       "6          В.Меньшов                                            unknown   \n",
       "7      Джон Туртурро                        Джон Пенотти, Джон Туртурро   \n",
       "8       Эрик Беснард                                        Патрис Леду   \n",
       "9            В.Титов                                            unknown   \n",
       "\n",
       "                   age_restriction  refundable_support  nonrefundable_support  \\\n",
       "0      «18+» - запрещено для детей                   0                      0   \n",
       "1    «6+» - для детей старше 6 лет                   0                      0   \n",
       "2      «18+» - запрещено для детей                   0                      0   \n",
       "3      «18+» - запрещено для детей                   0                      0   \n",
       "4      «18+» - запрещено для детей                   0                      0   \n",
       "5    «6+» - для детей старше 6 лет                   0                      0   \n",
       "6  «12+» - для детей старше 12 лет                   0                      0   \n",
       "7      «18+» - запрещено для детей                   0                      0   \n",
       "8      «18+» - запрещено для детей                   0                      0   \n",
       "9  «12+» - для детей старше 12 лет                   0                      0   \n",
       "\n",
       "   budget financing_source  ratings                     genres  box_office  \\\n",
       "0       0              нет     7.20     боевик,драма,мелодрама         NaN   \n",
       "1       0              нет     6.60              драма,военный         NaN   \n",
       "2       0              нет     6.80  фантастика,боевик,триллер         NaN   \n",
       "3       0              нет     6.80  фантастика,боевик,триллер         NaN   \n",
       "4       0              нет     6.80  фантастика,боевик,триллер         NaN   \n",
       "5       0              нет     7.70                      драма         NaN   \n",
       "6       0              нет     8.30          мелодрама,комедия     2700.00   \n",
       "7       0              нет     6.60   мюзикл,мелодрама,комедия         NaN   \n",
       "8       0              нет     8.00           комедия,криминал         NaN   \n",
       "9       0              нет     7.80          мелодрама,комедия         NaN   \n",
       "\n",
       "   year      main_director main_genres  \n",
       "0  2015      Кевин Костнер      боевик  \n",
       "1  2016          Е.Матвеев       драма  \n",
       "2  2016  Тимур Бекмамбетов  фантастика  \n",
       "3  2016  Тимур Бекмамбетов  фантастика  \n",
       "4  2015  Тимур Бекмамбетов  фантастика  \n",
       "5  2016       В.Абдрашитов       драма  \n",
       "6  2013          В.Меньшов   мелодрама  \n",
       "7  2014      Джон Туртурро      мюзикл  \n",
       "8  2016       Эрик Беснард     комедия  \n",
       "9  2014            В.Титов   мелодрама  "
      ]
     },
     "execution_count": 57,
     "metadata": {},
     "output_type": "execute_result"
    }
   ],
   "source": [
    "data.head(10)"
   ]
  },
  {
   "cell_type": "markdown",
   "metadata": {
    "id": "1FsCXHwdgFyU"
   },
   "source": [
    "#### Посчитаем, какую долю от общего бюджета фильма составляет государственная поддержка."
   ]
  },
  {
   "cell_type": "markdown",
   "metadata": {},
   "source": [
    "Проверим сколько фильмов получило государственную поддержку"
   ]
  },
  {
   "cell_type": "code",
   "execution_count": 58,
   "metadata": {},
   "outputs": [
    {
     "data": {
      "text/plain": [
       "315"
      ]
     },
     "execution_count": 58,
     "metadata": {},
     "output_type": "execute_result"
    }
   ],
   "source": [
    "data[data['budget'] != 0]['budget'].count()"
   ]
  },
  {
   "cell_type": "markdown",
   "metadata": {},
   "source": [
    "Не так уж и много от общего количества. Создадим столбец с долей государственной поддержки в общем бюджете фильмов равной нулю. Для фильмов с государственной поддержкой перезапишем данные соотношением соответствующих столбцов."
   ]
  },
  {
   "cell_type": "code",
   "execution_count": 59,
   "metadata": {
    "id": "LV6qFuZLgFyV"
   },
   "outputs": [],
   "source": [
    "data['share_of_support'] = 0\n",
    "data.loc[data['budget'] != 0, 'share_of_support'] = (data['refundable_support'] + data['nonrefundable_support']) / data['budget']"
   ]
  },
  {
   "cell_type": "code",
   "execution_count": 60,
   "metadata": {
    "scrolled": true
   },
   "outputs": [
    {
     "data": {
      "text/html": [
       "<div>\n",
       "<style scoped>\n",
       "    .dataframe tbody tr th:only-of-type {\n",
       "        vertical-align: middle;\n",
       "    }\n",
       "\n",
       "    .dataframe tbody tr th {\n",
       "        vertical-align: top;\n",
       "    }\n",
       "\n",
       "    .dataframe thead th {\n",
       "        text-align: right;\n",
       "    }\n",
       "</style>\n",
       "<table border=\"1\" class=\"dataframe\">\n",
       "  <thead>\n",
       "    <tr style=\"text-align: right;\">\n",
       "      <th></th>\n",
       "      <th>title</th>\n",
       "      <th>pu_number</th>\n",
       "      <th>show_start_date</th>\n",
       "      <th>type</th>\n",
       "      <th>film_studio</th>\n",
       "      <th>production_country</th>\n",
       "      <th>director</th>\n",
       "      <th>producer</th>\n",
       "      <th>age_restriction</th>\n",
       "      <th>refundable_support</th>\n",
       "      <th>nonrefundable_support</th>\n",
       "      <th>budget</th>\n",
       "      <th>financing_source</th>\n",
       "      <th>ratings</th>\n",
       "      <th>genres</th>\n",
       "      <th>box_office</th>\n",
       "      <th>year</th>\n",
       "      <th>main_director</th>\n",
       "      <th>main_genres</th>\n",
       "      <th>share_of_support</th>\n",
       "    </tr>\n",
       "  </thead>\n",
       "  <tbody>\n",
       "    <tr>\n",
       "      <th>1281</th>\n",
       "      <td>Пока еще жива</td>\n",
       "      <td>111005313</td>\n",
       "      <td>2013-10-11 12:00:00</td>\n",
       "      <td>Художественный</td>\n",
       "      <td>АНО содействия развитию кинематографии \"Ангел-...</td>\n",
       "      <td>Россия</td>\n",
       "      <td>А.Атанесян</td>\n",
       "      <td>А.Атанесян, М.Бабаханов, Р.Бутко</td>\n",
       "      <td>«16+» - для детей старше 16 лет</td>\n",
       "      <td>0</td>\n",
       "      <td>26500000</td>\n",
       "      <td>79411900</td>\n",
       "      <td>Министерство культуры</td>\n",
       "      <td>8.10</td>\n",
       "      <td>драма,мелодрама</td>\n",
       "      <td>365353.60</td>\n",
       "      <td>2013</td>\n",
       "      <td>А.Атанесян</td>\n",
       "      <td>драма</td>\n",
       "      <td>0.33</td>\n",
       "    </tr>\n",
       "    <tr>\n",
       "      <th>1448</th>\n",
       "      <td>Бесславные придурки</td>\n",
       "      <td>111003314</td>\n",
       "      <td>2014-03-28 12:00:00</td>\n",
       "      <td>Художественный</td>\n",
       "      <td>ООО \"Компания \"АТК-Студио\"</td>\n",
       "      <td>Россия</td>\n",
       "      <td>А.Якимчук</td>\n",
       "      <td>А.Тютрюмов</td>\n",
       "      <td>«12+» - для детей старше 12 лет</td>\n",
       "      <td>0</td>\n",
       "      <td>26000000</td>\n",
       "      <td>37142857</td>\n",
       "      <td>Министерство культуры</td>\n",
       "      <td>NaN</td>\n",
       "      <td>unknown</td>\n",
       "      <td>28140.00</td>\n",
       "      <td>2014</td>\n",
       "      <td>А.Якимчук</td>\n",
       "      <td>unknown</td>\n",
       "      <td>0.70</td>\n",
       "    </tr>\n",
       "    <tr>\n",
       "      <th>1498</th>\n",
       "      <td>Невидимки</td>\n",
       "      <td>111004213</td>\n",
       "      <td>2013-09-10 12:00:00</td>\n",
       "      <td>Художественный</td>\n",
       "      <td>ООО \"Компания \"РЕАЛ-ДАКОТА\"</td>\n",
       "      <td>Россия</td>\n",
       "      <td>Р.Давлетьяров, С.Комаров</td>\n",
       "      <td>Р.Давлетьяров, А.Котелевский, А.Олейников</td>\n",
       "      <td>«12+» - для детей старше 12 лет</td>\n",
       "      <td>0</td>\n",
       "      <td>107847945</td>\n",
       "      <td>176023490</td>\n",
       "      <td>Фонд кино</td>\n",
       "      <td>5.30</td>\n",
       "      <td>комедия,фантастика</td>\n",
       "      <td>19957031.50</td>\n",
       "      <td>2013</td>\n",
       "      <td>Р.Давлетьяров</td>\n",
       "      <td>комедия</td>\n",
       "      <td>0.61</td>\n",
       "    </tr>\n",
       "    <tr>\n",
       "      <th>1524</th>\n",
       "      <td>БЕРЦЫ</td>\n",
       "      <td>111004314</td>\n",
       "      <td>2014-05-05 12:00:00</td>\n",
       "      <td>Художественный</td>\n",
       "      <td>ООО \"Студия \"Пассажир\"</td>\n",
       "      <td>Россия</td>\n",
       "      <td>Е.Миндадзе (псевдоним Катя Шагалова)</td>\n",
       "      <td>Л.Антонова</td>\n",
       "      <td>«16+» - для детей старше 16 лет</td>\n",
       "      <td>0</td>\n",
       "      <td>28000000</td>\n",
       "      <td>40574140</td>\n",
       "      <td>Министерство культуры</td>\n",
       "      <td>4.20</td>\n",
       "      <td>драма</td>\n",
       "      <td>55917.50</td>\n",
       "      <td>2014</td>\n",
       "      <td>Е.Миндадзе (псевдоним Катя Шагалова)</td>\n",
       "      <td>драма</td>\n",
       "      <td>0.69</td>\n",
       "    </tr>\n",
       "    <tr>\n",
       "      <th>1792</th>\n",
       "      <td>Братья Ч</td>\n",
       "      <td>111004414</td>\n",
       "      <td>2014-04-23 12:00:00</td>\n",
       "      <td>Художественный</td>\n",
       "      <td>ООО \"Студия \"Пассажир\"</td>\n",
       "      <td>Россия</td>\n",
       "      <td>М.Угаров</td>\n",
       "      <td>А.Миндадзе, Л.Антонова</td>\n",
       "      <td>«16+» - для детей старше 16 лет</td>\n",
       "      <td>0</td>\n",
       "      <td>25000000</td>\n",
       "      <td>40015122</td>\n",
       "      <td>Министерство культуры</td>\n",
       "      <td>6.40</td>\n",
       "      <td>драма</td>\n",
       "      <td>232100.00</td>\n",
       "      <td>2014</td>\n",
       "      <td>М.Угаров</td>\n",
       "      <td>драма</td>\n",
       "      <td>0.62</td>\n",
       "    </tr>\n",
       "  </tbody>\n",
       "</table>\n",
       "</div>"
      ],
      "text/plain": [
       "                    title  pu_number     show_start_date            type  \\\n",
       "1281        Пока еще жива  111005313 2013-10-11 12:00:00  Художественный   \n",
       "1448  Бесславные придурки  111003314 2014-03-28 12:00:00  Художественный   \n",
       "1498            Невидимки  111004213 2013-09-10 12:00:00  Художественный   \n",
       "1524                БЕРЦЫ  111004314 2014-05-05 12:00:00  Художественный   \n",
       "1792             Братья Ч  111004414 2014-04-23 12:00:00  Художественный   \n",
       "\n",
       "                                            film_studio production_country  \\\n",
       "1281  АНО содействия развитию кинематографии \"Ангел-...             Россия   \n",
       "1448                         ООО \"Компания \"АТК-Студио\"             Россия   \n",
       "1498                        ООО \"Компания \"РЕАЛ-ДАКОТА\"             Россия   \n",
       "1524                             ООО \"Студия \"Пассажир\"             Россия   \n",
       "1792                             ООО \"Студия \"Пассажир\"             Россия   \n",
       "\n",
       "                                  director  \\\n",
       "1281                            А.Атанесян   \n",
       "1448                             А.Якимчук   \n",
       "1498              Р.Давлетьяров, С.Комаров   \n",
       "1524  Е.Миндадзе (псевдоним Катя Шагалова)   \n",
       "1792                              М.Угаров   \n",
       "\n",
       "                                       producer  \\\n",
       "1281           А.Атанесян, М.Бабаханов, Р.Бутко   \n",
       "1448                                 А.Тютрюмов   \n",
       "1498  Р.Давлетьяров, А.Котелевский, А.Олейников   \n",
       "1524                                 Л.Антонова   \n",
       "1792                     А.Миндадзе, Л.Антонова   \n",
       "\n",
       "                      age_restriction  refundable_support  \\\n",
       "1281  «16+» - для детей старше 16 лет                   0   \n",
       "1448  «12+» - для детей старше 12 лет                   0   \n",
       "1498  «12+» - для детей старше 12 лет                   0   \n",
       "1524  «16+» - для детей старше 16 лет                   0   \n",
       "1792  «16+» - для детей старше 16 лет                   0   \n",
       "\n",
       "      nonrefundable_support     budget       financing_source  ratings  \\\n",
       "1281               26500000   79411900  Министерство культуры     8.10   \n",
       "1448               26000000   37142857  Министерство культуры      NaN   \n",
       "1498              107847945  176023490              Фонд кино     5.30   \n",
       "1524               28000000   40574140  Министерство культуры     4.20   \n",
       "1792               25000000   40015122  Министерство культуры     6.40   \n",
       "\n",
       "                  genres  box_office  year  \\\n",
       "1281     драма,мелодрама   365353.60  2013   \n",
       "1448             unknown    28140.00  2014   \n",
       "1498  комедия,фантастика 19957031.50  2013   \n",
       "1524               драма    55917.50  2014   \n",
       "1792               драма   232100.00  2014   \n",
       "\n",
       "                             main_director main_genres share_of_support  \n",
       "1281                            А.Атанесян       драма             0.33  \n",
       "1448                             А.Якимчук     unknown             0.70  \n",
       "1498                         Р.Давлетьяров     комедия             0.61  \n",
       "1524  Е.Миндадзе (псевдоним Катя Шагалова)       драма             0.69  \n",
       "1792                              М.Угаров       драма             0.62  "
      ]
     },
     "execution_count": 60,
     "metadata": {},
     "output_type": "execute_result"
    }
   ],
   "source": [
    "data[data['budget'] != 0].head()"
   ]
  },
  {
   "cell_type": "markdown",
   "metadata": {},
   "source": [
    "Сравним размеры нашего датасета до и после обработки"
   ]
  },
  {
   "cell_type": "code",
   "execution_count": 61,
   "metadata": {},
   "outputs": [
    {
     "name": "stdout",
     "output_type": "stream",
     "text": [
      "7485\n",
      "7467\n"
     ]
    }
   ],
   "source": [
    "print(len(temp))\n",
    "print(len(data))"
   ]
  },
  {
   "cell_type": "markdown",
   "metadata": {},
   "source": [
    "**Промежуточный вывод 2**\n",
    "\n",
    "На данном этапе мы завершили предобработку данных, а именно:\n",
    "* изменили тип данных в столбцах:\n",
    "    * 'show_start_date' с 'object' на 'datetime'\n",
    "    * 'ratings' с 'object' на 'float'\n",
    "    * 'refundable_support', 'nonrefundable_support', 'budget' с 'float' на 'int'\n",
    "* Предварительно проверили уникальные значения в столбце 'ratings', привели их к одному типу\n",
    "* обработали и заполнили пропуски данных в столбцах:\n",
    "    * 'film_studio', 'director', 'genres' значением 'unknown';\n",
    "    * 'ratings' медианным значением после группировки по 'genres';\n",
    "    * 'production_country' для 'Ералаш' мы заполнили страну как Россия;\n",
    "    * 'producer', и оставшийся пропуск в столбце 'production_country' аналогично нам заполнить нечем, также заполнили 'unknown'\n",
    "    * 'refundable_support', 'nonrefundable_support', 'budget' и 'financing_source'\n",
    "        Судя по описанию \"...столбец budget уже включает в себя полный объём государственной поддержки. Данные в этом столбце указаны только для тех фильмов, которые получили государственную поддержку. \".\n",
    "        Соответственно, данные во всех четырех столбцах связаны, что также потверждает общее количество пропущенных значений. Отсюда следует, что раз пропущено значение в столбце 'budget', значит государственная поддержка для данного фильма равна '0', как и в остальных столбцах, кроме 'financing_source'.\n",
    "    * в столбце 'financing_source' мы пропуски заполним словом 'нет'.\n",
    "* проверили на содержание явных и невяных дубликатов данные:\n",
    "    * имеющиеся совпадения в названиях фильмов не случайны, не смотря на то что у них разные номера прокатного удостоверения, это зачастую дубликаты, судя по совпаданиям в других столбцах, таких как: год выпуска, тип фильма, киностудия производитель, страна производитель, режиссер, продюсер, рейтинг. Однако, удалить данные дубликаты мы не можем, так как у них разные прокатные удостоверения, и они могут выпускаться различными организациями на различных площадках, что означет наличие у них различных финансовых показателях.\n",
    "* По категориальным столбцам у нас присутсвуют следующие проблемы:\n",
    "    * общая проблема почти для всех категориальных столбцов - очень длинные названия, они содержат очень много уникальных значений из-за того, что в них идет перечисления отдельных признаков;\n",
    "    * наличие пробелов с троках;\n",
    "    * различные способы записи групп стран (например 'США, Германия' и 'США-Германия', либо 'США - Франция' и 'США-Франция') при прочих равных столбцах различный порядок написания стран: 'США-Германия' и 'Германия-США' Основную часть этих проблем мы исправили на предыдущем этапе\n",
    "* проверили количественные данные:\n",
    "    * судя по описанию данных \"столбец 'budget' уже включает в себя полный объём государственной поддержки. Данные в этом столбце указаны только для тех фильмов, которые получили государственную поддержку.\" Отсюда следует, что должно выполнятся равенство 'budget' == 'refundable_support' + 'nonrefundable_support'. Проверка показала что в 95% по данным в данном вопросе все сходится, по остальным 5% имелись несоответствия:\n",
    "    * так как пропуски в столбце **'budget'** были заполнены **'0'**, при этом в некотрых данных имеются значения отличных от нуля в столбцах **'refundable_support', 'nonrefundable_support'** в этих же строках, заменили нулевое значение в столбце **'budget'** на сумму значений столбцов **'refundable_support', 'nonrefundable_support'**\n",
    "    * по тем данным где бюджет превосходил сумму вовзвратных выделенных средств мы допустили возможность присутствия в бюджете дополнительно спонсорских средств не отсносящиеся к государственной подерржке, оставили эти данные без изменений\n",
    "    * проведена проверка на наличие аномалий в числовых столбцах\n",
    "        * В наших данных в столбце **'pu_number'** имеется аномальное значение номера прокатного удостоверения, которое выбивается из всей массы по количеству знаков, скорее всего это связано с ошибкой при заполнении, и добавления точки перед двумя нулями       \n",
    "        * Также у нас имеется нулевое значение сборов с опредленных фильмов. Это необычно, но вполне допустимо:\n",
    "            * при провальных прокатов фильма\n",
    "            * государственные/ведомственные заказы без коммерческого распространения\n",
    "            * бесплатные показы (благотворительные, учебные)\n",
    "* добавили новые столбцы с параметрами:\n",
    "    * с именем и фамилией главного режиссёра и основным жанром фильма. В столбцы вошли первые значения из списка режиссёров и жанров соответственно\n",
    "    * доля государственной поддержки соотношением соответствующих столбцов (суммы вовзвратных и невозвратных средств к общему бюджету)"
   ]
  },
  {
   "cell_type": "markdown",
   "metadata": {
    "id": "6t4EukPLgFyV"
   },
   "source": [
    "### Проведем исследовательский анализ данных\n"
   ]
  },
  {
   "cell_type": "markdown",
   "metadata": {
    "id": "vAH8WCzugFyV"
   },
   "source": [
    "#### Посмотрим, сколько фильмов выходило в прокат каждый год."
   ]
  },
  {
   "cell_type": "code",
   "execution_count": 62,
   "metadata": {
    "id": "ABeV47y7gFyW"
   },
   "outputs": [
    {
     "data": {
      "image/png": "[encoded data removed]",
      "text/plain": [
       "<Figure size 576x432 with 1 Axes>"
      ]
     },
     "metadata": {
      "needs_background": "light"
     },
     "output_type": "display_data"
    },
    {
     "data": {
      "text/plain": [
       "2010    105\n",
       "2011    109\n",
       "2012    128\n",
       "2013    184\n",
       "2014    278\n",
       "2017    355\n",
       "2015    459\n",
       "2018    471\n",
       "2016    523\n",
       "2019    529\n",
       "Name: year, dtype: int64"
      ]
     },
     "execution_count": 62,
     "metadata": {},
     "output_type": "execute_result"
    }
   ],
   "source": [
    "(\n",
    "data[data['box_office'].notna()]['year']\n",
    "    .value_counts(ascending=True)\n",
    "    .plot(grid=True, kind='bar', figsize=(8, 6), color='#AC1590')\n",
    ")\n",
    "plt.xticks(rotation=0)\n",
    "plt.title('График выпуска фильмов в прокате кинотеатров', size=12)\n",
    "plt.xlabel('Год выпуска фильма', size=12)\n",
    "plt.ylabel('Количество фильмов, в прокате кинотетров', size=12)\n",
    "plt.show()\n",
    "\n",
    "data[data['box_office'].notna()]['year'].value_counts(ascending=True)"
   ]
  },
  {
   "cell_type": "markdown",
   "metadata": {},
   "source": [
    "Наблюдается стабильная динамика рсота количества фильмов в прокате кинотеатров начиная с 2011 года"
   ]
  },
  {
   "cell_type": "markdown",
   "metadata": {},
   "source": [
    "Доля фильмов с указаной информацией о прокате в кинотеатрах."
   ]
  },
  {
   "cell_type": "code",
   "execution_count": 63,
   "metadata": {},
   "outputs": [
    {
     "data": {
      "text/plain": [
       "0.421"
      ]
     },
     "execution_count": 63,
     "metadata": {},
     "output_type": "execute_result"
    }
   ],
   "source": [
    "data['box_office'].notna().mean().round(3)"
   ]
  },
  {
   "cell_type": "markdown",
   "metadata": {},
   "source": [
    "Доля фильмов с указаной информацией о прокате в кинотеатрах с группировкой по годам."
   ]
  },
  {
   "cell_type": "code",
   "execution_count": 64,
   "metadata": {},
   "outputs": [
    {
     "data": {
      "text/html": [
       "<div>\n",
       "<style scoped>\n",
       "    .dataframe tbody tr th:only-of-type {\n",
       "        vertical-align: middle;\n",
       "    }\n",
       "\n",
       "    .dataframe tbody tr th {\n",
       "        vertical-align: top;\n",
       "    }\n",
       "\n",
       "    .dataframe thead th {\n",
       "        text-align: right;\n",
       "    }\n",
       "</style>\n",
       "<table border=\"1\" class=\"dataframe\">\n",
       "  <thead>\n",
       "    <tr style=\"text-align: right;\">\n",
       "      <th></th>\n",
       "      <th>box_office</th>\n",
       "    </tr>\n",
       "    <tr>\n",
       "      <th>year</th>\n",
       "      <th></th>\n",
       "    </tr>\n",
       "  </thead>\n",
       "  <tbody>\n",
       "    <tr>\n",
       "      <th>2010</th>\n",
       "      <td>0.11</td>\n",
       "    </tr>\n",
       "    <tr>\n",
       "      <th>2011</th>\n",
       "      <td>0.18</td>\n",
       "    </tr>\n",
       "    <tr>\n",
       "      <th>2012</th>\n",
       "      <td>0.22</td>\n",
       "    </tr>\n",
       "    <tr>\n",
       "      <th>2013</th>\n",
       "      <td>0.29</td>\n",
       "    </tr>\n",
       "    <tr>\n",
       "      <th>2014</th>\n",
       "      <td>0.35</td>\n",
       "    </tr>\n",
       "    <tr>\n",
       "      <th>2015</th>\n",
       "      <td>0.66</td>\n",
       "    </tr>\n",
       "    <tr>\n",
       "      <th>2016</th>\n",
       "      <td>0.64</td>\n",
       "    </tr>\n",
       "    <tr>\n",
       "      <th>2017</th>\n",
       "      <td>0.71</td>\n",
       "    </tr>\n",
       "    <tr>\n",
       "      <th>2018</th>\n",
       "      <td>0.53</td>\n",
       "    </tr>\n",
       "    <tr>\n",
       "      <th>2019</th>\n",
       "      <td>0.57</td>\n",
       "    </tr>\n",
       "  </tbody>\n",
       "</table>\n",
       "</div>"
      ],
      "text/plain": [
       "      box_office\n",
       "year            \n",
       "2010        0.11\n",
       "2011        0.18\n",
       "2012        0.22\n",
       "2013        0.29\n",
       "2014        0.35\n",
       "2015        0.66\n",
       "2016        0.64\n",
       "2017        0.71\n",
       "2018        0.53\n",
       "2019        0.57"
      ]
     },
     "execution_count": 64,
     "metadata": {},
     "output_type": "execute_result"
    }
   ],
   "source": [
    "data.pivot_table(index='year', values='box_office', aggfunc=lambda x: x.notna().mean())"
   ]
  },
  {
   "cell_type": "markdown",
   "metadata": {},
   "source": [
    "Полнее всего у нас имеется информация о прокате в кинотеатрах с 2015 по 2017 года (65%-71%), из них самый полный в 2017 году. Наименее представлен период 2010 года, чуть более 11%."
   ]
  },
  {
   "cell_type": "markdown",
   "metadata": {
    "id": "BEOdcIrIgFyW"
   },
   "source": [
    "#### Изучим, как менялась динамика проката по годам. В каком году сумма сборов была минимальной и максимальной"
   ]
  },
  {
   "cell_type": "code",
   "execution_count": 65,
   "metadata": {
    "id": "tfEhofYvgFyX"
   },
   "outputs": [
    {
     "data": {
      "text/html": [
       "<div>\n",
       "<style scoped>\n",
       "    .dataframe tbody tr th:only-of-type {\n",
       "        vertical-align: middle;\n",
       "    }\n",
       "\n",
       "    .dataframe tbody tr th {\n",
       "        vertical-align: top;\n",
       "    }\n",
       "\n",
       "    .dataframe thead th {\n",
       "        text-align: right;\n",
       "    }\n",
       "</style>\n",
       "<table border=\"1\" class=\"dataframe\">\n",
       "  <thead>\n",
       "    <tr style=\"text-align: right;\">\n",
       "      <th></th>\n",
       "      <th>box_office</th>\n",
       "    </tr>\n",
       "    <tr>\n",
       "      <th>year</th>\n",
       "      <th></th>\n",
       "    </tr>\n",
       "  </thead>\n",
       "  <tbody>\n",
       "    <tr>\n",
       "      <th>2010</th>\n",
       "      <td>2428654.00</td>\n",
       "    </tr>\n",
       "    <tr>\n",
       "      <th>2011</th>\n",
       "      <td>14102765.00</td>\n",
       "    </tr>\n",
       "    <tr>\n",
       "      <th>2012</th>\n",
       "      <td>6955423.00</td>\n",
       "    </tr>\n",
       "    <tr>\n",
       "      <th>2013</th>\n",
       "      <td>29799706.20</td>\n",
       "    </tr>\n",
       "    <tr>\n",
       "      <th>2014</th>\n",
       "      <td>7434717843.10</td>\n",
       "    </tr>\n",
       "    <tr>\n",
       "      <th>2015</th>\n",
       "      <td>38527827199.09</td>\n",
       "    </tr>\n",
       "    <tr>\n",
       "      <th>2016</th>\n",
       "      <td>46742316269.48</td>\n",
       "    </tr>\n",
       "    <tr>\n",
       "      <th>2017</th>\n",
       "      <td>48458147253.75</td>\n",
       "    </tr>\n",
       "    <tr>\n",
       "      <th>2018</th>\n",
       "      <td>49251991405.20</td>\n",
       "    </tr>\n",
       "    <tr>\n",
       "      <th>2019</th>\n",
       "      <td>48278101953.08</td>\n",
       "    </tr>\n",
       "  </tbody>\n",
       "</table>\n",
       "</div>"
      ],
      "text/plain": [
       "         box_office\n",
       "year               \n",
       "2010     2428654.00\n",
       "2011    14102765.00\n",
       "2012     6955423.00\n",
       "2013    29799706.20\n",
       "2014  7434717843.10\n",
       "2015 38527827199.09\n",
       "2016 46742316269.48\n",
       "2017 48458147253.75\n",
       "2018 49251991405.20\n",
       "2019 48278101953.08"
      ]
     },
     "execution_count": 65,
     "metadata": {},
     "output_type": "execute_result"
    }
   ],
   "source": [
    "data.pivot_table(index='year', values='box_office', aggfunc='sum')"
   ]
  },
  {
   "cell_type": "code",
   "execution_count": 66,
   "metadata": {},
   "outputs": [
    {
     "data": {
      "image/png": "[encoded data removed]",
      "text/plain": [
       "<Figure size 576x432 with 1 Axes>"
      ]
     },
     "metadata": {
      "needs_background": "light"
     },
     "output_type": "display_data"
    }
   ],
   "source": [
    "data.pivot_table(index='year', values='box_office', aggfunc='sum').plot(grid=True, kind='bar', figsize=(8, 6))\n",
    "plt.xticks(rotation=0)\n",
    "plt.title('Динамика сборов проката фильмов в кинотеатрах', size=14)\n",
    "plt.xlabel('Года проката фильмов в кинотеатрах', size=13)\n",
    "plt.ylabel('Сборы с проката фильмов по годам, в 10 млрд руб')\n",
    "plt.show()"
   ]
  },
  {
   "cell_type": "markdown",
   "metadata": {},
   "source": [
    "Самая минимальная сумма сборов судя по графику и таблице это 2010 год, самая максимальная сумма сборов это - 2017 год. \n",
    "Динамика сборов увеличивается стабильно вплоть до 2016 года, затем рост прекращается, остается относительно неизменным. Также, судя по предыдущему пункту, у на самая полная информация о прокатах - 2015-2017 года, а самые неполные 2010-2013, поэтому самая акутальная информация по динамике у нас это начиная с 2015 года."
   ]
  },
  {
   "cell_type": "markdown",
   "metadata": {
    "id": "G-7qS-N-gFyY"
   },
   "source": [
    "#### С помощью сводной таблицы посчитаем среднюю и медианную сумму сборов для каждого года."
   ]
  },
  {
   "cell_type": "code",
   "execution_count": 67,
   "metadata": {
    "id": "jmp-rgg9gFyY"
   },
   "outputs": [
    {
     "data": {
      "text/html": [
       "<div>\n",
       "<style scoped>\n",
       "    .dataframe tbody tr th:only-of-type {\n",
       "        vertical-align: middle;\n",
       "    }\n",
       "\n",
       "    .dataframe tbody tr th {\n",
       "        vertical-align: top;\n",
       "    }\n",
       "\n",
       "    .dataframe thead th {\n",
       "        text-align: right;\n",
       "    }\n",
       "</style>\n",
       "<table border=\"1\" class=\"dataframe\">\n",
       "  <thead>\n",
       "    <tr style=\"text-align: right;\">\n",
       "      <th></th>\n",
       "      <th>mean</th>\n",
       "      <th>median</th>\n",
       "    </tr>\n",
       "    <tr>\n",
       "      <th>year</th>\n",
       "      <th></th>\n",
       "      <th></th>\n",
       "    </tr>\n",
       "  </thead>\n",
       "  <tbody>\n",
       "    <tr>\n",
       "      <th>2010</th>\n",
       "      <td>23130.04</td>\n",
       "      <td>1700.00</td>\n",
       "    </tr>\n",
       "    <tr>\n",
       "      <th>2011</th>\n",
       "      <td>129383.17</td>\n",
       "      <td>3000.00</td>\n",
       "    </tr>\n",
       "    <tr>\n",
       "      <th>2012</th>\n",
       "      <td>54339.24</td>\n",
       "      <td>5660.00</td>\n",
       "    </tr>\n",
       "    <tr>\n",
       "      <th>2013</th>\n",
       "      <td>161954.92</td>\n",
       "      <td>3522.50</td>\n",
       "    </tr>\n",
       "    <tr>\n",
       "      <th>2014</th>\n",
       "      <td>26743589.36</td>\n",
       "      <td>18137.50</td>\n",
       "    </tr>\n",
       "    <tr>\n",
       "      <th>2015</th>\n",
       "      <td>83938621.35</td>\n",
       "      <td>4784781.50</td>\n",
       "    </tr>\n",
       "    <tr>\n",
       "      <th>2016</th>\n",
       "      <td>89373453.67</td>\n",
       "      <td>3776087.56</td>\n",
       "    </tr>\n",
       "    <tr>\n",
       "      <th>2017</th>\n",
       "      <td>136501823.25</td>\n",
       "      <td>9919415.00</td>\n",
       "    </tr>\n",
       "    <tr>\n",
       "      <th>2018</th>\n",
       "      <td>104568983.88</td>\n",
       "      <td>8751895.75</td>\n",
       "    </tr>\n",
       "    <tr>\n",
       "      <th>2019</th>\n",
       "      <td>91262952.65</td>\n",
       "      <td>4601033.60</td>\n",
       "    </tr>\n",
       "  </tbody>\n",
       "</table>\n",
       "</div>"
      ],
      "text/plain": [
       "             mean     median\n",
       "year                        \n",
       "2010     23130.04    1700.00\n",
       "2011    129383.17    3000.00\n",
       "2012     54339.24    5660.00\n",
       "2013    161954.92    3522.50\n",
       "2014  26743589.36   18137.50\n",
       "2015  83938621.35 4784781.50\n",
       "2016  89373453.67 3776087.56\n",
       "2017 136501823.25 9919415.00\n",
       "2018 104568983.88 8751895.75\n",
       "2019  91262952.65 4601033.60"
      ]
     },
     "execution_count": 67,
     "metadata": {},
     "output_type": "execute_result"
    }
   ],
   "source": [
    "data.pivot_table(index='year', values='box_office', aggfunc=('mean', 'median'))"
   ]
  },
  {
   "cell_type": "markdown",
   "metadata": {},
   "source": [
    "Средняя и медианная сумма сбора существенно отличаются - средняя сумма сборов оказывается в разы выше медианной. Это значит, что среди фильмов есть явные фавориты, приносящие своим создателям существенную долю от общего проката. А сборы большей части фильмов весьма скромные."
   ]
  },
  {
   "cell_type": "markdown",
   "metadata": {
    "id": "Ok89WFwJgFyZ"
   },
   "source": [
    "#### Определим:\n",
    "* влияет ли возрастное ограничение аудитории («6+», «12+», «16+», «18+» и т. д.) на сборы фильма в прокате в период с 2015 по 2019 год. \n",
    "* фильмы с каким возрастным ограничением собрали больше всего денег в прокате?\n",
    "* меняется ли картина в зависимости от года?"
   ]
  },
  {
   "cell_type": "markdown",
   "metadata": {},
   "source": [
    "Посмотрим на уникальные значения групп возрастного ограничения аудитории"
   ]
  },
  {
   "cell_type": "code",
   "execution_count": 68,
   "metadata": {
    "id": "jsSbEqfjgFya"
   },
   "outputs": [
    {
     "data": {
      "text/plain": [
       "array(['«18+» - запрещено для детей', '«6+» - для детей старше 6 лет',\n",
       "       '«12+» - для детей старше 12 лет',\n",
       "       '«16+» - для детей старше 16 лет',\n",
       "       '«0+» - для любой зрительской аудитории'], dtype=object)"
      ]
     },
     "execution_count": 68,
     "metadata": {},
     "output_type": "execute_result"
    }
   ],
   "source": [
    "data['age_restriction'].unique()"
   ]
  },
  {
   "cell_type": "markdown",
   "metadata": {},
   "source": [
    "Сократим наши длинные названия категорий возрастных ограничений аудитории до значений возраста."
   ]
  },
  {
   "cell_type": "code",
   "execution_count": 69,
   "metadata": {},
   "outputs": [],
   "source": [
    "data['age_restriction'] = data['age_restriction'].str.split(' - ').str[0]"
   ]
  },
  {
   "cell_type": "code",
   "execution_count": 70,
   "metadata": {},
   "outputs": [
    {
     "data": {
      "image/png": "[encoded data removed]",
      "text/plain": [
       "<Figure size 720x432 with 1 Axes>"
      ]
     },
     "metadata": {
      "needs_background": "light"
     },
     "output_type": "display_data"
    },
    {
     "name": "stdout",
     "output_type": "stream",
     "text": [
      "                    box_office\n",
      "age_restriction               \n",
      "«0+»              809077425.97\n",
      "«18+»           40757657833.61\n",
      "«6+»            55220193077.92\n",
      "«12+»           59369189769.50\n",
      "«16+»           75102265973.60\n"
     ]
    }
   ],
   "source": [
    "(\n",
    "data[data['year'] > 2014].pivot_table(index=['age_restriction'], values='box_office', aggfunc='sum')\n",
    "    .sort_values('box_office')\n",
    "    .plot(grid=True, kind='bar', figsize=(10, 6))\n",
    ")\n",
    "plt.xticks(rotation=0)\n",
    "plt.title('График зависимости сборов от ограничения аудитории', size=15)\n",
    "plt.xlabel('Группы аудиторий', size=14)\n",
    "plt.ylabel('Сборы в 10 млрд руб', size=14)\n",
    "plt.show()\n",
    "print(data[data['year'] > 2014].pivot_table(index=['age_restriction'], values='box_office', aggfunc='sum')\n",
    "    .sort_values('box_office'))"
   ]
  },
  {
   "cell_type": "markdown",
   "metadata": {},
   "source": [
    "Как мы видим имеется незначительная зависимость сборов от ограничения аудитории. Максимальный сбор с проката фильмов с ограничением аудитории **\"16+\"**, минимальный сбор **\"0+\"**"
   ]
  },
  {
   "cell_type": "code",
   "execution_count": 71,
   "metadata": {},
   "outputs": [
    {
     "data": {
      "image/png": "[encoded data removed]",
      "text/plain": [
       "<Figure size 1008x504 with 1 Axes>"
      ]
     },
     "metadata": {
      "needs_background": "light"
     },
     "output_type": "display_data"
    },
    {
     "name": "stdout",
     "output_type": "stream",
     "text": [
      "                         box_office\n",
      "age_restriction year               \n",
      "«0+»            2015   379054578.37\n",
      "«6+»            2015  8517311820.01\n",
      "«12+»           2015 13419509570.51\n",
      "«18+»           2015  5430350628.93\n",
      "«16+»           2015 10781600601.27\n",
      "«0+»            2016   150228848.67\n",
      "«6+»            2016 12053146008.24\n",
      "«12+»           2016 11150762103.96\n",
      "«18+»           2016  6793929818.87\n",
      "«16+»           2016 16594249489.74\n",
      "«6+»            2017 12031034131.00\n",
      "«18+»           2017  9651495581.02\n",
      "«16+»           2017 18694590951.06\n",
      "«12+»           2017  7851427660.67\n",
      "«0+»            2017   229598930.00\n",
      "«16+»           2018 16278405946.93\n",
      "«12+»           2018 14267291660.69\n",
      "«18+»           2018  8760085501.15\n",
      "«0+»            2018    32449002.11\n",
      "«6+»            2018  9913759294.32\n",
      "«16+»           2019 12753418984.60\n",
      "«12+»           2019 12680198773.67\n",
      "«18+»           2019 10121796303.64\n",
      "«0+»            2019    17746066.82\n",
      "«6+»            2019 12704941824.35\n"
     ]
    }
   ],
   "source": [
    "(\n",
    "data[data['year'] > 2014].pivot_table(index=['age_restriction', 'year'], values='box_office', aggfunc='sum')\n",
    "    .sort_values('year')\n",
    "    .plot(grid=True, kind='bar', figsize=(14, 7))\n",
    ")\n",
    "plt.xticks(rotation=90)\n",
    "plt.title('График зависимости сборов от ограничения аудитории по годам проката', size=15)\n",
    "plt.xlabel('Группы аудиторий', size=14)\n",
    "plt.ylabel('Сборы в 10 млрд руб', size=14)\n",
    "plt.show()\n",
    "print(data[data['year'] > 2014].pivot_table(index=['age_restriction', 'year'], values='box_office', aggfunc='sum')\n",
    "    .sort_values('year'))"
   ]
  },
  {
   "cell_type": "markdown",
   "metadata": {},
   "source": [
    "После дполнительной группировки по годам с 2015 по 2019, картина в целом не меняется. С той лишь разницей, что в 2015 году у нас самые большие сборы с проката фильмов для аудитории **\"12+\"**, начиная с 2016 года уверенное превенство сохраняет вплоть до 2019 года аудитрия **\"16+\"**, лишь немного уступив в 2019 году аудитории **\"0+\"**. Однако в 2019 году аудитория **\"0+\"** выходит на первое место. Возможно это связано с выходом ожидаемых качественных фильмов для целевой аудитории."
   ]
  },
  {
   "cell_type": "markdown",
   "metadata": {},
   "source": [
    "**Промежуточный вывод 3**\n",
    "\n",
    "На данном этапе мы провели исследовательский анализ данных:\n",
    "* посмотрели, сколько фильмов выходило в прокат каждый год;\n",
    "    * наблюдается стабильная динамика роста количества фильмов в прокате кинотеатров начиная с 2011 года\n",
    "* посчитали, какую долю составляют фильмы с указанной информацией о прокате в кинотеатрах;\n",
    "    * 44,5% - доля фильмов с указанной информацией о прокате\n",
    "* проанализировали, как эта доля менялась по годам;\n",
    "    * Полнее всего у нас имеется информация о прокате в кинотеатрах с 2015 по 2017 года (65%-71%), из них самый полный в 2017 году. Наименее представлен период 2010 года, чуть более 11%\n",
    "* изучили, как менялась динамика проката по годам;\n",
    "    * Самая минимальная сумма сборов судя по графику и таблице это 2010 год, самая максимальная сумма сборов это - 2017 год. \n",
    "    * Динамика сборов увеличивается стабильно вплоть до 2016 года, затем рост прекращается, остается относительно неизменным. Также, судя по предыдущему пункту, у на самая полная информация о прокатах - 2015-2017 года, а самые неполные 2010-2013, поэтому самая акутальная информация по динамике у нас это начиная с 2015 года\n",
    "* у нас огромная разница по сумме 'сборов' между 'средней' и 'медианой', это можно объяснить наличием выбросов в данных, т.е. среди фильмов есть явные звезды, приносящие своим создателям существенную долю от общего проката. А сборы большей части фильмов весьма скромные;\n",
    "* изучили, влияет ли возрастное ограничение аудитории («6+», «12+», «16+», «18+» и т. д.) на сборы фильма в прокате в период с 2015 по 2019 год\n",
    "    * имеется незначительная зависимость сборов от ограничения аудитории. Максимальный сбор с проката фильмов с ограничением аудитории **\"16+\"**, минимальный сбор **\"0+\"**\n",
    "    * После дполнительной группировки по годам с 2015 по 2019, картина в целом не меняется. С той лишь разницей, что в 2015 году у нас самые большие сборы с проката фильмов для аудитории **\"12+\"**, начиная с 2016 года уверенное превенство сохраняет вплоть до 2019 года аудитрия **\"16+\"**, лишь немного уступив в 2019 году аудитории **\"0+\"**. Однако в 2019 году аудитория **\"0+\"** выходит на первое место. Возможно это связано с выходом ожидаемых качественных фильмов для целевой аудитории"
   ]
  },
  {
   "cell_type": "markdown",
   "metadata": {
    "id": "l_Kg6Ku4gFya"
   },
   "source": [
    "### Исследуем фильмы, которые получили государственную поддержку"
   ]
  },
  {
   "cell_type": "markdown",
   "metadata": {},
   "source": [
    "#### Посмотрим, сколько в наших данных фильмов с государственной поддержкой, согласно описанию к данным."
   ]
  },
  {
   "cell_type": "code",
   "execution_count": 72,
   "metadata": {
    "id": "W9QKpjUdgFyb"
   },
   "outputs": [
    {
     "data": {
      "text/plain": [
       "315"
      ]
     },
     "execution_count": 72,
     "metadata": {},
     "output_type": "execute_result"
    }
   ],
   "source": [
    "data[data['budget'] != 0]['budget'].count()"
   ]
  },
  {
   "cell_type": "markdown",
   "metadata": {},
   "source": [
    "#### Создадим датафрейм в который воет информация по фильмам:\n",
    "* периоду с 2015 по 2019 года, так как информация наиболее представлена в этом периоде;\n",
    "* фильмы с государственной поддержкой"
   ]
  },
  {
   "cell_type": "code",
   "execution_count": 73,
   "metadata": {},
   "outputs": [
    {
     "data": {
      "text/html": [
       "<div>\n",
       "<style scoped>\n",
       "    .dataframe tbody tr th:only-of-type {\n",
       "        vertical-align: middle;\n",
       "    }\n",
       "\n",
       "    .dataframe tbody tr th {\n",
       "        vertical-align: top;\n",
       "    }\n",
       "\n",
       "    .dataframe thead th {\n",
       "        text-align: right;\n",
       "    }\n",
       "</style>\n",
       "<table border=\"1\" class=\"dataframe\">\n",
       "  <thead>\n",
       "    <tr style=\"text-align: right;\">\n",
       "      <th></th>\n",
       "      <th>title</th>\n",
       "      <th>pu_number</th>\n",
       "      <th>show_start_date</th>\n",
       "      <th>type</th>\n",
       "      <th>film_studio</th>\n",
       "      <th>production_country</th>\n",
       "      <th>director</th>\n",
       "      <th>producer</th>\n",
       "      <th>age_restriction</th>\n",
       "      <th>refundable_support</th>\n",
       "      <th>nonrefundable_support</th>\n",
       "      <th>budget</th>\n",
       "      <th>financing_source</th>\n",
       "      <th>ratings</th>\n",
       "      <th>genres</th>\n",
       "      <th>box_office</th>\n",
       "      <th>year</th>\n",
       "      <th>main_director</th>\n",
       "      <th>main_genres</th>\n",
       "      <th>share_of_support</th>\n",
       "    </tr>\n",
       "  </thead>\n",
       "  <tbody>\n",
       "    <tr>\n",
       "      <th>1853</th>\n",
       "      <td>Тайна Сухаревой башни. Чародей равновесия</td>\n",
       "      <td>114000115</td>\n",
       "      <td>2015-02-18 12:00:00</td>\n",
       "      <td>Анимационный</td>\n",
       "      <td>ООО \"Студия \"Мастер-Фильм\"</td>\n",
       "      <td>Россия</td>\n",
       "      <td>С.Серегин</td>\n",
       "      <td>А.Герасимов</td>\n",
       "      <td>«6+»</td>\n",
       "      <td>0</td>\n",
       "      <td>25000000</td>\n",
       "      <td>51850000</td>\n",
       "      <td>Министерство культуры</td>\n",
       "      <td>6.10</td>\n",
       "      <td>мультфильм,фэнтези,история</td>\n",
       "      <td>15078858.60</td>\n",
       "      <td>2015</td>\n",
       "      <td>С.Серегин</td>\n",
       "      <td>мультфильм</td>\n",
       "      <td>0.48</td>\n",
       "    </tr>\n",
       "    <tr>\n",
       "      <th>1869</th>\n",
       "      <td>А зори здесь тихие..._</td>\n",
       "      <td>111002915</td>\n",
       "      <td>2015-03-16 12:00:00</td>\n",
       "      <td>Художественный</td>\n",
       "      <td>ООО \"Компания \"Реал-Дакота\"</td>\n",
       "      <td>Россия</td>\n",
       "      <td>Р.Давлетьяров</td>\n",
       "      <td>unknown</td>\n",
       "      <td>«12+»</td>\n",
       "      <td>50000000</td>\n",
       "      <td>100000000</td>\n",
       "      <td>220588394</td>\n",
       "      <td>Фонд кино</td>\n",
       "      <td>8.50</td>\n",
       "      <td>драма,военный,история</td>\n",
       "      <td>249166767.70</td>\n",
       "      <td>2015</td>\n",
       "      <td>Р.Давлетьяров</td>\n",
       "      <td>драма</td>\n",
       "      <td>0.68</td>\n",
       "    </tr>\n",
       "    <tr>\n",
       "      <th>1902</th>\n",
       "      <td>Призрак_.</td>\n",
       "      <td>111001815</td>\n",
       "      <td>2015-03-02 12:00:00</td>\n",
       "      <td>Художественный</td>\n",
       "      <td>ООО \"Водород 2011\"</td>\n",
       "      <td>Россия</td>\n",
       "      <td>А.Войтинский</td>\n",
       "      <td>С.Сельянов</td>\n",
       "      <td>«6+»</td>\n",
       "      <td>0</td>\n",
       "      <td>75000000</td>\n",
       "      <td>139551503</td>\n",
       "      <td>Фонд кино</td>\n",
       "      <td>7.00</td>\n",
       "      <td>триллер,боевик,приключения</td>\n",
       "      <td>352804320.40</td>\n",
       "      <td>2015</td>\n",
       "      <td>А.Войтинский</td>\n",
       "      <td>триллер</td>\n",
       "      <td>0.54</td>\n",
       "    </tr>\n",
       "    <tr>\n",
       "      <th>1911</th>\n",
       "      <td>Ведьма .</td>\n",
       "      <td>111002215</td>\n",
       "      <td>2015-03-05 12:00:00</td>\n",
       "      <td>Художественный</td>\n",
       "      <td>ООО \"Кинокомпания \"Ракурс\"</td>\n",
       "      <td>Россия</td>\n",
       "      <td>Д.Федоров</td>\n",
       "      <td>В.Сидоренко</td>\n",
       "      <td>«16+»</td>\n",
       "      <td>0</td>\n",
       "      <td>34000000</td>\n",
       "      <td>48571430</td>\n",
       "      <td>Министерство культуры</td>\n",
       "      <td>7.40</td>\n",
       "      <td>фэнтези,приключения,драма</td>\n",
       "      <td>51907.50</td>\n",
       "      <td>2015</td>\n",
       "      <td>Д.Федоров</td>\n",
       "      <td>фэнтези</td>\n",
       "      <td>0.70</td>\n",
       "    </tr>\n",
       "    <tr>\n",
       "      <th>2083</th>\n",
       "      <td>Дорога на Берлин</td>\n",
       "      <td>111001315</td>\n",
       "      <td>2015-02-17 12:00:00</td>\n",
       "      <td>Художественный</td>\n",
       "      <td>ООО \"Продюсерская компания Александра Литвинов...</td>\n",
       "      <td>Россия</td>\n",
       "      <td>С.Попов</td>\n",
       "      <td>А.Литвинов, К.Шахназаров</td>\n",
       "      <td>«12+»</td>\n",
       "      <td>0</td>\n",
       "      <td>45000000</td>\n",
       "      <td>89782312</td>\n",
       "      <td>Министерство культуры</td>\n",
       "      <td>6.20</td>\n",
       "      <td>военный,драма,история</td>\n",
       "      <td>22723575.00</td>\n",
       "      <td>2015</td>\n",
       "      <td>С.Попов</td>\n",
       "      <td>военный</td>\n",
       "      <td>0.50</td>\n",
       "    </tr>\n",
       "  </tbody>\n",
       "</table>\n",
       "</div>"
      ],
      "text/plain": [
       "                                          title  pu_number  \\\n",
       "1853  Тайна Сухаревой башни. Чародей равновесия  114000115   \n",
       "1869                     А зори здесь тихие..._  111002915   \n",
       "1902                                  Призрак_.  111001815   \n",
       "1911                                   Ведьма .  111002215   \n",
       "2083                           Дорога на Берлин  111001315   \n",
       "\n",
       "         show_start_date            type  \\\n",
       "1853 2015-02-18 12:00:00    Анимационный   \n",
       "1869 2015-03-16 12:00:00  Художественный   \n",
       "1902 2015-03-02 12:00:00  Художественный   \n",
       "1911 2015-03-05 12:00:00  Художественный   \n",
       "2083 2015-02-17 12:00:00  Художественный   \n",
       "\n",
       "                                            film_studio production_country  \\\n",
       "1853                        ООО \"Студия \"Мастер-Фильм\"              Россия   \n",
       "1869                        ООО \"Компания \"Реал-Дакота\"             Россия   \n",
       "1902                                 ООО \"Водород 2011\"             Россия   \n",
       "1911                         ООО \"Кинокомпания \"Ракурс\"             Россия   \n",
       "2083  ООО \"Продюсерская компания Александра Литвинов...             Россия   \n",
       "\n",
       "           director                  producer age_restriction  \\\n",
       "1853      С.Серегин               А.Герасимов            «6+»   \n",
       "1869  Р.Давлетьяров                   unknown           «12+»   \n",
       "1902   А.Войтинский                С.Сельянов            «6+»   \n",
       "1911      Д.Федоров               В.Сидоренко           «16+»   \n",
       "2083        С.Попов  А.Литвинов, К.Шахназаров           «12+»   \n",
       "\n",
       "      refundable_support  nonrefundable_support     budget  \\\n",
       "1853                   0               25000000   51850000   \n",
       "1869            50000000              100000000  220588394   \n",
       "1902                   0               75000000  139551503   \n",
       "1911                   0               34000000   48571430   \n",
       "2083                   0               45000000   89782312   \n",
       "\n",
       "           financing_source  ratings                      genres   box_office  \\\n",
       "1853  Министерство культуры     6.10  мультфильм,фэнтези,история  15078858.60   \n",
       "1869              Фонд кино     8.50       драма,военный,история 249166767.70   \n",
       "1902              Фонд кино     7.00  триллер,боевик,приключения 352804320.40   \n",
       "1911  Министерство культуры     7.40   фэнтези,приключения,драма     51907.50   \n",
       "2083  Министерство культуры     6.20       военный,драма,история  22723575.00   \n",
       "\n",
       "      year  main_director main_genres share_of_support  \n",
       "1853  2015      С.Серегин  мультфильм             0.48  \n",
       "1869  2015  Р.Давлетьяров       драма             0.68  \n",
       "1902  2015   А.Войтинский     триллер             0.54  \n",
       "1911  2015      Д.Федоров     фэнтези             0.70  \n",
       "2083  2015        С.Попов     военный             0.50  "
      ]
     },
     "execution_count": 73,
     "metadata": {},
     "output_type": "execute_result"
    }
   ],
   "source": [
    "data_support = data[(data['year'] > 2014) & (data['budget'] > 0)].copy()\n",
    "data_support.head()"
   ]
  },
  {
   "cell_type": "markdown",
   "metadata": {},
   "source": [
    "#### Создадим столбец, который будет содержать полную сумму государственной поддержки."
   ]
  },
  {
   "cell_type": "code",
   "execution_count": 74,
   "metadata": {
    "scrolled": false
   },
   "outputs": [
    {
     "data": {
      "text/html": [
       "<div>\n",
       "<style scoped>\n",
       "    .dataframe tbody tr th:only-of-type {\n",
       "        vertical-align: middle;\n",
       "    }\n",
       "\n",
       "    .dataframe tbody tr th {\n",
       "        vertical-align: top;\n",
       "    }\n",
       "\n",
       "    .dataframe thead th {\n",
       "        text-align: right;\n",
       "    }\n",
       "</style>\n",
       "<table border=\"1\" class=\"dataframe\">\n",
       "  <thead>\n",
       "    <tr style=\"text-align: right;\">\n",
       "      <th></th>\n",
       "      <th>title</th>\n",
       "      <th>pu_number</th>\n",
       "      <th>show_start_date</th>\n",
       "      <th>type</th>\n",
       "      <th>film_studio</th>\n",
       "      <th>production_country</th>\n",
       "      <th>director</th>\n",
       "      <th>producer</th>\n",
       "      <th>age_restriction</th>\n",
       "      <th>refundable_support</th>\n",
       "      <th>...</th>\n",
       "      <th>budget</th>\n",
       "      <th>financing_source</th>\n",
       "      <th>ratings</th>\n",
       "      <th>genres</th>\n",
       "      <th>box_office</th>\n",
       "      <th>year</th>\n",
       "      <th>main_director</th>\n",
       "      <th>main_genres</th>\n",
       "      <th>share_of_support</th>\n",
       "      <th>government_support</th>\n",
       "    </tr>\n",
       "  </thead>\n",
       "  <tbody>\n",
       "    <tr>\n",
       "      <th>1853</th>\n",
       "      <td>Тайна Сухаревой башни. Чародей равновесия</td>\n",
       "      <td>114000115</td>\n",
       "      <td>2015-02-18 12:00:00</td>\n",
       "      <td>Анимационный</td>\n",
       "      <td>ООО \"Студия \"Мастер-Фильм\"</td>\n",
       "      <td>Россия</td>\n",
       "      <td>С.Серегин</td>\n",
       "      <td>А.Герасимов</td>\n",
       "      <td>«6+»</td>\n",
       "      <td>0</td>\n",
       "      <td>...</td>\n",
       "      <td>51850000</td>\n",
       "      <td>Министерство культуры</td>\n",
       "      <td>6.10</td>\n",
       "      <td>мультфильм,фэнтези,история</td>\n",
       "      <td>15078858.60</td>\n",
       "      <td>2015</td>\n",
       "      <td>С.Серегин</td>\n",
       "      <td>мультфильм</td>\n",
       "      <td>0.48</td>\n",
       "      <td>25000000</td>\n",
       "    </tr>\n",
       "    <tr>\n",
       "      <th>1869</th>\n",
       "      <td>А зори здесь тихие..._</td>\n",
       "      <td>111002915</td>\n",
       "      <td>2015-03-16 12:00:00</td>\n",
       "      <td>Художественный</td>\n",
       "      <td>ООО \"Компания \"Реал-Дакота\"</td>\n",
       "      <td>Россия</td>\n",
       "      <td>Р.Давлетьяров</td>\n",
       "      <td>unknown</td>\n",
       "      <td>«12+»</td>\n",
       "      <td>50000000</td>\n",
       "      <td>...</td>\n",
       "      <td>220588394</td>\n",
       "      <td>Фонд кино</td>\n",
       "      <td>8.50</td>\n",
       "      <td>драма,военный,история</td>\n",
       "      <td>249166767.70</td>\n",
       "      <td>2015</td>\n",
       "      <td>Р.Давлетьяров</td>\n",
       "      <td>драма</td>\n",
       "      <td>0.68</td>\n",
       "      <td>150000000</td>\n",
       "    </tr>\n",
       "    <tr>\n",
       "      <th>1902</th>\n",
       "      <td>Призрак_.</td>\n",
       "      <td>111001815</td>\n",
       "      <td>2015-03-02 12:00:00</td>\n",
       "      <td>Художественный</td>\n",
       "      <td>ООО \"Водород 2011\"</td>\n",
       "      <td>Россия</td>\n",
       "      <td>А.Войтинский</td>\n",
       "      <td>С.Сельянов</td>\n",
       "      <td>«6+»</td>\n",
       "      <td>0</td>\n",
       "      <td>...</td>\n",
       "      <td>139551503</td>\n",
       "      <td>Фонд кино</td>\n",
       "      <td>7.00</td>\n",
       "      <td>триллер,боевик,приключения</td>\n",
       "      <td>352804320.40</td>\n",
       "      <td>2015</td>\n",
       "      <td>А.Войтинский</td>\n",
       "      <td>триллер</td>\n",
       "      <td>0.54</td>\n",
       "      <td>75000000</td>\n",
       "    </tr>\n",
       "    <tr>\n",
       "      <th>1911</th>\n",
       "      <td>Ведьма .</td>\n",
       "      <td>111002215</td>\n",
       "      <td>2015-03-05 12:00:00</td>\n",
       "      <td>Художественный</td>\n",
       "      <td>ООО \"Кинокомпания \"Ракурс\"</td>\n",
       "      <td>Россия</td>\n",
       "      <td>Д.Федоров</td>\n",
       "      <td>В.Сидоренко</td>\n",
       "      <td>«16+»</td>\n",
       "      <td>0</td>\n",
       "      <td>...</td>\n",
       "      <td>48571430</td>\n",
       "      <td>Министерство культуры</td>\n",
       "      <td>7.40</td>\n",
       "      <td>фэнтези,приключения,драма</td>\n",
       "      <td>51907.50</td>\n",
       "      <td>2015</td>\n",
       "      <td>Д.Федоров</td>\n",
       "      <td>фэнтези</td>\n",
       "      <td>0.70</td>\n",
       "      <td>34000000</td>\n",
       "    </tr>\n",
       "    <tr>\n",
       "      <th>2083</th>\n",
       "      <td>Дорога на Берлин</td>\n",
       "      <td>111001315</td>\n",
       "      <td>2015-02-17 12:00:00</td>\n",
       "      <td>Художественный</td>\n",
       "      <td>ООО \"Продюсерская компания Александра Литвинов...</td>\n",
       "      <td>Россия</td>\n",
       "      <td>С.Попов</td>\n",
       "      <td>А.Литвинов, К.Шахназаров</td>\n",
       "      <td>«12+»</td>\n",
       "      <td>0</td>\n",
       "      <td>...</td>\n",
       "      <td>89782312</td>\n",
       "      <td>Министерство культуры</td>\n",
       "      <td>6.20</td>\n",
       "      <td>военный,драма,история</td>\n",
       "      <td>22723575.00</td>\n",
       "      <td>2015</td>\n",
       "      <td>С.Попов</td>\n",
       "      <td>военный</td>\n",
       "      <td>0.50</td>\n",
       "      <td>45000000</td>\n",
       "    </tr>\n",
       "  </tbody>\n",
       "</table>\n",
       "<p>5 rows × 21 columns</p>\n",
       "</div>"
      ],
      "text/plain": [
       "                                          title  pu_number  \\\n",
       "1853  Тайна Сухаревой башни. Чародей равновесия  114000115   \n",
       "1869                     А зори здесь тихие..._  111002915   \n",
       "1902                                  Призрак_.  111001815   \n",
       "1911                                   Ведьма .  111002215   \n",
       "2083                           Дорога на Берлин  111001315   \n",
       "\n",
       "         show_start_date            type  \\\n",
       "1853 2015-02-18 12:00:00    Анимационный   \n",
       "1869 2015-03-16 12:00:00  Художественный   \n",
       "1902 2015-03-02 12:00:00  Художественный   \n",
       "1911 2015-03-05 12:00:00  Художественный   \n",
       "2083 2015-02-17 12:00:00  Художественный   \n",
       "\n",
       "                                            film_studio production_country  \\\n",
       "1853                        ООО \"Студия \"Мастер-Фильм\"              Россия   \n",
       "1869                        ООО \"Компания \"Реал-Дакота\"             Россия   \n",
       "1902                                 ООО \"Водород 2011\"             Россия   \n",
       "1911                         ООО \"Кинокомпания \"Ракурс\"             Россия   \n",
       "2083  ООО \"Продюсерская компания Александра Литвинов...             Россия   \n",
       "\n",
       "           director                  producer age_restriction  \\\n",
       "1853      С.Серегин               А.Герасимов            «6+»   \n",
       "1869  Р.Давлетьяров                   unknown           «12+»   \n",
       "1902   А.Войтинский                С.Сельянов            «6+»   \n",
       "1911      Д.Федоров               В.Сидоренко           «16+»   \n",
       "2083        С.Попов  А.Литвинов, К.Шахназаров           «12+»   \n",
       "\n",
       "      refundable_support  ...     budget       financing_source ratings  \\\n",
       "1853                   0  ...   51850000  Министерство культуры    6.10   \n",
       "1869            50000000  ...  220588394              Фонд кино    8.50   \n",
       "1902                   0  ...  139551503              Фонд кино    7.00   \n",
       "1911                   0  ...   48571430  Министерство культуры    7.40   \n",
       "2083                   0  ...   89782312  Министерство культуры    6.20   \n",
       "\n",
       "                          genres   box_office  year  main_director  \\\n",
       "1853  мультфильм,фэнтези,история  15078858.60  2015      С.Серегин   \n",
       "1869       драма,военный,история 249166767.70  2015  Р.Давлетьяров   \n",
       "1902  триллер,боевик,приключения 352804320.40  2015   А.Войтинский   \n",
       "1911   фэнтези,приключения,драма     51907.50  2015      Д.Федоров   \n",
       "2083       военный,драма,история  22723575.00  2015        С.Попов   \n",
       "\n",
       "     main_genres share_of_support government_support  \n",
       "1853  мультфильм             0.48           25000000  \n",
       "1869       драма             0.68          150000000  \n",
       "1902     триллер             0.54           75000000  \n",
       "1911     фэнтези             0.70           34000000  \n",
       "2083     военный             0.50           45000000  \n",
       "\n",
       "[5 rows x 21 columns]"
      ]
     },
     "execution_count": 74,
     "metadata": {},
     "output_type": "execute_result"
    }
   ],
   "source": [
    "data_support['government_support'] = 0\n",
    "data_support['government_support'] = data_support['refundable_support'] + data_support['nonrefundable_support']\n",
    "data_support.head()"
   ]
  },
  {
   "cell_type": "markdown",
   "metadata": {},
   "source": [
    "Посмотрим на распределение выделяемых средств, начиная с 2015 года, так как эти периоды с наименьшим количеством пропусков в наших данных. В сводной таблице также посмотрим на количество фильмов с государственной поддержкой по годам."
   ]
  },
  {
   "cell_type": "code",
   "execution_count": 75,
   "metadata": {},
   "outputs": [
    {
     "data": {
      "image/png": "[encoded data removed]",
      "text/plain": [
       "<Figure size 720x432 with 1 Axes>"
      ]
     },
     "metadata": {
      "needs_background": "light"
     },
     "output_type": "display_data"
    },
    {
     "data": {
      "text/html": [
       "<div>\n",
       "<style scoped>\n",
       "    .dataframe tbody tr th:only-of-type {\n",
       "        vertical-align: middle;\n",
       "    }\n",
       "\n",
       "    .dataframe tbody tr th {\n",
       "        vertical-align: top;\n",
       "    }\n",
       "\n",
       "    .dataframe thead tr th {\n",
       "        text-align: left;\n",
       "    }\n",
       "\n",
       "    .dataframe thead tr:last-of-type th {\n",
       "        text-align: right;\n",
       "    }\n",
       "</style>\n",
       "<table border=\"1\" class=\"dataframe\">\n",
       "  <thead>\n",
       "    <tr>\n",
       "      <th></th>\n",
       "      <th>count</th>\n",
       "      <th>sum</th>\n",
       "    </tr>\n",
       "    <tr>\n",
       "      <th></th>\n",
       "      <th>government_support</th>\n",
       "      <th>government_support</th>\n",
       "    </tr>\n",
       "    <tr>\n",
       "      <th>year</th>\n",
       "      <th></th>\n",
       "      <th></th>\n",
       "    </tr>\n",
       "  </thead>\n",
       "  <tbody>\n",
       "    <tr>\n",
       "      <th>2015</th>\n",
       "      <td>80</td>\n",
       "      <td>3227241459</td>\n",
       "    </tr>\n",
       "    <tr>\n",
       "      <th>2016</th>\n",
       "      <td>58</td>\n",
       "      <td>3977155482</td>\n",
       "    </tr>\n",
       "    <tr>\n",
       "      <th>2017</th>\n",
       "      <td>39</td>\n",
       "      <td>3098971662</td>\n",
       "    </tr>\n",
       "    <tr>\n",
       "      <th>2018</th>\n",
       "      <td>52</td>\n",
       "      <td>3098000000</td>\n",
       "    </tr>\n",
       "    <tr>\n",
       "      <th>2019</th>\n",
       "      <td>69</td>\n",
       "      <td>4724000000</td>\n",
       "    </tr>\n",
       "  </tbody>\n",
       "</table>\n",
       "</div>"
      ],
      "text/plain": [
       "                  count                sum\n",
       "     government_support government_support\n",
       "year                                      \n",
       "2015                 80         3227241459\n",
       "2016                 58         3977155482\n",
       "2017                 39         3098971662\n",
       "2018                 52         3098000000\n",
       "2019                 69         4724000000"
      ]
     },
     "execution_count": 75,
     "metadata": {},
     "output_type": "execute_result"
    }
   ],
   "source": [
    "(\n",
    "data_support.pivot_table(index='year', values='government_support', aggfunc='sum')\n",
    "    .plot(kind='bar', grid=True, figsize=(10, 6))\n",
    ")\n",
    "plt.xticks(rotation=0)\n",
    "plt.title('График зависимости суммы сборов по годам', size=(16))\n",
    "plt.xlabel('Годы проката фильмов', size=14)\n",
    "plt.ylabel('Сборы фильмов в млрд. руб.', size=14)\n",
    "plt.show()\n",
    "\n",
    "(\n",
    "data_support\n",
    "    .pivot_table(index='year', values='government_support', aggfunc=['count', 'sum'])\n",
    ")"
   ]
  },
  {
   "cell_type": "markdown",
   "metadata": {},
   "source": [
    "Посмотрим на окупаемость фильмов, на которые выделяются средства государственной поддержки, за счет соотношения собранных средств к выделенным."
   ]
  },
  {
   "cell_type": "code",
   "execution_count": 76,
   "metadata": {},
   "outputs": [
    {
     "data": {
      "image/png": "[encoded data removed]",
      "text/plain": [
       "<Figure size 864x432 with 1 Axes>"
      ]
     },
     "metadata": {
      "needs_background": "light"
     },
     "output_type": "display_data"
    }
   ],
   "source": [
    "(\n",
    "data_support['box_office'] / \n",
    "    data_support['budget']\n",
    ").plot(grid=True, kind='hist', bins=200, xlim=(0, 22), ylim=(0, 30), figsize=(12, 6), color='#AC1080')\n",
    "plt.title('График окупаемости фильмов с государственной поддержкой', size=14)\n",
    "plt.xlabel('Отношение сборов с фильмов к выделенным средствам государственной поддержки', size=12)\n",
    "plt.ylabel('Количество фильмов с данным соотношением', size=11)\n",
    "plt.show()"
   ]
  },
  {
   "cell_type": "code",
   "execution_count": 77,
   "metadata": {},
   "outputs": [
    {
     "data": {
      "text/plain": [
       "count     298\n",
       "mean     <NA>\n",
       "std      <NA>\n",
       "min       NaN\n",
       "25%      0.02\n",
       "50%      0.16\n",
       "75%      0.79\n",
       "max       NaN\n",
       "dtype: object"
      ]
     },
     "execution_count": 77,
     "metadata": {},
     "output_type": "execute_result"
    }
   ],
   "source": [
    "(\n",
    "data_support['box_office'] / \n",
    "    data_support['budget']\n",
    ").describe()"
   ]
  },
  {
   "cell_type": "code",
   "execution_count": 78,
   "metadata": {},
   "outputs": [
    {
     "data": {
      "text/plain": [
       "221"
      ]
     },
     "execution_count": 78,
     "metadata": {},
     "output_type": "execute_result"
    }
   ],
   "source": [
    "(\n",
    "data_support['box_office'] / \n",
    "    data_support['budget'] < 1\n",
    ").sum()"
   ]
  },
  {
   "cell_type": "code",
   "execution_count": 79,
   "metadata": {},
   "outputs": [
    {
     "data": {
      "text/plain": [
       "63"
      ]
     },
     "execution_count": 79,
     "metadata": {},
     "output_type": "execute_result"
    }
   ],
   "source": [
    "(\n",
    "data_support['box_office'] / \n",
    "    data_support['budget'] >= 1\n",
    ").sum()"
   ]
  },
  {
   "cell_type": "markdown",
   "metadata": {},
   "source": [
    "Как мы видим средняя сильно отличается от медианны, что говорит о наличии выбросов. Судя по медиане большая часть фильмов с государственной поддержкой не окупаются, соотношение меньше единицы. Почти 75% фильмов с государственной поддержкой не окупаются, это видно по соотношению собранных средств к выделенным меньше единицы."
   ]
  },
  {
   "cell_type": "code",
   "execution_count": 80,
   "metadata": {
    "scrolled": false
   },
   "outputs": [
    {
     "data": {
      "image/png": "[encoded data removed]",
      "text/plain": [
       "<Figure size 1152x576 with 1 Axes>"
      ]
     },
     "metadata": {
      "needs_background": "light"
     },
     "output_type": "display_data"
    },
    {
     "data": {
      "text/plain": [
       "6.20    20\n",
       "5.80    16\n",
       "6.60    14\n",
       "6.30    13\n",
       "6.10    13\n",
       "6.70    13\n",
       "6.80     9\n",
       "6.90     9\n",
       "6.50     9\n",
       "5.40     8\n",
       "5.70     7\n",
       "7.00     7\n",
       "5.90     7\n",
       "5.10     7\n",
       "6.40     7\n",
       "4.90     7\n",
       "6.00     7\n",
       "5.30     7\n",
       "7.30     7\n",
       "4.80     6\n",
       "7.50     6\n",
       "7.40     6\n",
       "5.20     6\n",
       "5.60     6\n",
       "4.70     5\n",
       "5.00     5\n",
       "7.70     4\n",
       "3.20     4\n",
       "7.20     4\n",
       "4.50     4\n",
       "5.50     4\n",
       "7.10     4\n",
       "7.60     3\n",
       "7.80     3\n",
       "4.30     3\n",
       "4.00     2\n",
       "8.50     2\n",
       "3.90     2\n",
       "7.90     2\n",
       "8.00     2\n",
       "2.90     2\n",
       "4.20     1\n",
       "3.50     1\n",
       "9.40     1\n",
       "2.50     1\n",
       "3.30     1\n",
       "3.10     1\n",
       "9.00     1\n",
       "8.20     1\n",
       "2.80     1\n",
       "1.00     1\n",
       "4.60     1\n",
       "3.00     1\n",
       "Name: ratings, dtype: int64"
      ]
     },
     "execution_count": 80,
     "metadata": {},
     "output_type": "execute_result"
    }
   ],
   "source": [
    "(\n",
    "data_support['ratings']\n",
    "    .value_counts().plot(grid=True, kind='bar', figsize=(16, 8))\n",
    ")\n",
    "plt.title('График рейтингов фильмов с государственной поддержкой', size=16)\n",
    "plt.xlabel('Рейтинги', size=14)\n",
    "plt.ylabel('Количество фильмов с данным рейтингом', size=14)\n",
    "plt.show()\n",
    "\n",
    "data_support['ratings'].value_counts()"
   ]
  },
  {
   "cell_type": "markdown",
   "metadata": {},
   "source": [
    "Как видно, основная часть рейтингов фильмов с государственной поддержкой находится в диапозоне от 5,8 до 6,7. Средний показатель, рейтинги превышающие значение 8, что могло бы говорить о высокой оценки фильмов - единичные случаи.\n",
    "\n",
    "Посмотрим на динамику выпускаемых фильмов с государственной поддержкой с 2015 по 2019 год"
   ]
  },
  {
   "cell_type": "code",
   "execution_count": 81,
   "metadata": {
    "scrolled": false
   },
   "outputs": [
    {
     "data": {
      "image/png": "[encoded data removed]",
      "text/plain": [
       "<Figure size 792x432 with 1 Axes>"
      ]
     },
     "metadata": {
      "needs_background": "light"
     },
     "output_type": "display_data"
    }
   ],
   "source": [
    "(\n",
    "data_support['year']\n",
    "    .value_counts().sort_index()\n",
    "    .plot(grid=True, kind='bar', figsize=(11, 6))\n",
    ")\n",
    "plt.xticks(rotation=0)\n",
    "plt.title('График фильмов с государственной поддержкой в 2015 - 2019 гг.', size=16)\n",
    "plt.xlabel('Года премьеры филмов', size=14)\n",
    "plt.ylabel('Количество фильмов', size=14)\n",
    "plt.show()"
   ]
  },
  {
   "cell_type": "markdown",
   "metadata": {},
   "source": [
    "Динамика отрицаетльная до 2017 года, начиная с 2017 по 2019 количество фильмов с государственной поддержкой стабильно растет. На разных этапах периолов это может быть связано:\n",
    "* с сокращением бюджета финансирования;\n",
    "* свое влияние могли оказать санкции;\n",
    "* спрос зрительского интереса"
   ]
  },
  {
   "cell_type": "markdown",
   "metadata": {},
   "source": [
    "**Промежуточный вывод 4**\n",
    "\n",
    "Исследовали фильмы, которые получили государственную поддержку в период с 2015 по 2019гг., построили графики:\n",
    "* количество фильмов с государственной поддержкой по нашим данным - 332\n",
    "* создали датасет с отфильтрованными фильмами с господдержкой и с периодом с 2015 по 2019 гг;\n",
    "* создали дполнительный столбец, который содержит информацию только о выделенных средствах государственной поддержки\n",
    "    * построили график распределения выделяемых средств, начиная с 2015 года. В сводной таблице также посчитали количество фильмов с государственной поддержкой по годам\n",
    "    * судя по графику сумма выделяемых средств не сильно отличается по годам\n",
    "* изучили окупаемость фильмов, на которые выделяются средства государственной поддержки, за счет соотношения собранных средств к выделенным, построили график\n",
    "    * почти 75% фильмов с государственной поддержкой не окупаются, это видно по соотношению собранных средств к выделенным меньше единицы\n",
    "* изучили распределение рейтингов фильмов с государственной поддержкой:\n",
    "    * основная часть рейтингов фильмов с государственной поддержкой находится в диапозоне от 5,5 до 6,7, это средний показатель. Рейтинги превышающие значение 8, что могло бы говорить о высокой оценки фильмов - единичные случаи\n",
    "* изучили динамику выпускаемых фильмов с государственной поддержкой с 2015 по 2019 год\n",
    "    * Динамика отрицаетльная до 2017 года, начиная с 2017 по 2019 количество фильмов с государственной поддержкой стабильно растет. На разных этапах периолов это может быть связано:\n",
    "        * с сокращением бюджета финансирования;\n",
    "        * свое влияние могли оказать санкции;\n",
    "        * спрос зрительского интереса"
   ]
  },
  {
   "cell_type": "markdown",
   "metadata": {
    "id": "V2gYwMcPgFyd"
   },
   "source": [
    "### Общий вывод"
   ]
  },
  {
   "cell_type": "markdown",
   "metadata": {
    "id": "AYRg3dzXgFye"
   },
   "source": [
    "В данной работе мы произвели исследование данных о российском кинопрокате.\n",
    "В процессе исследования нами были выполнены следующие действия.\n",
    "\n",
    "1) Мы считали файлы с данными о российском кинопрокате с 2х источников.\n",
    "* В 1м источнике данных имеются 7486 записи.\n",
    "* Во 2м источнике 3158 записи, это 2 столбца:\n",
    "    * номер прокатного удостоверения (который имеется также в первом источнике)\n",
    "    * сборы от проката фильма в кинотеатрах в рублях.\n",
    "* Мы объеденили таблицы с разных источников по общим данным - номер прокатного удостоверения\n",
    "* Дополнительно мы переименовали столбец 'puNumber' на 'pu_number' согласно принятому стилю\n",
    "* В данных имеются такие проблемы как:\n",
    "    * пропуски в нескольких колонках\n",
    "    * формат типа данных не везде соответствует типу данных\n",
    "Необходимо сделать предобработку данных, для возможности их дальнейшего анализа.\n",
    "\n",
    "2) На данном этапе мы завершили предобработку данных, а именно:\n",
    "* изменили тип данных в столбцах:\n",
    "    * 'show_start_date' с 'object' на 'datetime'\n",
    "    * 'ratings' с 'object' на 'float'\n",
    "    * 'refundable_support', 'nonrefundable_support', 'budget' с 'float' на 'int'\n",
    "* Предварительно проверили уникальные значения в столбце 'ratings', привели их к одному типу\n",
    "* обработали и заполнили пропуски данных в столбцах:\n",
    "    * 'film_studio', 'director', 'genres' значением 'unknown';\n",
    "    * 'ratings' медианным значением после группировки по 'genres';\n",
    "    * 'production_country' для 'Ералаш' мы заполнили страну как Россия;\n",
    "    * 'producer', и оставшийся пропуск в столбце 'production_country' аналогично нам заполнить нечем, также заполнили 'unknown'\n",
    "    * 'refundable_support', 'nonrefundable_support', 'budget' и 'financing_source'\n",
    "        Судя по описанию \"...столбец budget уже включает в себя полный объём государственной поддержки. Данные в этом столбце указаны только для тех фильмов, которые получили государственную поддержку. \".\n",
    "        Соответственно, данные во всех четырех столбцах связаны, что также потверждает общее количество пропущенных значений. Отсюда следует, что раз пропущено значение в столбце 'budget', значит государственная поддержка для данного фильма равна '0', как и в остальных столбцах, кроме 'financing_source'.\n",
    "    * в столбце 'financing_source' мы пропуски заполним словом 'нет'.\n",
    "* проверили на содержание явных и невяных дубликатов данные:\n",
    "    * имеющиеся совпадения в названиях фильмов не случайны, не смотря на то что у них разные номера прокатного удостоверения, это зачастую дубликаты, судя по совпаданиям в других столбцах, таких как: год выпуска, тип фильма, киностудия производитель, страна производитель, режиссер, продюсер, рейтинг. Однако, удалить данные дубликаты мы не можем, так как у них разные прокатные удостоверения, и они могут выпускаться различными организациями на различных площадках, что означет наличие у них различных финансовых показателях.\n",
    "* По категориальным столбцам у нас присутсвуют следующие проблемы:\n",
    "    * общая проблема почти для всех категориальных столбцов - очень длинные названия, они содержат очень много уникальных значений из-за того, что в них идет перечисления отдельных признаков;\n",
    "    * наличие пробелов с троках\n",
    "    * различные способы записи групп стран (например 'США, Германия' и 'США-Германия', либо 'США - Франция' и 'США-Франция') при прочих равных столбцах различный порядок написания стран: 'США-Германия' и 'Германия-США' Основную часть этих проблем мы исправили на предыдущем этапе\n",
    "* проверили количественные данные:\n",
    "    * судя по описанию данных \"столбец 'budget' уже включает в себя полный объём государственной поддержки. Данные в этом столбце указаны только для тех фильмов, которые получили государственную поддержку.\" Отсюда следует, что должно выполнятся равенство 'budget' == 'refundable_support' + 'nonrefundable_support'. Проверка показала что в 95% по данным в данном вопросе все сходится, по остальным 5% имелись несоответствия:\n",
    "    * так как пропуски в столбце **'budget'** были заполнены **'0'**, при этом в некотрых данных имеются значения отличных от нуля в столбцах **'refundable_support', 'nonrefundable_support'** в этих же строках, заменили нулевое значение в столбце **'budget'** на сумму значений столбцов **'refundable_support', 'nonrefundable_support'**\n",
    "    * по тем данным где бюджет превосходил сумму вовзвратных выделенных средств мы допустили возможность присутствия в бюджете дополнительно спонсорских средств не отсносящиеся к государственной подерржке, оставили эти данные без изменений\n",
    "    * проведена проверка на наличие аномалий в числовых столбцах\n",
    "        * В наших данных в столбце **'pu_number'** имеется аномальное значение номера прокатного удостоверения, которое выбивается из всей массы по количеству знаков, скорее всего это связано с ошибкой при заполнении, и добавления точки перед двумя нулями       \n",
    "        * Также у нас имеется нулевое значение сборов с опредленных фильмов. Это необычно, но вполне допустимо:\n",
    "            * при провальных прокатов фильма\n",
    "            * государственные/ведомственные заказы без коммерческого распространения\n",
    "            * бесплатные показы (благотворительные, учебные)\n",
    "* добавили новые столбцы с параметрами:\n",
    "    * с именем и фамилией главного режиссёра и основным жанром фильма. В столбцы вошли первые значения из списка режиссёров и жанров соответственно\n",
    "    * доля государственной поддержки соотношением соответствующих столбцов (суммы вовзвратных и невозвратных средств к общему бюджету)\n",
    "    \n",
    "3) На данном этапе мы провели исследовательский анализ данных:\n",
    "* посмотрели, сколько фильмов выходило в прокат каждый год;\n",
    "    * наблюдается стабильная динамика роста количества фильмов в прокате кинотеатров начиная с 2011 года\n",
    "* посчитали, какую долю составляют фильмы с указанной информацией о прокате в кинотеатрах;\n",
    "    * 44,5% - доля фильмов с указанной информацией о прокате\n",
    "* проанализировали, как эта доля менялась по годам;\n",
    "    * Полнее всего у нас имеется информация о прокате в кинотеатрах с 2015 по 2017 года (65%-71%), из них самый полный в 2017 году. Наименее представлен период 2010 года, чуть более 11%\n",
    "* изучили, как менялась динамика проката по годам;\n",
    "    * Самая минимальная сумма сборов судя по графику и таблице это 2010 год, самая максимальная сумма сборов это - 2017 год. \n",
    "    * Динамика сборов увеличивается стабильно вплоть до 2016 года, затем рост прекращается, остается относительно неизменным. Также, судя по предыдущему пункту, у на самая полная информация о прокатах - 2015-2017 года, а самые неполные 2010-2013, поэтому самая акутальная информация по динамике у нас это начиная с 2015 года\n",
    "* у нас огромная разница по сумме 'сборов' между 'средней' и 'медианой', это можно объяснить наличием выбросов в данных, т.е. среди фильмов есть явные звезды, приносящие своим создателям существенную долю от общего проката. А сборы большей части фильмов весьма скромные;\n",
    "* изучили, влияет ли возрастное ограничение аудитории («6+», «12+», «16+», «18+» и т. д.) на сборы фильма в прокате в период с 2015 по 2019 год\n",
    "    * имеется незначительная зависимость сборов от ограничения аудитории. Максимальный сбор с проката фильмов с ограничением аудитории **\"16+\"**, минимальный сбор **\"0+\"**\n",
    "    * После дполнительной группировки по годам с 2015 по 2019, картина в целом не меняется. С той лишь разницей, что в 2015 году у нас самые большие сборы с проката фильмов для аудитории **\"12+\"**, начиная с 2016 года уверенное превенство сохраняет вплоть до 2019 года аудитрия **\"16+\"**, лишь немного уступив в 2019 году аудитории **\"0+\"**. Однако в 2019 году аудитория **\"0+\"** выходит на первое место. Возможно это связано с выходом ожидаемых качественных фильмов для целевой аудитории \n",
    "    \n",
    "4) Исследовали фильмы, которые получили государственную поддержку в период с 2015 по 2019гг., построили графики:\n",
    "* количество фильмов с государственной поддержкой по нашим данным - 332\n",
    "* создали датасет с отфильтрованными фильмами с господдержкой и с периодом с 2015 по 2019 гг;\n",
    "* создали дполнительный столбец, который содержит информацию только о выделенных средствах государственной поддержки\n",
    "    * построили график распределения выделяемых средств, начиная с 2015 года. В сводной таблице также посчитали количество фильмов с государственной поддержкой по годам\n",
    "    * судя по графику сумма выделяемых средств не сильно отличается по годам\n",
    "* изучили окупаемость фильмов, на которые выделяются средства государственной поддержки, за счет соотношения собранных средств к выделенным, построили график\n",
    "    * почти 75% фильмов с государственной поддержкой не окупаются, это видно по соотношению собранных средств к выделенным меньше единицы\n",
    "* изучили распределение рейтингов фильмов с государственной поддержкой:\n",
    "    * основная часть рейтингов фильмов с государственной поддержкой находится в диапозоне от 5,5 до 6,7, это средний показатель. Рейтинги превышающие значение 8, что могло бы говорить о высокой оценки фильмов - единичные случаи\n",
    "* изучили динамику выпускаемых фильмов с государственной поддержкой с 2015 по 2019 год\n",
    "    * Динамика отрицаетльная до 2017 года, начиная с 2017 по 2019 количество фильмов с государственной поддержкой стабильно растет. На разных этапах периолов это может быть связано:\n",
    "        * с сокращением бюджета финансирования;\n",
    "        * свое влияние могли оказать санкции;\n",
    "        * спрос зрительского интереса"
   ]
  }
 ],
 "metadata": {
  "ExecuteTimeLog": [
   {
    "duration": 537,
    "start_time": "2021-07-07T10:12:08.634Z"
   },
   {
    "duration": 206,
    "start_time": "2021-07-07T10:12:30.191Z"
   },
   {
    "duration": 227,
    "start_time": "2021-07-07T10:12:33.078Z"
   },
   {
    "duration": 153,
    "start_time": "2021-07-07T10:13:42.146Z"
   },
   {
    "duration": 233,
    "start_time": "2021-07-07T10:30:09.252Z"
   },
   {
    "duration": 19,
    "start_time": "2021-07-07T10:30:15.577Z"
   },
   {
    "duration": 18,
    "start_time": "2021-07-07T10:30:57.348Z"
   },
   {
    "duration": 19,
    "start_time": "2021-07-07T10:31:17.452Z"
   },
   {
    "duration": 21,
    "start_time": "2021-07-07T10:31:32.227Z"
   },
   {
    "duration": 27,
    "start_time": "2021-07-07T10:32:06.588Z"
   },
   {
    "duration": 23,
    "start_time": "2021-07-07T10:32:43.645Z"
   },
   {
    "duration": 24,
    "start_time": "2021-07-07T10:33:06.948Z"
   },
   {
    "duration": 7,
    "start_time": "2021-07-07T10:33:28.558Z"
   },
   {
    "duration": 23,
    "start_time": "2021-07-07T10:33:43.761Z"
   },
   {
    "duration": 28,
    "start_time": "2021-07-07T10:34:13.466Z"
   },
   {
    "duration": 23,
    "start_time": "2021-07-07T10:35:56.187Z"
   },
   {
    "duration": 6,
    "start_time": "2021-07-07T10:36:48.182Z"
   },
   {
    "duration": 14,
    "start_time": "2021-07-07T10:37:49.641Z"
   },
   {
    "duration": 6,
    "start_time": "2021-07-07T10:38:06.694Z"
   },
   {
    "duration": 6,
    "start_time": "2021-07-07T10:38:13.493Z"
   },
   {
    "duration": 19,
    "start_time": "2021-07-07T10:38:44.056Z"
   },
   {
    "duration": 186,
    "start_time": "2021-07-07T10:48:35.618Z"
   },
   {
    "duration": 24,
    "start_time": "2021-07-07T10:48:51.498Z"
   },
   {
    "duration": 20,
    "start_time": "2021-07-07T10:48:59.415Z"
   },
   {
    "duration": 20,
    "start_time": "2021-07-07T10:53:02.195Z"
   },
   {
    "duration": 188,
    "start_time": "2021-07-07T10:54:40.486Z"
   },
   {
    "duration": 115,
    "start_time": "2021-07-07T10:54:52.552Z"
   },
   {
    "duration": 214,
    "start_time": "2021-07-07T10:54:56.354Z"
   },
   {
    "duration": 47,
    "start_time": "2021-07-07T10:54:58.282Z"
   },
   {
    "duration": 217,
    "start_time": "2021-07-07T10:59:16.075Z"
   },
   {
    "duration": 51,
    "start_time": "2021-07-07T10:59:16.243Z"
   },
   {
    "duration": 578,
    "start_time": "2021-07-07T10:59:18.774Z"
   },
   {
    "duration": 161,
    "start_time": "2021-07-07T10:59:21.238Z"
   },
   {
    "duration": 59,
    "start_time": "2021-07-07T10:59:21.453Z"
   },
   {
    "duration": 3,
    "start_time": "2021-07-07T11:02:10.786Z"
   },
   {
    "duration": 13,
    "start_time": "2021-07-07T11:07:07.722Z"
   },
   {
    "duration": 26,
    "start_time": "2021-07-07T11:07:17.958Z"
   },
   {
    "duration": 22,
    "start_time": "2021-07-07T11:08:17.939Z"
   },
   {
    "duration": 212,
    "start_time": "2021-07-07T11:08:19.665Z"
   },
   {
    "duration": 21,
    "start_time": "2021-07-07T11:08:29.945Z"
   },
   {
    "duration": 31,
    "start_time": "2021-07-07T11:08:38.899Z"
   },
   {
    "duration": 23,
    "start_time": "2021-07-07T11:08:54.527Z"
   },
   {
    "duration": 8,
    "start_time": "2021-07-07T11:18:55.974Z"
   },
   {
    "duration": 7,
    "start_time": "2021-07-07T11:19:03.639Z"
   },
   {
    "duration": 7,
    "start_time": "2021-07-07T11:19:06.444Z"
   },
   {
    "duration": 578,
    "start_time": "2021-07-07T12:09:59.576Z"
   },
   {
    "duration": 195,
    "start_time": "2021-07-07T12:10:00.156Z"
   },
   {
    "duration": 115,
    "start_time": "2021-07-07T12:10:00.353Z"
   },
   {
    "duration": 3,
    "start_time": "2021-07-07T12:10:00.470Z"
   },
   {
    "duration": 32,
    "start_time": "2021-07-07T12:10:00.474Z"
   },
   {
    "duration": 23,
    "start_time": "2021-07-07T12:10:00.508Z"
   },
   {
    "duration": 19,
    "start_time": "2021-07-07T12:10:00.533Z"
   },
   {
    "duration": 44,
    "start_time": "2021-07-07T12:10:00.553Z"
   },
   {
    "duration": 7,
    "start_time": "2021-07-07T12:10:00.600Z"
   },
   {
    "duration": 7,
    "start_time": "2021-07-07T12:19:45.761Z"
   },
   {
    "duration": 21,
    "start_time": "2021-07-07T12:21:35.482Z"
   },
   {
    "duration": 21,
    "start_time": "2021-07-07T12:29:23.569Z"
   },
   {
    "duration": 525,
    "start_time": "2021-07-07T12:29:44.542Z"
   },
   {
    "duration": 214,
    "start_time": "2021-07-07T12:29:45.069Z"
   },
   {
    "duration": 92,
    "start_time": "2021-07-07T12:29:45.285Z"
   },
   {
    "duration": 3,
    "start_time": "2021-07-07T12:29:45.379Z"
   },
   {
    "duration": 28,
    "start_time": "2021-07-07T12:29:45.384Z"
   },
   {
    "duration": 23,
    "start_time": "2021-07-07T12:29:45.413Z"
   },
   {
    "duration": 21,
    "start_time": "2021-07-07T12:29:45.437Z"
   },
   {
    "duration": 41,
    "start_time": "2021-07-07T12:29:45.460Z"
   },
   {
    "duration": 7,
    "start_time": "2021-07-07T12:29:45.502Z"
   },
   {
    "duration": 20,
    "start_time": "2021-07-07T12:29:45.511Z"
   },
   {
    "duration": 12,
    "start_time": "2021-07-07T12:34:02.800Z"
   },
   {
    "duration": 7,
    "start_time": "2021-07-07T12:35:10.479Z"
   },
   {
    "duration": 8,
    "start_time": "2021-07-07T12:35:22.440Z"
   },
   {
    "duration": 6,
    "start_time": "2021-07-07T12:35:35.649Z"
   },
   {
    "duration": 6,
    "start_time": "2021-07-07T12:35:43.107Z"
   },
   {
    "duration": 22,
    "start_time": "2021-07-07T12:38:03.029Z"
   },
   {
    "duration": 10,
    "start_time": "2021-07-07T12:38:06.592Z"
   },
   {
    "duration": 563,
    "start_time": "2021-07-07T12:38:46.493Z"
   },
   {
    "duration": 265,
    "start_time": "2021-07-07T12:38:47.058Z"
   },
   {
    "duration": 94,
    "start_time": "2021-07-07T12:38:47.325Z"
   },
   {
    "duration": 3,
    "start_time": "2021-07-07T12:38:47.422Z"
   },
   {
    "duration": 30,
    "start_time": "2021-07-07T12:38:47.427Z"
   },
   {
    "duration": 16,
    "start_time": "2021-07-07T12:38:53.305Z"
   },
   {
    "duration": 10,
    "start_time": "2021-07-07T12:38:53.499Z"
   },
   {
    "duration": 8,
    "start_time": "2021-07-07T12:39:48.161Z"
   },
   {
    "duration": 27,
    "start_time": "2021-07-07T12:41:17.629Z"
   },
   {
    "duration": 17,
    "start_time": "2021-07-07T12:41:17.867Z"
   },
   {
    "duration": 21,
    "start_time": "2021-07-07T12:41:19.310Z"
   },
   {
    "duration": 7,
    "start_time": "2021-07-07T12:41:19.544Z"
   },
   {
    "duration": 20,
    "start_time": "2021-07-07T12:41:20.504Z"
   },
   {
    "duration": 554,
    "start_time": "2021-07-07T12:56:23.696Z"
   },
   {
    "duration": 200,
    "start_time": "2021-07-07T12:56:25.234Z"
   },
   {
    "duration": 119,
    "start_time": "2021-07-07T12:56:25.480Z"
   },
   {
    "duration": 4,
    "start_time": "2021-07-07T12:56:25.762Z"
   },
   {
    "duration": 26,
    "start_time": "2021-07-07T12:56:27.172Z"
   },
   {
    "duration": 12,
    "start_time": "2021-07-07T12:56:29.051Z"
   },
   {
    "duration": 10,
    "start_time": "2021-07-07T12:56:29.291Z"
   },
   {
    "duration": 8,
    "start_time": "2021-07-07T12:56:29.623Z"
   },
   {
    "duration": 28,
    "start_time": "2021-07-07T12:56:32.137Z"
   },
   {
    "duration": 19,
    "start_time": "2021-07-07T12:56:39.785Z"
   },
   {
    "duration": 20,
    "start_time": "2021-07-07T12:56:44.297Z"
   },
   {
    "duration": 7,
    "start_time": "2021-07-07T12:56:45.392Z"
   },
   {
    "duration": 23,
    "start_time": "2021-07-07T12:56:46.615Z"
   },
   {
    "duration": 4,
    "start_time": "2021-07-07T12:57:06.625Z"
   },
   {
    "duration": 32,
    "start_time": "2021-07-07T12:57:36.690Z"
   },
   {
    "duration": 18,
    "start_time": "2021-07-07T12:58:00.149Z"
   },
   {
    "duration": 15,
    "start_time": "2021-07-07T12:59:16.793Z"
   },
   {
    "duration": 7,
    "start_time": "2021-07-07T13:19:22.624Z"
   },
   {
    "duration": 6,
    "start_time": "2021-07-07T14:17:33.527Z"
   },
   {
    "duration": 9,
    "start_time": "2021-07-07T14:17:48.409Z"
   },
   {
    "duration": 8,
    "start_time": "2021-07-07T14:20:13.060Z"
   },
   {
    "duration": 8,
    "start_time": "2021-07-07T14:20:37.957Z"
   },
   {
    "duration": 8,
    "start_time": "2021-07-07T14:20:47.470Z"
   },
   {
    "duration": 9,
    "start_time": "2021-07-07T14:20:54.503Z"
   },
   {
    "duration": 10,
    "start_time": "2021-07-07T14:28:57.763Z"
   },
   {
    "duration": 3,
    "start_time": "2021-07-07T14:30:23.377Z"
   },
   {
    "duration": 3,
    "start_time": "2021-07-07T14:30:36.489Z"
   },
   {
    "duration": 103,
    "start_time": "2021-07-07T14:30:52.351Z"
   },
   {
    "duration": 8,
    "start_time": "2021-07-07T14:30:54.763Z"
   },
   {
    "duration": 8,
    "start_time": "2021-07-07T14:31:29.301Z"
   },
   {
    "duration": 13,
    "start_time": "2021-07-07T14:31:44.516Z"
   },
   {
    "duration": 7,
    "start_time": "2021-07-07T14:33:10.972Z"
   },
   {
    "duration": 11,
    "start_time": "2021-07-07T14:33:27.780Z"
   },
   {
    "duration": 8,
    "start_time": "2021-07-07T14:34:44.588Z"
   },
   {
    "duration": 57,
    "start_time": "2021-07-07T14:35:59.042Z"
   },
   {
    "duration": 3,
    "start_time": "2021-07-07T14:36:28.168Z"
   },
   {
    "duration": 5,
    "start_time": "2021-07-07T14:36:46.254Z"
   },
   {
    "duration": 4,
    "start_time": "2021-07-07T14:36:52.714Z"
   },
   {
    "duration": 3,
    "start_time": "2021-07-07T14:36:56.612Z"
   },
   {
    "duration": 4,
    "start_time": "2021-07-07T14:36:57.049Z"
   },
   {
    "duration": 3,
    "start_time": "2021-07-07T14:39:21.214Z"
   },
   {
    "duration": 7,
    "start_time": "2021-07-07T14:39:52.406Z"
   },
   {
    "duration": 11,
    "start_time": "2021-07-07T14:39:58.576Z"
   },
   {
    "duration": 9,
    "start_time": "2021-07-07T14:40:26.301Z"
   },
   {
    "duration": 10,
    "start_time": "2021-07-07T14:40:31.704Z"
   },
   {
    "duration": 11,
    "start_time": "2021-07-07T14:40:36.249Z"
   },
   {
    "duration": 10,
    "start_time": "2021-07-07T14:40:39.783Z"
   },
   {
    "duration": 9,
    "start_time": "2021-07-07T14:40:48.558Z"
   },
   {
    "duration": 10,
    "start_time": "2021-07-07T14:40:57.143Z"
   },
   {
    "duration": 9,
    "start_time": "2021-07-07T14:41:06.074Z"
   },
   {
    "duration": 4324,
    "start_time": "2021-07-07T14:41:22.004Z"
   },
   {
    "duration": 11,
    "start_time": "2021-07-07T14:41:33.392Z"
   },
   {
    "duration": 9,
    "start_time": "2021-07-07T14:41:39.288Z"
   },
   {
    "duration": 569,
    "start_time": "2021-07-07T14:42:14.387Z"
   },
   {
    "duration": 197,
    "start_time": "2021-07-07T14:42:14.959Z"
   },
   {
    "duration": 84,
    "start_time": "2021-07-07T14:42:16.052Z"
   },
   {
    "duration": 4,
    "start_time": "2021-07-07T14:42:16.900Z"
   },
   {
    "duration": 27,
    "start_time": "2021-07-07T14:42:19.898Z"
   },
   {
    "duration": 12,
    "start_time": "2021-07-07T14:42:21.577Z"
   },
   {
    "duration": 9,
    "start_time": "2021-07-07T14:42:21.813Z"
   },
   {
    "duration": 9,
    "start_time": "2021-07-07T14:42:22.569Z"
   },
   {
    "duration": 29,
    "start_time": "2021-07-07T14:42:25.837Z"
   },
   {
    "duration": 20,
    "start_time": "2021-07-07T14:42:27.003Z"
   },
   {
    "duration": 21,
    "start_time": "2021-07-07T14:42:28.767Z"
   },
   {
    "duration": 7,
    "start_time": "2021-07-07T14:42:29.838Z"
   },
   {
    "duration": 4,
    "start_time": "2021-07-07T14:43:25.493Z"
   },
   {
    "duration": 7,
    "start_time": "2021-07-07T14:43:26.573Z"
   },
   {
    "duration": 10,
    "start_time": "2021-07-07T14:43:31.639Z"
   },
   {
    "duration": 9,
    "start_time": "2021-07-07T14:43:32.046Z"
   },
   {
    "duration": 10,
    "start_time": "2021-07-07T14:43:33.301Z"
   },
   {
    "duration": 12,
    "start_time": "2021-07-07T14:43:33.658Z"
   },
   {
    "duration": 8,
    "start_time": "2021-07-07T14:43:34.552Z"
   },
   {
    "duration": 9,
    "start_time": "2021-07-07T14:43:35.058Z"
   },
   {
    "duration": 12,
    "start_time": "2021-07-07T14:43:35.914Z"
   },
   {
    "duration": 17,
    "start_time": "2021-07-07T14:45:34.368Z"
   },
   {
    "duration": 512,
    "start_time": "2021-07-07T14:51:58.236Z"
   },
   {
    "duration": 223,
    "start_time": "2021-07-07T14:51:58.750Z"
   },
   {
    "duration": 93,
    "start_time": "2021-07-07T14:51:58.977Z"
   },
   {
    "duration": 4,
    "start_time": "2021-07-07T14:51:59.071Z"
   },
   {
    "duration": 37,
    "start_time": "2021-07-07T14:51:59.077Z"
   },
   {
    "duration": 18,
    "start_time": "2021-07-07T14:51:59.116Z"
   },
   {
    "duration": 10,
    "start_time": "2021-07-07T14:51:59.137Z"
   },
   {
    "duration": 8,
    "start_time": "2021-07-07T14:51:59.149Z"
   },
   {
    "duration": 54,
    "start_time": "2021-07-07T14:51:59.158Z"
   },
   {
    "duration": 18,
    "start_time": "2021-07-07T14:51:59.213Z"
   },
   {
    "duration": 22,
    "start_time": "2021-07-07T14:51:59.232Z"
   },
   {
    "duration": 36,
    "start_time": "2021-07-07T14:51:59.255Z"
   },
   {
    "duration": 7,
    "start_time": "2021-07-07T14:51:59.293Z"
   },
   {
    "duration": 10,
    "start_time": "2021-07-07T14:51:59.302Z"
   },
   {
    "duration": 9,
    "start_time": "2021-07-07T14:51:59.313Z"
   },
   {
    "duration": 11,
    "start_time": "2021-07-07T14:51:59.324Z"
   },
   {
    "duration": 8,
    "start_time": "2021-07-07T14:51:59.337Z"
   },
   {
    "duration": 46,
    "start_time": "2021-07-07T14:51:59.347Z"
   },
   {
    "duration": 22,
    "start_time": "2021-07-07T14:51:59.395Z"
   },
   {
    "duration": 24,
    "start_time": "2021-07-07T14:57:32.911Z"
   },
   {
    "duration": 7,
    "start_time": "2021-07-07T14:58:22.070Z"
   },
   {
    "duration": 4,
    "start_time": "2021-07-07T14:59:11.239Z"
   },
   {
    "duration": 25,
    "start_time": "2021-07-07T15:07:22.208Z"
   },
   {
    "duration": 16,
    "start_time": "2021-07-07T15:08:25.560Z"
   },
   {
    "duration": 15,
    "start_time": "2021-07-07T15:08:40.647Z"
   },
   {
    "duration": 14,
    "start_time": "2021-07-07T15:08:46.669Z"
   },
   {
    "duration": 533,
    "start_time": "2021-07-07T15:18:07.440Z"
   },
   {
    "duration": 173,
    "start_time": "2021-07-07T15:18:07.974Z"
   },
   {
    "duration": 84,
    "start_time": "2021-07-07T15:18:08.149Z"
   },
   {
    "duration": 3,
    "start_time": "2021-07-07T15:18:08.235Z"
   },
   {
    "duration": 30,
    "start_time": "2021-07-07T15:18:08.240Z"
   },
   {
    "duration": 22,
    "start_time": "2021-07-07T15:18:08.272Z"
   },
   {
    "duration": 11,
    "start_time": "2021-07-07T15:18:08.295Z"
   },
   {
    "duration": 11,
    "start_time": "2021-07-07T15:18:08.309Z"
   },
   {
    "duration": 40,
    "start_time": "2021-07-07T15:18:08.322Z"
   },
   {
    "duration": 42,
    "start_time": "2021-07-07T15:18:08.364Z"
   },
   {
    "duration": 22,
    "start_time": "2021-07-07T15:18:08.408Z"
   },
   {
    "duration": 5,
    "start_time": "2021-07-07T15:18:08.432Z"
   },
   {
    "duration": 13,
    "start_time": "2021-07-07T15:18:08.439Z"
   },
   {
    "duration": 9,
    "start_time": "2021-07-07T15:18:08.454Z"
   },
   {
    "duration": 32,
    "start_time": "2021-07-07T15:18:08.465Z"
   },
   {
    "duration": 10,
    "start_time": "2021-07-07T15:18:08.501Z"
   },
   {
    "duration": 7,
    "start_time": "2021-07-07T15:18:08.513Z"
   },
   {
    "duration": 11,
    "start_time": "2021-07-07T15:18:08.521Z"
   },
   {
    "duration": 17,
    "start_time": "2021-07-07T15:18:08.534Z"
   },
   {
    "duration": 44,
    "start_time": "2021-07-07T15:18:08.553Z"
   },
   {
    "duration": 22,
    "start_time": "2021-07-07T15:18:08.599Z"
   },
   {
    "duration": 61,
    "start_time": "2021-07-07T15:18:08.622Z"
   },
   {
    "duration": 7,
    "start_time": "2021-07-07T15:18:39.457Z"
   },
   {
    "duration": 5,
    "start_time": "2021-07-07T16:05:17.020Z"
   },
   {
    "duration": 5,
    "start_time": "2021-07-07T16:51:28.794Z"
   },
   {
    "duration": 546,
    "start_time": "2021-07-07T16:52:26.306Z"
   },
   {
    "duration": 203,
    "start_time": "2021-07-07T16:52:27.523Z"
   },
   {
    "duration": 85,
    "start_time": "2021-07-07T16:52:27.736Z"
   },
   {
    "duration": 4,
    "start_time": "2021-07-07T16:52:27.899Z"
   },
   {
    "duration": 25,
    "start_time": "2021-07-07T16:52:28.674Z"
   },
   {
    "duration": 8,
    "start_time": "2021-07-07T16:52:32.956Z"
   },
   {
    "duration": 18,
    "start_time": "2021-07-07T16:52:35.616Z"
   },
   {
    "duration": 6,
    "start_time": "2021-07-07T16:52:36.913Z"
   },
   {
    "duration": 11,
    "start_time": "2021-07-07T16:52:40.258Z"
   },
   {
    "duration": 10,
    "start_time": "2021-07-07T16:52:46.251Z"
   },
   {
    "duration": 8,
    "start_time": "2021-07-07T16:52:47.182Z"
   },
   {
    "duration": 27,
    "start_time": "2021-07-07T16:53:20.391Z"
   },
   {
    "duration": 20,
    "start_time": "2021-07-07T16:53:22.022Z"
   },
   {
    "duration": 23,
    "start_time": "2021-07-07T16:53:23.690Z"
   },
   {
    "duration": 8,
    "start_time": "2021-07-07T16:53:24.261Z"
   },
   {
    "duration": 4,
    "start_time": "2021-07-07T16:53:38.733Z"
   },
   {
    "duration": 7,
    "start_time": "2021-07-07T16:53:40.445Z"
   },
   {
    "duration": 11,
    "start_time": "2021-07-07T16:53:41.348Z"
   },
   {
    "duration": 13,
    "start_time": "2021-07-07T16:53:45.250Z"
   },
   {
    "duration": 12,
    "start_time": "2021-07-07T16:53:45.467Z"
   },
   {
    "duration": 4,
    "start_time": "2021-07-07T16:55:32.704Z"
   },
   {
    "duration": 12,
    "start_time": "2021-07-07T16:55:49.012Z"
   },
   {
    "duration": 18,
    "start_time": "2021-07-07T16:55:49.547Z"
   },
   {
    "duration": 611,
    "start_time": "2021-07-07T16:58:35.156Z"
   },
   {
    "duration": 200,
    "start_time": "2021-07-07T16:58:35.770Z"
   },
   {
    "duration": 86,
    "start_time": "2021-07-07T16:58:35.972Z"
   },
   {
    "duration": 3,
    "start_time": "2021-07-07T16:58:36.060Z"
   },
   {
    "duration": 27,
    "start_time": "2021-07-07T16:58:36.065Z"
   },
   {
    "duration": 8,
    "start_time": "2021-07-07T16:58:36.094Z"
   },
   {
    "duration": 17,
    "start_time": "2021-07-07T16:58:36.103Z"
   },
   {
    "duration": 5,
    "start_time": "2021-07-07T16:58:36.123Z"
   },
   {
    "duration": 11,
    "start_time": "2021-07-07T16:58:36.130Z"
   },
   {
    "duration": 7,
    "start_time": "2021-07-07T16:58:36.143Z"
   },
   {
    "duration": 37,
    "start_time": "2021-07-07T16:58:36.152Z"
   },
   {
    "duration": 27,
    "start_time": "2021-07-07T16:58:36.191Z"
   },
   {
    "duration": 19,
    "start_time": "2021-07-07T16:58:36.219Z"
   },
   {
    "duration": 49,
    "start_time": "2021-07-07T16:58:36.240Z"
   },
   {
    "duration": 6,
    "start_time": "2021-07-07T16:58:36.291Z"
   },
   {
    "duration": 3,
    "start_time": "2021-07-07T16:58:36.299Z"
   },
   {
    "duration": 13,
    "start_time": "2021-07-07T16:58:36.304Z"
   },
   {
    "duration": 10,
    "start_time": "2021-07-07T16:58:36.319Z"
   },
   {
    "duration": 10,
    "start_time": "2021-07-07T16:58:36.331Z"
   },
   {
    "duration": 44,
    "start_time": "2021-07-07T16:58:36.343Z"
   },
   {
    "duration": 4,
    "start_time": "2021-07-07T16:58:36.388Z"
   },
   {
    "duration": 13,
    "start_time": "2021-07-07T16:58:36.394Z"
   },
   {
    "duration": 16,
    "start_time": "2021-07-07T16:58:36.410Z"
   },
   {
    "duration": 8,
    "start_time": "2021-07-07T17:02:31.629Z"
   },
   {
    "duration": 8,
    "start_time": "2021-07-07T17:02:34.308Z"
   },
   {
    "duration": 6,
    "start_time": "2021-07-07T17:05:13.483Z"
   },
   {
    "duration": 17,
    "start_time": "2021-07-07T17:05:20.606Z"
   },
   {
    "duration": 7,
    "start_time": "2021-07-07T17:05:34.638Z"
   },
   {
    "duration": 3,
    "start_time": "2021-07-07T17:06:31.883Z"
   },
   {
    "duration": 570,
    "start_time": "2021-07-07T17:06:37.165Z"
   },
   {
    "duration": 174,
    "start_time": "2021-07-07T17:06:37.737Z"
   },
   {
    "duration": 47,
    "start_time": "2021-07-07T17:06:37.913Z"
   },
   {
    "duration": 3,
    "start_time": "2021-07-07T17:06:37.962Z"
   },
   {
    "duration": 27,
    "start_time": "2021-07-07T17:06:37.967Z"
   },
   {
    "duration": 7,
    "start_time": "2021-07-07T17:06:37.996Z"
   },
   {
    "duration": 16,
    "start_time": "2021-07-07T17:06:38.005Z"
   },
   {
    "duration": 6,
    "start_time": "2021-07-07T17:06:38.024Z"
   },
   {
    "duration": 12,
    "start_time": "2021-07-07T17:06:38.031Z"
   },
   {
    "duration": 41,
    "start_time": "2021-07-07T17:06:38.045Z"
   },
   {
    "duration": 8,
    "start_time": "2021-07-07T17:06:38.088Z"
   },
   {
    "duration": 26,
    "start_time": "2021-07-07T17:06:38.098Z"
   },
   {
    "duration": 17,
    "start_time": "2021-07-07T17:06:38.126Z"
   },
   {
    "duration": 43,
    "start_time": "2021-07-07T17:06:38.144Z"
   },
   {
    "duration": 6,
    "start_time": "2021-07-07T17:06:38.188Z"
   },
   {
    "duration": 5,
    "start_time": "2021-07-07T17:06:38.195Z"
   },
   {
    "duration": 9,
    "start_time": "2021-07-07T17:06:38.201Z"
   },
   {
    "duration": 12,
    "start_time": "2021-07-07T17:06:38.212Z"
   },
   {
    "duration": 11,
    "start_time": "2021-07-07T17:06:38.226Z"
   },
   {
    "duration": 47,
    "start_time": "2021-07-07T17:06:38.239Z"
   },
   {
    "duration": 4,
    "start_time": "2021-07-07T17:06:38.288Z"
   },
   {
    "duration": 13,
    "start_time": "2021-07-07T17:06:38.293Z"
   },
   {
    "duration": 5,
    "start_time": "2021-07-07T17:06:38.309Z"
   },
   {
    "duration": 18,
    "start_time": "2021-07-07T17:06:38.325Z"
   },
   {
    "duration": 20,
    "start_time": "2021-07-07T17:07:02.805Z"
   },
   {
    "duration": 19,
    "start_time": "2021-07-07T17:07:08.527Z"
   },
   {
    "duration": 19,
    "start_time": "2021-07-07T17:07:12.758Z"
   },
   {
    "duration": 22,
    "start_time": "2021-07-07T17:07:17.497Z"
   },
   {
    "duration": 19,
    "start_time": "2021-07-07T17:07:19.645Z"
   },
   {
    "duration": 10,
    "start_time": "2021-07-07T17:07:34.239Z"
   },
   {
    "duration": 17,
    "start_time": "2021-07-07T17:07:54.144Z"
   },
   {
    "duration": 14,
    "start_time": "2021-07-07T17:08:14.357Z"
   },
   {
    "duration": 616,
    "start_time": "2021-07-07T17:08:45.254Z"
   },
   {
    "duration": 178,
    "start_time": "2021-07-07T17:08:45.872Z"
   },
   {
    "duration": 60,
    "start_time": "2021-07-07T17:08:46.054Z"
   },
   {
    "duration": 3,
    "start_time": "2021-07-07T17:08:46.116Z"
   },
   {
    "duration": 26,
    "start_time": "2021-07-07T17:08:46.121Z"
   },
   {
    "duration": 7,
    "start_time": "2021-07-07T17:08:46.149Z"
   },
   {
    "duration": 17,
    "start_time": "2021-07-07T17:08:46.158Z"
   },
   {
    "duration": 14,
    "start_time": "2021-07-07T17:08:46.176Z"
   },
   {
    "duration": 17,
    "start_time": "2021-07-07T17:08:46.193Z"
   },
   {
    "duration": 9,
    "start_time": "2021-07-07T17:08:46.211Z"
   },
   {
    "duration": 21,
    "start_time": "2021-07-07T17:08:46.221Z"
   },
   {
    "duration": 49,
    "start_time": "2021-07-07T17:08:46.244Z"
   },
   {
    "duration": 24,
    "start_time": "2021-07-07T17:08:46.295Z"
   },
   {
    "duration": 22,
    "start_time": "2021-07-07T17:08:46.321Z"
   },
   {
    "duration": 6,
    "start_time": "2021-07-07T17:08:46.345Z"
   },
   {
    "duration": 5,
    "start_time": "2021-07-07T17:08:46.353Z"
   },
   {
    "duration": 13,
    "start_time": "2021-07-07T17:08:46.386Z"
   },
   {
    "duration": 12,
    "start_time": "2021-07-07T17:08:46.402Z"
   },
   {
    "duration": 10,
    "start_time": "2021-07-07T17:08:46.415Z"
   },
   {
    "duration": 7,
    "start_time": "2021-07-07T17:08:46.427Z"
   },
   {
    "duration": 8,
    "start_time": "2021-07-07T17:08:46.435Z"
   },
   {
    "duration": 68,
    "start_time": "2021-07-07T17:08:46.446Z"
   },
   {
    "duration": 13,
    "start_time": "2021-07-07T17:08:46.516Z"
   },
   {
    "duration": 78,
    "start_time": "2021-07-07T17:08:46.530Z"
   },
   {
    "duration": 40,
    "start_time": "2021-07-07T17:09:08.185Z"
   },
   {
    "duration": 16,
    "start_time": "2021-07-07T17:09:19.324Z"
   },
   {
    "duration": 21,
    "start_time": "2021-07-07T17:09:23.290Z"
   },
   {
    "duration": 13,
    "start_time": "2021-07-07T17:09:54.812Z"
   },
   {
    "duration": 13,
    "start_time": "2021-07-07T17:10:02.039Z"
   },
   {
    "duration": 10,
    "start_time": "2021-07-07T17:10:29.632Z"
   },
   {
    "duration": 13,
    "start_time": "2021-07-07T17:10:52.372Z"
   },
   {
    "duration": 13,
    "start_time": "2021-07-07T17:11:17.270Z"
   },
   {
    "duration": 13,
    "start_time": "2021-07-07T17:14:59.284Z"
   },
   {
    "duration": 547,
    "start_time": "2021-07-07T17:18:52.403Z"
   },
   {
    "duration": 163,
    "start_time": "2021-07-07T17:18:52.952Z"
   },
   {
    "duration": 44,
    "start_time": "2021-07-07T17:18:53.117Z"
   },
   {
    "duration": 3,
    "start_time": "2021-07-07T17:18:53.162Z"
   },
   {
    "duration": 26,
    "start_time": "2021-07-07T17:18:53.167Z"
   },
   {
    "duration": 6,
    "start_time": "2021-07-07T17:18:53.195Z"
   },
   {
    "duration": 15,
    "start_time": "2021-07-07T17:18:53.203Z"
   },
   {
    "duration": 5,
    "start_time": "2021-07-07T17:18:53.220Z"
   },
   {
    "duration": 11,
    "start_time": "2021-07-07T17:18:53.228Z"
   },
   {
    "duration": 9,
    "start_time": "2021-07-07T17:18:53.241Z"
   },
   {
    "duration": 41,
    "start_time": "2021-07-07T17:18:53.252Z"
   },
   {
    "duration": 33,
    "start_time": "2021-07-07T17:18:53.295Z"
   },
   {
    "duration": 19,
    "start_time": "2021-07-07T17:18:53.330Z"
   },
   {
    "duration": 49,
    "start_time": "2021-07-07T17:18:53.350Z"
   },
   {
    "duration": 5,
    "start_time": "2021-07-07T17:18:53.401Z"
   },
   {
    "duration": 5,
    "start_time": "2021-07-07T17:18:53.408Z"
   },
   {
    "duration": 11,
    "start_time": "2021-07-07T17:18:53.414Z"
   },
   {
    "duration": 9,
    "start_time": "2021-07-07T17:18:53.427Z"
   },
   {
    "duration": 10,
    "start_time": "2021-07-07T17:18:53.437Z"
   },
   {
    "duration": 39,
    "start_time": "2021-07-07T17:18:53.448Z"
   },
   {
    "duration": 26,
    "start_time": "2021-07-07T17:18:55.799Z"
   },
   {
    "duration": 598,
    "start_time": "2021-07-07T17:20:17.862Z"
   },
   {
    "duration": 161,
    "start_time": "2021-07-07T17:20:18.462Z"
   },
   {
    "duration": 45,
    "start_time": "2021-07-07T17:20:18.626Z"
   },
   {
    "duration": 4,
    "start_time": "2021-07-07T17:20:18.673Z"
   },
   {
    "duration": 38,
    "start_time": "2021-07-07T17:20:26.877Z"
   },
   {
    "duration": 7,
    "start_time": "2021-07-07T17:20:37.405Z"
   },
   {
    "duration": 19,
    "start_time": "2021-07-07T17:20:51.534Z"
   },
   {
    "duration": 5,
    "start_time": "2021-07-07T17:20:57.228Z"
   },
   {
    "duration": 7,
    "start_time": "2021-07-07T17:21:08.235Z"
   },
   {
    "duration": 19,
    "start_time": "2021-07-07T17:21:42.158Z"
   },
   {
    "duration": 14,
    "start_time": "2021-07-07T17:21:50.225Z"
   },
   {
    "duration": 22,
    "start_time": "2021-07-07T17:22:54.104Z"
   },
   {
    "duration": 5,
    "start_time": "2021-07-07T17:22:56.371Z"
   },
   {
    "duration": 14,
    "start_time": "2021-07-07T17:22:58.316Z"
   },
   {
    "duration": 5,
    "start_time": "2021-07-07T17:22:58.493Z"
   },
   {
    "duration": 35,
    "start_time": "2021-07-07T17:22:59.666Z"
   },
   {
    "duration": 6,
    "start_time": "2021-07-07T17:23:02.410Z"
   },
   {
    "duration": 611,
    "start_time": "2021-07-07T17:24:59.664Z"
   },
   {
    "duration": 178,
    "start_time": "2021-07-07T17:25:01.945Z"
   },
   {
    "duration": 47,
    "start_time": "2021-07-07T17:25:02.125Z"
   },
   {
    "duration": 2,
    "start_time": "2021-07-07T17:25:07.903Z"
   },
   {
    "duration": 254,
    "start_time": "2021-07-07T17:25:08.232Z"
   },
   {
    "duration": 182,
    "start_time": "2021-07-07T17:25:08.671Z"
   },
   {
    "duration": 6,
    "start_time": "2021-07-07T17:25:13.104Z"
   },
   {
    "duration": 36,
    "start_time": "2021-07-07T17:25:13.662Z"
   },
   {
    "duration": 7,
    "start_time": "2021-07-07T17:25:14.528Z"
   },
   {
    "duration": 24,
    "start_time": "2021-07-07T17:25:27.982Z"
   },
   {
    "duration": 3,
    "start_time": "2021-07-07T17:25:48.982Z"
   },
   {
    "duration": 165,
    "start_time": "2021-07-07T17:25:48.987Z"
   },
   {
    "duration": 50,
    "start_time": "2021-07-07T17:25:49.154Z"
   },
   {
    "duration": 4,
    "start_time": "2021-07-07T17:25:49.206Z"
   },
   {
    "duration": 26,
    "start_time": "2021-07-07T17:25:49.212Z"
   },
   {
    "duration": 7,
    "start_time": "2021-07-07T17:25:49.240Z"
   },
   {
    "duration": 16,
    "start_time": "2021-07-07T17:25:49.249Z"
   },
   {
    "duration": 22,
    "start_time": "2021-07-07T17:25:49.266Z"
   },
   {
    "duration": 16,
    "start_time": "2021-07-07T17:25:49.291Z"
   },
   {
    "duration": 9,
    "start_time": "2021-07-07T17:25:49.309Z"
   },
   {
    "duration": 7,
    "start_time": "2021-07-07T17:25:49.319Z"
   },
   {
    "duration": 28,
    "start_time": "2021-07-07T17:25:49.328Z"
   },
   {
    "duration": 44,
    "start_time": "2021-07-07T17:25:49.357Z"
   },
   {
    "duration": 22,
    "start_time": "2021-07-07T17:25:49.403Z"
   },
   {
    "duration": 7,
    "start_time": "2021-07-07T17:25:49.427Z"
   },
   {
    "duration": 3,
    "start_time": "2021-07-07T17:25:49.436Z"
   },
   {
    "duration": 44,
    "start_time": "2021-07-07T17:25:49.441Z"
   },
   {
    "duration": 12,
    "start_time": "2021-07-07T17:25:49.488Z"
   },
   {
    "duration": 13,
    "start_time": "2021-07-07T17:25:49.502Z"
   },
   {
    "duration": 10,
    "start_time": "2021-07-07T17:25:49.516Z"
   },
   {
    "duration": 62,
    "start_time": "2021-07-07T17:25:49.527Z"
   },
   {
    "duration": 26,
    "start_time": "2021-07-07T17:26:51.809Z"
   },
   {
    "duration": 26,
    "start_time": "2021-07-07T17:26:55.759Z"
   },
   {
    "duration": 26,
    "start_time": "2021-07-07T17:27:04.501Z"
   },
   {
    "duration": 25,
    "start_time": "2021-07-07T17:28:24.859Z"
   },
   {
    "duration": 21,
    "start_time": "2021-07-07T17:28:55.250Z"
   },
   {
    "duration": 21,
    "start_time": "2021-07-07T17:28:58.885Z"
   },
   {
    "duration": 7,
    "start_time": "2021-07-07T17:45:40.972Z"
   },
   {
    "duration": 13,
    "start_time": "2021-07-07T17:45:42.529Z"
   },
   {
    "duration": 27,
    "start_time": "2021-07-07T17:45:51.026Z"
   },
   {
    "duration": 518,
    "start_time": "2021-07-07T17:46:15.532Z"
   },
   {
    "duration": 235,
    "start_time": "2021-07-07T17:46:16.053Z"
   },
   {
    "duration": 80,
    "start_time": "2021-07-07T17:46:16.292Z"
   },
   {
    "duration": 5,
    "start_time": "2021-07-07T17:46:16.373Z"
   },
   {
    "duration": 26,
    "start_time": "2021-07-07T17:46:16.380Z"
   },
   {
    "duration": 7,
    "start_time": "2021-07-07T17:46:16.408Z"
   },
   {
    "duration": 16,
    "start_time": "2021-07-07T17:46:16.418Z"
   },
   {
    "duration": 5,
    "start_time": "2021-07-07T17:46:16.436Z"
   },
   {
    "duration": 13,
    "start_time": "2021-07-07T17:46:16.442Z"
   },
   {
    "duration": 35,
    "start_time": "2021-07-07T17:46:16.456Z"
   },
   {
    "duration": 8,
    "start_time": "2021-07-07T17:46:16.493Z"
   },
   {
    "duration": 28,
    "start_time": "2021-07-07T17:46:16.502Z"
   },
   {
    "duration": 17,
    "start_time": "2021-07-07T17:46:16.532Z"
   },
   {
    "duration": 44,
    "start_time": "2021-07-07T17:46:16.551Z"
   },
   {
    "duration": 6,
    "start_time": "2021-07-07T17:46:16.597Z"
   },
   {
    "duration": 4,
    "start_time": "2021-07-07T17:46:16.605Z"
   },
   {
    "duration": 9,
    "start_time": "2021-07-07T17:46:16.610Z"
   },
   {
    "duration": 9,
    "start_time": "2021-07-07T17:46:16.621Z"
   },
   {
    "duration": 10,
    "start_time": "2021-07-07T17:46:16.632Z"
   },
   {
    "duration": 43,
    "start_time": "2021-07-07T17:46:16.644Z"
   },
   {
    "duration": 26,
    "start_time": "2021-07-07T17:46:16.689Z"
   },
   {
    "duration": 19,
    "start_time": "2021-07-07T17:46:16.718Z"
   },
   {
    "duration": 8,
    "start_time": "2021-07-07T17:46:16.738Z"
   },
   {
    "duration": 43,
    "start_time": "2021-07-07T17:46:16.747Z"
   },
   {
    "duration": 19,
    "start_time": "2021-07-07T17:46:16.791Z"
   },
   {
    "duration": 9,
    "start_time": "2021-07-07T17:46:16.812Z"
   },
   {
    "duration": 60,
    "start_time": "2021-07-07T17:46:16.822Z"
   },
   {
    "duration": -8,
    "start_time": "2021-07-07T17:46:16.892Z"
   },
   {
    "duration": 12,
    "start_time": "2021-07-07T17:48:47.707Z"
   },
   {
    "duration": 553,
    "start_time": "2021-07-07T18:10:09.350Z"
   },
   {
    "duration": 230,
    "start_time": "2021-07-07T18:10:09.905Z"
   },
   {
    "duration": 97,
    "start_time": "2021-07-07T18:10:10.137Z"
   },
   {
    "duration": 5,
    "start_time": "2021-07-07T18:10:10.236Z"
   },
   {
    "duration": 29,
    "start_time": "2021-07-07T18:10:10.242Z"
   },
   {
    "duration": 7,
    "start_time": "2021-07-07T18:10:10.272Z"
   },
   {
    "duration": 15,
    "start_time": "2021-07-07T18:10:10.281Z"
   },
   {
    "duration": 4,
    "start_time": "2021-07-07T18:10:10.299Z"
   },
   {
    "duration": 14,
    "start_time": "2021-07-07T18:10:10.305Z"
   },
   {
    "duration": 8,
    "start_time": "2021-07-07T18:10:10.321Z"
   },
   {
    "duration": 8,
    "start_time": "2021-07-07T18:10:10.331Z"
   },
   {
    "duration": 56,
    "start_time": "2021-07-07T18:10:10.341Z"
   },
   {
    "duration": 19,
    "start_time": "2021-07-07T18:10:10.399Z"
   },
   {
    "duration": 23,
    "start_time": "2021-07-07T18:10:10.419Z"
   },
   {
    "duration": 6,
    "start_time": "2021-07-07T18:10:10.444Z"
   },
   {
    "duration": 9,
    "start_time": "2021-07-07T18:10:10.451Z"
   },
   {
    "duration": 30,
    "start_time": "2021-07-07T18:10:10.462Z"
   },
   {
    "duration": 9,
    "start_time": "2021-07-07T18:10:10.494Z"
   },
   {
    "duration": 14,
    "start_time": "2021-07-07T18:10:10.505Z"
   },
   {
    "duration": 7,
    "start_time": "2021-07-07T18:10:10.521Z"
   },
   {
    "duration": 26,
    "start_time": "2021-07-07T18:10:10.530Z"
   },
   {
    "duration": 44,
    "start_time": "2021-07-07T18:10:10.558Z"
   },
   {
    "duration": 7,
    "start_time": "2021-07-07T18:10:10.605Z"
   },
   {
    "duration": 11,
    "start_time": "2021-07-07T18:10:10.614Z"
   },
   {
    "duration": 19,
    "start_time": "2021-07-07T18:10:10.626Z"
   },
   {
    "duration": 44,
    "start_time": "2021-07-07T18:10:10.646Z"
   },
   {
    "duration": 516,
    "start_time": "2021-07-07T18:14:00.826Z"
   },
   {
    "duration": 230,
    "start_time": "2021-07-07T18:14:01.344Z"
   },
   {
    "duration": 105,
    "start_time": "2021-07-07T18:14:01.576Z"
   },
   {
    "duration": 5,
    "start_time": "2021-07-07T18:14:01.683Z"
   },
   {
    "duration": 46,
    "start_time": "2021-07-07T18:14:01.690Z"
   },
   {
    "duration": 7,
    "start_time": "2021-07-07T18:14:01.738Z"
   },
   {
    "duration": 20,
    "start_time": "2021-07-07T18:14:01.747Z"
   },
   {
    "duration": 16,
    "start_time": "2021-07-07T18:14:01.769Z"
   },
   {
    "duration": 14,
    "start_time": "2021-07-07T18:14:01.787Z"
   },
   {
    "duration": 15,
    "start_time": "2021-07-07T18:14:01.803Z"
   },
   {
    "duration": 12,
    "start_time": "2021-07-07T18:14:01.820Z"
   },
   {
    "duration": 35,
    "start_time": "2021-07-07T18:14:01.833Z"
   },
   {
    "duration": 31,
    "start_time": "2021-07-07T18:14:01.869Z"
   },
   {
    "duration": 37,
    "start_time": "2021-07-07T18:14:01.902Z"
   },
   {
    "duration": 8,
    "start_time": "2021-07-07T18:14:01.942Z"
   },
   {
    "duration": 16,
    "start_time": "2021-07-07T18:14:01.952Z"
   },
   {
    "duration": 13,
    "start_time": "2021-07-07T18:14:01.970Z"
   },
   {
    "duration": 32,
    "start_time": "2021-07-07T18:14:01.985Z"
   },
   {
    "duration": 11,
    "start_time": "2021-07-07T18:14:02.019Z"
   },
   {
    "duration": 22,
    "start_time": "2021-07-07T18:14:02.031Z"
   },
   {
    "duration": 27,
    "start_time": "2021-07-07T18:14:02.055Z"
   },
   {
    "duration": 18,
    "start_time": "2021-07-07T18:14:02.084Z"
   },
   {
    "duration": 18,
    "start_time": "2021-07-07T18:14:02.106Z"
   },
   {
    "duration": 11,
    "start_time": "2021-07-07T18:14:02.126Z"
   },
   {
    "duration": 21,
    "start_time": "2021-07-07T18:14:02.138Z"
   },
   {
    "duration": 32,
    "start_time": "2021-07-07T18:14:02.161Z"
   },
   {
    "duration": 28,
    "start_time": "2021-07-07T18:14:44.295Z"
   },
   {
    "duration": 6,
    "start_time": "2021-07-07T18:15:05.834Z"
   },
   {
    "duration": 511,
    "start_time": "2021-07-07T18:15:41.541Z"
   },
   {
    "duration": 183,
    "start_time": "2021-07-07T18:15:42.054Z"
   },
   {
    "duration": 50,
    "start_time": "2021-07-07T18:15:42.239Z"
   },
   {
    "duration": 5,
    "start_time": "2021-07-07T18:15:42.291Z"
   },
   {
    "duration": 48,
    "start_time": "2021-07-07T18:15:42.297Z"
   },
   {
    "duration": 8,
    "start_time": "2021-07-07T18:15:42.346Z"
   },
   {
    "duration": 17,
    "start_time": "2021-07-07T18:15:42.356Z"
   },
   {
    "duration": 15,
    "start_time": "2021-07-07T18:15:42.375Z"
   },
   {
    "duration": 12,
    "start_time": "2021-07-07T18:15:42.392Z"
   },
   {
    "duration": 7,
    "start_time": "2021-07-07T18:15:42.406Z"
   },
   {
    "duration": 7,
    "start_time": "2021-07-07T18:15:42.415Z"
   },
   {
    "duration": 29,
    "start_time": "2021-07-07T18:15:42.423Z"
   },
   {
    "duration": 43,
    "start_time": "2021-07-07T18:15:42.453Z"
   },
   {
    "duration": 18,
    "start_time": "2021-07-07T18:15:42.497Z"
   },
   {
    "duration": 6,
    "start_time": "2021-07-07T18:15:42.516Z"
   },
   {
    "duration": 3,
    "start_time": "2021-07-07T18:15:42.523Z"
   },
   {
    "duration": 18,
    "start_time": "2021-07-07T18:15:42.528Z"
   },
   {
    "duration": 10,
    "start_time": "2021-07-07T18:15:42.547Z"
   },
   {
    "duration": 36,
    "start_time": "2021-07-07T18:15:42.559Z"
   },
   {
    "duration": 8,
    "start_time": "2021-07-07T18:15:42.597Z"
   },
   {
    "duration": 28,
    "start_time": "2021-07-07T18:15:42.606Z"
   },
   {
    "duration": 52,
    "start_time": "2021-07-07T18:15:42.635Z"
   },
   {
    "duration": 7,
    "start_time": "2021-07-07T18:15:42.690Z"
   },
   {
    "duration": 10,
    "start_time": "2021-07-07T18:15:42.699Z"
   },
   {
    "duration": 19,
    "start_time": "2021-07-07T18:15:42.711Z"
   },
   {
    "duration": 9,
    "start_time": "2021-07-07T18:15:42.732Z"
   },
   {
    "duration": 5,
    "start_time": "2021-07-07T18:15:42.743Z"
   },
   {
    "duration": 1450,
    "start_time": "2021-07-07T18:15:51.984Z"
   },
   {
    "duration": 161,
    "start_time": "2021-07-07T18:15:53.435Z"
   },
   {
    "duration": 124,
    "start_time": "2021-07-07T18:15:53.598Z"
   },
   {
    "duration": 5,
    "start_time": "2021-07-07T18:15:53.724Z"
   },
   {
    "duration": 34,
    "start_time": "2021-07-07T18:15:53.730Z"
   },
   {
    "duration": 7,
    "start_time": "2021-07-07T18:15:53.765Z"
   },
   {
    "duration": 15,
    "start_time": "2021-07-07T18:15:53.773Z"
   },
   {
    "duration": 5,
    "start_time": "2021-07-07T18:15:53.791Z"
   },
   {
    "duration": 19,
    "start_time": "2021-07-07T18:15:53.798Z"
   },
   {
    "duration": 9,
    "start_time": "2021-07-07T18:15:53.818Z"
   },
   {
    "duration": 19,
    "start_time": "2021-07-07T18:15:53.828Z"
   },
   {
    "duration": 27,
    "start_time": "2021-07-07T18:15:53.848Z"
   },
   {
    "duration": 16,
    "start_time": "2021-07-07T18:15:53.884Z"
   },
   {
    "duration": 29,
    "start_time": "2021-07-07T18:15:53.901Z"
   },
   {
    "duration": 5,
    "start_time": "2021-07-07T18:15:53.932Z"
   },
   {
    "duration": 15,
    "start_time": "2021-07-07T18:15:53.939Z"
   },
   {
    "duration": 13,
    "start_time": "2021-07-07T18:15:53.956Z"
   },
   {
    "duration": 20,
    "start_time": "2021-07-07T18:15:53.971Z"
   },
   {
    "duration": 14,
    "start_time": "2021-07-07T18:15:53.992Z"
   },
   {
    "duration": 9,
    "start_time": "2021-07-07T18:15:54.009Z"
   },
   {
    "duration": 28,
    "start_time": "2021-07-07T18:15:54.020Z"
   },
   {
    "duration": 50,
    "start_time": "2021-07-07T18:15:54.051Z"
   },
   {
    "duration": 8,
    "start_time": "2021-07-07T18:15:54.105Z"
   },
   {
    "duration": 11,
    "start_time": "2021-07-07T18:15:54.115Z"
   },
   {
    "duration": 20,
    "start_time": "2021-07-07T18:15:54.128Z"
   },
   {
    "duration": 13,
    "start_time": "2021-07-07T18:15:54.184Z"
   },
   {
    "duration": 7,
    "start_time": "2021-07-07T18:15:54.199Z"
   },
   {
    "duration": 7,
    "start_time": "2021-07-07T18:17:08.042Z"
   },
   {
    "duration": 8,
    "start_time": "2021-07-07T18:17:21.008Z"
   },
   {
    "duration": 7,
    "start_time": "2021-07-07T18:17:29.003Z"
   },
   {
    "duration": 8,
    "start_time": "2021-07-07T18:17:32.492Z"
   },
   {
    "duration": 9,
    "start_time": "2021-07-07T18:17:41.758Z"
   },
   {
    "duration": 255,
    "start_time": "2021-07-07T18:20:20.897Z"
   },
   {
    "duration": 173,
    "start_time": "2021-07-07T18:20:26.636Z"
   },
   {
    "duration": 7,
    "start_time": "2021-07-07T18:21:47.164Z"
   },
   {
    "duration": 254,
    "start_time": "2021-07-07T18:23:08.703Z"
   },
   {
    "duration": 21,
    "start_time": "2021-07-07T18:23:22.506Z"
   },
   {
    "duration": 315,
    "start_time": "2021-07-07T18:25:54.801Z"
   },
   {
    "duration": 34,
    "start_time": "2021-07-07T18:26:51.817Z"
   },
   {
    "duration": 327,
    "start_time": "2021-07-07T18:26:56.147Z"
   },
   {
    "duration": 342,
    "start_time": "2021-07-07T18:27:15.887Z"
   },
   {
    "duration": 302,
    "start_time": "2021-07-07T18:28:18.569Z"
   },
   {
    "duration": 226,
    "start_time": "2021-07-07T18:29:20.879Z"
   },
   {
    "duration": 207,
    "start_time": "2021-07-07T18:29:58.114Z"
   },
   {
    "duration": 140,
    "start_time": "2021-07-07T18:32:04.372Z"
   },
   {
    "duration": 158,
    "start_time": "2021-07-07T18:32:32.508Z"
   },
   {
    "duration": 145,
    "start_time": "2021-07-07T18:32:41.365Z"
   },
   {
    "duration": 132,
    "start_time": "2021-07-07T18:32:45.199Z"
   },
   {
    "duration": 11,
    "start_time": "2021-07-07T18:35:24.679Z"
   },
   {
    "duration": 268,
    "start_time": "2021-07-07T18:36:16.145Z"
   },
   {
    "duration": 227,
    "start_time": "2021-07-07T18:37:04.918Z"
   },
   {
    "duration": 3,
    "start_time": "2021-07-07T18:37:33.012Z"
   },
   {
    "duration": 671,
    "start_time": "2021-07-07T18:37:38.295Z"
   },
   {
    "duration": 54,
    "start_time": "2021-07-07T18:37:53.406Z"
   },
   {
    "duration": 631,
    "start_time": "2021-07-07T18:37:56.463Z"
   },
   {
    "duration": 19,
    "start_time": "2021-07-07T18:39:40.535Z"
   },
   {
    "duration": 20,
    "start_time": "2021-07-07T18:40:12.236Z"
   },
   {
    "duration": 633,
    "start_time": "2021-07-07T18:42:00.398Z"
   },
   {
    "duration": 218,
    "start_time": "2021-07-07T18:42:01.033Z"
   },
   {
    "duration": 49,
    "start_time": "2021-07-07T18:42:01.253Z"
   },
   {
    "duration": 5,
    "start_time": "2021-07-07T18:42:01.303Z"
   },
   {
    "duration": 27,
    "start_time": "2021-07-07T18:42:01.310Z"
   },
   {
    "duration": 8,
    "start_time": "2021-07-07T18:42:01.339Z"
   },
   {
    "duration": 20,
    "start_time": "2021-07-07T18:42:01.348Z"
   },
   {
    "duration": 6,
    "start_time": "2021-07-07T18:42:01.386Z"
   },
   {
    "duration": 16,
    "start_time": "2021-07-07T18:42:01.394Z"
   },
   {
    "duration": 9,
    "start_time": "2021-07-07T18:42:01.411Z"
   },
   {
    "duration": 11,
    "start_time": "2021-07-07T18:42:01.421Z"
   },
   {
    "duration": 31,
    "start_time": "2021-07-07T18:42:01.434Z"
   },
   {
    "duration": 18,
    "start_time": "2021-07-07T18:42:01.485Z"
   },
   {
    "duration": 23,
    "start_time": "2021-07-07T18:42:01.505Z"
   },
   {
    "duration": 6,
    "start_time": "2021-07-07T18:42:01.530Z"
   },
   {
    "duration": 10,
    "start_time": "2021-07-07T18:42:01.538Z"
   },
   {
    "duration": 13,
    "start_time": "2021-07-07T18:42:01.550Z"
   },
   {
    "duration": 24,
    "start_time": "2021-07-07T18:42:01.564Z"
   },
   {
    "duration": 20,
    "start_time": "2021-07-07T18:42:01.590Z"
   },
   {
    "duration": 8,
    "start_time": "2021-07-07T18:42:01.611Z"
   },
   {
    "duration": 31,
    "start_time": "2021-07-07T18:42:01.620Z"
   },
   {
    "duration": 39,
    "start_time": "2021-07-07T18:42:01.653Z"
   },
   {
    "duration": 8,
    "start_time": "2021-07-07T18:42:01.696Z"
   },
   {
    "duration": 13,
    "start_time": "2021-07-07T18:42:01.705Z"
   },
   {
    "duration": 20,
    "start_time": "2021-07-07T18:42:01.720Z"
   },
   {
    "duration": 12,
    "start_time": "2021-07-07T18:42:01.741Z"
   },
   {
    "duration": 35,
    "start_time": "2021-07-07T18:42:01.755Z"
   },
   {
    "duration": 14,
    "start_time": "2021-07-07T18:42:01.792Z"
   },
   {
    "duration": 188,
    "start_time": "2021-07-07T18:42:01.808Z"
   },
   {
    "duration": 19,
    "start_time": "2021-07-07T18:42:01.998Z"
   },
   {
    "duration": 175,
    "start_time": "2021-07-07T18:42:02.019Z"
   },
   {
    "duration": 134,
    "start_time": "2021-07-07T18:42:02.196Z"
   },
   {
    "duration": 10,
    "start_time": "2021-07-07T18:42:02.331Z"
   },
   {
    "duration": 19,
    "start_time": "2021-07-07T18:42:02.343Z"
   },
   {
    "duration": 628,
    "start_time": "2021-07-07T18:46:30.701Z"
   },
   {
    "duration": 183,
    "start_time": "2021-07-07T18:46:31.331Z"
   },
   {
    "duration": 48,
    "start_time": "2021-07-07T18:46:31.516Z"
   },
   {
    "duration": 5,
    "start_time": "2021-07-07T18:46:31.566Z"
   },
   {
    "duration": 28,
    "start_time": "2021-07-07T18:46:31.572Z"
   },
   {
    "duration": 8,
    "start_time": "2021-07-07T18:46:31.602Z"
   },
   {
    "duration": 19,
    "start_time": "2021-07-07T18:46:31.611Z"
   },
   {
    "duration": 6,
    "start_time": "2021-07-07T18:46:31.633Z"
   },
   {
    "duration": 17,
    "start_time": "2021-07-07T18:46:31.642Z"
   },
   {
    "duration": 10,
    "start_time": "2021-07-07T18:46:31.684Z"
   },
   {
    "duration": 9,
    "start_time": "2021-07-07T18:46:31.695Z"
   },
   {
    "duration": 28,
    "start_time": "2021-07-07T18:46:31.705Z"
   },
   {
    "duration": 18,
    "start_time": "2021-07-07T18:46:31.735Z"
   },
   {
    "duration": 48,
    "start_time": "2021-07-07T18:46:31.755Z"
   },
   {
    "duration": 6,
    "start_time": "2021-07-07T18:46:31.804Z"
   },
   {
    "duration": 4,
    "start_time": "2021-07-07T18:46:31.812Z"
   },
   {
    "duration": 9,
    "start_time": "2021-07-07T18:46:31.817Z"
   },
   {
    "duration": 10,
    "start_time": "2021-07-07T18:46:31.827Z"
   },
   {
    "duration": 12,
    "start_time": "2021-07-07T18:46:31.838Z"
   },
   {
    "duration": 39,
    "start_time": "2021-07-07T18:46:31.851Z"
   },
   {
    "duration": 24,
    "start_time": "2021-07-07T18:46:31.892Z"
   },
   {
    "duration": 15,
    "start_time": "2021-07-07T18:46:31.918Z"
   },
   {
    "duration": 7,
    "start_time": "2021-07-07T18:46:31.936Z"
   },
   {
    "duration": 8,
    "start_time": "2021-07-07T18:46:31.944Z"
   },
   {
    "duration": 19,
    "start_time": "2021-07-07T18:46:31.984Z"
   },
   {
    "duration": 10,
    "start_time": "2021-07-07T18:46:32.004Z"
   },
   {
    "duration": 5,
    "start_time": "2021-07-07T18:46:32.016Z"
   },
   {
    "duration": 9,
    "start_time": "2021-07-07T18:46:32.023Z"
   },
   {
    "duration": 199,
    "start_time": "2021-07-07T18:46:32.033Z"
   },
   {
    "duration": 19,
    "start_time": "2021-07-07T18:46:32.234Z"
   },
   {
    "duration": 159,
    "start_time": "2021-07-07T18:46:32.255Z"
   },
   {
    "duration": 134,
    "start_time": "2021-07-07T18:46:32.416Z"
   },
   {
    "duration": 10,
    "start_time": "2021-07-07T18:46:32.552Z"
   },
   {
    "duration": 34,
    "start_time": "2021-07-07T18:46:32.563Z"
   },
   {
    "duration": 1039,
    "start_time": "2021-07-08T08:41:09.419Z"
   },
   {
    "duration": 333,
    "start_time": "2021-07-08T08:41:10.459Z"
   },
   {
    "duration": 173,
    "start_time": "2021-07-08T08:41:10.794Z"
   },
   {
    "duration": 5,
    "start_time": "2021-07-08T08:41:10.968Z"
   },
   {
    "duration": 25,
    "start_time": "2021-07-08T08:41:10.975Z"
   },
   {
    "duration": 9,
    "start_time": "2021-07-08T08:41:11.002Z"
   },
   {
    "duration": 18,
    "start_time": "2021-07-08T08:41:11.013Z"
   },
   {
    "duration": 6,
    "start_time": "2021-07-08T08:41:11.033Z"
   },
   {
    "duration": 44,
    "start_time": "2021-07-08T08:41:11.042Z"
   },
   {
    "duration": 10,
    "start_time": "2021-07-08T08:41:11.088Z"
   },
   {
    "duration": 9,
    "start_time": "2021-07-08T08:41:11.100Z"
   },
   {
    "duration": 27,
    "start_time": "2021-07-08T08:41:11.111Z"
   },
   {
    "duration": 46,
    "start_time": "2021-07-08T08:41:11.140Z"
   },
   {
    "duration": 17,
    "start_time": "2021-07-08T08:41:11.187Z"
   },
   {
    "duration": 6,
    "start_time": "2021-07-08T08:41:11.206Z"
   },
   {
    "duration": 5,
    "start_time": "2021-07-08T08:41:11.213Z"
   },
   {
    "duration": 10,
    "start_time": "2021-07-08T08:41:11.219Z"
   },
   {
    "duration": 9,
    "start_time": "2021-07-08T08:41:11.230Z"
   },
   {
    "duration": 45,
    "start_time": "2021-07-08T08:41:11.241Z"
   },
   {
    "duration": 7,
    "start_time": "2021-07-08T08:41:11.287Z"
   },
   {
    "duration": 24,
    "start_time": "2021-07-08T08:41:11.296Z"
   },
   {
    "duration": 16,
    "start_time": "2021-07-08T08:41:11.322Z"
   },
   {
    "duration": 7,
    "start_time": "2021-07-08T08:41:11.341Z"
   },
   {
    "duration": 41,
    "start_time": "2021-07-08T08:41:11.349Z"
   },
   {
    "duration": 17,
    "start_time": "2021-07-08T08:41:11.391Z"
   },
   {
    "duration": 9,
    "start_time": "2021-07-08T08:41:11.410Z"
   },
   {
    "duration": 5,
    "start_time": "2021-07-08T08:41:11.421Z"
   },
   {
    "duration": 6,
    "start_time": "2021-07-08T08:41:11.428Z"
   },
   {
    "duration": 198,
    "start_time": "2021-07-08T08:41:11.435Z"
   },
   {
    "duration": 18,
    "start_time": "2021-07-08T08:41:11.635Z"
   },
   {
    "duration": 155,
    "start_time": "2021-07-08T08:41:11.655Z"
   },
   {
    "duration": 138,
    "start_time": "2021-07-08T08:41:11.811Z"
   },
   {
    "duration": 10,
    "start_time": "2021-07-08T08:41:11.950Z"
   },
   {
    "duration": 29,
    "start_time": "2021-07-08T08:41:11.961Z"
   },
   {
    "duration": 171,
    "start_time": "2021-07-08T08:47:44.522Z"
   },
   {
    "duration": 124,
    "start_time": "2021-07-08T08:47:46.872Z"
   },
   {
    "duration": 191,
    "start_time": "2021-07-08T08:47:58.148Z"
   },
   {
    "duration": 191,
    "start_time": "2021-07-08T08:48:07.412Z"
   },
   {
    "duration": 261,
    "start_time": "2021-07-08T08:48:10.385Z"
   },
   {
    "duration": 255,
    "start_time": "2021-07-08T08:48:14.494Z"
   },
   {
    "duration": 219,
    "start_time": "2021-07-08T08:48:22.752Z"
   },
   {
    "duration": 173,
    "start_time": "2021-07-08T08:49:06.395Z"
   },
   {
    "duration": 180,
    "start_time": "2021-07-08T08:49:21.011Z"
   },
   {
    "duration": 6,
    "start_time": "2021-07-08T08:50:31.697Z"
   },
   {
    "duration": 10,
    "start_time": "2021-07-08T08:50:47.394Z"
   },
   {
    "duration": 11,
    "start_time": "2021-07-08T08:53:49.332Z"
   },
   {
    "duration": 171,
    "start_time": "2021-07-08T08:54:28.408Z"
   },
   {
    "duration": 636,
    "start_time": "2021-07-08T09:02:48.385Z"
   },
   {
    "duration": 227,
    "start_time": "2021-07-08T09:02:49.023Z"
   },
   {
    "duration": 104,
    "start_time": "2021-07-08T09:02:49.252Z"
   },
   {
    "duration": 5,
    "start_time": "2021-07-08T09:02:49.358Z"
   },
   {
    "duration": 27,
    "start_time": "2021-07-08T09:02:49.365Z"
   },
   {
    "duration": 8,
    "start_time": "2021-07-08T09:02:49.394Z"
   },
   {
    "duration": 18,
    "start_time": "2021-07-08T09:02:49.404Z"
   },
   {
    "duration": 6,
    "start_time": "2021-07-08T09:02:49.424Z"
   },
   {
    "duration": 11,
    "start_time": "2021-07-08T09:02:49.433Z"
   },
   {
    "duration": 13,
    "start_time": "2021-07-08T09:02:49.485Z"
   },
   {
    "duration": 9,
    "start_time": "2021-07-08T09:02:49.500Z"
   },
   {
    "duration": 38,
    "start_time": "2021-07-08T09:02:49.511Z"
   },
   {
    "duration": 42,
    "start_time": "2021-07-08T09:02:49.551Z"
   },
   {
    "duration": 21,
    "start_time": "2021-07-08T09:02:49.594Z"
   },
   {
    "duration": 6,
    "start_time": "2021-07-08T09:02:49.616Z"
   },
   {
    "duration": 3,
    "start_time": "2021-07-08T09:02:49.623Z"
   },
   {
    "duration": 9,
    "start_time": "2021-07-08T09:02:49.628Z"
   },
   {
    "duration": 52,
    "start_time": "2021-07-08T09:02:49.638Z"
   },
   {
    "duration": 11,
    "start_time": "2021-07-08T09:02:49.692Z"
   },
   {
    "duration": 8,
    "start_time": "2021-07-08T09:02:49.704Z"
   },
   {
    "duration": 27,
    "start_time": "2021-07-08T09:02:49.713Z"
   },
   {
    "duration": 59,
    "start_time": "2021-07-08T09:02:49.741Z"
   },
   {
    "duration": 8,
    "start_time": "2021-07-08T09:02:49.803Z"
   },
   {
    "duration": 14,
    "start_time": "2021-07-08T09:02:49.813Z"
   },
   {
    "duration": 20,
    "start_time": "2021-07-08T09:02:49.829Z"
   },
   {
    "duration": 44,
    "start_time": "2021-07-08T09:02:49.851Z"
   },
   {
    "duration": 14,
    "start_time": "2021-07-08T09:02:49.896Z"
   },
   {
    "duration": 221,
    "start_time": "2021-07-08T09:02:49.912Z"
   },
   {
    "duration": 6,
    "start_time": "2021-07-08T09:02:50.134Z"
   },
   {
    "duration": 206,
    "start_time": "2021-07-08T09:02:50.142Z"
   },
   {
    "duration": 19,
    "start_time": "2021-07-08T09:02:50.350Z"
   },
   {
    "duration": 21,
    "start_time": "2021-07-08T09:02:50.370Z"
   },
   {
    "duration": 20,
    "start_time": "2021-07-08T09:02:50.393Z"
   },
   {
    "duration": 5,
    "start_time": "2021-07-08T09:02:50.414Z"
   },
   {
    "duration": 5,
    "start_time": "2021-07-08T09:03:34.173Z"
   },
   {
    "duration": 6,
    "start_time": "2021-07-08T09:04:49.062Z"
   },
   {
    "duration": 9,
    "start_time": "2021-07-08T09:04:50.118Z"
   },
   {
    "duration": 14,
    "start_time": "2021-07-08T09:04:58.512Z"
   },
   {
    "duration": 9,
    "start_time": "2021-07-08T09:05:10.988Z"
   },
   {
    "duration": 11,
    "start_time": "2021-07-08T09:05:11.743Z"
   },
   {
    "duration": 7,
    "start_time": "2021-07-08T09:05:25.677Z"
   },
   {
    "duration": 13,
    "start_time": "2021-07-08T09:05:47.189Z"
   },
   {
    "duration": 13,
    "start_time": "2021-07-08T09:05:54.755Z"
   },
   {
    "duration": 4,
    "start_time": "2021-07-08T09:06:29.189Z"
   },
   {
    "duration": 244,
    "start_time": "2021-07-08T09:06:29.195Z"
   },
   {
    "duration": 91,
    "start_time": "2021-07-08T09:06:29.441Z"
   },
   {
    "duration": 4,
    "start_time": "2021-07-08T09:06:29.534Z"
   },
   {
    "duration": 28,
    "start_time": "2021-07-08T09:06:29.540Z"
   },
   {
    "duration": 6,
    "start_time": "2021-07-08T09:06:29.570Z"
   },
   {
    "duration": 18,
    "start_time": "2021-07-08T09:06:29.578Z"
   },
   {
    "duration": 5,
    "start_time": "2021-07-08T09:06:29.597Z"
   },
   {
    "duration": 13,
    "start_time": "2021-07-08T09:06:29.605Z"
   },
   {
    "duration": 8,
    "start_time": "2021-07-08T09:06:29.620Z"
   },
   {
    "duration": 7,
    "start_time": "2021-07-08T09:06:29.630Z"
   },
   {
    "duration": 63,
    "start_time": "2021-07-08T09:06:29.639Z"
   },
   {
    "duration": 17,
    "start_time": "2021-07-08T09:06:29.704Z"
   },
   {
    "duration": 20,
    "start_time": "2021-07-08T09:06:29.723Z"
   },
   {
    "duration": 6,
    "start_time": "2021-07-08T09:06:29.745Z"
   },
   {
    "duration": 3,
    "start_time": "2021-07-08T09:06:29.752Z"
   },
   {
    "duration": 7,
    "start_time": "2021-07-08T09:06:29.785Z"
   },
   {
    "duration": 11,
    "start_time": "2021-07-08T09:06:29.794Z"
   },
   {
    "duration": 15,
    "start_time": "2021-07-08T09:06:29.807Z"
   },
   {
    "duration": 8,
    "start_time": "2021-07-08T09:06:29.823Z"
   },
   {
    "duration": 70,
    "start_time": "2021-07-08T09:06:29.832Z"
   },
   {
    "duration": 17,
    "start_time": "2021-07-08T09:06:29.903Z"
   },
   {
    "duration": 9,
    "start_time": "2021-07-08T09:06:29.921Z"
   },
   {
    "duration": 9,
    "start_time": "2021-07-08T09:06:29.932Z"
   },
   {
    "duration": 57,
    "start_time": "2021-07-08T09:06:29.942Z"
   },
   {
    "duration": 11,
    "start_time": "2021-07-08T09:06:30.001Z"
   },
   {
    "duration": 19,
    "start_time": "2021-07-08T09:06:30.016Z"
   },
   {
    "duration": 217,
    "start_time": "2021-07-08T09:06:30.037Z"
   },
   {
    "duration": 6,
    "start_time": "2021-07-08T09:06:30.255Z"
   },
   {
    "duration": 205,
    "start_time": "2021-07-08T09:06:30.263Z"
   },
   {
    "duration": 27,
    "start_time": "2021-07-08T09:06:30.470Z"
   },
   {
    "duration": 11,
    "start_time": "2021-07-08T09:06:30.500Z"
   },
   {
    "duration": 31,
    "start_time": "2021-07-08T09:06:30.513Z"
   },
   {
    "duration": 18,
    "start_time": "2021-07-08T09:06:30.546Z"
   },
   {
    "duration": 11,
    "start_time": "2021-07-08T09:06:30.566Z"
   },
   {
    "duration": 19,
    "start_time": "2021-07-08T09:06:30.579Z"
   },
   {
    "duration": 20,
    "start_time": "2021-07-08T09:06:49.466Z"
   },
   {
    "duration": 9,
    "start_time": "2021-07-08T09:06:51.994Z"
   },
   {
    "duration": 20,
    "start_time": "2021-07-08T09:06:52.273Z"
   },
   {
    "duration": 246,
    "start_time": "2021-07-08T09:10:21.272Z"
   },
   {
    "duration": 84,
    "start_time": "2021-07-08T09:10:21.436Z"
   },
   {
    "duration": 7,
    "start_time": "2021-07-08T09:10:37.608Z"
   },
   {
    "duration": 189,
    "start_time": "2021-07-08T09:10:38.573Z"
   },
   {
    "duration": 185,
    "start_time": "2021-07-08T09:10:53.181Z"
   },
   {
    "duration": 11,
    "start_time": "2021-07-08T09:10:59.549Z"
   },
   {
    "duration": 42,
    "start_time": "2021-07-08T09:10:59.709Z"
   },
   {
    "duration": 12,
    "start_time": "2021-07-08T09:11:02.857Z"
   },
   {
    "duration": 28,
    "start_time": "2021-07-08T09:11:10.062Z"
   },
   {
    "duration": 249,
    "start_time": "2021-07-08T09:11:37.388Z"
   },
   {
    "duration": 232,
    "start_time": "2021-07-08T09:11:49.485Z"
   },
   {
    "duration": 453,
    "start_time": "2021-07-08T09:12:01.546Z"
   },
   {
    "duration": 440,
    "start_time": "2021-07-08T09:12:12.347Z"
   },
   {
    "duration": 213,
    "start_time": "2021-07-08T09:13:32.196Z"
   },
   {
    "duration": 172,
    "start_time": "2021-07-08T09:14:07.400Z"
   },
   {
    "duration": 185,
    "start_time": "2021-07-08T09:14:14.905Z"
   },
   {
    "duration": 209,
    "start_time": "2021-07-08T09:14:40.109Z"
   },
   {
    "duration": 201,
    "start_time": "2021-07-08T09:14:54.506Z"
   },
   {
    "duration": 622,
    "start_time": "2021-07-08T09:18:14.497Z"
   },
   {
    "duration": 220,
    "start_time": "2021-07-08T09:18:15.121Z"
   },
   {
    "duration": 79,
    "start_time": "2021-07-08T09:18:15.343Z"
   },
   {
    "duration": 4,
    "start_time": "2021-07-08T09:18:15.425Z"
   },
   {
    "duration": 24,
    "start_time": "2021-07-08T09:18:15.431Z"
   },
   {
    "duration": 8,
    "start_time": "2021-07-08T09:18:15.457Z"
   },
   {
    "duration": 16,
    "start_time": "2021-07-08T09:18:15.466Z"
   },
   {
    "duration": 5,
    "start_time": "2021-07-08T09:18:15.484Z"
   },
   {
    "duration": 10,
    "start_time": "2021-07-08T09:18:15.493Z"
   },
   {
    "duration": 8,
    "start_time": "2021-07-08T09:18:15.504Z"
   },
   {
    "duration": 7,
    "start_time": "2021-07-08T09:18:15.513Z"
   },
   {
    "duration": 26,
    "start_time": "2021-07-08T09:18:15.522Z"
   },
   {
    "duration": 49,
    "start_time": "2021-07-08T09:18:15.550Z"
   },
   {
    "duration": 21,
    "start_time": "2021-07-08T09:18:15.601Z"
   },
   {
    "duration": 8,
    "start_time": "2021-07-08T09:18:15.624Z"
   },
   {
    "duration": 3,
    "start_time": "2021-07-08T09:18:15.634Z"
   },
   {
    "duration": 8,
    "start_time": "2021-07-08T09:18:15.639Z"
   },
   {
    "duration": 45,
    "start_time": "2021-07-08T09:18:15.649Z"
   },
   {
    "duration": 13,
    "start_time": "2021-07-08T09:18:15.696Z"
   },
   {
    "duration": 10,
    "start_time": "2021-07-08T09:18:15.711Z"
   },
   {
    "duration": 64,
    "start_time": "2021-07-08T09:18:15.722Z"
   },
   {
    "duration": 19,
    "start_time": "2021-07-08T09:18:15.788Z"
   },
   {
    "duration": 9,
    "start_time": "2021-07-08T09:18:15.809Z"
   },
   {
    "duration": 9,
    "start_time": "2021-07-08T09:18:15.820Z"
   },
   {
    "duration": 18,
    "start_time": "2021-07-08T09:18:15.831Z"
   },
   {
    "duration": 43,
    "start_time": "2021-07-08T09:18:15.851Z"
   },
   {
    "duration": 12,
    "start_time": "2021-07-08T09:18:15.897Z"
   },
   {
    "duration": 219,
    "start_time": "2021-07-08T09:18:15.911Z"
   },
   {
    "duration": 8,
    "start_time": "2021-07-08T09:18:16.132Z"
   },
   {
    "duration": 199,
    "start_time": "2021-07-08T09:18:16.141Z"
   },
   {
    "duration": 18,
    "start_time": "2021-07-08T09:18:16.341Z"
   },
   {
    "duration": 24,
    "start_time": "2021-07-08T09:18:16.361Z"
   },
   {
    "duration": 24,
    "start_time": "2021-07-08T09:18:16.387Z"
   },
   {
    "duration": 211,
    "start_time": "2021-07-08T09:18:16.413Z"
   },
   {
    "duration": 18,
    "start_time": "2021-07-08T09:18:16.626Z"
   },
   {
    "duration": 596,
    "start_time": "2021-07-08T10:06:33.623Z"
   },
   {
    "duration": 181,
    "start_time": "2021-07-08T10:06:34.221Z"
   },
   {
    "duration": 176,
    "start_time": "2021-07-08T10:06:34.635Z"
   },
   {
    "duration": 239,
    "start_time": "2021-07-08T10:06:55.572Z"
   },
   {
    "duration": 6,
    "start_time": "2021-07-08T10:06:57.687Z"
   },
   {
    "duration": 4,
    "start_time": "2021-07-08T10:07:03.956Z"
   },
   {
    "duration": 4,
    "start_time": "2021-07-08T10:07:10.376Z"
   },
   {
    "duration": 4,
    "start_time": "2021-07-08T10:17:19.889Z"
   },
   {
    "duration": 3,
    "start_time": "2021-07-08T10:19:19.407Z"
   },
   {
    "duration": 197,
    "start_time": "2021-07-08T10:19:19.412Z"
   },
   {
    "duration": 127,
    "start_time": "2021-07-08T10:19:19.611Z"
   },
   {
    "duration": 4,
    "start_time": "2021-07-08T10:19:19.740Z"
   },
   {
    "duration": 27,
    "start_time": "2021-07-08T10:19:19.746Z"
   },
   {
    "duration": 7,
    "start_time": "2021-07-08T10:19:19.775Z"
   },
   {
    "duration": 30,
    "start_time": "2021-07-08T10:19:19.784Z"
   },
   {
    "duration": 7,
    "start_time": "2021-07-08T10:19:19.817Z"
   },
   {
    "duration": 26,
    "start_time": "2021-07-08T10:19:19.826Z"
   },
   {
    "duration": 18,
    "start_time": "2021-07-08T10:19:19.854Z"
   },
   {
    "duration": 14,
    "start_time": "2021-07-08T10:19:19.874Z"
   },
   {
    "duration": 48,
    "start_time": "2021-07-08T10:19:19.890Z"
   },
   {
    "duration": 17,
    "start_time": "2021-07-08T10:19:19.940Z"
   },
   {
    "duration": 38,
    "start_time": "2021-07-08T10:19:19.959Z"
   },
   {
    "duration": 8,
    "start_time": "2021-07-08T10:19:19.999Z"
   },
   {
    "duration": 15,
    "start_time": "2021-07-08T10:19:20.009Z"
   },
   {
    "duration": 22,
    "start_time": "2021-07-08T10:19:20.026Z"
   },
   {
    "duration": 10,
    "start_time": "2021-07-08T10:19:20.050Z"
   },
   {
    "duration": 10,
    "start_time": "2021-07-08T10:19:20.062Z"
   },
   {
    "duration": 20,
    "start_time": "2021-07-08T10:19:20.073Z"
   },
   {
    "duration": 29,
    "start_time": "2021-07-08T10:19:20.095Z"
   },
   {
    "duration": 17,
    "start_time": "2021-07-08T10:19:20.126Z"
   },
   {
    "duration": 40,
    "start_time": "2021-07-08T10:19:20.146Z"
   },
   {
    "duration": 15,
    "start_time": "2021-07-08T10:19:20.189Z"
   },
   {
    "duration": 19,
    "start_time": "2021-07-08T10:19:20.206Z"
   },
   {
    "duration": 10,
    "start_time": "2021-07-08T10:19:20.226Z"
   },
   {
    "duration": 11,
    "start_time": "2021-07-08T10:19:20.238Z"
   },
   {
    "duration": 297,
    "start_time": "2021-07-08T10:19:20.250Z"
   },
   {
    "duration": 6,
    "start_time": "2021-07-08T10:19:20.549Z"
   },
   {
    "duration": 191,
    "start_time": "2021-07-08T10:19:20.557Z"
   },
   {
    "duration": 19,
    "start_time": "2021-07-08T10:19:20.750Z"
   },
   {
    "duration": 20,
    "start_time": "2021-07-08T10:19:20.771Z"
   },
   {
    "duration": 15,
    "start_time": "2021-07-08T10:19:20.793Z"
   },
   {
    "duration": 222,
    "start_time": "2021-07-08T10:19:20.809Z"
   },
   {
    "duration": 20,
    "start_time": "2021-07-08T10:19:21.033Z"
   },
   {
    "duration": 27,
    "start_time": "2021-07-08T10:45:04.055Z"
   },
   {
    "duration": 8,
    "start_time": "2021-07-08T10:45:08.478Z"
   },
   {
    "duration": 8,
    "start_time": "2021-07-08T10:45:31.982Z"
   },
   {
    "duration": 10,
    "start_time": "2021-07-08T10:46:01.221Z"
   },
   {
    "duration": 17,
    "start_time": "2021-07-08T10:46:40.011Z"
   },
   {
    "duration": 193,
    "start_time": "2021-07-08T10:48:19.471Z"
   },
   {
    "duration": 225,
    "start_time": "2021-07-08T10:49:26.480Z"
   },
   {
    "duration": 204,
    "start_time": "2021-07-08T10:49:59.992Z"
   },
   {
    "duration": 435,
    "start_time": "2021-07-08T10:50:06.779Z"
   },
   {
    "duration": 199,
    "start_time": "2021-07-08T10:50:14.891Z"
   },
   {
    "duration": 204,
    "start_time": "2021-07-08T10:50:18.501Z"
   },
   {
    "duration": 244,
    "start_time": "2021-07-08T10:50:23.359Z"
   },
   {
    "duration": 192,
    "start_time": "2021-07-08T10:50:29.135Z"
   },
   {
    "duration": 218,
    "start_time": "2021-07-08T10:50:33.092Z"
   },
   {
    "duration": 207,
    "start_time": "2021-07-08T10:52:45.381Z"
   },
   {
    "duration": 5,
    "start_time": "2021-07-08T10:53:34.641Z"
   },
   {
    "duration": 196,
    "start_time": "2021-07-08T10:53:41.478Z"
   },
   {
    "duration": 43,
    "start_time": "2021-07-08T10:53:50.335Z"
   },
   {
    "duration": 32,
    "start_time": "2021-07-08T10:53:55.294Z"
   },
   {
    "duration": 55,
    "start_time": "2021-07-08T10:54:09.675Z"
   },
   {
    "duration": 16,
    "start_time": "2021-07-08T10:54:12.260Z"
   },
   {
    "duration": 15,
    "start_time": "2021-07-08T10:54:49.150Z"
   },
   {
    "duration": 20,
    "start_time": "2021-07-08T10:56:07.596Z"
   },
   {
    "duration": 16,
    "start_time": "2021-07-08T10:58:26.276Z"
   },
   {
    "duration": 22,
    "start_time": "2021-07-08T10:59:00.486Z"
   },
   {
    "duration": 18,
    "start_time": "2021-07-08T11:02:09.653Z"
   },
   {
    "duration": 10,
    "start_time": "2021-07-08T11:03:44.331Z"
   },
   {
    "duration": 10,
    "start_time": "2021-07-08T11:03:54.055Z"
   },
   {
    "duration": 12,
    "start_time": "2021-07-08T11:04:41.967Z"
   },
   {
    "duration": 24,
    "start_time": "2021-07-08T11:07:30.732Z"
   },
   {
    "duration": 6,
    "start_time": "2021-07-08T11:07:37.364Z"
   },
   {
    "duration": 16,
    "start_time": "2021-07-08T11:08:01.819Z"
   },
   {
    "duration": 17,
    "start_time": "2021-07-08T11:09:47.488Z"
   },
   {
    "duration": 246,
    "start_time": "2021-07-08T11:10:00.830Z"
   },
   {
    "duration": 18,
    "start_time": "2021-07-08T11:13:55.195Z"
   },
   {
    "duration": 204,
    "start_time": "2021-07-08T11:14:04.951Z"
   },
   {
    "duration": 19,
    "start_time": "2021-07-08T11:15:10.613Z"
   },
   {
    "duration": 680,
    "start_time": "2021-07-08T11:16:25.793Z"
   },
   {
    "duration": 451,
    "start_time": "2021-07-08T11:16:40.313Z"
   },
   {
    "duration": 469,
    "start_time": "2021-07-08T11:17:21.286Z"
   },
   {
    "duration": 20,
    "start_time": "2021-07-08T11:19:12.554Z"
   },
   {
    "duration": 35,
    "start_time": "2021-07-08T11:20:05.484Z"
   },
   {
    "duration": 53,
    "start_time": "2021-07-08T11:21:40.050Z"
   },
   {
    "duration": 13,
    "start_time": "2021-07-08T11:22:26.059Z"
   },
   {
    "duration": 19,
    "start_time": "2021-07-08T11:22:47.419Z"
   },
   {
    "duration": 25,
    "start_time": "2021-07-08T11:23:19.958Z"
   },
   {
    "duration": 29,
    "start_time": "2021-07-08T11:23:25.415Z"
   },
   {
    "duration": 10,
    "start_time": "2021-07-08T11:24:45.138Z"
   },
   {
    "duration": 19,
    "start_time": "2021-07-08T11:24:54.498Z"
   },
   {
    "duration": 12,
    "start_time": "2021-07-08T11:25:32.225Z"
   },
   {
    "duration": 19,
    "start_time": "2021-07-08T11:25:37.092Z"
   },
   {
    "duration": 17,
    "start_time": "2021-07-08T11:25:58.116Z"
   },
   {
    "duration": 15,
    "start_time": "2021-07-08T11:26:02.258Z"
   },
   {
    "duration": 8,
    "start_time": "2021-07-08T11:26:59.682Z"
   },
   {
    "duration": 184,
    "start_time": "2021-07-08T11:27:21.894Z"
   },
   {
    "duration": 8,
    "start_time": "2021-07-08T11:27:23.824Z"
   },
   {
    "duration": 202,
    "start_time": "2021-07-08T11:27:23.962Z"
   },
   {
    "duration": 360,
    "start_time": "2021-07-08T11:28:33.215Z"
   },
   {
    "duration": 231,
    "start_time": "2021-07-08T11:32:05.542Z"
   },
   {
    "duration": 607,
    "start_time": "2021-07-08T11:36:27.854Z"
   },
   {
    "duration": 241,
    "start_time": "2021-07-08T11:36:28.463Z"
   },
   {
    "duration": 67,
    "start_time": "2021-07-08T11:36:28.709Z"
   },
   {
    "duration": 5,
    "start_time": "2021-07-08T11:36:28.778Z"
   },
   {
    "duration": 32,
    "start_time": "2021-07-08T11:36:28.784Z"
   },
   {
    "duration": 11,
    "start_time": "2021-07-08T11:36:28.819Z"
   },
   {
    "duration": 20,
    "start_time": "2021-07-08T11:36:28.834Z"
   },
   {
    "duration": 36,
    "start_time": "2021-07-08T11:36:28.857Z"
   },
   {
    "duration": 16,
    "start_time": "2021-07-08T11:36:28.895Z"
   },
   {
    "duration": 14,
    "start_time": "2021-07-08T11:36:28.913Z"
   },
   {
    "duration": 9,
    "start_time": "2021-07-08T11:36:28.930Z"
   },
   {
    "duration": 55,
    "start_time": "2021-07-08T11:36:28.941Z"
   },
   {
    "duration": 27,
    "start_time": "2021-07-08T11:36:28.999Z"
   },
   {
    "duration": 30,
    "start_time": "2021-07-08T11:36:29.028Z"
   },
   {
    "duration": 31,
    "start_time": "2021-07-08T11:36:29.060Z"
   },
   {
    "duration": 3,
    "start_time": "2021-07-08T11:36:29.093Z"
   },
   {
    "duration": 12,
    "start_time": "2021-07-08T11:36:29.099Z"
   },
   {
    "duration": 11,
    "start_time": "2021-07-08T11:36:29.112Z"
   },
   {
    "duration": 12,
    "start_time": "2021-07-08T11:36:29.125Z"
   },
   {
    "duration": 9,
    "start_time": "2021-07-08T11:36:29.139Z"
   },
   {
    "duration": 31,
    "start_time": "2021-07-08T11:36:29.191Z"
   },
   {
    "duration": 17,
    "start_time": "2021-07-08T11:36:29.226Z"
   },
   {
    "duration": 7,
    "start_time": "2021-07-08T11:36:29.245Z"
   },
   {
    "duration": 10,
    "start_time": "2021-07-08T11:36:29.254Z"
   },
   {
    "duration": 30,
    "start_time": "2021-07-08T11:36:29.292Z"
   },
   {
    "duration": 11,
    "start_time": "2021-07-08T11:36:29.324Z"
   },
   {
    "duration": 11,
    "start_time": "2021-07-08T11:36:29.337Z"
   },
   {
    "duration": 230,
    "start_time": "2021-07-08T11:36:29.349Z"
   },
   {
    "duration": 13,
    "start_time": "2021-07-08T11:36:29.588Z"
   },
   {
    "duration": 205,
    "start_time": "2021-07-08T11:36:29.603Z"
   },
   {
    "duration": 20,
    "start_time": "2021-07-08T11:36:29.810Z"
   },
   {
    "duration": 9,
    "start_time": "2021-07-08T11:36:29.832Z"
   },
   {
    "duration": 16,
    "start_time": "2021-07-08T11:36:29.843Z"
   },
   {
    "duration": 283,
    "start_time": "2021-07-08T11:36:29.861Z"
   },
   {
    "duration": 50,
    "start_time": "2021-07-08T11:36:30.146Z"
   },
   {
    "duration": 14,
    "start_time": "2021-07-08T11:36:30.198Z"
   },
   {
    "duration": 11,
    "start_time": "2021-07-08T11:36:30.214Z"
   },
   {
    "duration": 245,
    "start_time": "2021-07-08T11:36:30.227Z"
   },
   {
    "duration": 439,
    "start_time": "2021-07-08T11:36:30.474Z"
   },
   {
    "duration": 210,
    "start_time": "2021-07-08T11:36:30.915Z"
   },
   {
    "duration": 15,
    "start_time": "2021-07-08T11:36:31.127Z"
   },
   {
    "duration": 17,
    "start_time": "2021-07-08T11:38:20.451Z"
   },
   {
    "duration": 642,
    "start_time": "2021-07-08T11:46:17.881Z"
   },
   {
    "duration": 210,
    "start_time": "2021-07-08T11:46:18.525Z"
   },
   {
    "duration": 104,
    "start_time": "2021-07-08T11:46:18.741Z"
   },
   {
    "duration": 8,
    "start_time": "2021-07-08T11:46:18.847Z"
   },
   {
    "duration": 25,
    "start_time": "2021-07-08T11:46:18.857Z"
   },
   {
    "duration": 14,
    "start_time": "2021-07-08T11:46:18.884Z"
   },
   {
    "duration": 22,
    "start_time": "2021-07-08T11:46:18.900Z"
   },
   {
    "duration": 5,
    "start_time": "2021-07-08T11:46:18.924Z"
   },
   {
    "duration": 13,
    "start_time": "2021-07-08T11:46:18.931Z"
   },
   {
    "duration": 45,
    "start_time": "2021-07-08T11:46:18.946Z"
   },
   {
    "duration": 12,
    "start_time": "2021-07-08T11:46:18.993Z"
   },
   {
    "duration": 38,
    "start_time": "2021-07-08T11:46:19.006Z"
   },
   {
    "duration": 50,
    "start_time": "2021-07-08T11:46:19.046Z"
   },
   {
    "duration": 29,
    "start_time": "2021-07-08T11:46:19.099Z"
   },
   {
    "duration": 7,
    "start_time": "2021-07-08T11:46:19.130Z"
   },
   {
    "duration": 3,
    "start_time": "2021-07-08T11:46:19.139Z"
   },
   {
    "duration": 11,
    "start_time": "2021-07-08T11:46:19.144Z"
   },
   {
    "duration": 40,
    "start_time": "2021-07-08T11:46:19.157Z"
   },
   {
    "duration": 15,
    "start_time": "2021-07-08T11:46:19.199Z"
   },
   {
    "duration": 10,
    "start_time": "2021-07-08T11:46:19.217Z"
   },
   {
    "duration": 68,
    "start_time": "2021-07-08T11:46:19.230Z"
   },
   {
    "duration": 17,
    "start_time": "2021-07-08T11:46:19.301Z"
   },
   {
    "duration": 7,
    "start_time": "2021-07-08T11:46:19.321Z"
   },
   {
    "duration": 11,
    "start_time": "2021-07-08T11:46:19.330Z"
   },
   {
    "duration": 59,
    "start_time": "2021-07-08T11:46:19.343Z"
   },
   {
    "duration": 17,
    "start_time": "2021-07-08T11:46:19.405Z"
   },
   {
    "duration": 16,
    "start_time": "2021-07-08T11:46:19.424Z"
   },
   {
    "duration": 252,
    "start_time": "2021-07-08T11:46:19.443Z"
   },
   {
    "duration": 9,
    "start_time": "2021-07-08T11:46:19.697Z"
   },
   {
    "duration": 224,
    "start_time": "2021-07-08T11:46:19.708Z"
   },
   {
    "duration": 21,
    "start_time": "2021-07-08T11:46:19.934Z"
   },
   {
    "duration": 9,
    "start_time": "2021-07-08T11:46:19.956Z"
   },
   {
    "duration": 32,
    "start_time": "2021-07-08T11:46:19.967Z"
   },
   {
    "duration": 288,
    "start_time": "2021-07-08T11:46:20.004Z"
   },
   {
    "duration": 23,
    "start_time": "2021-07-08T11:46:20.300Z"
   },
   {
    "duration": 11,
    "start_time": "2021-07-08T11:46:20.325Z"
   },
   {
    "duration": 11,
    "start_time": "2021-07-08T11:46:20.339Z"
   },
   {
    "duration": 259,
    "start_time": "2021-07-08T11:46:20.352Z"
   },
   {
    "duration": 438,
    "start_time": "2021-07-08T11:46:20.613Z"
   },
   {
    "duration": 207,
    "start_time": "2021-07-08T11:46:21.054Z"
   },
   {
    "duration": 27,
    "start_time": "2021-07-08T11:46:21.262Z"
   },
   {
    "duration": 19,
    "start_time": "2021-07-08T11:46:21.291Z"
   },
   {
    "duration": 820,
    "start_time": "2021-07-08T11:49:01.655Z"
   },
   {
    "duration": 372,
    "start_time": "2021-07-08T11:49:02.478Z"
   },
   {
    "duration": 98,
    "start_time": "2021-07-08T11:49:02.853Z"
   },
   {
    "duration": 6,
    "start_time": "2021-07-08T11:49:02.953Z"
   },
   {
    "duration": 39,
    "start_time": "2021-07-08T11:49:02.960Z"
   },
   {
    "duration": 9,
    "start_time": "2021-07-08T11:49:03.003Z"
   },
   {
    "duration": 23,
    "start_time": "2021-07-08T11:49:03.014Z"
   },
   {
    "duration": 6,
    "start_time": "2021-07-08T11:49:03.041Z"
   },
   {
    "duration": 20,
    "start_time": "2021-07-08T11:49:03.049Z"
   },
   {
    "duration": 18,
    "start_time": "2021-07-08T11:49:03.084Z"
   },
   {
    "duration": 14,
    "start_time": "2021-07-08T11:49:03.104Z"
   },
   {
    "duration": 39,
    "start_time": "2021-07-08T11:49:03.119Z"
   },
   {
    "duration": 38,
    "start_time": "2021-07-08T11:49:03.160Z"
   },
   {
    "duration": 26,
    "start_time": "2021-07-08T11:49:03.200Z"
   },
   {
    "duration": 7,
    "start_time": "2021-07-08T11:49:03.227Z"
   },
   {
    "duration": 4,
    "start_time": "2021-07-08T11:49:03.236Z"
   },
   {
    "duration": 15,
    "start_time": "2021-07-08T11:49:03.243Z"
   },
   {
    "duration": 21,
    "start_time": "2021-07-08T11:49:03.285Z"
   },
   {
    "duration": 17,
    "start_time": "2021-07-08T11:49:03.309Z"
   },
   {
    "duration": 10,
    "start_time": "2021-07-08T11:49:03.328Z"
   },
   {
    "duration": 65,
    "start_time": "2021-07-08T11:49:03.340Z"
   },
   {
    "duration": 18,
    "start_time": "2021-07-08T11:49:03.407Z"
   },
   {
    "duration": 8,
    "start_time": "2021-07-08T11:49:03.428Z"
   },
   {
    "duration": 15,
    "start_time": "2021-07-08T11:49:03.438Z"
   },
   {
    "duration": 40,
    "start_time": "2021-07-08T11:49:03.455Z"
   },
   {
    "duration": 12,
    "start_time": "2021-07-08T11:49:03.497Z"
   },
   {
    "duration": 29,
    "start_time": "2021-07-08T11:49:03.511Z"
   },
   {
    "duration": 285,
    "start_time": "2021-07-08T11:49:03.542Z"
   },
   {
    "duration": 8,
    "start_time": "2021-07-08T11:49:03.829Z"
   },
   {
    "duration": 227,
    "start_time": "2021-07-08T11:49:03.838Z"
   },
   {
    "duration": 40,
    "start_time": "2021-07-08T11:49:04.066Z"
   },
   {
    "duration": 10,
    "start_time": "2021-07-08T11:49:04.108Z"
   },
   {
    "duration": 26,
    "start_time": "2021-07-08T11:49:04.121Z"
   },
   {
    "duration": 290,
    "start_time": "2021-07-08T11:49:04.149Z"
   },
   {
    "duration": 26,
    "start_time": "2021-07-08T11:49:04.441Z"
   },
   {
    "duration": 31,
    "start_time": "2021-07-08T11:49:04.470Z"
   },
   {
    "duration": 14,
    "start_time": "2021-07-08T11:49:04.503Z"
   },
   {
    "duration": 259,
    "start_time": "2021-07-08T11:49:04.521Z"
   },
   {
    "duration": 480,
    "start_time": "2021-07-08T11:49:04.782Z"
   },
   {
    "duration": 225,
    "start_time": "2021-07-08T11:49:05.264Z"
   },
   {
    "duration": 22,
    "start_time": "2021-07-08T11:49:05.491Z"
   },
   {
    "duration": 24,
    "start_time": "2021-07-08T11:49:05.515Z"
   },
   {
    "duration": 634,
    "start_time": "2021-07-08T11:52:24.960Z"
   },
   {
    "duration": 199,
    "start_time": "2021-07-08T11:52:25.599Z"
   },
   {
    "duration": 106,
    "start_time": "2021-07-08T11:52:25.803Z"
   },
   {
    "duration": 7,
    "start_time": "2021-07-08T11:52:25.911Z"
   },
   {
    "duration": 29,
    "start_time": "2021-07-08T11:52:25.920Z"
   },
   {
    "duration": 7,
    "start_time": "2021-07-08T11:52:25.951Z"
   },
   {
    "duration": 26,
    "start_time": "2021-07-08T11:52:25.961Z"
   },
   {
    "duration": 11,
    "start_time": "2021-07-08T11:52:25.990Z"
   },
   {
    "duration": 29,
    "start_time": "2021-07-08T11:52:26.005Z"
   },
   {
    "duration": 9,
    "start_time": "2021-07-08T11:52:26.036Z"
   },
   {
    "duration": 8,
    "start_time": "2021-07-08T11:52:26.047Z"
   },
   {
    "duration": 63,
    "start_time": "2021-07-08T11:52:26.057Z"
   },
   {
    "duration": 17,
    "start_time": "2021-07-08T11:52:26.122Z"
   },
   {
    "duration": 43,
    "start_time": "2021-07-08T11:52:26.142Z"
   },
   {
    "duration": 17,
    "start_time": "2021-07-08T11:52:26.187Z"
   },
   {
    "duration": 5,
    "start_time": "2021-07-08T11:52:26.206Z"
   },
   {
    "duration": 12,
    "start_time": "2021-07-08T11:52:26.212Z"
   },
   {
    "duration": 11,
    "start_time": "2021-07-08T11:52:26.226Z"
   },
   {
    "duration": 12,
    "start_time": "2021-07-08T11:52:26.238Z"
   },
   {
    "duration": 38,
    "start_time": "2021-07-08T11:52:26.252Z"
   },
   {
    "duration": 40,
    "start_time": "2021-07-08T11:52:26.292Z"
   },
   {
    "duration": 17,
    "start_time": "2021-07-08T11:52:26.336Z"
   },
   {
    "duration": 39,
    "start_time": "2021-07-08T11:52:26.355Z"
   },
   {
    "duration": 11,
    "start_time": "2021-07-08T11:52:26.395Z"
   },
   {
    "duration": 23,
    "start_time": "2021-07-08T11:52:26.408Z"
   },
   {
    "duration": 12,
    "start_time": "2021-07-08T11:52:26.432Z"
   },
   {
    "duration": 41,
    "start_time": "2021-07-08T11:52:26.446Z"
   },
   {
    "duration": 215,
    "start_time": "2021-07-08T11:52:26.493Z"
   },
   {
    "duration": 8,
    "start_time": "2021-07-08T11:52:26.710Z"
   },
   {
    "duration": 228,
    "start_time": "2021-07-08T11:52:26.720Z"
   },
   {
    "duration": 18,
    "start_time": "2021-07-08T11:52:26.950Z"
   },
   {
    "duration": 35,
    "start_time": "2021-07-08T11:52:26.969Z"
   },
   {
    "duration": 23,
    "start_time": "2021-07-08T11:52:27.006Z"
   },
   {
    "duration": 258,
    "start_time": "2021-07-08T11:52:27.030Z"
   },
   {
    "duration": 24,
    "start_time": "2021-07-08T11:52:27.290Z"
   },
   {
    "duration": 12,
    "start_time": "2021-07-08T11:52:27.316Z"
   },
   {
    "duration": 10,
    "start_time": "2021-07-08T11:52:27.329Z"
   },
   {
    "duration": 298,
    "start_time": "2021-07-08T11:52:27.341Z"
   },
   {
    "duration": 436,
    "start_time": "2021-07-08T11:52:27.641Z"
   },
   {
    "duration": 216,
    "start_time": "2021-07-08T11:52:28.079Z"
   },
   {
    "duration": 20,
    "start_time": "2021-07-08T11:52:28.297Z"
   },
   {
    "duration": 17,
    "start_time": "2021-07-08T11:52:28.319Z"
   },
   {
    "duration": 400,
    "start_time": "2025-03-17T08:36:09.166Z"
   },
   {
    "duration": 114,
    "start_time": "2025-03-17T08:36:09.893Z"
   },
   {
    "duration": 22,
    "start_time": "2025-03-17T08:36:10.981Z"
   },
   {
    "duration": 22,
    "start_time": "2025-03-17T08:36:25.197Z"
   },
   {
    "duration": 20,
    "start_time": "2025-03-17T08:37:47.803Z"
   },
   {
    "duration": 65,
    "start_time": "2025-03-17T08:38:36.345Z"
   },
   {
    "duration": 7,
    "start_time": "2025-03-17T08:38:42.833Z"
   },
   {
    "duration": 10,
    "start_time": "2025-03-17T09:09:46.385Z"
   },
   {
    "duration": 15,
    "start_time": "2025-03-17T09:09:51.393Z"
   },
   {
    "duration": 7,
    "start_time": "2025-03-17T09:12:16.341Z"
   },
   {
    "duration": 13,
    "start_time": "2025-03-17T09:12:37.453Z"
   },
   {
    "duration": 7,
    "start_time": "2025-03-17T09:16:49.950Z"
   },
   {
    "duration": 12,
    "start_time": "2025-03-17T09:16:53.767Z"
   },
   {
    "duration": 244,
    "start_time": "2025-03-17T09:17:26.389Z"
   },
   {
    "duration": 12,
    "start_time": "2025-03-17T09:22:31.181Z"
   },
   {
    "duration": 8,
    "start_time": "2025-03-17T09:22:52.244Z"
   },
   {
    "duration": 8,
    "start_time": "2025-03-17T09:29:37.709Z"
   },
   {
    "duration": 7,
    "start_time": "2025-03-17T09:29:48.995Z"
   },
   {
    "duration": 6,
    "start_time": "2025-03-17T09:31:04.360Z"
   },
   {
    "duration": 14,
    "start_time": "2025-03-17T09:32:03.000Z"
   },
   {
    "duration": 4,
    "start_time": "2025-03-17T09:33:45.285Z"
   },
   {
    "duration": 11,
    "start_time": "2025-03-17T09:33:54.893Z"
   },
   {
    "duration": 17,
    "start_time": "2025-03-17T09:34:16.420Z"
   },
   {
    "duration": 123,
    "start_time": "2025-03-17T09:34:38.883Z"
   },
   {
    "duration": 109,
    "start_time": "2025-03-17T09:35:05.699Z"
   },
   {
    "duration": 6,
    "start_time": "2025-03-17T09:45:58.659Z"
   },
   {
    "duration": 9,
    "start_time": "2025-03-17T09:46:17.238Z"
   },
   {
    "duration": 9,
    "start_time": "2025-03-17T09:46:25.019Z"
   },
   {
    "duration": 13,
    "start_time": "2025-03-17T09:47:02.954Z"
   },
   {
    "duration": 6,
    "start_time": "2025-03-17T09:47:44.961Z"
   },
   {
    "duration": 7,
    "start_time": "2025-03-17T09:47:55.823Z"
   },
   {
    "duration": 31,
    "start_time": "2025-03-17T09:48:01.937Z"
   },
   {
    "duration": 16,
    "start_time": "2025-03-17T09:48:35.871Z"
   },
   {
    "duration": 12,
    "start_time": "2025-03-17T09:48:54.575Z"
   },
   {
    "duration": 16,
    "start_time": "2025-03-17T09:49:03.991Z"
   },
   {
    "duration": 126,
    "start_time": "2025-03-17T11:39:49.019Z"
   },
   {
    "duration": 15,
    "start_time": "2025-03-17T11:39:51.970Z"
   },
   {
    "duration": 10,
    "start_time": "2025-03-17T11:39:54.139Z"
   },
   {
    "duration": 264,
    "start_time": "2025-03-17T11:47:37.006Z"
   },
   {
    "duration": 14,
    "start_time": "2025-03-17T11:52:31.042Z"
   },
   {
    "duration": 7,
    "start_time": "2025-03-17T11:54:16.967Z"
   },
   {
    "duration": 4,
    "start_time": "2025-03-17T11:54:24.690Z"
   },
   {
    "duration": 5,
    "start_time": "2025-03-17T11:54:33.695Z"
   },
   {
    "duration": 6,
    "start_time": "2025-03-17T11:54:46.576Z"
   },
   {
    "duration": 6,
    "start_time": "2025-03-17T11:55:05.087Z"
   },
   {
    "duration": 6,
    "start_time": "2025-03-17T11:56:10.238Z"
   },
   {
    "duration": 7,
    "start_time": "2025-03-17T11:56:31.952Z"
   },
   {
    "duration": 7,
    "start_time": "2025-03-17T11:57:19.261Z"
   },
   {
    "duration": 6,
    "start_time": "2025-03-17T11:57:20.855Z"
   },
   {
    "duration": 12,
    "start_time": "2025-03-17T11:57:25.374Z"
   },
   {
    "duration": 15,
    "start_time": "2025-03-17T12:00:55.971Z"
   },
   {
    "duration": 16,
    "start_time": "2025-03-17T12:01:48.754Z"
   },
   {
    "duration": 17,
    "start_time": "2025-03-17T12:19:21.956Z"
   },
   {
    "duration": 12,
    "start_time": "2025-03-17T12:19:45.980Z"
   },
   {
    "duration": 15,
    "start_time": "2025-03-17T12:19:47.844Z"
   },
   {
    "duration": 16,
    "start_time": "2025-03-17T12:19:59.021Z"
   },
   {
    "duration": 428,
    "start_time": "2025-03-17T19:35:15.875Z"
   },
   {
    "duration": 198,
    "start_time": "2025-03-17T19:35:17.534Z"
   },
   {
    "duration": 15,
    "start_time": "2025-03-17T19:35:26.641Z"
   },
   {
    "duration": 33,
    "start_time": "2025-03-17T19:35:29.690Z"
   },
   {
    "duration": 6,
    "start_time": "2025-03-17T19:36:30.720Z"
   },
   {
    "duration": 8,
    "start_time": "2025-03-17T19:36:32.249Z"
   },
   {
    "duration": 11,
    "start_time": "2025-03-17T19:36:32.901Z"
   },
   {
    "duration": 18,
    "start_time": "2025-03-17T19:36:34.465Z"
   },
   {
    "duration": 15,
    "start_time": "2025-03-17T19:36:38.878Z"
   },
   {
    "duration": 14,
    "start_time": "2025-03-17T19:56:45.940Z"
   },
   {
    "duration": 18,
    "start_time": "2025-03-17T19:56:47.758Z"
   },
   {
    "duration": 76,
    "start_time": "2025-03-17T19:58:21.420Z"
   },
   {
    "duration": 79,
    "start_time": "2025-03-17T20:01:32.249Z"
   },
   {
    "duration": 19,
    "start_time": "2025-03-17T20:02:09.259Z"
   },
   {
    "duration": 7,
    "start_time": "2025-03-17T20:02:51.709Z"
   },
   {
    "duration": 5,
    "start_time": "2025-03-17T20:08:34.098Z"
   },
   {
    "duration": 17,
    "start_time": "2025-03-17T20:08:44.715Z"
   },
   {
    "duration": 19,
    "start_time": "2025-03-17T20:08:48.852Z"
   },
   {
    "duration": 23,
    "start_time": "2025-03-17T20:09:10.397Z"
   },
   {
    "duration": 8,
    "start_time": "2025-03-17T20:20:52.357Z"
   },
   {
    "duration": 16,
    "start_time": "2025-03-17T20:20:57.416Z"
   },
   {
    "duration": 6,
    "start_time": "2025-03-17T20:21:08.238Z"
   },
   {
    "duration": 5,
    "start_time": "2025-03-17T20:22:00.669Z"
   },
   {
    "duration": 423,
    "start_time": "2025-03-18T04:53:45.462Z"
   },
   {
    "duration": 129,
    "start_time": "2025-03-18T04:53:47.908Z"
   },
   {
    "duration": 23,
    "start_time": "2025-03-18T04:54:03.952Z"
   },
   {
    "duration": 7,
    "start_time": "2025-03-18T04:54:07.493Z"
   },
   {
    "duration": 5,
    "start_time": "2025-03-18T04:54:07.996Z"
   },
   {
    "duration": 12,
    "start_time": "2025-03-18T04:54:08.604Z"
   },
   {
    "duration": 17,
    "start_time": "2025-03-18T04:55:27.132Z"
   },
   {
    "duration": 6,
    "start_time": "2025-03-18T04:55:27.927Z"
   },
   {
    "duration": 5,
    "start_time": "2025-03-18T04:55:37.855Z"
   },
   {
    "duration": 8,
    "start_time": "2025-03-18T04:55:59.530Z"
   },
   {
    "duration": 24,
    "start_time": "2025-03-18T04:59:18.090Z"
   },
   {
    "duration": 11,
    "start_time": "2025-03-18T04:59:32.963Z"
   },
   {
    "duration": 16,
    "start_time": "2025-03-18T05:05:22.868Z"
   },
   {
    "duration": 16,
    "start_time": "2025-03-18T05:05:40.002Z"
   },
   {
    "duration": 4,
    "start_time": "2025-03-18T05:15:07.026Z"
   },
   {
    "duration": 18,
    "start_time": "2025-03-18T05:15:14.015Z"
   },
   {
    "duration": 24,
    "start_time": "2025-03-18T05:17:38.444Z"
   },
   {
    "duration": 16,
    "start_time": "2025-03-18T05:23:39.494Z"
   },
   {
    "duration": 20,
    "start_time": "2025-03-18T05:23:40.778Z"
   },
   {
    "duration": 15,
    "start_time": "2025-03-18T05:26:26.395Z"
   },
   {
    "duration": 10,
    "start_time": "2025-03-18T05:26:36.654Z"
   },
   {
    "duration": 10,
    "start_time": "2025-03-18T05:26:43.201Z"
   },
   {
    "duration": 11,
    "start_time": "2025-03-18T05:26:52.069Z"
   },
   {
    "duration": 11,
    "start_time": "2025-03-18T05:27:00.557Z"
   },
   {
    "duration": 10,
    "start_time": "2025-03-18T05:27:05.076Z"
   },
   {
    "duration": 11,
    "start_time": "2025-03-18T05:27:12.035Z"
   },
   {
    "duration": 11,
    "start_time": "2025-03-18T05:27:16.809Z"
   },
   {
    "duration": 5,
    "start_time": "2025-03-18T05:33:51.720Z"
   },
   {
    "duration": 34,
    "start_time": "2025-03-18T05:54:05.439Z"
   },
   {
    "duration": 5,
    "start_time": "2025-03-18T06:14:23.487Z"
   },
   {
    "duration": 4,
    "start_time": "2025-03-18T06:22:56.727Z"
   },
   {
    "duration": 11,
    "start_time": "2025-03-18T06:23:04.320Z"
   },
   {
    "duration": 10,
    "start_time": "2025-03-18T06:28:58.425Z"
   },
   {
    "duration": 18,
    "start_time": "2025-03-18T06:29:06.352Z"
   },
   {
    "duration": 4,
    "start_time": "2025-03-18T06:29:24.576Z"
   },
   {
    "duration": 18,
    "start_time": "2025-03-18T06:29:28.014Z"
   },
   {
    "duration": 4,
    "start_time": "2025-03-18T06:31:42.045Z"
   },
   {
    "duration": 15,
    "start_time": "2025-03-18T06:31:45.726Z"
   },
   {
    "duration": 10,
    "start_time": "2025-03-18T06:31:49.882Z"
   },
   {
    "duration": 8,
    "start_time": "2025-03-18T06:41:40.619Z"
   },
   {
    "duration": 11,
    "start_time": "2025-03-18T06:41:45.984Z"
   },
   {
    "duration": 6,
    "start_time": "2025-03-18T06:48:38.590Z"
   },
   {
    "duration": 12,
    "start_time": "2025-03-18T06:48:44.226Z"
   },
   {
    "duration": 7,
    "start_time": "2025-03-18T06:51:39.317Z"
   },
   {
    "duration": 28,
    "start_time": "2025-03-18T06:51:50.835Z"
   },
   {
    "duration": 18,
    "start_time": "2025-03-18T06:52:04.828Z"
   },
   {
    "duration": 21,
    "start_time": "2025-03-18T06:53:11.748Z"
   },
   {
    "duration": 445,
    "start_time": "2025-03-18T17:33:42.643Z"
   },
   {
    "duration": 136,
    "start_time": "2025-03-18T17:33:43.091Z"
   },
   {
    "duration": 17,
    "start_time": "2025-03-18T17:33:43.228Z"
   },
   {
    "duration": 11,
    "start_time": "2025-03-18T17:33:43.248Z"
   },
   {
    "duration": 23,
    "start_time": "2025-03-18T17:33:43.261Z"
   },
   {
    "duration": 8,
    "start_time": "2025-03-18T17:33:43.286Z"
   },
   {
    "duration": 385,
    "start_time": "2025-03-18T17:33:43.296Z"
   },
   {
    "duration": 0,
    "start_time": "2025-03-18T17:33:43.686Z"
   },
   {
    "duration": 0,
    "start_time": "2025-03-18T17:33:43.687Z"
   },
   {
    "duration": 0,
    "start_time": "2025-03-18T17:33:43.688Z"
   },
   {
    "duration": 0,
    "start_time": "2025-03-18T17:33:43.689Z"
   },
   {
    "duration": 0,
    "start_time": "2025-03-18T17:33:43.691Z"
   },
   {
    "duration": 0,
    "start_time": "2025-03-18T17:33:43.692Z"
   },
   {
    "duration": 0,
    "start_time": "2025-03-18T17:33:43.692Z"
   },
   {
    "duration": 0,
    "start_time": "2025-03-18T17:33:43.694Z"
   },
   {
    "duration": 0,
    "start_time": "2025-03-18T17:33:43.695Z"
   },
   {
    "duration": 0,
    "start_time": "2025-03-18T17:33:43.697Z"
   },
   {
    "duration": 0,
    "start_time": "2025-03-18T17:33:43.698Z"
   },
   {
    "duration": 0,
    "start_time": "2025-03-18T17:33:43.699Z"
   },
   {
    "duration": 0,
    "start_time": "2025-03-18T17:33:43.700Z"
   },
   {
    "duration": 0,
    "start_time": "2025-03-18T17:33:43.702Z"
   },
   {
    "duration": 0,
    "start_time": "2025-03-18T17:33:43.704Z"
   },
   {
    "duration": 0,
    "start_time": "2025-03-18T17:33:43.705Z"
   },
   {
    "duration": 0,
    "start_time": "2025-03-18T17:33:43.706Z"
   },
   {
    "duration": 0,
    "start_time": "2025-03-18T17:33:43.707Z"
   },
   {
    "duration": 0,
    "start_time": "2025-03-18T17:33:43.709Z"
   },
   {
    "duration": 0,
    "start_time": "2025-03-18T17:33:43.710Z"
   },
   {
    "duration": 0,
    "start_time": "2025-03-18T17:33:43.712Z"
   },
   {
    "duration": 0,
    "start_time": "2025-03-18T17:33:43.713Z"
   },
   {
    "duration": 0,
    "start_time": "2025-03-18T17:33:43.715Z"
   },
   {
    "duration": 411,
    "start_time": "2025-03-18T18:15:55.173Z"
   },
   {
    "duration": 122,
    "start_time": "2025-03-18T18:15:55.586Z"
   },
   {
    "duration": 18,
    "start_time": "2025-03-18T18:15:55.710Z"
   },
   {
    "duration": 11,
    "start_time": "2025-03-18T18:15:55.730Z"
   },
   {
    "duration": 36,
    "start_time": "2025-03-18T18:15:55.743Z"
   },
   {
    "duration": 7,
    "start_time": "2025-03-18T18:15:55.780Z"
   },
   {
    "duration": 454,
    "start_time": "2025-03-18T18:15:55.789Z"
   },
   {
    "duration": 0,
    "start_time": "2025-03-18T18:15:56.247Z"
   },
   {
    "duration": 0,
    "start_time": "2025-03-18T18:15:56.249Z"
   },
   {
    "duration": 0,
    "start_time": "2025-03-18T18:15:56.250Z"
   },
   {
    "duration": 0,
    "start_time": "2025-03-18T18:15:56.251Z"
   },
   {
    "duration": 0,
    "start_time": "2025-03-18T18:15:56.253Z"
   },
   {
    "duration": 0,
    "start_time": "2025-03-18T18:15:56.254Z"
   },
   {
    "duration": 0,
    "start_time": "2025-03-18T18:15:56.255Z"
   },
   {
    "duration": 0,
    "start_time": "2025-03-18T18:15:56.256Z"
   },
   {
    "duration": 0,
    "start_time": "2025-03-18T18:15:56.257Z"
   },
   {
    "duration": 0,
    "start_time": "2025-03-18T18:15:56.258Z"
   },
   {
    "duration": 0,
    "start_time": "2025-03-18T18:15:56.259Z"
   },
   {
    "duration": 0,
    "start_time": "2025-03-18T18:15:56.260Z"
   },
   {
    "duration": 0,
    "start_time": "2025-03-18T18:15:56.262Z"
   },
   {
    "duration": 0,
    "start_time": "2025-03-18T18:15:56.263Z"
   },
   {
    "duration": 0,
    "start_time": "2025-03-18T18:15:56.264Z"
   },
   {
    "duration": 0,
    "start_time": "2025-03-18T18:15:56.265Z"
   },
   {
    "duration": 0,
    "start_time": "2025-03-18T18:15:56.266Z"
   },
   {
    "duration": 0,
    "start_time": "2025-03-18T18:15:56.267Z"
   },
   {
    "duration": 0,
    "start_time": "2025-03-18T18:15:56.268Z"
   },
   {
    "duration": 0,
    "start_time": "2025-03-18T18:15:56.269Z"
   },
   {
    "duration": 0,
    "start_time": "2025-03-18T18:15:56.271Z"
   },
   {
    "duration": 0,
    "start_time": "2025-03-18T18:15:56.272Z"
   },
   {
    "duration": 0,
    "start_time": "2025-03-18T18:15:56.273Z"
   },
   {
    "duration": 1249,
    "start_time": "2025-03-18T18:16:04.944Z"
   },
   {
    "duration": 414,
    "start_time": "2025-03-18T18:16:36.971Z"
   },
   {
    "duration": 121,
    "start_time": "2025-03-18T18:16:37.387Z"
   },
   {
    "duration": 18,
    "start_time": "2025-03-18T18:16:37.510Z"
   },
   {
    "duration": 22,
    "start_time": "2025-03-18T18:16:37.530Z"
   },
   {
    "duration": 22,
    "start_time": "2025-03-18T18:16:37.554Z"
   },
   {
    "duration": 9,
    "start_time": "2025-03-18T18:16:37.578Z"
   },
   {
    "duration": 12,
    "start_time": "2025-03-18T18:16:37.588Z"
   },
   {
    "duration": 17,
    "start_time": "2025-03-18T18:16:37.601Z"
   },
   {
    "duration": 6,
    "start_time": "2025-03-18T18:16:37.620Z"
   },
   {
    "duration": 30,
    "start_time": "2025-03-18T18:16:37.628Z"
   },
   {
    "duration": 12,
    "start_time": "2025-03-18T18:16:37.660Z"
   },
   {
    "duration": 52,
    "start_time": "2025-03-18T18:16:37.674Z"
   },
   {
    "duration": 16,
    "start_time": "2025-03-18T18:16:37.728Z"
   },
   {
    "duration": 4,
    "start_time": "2025-03-18T18:16:37.746Z"
   },
   {
    "duration": 16,
    "start_time": "2025-03-18T18:16:37.752Z"
   },
   {
    "duration": 4,
    "start_time": "2025-03-18T18:16:37.770Z"
   },
   {
    "duration": 20,
    "start_time": "2025-03-18T18:16:37.776Z"
   },
   {
    "duration": 6,
    "start_time": "2025-03-18T18:16:37.798Z"
   },
   {
    "duration": 17,
    "start_time": "2025-03-18T18:16:37.806Z"
   },
   {
    "duration": 35,
    "start_time": "2025-03-18T18:16:37.825Z"
   },
   {
    "duration": 12,
    "start_time": "2025-03-18T18:16:37.862Z"
   },
   {
    "duration": 27,
    "start_time": "2025-03-18T18:16:37.876Z"
   },
   {
    "duration": 17,
    "start_time": "2025-03-18T18:16:37.904Z"
   },
   {
    "duration": 49,
    "start_time": "2025-03-18T18:16:37.922Z"
   },
   {
    "duration": 4,
    "start_time": "2025-03-18T18:16:37.973Z"
   },
   {
    "duration": 9,
    "start_time": "2025-03-18T18:16:37.978Z"
   },
   {
    "duration": 4,
    "start_time": "2025-03-18T18:16:37.988Z"
   },
   {
    "duration": 25,
    "start_time": "2025-03-18T18:16:37.995Z"
   },
   {
    "duration": 11,
    "start_time": "2025-03-18T18:16:38.021Z"
   },
   {
    "duration": 32,
    "start_time": "2025-03-18T18:16:38.034Z"
   },
   {
    "duration": 11,
    "start_time": "2025-03-18T18:19:42.921Z"
   },
   {
    "duration": 87,
    "start_time": "2025-03-18T18:29:25.156Z"
   },
   {
    "duration": 11,
    "start_time": "2025-03-18T18:30:29.889Z"
   },
   {
    "duration": 1237,
    "start_time": "2025-03-18T18:34:03.719Z"
   },
   {
    "duration": 2,
    "start_time": "2025-03-18T18:34:43.504Z"
   },
   {
    "duration": 140,
    "start_time": "2025-03-18T18:34:44.635Z"
   },
   {
    "duration": 9,
    "start_time": "2025-03-18T18:35:12.093Z"
   },
   {
    "duration": 7,
    "start_time": "2025-03-18T18:35:23.546Z"
   },
   {
    "duration": 8,
    "start_time": "2025-03-18T18:35:35.458Z"
   },
   {
    "duration": 20,
    "start_time": "2025-03-18T18:35:51.542Z"
   },
   {
    "duration": 8,
    "start_time": "2025-03-18T18:36:38.477Z"
   },
   {
    "duration": 7,
    "start_time": "2025-03-18T18:37:46.624Z"
   },
   {
    "duration": 1194,
    "start_time": "2025-03-18T18:38:03.503Z"
   },
   {
    "duration": 8,
    "start_time": "2025-03-18T18:38:09.973Z"
   },
   {
    "duration": 17,
    "start_time": "2025-03-18T18:38:17.035Z"
   },
   {
    "duration": 10,
    "start_time": "2025-03-18T18:38:58.114Z"
   },
   {
    "duration": 12,
    "start_time": "2025-03-18T18:39:09.899Z"
   },
   {
    "duration": 10,
    "start_time": "2025-03-18T18:39:20.029Z"
   },
   {
    "duration": 15,
    "start_time": "2025-03-18T18:39:25.921Z"
   },
   {
    "duration": 15,
    "start_time": "2025-03-18T18:40:30.271Z"
   },
   {
    "duration": 8,
    "start_time": "2025-03-18T18:40:33.134Z"
   },
   {
    "duration": 7,
    "start_time": "2025-03-18T18:40:39.175Z"
   },
   {
    "duration": 10,
    "start_time": "2025-03-18T18:41:45.085Z"
   },
   {
    "duration": 9,
    "start_time": "2025-03-18T18:41:50.166Z"
   },
   {
    "duration": 11,
    "start_time": "2025-03-18T18:42:11.254Z"
   },
   {
    "duration": 9,
    "start_time": "2025-03-18T18:42:14.964Z"
   },
   {
    "duration": 9,
    "start_time": "2025-03-18T18:42:19.686Z"
   },
   {
    "duration": 15,
    "start_time": "2025-03-18T18:42:29.066Z"
   },
   {
    "duration": 421,
    "start_time": "2025-03-18T18:45:10.558Z"
   },
   {
    "duration": 127,
    "start_time": "2025-03-18T18:45:10.981Z"
   },
   {
    "duration": 21,
    "start_time": "2025-03-18T18:45:11.109Z"
   },
   {
    "duration": 13,
    "start_time": "2025-03-18T18:45:11.132Z"
   },
   {
    "duration": 24,
    "start_time": "2025-03-18T18:45:11.147Z"
   },
   {
    "duration": 9,
    "start_time": "2025-03-18T18:45:11.173Z"
   },
   {
    "duration": 3,
    "start_time": "2025-03-18T18:45:11.184Z"
   },
   {
    "duration": 15,
    "start_time": "2025-03-18T18:45:11.189Z"
   },
   {
    "duration": 6,
    "start_time": "2025-03-18T18:45:11.206Z"
   },
   {
    "duration": 6,
    "start_time": "2025-03-18T18:45:11.214Z"
   },
   {
    "duration": 14,
    "start_time": "2025-03-18T18:45:11.258Z"
   },
   {
    "duration": 15,
    "start_time": "2025-03-18T18:45:11.274Z"
   },
   {
    "duration": 16,
    "start_time": "2025-03-18T18:45:11.291Z"
   },
   {
    "duration": 5,
    "start_time": "2025-03-18T18:45:11.308Z"
   },
   {
    "duration": 54,
    "start_time": "2025-03-18T18:45:11.315Z"
   },
   {
    "duration": 5,
    "start_time": "2025-03-18T18:45:11.371Z"
   },
   {
    "duration": 19,
    "start_time": "2025-03-18T18:45:11.377Z"
   },
   {
    "duration": 6,
    "start_time": "2025-03-18T18:45:11.397Z"
   },
   {
    "duration": 17,
    "start_time": "2025-03-18T18:45:11.404Z"
   },
   {
    "duration": 37,
    "start_time": "2025-03-18T18:45:11.422Z"
   },
   {
    "duration": 11,
    "start_time": "2025-03-18T18:45:11.460Z"
   },
   {
    "duration": 29,
    "start_time": "2025-03-18T18:45:11.472Z"
   },
   {
    "duration": 21,
    "start_time": "2025-03-18T18:45:11.502Z"
   },
   {
    "duration": 53,
    "start_time": "2025-03-18T18:45:11.525Z"
   },
   {
    "duration": 6,
    "start_time": "2025-03-18T18:45:11.581Z"
   },
   {
    "duration": 11,
    "start_time": "2025-03-18T18:45:11.589Z"
   },
   {
    "duration": 7,
    "start_time": "2025-03-18T18:45:11.602Z"
   },
   {
    "duration": 6,
    "start_time": "2025-03-18T18:45:11.612Z"
   },
   {
    "duration": 39,
    "start_time": "2025-03-18T18:45:11.620Z"
   },
   {
    "duration": 31,
    "start_time": "2025-03-18T18:45:11.661Z"
   },
   {
    "duration": 11,
    "start_time": "2025-03-18T18:45:22.154Z"
   },
   {
    "duration": 34,
    "start_time": "2025-03-18T18:49:32.971Z"
   },
   {
    "duration": 22,
    "start_time": "2025-03-18T18:49:42.345Z"
   },
   {
    "duration": 7,
    "start_time": "2025-03-18T18:54:30.189Z"
   },
   {
    "duration": 21,
    "start_time": "2025-03-18T18:54:55.071Z"
   },
   {
    "duration": 6,
    "start_time": "2025-03-18T19:01:55.849Z"
   },
   {
    "duration": 1414,
    "start_time": "2025-03-18T19:06:04.870Z"
   },
   {
    "duration": 1221,
    "start_time": "2025-03-18T19:06:17.531Z"
   },
   {
    "duration": 1610,
    "start_time": "2025-03-18T19:06:30.812Z"
   },
   {
    "duration": 1226,
    "start_time": "2025-03-18T19:06:39.525Z"
   },
   {
    "duration": 6,
    "start_time": "2025-03-18T19:06:54.096Z"
   },
   {
    "duration": 38,
    "start_time": "2025-03-18T19:08:55.363Z"
   },
   {
    "duration": 20,
    "start_time": "2025-03-18T19:10:05.456Z"
   },
   {
    "duration": 288,
    "start_time": "2025-03-18T19:17:12.070Z"
   },
   {
    "duration": 17,
    "start_time": "2025-03-18T19:17:29.490Z"
   },
   {
    "duration": 32,
    "start_time": "2025-03-18T19:28:33.441Z"
   },
   {
    "duration": 34,
    "start_time": "2025-03-18T19:33:02.358Z"
   },
   {
    "duration": 27,
    "start_time": "2025-03-18T19:35:17.891Z"
   },
   {
    "duration": 38,
    "start_time": "2025-03-18T19:35:46.446Z"
   },
   {
    "duration": 18,
    "start_time": "2025-03-18T20:00:14.054Z"
   },
   {
    "duration": 8,
    "start_time": "2025-03-18T20:00:18.945Z"
   },
   {
    "duration": 40,
    "start_time": "2025-03-18T20:00:25.125Z"
   },
   {
    "duration": 6,
    "start_time": "2025-03-18T20:04:00.419Z"
   },
   {
    "duration": 11,
    "start_time": "2025-03-18T20:04:03.030Z"
   },
   {
    "duration": 403,
    "start_time": "2025-03-19T07:08:54.848Z"
   },
   {
    "duration": 122,
    "start_time": "2025-03-19T07:08:55.253Z"
   },
   {
    "duration": 14,
    "start_time": "2025-03-19T07:08:55.377Z"
   },
   {
    "duration": 33,
    "start_time": "2025-03-19T07:08:55.393Z"
   },
   {
    "duration": 21,
    "start_time": "2025-03-19T07:08:55.428Z"
   },
   {
    "duration": 6,
    "start_time": "2025-03-19T07:08:55.451Z"
   },
   {
    "duration": 3,
    "start_time": "2025-03-19T07:08:55.459Z"
   },
   {
    "duration": 14,
    "start_time": "2025-03-19T07:08:55.463Z"
   },
   {
    "duration": 15,
    "start_time": "2025-03-19T07:08:55.478Z"
   },
   {
    "duration": 6,
    "start_time": "2025-03-19T07:08:55.495Z"
   },
   {
    "duration": 36,
    "start_time": "2025-03-19T07:08:55.502Z"
   },
   {
    "duration": 14,
    "start_time": "2025-03-19T07:08:55.540Z"
   },
   {
    "duration": 14,
    "start_time": "2025-03-19T07:08:55.555Z"
   },
   {
    "duration": 4,
    "start_time": "2025-03-19T07:08:55.570Z"
   },
   {
    "duration": 15,
    "start_time": "2025-03-19T07:08:55.575Z"
   },
   {
    "duration": 4,
    "start_time": "2025-03-19T07:08:55.591Z"
   },
   {
    "duration": 49,
    "start_time": "2025-03-19T07:08:55.597Z"
   },
   {
    "duration": 5,
    "start_time": "2025-03-19T07:08:55.648Z"
   },
   {
    "duration": 17,
    "start_time": "2025-03-19T07:08:55.654Z"
   },
   {
    "duration": 6,
    "start_time": "2025-03-19T07:08:55.672Z"
   },
   {
    "duration": 9,
    "start_time": "2025-03-19T07:08:55.679Z"
   },
   {
    "duration": 47,
    "start_time": "2025-03-19T07:08:55.689Z"
   },
   {
    "duration": 14,
    "start_time": "2025-03-19T07:08:55.738Z"
   },
   {
    "duration": 18,
    "start_time": "2025-03-19T07:08:55.754Z"
   },
   {
    "duration": 4,
    "start_time": "2025-03-19T07:08:55.774Z"
   },
   {
    "duration": 7,
    "start_time": "2025-03-19T07:08:55.779Z"
   },
   {
    "duration": 5,
    "start_time": "2025-03-19T07:08:55.788Z"
   },
   {
    "duration": 3,
    "start_time": "2025-03-19T07:08:55.796Z"
   },
   {
    "duration": 35,
    "start_time": "2025-03-19T07:08:55.800Z"
   },
   {
    "duration": 22,
    "start_time": "2025-03-19T07:08:55.837Z"
   },
   {
    "duration": 24,
    "start_time": "2025-03-19T07:08:55.860Z"
   },
   {
    "duration": 5,
    "start_time": "2025-03-19T07:08:55.885Z"
   },
   {
    "duration": 53,
    "start_time": "2025-03-19T07:08:55.892Z"
   },
   {
    "duration": 13,
    "start_time": "2025-03-19T07:08:55.946Z"
   },
   {
    "duration": 5,
    "start_time": "2025-03-19T07:08:55.960Z"
   },
   {
    "duration": 11,
    "start_time": "2025-03-19T07:08:55.966Z"
   },
   {
    "duration": 26,
    "start_time": "2025-03-19T07:10:44.142Z"
   },
   {
    "duration": 387,
    "start_time": "2025-03-19T07:15:22.153Z"
   },
   {
    "duration": 112,
    "start_time": "2025-03-19T07:15:22.541Z"
   },
   {
    "duration": 21,
    "start_time": "2025-03-19T07:15:22.655Z"
   },
   {
    "duration": 9,
    "start_time": "2025-03-19T07:15:22.677Z"
   },
   {
    "duration": 19,
    "start_time": "2025-03-19T07:15:22.689Z"
   },
   {
    "duration": 6,
    "start_time": "2025-03-19T07:15:22.710Z"
   },
   {
    "duration": 4,
    "start_time": "2025-03-19T07:15:22.717Z"
   },
   {
    "duration": 20,
    "start_time": "2025-03-19T07:15:22.735Z"
   },
   {
    "duration": 6,
    "start_time": "2025-03-19T07:15:22.757Z"
   },
   {
    "duration": 7,
    "start_time": "2025-03-19T07:15:22.764Z"
   },
   {
    "duration": 15,
    "start_time": "2025-03-19T07:15:22.773Z"
   },
   {
    "duration": 14,
    "start_time": "2025-03-19T07:15:22.790Z"
   },
   {
    "duration": 81,
    "start_time": "2025-03-19T07:15:22.805Z"
   },
   {
    "duration": 24,
    "start_time": "2025-03-19T07:15:22.889Z"
   },
   {
    "duration": 19,
    "start_time": "2025-03-19T07:15:22.915Z"
   },
   {
    "duration": 4,
    "start_time": "2025-03-19T07:15:22.936Z"
   },
   {
    "duration": 16,
    "start_time": "2025-03-19T07:15:22.942Z"
   },
   {
    "duration": 5,
    "start_time": "2025-03-19T07:15:22.960Z"
   },
   {
    "duration": 14,
    "start_time": "2025-03-19T07:15:22.966Z"
   },
   {
    "duration": 18,
    "start_time": "2025-03-19T07:15:22.981Z"
   },
   {
    "duration": 87,
    "start_time": "2025-03-19T07:15:23.000Z"
   },
   {
    "duration": 29,
    "start_time": "2025-03-19T07:15:23.088Z"
   },
   {
    "duration": 15,
    "start_time": "2025-03-19T07:15:23.118Z"
   },
   {
    "duration": 37,
    "start_time": "2025-03-19T07:15:23.134Z"
   },
   {
    "duration": 5,
    "start_time": "2025-03-19T07:15:23.173Z"
   },
   {
    "duration": 7,
    "start_time": "2025-03-19T07:15:23.179Z"
   },
   {
    "duration": 6,
    "start_time": "2025-03-19T07:15:23.188Z"
   },
   {
    "duration": 3,
    "start_time": "2025-03-19T07:15:23.195Z"
   },
   {
    "duration": 11,
    "start_time": "2025-03-19T07:15:23.199Z"
   },
   {
    "duration": 26,
    "start_time": "2025-03-19T07:15:23.211Z"
   },
   {
    "duration": 23,
    "start_time": "2025-03-19T07:15:23.238Z"
   },
   {
    "duration": 76,
    "start_time": "2025-03-19T07:15:23.262Z"
   },
   {
    "duration": 77,
    "start_time": "2025-03-19T07:15:23.339Z"
   },
   {
    "duration": 13,
    "start_time": "2025-03-19T07:15:23.418Z"
   },
   {
    "duration": 4,
    "start_time": "2025-03-19T07:15:23.433Z"
   },
   {
    "duration": 11,
    "start_time": "2025-03-19T07:15:23.438Z"
   },
   {
    "duration": 4,
    "start_time": "2025-03-19T07:28:01.069Z"
   },
   {
    "duration": 25,
    "start_time": "2025-03-19T07:28:08.488Z"
   },
   {
    "duration": 390,
    "start_time": "2025-03-19T07:28:16.150Z"
   },
   {
    "duration": 156,
    "start_time": "2025-03-19T07:28:16.543Z"
   },
   {
    "duration": 17,
    "start_time": "2025-03-19T07:28:16.705Z"
   },
   {
    "duration": 9,
    "start_time": "2025-03-19T07:28:16.724Z"
   },
   {
    "duration": 20,
    "start_time": "2025-03-19T07:28:16.735Z"
   },
   {
    "duration": 8,
    "start_time": "2025-03-19T07:28:16.757Z"
   },
   {
    "duration": 3,
    "start_time": "2025-03-19T07:28:16.767Z"
   },
   {
    "duration": 15,
    "start_time": "2025-03-19T07:28:16.771Z"
   },
   {
    "duration": 8,
    "start_time": "2025-03-19T07:28:16.788Z"
   },
   {
    "duration": 6,
    "start_time": "2025-03-19T07:28:16.836Z"
   },
   {
    "duration": 78,
    "start_time": "2025-03-19T07:28:16.843Z"
   },
   {
    "duration": 71,
    "start_time": "2025-03-19T07:28:16.923Z"
   },
   {
    "duration": 24,
    "start_time": "2025-03-19T07:28:16.996Z"
   },
   {
    "duration": 5,
    "start_time": "2025-03-19T07:28:17.022Z"
   },
   {
    "duration": 28,
    "start_time": "2025-03-19T07:28:17.029Z"
   },
   {
    "duration": 6,
    "start_time": "2025-03-19T07:28:17.059Z"
   },
   {
    "duration": 103,
    "start_time": "2025-03-19T07:28:17.068Z"
   },
   {
    "duration": 8,
    "start_time": "2025-03-19T07:28:17.173Z"
   },
   {
    "duration": 36,
    "start_time": "2025-03-19T07:28:17.183Z"
   },
   {
    "duration": 8,
    "start_time": "2025-03-19T07:28:17.221Z"
   },
   {
    "duration": 20,
    "start_time": "2025-03-19T07:28:17.231Z"
   },
   {
    "duration": 24,
    "start_time": "2025-03-19T07:28:17.253Z"
   },
   {
    "duration": 16,
    "start_time": "2025-03-19T07:28:17.280Z"
   },
   {
    "duration": 48,
    "start_time": "2025-03-19T07:28:17.298Z"
   },
   {
    "duration": 87,
    "start_time": "2025-03-19T07:28:17.347Z"
   },
   {
    "duration": 9,
    "start_time": "2025-03-19T07:28:17.436Z"
   },
   {
    "duration": 5,
    "start_time": "2025-03-19T07:28:17.450Z"
   },
   {
    "duration": 6,
    "start_time": "2025-03-19T07:28:17.457Z"
   },
   {
    "duration": 11,
    "start_time": "2025-03-19T07:28:17.465Z"
   },
   {
    "duration": 22,
    "start_time": "2025-03-19T07:28:17.477Z"
   },
   {
    "duration": 65,
    "start_time": "2025-03-19T07:28:17.501Z"
   },
   {
    "duration": 8,
    "start_time": "2025-03-19T07:28:17.568Z"
   },
   {
    "duration": 26,
    "start_time": "2025-03-19T07:28:17.578Z"
   },
   {
    "duration": 29,
    "start_time": "2025-03-19T07:28:17.606Z"
   },
   {
    "duration": 16,
    "start_time": "2025-03-19T07:28:17.637Z"
   },
   {
    "duration": 5,
    "start_time": "2025-03-19T07:28:17.655Z"
   },
   {
    "duration": 27,
    "start_time": "2025-03-19T07:28:17.662Z"
   },
   {
    "duration": 4,
    "start_time": "2025-03-19T07:31:06.481Z"
   },
   {
    "duration": 5,
    "start_time": "2025-03-19T07:32:25.427Z"
   },
   {
    "duration": 24,
    "start_time": "2025-03-19T07:33:59.522Z"
   },
   {
    "duration": 363,
    "start_time": "2025-03-19T07:44:01.490Z"
   },
   {
    "duration": 116,
    "start_time": "2025-03-19T07:44:01.855Z"
   },
   {
    "duration": 16,
    "start_time": "2025-03-19T07:44:01.972Z"
   },
   {
    "duration": 10,
    "start_time": "2025-03-19T07:44:01.990Z"
   },
   {
    "duration": 28,
    "start_time": "2025-03-19T07:44:02.001Z"
   },
   {
    "duration": 11,
    "start_time": "2025-03-19T07:44:02.031Z"
   },
   {
    "duration": 17,
    "start_time": "2025-03-19T07:44:02.044Z"
   },
   {
    "duration": 15,
    "start_time": "2025-03-19T07:44:02.062Z"
   },
   {
    "duration": 29,
    "start_time": "2025-03-19T07:44:02.079Z"
   },
   {
    "duration": 9,
    "start_time": "2025-03-19T07:44:02.111Z"
   },
   {
    "duration": 13,
    "start_time": "2025-03-19T07:44:02.121Z"
   },
   {
    "duration": 15,
    "start_time": "2025-03-19T07:44:02.135Z"
   },
   {
    "duration": 15,
    "start_time": "2025-03-19T07:44:02.151Z"
   },
   {
    "duration": 13,
    "start_time": "2025-03-19T07:44:02.168Z"
   },
   {
    "duration": 36,
    "start_time": "2025-03-19T07:44:02.182Z"
   },
   {
    "duration": 4,
    "start_time": "2025-03-19T07:44:02.220Z"
   },
   {
    "duration": 25,
    "start_time": "2025-03-19T07:44:02.226Z"
   },
   {
    "duration": 8,
    "start_time": "2025-03-19T07:44:02.252Z"
   },
   {
    "duration": 19,
    "start_time": "2025-03-19T07:44:02.262Z"
   },
   {
    "duration": 6,
    "start_time": "2025-03-19T07:44:02.282Z"
   },
   {
    "duration": 94,
    "start_time": "2025-03-19T07:44:02.289Z"
   },
   {
    "duration": 25,
    "start_time": "2025-03-19T07:44:02.384Z"
   },
   {
    "duration": 15,
    "start_time": "2025-03-19T07:44:02.411Z"
   },
   {
    "duration": 26,
    "start_time": "2025-03-19T07:44:02.428Z"
   },
   {
    "duration": 3,
    "start_time": "2025-03-19T07:44:02.456Z"
   },
   {
    "duration": 12,
    "start_time": "2025-03-19T07:44:02.461Z"
   },
   {
    "duration": 5,
    "start_time": "2025-03-19T07:44:02.474Z"
   },
   {
    "duration": 36,
    "start_time": "2025-03-19T07:44:02.481Z"
   },
   {
    "duration": 16,
    "start_time": "2025-03-19T07:44:02.519Z"
   },
   {
    "duration": 22,
    "start_time": "2025-03-19T07:44:02.537Z"
   },
   {
    "duration": 23,
    "start_time": "2025-03-19T07:44:02.561Z"
   },
   {
    "duration": 6,
    "start_time": "2025-03-19T07:44:02.585Z"
   },
   {
    "duration": 47,
    "start_time": "2025-03-19T07:44:02.592Z"
   },
   {
    "duration": 15,
    "start_time": "2025-03-19T07:44:02.640Z"
   },
   {
    "duration": 22,
    "start_time": "2025-03-19T07:44:02.656Z"
   },
   {
    "duration": 5,
    "start_time": "2025-03-19T07:44:02.679Z"
   },
   {
    "duration": 10,
    "start_time": "2025-03-19T07:44:02.685Z"
   },
   {
    "duration": 7,
    "start_time": "2025-03-19T07:44:14.865Z"
   },
   {
    "duration": 11,
    "start_time": "2025-03-19T07:55:53.901Z"
   },
   {
    "duration": 24,
    "start_time": "2025-03-19T07:55:58.168Z"
   },
   {
    "duration": 34,
    "start_time": "2025-03-19T07:56:08.127Z"
   },
   {
    "duration": 6,
    "start_time": "2025-03-19T07:56:24.645Z"
   },
   {
    "duration": 16,
    "start_time": "2025-03-19T07:56:29.722Z"
   },
   {
    "duration": 7,
    "start_time": "2025-03-19T07:56:33.733Z"
   },
   {
    "duration": 26,
    "start_time": "2025-03-19T07:56:48.003Z"
   },
   {
    "duration": 30,
    "start_time": "2025-03-19T08:00:43.173Z"
   },
   {
    "duration": 418,
    "start_time": "2025-03-19T08:04:37.191Z"
   },
   {
    "duration": 116,
    "start_time": "2025-03-19T08:04:37.611Z"
   },
   {
    "duration": 17,
    "start_time": "2025-03-19T08:04:37.729Z"
   },
   {
    "duration": 14,
    "start_time": "2025-03-19T08:04:37.748Z"
   },
   {
    "duration": 21,
    "start_time": "2025-03-19T08:04:37.764Z"
   },
   {
    "duration": 9,
    "start_time": "2025-03-19T08:04:37.787Z"
   },
   {
    "duration": 16,
    "start_time": "2025-03-19T08:04:37.798Z"
   },
   {
    "duration": 28,
    "start_time": "2025-03-19T08:04:37.836Z"
   },
   {
    "duration": 6,
    "start_time": "2025-03-19T08:04:37.865Z"
   },
   {
    "duration": 4,
    "start_time": "2025-03-19T08:04:37.874Z"
   },
   {
    "duration": 17,
    "start_time": "2025-03-19T08:04:37.880Z"
   },
   {
    "duration": 49,
    "start_time": "2025-03-19T08:04:37.899Z"
   },
   {
    "duration": 23,
    "start_time": "2025-03-19T08:04:37.950Z"
   },
   {
    "duration": 4,
    "start_time": "2025-03-19T08:04:37.974Z"
   },
   {
    "duration": 16,
    "start_time": "2025-03-19T08:04:37.979Z"
   },
   {
    "duration": 4,
    "start_time": "2025-03-19T08:04:37.997Z"
   },
   {
    "duration": 62,
    "start_time": "2025-03-19T08:04:38.003Z"
   },
   {
    "duration": 5,
    "start_time": "2025-03-19T08:04:38.067Z"
   },
   {
    "duration": 20,
    "start_time": "2025-03-19T08:04:38.074Z"
   },
   {
    "duration": 8,
    "start_time": "2025-03-19T08:04:38.095Z"
   },
   {
    "duration": 42,
    "start_time": "2025-03-19T08:04:38.104Z"
   },
   {
    "duration": 28,
    "start_time": "2025-03-19T08:04:38.148Z"
   },
   {
    "duration": 15,
    "start_time": "2025-03-19T08:04:38.178Z"
   },
   {
    "duration": 47,
    "start_time": "2025-03-19T08:04:38.194Z"
   },
   {
    "duration": 7,
    "start_time": "2025-03-19T08:04:38.244Z"
   },
   {
    "duration": 15,
    "start_time": "2025-03-19T08:04:38.253Z"
   },
   {
    "duration": 5,
    "start_time": "2025-03-19T08:04:38.269Z"
   },
   {
    "duration": 4,
    "start_time": "2025-03-19T08:04:38.277Z"
   },
   {
    "duration": 6,
    "start_time": "2025-03-19T08:04:38.282Z"
   },
   {
    "duration": 54,
    "start_time": "2025-03-19T08:04:38.289Z"
   },
   {
    "duration": 28,
    "start_time": "2025-03-19T08:04:38.347Z"
   },
   {
    "duration": 5,
    "start_time": "2025-03-19T08:04:38.377Z"
   },
   {
    "duration": 37,
    "start_time": "2025-03-19T08:04:38.383Z"
   },
   {
    "duration": 24,
    "start_time": "2025-03-19T08:04:38.422Z"
   },
   {
    "duration": 19,
    "start_time": "2025-03-19T08:04:38.448Z"
   },
   {
    "duration": 41,
    "start_time": "2025-03-19T08:04:38.469Z"
   },
   {
    "duration": 30,
    "start_time": "2025-03-19T08:04:38.511Z"
   },
   {
    "duration": 39,
    "start_time": "2025-03-19T08:04:38.543Z"
   },
   {
    "duration": 5,
    "start_time": "2025-03-19T08:04:49.303Z"
   },
   {
    "duration": 32,
    "start_time": "2025-03-19T08:04:56.921Z"
   },
   {
    "duration": 371,
    "start_time": "2025-03-19T08:06:18.061Z"
   },
   {
    "duration": 111,
    "start_time": "2025-03-19T08:06:18.435Z"
   },
   {
    "duration": 15,
    "start_time": "2025-03-19T08:06:18.548Z"
   },
   {
    "duration": 8,
    "start_time": "2025-03-19T08:06:18.565Z"
   },
   {
    "duration": 24,
    "start_time": "2025-03-19T08:06:18.575Z"
   },
   {
    "duration": 7,
    "start_time": "2025-03-19T08:06:18.601Z"
   },
   {
    "duration": 4,
    "start_time": "2025-03-19T08:06:18.609Z"
   },
   {
    "duration": 29,
    "start_time": "2025-03-19T08:06:18.615Z"
   },
   {
    "duration": 6,
    "start_time": "2025-03-19T08:06:18.646Z"
   },
   {
    "duration": 6,
    "start_time": "2025-03-19T08:06:18.653Z"
   },
   {
    "duration": 12,
    "start_time": "2025-03-19T08:06:18.660Z"
   },
   {
    "duration": 14,
    "start_time": "2025-03-19T08:06:18.673Z"
   },
   {
    "duration": 13,
    "start_time": "2025-03-19T08:06:18.689Z"
   },
   {
    "duration": 4,
    "start_time": "2025-03-19T08:06:18.737Z"
   },
   {
    "duration": 20,
    "start_time": "2025-03-19T08:06:18.742Z"
   },
   {
    "duration": 4,
    "start_time": "2025-03-19T08:06:18.763Z"
   },
   {
    "duration": 16,
    "start_time": "2025-03-19T08:06:18.769Z"
   },
   {
    "duration": 5,
    "start_time": "2025-03-19T08:06:18.786Z"
   },
   {
    "duration": 44,
    "start_time": "2025-03-19T08:06:18.792Z"
   },
   {
    "duration": 6,
    "start_time": "2025-03-19T08:06:18.838Z"
   },
   {
    "duration": 9,
    "start_time": "2025-03-19T08:06:18.845Z"
   },
   {
    "duration": 24,
    "start_time": "2025-03-19T08:06:18.856Z"
   },
   {
    "duration": 15,
    "start_time": "2025-03-19T08:06:18.882Z"
   },
   {
    "duration": 51,
    "start_time": "2025-03-19T08:06:18.899Z"
   },
   {
    "duration": 19,
    "start_time": "2025-03-19T08:06:18.952Z"
   },
   {
    "duration": 9,
    "start_time": "2025-03-19T08:06:18.973Z"
   },
   {
    "duration": 4,
    "start_time": "2025-03-19T08:06:18.983Z"
   },
   {
    "duration": 4,
    "start_time": "2025-03-19T08:06:18.989Z"
   },
   {
    "duration": 6,
    "start_time": "2025-03-19T08:06:18.994Z"
   },
   {
    "duration": 129,
    "start_time": "2025-03-19T08:06:19.002Z"
   },
   {
    "duration": 24,
    "start_time": "2025-03-19T08:06:19.133Z"
   },
   {
    "duration": 4,
    "start_time": "2025-03-19T08:06:19.159Z"
   },
   {
    "duration": 29,
    "start_time": "2025-03-19T08:06:19.165Z"
   },
   {
    "duration": 7,
    "start_time": "2025-03-19T08:06:19.196Z"
   },
   {
    "duration": 82,
    "start_time": "2025-03-19T08:06:19.204Z"
   },
   {
    "duration": 30,
    "start_time": "2025-03-19T08:06:19.288Z"
   },
   {
    "duration": 22,
    "start_time": "2025-03-19T08:06:19.320Z"
   },
   {
    "duration": 38,
    "start_time": "2025-03-19T08:06:19.343Z"
   },
   {
    "duration": 6,
    "start_time": "2025-03-19T08:06:25.223Z"
   },
   {
    "duration": 6,
    "start_time": "2025-03-19T08:06:43.105Z"
   },
   {
    "duration": 18,
    "start_time": "2025-03-19T08:06:44.928Z"
   },
   {
    "duration": 388,
    "start_time": "2025-03-19T08:08:24.297Z"
   },
   {
    "duration": 114,
    "start_time": "2025-03-19T08:08:24.687Z"
   },
   {
    "duration": 16,
    "start_time": "2025-03-19T08:08:24.802Z"
   },
   {
    "duration": 9,
    "start_time": "2025-03-19T08:08:24.820Z"
   },
   {
    "duration": 19,
    "start_time": "2025-03-19T08:08:24.831Z"
   },
   {
    "duration": 7,
    "start_time": "2025-03-19T08:08:24.851Z"
   },
   {
    "duration": 2,
    "start_time": "2025-03-19T08:08:24.860Z"
   },
   {
    "duration": 19,
    "start_time": "2025-03-19T08:08:24.864Z"
   },
   {
    "duration": 7,
    "start_time": "2025-03-19T08:08:24.886Z"
   },
   {
    "duration": 6,
    "start_time": "2025-03-19T08:08:24.896Z"
   },
   {
    "duration": 46,
    "start_time": "2025-03-19T08:08:24.904Z"
   },
   {
    "duration": 21,
    "start_time": "2025-03-19T08:08:24.952Z"
   },
   {
    "duration": 15,
    "start_time": "2025-03-19T08:08:24.975Z"
   },
   {
    "duration": 5,
    "start_time": "2025-03-19T08:08:24.992Z"
   },
   {
    "duration": 44,
    "start_time": "2025-03-19T08:08:24.998Z"
   },
   {
    "duration": 61,
    "start_time": "2025-03-19T08:08:25.043Z"
   },
   {
    "duration": 56,
    "start_time": "2025-03-19T08:08:25.106Z"
   },
   {
    "duration": 5,
    "start_time": "2025-03-19T08:08:25.164Z"
   },
   {
    "duration": 14,
    "start_time": "2025-03-19T08:08:25.170Z"
   },
   {
    "duration": 6,
    "start_time": "2025-03-19T08:08:25.185Z"
   },
   {
    "duration": 13,
    "start_time": "2025-03-19T08:08:25.192Z"
   },
   {
    "duration": 116,
    "start_time": "2025-03-19T08:08:25.207Z"
   },
   {
    "duration": 16,
    "start_time": "2025-03-19T08:08:25.325Z"
   },
   {
    "duration": 20,
    "start_time": "2025-03-19T08:08:25.343Z"
   },
   {
    "duration": 4,
    "start_time": "2025-03-19T08:08:25.365Z"
   },
   {
    "duration": 9,
    "start_time": "2025-03-19T08:08:25.370Z"
   },
   {
    "duration": 9,
    "start_time": "2025-03-19T08:08:25.380Z"
   },
   {
    "duration": 4,
    "start_time": "2025-03-19T08:08:25.393Z"
   },
   {
    "duration": 39,
    "start_time": "2025-03-19T08:08:25.399Z"
   },
   {
    "duration": 27,
    "start_time": "2025-03-19T08:08:25.441Z"
   },
   {
    "duration": 105,
    "start_time": "2025-03-19T08:08:25.469Z"
   },
   {
    "duration": 5,
    "start_time": "2025-03-19T08:08:25.575Z"
   },
   {
    "duration": 37,
    "start_time": "2025-03-19T08:08:25.582Z"
   },
   {
    "duration": 11,
    "start_time": "2025-03-19T08:08:25.621Z"
   },
   {
    "duration": 17,
    "start_time": "2025-03-19T08:08:25.633Z"
   },
   {
    "duration": 40,
    "start_time": "2025-03-19T08:08:25.652Z"
   },
   {
    "duration": 5,
    "start_time": "2025-03-19T08:08:25.693Z"
   },
   {
    "duration": 9,
    "start_time": "2025-03-19T08:08:25.700Z"
   },
   {
    "duration": 5,
    "start_time": "2025-03-19T08:08:33.029Z"
   },
   {
    "duration": 419,
    "start_time": "2025-03-19T08:34:07.207Z"
   },
   {
    "duration": 111,
    "start_time": "2025-03-19T08:34:07.628Z"
   },
   {
    "duration": 16,
    "start_time": "2025-03-19T08:34:07.741Z"
   },
   {
    "duration": 9,
    "start_time": "2025-03-19T08:34:07.759Z"
   },
   {
    "duration": 20,
    "start_time": "2025-03-19T08:34:07.769Z"
   },
   {
    "duration": 12,
    "start_time": "2025-03-19T08:34:07.791Z"
   },
   {
    "duration": 4,
    "start_time": "2025-03-19T08:34:07.804Z"
   },
   {
    "duration": 33,
    "start_time": "2025-03-19T08:34:07.809Z"
   },
   {
    "duration": 6,
    "start_time": "2025-03-19T08:34:07.844Z"
   },
   {
    "duration": 5,
    "start_time": "2025-03-19T08:34:07.853Z"
   },
   {
    "duration": 12,
    "start_time": "2025-03-19T08:34:07.859Z"
   },
   {
    "duration": 14,
    "start_time": "2025-03-19T08:34:07.872Z"
   },
   {
    "duration": 50,
    "start_time": "2025-03-19T08:34:07.887Z"
   },
   {
    "duration": 11,
    "start_time": "2025-03-19T08:34:07.939Z"
   },
   {
    "duration": 19,
    "start_time": "2025-03-19T08:34:07.951Z"
   },
   {
    "duration": 4,
    "start_time": "2025-03-19T08:34:07.972Z"
   },
   {
    "duration": 15,
    "start_time": "2025-03-19T08:34:07.978Z"
   },
   {
    "duration": 18,
    "start_time": "2025-03-19T08:34:07.994Z"
   },
   {
    "duration": 28,
    "start_time": "2025-03-19T08:34:08.013Z"
   },
   {
    "duration": 7,
    "start_time": "2025-03-19T08:34:08.042Z"
   },
   {
    "duration": 30,
    "start_time": "2025-03-19T08:34:08.050Z"
   },
   {
    "duration": 25,
    "start_time": "2025-03-19T08:34:08.082Z"
   },
   {
    "duration": 15,
    "start_time": "2025-03-19T08:34:08.108Z"
   },
   {
    "duration": 21,
    "start_time": "2025-03-19T08:34:08.125Z"
   },
   {
    "duration": 15,
    "start_time": "2025-03-19T08:34:08.147Z"
   },
   {
    "duration": 10,
    "start_time": "2025-03-19T08:34:08.163Z"
   },
   {
    "duration": 6,
    "start_time": "2025-03-19T08:34:08.174Z"
   },
   {
    "duration": 3,
    "start_time": "2025-03-19T08:34:08.183Z"
   },
   {
    "duration": 6,
    "start_time": "2025-03-19T08:34:08.188Z"
   },
   {
    "duration": 44,
    "start_time": "2025-03-19T08:34:08.196Z"
   },
   {
    "duration": 24,
    "start_time": "2025-03-19T08:34:08.241Z"
   },
   {
    "duration": 5,
    "start_time": "2025-03-19T08:34:08.267Z"
   },
   {
    "duration": 27,
    "start_time": "2025-03-19T08:34:08.274Z"
   },
   {
    "duration": 32,
    "start_time": "2025-03-19T08:34:08.303Z"
   },
   {
    "duration": 16,
    "start_time": "2025-03-19T08:34:08.337Z"
   },
   {
    "duration": 11,
    "start_time": "2025-03-19T08:34:08.355Z"
   },
   {
    "duration": 40,
    "start_time": "2025-03-19T08:34:08.368Z"
   },
   {
    "duration": 6,
    "start_time": "2025-03-19T08:34:08.435Z"
   },
   {
    "duration": 17,
    "start_time": "2025-03-19T08:34:08.443Z"
   },
   {
    "duration": 6,
    "start_time": "2025-03-19T08:34:33.356Z"
   },
   {
    "duration": 416,
    "start_time": "2025-03-19T19:32:55.838Z"
   },
   {
    "duration": 112,
    "start_time": "2025-03-19T19:32:56.256Z"
   },
   {
    "duration": 24,
    "start_time": "2025-03-19T19:32:56.371Z"
   },
   {
    "duration": 11,
    "start_time": "2025-03-19T19:32:56.397Z"
   },
   {
    "duration": 23,
    "start_time": "2025-03-19T19:32:56.410Z"
   },
   {
    "duration": 21,
    "start_time": "2025-03-19T19:32:56.434Z"
   },
   {
    "duration": 2,
    "start_time": "2025-03-19T19:32:56.456Z"
   },
   {
    "duration": 13,
    "start_time": "2025-03-19T19:32:56.460Z"
   },
   {
    "duration": 13,
    "start_time": "2025-03-19T19:32:56.475Z"
   },
   {
    "duration": 10,
    "start_time": "2025-03-19T19:32:56.491Z"
   },
   {
    "duration": 21,
    "start_time": "2025-03-19T19:32:56.503Z"
   },
   {
    "duration": 29,
    "start_time": "2025-03-19T19:32:56.526Z"
   },
   {
    "duration": 18,
    "start_time": "2025-03-19T19:32:56.556Z"
   },
   {
    "duration": 6,
    "start_time": "2025-03-19T19:32:56.575Z"
   },
   {
    "duration": 17,
    "start_time": "2025-03-19T19:32:56.582Z"
   },
   {
    "duration": 4,
    "start_time": "2025-03-19T19:32:56.600Z"
   },
   {
    "duration": 17,
    "start_time": "2025-03-19T19:32:56.606Z"
   },
   {
    "duration": 34,
    "start_time": "2025-03-19T19:32:56.624Z"
   },
   {
    "duration": 13,
    "start_time": "2025-03-19T19:32:56.660Z"
   },
   {
    "duration": 26,
    "start_time": "2025-03-19T19:32:56.675Z"
   },
   {
    "duration": 12,
    "start_time": "2025-03-19T19:32:56.702Z"
   },
   {
    "duration": 32,
    "start_time": "2025-03-19T19:32:56.715Z"
   },
   {
    "duration": 16,
    "start_time": "2025-03-19T19:32:56.749Z"
   },
   {
    "duration": 33,
    "start_time": "2025-03-19T19:32:56.767Z"
   },
   {
    "duration": 4,
    "start_time": "2025-03-19T19:32:56.802Z"
   },
   {
    "duration": 6,
    "start_time": "2025-03-19T19:32:56.808Z"
   },
   {
    "duration": 4,
    "start_time": "2025-03-19T19:32:56.816Z"
   },
   {
    "duration": 5,
    "start_time": "2025-03-19T19:32:56.823Z"
   },
   {
    "duration": 6,
    "start_time": "2025-03-19T19:32:56.830Z"
   },
   {
    "duration": 20,
    "start_time": "2025-03-19T19:32:56.854Z"
   },
   {
    "duration": 25,
    "start_time": "2025-03-19T19:32:56.875Z"
   },
   {
    "duration": 4,
    "start_time": "2025-03-19T19:32:56.902Z"
   },
   {
    "duration": 46,
    "start_time": "2025-03-19T19:32:56.908Z"
   },
   {
    "duration": 8,
    "start_time": "2025-03-19T19:32:56.956Z"
   },
   {
    "duration": 20,
    "start_time": "2025-03-19T19:32:56.965Z"
   },
   {
    "duration": 11,
    "start_time": "2025-03-19T19:32:56.986Z"
   },
   {
    "duration": 28,
    "start_time": "2025-03-19T19:32:56.999Z"
   },
   {
    "duration": 42,
    "start_time": "2025-03-19T19:32:57.028Z"
   },
   {
    "duration": 11,
    "start_time": "2025-03-19T19:32:57.072Z"
   },
   {
    "duration": 5,
    "start_time": "2025-03-19T19:33:34.879Z"
   },
   {
    "duration": 8,
    "start_time": "2025-03-19T20:07:46.708Z"
   },
   {
    "duration": 19,
    "start_time": "2025-03-19T20:07:50.170Z"
   },
   {
    "duration": 10,
    "start_time": "2025-03-19T20:07:53.211Z"
   },
   {
    "duration": 29,
    "start_time": "2025-03-19T20:07:57.013Z"
   },
   {
    "duration": 6,
    "start_time": "2025-03-19T20:08:04.139Z"
   },
   {
    "duration": 16,
    "start_time": "2025-03-19T20:17:23.969Z"
   },
   {
    "duration": 78,
    "start_time": "2025-03-19T20:18:35.941Z"
   },
   {
    "duration": 18,
    "start_time": "2025-03-19T20:18:44.944Z"
   },
   {
    "duration": 24,
    "start_time": "2025-03-19T20:21:54.550Z"
   },
   {
    "duration": 26,
    "start_time": "2025-03-19T20:24:18.364Z"
   },
   {
    "duration": 373,
    "start_time": "2025-03-19T20:37:29.593Z"
   },
   {
    "duration": 117,
    "start_time": "2025-03-19T20:37:29.968Z"
   },
   {
    "duration": 17,
    "start_time": "2025-03-19T20:37:30.087Z"
   },
   {
    "duration": 20,
    "start_time": "2025-03-19T20:37:30.106Z"
   },
   {
    "duration": 27,
    "start_time": "2025-03-19T20:37:30.127Z"
   },
   {
    "duration": 17,
    "start_time": "2025-03-19T20:37:30.155Z"
   },
   {
    "duration": 127,
    "start_time": "2025-03-19T20:37:30.174Z"
   },
   {
    "duration": 59,
    "start_time": "2025-03-19T20:37:30.303Z"
   },
   {
    "duration": 73,
    "start_time": "2025-03-19T20:37:30.363Z"
   },
   {
    "duration": 67,
    "start_time": "2025-03-19T20:37:30.438Z"
   },
   {
    "duration": 27,
    "start_time": "2025-03-19T20:37:30.506Z"
   },
   {
    "duration": 14,
    "start_time": "2025-03-19T20:37:30.534Z"
   },
   {
    "duration": 29,
    "start_time": "2025-03-19T20:37:30.550Z"
   },
   {
    "duration": 15,
    "start_time": "2025-03-19T20:37:30.581Z"
   },
   {
    "duration": 49,
    "start_time": "2025-03-19T20:37:30.597Z"
   },
   {
    "duration": 20,
    "start_time": "2025-03-19T20:37:30.648Z"
   },
   {
    "duration": 76,
    "start_time": "2025-03-19T20:37:30.670Z"
   },
   {
    "duration": 0,
    "start_time": "2025-03-19T20:37:30.748Z"
   },
   {
    "duration": 0,
    "start_time": "2025-03-19T20:37:30.749Z"
   },
   {
    "duration": 0,
    "start_time": "2025-03-19T20:37:30.750Z"
   },
   {
    "duration": 0,
    "start_time": "2025-03-19T20:37:30.752Z"
   },
   {
    "duration": 0,
    "start_time": "2025-03-19T20:37:30.753Z"
   },
   {
    "duration": 0,
    "start_time": "2025-03-19T20:37:30.754Z"
   },
   {
    "duration": 0,
    "start_time": "2025-03-19T20:37:30.755Z"
   },
   {
    "duration": 0,
    "start_time": "2025-03-19T20:37:30.756Z"
   },
   {
    "duration": 0,
    "start_time": "2025-03-19T20:37:30.757Z"
   },
   {
    "duration": 0,
    "start_time": "2025-03-19T20:37:30.758Z"
   },
   {
    "duration": 0,
    "start_time": "2025-03-19T20:37:30.759Z"
   },
   {
    "duration": 0,
    "start_time": "2025-03-19T20:37:30.760Z"
   },
   {
    "duration": 0,
    "start_time": "2025-03-19T20:37:30.761Z"
   },
   {
    "duration": 0,
    "start_time": "2025-03-19T20:37:30.762Z"
   },
   {
    "duration": 0,
    "start_time": "2025-03-19T20:37:30.763Z"
   },
   {
    "duration": 0,
    "start_time": "2025-03-19T20:37:30.764Z"
   },
   {
    "duration": 0,
    "start_time": "2025-03-19T20:37:30.765Z"
   },
   {
    "duration": 0,
    "start_time": "2025-03-19T20:37:30.765Z"
   },
   {
    "duration": 0,
    "start_time": "2025-03-19T20:37:30.767Z"
   },
   {
    "duration": 0,
    "start_time": "2025-03-19T20:37:30.768Z"
   },
   {
    "duration": 0,
    "start_time": "2025-03-19T20:37:30.769Z"
   },
   {
    "duration": 0,
    "start_time": "2025-03-19T20:37:30.770Z"
   },
   {
    "duration": 0,
    "start_time": "2025-03-19T20:37:30.771Z"
   },
   {
    "duration": 25,
    "start_time": "2025-03-19T20:38:52.884Z"
   },
   {
    "duration": 410,
    "start_time": "2025-03-19T20:38:57.882Z"
   },
   {
    "duration": 114,
    "start_time": "2025-03-19T20:38:58.294Z"
   },
   {
    "duration": 16,
    "start_time": "2025-03-19T20:38:58.409Z"
   },
   {
    "duration": 9,
    "start_time": "2025-03-19T20:38:58.427Z"
   },
   {
    "duration": 21,
    "start_time": "2025-03-19T20:38:58.439Z"
   },
   {
    "duration": 13,
    "start_time": "2025-03-19T20:38:58.462Z"
   },
   {
    "duration": 6,
    "start_time": "2025-03-19T20:38:58.477Z"
   },
   {
    "duration": 14,
    "start_time": "2025-03-19T20:38:58.484Z"
   },
   {
    "duration": 7,
    "start_time": "2025-03-19T20:38:58.500Z"
   },
   {
    "duration": 10,
    "start_time": "2025-03-19T20:38:58.509Z"
   },
   {
    "duration": 32,
    "start_time": "2025-03-19T20:38:58.521Z"
   },
   {
    "duration": 14,
    "start_time": "2025-03-19T20:38:58.555Z"
   },
   {
    "duration": 15,
    "start_time": "2025-03-19T20:38:58.571Z"
   },
   {
    "duration": 10,
    "start_time": "2025-03-19T20:38:58.589Z"
   },
   {
    "duration": 16,
    "start_time": "2025-03-19T20:38:58.600Z"
   },
   {
    "duration": 4,
    "start_time": "2025-03-19T20:38:58.617Z"
   },
   {
    "duration": 50,
    "start_time": "2025-03-19T20:38:58.623Z"
   },
   {
    "duration": 5,
    "start_time": "2025-03-19T20:38:58.675Z"
   },
   {
    "duration": 16,
    "start_time": "2025-03-19T20:38:58.681Z"
   },
   {
    "duration": 5,
    "start_time": "2025-03-19T20:38:58.699Z"
   },
   {
    "duration": 9,
    "start_time": "2025-03-19T20:38:58.705Z"
   },
   {
    "duration": 42,
    "start_time": "2025-03-19T20:38:58.716Z"
   },
   {
    "duration": 17,
    "start_time": "2025-03-19T20:38:58.759Z"
   },
   {
    "duration": 23,
    "start_time": "2025-03-19T20:38:58.778Z"
   },
   {
    "duration": 4,
    "start_time": "2025-03-19T20:38:58.803Z"
   },
   {
    "duration": 8,
    "start_time": "2025-03-19T20:38:58.808Z"
   },
   {
    "duration": 4,
    "start_time": "2025-03-19T20:38:58.818Z"
   },
   {
    "duration": 32,
    "start_time": "2025-03-19T20:38:58.824Z"
   },
   {
    "duration": 8,
    "start_time": "2025-03-19T20:38:58.858Z"
   },
   {
    "duration": 20,
    "start_time": "2025-03-19T20:38:58.867Z"
   },
   {
    "duration": 23,
    "start_time": "2025-03-19T20:38:58.889Z"
   },
   {
    "duration": 5,
    "start_time": "2025-03-19T20:38:58.914Z"
   },
   {
    "duration": 52,
    "start_time": "2025-03-19T20:38:58.920Z"
   },
   {
    "duration": 9,
    "start_time": "2025-03-19T20:38:58.973Z"
   },
   {
    "duration": 21,
    "start_time": "2025-03-19T20:38:58.984Z"
   },
   {
    "duration": 12,
    "start_time": "2025-03-19T20:38:59.007Z"
   },
   {
    "duration": 43,
    "start_time": "2025-03-19T20:38:59.020Z"
   },
   {
    "duration": 5,
    "start_time": "2025-03-19T20:38:59.064Z"
   },
   {
    "duration": 23,
    "start_time": "2025-03-19T20:38:59.071Z"
   },
   {
    "duration": 16,
    "start_time": "2025-03-19T20:38:59.095Z"
   },
   {
    "duration": 18,
    "start_time": "2025-03-19T20:39:38.202Z"
   },
   {
    "duration": 8,
    "start_time": "2025-03-19T20:40:12.244Z"
   },
   {
    "duration": 9,
    "start_time": "2025-03-19T20:40:23.022Z"
   },
   {
    "duration": 14,
    "start_time": "2025-03-19T20:40:37.175Z"
   },
   {
    "duration": 8,
    "start_time": "2025-03-19T20:40:47.056Z"
   },
   {
    "duration": 5,
    "start_time": "2025-03-19T20:41:25.333Z"
   },
   {
    "duration": 19,
    "start_time": "2025-03-19T20:41:36.119Z"
   },
   {
    "duration": 23,
    "start_time": "2025-03-19T20:43:20.528Z"
   },
   {
    "duration": 20,
    "start_time": "2025-03-19T20:45:10.291Z"
   },
   {
    "duration": 9,
    "start_time": "2025-03-19T20:45:23.607Z"
   },
   {
    "duration": 375,
    "start_time": "2025-03-20T20:47:38.232Z"
   },
   {
    "duration": 124,
    "start_time": "2025-03-20T20:47:38.608Z"
   },
   {
    "duration": 16,
    "start_time": "2025-03-20T20:47:38.733Z"
   },
   {
    "duration": 9,
    "start_time": "2025-03-20T20:47:38.750Z"
   },
   {
    "duration": 21,
    "start_time": "2025-03-20T20:47:38.760Z"
   },
   {
    "duration": 7,
    "start_time": "2025-03-20T20:47:38.782Z"
   },
   {
    "duration": 3,
    "start_time": "2025-03-20T20:47:38.790Z"
   },
   {
    "duration": 32,
    "start_time": "2025-03-20T20:47:38.795Z"
   },
   {
    "duration": 6,
    "start_time": "2025-03-20T20:47:38.828Z"
   },
   {
    "duration": 5,
    "start_time": "2025-03-20T20:47:38.836Z"
   },
   {
    "duration": 12,
    "start_time": "2025-03-20T20:47:38.842Z"
   },
   {
    "duration": 14,
    "start_time": "2025-03-20T20:47:38.855Z"
   },
   {
    "duration": 44,
    "start_time": "2025-03-20T20:47:38.870Z"
   },
   {
    "duration": 25,
    "start_time": "2025-03-20T20:47:38.916Z"
   },
   {
    "duration": 17,
    "start_time": "2025-03-20T20:47:38.943Z"
   },
   {
    "duration": 7,
    "start_time": "2025-03-20T20:47:38.961Z"
   },
   {
    "duration": 53,
    "start_time": "2025-03-20T20:47:38.969Z"
   },
   {
    "duration": 19,
    "start_time": "2025-03-20T20:47:39.024Z"
   },
   {
    "duration": 26,
    "start_time": "2025-03-20T20:47:39.044Z"
   },
   {
    "duration": 6,
    "start_time": "2025-03-20T20:47:39.071Z"
   },
   {
    "duration": 10,
    "start_time": "2025-03-20T20:47:39.078Z"
   },
   {
    "duration": 21,
    "start_time": "2025-03-20T20:47:39.090Z"
   },
   {
    "duration": 38,
    "start_time": "2025-03-20T20:47:39.113Z"
   },
   {
    "duration": 23,
    "start_time": "2025-03-20T20:47:39.153Z"
   },
   {
    "duration": 6,
    "start_time": "2025-03-20T20:47:39.177Z"
   },
   {
    "duration": 11,
    "start_time": "2025-03-20T20:47:39.185Z"
   },
   {
    "duration": 80,
    "start_time": "2025-03-20T20:47:39.197Z"
   },
   {
    "duration": 5,
    "start_time": "2025-03-20T20:47:39.281Z"
   },
   {
    "duration": 21,
    "start_time": "2025-03-20T20:47:39.287Z"
   },
   {
    "duration": 19,
    "start_time": "2025-03-20T20:47:39.310Z"
   },
   {
    "duration": 22,
    "start_time": "2025-03-20T20:47:39.331Z"
   },
   {
    "duration": 5,
    "start_time": "2025-03-20T20:47:39.355Z"
   },
   {
    "duration": 50,
    "start_time": "2025-03-20T20:47:39.362Z"
   },
   {
    "duration": 8,
    "start_time": "2025-03-20T20:47:39.413Z"
   },
   {
    "duration": 26,
    "start_time": "2025-03-20T20:47:39.423Z"
   },
   {
    "duration": 11,
    "start_time": "2025-03-20T20:47:39.451Z"
   },
   {
    "duration": 98,
    "start_time": "2025-03-20T20:47:39.463Z"
   },
   {
    "duration": 4,
    "start_time": "2025-03-20T20:47:39.563Z"
   },
   {
    "duration": 41,
    "start_time": "2025-03-20T20:47:39.568Z"
   },
   {
    "duration": 18,
    "start_time": "2025-03-20T20:47:39.614Z"
   },
   {
    "duration": 27,
    "start_time": "2025-03-20T20:47:39.634Z"
   },
   {
    "duration": 21,
    "start_time": "2025-03-20T20:47:39.662Z"
   },
   {
    "duration": 384,
    "start_time": "2025-03-21T16:28:16.055Z"
   },
   {
    "duration": 105,
    "start_time": "2025-03-21T16:28:16.441Z"
   },
   {
    "duration": 13,
    "start_time": "2025-03-21T16:28:16.547Z"
   },
   {
    "duration": 10,
    "start_time": "2025-03-21T16:28:16.561Z"
   },
   {
    "duration": 17,
    "start_time": "2025-03-21T16:28:16.573Z"
   },
   {
    "duration": 6,
    "start_time": "2025-03-21T16:28:16.591Z"
   },
   {
    "duration": 17,
    "start_time": "2025-03-21T16:28:16.598Z"
   },
   {
    "duration": 22,
    "start_time": "2025-03-21T16:28:16.616Z"
   },
   {
    "duration": 6,
    "start_time": "2025-03-21T16:28:16.639Z"
   },
   {
    "duration": 9,
    "start_time": "2025-03-21T16:28:16.647Z"
   },
   {
    "duration": 11,
    "start_time": "2025-03-21T16:28:16.658Z"
   },
   {
    "duration": 11,
    "start_time": "2025-03-21T16:28:16.670Z"
   },
   {
    "duration": 22,
    "start_time": "2025-03-21T16:28:16.682Z"
   },
   {
    "duration": 4,
    "start_time": "2025-03-21T16:28:16.707Z"
   },
   {
    "duration": 15,
    "start_time": "2025-03-21T16:28:16.712Z"
   },
   {
    "duration": 30,
    "start_time": "2025-03-21T16:28:16.728Z"
   },
   {
    "duration": 32,
    "start_time": "2025-03-21T16:28:16.759Z"
   },
   {
    "duration": 15,
    "start_time": "2025-03-21T16:28:16.793Z"
   },
   {
    "duration": 31,
    "start_time": "2025-03-21T16:28:16.810Z"
   },
   {
    "duration": 7,
    "start_time": "2025-03-21T16:28:16.843Z"
   },
   {
    "duration": 8,
    "start_time": "2025-03-21T16:28:16.851Z"
   },
   {
    "duration": 35,
    "start_time": "2025-03-21T16:28:16.860Z"
   },
   {
    "duration": 13,
    "start_time": "2025-03-21T16:28:16.897Z"
   },
   {
    "duration": 18,
    "start_time": "2025-03-21T16:28:16.911Z"
   },
   {
    "duration": 9,
    "start_time": "2025-03-21T16:28:16.930Z"
   },
   {
    "duration": 12,
    "start_time": "2025-03-21T16:28:16.941Z"
   },
   {
    "duration": 12,
    "start_time": "2025-03-21T16:28:16.954Z"
   },
   {
    "duration": 5,
    "start_time": "2025-03-21T16:28:16.967Z"
   },
   {
    "duration": 6,
    "start_time": "2025-03-21T16:28:16.973Z"
   },
   {
    "duration": 33,
    "start_time": "2025-03-21T16:28:16.980Z"
   },
   {
    "duration": 35,
    "start_time": "2025-03-21T16:28:17.015Z"
   },
   {
    "duration": 4,
    "start_time": "2025-03-21T16:28:17.051Z"
   },
   {
    "duration": 20,
    "start_time": "2025-03-21T16:28:17.056Z"
   },
   {
    "duration": 8,
    "start_time": "2025-03-21T16:28:17.077Z"
   },
   {
    "duration": 25,
    "start_time": "2025-03-21T16:28:17.086Z"
   },
   {
    "duration": 12,
    "start_time": "2025-03-21T16:28:17.112Z"
   },
   {
    "duration": 31,
    "start_time": "2025-03-21T16:28:17.126Z"
   },
   {
    "duration": 3,
    "start_time": "2025-03-21T16:28:17.158Z"
   },
   {
    "duration": 37,
    "start_time": "2025-03-21T16:28:17.163Z"
   },
   {
    "duration": 15,
    "start_time": "2025-03-21T16:28:17.201Z"
   },
   {
    "duration": 21,
    "start_time": "2025-03-21T16:28:17.219Z"
   },
   {
    "duration": 19,
    "start_time": "2025-03-21T16:28:17.241Z"
   },
   {
    "duration": 14,
    "start_time": "2025-03-21T16:29:35.868Z"
   },
   {
    "duration": 62,
    "start_time": "2025-03-21T16:30:00.845Z"
   },
   {
    "duration": 10,
    "start_time": "2025-03-21T16:30:21.249Z"
   },
   {
    "duration": 10,
    "start_time": "2025-03-21T16:30:49.883Z"
   },
   {
    "duration": 7,
    "start_time": "2025-03-21T16:31:27.214Z"
   },
   {
    "duration": 6,
    "start_time": "2025-03-21T16:31:42.735Z"
   },
   {
    "duration": 7,
    "start_time": "2025-03-21T16:33:48.575Z"
   },
   {
    "duration": 10,
    "start_time": "2025-03-21T16:35:23.177Z"
   },
   {
    "duration": 19,
    "start_time": "2025-03-21T16:35:38.995Z"
   },
   {
    "duration": 10,
    "start_time": "2025-03-21T16:38:46.336Z"
   },
   {
    "duration": 19,
    "start_time": "2025-03-21T16:39:07.024Z"
   },
   {
    "duration": 13,
    "start_time": "2025-03-21T16:46:33.556Z"
   },
   {
    "duration": 6,
    "start_time": "2025-03-21T16:50:30.493Z"
   },
   {
    "duration": 20,
    "start_time": "2025-03-21T16:50:39.595Z"
   },
   {
    "duration": 8,
    "start_time": "2025-03-21T16:51:30.804Z"
   },
   {
    "duration": 6,
    "start_time": "2025-03-21T16:51:49.019Z"
   },
   {
    "duration": 10,
    "start_time": "2025-03-21T16:51:57.630Z"
   },
   {
    "duration": 8,
    "start_time": "2025-03-21T16:52:07.030Z"
   },
   {
    "duration": 8,
    "start_time": "2025-03-21T16:56:03.502Z"
   },
   {
    "duration": 11,
    "start_time": "2025-03-21T17:02:32.649Z"
   },
   {
    "duration": 9,
    "start_time": "2025-03-21T17:04:36.321Z"
   },
   {
    "duration": 21,
    "start_time": "2025-03-21T17:05:03.997Z"
   },
   {
    "duration": 5,
    "start_time": "2025-03-21T17:14:01.361Z"
   },
   {
    "duration": 6,
    "start_time": "2025-03-21T17:14:07.040Z"
   },
   {
    "duration": 8,
    "start_time": "2025-03-21T17:16:19.680Z"
   },
   {
    "duration": 6,
    "start_time": "2025-03-21T17:16:47.494Z"
   },
   {
    "duration": 7,
    "start_time": "2025-03-21T17:17:21.182Z"
   },
   {
    "duration": 20,
    "start_time": "2025-03-21T17:17:27.285Z"
   },
   {
    "duration": 17,
    "start_time": "2025-03-21T17:17:36.944Z"
   },
   {
    "duration": 18,
    "start_time": "2025-03-21T17:18:17.090Z"
   },
   {
    "duration": 13,
    "start_time": "2025-03-21T17:22:27.542Z"
   },
   {
    "duration": 9,
    "start_time": "2025-03-21T17:29:46.649Z"
   },
   {
    "duration": 13,
    "start_time": "2025-03-21T17:30:19.894Z"
   },
   {
    "duration": 1324,
    "start_time": "2025-03-21T17:30:37.550Z"
   },
   {
    "duration": 5,
    "start_time": "2025-03-21T17:30:45.439Z"
   },
   {
    "duration": 15,
    "start_time": "2025-03-21T17:38:16.808Z"
   },
   {
    "duration": 16,
    "start_time": "2025-03-21T17:39:07.432Z"
   },
   {
    "duration": 6,
    "start_time": "2025-03-21T17:58:16.777Z"
   },
   {
    "duration": 3,
    "start_time": "2025-03-21T17:58:31.366Z"
   },
   {
    "duration": 15,
    "start_time": "2025-03-21T17:59:11.385Z"
   },
   {
    "duration": 15,
    "start_time": "2025-03-21T17:59:32.553Z"
   },
   {
    "duration": 1322,
    "start_time": "2025-03-21T18:00:18.674Z"
   },
   {
    "duration": 4,
    "start_time": "2025-03-21T18:00:34.042Z"
   },
   {
    "duration": 11,
    "start_time": "2025-03-21T18:00:49.361Z"
   },
   {
    "duration": 5,
    "start_time": "2025-03-21T18:01:14.244Z"
   },
   {
    "duration": 3,
    "start_time": "2025-03-21T18:01:40.224Z"
   },
   {
    "duration": 5,
    "start_time": "2025-03-21T18:01:55.720Z"
   },
   {
    "duration": 7,
    "start_time": "2025-03-21T18:02:01.848Z"
   },
   {
    "duration": 3,
    "start_time": "2025-03-21T18:02:23.899Z"
   },
   {
    "duration": 7,
    "start_time": "2025-03-21T18:17:04.854Z"
   },
   {
    "duration": 37,
    "start_time": "2025-03-21T18:17:34.124Z"
   },
   {
    "duration": 15,
    "start_time": "2025-03-21T18:17:51.442Z"
   },
   {
    "duration": 26,
    "start_time": "2025-03-21T18:18:07.836Z"
   },
   {
    "duration": 11,
    "start_time": "2025-03-21T18:19:10.662Z"
   },
   {
    "duration": 17,
    "start_time": "2025-03-21T18:19:21.910Z"
   },
   {
    "duration": 5,
    "start_time": "2025-03-21T18:25:24.951Z"
   },
   {
    "duration": 27,
    "start_time": "2025-03-21T18:27:23.813Z"
   },
   {
    "duration": 23,
    "start_time": "2025-03-21T18:27:42.960Z"
   },
   {
    "duration": 26,
    "start_time": "2025-03-21T18:28:06.907Z"
   },
   {
    "duration": 25,
    "start_time": "2025-03-21T18:28:31.730Z"
   },
   {
    "duration": 5,
    "start_time": "2025-03-21T18:38:56.860Z"
   },
   {
    "duration": 4,
    "start_time": "2025-03-21T18:41:24.983Z"
   },
   {
    "duration": 386,
    "start_time": "2025-03-21T18:41:31.952Z"
   },
   {
    "duration": 109,
    "start_time": "2025-03-21T18:41:32.339Z"
   },
   {
    "duration": 14,
    "start_time": "2025-03-21T18:41:32.449Z"
   },
   {
    "duration": 22,
    "start_time": "2025-03-21T18:41:32.464Z"
   },
   {
    "duration": 97,
    "start_time": "2025-03-21T18:41:32.488Z"
   },
   {
    "duration": 89,
    "start_time": "2025-03-21T18:41:32.586Z"
   },
   {
    "duration": 50,
    "start_time": "2025-03-21T18:41:32.676Z"
   },
   {
    "duration": 226,
    "start_time": "2025-03-21T18:41:32.727Z"
   },
   {
    "duration": 18,
    "start_time": "2025-03-21T18:41:32.954Z"
   },
   {
    "duration": 26,
    "start_time": "2025-03-21T18:41:32.974Z"
   },
   {
    "duration": 19,
    "start_time": "2025-03-21T18:41:33.001Z"
   },
   {
    "duration": 11,
    "start_time": "2025-03-21T18:41:33.022Z"
   },
   {
    "duration": 20,
    "start_time": "2025-03-21T18:41:33.035Z"
   },
   {
    "duration": 31,
    "start_time": "2025-03-21T18:41:33.056Z"
   },
   {
    "duration": 29,
    "start_time": "2025-03-21T18:41:33.088Z"
   },
   {
    "duration": 12,
    "start_time": "2025-03-21T18:41:33.118Z"
   },
   {
    "duration": 23,
    "start_time": "2025-03-21T18:41:33.132Z"
   },
   {
    "duration": 4,
    "start_time": "2025-03-21T18:41:33.157Z"
   },
   {
    "duration": 18,
    "start_time": "2025-03-21T18:41:33.162Z"
   },
   {
    "duration": 26,
    "start_time": "2025-03-21T18:41:33.181Z"
   },
   {
    "duration": 21,
    "start_time": "2025-03-21T18:41:33.209Z"
   },
   {
    "duration": 22,
    "start_time": "2025-03-21T18:41:33.231Z"
   },
   {
    "duration": 23,
    "start_time": "2025-03-21T18:41:33.254Z"
   },
   {
    "duration": 38,
    "start_time": "2025-03-21T18:41:33.278Z"
   },
   {
    "duration": 23,
    "start_time": "2025-03-21T18:41:33.317Z"
   },
   {
    "duration": 22,
    "start_time": "2025-03-21T18:41:33.341Z"
   },
   {
    "duration": 21,
    "start_time": "2025-03-21T18:41:33.364Z"
   },
   {
    "duration": 10,
    "start_time": "2025-03-21T18:41:33.388Z"
   },
   {
    "duration": 22,
    "start_time": "2025-03-21T18:41:33.399Z"
   },
   {
    "duration": 25,
    "start_time": "2025-03-21T18:41:33.422Z"
   },
   {
    "duration": 26,
    "start_time": "2025-03-21T18:41:33.449Z"
   },
   {
    "duration": 126,
    "start_time": "2025-03-21T18:41:33.477Z"
   },
   {
    "duration": 21,
    "start_time": "2025-03-21T18:41:33.605Z"
   },
   {
    "duration": 27,
    "start_time": "2025-03-21T18:41:33.627Z"
   },
   {
    "duration": 25,
    "start_time": "2025-03-21T18:41:33.656Z"
   },
   {
    "duration": 18,
    "start_time": "2025-03-21T18:41:33.683Z"
   },
   {
    "duration": 24,
    "start_time": "2025-03-21T18:41:33.703Z"
   },
   {
    "duration": 25,
    "start_time": "2025-03-21T18:41:33.729Z"
   },
   {
    "duration": 28,
    "start_time": "2025-03-21T18:41:33.755Z"
   },
   {
    "duration": 14,
    "start_time": "2025-03-21T18:41:33.784Z"
   },
   {
    "duration": 27,
    "start_time": "2025-03-21T18:41:33.799Z"
   },
   {
    "duration": 5,
    "start_time": "2025-03-21T18:41:33.827Z"
   },
   {
    "duration": 40,
    "start_time": "2025-03-21T18:41:33.833Z"
   },
   {
    "duration": 31,
    "start_time": "2025-03-21T18:41:33.874Z"
   },
   {
    "duration": 6,
    "start_time": "2025-03-21T18:41:33.906Z"
   },
   {
    "duration": 50,
    "start_time": "2025-03-21T18:41:33.913Z"
   },
   {
    "duration": 21,
    "start_time": "2025-03-21T18:41:33.964Z"
   },
   {
    "duration": 20,
    "start_time": "2025-03-21T18:41:33.986Z"
   },
   {
    "duration": 26,
    "start_time": "2025-03-21T18:41:34.007Z"
   },
   {
    "duration": 6,
    "start_time": "2025-03-21T18:41:34.034Z"
   },
   {
    "duration": 15,
    "start_time": "2025-03-21T18:41:44.099Z"
   },
   {
    "duration": 365,
    "start_time": "2025-03-21T18:43:02.683Z"
   },
   {
    "duration": 109,
    "start_time": "2025-03-21T18:43:03.050Z"
   },
   {
    "duration": 13,
    "start_time": "2025-03-21T18:43:03.161Z"
   },
   {
    "duration": 23,
    "start_time": "2025-03-21T18:43:03.176Z"
   },
   {
    "duration": 23,
    "start_time": "2025-03-21T18:43:03.200Z"
   },
   {
    "duration": 9,
    "start_time": "2025-03-21T18:43:03.224Z"
   },
   {
    "duration": 21,
    "start_time": "2025-03-21T18:43:03.235Z"
   },
   {
    "duration": 11,
    "start_time": "2025-03-21T18:43:03.258Z"
   },
   {
    "duration": 37,
    "start_time": "2025-03-21T18:43:03.271Z"
   },
   {
    "duration": 16,
    "start_time": "2025-03-21T18:43:03.310Z"
   },
   {
    "duration": 28,
    "start_time": "2025-03-21T18:43:03.327Z"
   },
   {
    "duration": 31,
    "start_time": "2025-03-21T18:43:03.356Z"
   },
   {
    "duration": 18,
    "start_time": "2025-03-21T18:43:03.388Z"
   },
   {
    "duration": 17,
    "start_time": "2025-03-21T18:43:03.407Z"
   },
   {
    "duration": 36,
    "start_time": "2025-03-21T18:43:03.425Z"
   },
   {
    "duration": 130,
    "start_time": "2025-03-21T18:43:03.462Z"
   },
   {
    "duration": 29,
    "start_time": "2025-03-21T18:43:03.593Z"
   },
   {
    "duration": 6,
    "start_time": "2025-03-21T18:43:03.623Z"
   },
   {
    "duration": 36,
    "start_time": "2025-03-21T18:43:03.630Z"
   },
   {
    "duration": 13,
    "start_time": "2025-03-21T18:43:03.667Z"
   },
   {
    "duration": 39,
    "start_time": "2025-03-21T18:43:03.682Z"
   },
   {
    "duration": 24,
    "start_time": "2025-03-21T18:43:03.723Z"
   },
   {
    "duration": 26,
    "start_time": "2025-03-21T18:43:03.749Z"
   },
   {
    "duration": 32,
    "start_time": "2025-03-21T18:43:03.777Z"
   },
   {
    "duration": 9,
    "start_time": "2025-03-21T18:43:03.810Z"
   },
   {
    "duration": 17,
    "start_time": "2025-03-21T18:43:03.820Z"
   },
   {
    "duration": 17,
    "start_time": "2025-03-21T18:43:03.839Z"
   },
   {
    "duration": 22,
    "start_time": "2025-03-21T18:43:03.860Z"
   },
   {
    "duration": 17,
    "start_time": "2025-03-21T18:43:03.883Z"
   },
   {
    "duration": 24,
    "start_time": "2025-03-21T18:43:03.902Z"
   },
   {
    "duration": 40,
    "start_time": "2025-03-21T18:43:03.928Z"
   },
   {
    "duration": 5,
    "start_time": "2025-03-21T18:43:03.969Z"
   },
   {
    "duration": 39,
    "start_time": "2025-03-21T18:43:03.976Z"
   },
   {
    "duration": 8,
    "start_time": "2025-03-21T18:43:04.016Z"
   },
   {
    "duration": 34,
    "start_time": "2025-03-21T18:43:04.025Z"
   },
   {
    "duration": 10,
    "start_time": "2025-03-21T18:43:04.060Z"
   },
   {
    "duration": 26,
    "start_time": "2025-03-21T18:43:04.072Z"
   },
   {
    "duration": 4,
    "start_time": "2025-03-21T18:43:04.099Z"
   },
   {
    "duration": 7,
    "start_time": "2025-03-21T18:43:04.104Z"
   },
   {
    "duration": 5,
    "start_time": "2025-03-21T18:43:04.112Z"
   },
   {
    "duration": 44,
    "start_time": "2025-03-21T18:43:04.118Z"
   },
   {
    "duration": 4,
    "start_time": "2025-03-21T18:43:04.163Z"
   },
   {
    "duration": 29,
    "start_time": "2025-03-21T18:43:04.168Z"
   },
   {
    "duration": 16,
    "start_time": "2025-03-21T18:43:04.199Z"
   },
   {
    "duration": 8,
    "start_time": "2025-03-21T18:43:04.217Z"
   },
   {
    "duration": 50,
    "start_time": "2025-03-21T18:43:04.226Z"
   },
   {
    "duration": 10,
    "start_time": "2025-03-21T18:43:04.277Z"
   },
   {
    "duration": 20,
    "start_time": "2025-03-21T18:43:04.288Z"
   },
   {
    "duration": 14,
    "start_time": "2025-03-21T18:43:04.309Z"
   },
   {
    "duration": 11,
    "start_time": "2025-03-21T18:43:04.324Z"
   },
   {
    "duration": 24,
    "start_time": "2025-03-21T18:43:04.337Z"
   },
   {
    "duration": 9,
    "start_time": "2025-03-21T18:43:23.162Z"
   },
   {
    "duration": 5,
    "start_time": "2025-03-21T18:43:58.339Z"
   },
   {
    "duration": 9,
    "start_time": "2025-03-21T18:44:03.587Z"
   },
   {
    "duration": 377,
    "start_time": "2025-03-21T18:44:40.385Z"
   },
   {
    "duration": 107,
    "start_time": "2025-03-21T18:44:40.766Z"
   },
   {
    "duration": 12,
    "start_time": "2025-03-21T18:44:40.875Z"
   },
   {
    "duration": 55,
    "start_time": "2025-03-21T18:44:40.888Z"
   },
   {
    "duration": 17,
    "start_time": "2025-03-21T18:44:40.945Z"
   },
   {
    "duration": 6,
    "start_time": "2025-03-21T18:44:40.963Z"
   },
   {
    "duration": 7,
    "start_time": "2025-03-21T18:44:40.970Z"
   },
   {
    "duration": 11,
    "start_time": "2025-03-21T18:44:40.978Z"
   },
   {
    "duration": 19,
    "start_time": "2025-03-21T18:44:40.990Z"
   },
   {
    "duration": 4,
    "start_time": "2025-03-21T18:44:41.011Z"
   },
   {
    "duration": 14,
    "start_time": "2025-03-21T18:44:41.016Z"
   },
   {
    "duration": 17,
    "start_time": "2025-03-21T18:44:41.031Z"
   },
   {
    "duration": 12,
    "start_time": "2025-03-21T18:44:41.050Z"
   },
   {
    "duration": 4,
    "start_time": "2025-03-21T18:44:41.063Z"
   },
   {
    "duration": 18,
    "start_time": "2025-03-21T18:44:41.069Z"
   },
   {
    "duration": 6,
    "start_time": "2025-03-21T18:44:41.089Z"
   },
   {
    "duration": 39,
    "start_time": "2025-03-21T18:44:41.096Z"
   },
   {
    "duration": 6,
    "start_time": "2025-03-21T18:44:41.155Z"
   },
   {
    "duration": 11,
    "start_time": "2025-03-21T18:44:41.162Z"
   },
   {
    "duration": 4,
    "start_time": "2025-03-21T18:44:41.175Z"
   },
   {
    "duration": 8,
    "start_time": "2025-03-21T18:44:41.180Z"
   },
   {
    "duration": 18,
    "start_time": "2025-03-21T18:44:41.189Z"
   },
   {
    "duration": 13,
    "start_time": "2025-03-21T18:44:41.208Z"
   },
   {
    "duration": 49,
    "start_time": "2025-03-21T18:44:41.222Z"
   },
   {
    "duration": 4,
    "start_time": "2025-03-21T18:44:41.272Z"
   },
   {
    "duration": 6,
    "start_time": "2025-03-21T18:44:41.277Z"
   },
   {
    "duration": 15,
    "start_time": "2025-03-21T18:44:41.284Z"
   },
   {
    "duration": 7,
    "start_time": "2025-03-21T18:44:41.303Z"
   },
   {
    "duration": 6,
    "start_time": "2025-03-21T18:44:41.311Z"
   },
   {
    "duration": 17,
    "start_time": "2025-03-21T18:44:41.318Z"
   },
   {
    "duration": 39,
    "start_time": "2025-03-21T18:44:41.336Z"
   },
   {
    "duration": 5,
    "start_time": "2025-03-21T18:44:41.376Z"
   },
   {
    "duration": 23,
    "start_time": "2025-03-21T18:44:41.382Z"
   },
   {
    "duration": 7,
    "start_time": "2025-03-21T18:44:41.406Z"
   },
   {
    "duration": 27,
    "start_time": "2025-03-21T18:44:41.414Z"
   },
   {
    "duration": 41,
    "start_time": "2025-03-21T18:44:41.442Z"
   },
   {
    "duration": 102,
    "start_time": "2025-03-21T18:44:41.485Z"
   },
   {
    "duration": 27,
    "start_time": "2025-03-21T18:44:41.588Z"
   },
   {
    "duration": 8,
    "start_time": "2025-03-21T18:44:41.616Z"
   },
   {
    "duration": 4,
    "start_time": "2025-03-21T18:44:41.626Z"
   },
   {
    "duration": 25,
    "start_time": "2025-03-21T18:44:41.631Z"
   },
   {
    "duration": 4,
    "start_time": "2025-03-21T18:44:41.657Z"
   },
   {
    "duration": 6,
    "start_time": "2025-03-21T18:44:41.662Z"
   },
   {
    "duration": 16,
    "start_time": "2025-03-21T18:44:41.669Z"
   },
   {
    "duration": 14,
    "start_time": "2025-03-21T18:44:41.686Z"
   },
   {
    "duration": 39,
    "start_time": "2025-03-21T18:44:41.701Z"
   },
   {
    "duration": 22,
    "start_time": "2025-03-21T18:44:41.741Z"
   },
   {
    "duration": 15,
    "start_time": "2025-03-21T18:44:41.764Z"
   },
   {
    "duration": 28,
    "start_time": "2025-03-21T18:44:41.780Z"
   },
   {
    "duration": 4,
    "start_time": "2025-03-21T18:44:41.809Z"
   },
   {
    "duration": 23,
    "start_time": "2025-03-21T18:44:41.814Z"
   },
   {
    "duration": 375,
    "start_time": "2025-03-21T18:45:01.572Z"
   },
   {
    "duration": 111,
    "start_time": "2025-03-21T18:45:01.949Z"
   },
   {
    "duration": 13,
    "start_time": "2025-03-21T18:45:02.061Z"
   },
   {
    "duration": 36,
    "start_time": "2025-03-21T18:45:02.076Z"
   },
   {
    "duration": 67,
    "start_time": "2025-03-21T18:45:02.113Z"
   },
   {
    "duration": 25,
    "start_time": "2025-03-21T18:45:02.182Z"
   },
   {
    "duration": 5,
    "start_time": "2025-03-21T18:45:02.208Z"
   },
   {
    "duration": 28,
    "start_time": "2025-03-21T18:45:02.214Z"
   },
   {
    "duration": 26,
    "start_time": "2025-03-21T18:45:02.244Z"
   },
   {
    "duration": 25,
    "start_time": "2025-03-21T18:45:02.272Z"
   },
   {
    "duration": 15,
    "start_time": "2025-03-21T18:45:02.298Z"
   },
   {
    "duration": 11,
    "start_time": "2025-03-21T18:45:02.314Z"
   },
   {
    "duration": 15,
    "start_time": "2025-03-21T18:45:02.327Z"
   },
   {
    "duration": 19,
    "start_time": "2025-03-21T18:45:02.343Z"
   },
   {
    "duration": 57,
    "start_time": "2025-03-21T18:45:02.364Z"
   },
   {
    "duration": 73,
    "start_time": "2025-03-21T18:45:02.422Z"
   },
   {
    "duration": 142,
    "start_time": "2025-03-21T18:45:02.496Z"
   },
   {
    "duration": 5,
    "start_time": "2025-03-21T18:45:02.639Z"
   },
   {
    "duration": 34,
    "start_time": "2025-03-21T18:45:02.645Z"
   },
   {
    "duration": 34,
    "start_time": "2025-03-21T18:45:02.681Z"
   },
   {
    "duration": 78,
    "start_time": "2025-03-21T18:45:02.717Z"
   },
   {
    "duration": 138,
    "start_time": "2025-03-21T18:45:02.797Z"
   },
   {
    "duration": 49,
    "start_time": "2025-03-21T18:45:02.936Z"
   },
   {
    "duration": 22,
    "start_time": "2025-03-21T18:45:02.986Z"
   },
   {
    "duration": 16,
    "start_time": "2025-03-21T18:45:03.010Z"
   },
   {
    "duration": 32,
    "start_time": "2025-03-21T18:45:03.028Z"
   },
   {
    "duration": 8,
    "start_time": "2025-03-21T18:45:03.061Z"
   },
   {
    "duration": 50,
    "start_time": "2025-03-21T18:45:03.072Z"
   },
   {
    "duration": 28,
    "start_time": "2025-03-21T18:45:03.124Z"
   },
   {
    "duration": 65,
    "start_time": "2025-03-21T18:45:03.153Z"
   },
   {
    "duration": 23,
    "start_time": "2025-03-21T18:45:03.219Z"
   },
   {
    "duration": 5,
    "start_time": "2025-03-21T18:45:03.244Z"
   },
   {
    "duration": 26,
    "start_time": "2025-03-21T18:45:03.250Z"
   },
   {
    "duration": 10,
    "start_time": "2025-03-21T18:45:03.278Z"
   },
   {
    "duration": 56,
    "start_time": "2025-03-21T18:45:03.289Z"
   },
   {
    "duration": 31,
    "start_time": "2025-03-21T18:45:03.346Z"
   },
   {
    "duration": 46,
    "start_time": "2025-03-21T18:45:03.379Z"
   },
   {
    "duration": 4,
    "start_time": "2025-03-21T18:45:03.426Z"
   },
   {
    "duration": 8,
    "start_time": "2025-03-21T18:45:03.431Z"
   },
   {
    "duration": 36,
    "start_time": "2025-03-21T18:45:03.440Z"
   },
   {
    "duration": 151,
    "start_time": "2025-03-21T18:45:03.477Z"
   },
   {
    "duration": 5,
    "start_time": "2025-03-21T18:45:03.629Z"
   },
   {
    "duration": 19,
    "start_time": "2025-03-21T18:45:03.635Z"
   },
   {
    "duration": 19,
    "start_time": "2025-03-21T18:45:03.655Z"
   },
   {
    "duration": 32,
    "start_time": "2025-03-21T18:45:03.676Z"
   },
   {
    "duration": 38,
    "start_time": "2025-03-21T18:45:03.710Z"
   },
   {
    "duration": 94,
    "start_time": "2025-03-21T18:45:03.749Z"
   },
   {
    "duration": 21,
    "start_time": "2025-03-21T18:45:03.844Z"
   },
   {
    "duration": 36,
    "start_time": "2025-03-21T18:45:03.867Z"
   },
   {
    "duration": 5,
    "start_time": "2025-03-21T18:45:03.905Z"
   },
   {
    "duration": 17,
    "start_time": "2025-03-21T18:45:03.911Z"
   },
   {
    "duration": 345,
    "start_time": "2025-03-21T18:45:31.704Z"
   },
   {
    "duration": 108,
    "start_time": "2025-03-21T18:45:32.051Z"
   },
   {
    "duration": 11,
    "start_time": "2025-03-21T18:45:32.161Z"
   },
   {
    "duration": 31,
    "start_time": "2025-03-21T18:45:32.174Z"
   },
   {
    "duration": 18,
    "start_time": "2025-03-21T18:45:32.207Z"
   },
   {
    "duration": 11,
    "start_time": "2025-03-21T18:45:32.226Z"
   },
   {
    "duration": 28,
    "start_time": "2025-03-21T18:45:32.238Z"
   },
   {
    "duration": 33,
    "start_time": "2025-03-21T18:45:32.267Z"
   },
   {
    "duration": 17,
    "start_time": "2025-03-21T18:45:32.301Z"
   },
   {
    "duration": 30,
    "start_time": "2025-03-21T18:45:32.320Z"
   },
   {
    "duration": 20,
    "start_time": "2025-03-21T18:45:32.351Z"
   },
   {
    "duration": 28,
    "start_time": "2025-03-21T18:45:32.372Z"
   },
   {
    "duration": 72,
    "start_time": "2025-03-21T18:45:32.402Z"
   },
   {
    "duration": 20,
    "start_time": "2025-03-21T18:45:32.475Z"
   },
   {
    "duration": 13,
    "start_time": "2025-03-21T18:45:32.497Z"
   },
   {
    "duration": 133,
    "start_time": "2025-03-21T18:45:32.511Z"
   },
   {
    "duration": 39,
    "start_time": "2025-03-21T18:45:32.645Z"
   },
   {
    "duration": 18,
    "start_time": "2025-03-21T18:45:32.685Z"
   },
   {
    "duration": 13,
    "start_time": "2025-03-21T18:45:32.704Z"
   },
   {
    "duration": 104,
    "start_time": "2025-03-21T18:45:32.718Z"
   },
   {
    "duration": 138,
    "start_time": "2025-03-21T18:45:32.823Z"
   },
   {
    "duration": 26,
    "start_time": "2025-03-21T18:45:32.962Z"
   },
   {
    "duration": 24,
    "start_time": "2025-03-21T18:45:32.989Z"
   },
   {
    "duration": 21,
    "start_time": "2025-03-21T18:45:33.014Z"
   },
   {
    "duration": 14,
    "start_time": "2025-03-21T18:45:33.036Z"
   },
   {
    "duration": 6,
    "start_time": "2025-03-21T18:45:33.052Z"
   },
   {
    "duration": 7,
    "start_time": "2025-03-21T18:45:33.060Z"
   },
   {
    "duration": 22,
    "start_time": "2025-03-21T18:45:33.070Z"
   },
   {
    "duration": 29,
    "start_time": "2025-03-21T18:45:33.093Z"
   },
   {
    "duration": 53,
    "start_time": "2025-03-21T18:45:33.123Z"
   },
   {
    "duration": 21,
    "start_time": "2025-03-21T18:45:33.177Z"
   },
   {
    "duration": 4,
    "start_time": "2025-03-21T18:45:33.200Z"
   },
   {
    "duration": 26,
    "start_time": "2025-03-21T18:45:33.205Z"
   },
   {
    "duration": 7,
    "start_time": "2025-03-21T18:45:33.233Z"
   },
   {
    "duration": 53,
    "start_time": "2025-03-21T18:45:33.241Z"
   },
   {
    "duration": 14,
    "start_time": "2025-03-21T18:45:33.296Z"
   },
   {
    "duration": 23,
    "start_time": "2025-03-21T18:45:33.311Z"
   },
   {
    "duration": 20,
    "start_time": "2025-03-21T18:45:33.335Z"
   },
   {
    "duration": 21,
    "start_time": "2025-03-21T18:45:33.356Z"
   },
   {
    "duration": 10,
    "start_time": "2025-03-21T18:45:33.378Z"
   },
   {
    "duration": 32,
    "start_time": "2025-03-21T18:45:33.389Z"
   },
   {
    "duration": 12,
    "start_time": "2025-03-21T18:45:33.423Z"
   },
   {
    "duration": 44,
    "start_time": "2025-03-21T18:45:33.436Z"
   },
   {
    "duration": 137,
    "start_time": "2025-03-21T18:45:33.481Z"
   },
   {
    "duration": 5,
    "start_time": "2025-03-21T18:45:33.620Z"
   },
   {
    "duration": 39,
    "start_time": "2025-03-21T18:45:33.626Z"
   },
   {
    "duration": 27,
    "start_time": "2025-03-21T18:45:33.667Z"
   },
   {
    "duration": 22,
    "start_time": "2025-03-21T18:45:33.696Z"
   },
   {
    "duration": 14,
    "start_time": "2025-03-21T18:45:33.719Z"
   },
   {
    "duration": 21,
    "start_time": "2025-03-21T18:45:33.735Z"
   },
   {
    "duration": 29,
    "start_time": "2025-03-21T18:45:33.757Z"
   },
   {
    "duration": 10,
    "start_time": "2025-03-21T18:46:02.348Z"
   },
   {
    "duration": 9,
    "start_time": "2025-03-21T18:46:18.507Z"
   },
   {
    "duration": 111,
    "start_time": "2025-03-21T18:47:34.606Z"
   },
   {
    "duration": 12,
    "start_time": "2025-03-21T18:48:00.113Z"
   },
   {
    "duration": 7,
    "start_time": "2025-03-21T18:48:04.308Z"
   },
   {
    "duration": 6,
    "start_time": "2025-03-21T18:48:04.969Z"
   },
   {
    "duration": 10,
    "start_time": "2025-03-21T18:48:05.641Z"
   },
   {
    "duration": 4,
    "start_time": "2025-03-21T18:48:12.056Z"
   },
   {
    "duration": 21,
    "start_time": "2025-03-21T18:48:22.334Z"
   },
   {
    "duration": 5,
    "start_time": "2025-03-21T18:48:24.096Z"
   },
   {
    "duration": 6,
    "start_time": "2025-03-21T18:48:29.463Z"
   },
   {
    "duration": 4,
    "start_time": "2025-03-21T18:48:46.135Z"
   },
   {
    "duration": 7,
    "start_time": "2025-03-21T18:48:50.166Z"
   },
   {
    "duration": 4,
    "start_time": "2025-03-21T18:49:02.093Z"
   },
   {
    "duration": 4,
    "start_time": "2025-03-21T18:49:03.415Z"
   },
   {
    "duration": 9,
    "start_time": "2025-03-21T18:49:30.004Z"
   },
   {
    "duration": 7,
    "start_time": "2025-03-21T18:49:38.710Z"
   },
   {
    "duration": 10,
    "start_time": "2025-03-21T18:49:40.729Z"
   },
   {
    "duration": 6,
    "start_time": "2025-03-21T18:49:58.644Z"
   },
   {
    "duration": 8,
    "start_time": "2025-03-21T18:50:12.510Z"
   },
   {
    "duration": 9,
    "start_time": "2025-03-21T18:50:32.288Z"
   },
   {
    "duration": 16,
    "start_time": "2025-03-21T18:50:36.768Z"
   },
   {
    "duration": 9,
    "start_time": "2025-03-21T18:50:37.931Z"
   },
   {
    "duration": 373,
    "start_time": "2025-03-21T18:52:43.066Z"
   },
   {
    "duration": 108,
    "start_time": "2025-03-21T18:52:43.441Z"
   },
   {
    "duration": 12,
    "start_time": "2025-03-21T18:52:43.551Z"
   },
   {
    "duration": 8,
    "start_time": "2025-03-21T18:52:43.565Z"
   },
   {
    "duration": 19,
    "start_time": "2025-03-21T18:52:43.574Z"
   },
   {
    "duration": 5,
    "start_time": "2025-03-21T18:52:43.594Z"
   },
   {
    "duration": 5,
    "start_time": "2025-03-21T18:52:43.601Z"
   },
   {
    "duration": 14,
    "start_time": "2025-03-21T18:52:43.607Z"
   },
   {
    "duration": 19,
    "start_time": "2025-03-21T18:52:43.622Z"
   },
   {
    "duration": 15,
    "start_time": "2025-03-21T18:52:43.643Z"
   },
   {
    "duration": 11,
    "start_time": "2025-03-21T18:52:43.659Z"
   },
   {
    "duration": 12,
    "start_time": "2025-03-21T18:52:43.671Z"
   },
   {
    "duration": 12,
    "start_time": "2025-03-21T18:52:43.684Z"
   },
   {
    "duration": 4,
    "start_time": "2025-03-21T18:52:43.697Z"
   },
   {
    "duration": 11,
    "start_time": "2025-03-21T18:52:43.702Z"
   },
   {
    "duration": 6,
    "start_time": "2025-03-21T18:52:43.715Z"
   },
   {
    "duration": 48,
    "start_time": "2025-03-21T18:52:43.723Z"
   },
   {
    "duration": 5,
    "start_time": "2025-03-21T18:52:43.773Z"
   },
   {
    "duration": 11,
    "start_time": "2025-03-21T18:52:43.779Z"
   },
   {
    "duration": 5,
    "start_time": "2025-03-21T18:52:43.792Z"
   },
   {
    "duration": 8,
    "start_time": "2025-03-21T18:52:43.798Z"
   },
   {
    "duration": 50,
    "start_time": "2025-03-21T18:52:43.807Z"
   },
   {
    "duration": 20,
    "start_time": "2025-03-21T18:52:43.858Z"
   },
   {
    "duration": 16,
    "start_time": "2025-03-21T18:52:43.880Z"
   },
   {
    "duration": 4,
    "start_time": "2025-03-21T18:52:43.897Z"
   },
   {
    "duration": 7,
    "start_time": "2025-03-21T18:52:43.903Z"
   },
   {
    "duration": 4,
    "start_time": "2025-03-21T18:52:43.911Z"
   },
   {
    "duration": 3,
    "start_time": "2025-03-21T18:52:43.918Z"
   },
   {
    "duration": 5,
    "start_time": "2025-03-21T18:52:43.923Z"
   },
   {
    "duration": 42,
    "start_time": "2025-03-21T18:52:43.929Z"
   },
   {
    "duration": 23,
    "start_time": "2025-03-21T18:52:43.972Z"
   },
   {
    "duration": 4,
    "start_time": "2025-03-21T18:52:43.997Z"
   },
   {
    "duration": 20,
    "start_time": "2025-03-21T18:52:44.003Z"
   },
   {
    "duration": 32,
    "start_time": "2025-03-21T18:52:44.025Z"
   },
   {
    "duration": 21,
    "start_time": "2025-03-21T18:52:44.058Z"
   },
   {
    "duration": 12,
    "start_time": "2025-03-21T18:52:44.080Z"
   },
   {
    "duration": 25,
    "start_time": "2025-03-21T18:52:44.093Z"
   },
   {
    "duration": 5,
    "start_time": "2025-03-21T18:52:44.119Z"
   },
   {
    "duration": 10,
    "start_time": "2025-03-21T18:52:44.125Z"
   },
   {
    "duration": 22,
    "start_time": "2025-03-21T18:52:44.137Z"
   },
   {
    "duration": 34,
    "start_time": "2025-03-21T18:52:44.160Z"
   },
   {
    "duration": 4,
    "start_time": "2025-03-21T18:52:44.196Z"
   },
   {
    "duration": 15,
    "start_time": "2025-03-21T18:52:44.201Z"
   },
   {
    "duration": 20,
    "start_time": "2025-03-21T18:52:44.217Z"
   },
   {
    "duration": 25,
    "start_time": "2025-03-21T18:52:44.238Z"
   },
   {
    "duration": 47,
    "start_time": "2025-03-21T18:52:44.264Z"
   },
   {
    "duration": 12,
    "start_time": "2025-03-21T18:52:44.312Z"
   },
   {
    "duration": 19,
    "start_time": "2025-03-21T18:52:44.325Z"
   },
   {
    "duration": 11,
    "start_time": "2025-03-21T18:52:44.346Z"
   },
   {
    "duration": 4,
    "start_time": "2025-03-21T18:52:44.358Z"
   },
   {
    "duration": 28,
    "start_time": "2025-03-21T18:52:44.363Z"
   },
   {
    "duration": 10,
    "start_time": "2025-03-21T18:53:13.923Z"
   },
   {
    "duration": 358,
    "start_time": "2025-03-21T18:58:18.906Z"
   },
   {
    "duration": 108,
    "start_time": "2025-03-21T18:58:19.266Z"
   },
   {
    "duration": 13,
    "start_time": "2025-03-21T18:58:19.375Z"
   },
   {
    "duration": 8,
    "start_time": "2025-03-21T18:58:19.390Z"
   },
   {
    "duration": 17,
    "start_time": "2025-03-21T18:58:19.400Z"
   },
   {
    "duration": 13,
    "start_time": "2025-03-21T18:58:19.419Z"
   },
   {
    "duration": 5,
    "start_time": "2025-03-21T18:58:19.433Z"
   },
   {
    "duration": 34,
    "start_time": "2025-03-21T18:58:19.439Z"
   },
   {
    "duration": 5,
    "start_time": "2025-03-21T18:58:19.474Z"
   },
   {
    "duration": 4,
    "start_time": "2025-03-21T18:58:19.481Z"
   },
   {
    "duration": 14,
    "start_time": "2025-03-21T18:58:19.487Z"
   },
   {
    "duration": 12,
    "start_time": "2025-03-21T18:58:19.502Z"
   },
   {
    "duration": 14,
    "start_time": "2025-03-21T18:58:19.515Z"
   },
   {
    "duration": 27,
    "start_time": "2025-03-21T18:58:19.531Z"
   },
   {
    "duration": 122,
    "start_time": "2025-03-21T18:58:19.559Z"
   },
   {
    "duration": 4,
    "start_time": "2025-03-21T18:58:19.683Z"
   },
   {
    "duration": 22,
    "start_time": "2025-03-21T18:58:19.688Z"
   },
   {
    "duration": 5,
    "start_time": "2025-03-21T18:58:19.711Z"
   },
   {
    "duration": 12,
    "start_time": "2025-03-21T18:58:19.717Z"
   },
   {
    "duration": 5,
    "start_time": "2025-03-21T18:58:19.730Z"
   },
   {
    "duration": 20,
    "start_time": "2025-03-21T18:58:19.736Z"
   },
   {
    "duration": 18,
    "start_time": "2025-03-21T18:58:19.758Z"
   },
   {
    "duration": 17,
    "start_time": "2025-03-21T18:58:19.778Z"
   },
   {
    "duration": 31,
    "start_time": "2025-03-21T18:58:19.796Z"
   },
   {
    "duration": 3,
    "start_time": "2025-03-21T18:58:19.828Z"
   },
   {
    "duration": 25,
    "start_time": "2025-03-21T18:58:19.833Z"
   },
   {
    "duration": 7,
    "start_time": "2025-03-21T18:58:19.860Z"
   },
   {
    "duration": 3,
    "start_time": "2025-03-21T18:58:19.870Z"
   },
   {
    "duration": 5,
    "start_time": "2025-03-21T18:58:19.874Z"
   },
   {
    "duration": 17,
    "start_time": "2025-03-21T18:58:19.881Z"
   },
   {
    "duration": 23,
    "start_time": "2025-03-21T18:58:19.899Z"
   },
   {
    "duration": 8,
    "start_time": "2025-03-21T18:58:19.924Z"
   },
   {
    "duration": 39,
    "start_time": "2025-03-21T18:58:19.933Z"
   },
   {
    "duration": 8,
    "start_time": "2025-03-21T18:58:19.973Z"
   },
   {
    "duration": 10,
    "start_time": "2025-03-21T18:58:19.982Z"
   },
   {
    "duration": 11,
    "start_time": "2025-03-21T18:58:19.993Z"
   },
   {
    "duration": 40,
    "start_time": "2025-03-21T18:58:20.005Z"
   },
   {
    "duration": 4,
    "start_time": "2025-03-21T18:58:20.046Z"
   },
   {
    "duration": 9,
    "start_time": "2025-03-21T18:58:20.051Z"
   },
   {
    "duration": 19,
    "start_time": "2025-03-21T18:58:20.061Z"
   },
   {
    "duration": 27,
    "start_time": "2025-03-21T18:58:20.081Z"
   },
   {
    "duration": 4,
    "start_time": "2025-03-21T18:58:20.109Z"
   },
   {
    "duration": 13,
    "start_time": "2025-03-21T18:58:20.115Z"
   },
   {
    "duration": 45,
    "start_time": "2025-03-21T18:58:20.129Z"
   },
   {
    "duration": 6,
    "start_time": "2025-03-21T18:58:20.175Z"
   },
   {
    "duration": 43,
    "start_time": "2025-03-21T18:58:20.182Z"
   },
   {
    "duration": 10,
    "start_time": "2025-03-21T18:58:20.227Z"
   },
   {
    "duration": 20,
    "start_time": "2025-03-21T18:58:20.238Z"
   },
   {
    "duration": 8,
    "start_time": "2025-03-21T18:58:20.259Z"
   },
   {
    "duration": 5,
    "start_time": "2025-03-21T18:58:20.268Z"
   },
   {
    "duration": 23,
    "start_time": "2025-03-21T18:58:20.274Z"
   },
   {
    "duration": 23,
    "start_time": "2025-03-21T18:59:05.785Z"
   },
   {
    "duration": 16,
    "start_time": "2025-03-21T18:59:16.412Z"
   },
   {
    "duration": 65,
    "start_time": "2025-03-21T19:01:44.666Z"
   },
   {
    "duration": 5,
    "start_time": "2025-03-21T19:02:15.261Z"
   },
   {
    "duration": 6,
    "start_time": "2025-03-21T19:02:53.485Z"
   },
   {
    "duration": 4,
    "start_time": "2025-03-21T19:04:16.163Z"
   },
   {
    "duration": 13,
    "start_time": "2025-03-21T19:04:39.195Z"
   },
   {
    "duration": 109,
    "start_time": "2025-03-21T19:05:40.259Z"
   },
   {
    "duration": 12,
    "start_time": "2025-03-21T19:05:46.297Z"
   },
   {
    "duration": 9,
    "start_time": "2025-03-21T19:06:01.616Z"
   },
   {
    "duration": 12,
    "start_time": "2025-03-21T19:06:13.399Z"
   },
   {
    "duration": 6,
    "start_time": "2025-03-21T19:06:21.263Z"
   },
   {
    "duration": 5,
    "start_time": "2025-03-21T19:06:23.868Z"
   },
   {
    "duration": 11,
    "start_time": "2025-03-21T19:06:25.127Z"
   },
   {
    "duration": 13,
    "start_time": "2025-03-21T19:06:26.310Z"
   },
   {
    "duration": 4,
    "start_time": "2025-03-21T19:06:44.318Z"
   },
   {
    "duration": 13,
    "start_time": "2025-03-21T19:06:50.318Z"
   },
   {
    "duration": 340,
    "start_time": "2025-03-21T19:07:24.904Z"
   },
   {
    "duration": 108,
    "start_time": "2025-03-21T19:07:25.245Z"
   },
   {
    "duration": 11,
    "start_time": "2025-03-21T19:07:25.354Z"
   },
   {
    "duration": 17,
    "start_time": "2025-03-21T19:07:25.367Z"
   },
   {
    "duration": 42,
    "start_time": "2025-03-21T19:07:25.386Z"
   },
   {
    "duration": 5,
    "start_time": "2025-03-21T19:07:25.429Z"
   },
   {
    "duration": 23,
    "start_time": "2025-03-21T19:07:25.435Z"
   },
   {
    "duration": 11,
    "start_time": "2025-03-21T19:07:25.459Z"
   },
   {
    "duration": 27,
    "start_time": "2025-03-21T19:07:25.472Z"
   },
   {
    "duration": 29,
    "start_time": "2025-03-21T19:07:25.500Z"
   },
   {
    "duration": 56,
    "start_time": "2025-03-21T19:07:25.530Z"
   },
   {
    "duration": 18,
    "start_time": "2025-03-21T19:07:25.587Z"
   },
   {
    "duration": 88,
    "start_time": "2025-03-21T19:07:25.606Z"
   },
   {
    "duration": 41,
    "start_time": "2025-03-21T19:07:25.695Z"
   },
   {
    "duration": 16,
    "start_time": "2025-03-21T19:07:25.738Z"
   },
   {
    "duration": 5,
    "start_time": "2025-03-21T19:07:25.755Z"
   },
   {
    "duration": 21,
    "start_time": "2025-03-21T19:07:25.761Z"
   },
   {
    "duration": 4,
    "start_time": "2025-03-21T19:07:25.783Z"
   },
   {
    "duration": 15,
    "start_time": "2025-03-21T19:07:25.788Z"
   },
   {
    "duration": 11,
    "start_time": "2025-03-21T19:07:25.804Z"
   },
   {
    "duration": 14,
    "start_time": "2025-03-21T19:07:25.816Z"
   },
   {
    "duration": 25,
    "start_time": "2025-03-21T19:07:25.831Z"
   },
   {
    "duration": 13,
    "start_time": "2025-03-21T19:07:25.858Z"
   },
   {
    "duration": 34,
    "start_time": "2025-03-21T19:07:25.873Z"
   },
   {
    "duration": 21,
    "start_time": "2025-03-21T19:07:25.909Z"
   },
   {
    "duration": 6,
    "start_time": "2025-03-21T19:07:25.932Z"
   },
   {
    "duration": 6,
    "start_time": "2025-03-21T19:07:25.939Z"
   },
   {
    "duration": 4,
    "start_time": "2025-03-21T19:07:25.948Z"
   },
   {
    "duration": 6,
    "start_time": "2025-03-21T19:07:25.953Z"
   },
   {
    "duration": 15,
    "start_time": "2025-03-21T19:07:25.960Z"
   },
   {
    "duration": 20,
    "start_time": "2025-03-21T19:07:25.976Z"
   },
   {
    "duration": 4,
    "start_time": "2025-03-21T19:07:25.997Z"
   },
   {
    "duration": 22,
    "start_time": "2025-03-21T19:07:26.002Z"
   },
   {
    "duration": 7,
    "start_time": "2025-03-21T19:07:26.025Z"
   },
   {
    "duration": 28,
    "start_time": "2025-03-21T19:07:26.033Z"
   },
   {
    "duration": 10,
    "start_time": "2025-03-21T19:07:26.062Z"
   },
   {
    "duration": 21,
    "start_time": "2025-03-21T19:07:26.073Z"
   },
   {
    "duration": 4,
    "start_time": "2025-03-21T19:07:26.096Z"
   },
   {
    "duration": 10,
    "start_time": "2025-03-21T19:07:26.101Z"
   },
   {
    "duration": 5,
    "start_time": "2025-03-21T19:07:26.112Z"
   },
   {
    "duration": 43,
    "start_time": "2025-03-21T19:07:26.118Z"
   },
   {
    "duration": 4,
    "start_time": "2025-03-21T19:07:26.162Z"
   },
   {
    "duration": 12,
    "start_time": "2025-03-21T19:07:26.167Z"
   },
   {
    "duration": 31,
    "start_time": "2025-03-21T19:07:26.180Z"
   },
   {
    "duration": 4,
    "start_time": "2025-03-21T19:07:26.212Z"
   },
   {
    "duration": 38,
    "start_time": "2025-03-21T19:07:26.217Z"
   },
   {
    "duration": 8,
    "start_time": "2025-03-21T19:07:26.257Z"
   },
   {
    "duration": 16,
    "start_time": "2025-03-21T19:07:26.266Z"
   },
   {
    "duration": 8,
    "start_time": "2025-03-21T19:07:26.283Z"
   },
   {
    "duration": 4,
    "start_time": "2025-03-21T19:07:26.292Z"
   },
   {
    "duration": 23,
    "start_time": "2025-03-21T19:07:26.297Z"
   },
   {
    "duration": 4,
    "start_time": "2025-03-21T19:07:26.321Z"
   },
   {
    "duration": 8,
    "start_time": "2025-03-21T19:07:26.326Z"
   },
   {
    "duration": 4,
    "start_time": "2025-03-21T19:09:59.671Z"
   },
   {
    "duration": 4,
    "start_time": "2025-03-21T19:13:58.879Z"
   },
   {
    "duration": 398,
    "start_time": "2025-03-21T19:14:20.622Z"
   },
   {
    "duration": 4,
    "start_time": "2025-03-21T19:14:28.485Z"
   },
   {
    "duration": 4,
    "start_time": "2025-03-21T19:19:45.962Z"
   },
   {
    "duration": 6,
    "start_time": "2025-03-21T19:24:14.661Z"
   },
   {
    "duration": 4,
    "start_time": "2025-03-21T19:24:31.526Z"
   },
   {
    "duration": 9,
    "start_time": "2025-03-21T19:24:47.043Z"
   },
   {
    "duration": 8,
    "start_time": "2025-03-21T19:26:03.092Z"
   },
   {
    "duration": 11,
    "start_time": "2025-03-21T19:26:25.341Z"
   },
   {
    "duration": 5,
    "start_time": "2025-03-21T19:27:18.872Z"
   },
   {
    "duration": 4,
    "start_time": "2025-03-21T19:28:56.702Z"
   },
   {
    "duration": 4,
    "start_time": "2025-03-21T19:28:57.776Z"
   },
   {
    "duration": 4,
    "start_time": "2025-03-21T19:29:05.492Z"
   },
   {
    "duration": 6,
    "start_time": "2025-03-21T19:29:31.893Z"
   },
   {
    "duration": 386,
    "start_time": "2025-03-21T19:30:46.225Z"
   },
   {
    "duration": 117,
    "start_time": "2025-03-21T19:30:46.613Z"
   },
   {
    "duration": 14,
    "start_time": "2025-03-21T19:30:46.732Z"
   },
   {
    "duration": 33,
    "start_time": "2025-03-21T19:30:46.748Z"
   },
   {
    "duration": 18,
    "start_time": "2025-03-21T19:30:46.782Z"
   },
   {
    "duration": 6,
    "start_time": "2025-03-21T19:30:46.801Z"
   },
   {
    "duration": 4,
    "start_time": "2025-03-21T19:30:46.808Z"
   },
   {
    "duration": 11,
    "start_time": "2025-03-21T19:30:46.813Z"
   },
   {
    "duration": 7,
    "start_time": "2025-03-21T19:30:46.825Z"
   },
   {
    "duration": 4,
    "start_time": "2025-03-21T19:30:46.834Z"
   },
   {
    "duration": 17,
    "start_time": "2025-03-21T19:30:46.839Z"
   },
   {
    "duration": 11,
    "start_time": "2025-03-21T19:30:46.857Z"
   },
   {
    "duration": 12,
    "start_time": "2025-03-21T19:30:46.869Z"
   },
   {
    "duration": 106,
    "start_time": "2025-03-21T19:30:46.882Z"
   },
   {
    "duration": 38,
    "start_time": "2025-03-21T19:30:46.989Z"
   },
   {
    "duration": 80,
    "start_time": "2025-03-21T19:30:47.028Z"
   },
   {
    "duration": 22,
    "start_time": "2025-03-21T19:30:47.110Z"
   },
   {
    "duration": 5,
    "start_time": "2025-03-21T19:30:47.133Z"
   },
   {
    "duration": 11,
    "start_time": "2025-03-21T19:30:47.139Z"
   },
   {
    "duration": 6,
    "start_time": "2025-03-21T19:30:47.151Z"
   },
   {
    "duration": 20,
    "start_time": "2025-03-21T19:30:47.158Z"
   },
   {
    "duration": 25,
    "start_time": "2025-03-21T19:30:47.180Z"
   },
   {
    "duration": 19,
    "start_time": "2025-03-21T19:30:47.206Z"
   },
   {
    "duration": 23,
    "start_time": "2025-03-21T19:30:47.226Z"
   },
   {
    "duration": 8,
    "start_time": "2025-03-21T19:30:47.250Z"
   },
   {
    "duration": 6,
    "start_time": "2025-03-21T19:30:47.259Z"
   },
   {
    "duration": 6,
    "start_time": "2025-03-21T19:30:47.266Z"
   },
   {
    "duration": 3,
    "start_time": "2025-03-21T19:30:47.274Z"
   },
   {
    "duration": 11,
    "start_time": "2025-03-21T19:30:47.278Z"
   },
   {
    "duration": 18,
    "start_time": "2025-03-21T19:30:47.291Z"
   },
   {
    "duration": 21,
    "start_time": "2025-03-21T19:30:47.310Z"
   },
   {
    "duration": 4,
    "start_time": "2025-03-21T19:30:47.332Z"
   },
   {
    "duration": 36,
    "start_time": "2025-03-21T19:30:47.337Z"
   },
   {
    "duration": 8,
    "start_time": "2025-03-21T19:30:47.374Z"
   },
   {
    "duration": 8,
    "start_time": "2025-03-21T19:30:47.384Z"
   },
   {
    "duration": 14,
    "start_time": "2025-03-21T19:30:47.393Z"
   },
   {
    "duration": 22,
    "start_time": "2025-03-21T19:30:47.408Z"
   },
   {
    "duration": 4,
    "start_time": "2025-03-21T19:30:47.455Z"
   },
   {
    "duration": 15,
    "start_time": "2025-03-21T19:30:47.460Z"
   },
   {
    "duration": 5,
    "start_time": "2025-03-21T19:30:47.476Z"
   },
   {
    "duration": 21,
    "start_time": "2025-03-21T19:30:47.482Z"
   },
   {
    "duration": 4,
    "start_time": "2025-03-21T19:30:47.505Z"
   },
   {
    "duration": 8,
    "start_time": "2025-03-21T19:30:47.510Z"
   },
   {
    "duration": 19,
    "start_time": "2025-03-21T19:30:47.519Z"
   },
   {
    "duration": 5,
    "start_time": "2025-03-21T19:30:47.556Z"
   },
   {
    "duration": 47,
    "start_time": "2025-03-21T19:30:47.562Z"
   },
   {
    "duration": 10,
    "start_time": "2025-03-21T19:30:47.611Z"
   },
   {
    "duration": 21,
    "start_time": "2025-03-21T19:30:47.622Z"
   },
   {
    "duration": 12,
    "start_time": "2025-03-21T19:30:47.644Z"
   },
   {
    "duration": 5,
    "start_time": "2025-03-21T19:30:47.657Z"
   },
   {
    "duration": 26,
    "start_time": "2025-03-21T19:30:47.663Z"
   },
   {
    "duration": 4,
    "start_time": "2025-03-21T19:30:47.690Z"
   },
   {
    "duration": 89,
    "start_time": "2025-03-21T19:30:47.696Z"
   },
   {
    "duration": 65,
    "start_time": "2025-03-21T19:30:47.786Z"
   },
   {
    "duration": 5,
    "start_time": "2025-03-21T19:31:05.990Z"
   },
   {
    "duration": 412,
    "start_time": "2025-03-23T18:21:25.199Z"
   },
   {
    "duration": 128,
    "start_time": "2025-03-23T18:21:25.614Z"
   },
   {
    "duration": 16,
    "start_time": "2025-03-23T18:21:25.744Z"
   },
   {
    "duration": 11,
    "start_time": "2025-03-23T18:21:25.763Z"
   },
   {
    "duration": 20,
    "start_time": "2025-03-23T18:21:25.775Z"
   },
   {
    "duration": 6,
    "start_time": "2025-03-23T18:21:25.797Z"
   },
   {
    "duration": 30,
    "start_time": "2025-03-23T18:21:25.805Z"
   },
   {
    "duration": 14,
    "start_time": "2025-03-23T18:21:25.837Z"
   },
   {
    "duration": 6,
    "start_time": "2025-03-23T18:21:25.852Z"
   },
   {
    "duration": 5,
    "start_time": "2025-03-23T18:21:25.860Z"
   },
   {
    "duration": 15,
    "start_time": "2025-03-23T18:21:25.867Z"
   },
   {
    "duration": 15,
    "start_time": "2025-03-23T18:21:25.883Z"
   },
   {
    "duration": 43,
    "start_time": "2025-03-23T18:21:25.899Z"
   },
   {
    "duration": 4,
    "start_time": "2025-03-23T18:21:25.943Z"
   },
   {
    "duration": 18,
    "start_time": "2025-03-23T18:21:25.949Z"
   },
   {
    "duration": 5,
    "start_time": "2025-03-23T18:21:25.968Z"
   },
   {
    "duration": 23,
    "start_time": "2025-03-23T18:21:25.974Z"
   },
   {
    "duration": 5,
    "start_time": "2025-03-23T18:21:25.999Z"
   },
   {
    "duration": 42,
    "start_time": "2025-03-23T18:21:26.005Z"
   },
   {
    "duration": 6,
    "start_time": "2025-03-23T18:21:26.048Z"
   },
   {
    "duration": 10,
    "start_time": "2025-03-23T18:21:26.055Z"
   },
   {
    "duration": 23,
    "start_time": "2025-03-23T18:21:26.066Z"
   },
   {
    "duration": 79,
    "start_time": "2025-03-23T18:21:26.091Z"
   },
   {
    "duration": 18,
    "start_time": "2025-03-23T18:21:26.171Z"
   },
   {
    "duration": 24,
    "start_time": "2025-03-23T18:21:26.190Z"
   },
   {
    "duration": 8,
    "start_time": "2025-03-23T18:21:26.215Z"
   },
   {
    "duration": 5,
    "start_time": "2025-03-23T18:21:26.224Z"
   },
   {
    "duration": 4,
    "start_time": "2025-03-23T18:21:26.232Z"
   },
   {
    "duration": 5,
    "start_time": "2025-03-23T18:21:26.237Z"
   },
   {
    "duration": 19,
    "start_time": "2025-03-23T18:21:26.244Z"
   },
   {
    "duration": 24,
    "start_time": "2025-03-23T18:21:26.265Z"
   },
   {
    "duration": 5,
    "start_time": "2025-03-23T18:21:26.290Z"
   },
   {
    "duration": 45,
    "start_time": "2025-03-23T18:21:26.297Z"
   },
   {
    "duration": 8,
    "start_time": "2025-03-23T18:21:26.344Z"
   },
   {
    "duration": 13,
    "start_time": "2025-03-23T18:21:26.353Z"
   },
   {
    "duration": 12,
    "start_time": "2025-03-23T18:21:26.367Z"
   },
   {
    "duration": 27,
    "start_time": "2025-03-23T18:21:26.380Z"
   },
   {
    "duration": 27,
    "start_time": "2025-03-23T18:21:26.409Z"
   },
   {
    "duration": 8,
    "start_time": "2025-03-23T18:21:26.438Z"
   },
   {
    "duration": 5,
    "start_time": "2025-03-23T18:21:26.448Z"
   },
   {
    "duration": 20,
    "start_time": "2025-03-23T18:21:26.454Z"
   },
   {
    "duration": 5,
    "start_time": "2025-03-23T18:21:26.475Z"
   },
   {
    "duration": 6,
    "start_time": "2025-03-23T18:21:26.482Z"
   },
   {
    "duration": 56,
    "start_time": "2025-03-23T18:21:26.489Z"
   },
   {
    "duration": 75,
    "start_time": "2025-03-23T18:21:26.547Z"
   },
   {
    "duration": 60,
    "start_time": "2025-03-23T18:21:26.624Z"
   },
   {
    "duration": 12,
    "start_time": "2025-03-23T18:21:26.685Z"
   },
   {
    "duration": 22,
    "start_time": "2025-03-23T18:21:26.698Z"
   },
   {
    "duration": 21,
    "start_time": "2025-03-23T18:21:26.721Z"
   },
   {
    "duration": 6,
    "start_time": "2025-03-23T18:21:26.743Z"
   },
   {
    "duration": 27,
    "start_time": "2025-03-23T18:21:26.751Z"
   },
   {
    "duration": 5,
    "start_time": "2025-03-23T18:21:26.779Z"
   },
   {
    "duration": 4,
    "start_time": "2025-03-23T18:21:26.786Z"
   },
   {
    "duration": 95,
    "start_time": "2025-03-23T18:21:26.791Z"
   },
   {
    "duration": 13,
    "start_time": "2025-03-23T18:41:59.966Z"
   },
   {
    "duration": 11,
    "start_time": "2025-03-23T18:46:56.541Z"
   },
   {
    "duration": 17,
    "start_time": "2025-03-23T18:47:29.899Z"
   },
   {
    "duration": 12,
    "start_time": "2025-03-23T18:47:46.028Z"
   },
   {
    "duration": 12,
    "start_time": "2025-03-23T18:48:24.305Z"
   },
   {
    "duration": 7,
    "start_time": "2025-03-23T18:52:28.964Z"
   },
   {
    "duration": 9,
    "start_time": "2025-03-23T18:52:43.219Z"
   },
   {
    "duration": 7,
    "start_time": "2025-03-23T18:59:17.467Z"
   },
   {
    "duration": 81,
    "start_time": "2025-03-23T18:59:49.026Z"
   },
   {
    "duration": 17,
    "start_time": "2025-03-23T19:00:01.071Z"
   },
   {
    "duration": 16,
    "start_time": "2025-03-23T19:00:44.008Z"
   },
   {
    "duration": 8,
    "start_time": "2025-03-23T19:15:08.246Z"
   },
   {
    "duration": 105,
    "start_time": "2025-03-23T19:15:19.021Z"
   },
   {
    "duration": 12,
    "start_time": "2025-03-23T19:15:24.882Z"
   },
   {
    "duration": 351,
    "start_time": "2025-03-23T19:21:33.204Z"
   },
   {
    "duration": 170,
    "start_time": "2025-03-23T19:22:43.226Z"
   },
   {
    "duration": 313,
    "start_time": "2025-03-23T19:22:58.716Z"
   },
   {
    "duration": 1617,
    "start_time": "2025-03-23T19:23:08.873Z"
   },
   {
    "duration": 192,
    "start_time": "2025-03-23T19:23:16.567Z"
   },
   {
    "duration": 155,
    "start_time": "2025-03-23T19:23:40.386Z"
   },
   {
    "duration": 154,
    "start_time": "2025-03-23T19:24:53.901Z"
   },
   {
    "duration": 152,
    "start_time": "2025-03-23T19:25:19.861Z"
   },
   {
    "duration": 148,
    "start_time": "2025-03-23T19:25:48.091Z"
   },
   {
    "duration": 84,
    "start_time": "2025-03-23T19:26:13.392Z"
   },
   {
    "duration": 152,
    "start_time": "2025-03-23T19:26:33.569Z"
   },
   {
    "duration": 252,
    "start_time": "2025-03-23T19:28:29.271Z"
   },
   {
    "duration": 149,
    "start_time": "2025-03-23T19:30:32.571Z"
   },
   {
    "duration": 149,
    "start_time": "2025-03-23T19:30:52.119Z"
   },
   {
    "duration": 164,
    "start_time": "2025-03-23T19:33:18.192Z"
   },
   {
    "duration": 152,
    "start_time": "2025-03-23T19:33:35.773Z"
   },
   {
    "duration": 159,
    "start_time": "2025-03-23T19:33:43.403Z"
   },
   {
    "duration": 161,
    "start_time": "2025-03-23T19:33:49.961Z"
   },
   {
    "duration": 171,
    "start_time": "2025-03-23T19:34:00.539Z"
   },
   {
    "duration": 88,
    "start_time": "2025-03-23T19:35:25.650Z"
   },
   {
    "duration": 163,
    "start_time": "2025-03-23T19:35:33.840Z"
   },
   {
    "duration": 172,
    "start_time": "2025-03-23T19:35:42.526Z"
   },
   {
    "duration": 166,
    "start_time": "2025-03-23T19:35:48.345Z"
   },
   {
    "duration": 230,
    "start_time": "2025-03-23T19:35:55.621Z"
   },
   {
    "duration": 163,
    "start_time": "2025-03-23T19:36:02.184Z"
   },
   {
    "duration": 162,
    "start_time": "2025-03-23T19:36:19.986Z"
   },
   {
    "duration": 157,
    "start_time": "2025-03-23T19:36:29.410Z"
   },
   {
    "duration": 174,
    "start_time": "2025-03-23T19:38:23.201Z"
   },
   {
    "duration": 200,
    "start_time": "2025-03-23T19:38:43.842Z"
   },
   {
    "duration": 17,
    "start_time": "2025-03-23T19:54:49.193Z"
   },
   {
    "duration": 19,
    "start_time": "2025-03-23T19:59:49.769Z"
   },
   {
    "duration": 5,
    "start_time": "2025-03-23T20:00:41.693Z"
   },
   {
    "duration": 22,
    "start_time": "2025-03-23T20:08:51.223Z"
   },
   {
    "duration": 12,
    "start_time": "2025-03-23T20:09:12.318Z"
   },
   {
    "duration": 17,
    "start_time": "2025-03-23T20:11:15.154Z"
   },
   {
    "duration": 19,
    "start_time": "2025-03-23T20:12:44.445Z"
   },
   {
    "duration": 19,
    "start_time": "2025-03-23T20:14:12.092Z"
   },
   {
    "duration": 15,
    "start_time": "2025-03-23T20:16:40.854Z"
   },
   {
    "duration": 172,
    "start_time": "2025-03-23T20:18:21.563Z"
   },
   {
    "duration": 166,
    "start_time": "2025-03-23T20:19:50.683Z"
   },
   {
    "duration": 179,
    "start_time": "2025-03-23T20:21:19.032Z"
   },
   {
    "duration": 176,
    "start_time": "2025-03-23T20:21:38.166Z"
   },
   {
    "duration": 112,
    "start_time": "2025-03-23T20:21:51.002Z"
   },
   {
    "duration": 78,
    "start_time": "2025-03-23T20:21:56.519Z"
   },
   {
    "duration": 185,
    "start_time": "2025-03-23T20:22:11.558Z"
   },
   {
    "duration": 243,
    "start_time": "2025-03-23T20:23:10.932Z"
   },
   {
    "duration": 194,
    "start_time": "2025-03-23T20:26:18.647Z"
   },
   {
    "duration": 187,
    "start_time": "2025-03-23T20:26:29.534Z"
   },
   {
    "duration": 190,
    "start_time": "2025-03-23T20:29:16.195Z"
   },
   {
    "duration": 189,
    "start_time": "2025-03-23T20:29:47.581Z"
   },
   {
    "duration": 190,
    "start_time": "2025-03-23T20:30:06.818Z"
   },
   {
    "duration": 205,
    "start_time": "2025-03-23T20:30:20.857Z"
   },
   {
    "duration": 187,
    "start_time": "2025-03-23T20:32:06.615Z"
   },
   {
    "duration": 401,
    "start_time": "2025-03-23T20:34:20.620Z"
   },
   {
    "duration": 394,
    "start_time": "2025-03-23T20:36:17.646Z"
   },
   {
    "duration": 453,
    "start_time": "2025-03-23T20:36:39.337Z"
   },
   {
    "duration": 506,
    "start_time": "2025-03-23T20:36:56.457Z"
   },
   {
    "duration": 454,
    "start_time": "2025-03-23T20:37:23.257Z"
   },
   {
    "duration": 493,
    "start_time": "2025-03-23T20:37:49.750Z"
   },
   {
    "duration": 494,
    "start_time": "2025-03-23T20:38:00.710Z"
   },
   {
    "duration": 404,
    "start_time": "2025-03-23T20:38:32.374Z"
   },
   {
    "duration": 445,
    "start_time": "2025-03-23T20:38:45.038Z"
   },
   {
    "duration": 441,
    "start_time": "2025-03-23T20:38:54.509Z"
   },
   {
    "duration": 317,
    "start_time": "2025-03-23T20:40:36.051Z"
   },
   {
    "duration": 539,
    "start_time": "2025-03-23T20:40:52.238Z"
   },
   {
    "duration": 344,
    "start_time": "2025-03-23T20:41:00.825Z"
   },
   {
    "duration": 416,
    "start_time": "2025-03-23T20:41:09.281Z"
   },
   {
    "duration": 465,
    "start_time": "2025-03-23T20:42:01.904Z"
   },
   {
    "duration": 20,
    "start_time": "2025-03-23T20:43:36.005Z"
   },
   {
    "duration": 222,
    "start_time": "2025-03-23T20:44:15.580Z"
   },
   {
    "duration": 235,
    "start_time": "2025-03-23T20:44:29.414Z"
   },
   {
    "duration": 321,
    "start_time": "2025-03-23T20:44:43.053Z"
   },
   {
    "duration": 233,
    "start_time": "2025-03-23T20:44:49.636Z"
   },
   {
    "duration": 203,
    "start_time": "2025-03-23T20:44:58.069Z"
   },
   {
    "duration": 223,
    "start_time": "2025-03-23T20:45:21.266Z"
   },
   {
    "duration": 212,
    "start_time": "2025-03-23T20:45:47.758Z"
   },
   {
    "duration": 222,
    "start_time": "2025-03-23T20:46:09.483Z"
   },
   {
    "duration": 421,
    "start_time": "2025-03-23T20:46:57.464Z"
   },
   {
    "duration": 462,
    "start_time": "2025-03-23T20:47:21.095Z"
   },
   {
    "duration": 764,
    "start_time": "2025-03-24T17:39:25.483Z"
   },
   {
    "duration": 204,
    "start_time": "2025-03-24T17:39:26.249Z"
   },
   {
    "duration": 18,
    "start_time": "2025-03-24T17:39:26.455Z"
   },
   {
    "duration": 10,
    "start_time": "2025-03-24T17:39:26.475Z"
   },
   {
    "duration": 24,
    "start_time": "2025-03-24T17:39:26.486Z"
   },
   {
    "duration": 53,
    "start_time": "2025-03-24T17:39:26.513Z"
   },
   {
    "duration": 23,
    "start_time": "2025-03-24T17:39:26.568Z"
   },
   {
    "duration": 13,
    "start_time": "2025-03-24T17:39:26.593Z"
   },
   {
    "duration": 6,
    "start_time": "2025-03-24T17:39:26.607Z"
   },
   {
    "duration": 5,
    "start_time": "2025-03-24T17:39:26.616Z"
   },
   {
    "duration": 11,
    "start_time": "2025-03-24T17:39:26.622Z"
   },
   {
    "duration": 14,
    "start_time": "2025-03-24T17:39:26.634Z"
   },
   {
    "duration": 15,
    "start_time": "2025-03-24T17:39:26.650Z"
   },
   {
    "duration": 73,
    "start_time": "2025-03-24T17:39:26.666Z"
   },
   {
    "duration": 16,
    "start_time": "2025-03-24T17:39:26.740Z"
   },
   {
    "duration": 4,
    "start_time": "2025-03-24T17:39:26.758Z"
   },
   {
    "duration": 24,
    "start_time": "2025-03-24T17:39:26.763Z"
   },
   {
    "duration": 5,
    "start_time": "2025-03-24T17:39:26.789Z"
   },
   {
    "duration": 13,
    "start_time": "2025-03-24T17:39:26.795Z"
   },
   {
    "duration": 29,
    "start_time": "2025-03-24T17:39:26.810Z"
   },
   {
    "duration": 83,
    "start_time": "2025-03-24T17:39:26.840Z"
   },
   {
    "duration": 22,
    "start_time": "2025-03-24T17:39:26.924Z"
   },
   {
    "duration": 85,
    "start_time": "2025-03-24T17:39:26.948Z"
   },
   {
    "duration": 30,
    "start_time": "2025-03-24T17:39:27.035Z"
   },
   {
    "duration": 13,
    "start_time": "2025-03-24T17:39:27.067Z"
   },
   {
    "duration": 10,
    "start_time": "2025-03-24T17:39:27.081Z"
   },
   {
    "duration": 5,
    "start_time": "2025-03-24T17:39:27.096Z"
   },
   {
    "duration": 4,
    "start_time": "2025-03-24T17:39:27.104Z"
   },
   {
    "duration": 8,
    "start_time": "2025-03-24T17:39:27.110Z"
   },
   {
    "duration": 25,
    "start_time": "2025-03-24T17:39:27.120Z"
   },
   {
    "duration": 26,
    "start_time": "2025-03-24T17:39:27.147Z"
   },
   {
    "duration": 5,
    "start_time": "2025-03-24T17:39:27.175Z"
   },
   {
    "duration": 24,
    "start_time": "2025-03-24T17:39:27.181Z"
   },
   {
    "duration": 37,
    "start_time": "2025-03-24T17:39:27.206Z"
   },
   {
    "duration": 15,
    "start_time": "2025-03-24T17:39:27.244Z"
   },
   {
    "duration": 14,
    "start_time": "2025-03-24T17:39:27.260Z"
   },
   {
    "duration": 35,
    "start_time": "2025-03-24T17:39:27.276Z"
   },
   {
    "duration": 24,
    "start_time": "2025-03-24T17:39:27.313Z"
   },
   {
    "duration": 7,
    "start_time": "2025-03-24T17:39:27.339Z"
   },
   {
    "duration": 136,
    "start_time": "2025-03-24T17:39:27.348Z"
   },
   {
    "duration": 27,
    "start_time": "2025-03-24T17:39:27.486Z"
   },
   {
    "duration": 5,
    "start_time": "2025-03-24T17:39:27.514Z"
   },
   {
    "duration": 62,
    "start_time": "2025-03-24T17:39:27.520Z"
   },
   {
    "duration": 18,
    "start_time": "2025-03-24T17:39:27.584Z"
   },
   {
    "duration": 5,
    "start_time": "2025-03-24T17:39:27.604Z"
   },
   {
    "duration": 12,
    "start_time": "2025-03-24T17:39:27.611Z"
   },
   {
    "duration": 15,
    "start_time": "2025-03-24T17:39:27.624Z"
   },
   {
    "duration": 21,
    "start_time": "2025-03-24T17:39:27.640Z"
   },
   {
    "duration": 9,
    "start_time": "2025-03-24T17:39:27.663Z"
   },
   {
    "duration": 7,
    "start_time": "2025-03-24T17:39:27.673Z"
   },
   {
    "duration": 24,
    "start_time": "2025-03-24T17:39:27.681Z"
   },
   {
    "duration": 5,
    "start_time": "2025-03-24T17:39:27.707Z"
   },
   {
    "duration": 26,
    "start_time": "2025-03-24T17:39:27.713Z"
   },
   {
    "duration": 17,
    "start_time": "2025-03-24T17:39:27.741Z"
   },
   {
    "duration": 11,
    "start_time": "2025-03-24T17:39:27.760Z"
   },
   {
    "duration": 215,
    "start_time": "2025-03-24T17:39:27.772Z"
   },
   {
    "duration": 16,
    "start_time": "2025-03-24T17:39:27.989Z"
   },
   {
    "duration": 5,
    "start_time": "2025-03-24T17:39:28.006Z"
   },
   {
    "duration": 224,
    "start_time": "2025-03-24T17:39:28.012Z"
   },
   {
    "duration": 479,
    "start_time": "2025-03-24T17:39:28.237Z"
   },
   {
    "duration": 16,
    "start_time": "2025-03-24T17:49:29.882Z"
   },
   {
    "duration": 21,
    "start_time": "2025-03-24T17:49:41.330Z"
   },
   {
    "duration": 3,
    "start_time": "2025-03-24T17:51:57.007Z"
   },
   {
    "duration": 116,
    "start_time": "2025-03-24T17:51:58.810Z"
   },
   {
    "duration": 9,
    "start_time": "2025-03-24T17:52:24.688Z"
   },
   {
    "duration": 13,
    "start_time": "2025-03-24T17:52:37.013Z"
   },
   {
    "duration": 18,
    "start_time": "2025-03-24T17:52:48.830Z"
   },
   {
    "duration": 6,
    "start_time": "2025-03-24T17:53:07.957Z"
   },
   {
    "duration": 4,
    "start_time": "2025-03-24T17:53:15.251Z"
   },
   {
    "duration": 633,
    "start_time": "2025-03-24T17:53:54.419Z"
   },
   {
    "duration": 112,
    "start_time": "2025-03-24T17:53:55.053Z"
   },
   {
    "duration": 16,
    "start_time": "2025-03-24T17:53:55.166Z"
   },
   {
    "duration": 8,
    "start_time": "2025-03-24T17:53:55.184Z"
   },
   {
    "duration": 16,
    "start_time": "2025-03-24T17:53:55.194Z"
   },
   {
    "duration": 5,
    "start_time": "2025-03-24T17:53:55.212Z"
   },
   {
    "duration": 2,
    "start_time": "2025-03-24T17:53:55.219Z"
   },
   {
    "duration": 14,
    "start_time": "2025-03-24T17:53:55.222Z"
   },
   {
    "duration": 5,
    "start_time": "2025-03-24T17:53:55.237Z"
   },
   {
    "duration": 5,
    "start_time": "2025-03-24T17:53:55.244Z"
   },
   {
    "duration": 15,
    "start_time": "2025-03-24T17:53:55.250Z"
   },
   {
    "duration": 13,
    "start_time": "2025-03-24T17:53:55.266Z"
   },
   {
    "duration": 19,
    "start_time": "2025-03-24T17:53:55.280Z"
   },
   {
    "duration": 3,
    "start_time": "2025-03-24T17:53:55.301Z"
   },
   {
    "duration": 34,
    "start_time": "2025-03-24T17:53:55.306Z"
   },
   {
    "duration": 5,
    "start_time": "2025-03-24T17:53:55.341Z"
   },
   {
    "duration": 25,
    "start_time": "2025-03-24T17:53:55.347Z"
   },
   {
    "duration": 52,
    "start_time": "2025-03-24T17:53:55.373Z"
   },
   {
    "duration": 14,
    "start_time": "2025-03-24T17:53:55.427Z"
   },
   {
    "duration": 7,
    "start_time": "2025-03-24T17:53:55.442Z"
   },
   {
    "duration": 10,
    "start_time": "2025-03-24T17:53:55.451Z"
   },
   {
    "duration": 24,
    "start_time": "2025-03-24T17:53:55.463Z"
   },
   {
    "duration": 17,
    "start_time": "2025-03-24T17:53:55.489Z"
   },
   {
    "duration": 18,
    "start_time": "2025-03-24T17:53:55.536Z"
   },
   {
    "duration": 88,
    "start_time": "2025-03-24T17:53:55.556Z"
   },
   {
    "duration": 9,
    "start_time": "2025-03-24T17:53:55.646Z"
   },
   {
    "duration": 6,
    "start_time": "2025-03-24T17:53:55.656Z"
   },
   {
    "duration": 7,
    "start_time": "2025-03-24T17:53:55.666Z"
   },
   {
    "duration": 7,
    "start_time": "2025-03-24T17:53:55.675Z"
   },
   {
    "duration": 22,
    "start_time": "2025-03-24T17:53:55.683Z"
   },
   {
    "duration": 43,
    "start_time": "2025-03-24T17:53:55.707Z"
   },
   {
    "duration": 6,
    "start_time": "2025-03-24T17:53:55.752Z"
   },
   {
    "duration": 22,
    "start_time": "2025-03-24T17:53:55.760Z"
   },
   {
    "duration": 9,
    "start_time": "2025-03-24T17:53:55.784Z"
   },
   {
    "duration": 44,
    "start_time": "2025-03-24T17:53:55.795Z"
   },
   {
    "duration": 16,
    "start_time": "2025-03-24T17:53:55.841Z"
   },
   {
    "duration": 27,
    "start_time": "2025-03-24T17:53:55.859Z"
   },
   {
    "duration": 6,
    "start_time": "2025-03-24T17:53:55.887Z"
   },
   {
    "duration": 14,
    "start_time": "2025-03-24T17:53:55.894Z"
   },
   {
    "duration": 5,
    "start_time": "2025-03-24T17:53:55.909Z"
   },
   {
    "duration": 36,
    "start_time": "2025-03-24T17:53:55.915Z"
   },
   {
    "duration": 4,
    "start_time": "2025-03-24T17:53:55.953Z"
   },
   {
    "duration": 5,
    "start_time": "2025-03-24T17:53:55.959Z"
   },
   {
    "duration": 17,
    "start_time": "2025-03-24T17:53:55.966Z"
   },
   {
    "duration": 5,
    "start_time": "2025-03-24T17:53:55.984Z"
   },
   {
    "duration": 11,
    "start_time": "2025-03-24T17:53:55.991Z"
   },
   {
    "duration": 12,
    "start_time": "2025-03-24T17:53:56.035Z"
   },
   {
    "duration": 21,
    "start_time": "2025-03-24T17:53:56.048Z"
   },
   {
    "duration": 8,
    "start_time": "2025-03-24T17:53:56.071Z"
   },
   {
    "duration": 6,
    "start_time": "2025-03-24T17:53:56.080Z"
   },
   {
    "duration": 22,
    "start_time": "2025-03-24T17:53:56.091Z"
   },
   {
    "duration": 6,
    "start_time": "2025-03-24T17:53:56.136Z"
   },
   {
    "duration": 16,
    "start_time": "2025-03-24T17:53:56.144Z"
   },
   {
    "duration": 17,
    "start_time": "2025-03-24T17:53:56.161Z"
   },
   {
    "duration": 12,
    "start_time": "2025-03-24T17:53:56.179Z"
   },
   {
    "duration": 206,
    "start_time": "2025-03-24T17:53:56.192Z"
   },
   {
    "duration": 16,
    "start_time": "2025-03-24T17:53:56.400Z"
   },
   {
    "duration": 18,
    "start_time": "2025-03-24T17:53:56.418Z"
   },
   {
    "duration": 245,
    "start_time": "2025-03-24T17:53:56.438Z"
   },
   {
    "duration": 488,
    "start_time": "2025-03-24T17:53:56.684Z"
   },
   {
    "duration": 10,
    "start_time": "2025-03-24T17:53:57.174Z"
   },
   {
    "duration": 7,
    "start_time": "2025-03-24T17:54:24.914Z"
   },
   {
    "duration": 455,
    "start_time": "2025-03-24T17:57:41.738Z"
   },
   {
    "duration": 142,
    "start_time": "2025-03-24T18:01:51.757Z"
   },
   {
    "duration": 18,
    "start_time": "2025-03-24T18:06:15.151Z"
   },
   {
    "duration": 22,
    "start_time": "2025-03-24T18:14:59.621Z"
   },
   {
    "duration": 25,
    "start_time": "2025-03-24T18:15:33.291Z"
   },
   {
    "duration": 1143,
    "start_time": "2025-03-24T18:16:34.398Z"
   },
   {
    "duration": 116,
    "start_time": "2025-03-24T18:16:35.543Z"
   },
   {
    "duration": 15,
    "start_time": "2025-03-24T18:16:35.661Z"
   },
   {
    "duration": 27,
    "start_time": "2025-03-24T18:16:35.678Z"
   },
   {
    "duration": 17,
    "start_time": "2025-03-24T18:16:35.707Z"
   },
   {
    "duration": 6,
    "start_time": "2025-03-24T18:16:35.726Z"
   },
   {
    "duration": 4,
    "start_time": "2025-03-24T18:16:35.734Z"
   },
   {
    "duration": 20,
    "start_time": "2025-03-24T18:16:35.739Z"
   },
   {
    "duration": 23,
    "start_time": "2025-03-24T18:16:35.760Z"
   },
   {
    "duration": 22,
    "start_time": "2025-03-24T18:16:35.785Z"
   },
   {
    "duration": 14,
    "start_time": "2025-03-24T18:16:35.809Z"
   },
   {
    "duration": 14,
    "start_time": "2025-03-24T18:16:35.824Z"
   },
   {
    "duration": 22,
    "start_time": "2025-03-24T18:16:35.840Z"
   },
   {
    "duration": 9,
    "start_time": "2025-03-24T18:16:35.864Z"
   },
   {
    "duration": 33,
    "start_time": "2025-03-24T18:16:35.874Z"
   },
   {
    "duration": 4,
    "start_time": "2025-03-24T18:16:35.909Z"
   },
   {
    "duration": 25,
    "start_time": "2025-03-24T18:16:35.915Z"
   },
   {
    "duration": 6,
    "start_time": "2025-03-24T18:16:35.941Z"
   },
   {
    "duration": 18,
    "start_time": "2025-03-24T18:16:35.948Z"
   },
   {
    "duration": 5,
    "start_time": "2025-03-24T18:16:35.967Z"
   },
   {
    "duration": 16,
    "start_time": "2025-03-24T18:16:35.973Z"
   },
   {
    "duration": 30,
    "start_time": "2025-03-24T18:16:35.990Z"
   },
   {
    "duration": 15,
    "start_time": "2025-03-24T18:16:36.036Z"
   },
   {
    "duration": 18,
    "start_time": "2025-03-24T18:16:36.053Z"
   },
   {
    "duration": 10,
    "start_time": "2025-03-24T18:16:36.072Z"
   },
   {
    "duration": 20,
    "start_time": "2025-03-24T18:16:36.083Z"
   },
   {
    "duration": 4,
    "start_time": "2025-03-24T18:16:36.105Z"
   },
   {
    "duration": 3,
    "start_time": "2025-03-24T18:16:36.113Z"
   },
   {
    "duration": 21,
    "start_time": "2025-03-24T18:16:36.117Z"
   },
   {
    "duration": 20,
    "start_time": "2025-03-24T18:16:36.140Z"
   },
   {
    "duration": 25,
    "start_time": "2025-03-24T18:16:36.161Z"
   },
   {
    "duration": 6,
    "start_time": "2025-03-24T18:16:36.187Z"
   },
   {
    "duration": 48,
    "start_time": "2025-03-24T18:16:36.194Z"
   },
   {
    "duration": 9,
    "start_time": "2025-03-24T18:16:36.244Z"
   },
   {
    "duration": 12,
    "start_time": "2025-03-24T18:16:36.254Z"
   },
   {
    "duration": 12,
    "start_time": "2025-03-24T18:16:36.268Z"
   },
   {
    "duration": 29,
    "start_time": "2025-03-24T18:16:36.281Z"
   },
   {
    "duration": 5,
    "start_time": "2025-03-24T18:16:36.336Z"
   },
   {
    "duration": 7,
    "start_time": "2025-03-24T18:16:36.342Z"
   },
   {
    "duration": 6,
    "start_time": "2025-03-24T18:16:36.351Z"
   },
   {
    "duration": 21,
    "start_time": "2025-03-24T18:16:36.358Z"
   },
   {
    "duration": 5,
    "start_time": "2025-03-24T18:16:36.380Z"
   },
   {
    "duration": 25,
    "start_time": "2025-03-24T18:16:36.387Z"
   },
   {
    "duration": 37,
    "start_time": "2025-03-24T18:16:36.414Z"
   },
   {
    "duration": 5,
    "start_time": "2025-03-24T18:16:36.452Z"
   },
   {
    "duration": 11,
    "start_time": "2025-03-24T18:16:36.459Z"
   },
   {
    "duration": 14,
    "start_time": "2025-03-24T18:16:36.471Z"
   },
   {
    "duration": 51,
    "start_time": "2025-03-24T18:16:36.486Z"
   },
   {
    "duration": 13,
    "start_time": "2025-03-24T18:16:36.540Z"
   },
   {
    "duration": 7,
    "start_time": "2025-03-24T18:16:36.555Z"
   },
   {
    "duration": 26,
    "start_time": "2025-03-24T18:16:36.564Z"
   },
   {
    "duration": 6,
    "start_time": "2025-03-24T18:16:36.592Z"
   },
   {
    "duration": 69,
    "start_time": "2025-03-24T18:16:36.600Z"
   },
   {
    "duration": 60,
    "start_time": "2025-03-24T18:16:36.671Z"
   },
   {
    "duration": 13,
    "start_time": "2025-03-24T18:16:36.733Z"
   },
   {
    "duration": 195,
    "start_time": "2025-03-24T18:16:36.747Z"
   },
   {
    "duration": 16,
    "start_time": "2025-03-24T18:16:36.943Z"
   },
   {
    "duration": 59,
    "start_time": "2025-03-24T18:16:36.961Z"
   },
   {
    "duration": 220,
    "start_time": "2025-03-24T18:16:37.022Z"
   },
   {
    "duration": 433,
    "start_time": "2025-03-24T18:16:37.244Z"
   },
   {
    "duration": 6,
    "start_time": "2025-03-24T18:16:37.679Z"
   },
   {
    "duration": 49,
    "start_time": "2025-03-24T18:16:37.687Z"
   },
   {
    "duration": 3,
    "start_time": "2025-03-24T18:16:37.738Z"
   },
   {
    "duration": 164,
    "start_time": "2025-03-24T18:18:27.985Z"
   },
   {
    "duration": 186,
    "start_time": "2025-03-24T18:18:46.493Z"
   },
   {
    "duration": 229,
    "start_time": "2025-03-24T18:18:58.357Z"
   },
   {
    "duration": 266,
    "start_time": "2025-03-24T18:19:07.960Z"
   },
   {
    "duration": 189,
    "start_time": "2025-03-24T18:19:16.428Z"
   },
   {
    "duration": 169,
    "start_time": "2025-03-24T18:19:22.622Z"
   },
   {
    "duration": 149,
    "start_time": "2025-03-24T18:19:35.968Z"
   },
   {
    "duration": 156,
    "start_time": "2025-03-24T18:19:50.174Z"
   },
   {
    "duration": 157,
    "start_time": "2025-03-24T18:20:39.638Z"
   },
   {
    "duration": 168,
    "start_time": "2025-03-24T18:21:03.554Z"
   },
   {
    "duration": 175,
    "start_time": "2025-03-24T18:23:36.472Z"
   },
   {
    "duration": 145,
    "start_time": "2025-03-24T18:23:59.737Z"
   },
   {
    "duration": 229,
    "start_time": "2025-03-24T18:31:24.515Z"
   },
   {
    "duration": 143,
    "start_time": "2025-03-24T18:31:38.560Z"
   },
   {
    "duration": 145,
    "start_time": "2025-03-24T18:32:01.590Z"
   },
   {
    "duration": 168,
    "start_time": "2025-03-24T18:33:49.021Z"
   },
   {
    "duration": 308,
    "start_time": "2025-03-24T18:34:11.441Z"
   },
   {
    "duration": 145,
    "start_time": "2025-03-24T18:34:17.670Z"
   },
   {
    "duration": 160,
    "start_time": "2025-03-24T18:34:37.040Z"
   },
   {
    "duration": 149,
    "start_time": "2025-03-24T18:35:45.344Z"
   },
   {
    "duration": 144,
    "start_time": "2025-03-24T18:36:19.774Z"
   },
   {
    "duration": 164,
    "start_time": "2025-03-24T18:38:03.220Z"
   },
   {
    "duration": 166,
    "start_time": "2025-03-24T18:38:14.749Z"
   },
   {
    "duration": 170,
    "start_time": "2025-03-24T18:38:57.862Z"
   },
   {
    "duration": 253,
    "start_time": "2025-03-24T18:39:10.672Z"
   },
   {
    "duration": 18214,
    "start_time": "2025-03-24T18:43:14.871Z"
   },
   {
    "duration": 18762,
    "start_time": "2025-03-24T18:45:35.259Z"
   },
   {
    "duration": 12115,
    "start_time": "2025-03-24T18:46:18.082Z"
   },
   {
    "duration": 301,
    "start_time": "2025-03-24T18:46:49.994Z"
   },
   {
    "duration": 283,
    "start_time": "2025-03-24T18:47:18.814Z"
   },
   {
    "duration": 11,
    "start_time": "2025-03-24T18:56:38.886Z"
   },
   {
    "duration": 126,
    "start_time": "2025-03-24T18:58:17.574Z"
   },
   {
    "duration": 3788,
    "start_time": "2025-03-24T18:58:32.963Z"
   },
   {
    "duration": 148,
    "start_time": "2025-03-24T18:58:47.100Z"
   },
   {
    "duration": 354,
    "start_time": "2025-03-24T18:58:56.972Z"
   },
   {
    "duration": 241,
    "start_time": "2025-03-24T18:59:53.021Z"
   },
   {
    "duration": 267,
    "start_time": "2025-03-24T19:00:24.400Z"
   },
   {
    "duration": 264,
    "start_time": "2025-03-24T19:00:36.947Z"
   },
   {
    "duration": 99,
    "start_time": "2025-03-24T19:08:04.744Z"
   },
   {
    "duration": 310,
    "start_time": "2025-03-24T19:08:20.959Z"
   },
   {
    "duration": 141,
    "start_time": "2025-03-24T19:08:49.586Z"
   },
   {
    "duration": 121,
    "start_time": "2025-03-24T19:09:30.410Z"
   },
   {
    "duration": 21,
    "start_time": "2025-03-24T19:09:40.692Z"
   },
   {
    "duration": 17,
    "start_time": "2025-03-24T19:09:46.202Z"
   },
   {
    "duration": 149,
    "start_time": "2025-03-24T19:12:19.069Z"
   },
   {
    "duration": 3674,
    "start_time": "2025-03-24T19:13:33.572Z"
   },
   {
    "duration": 11,
    "start_time": "2025-03-24T19:14:54.048Z"
   },
   {
    "duration": 3712,
    "start_time": "2025-03-24T19:15:15.099Z"
   },
   {
    "duration": 17,
    "start_time": "2025-03-24T19:16:31.763Z"
   },
   {
    "duration": 3540,
    "start_time": "2025-03-24T19:16:46.916Z"
   },
   {
    "duration": 125,
    "start_time": "2025-03-24T19:17:02.630Z"
   },
   {
    "duration": 1349,
    "start_time": "2025-03-24T19:17:20.887Z"
   },
   {
    "duration": 129,
    "start_time": "2025-03-24T19:17:31.435Z"
   },
   {
    "duration": 169,
    "start_time": "2025-03-24T19:17:38.875Z"
   },
   {
    "duration": 549,
    "start_time": "2025-03-24T19:17:46.233Z"
   },
   {
    "duration": 341,
    "start_time": "2025-03-24T19:18:11.731Z"
   },
   {
    "duration": 11,
    "start_time": "2025-03-24T19:19:47.468Z"
   },
   {
    "duration": 11,
    "start_time": "2025-03-24T19:25:10.171Z"
   },
   {
    "duration": 11,
    "start_time": "2025-03-24T19:25:34.248Z"
   },
   {
    "duration": 117,
    "start_time": "2025-03-24T19:25:46.310Z"
   },
   {
    "duration": 216,
    "start_time": "2025-03-24T19:26:20.234Z"
   },
   {
    "duration": 122,
    "start_time": "2025-03-24T19:26:29.241Z"
   },
   {
    "duration": 10,
    "start_time": "2025-03-24T19:26:39.337Z"
   },
   {
    "duration": 10,
    "start_time": "2025-03-24T19:26:48.663Z"
   },
   {
    "duration": 10,
    "start_time": "2025-03-24T19:30:36.221Z"
   },
   {
    "duration": 95,
    "start_time": "2025-03-24T19:30:47.052Z"
   },
   {
    "duration": 10,
    "start_time": "2025-03-24T19:30:55.621Z"
   },
   {
    "duration": 8,
    "start_time": "2025-03-24T19:31:16.422Z"
   },
   {
    "duration": 9,
    "start_time": "2025-03-24T19:31:48.125Z"
   },
   {
    "duration": 7,
    "start_time": "2025-03-24T19:34:15.805Z"
   },
   {
    "duration": 9,
    "start_time": "2025-03-24T19:34:28.011Z"
   },
   {
    "duration": 28,
    "start_time": "2025-03-24T19:34:46.532Z"
   },
   {
    "duration": 9,
    "start_time": "2025-03-24T19:34:56.655Z"
   },
   {
    "duration": 9,
    "start_time": "2025-03-24T19:35:22.137Z"
   },
   {
    "duration": 234,
    "start_time": "2025-03-24T19:36:26.870Z"
   },
   {
    "duration": 492,
    "start_time": "2025-03-24T19:36:35.739Z"
   },
   {
    "duration": 113,
    "start_time": "2025-03-24T19:37:26.005Z"
   },
   {
    "duration": 713,
    "start_time": "2025-03-24T19:37:33.694Z"
   },
   {
    "duration": 749,
    "start_time": "2025-03-24T19:38:22.288Z"
   },
   {
    "duration": 749,
    "start_time": "2025-03-24T19:38:35.920Z"
   },
   {
    "duration": 1453,
    "start_time": "2025-03-25T07:07:05.550Z"
   },
   {
    "duration": 120,
    "start_time": "2025-03-25T07:07:07.005Z"
   },
   {
    "duration": 28,
    "start_time": "2025-03-25T07:07:07.126Z"
   },
   {
    "duration": 46,
    "start_time": "2025-03-25T07:07:07.156Z"
   },
   {
    "duration": 58,
    "start_time": "2025-03-25T07:07:07.205Z"
   },
   {
    "duration": 11,
    "start_time": "2025-03-25T07:07:07.265Z"
   },
   {
    "duration": 39,
    "start_time": "2025-03-25T07:07:07.277Z"
   },
   {
    "duration": 19,
    "start_time": "2025-03-25T07:07:07.317Z"
   },
   {
    "duration": 23,
    "start_time": "2025-03-25T07:07:07.338Z"
   },
   {
    "duration": 7,
    "start_time": "2025-03-25T07:07:07.365Z"
   },
   {
    "duration": 47,
    "start_time": "2025-03-25T07:07:07.373Z"
   },
   {
    "duration": 18,
    "start_time": "2025-03-25T07:07:07.421Z"
   },
   {
    "duration": 27,
    "start_time": "2025-03-25T07:07:07.441Z"
   },
   {
    "duration": 24,
    "start_time": "2025-03-25T07:07:07.471Z"
   },
   {
    "duration": 40,
    "start_time": "2025-03-25T07:07:07.498Z"
   },
   {
    "duration": 7,
    "start_time": "2025-03-25T07:07:07.540Z"
   },
   {
    "duration": 32,
    "start_time": "2025-03-25T07:07:07.549Z"
   },
   {
    "duration": 6,
    "start_time": "2025-03-25T07:07:07.583Z"
   },
   {
    "duration": 22,
    "start_time": "2025-03-25T07:07:07.590Z"
   },
   {
    "duration": 6,
    "start_time": "2025-03-25T07:07:07.614Z"
   },
   {
    "duration": 12,
    "start_time": "2025-03-25T07:07:07.622Z"
   },
   {
    "duration": 46,
    "start_time": "2025-03-25T07:07:07.635Z"
   },
   {
    "duration": 28,
    "start_time": "2025-03-25T07:07:07.682Z"
   },
   {
    "duration": 29,
    "start_time": "2025-03-25T07:07:07.712Z"
   },
   {
    "duration": 19,
    "start_time": "2025-03-25T07:07:07.743Z"
   },
   {
    "duration": 10,
    "start_time": "2025-03-25T07:07:07.764Z"
   },
   {
    "duration": 20,
    "start_time": "2025-03-25T07:07:07.775Z"
   },
   {
    "duration": 13,
    "start_time": "2025-03-25T07:07:07.800Z"
   },
   {
    "duration": 17,
    "start_time": "2025-03-25T07:07:07.814Z"
   },
   {
    "duration": 30,
    "start_time": "2025-03-25T07:07:07.834Z"
   },
   {
    "duration": 39,
    "start_time": "2025-03-25T07:07:07.866Z"
   },
   {
    "duration": 48,
    "start_time": "2025-03-25T07:07:07.907Z"
   },
   {
    "duration": 61,
    "start_time": "2025-03-25T07:07:07.958Z"
   },
   {
    "duration": 9,
    "start_time": "2025-03-25T07:07:08.021Z"
   },
   {
    "duration": 39,
    "start_time": "2025-03-25T07:07:08.032Z"
   },
   {
    "duration": 30,
    "start_time": "2025-03-25T07:07:08.072Z"
   },
   {
    "duration": 29,
    "start_time": "2025-03-25T07:07:08.103Z"
   },
   {
    "duration": 8,
    "start_time": "2025-03-25T07:07:08.134Z"
   },
   {
    "duration": 11,
    "start_time": "2025-03-25T07:07:08.143Z"
   },
   {
    "duration": 15,
    "start_time": "2025-03-25T07:07:08.155Z"
   },
   {
    "duration": 29,
    "start_time": "2025-03-25T07:07:08.172Z"
   },
   {
    "duration": 5,
    "start_time": "2025-03-25T07:07:08.203Z"
   },
   {
    "duration": 22,
    "start_time": "2025-03-25T07:07:08.210Z"
   },
   {
    "duration": 48,
    "start_time": "2025-03-25T07:07:08.233Z"
   },
   {
    "duration": 86,
    "start_time": "2025-03-25T07:07:08.283Z"
   },
   {
    "duration": 106,
    "start_time": "2025-03-25T07:07:08.371Z"
   },
   {
    "duration": 20,
    "start_time": "2025-03-25T07:07:08.479Z"
   },
   {
    "duration": 21,
    "start_time": "2025-03-25T07:07:08.501Z"
   },
   {
    "duration": 32,
    "start_time": "2025-03-25T07:07:08.524Z"
   },
   {
    "duration": 9,
    "start_time": "2025-03-25T07:07:08.558Z"
   },
   {
    "duration": 36,
    "start_time": "2025-03-25T07:07:08.569Z"
   },
   {
    "duration": 8,
    "start_time": "2025-03-25T07:07:08.607Z"
   },
   {
    "duration": 15,
    "start_time": "2025-03-25T07:07:08.616Z"
   },
   {
    "duration": 39,
    "start_time": "2025-03-25T07:07:08.633Z"
   },
   {
    "duration": 14,
    "start_time": "2025-03-25T07:07:08.674Z"
   },
   {
    "duration": 224,
    "start_time": "2025-03-25T07:07:08.690Z"
   },
   {
    "duration": 18,
    "start_time": "2025-03-25T07:07:08.916Z"
   },
   {
    "duration": 27,
    "start_time": "2025-03-25T07:07:08.936Z"
   },
   {
    "duration": 249,
    "start_time": "2025-03-25T07:07:08.965Z"
   },
   {
    "duration": 470,
    "start_time": "2025-03-25T07:07:09.216Z"
   },
   {
    "duration": 6,
    "start_time": "2025-03-25T07:07:09.688Z"
   },
   {
    "duration": 58,
    "start_time": "2025-03-25T07:07:09.695Z"
   },
   {
    "duration": 186,
    "start_time": "2025-03-25T07:07:09.755Z"
   },
   {
    "duration": 457,
    "start_time": "2025-03-25T07:07:09.943Z"
   },
   {
    "duration": 13,
    "start_time": "2025-03-25T07:07:10.402Z"
   },
   {
    "duration": 77,
    "start_time": "2025-03-25T07:07:10.417Z"
   },
   {
    "duration": 20,
    "start_time": "2025-03-25T07:07:10.496Z"
   },
   {
    "duration": 782,
    "start_time": "2025-03-25T07:07:10.518Z"
   },
   {
    "duration": 776,
    "start_time": "2025-03-25T07:15:53.254Z"
   },
   {
    "duration": 795,
    "start_time": "2025-03-25T07:16:49.178Z"
   },
   {
    "duration": 789,
    "start_time": "2025-03-25T07:18:10.547Z"
   },
   {
    "duration": 915,
    "start_time": "2025-03-25T07:19:41.563Z"
   },
   {
    "duration": 809,
    "start_time": "2025-03-25T07:19:58.605Z"
   },
   {
    "duration": 378,
    "start_time": "2025-03-25T07:21:21.128Z"
   },
   {
    "duration": 359,
    "start_time": "2025-03-25T07:21:32.233Z"
   },
   {
    "duration": 473,
    "start_time": "2025-03-25T07:21:38.919Z"
   },
   {
    "duration": 380,
    "start_time": "2025-03-25T07:21:46.793Z"
   },
   {
    "duration": 349,
    "start_time": "2025-03-25T07:22:22.847Z"
   },
   {
    "duration": 360,
    "start_time": "2025-03-25T07:22:53.839Z"
   },
   {
    "duration": 507,
    "start_time": "2025-03-25T07:22:59.843Z"
   },
   {
    "duration": 373,
    "start_time": "2025-03-25T07:23:04.761Z"
   },
   {
    "duration": 366,
    "start_time": "2025-03-25T07:24:06.654Z"
   },
   {
    "duration": 368,
    "start_time": "2025-03-25T07:24:13.947Z"
   },
   {
    "duration": 529,
    "start_time": "2025-03-25T07:28:45.650Z"
   },
   {
    "duration": 389,
    "start_time": "2025-03-25T07:28:50.276Z"
   },
   {
    "duration": 412,
    "start_time": "2025-03-25T07:30:39.706Z"
   },
   {
    "duration": 528,
    "start_time": "2025-03-25T07:30:51.572Z"
   },
   {
    "duration": 409,
    "start_time": "2025-03-25T07:32:50.079Z"
   },
   {
    "duration": 854,
    "start_time": "2025-03-25T07:36:17.146Z"
   },
   {
    "duration": 900,
    "start_time": "2025-03-25T07:37:15.111Z"
   },
   {
    "duration": 120,
    "start_time": "2025-03-25T07:38:41.857Z"
   },
   {
    "duration": 22,
    "start_time": "2025-03-25T07:39:10.345Z"
   },
   {
    "duration": 827,
    "start_time": "2025-03-25T07:43:58.081Z"
   },
   {
    "duration": 937,
    "start_time": "2025-03-25T07:44:14.649Z"
   },
   {
    "duration": 854,
    "start_time": "2025-03-25T07:45:15.385Z"
   },
   {
    "duration": 837,
    "start_time": "2025-03-25T07:46:02.867Z"
   },
   {
    "duration": 834,
    "start_time": "2025-03-25T07:46:39.034Z"
   },
   {
    "duration": 881,
    "start_time": "2025-03-25T07:47:29.053Z"
   },
   {
    "duration": 196,
    "start_time": "2025-03-25T07:54:35.040Z"
   },
   {
    "duration": 215,
    "start_time": "2025-03-25T07:54:45.651Z"
   },
   {
    "duration": 262,
    "start_time": "2025-03-25T07:54:53.991Z"
   },
   {
    "duration": 159,
    "start_time": "2025-03-25T07:55:12.087Z"
   },
   {
    "duration": 161,
    "start_time": "2025-03-25T07:56:11.187Z"
   },
   {
    "duration": 155,
    "start_time": "2025-03-25T07:56:22.661Z"
   },
   {
    "duration": 872,
    "start_time": "2025-03-25T16:18:27.162Z"
   },
   {
    "duration": 201,
    "start_time": "2025-03-25T16:18:28.037Z"
   },
   {
    "duration": 16,
    "start_time": "2025-03-25T16:18:28.240Z"
   },
   {
    "duration": 12,
    "start_time": "2025-03-25T16:18:28.257Z"
   },
   {
    "duration": 38,
    "start_time": "2025-03-25T16:18:28.271Z"
   },
   {
    "duration": 6,
    "start_time": "2025-03-25T16:18:28.311Z"
   },
   {
    "duration": 7,
    "start_time": "2025-03-25T16:18:28.319Z"
   },
   {
    "duration": 13,
    "start_time": "2025-03-25T16:18:28.328Z"
   },
   {
    "duration": 5,
    "start_time": "2025-03-25T16:18:28.343Z"
   },
   {
    "duration": 6,
    "start_time": "2025-03-25T16:18:28.349Z"
   },
   {
    "duration": 17,
    "start_time": "2025-03-25T16:18:28.356Z"
   },
   {
    "duration": 15,
    "start_time": "2025-03-25T16:18:28.374Z"
   },
   {
    "duration": 15,
    "start_time": "2025-03-25T16:18:28.390Z"
   },
   {
    "duration": 6,
    "start_time": "2025-03-25T16:18:28.408Z"
   },
   {
    "duration": 16,
    "start_time": "2025-03-25T16:18:28.416Z"
   },
   {
    "duration": 4,
    "start_time": "2025-03-25T16:18:28.434Z"
   },
   {
    "duration": 54,
    "start_time": "2025-03-25T16:18:28.439Z"
   },
   {
    "duration": 5,
    "start_time": "2025-03-25T16:18:28.495Z"
   },
   {
    "duration": 14,
    "start_time": "2025-03-25T16:18:28.502Z"
   },
   {
    "duration": 5,
    "start_time": "2025-03-25T16:18:28.518Z"
   },
   {
    "duration": 9,
    "start_time": "2025-03-25T16:18:28.524Z"
   },
   {
    "duration": 51,
    "start_time": "2025-03-25T16:18:28.534Z"
   },
   {
    "duration": 16,
    "start_time": "2025-03-25T16:18:28.587Z"
   },
   {
    "duration": 26,
    "start_time": "2025-03-25T16:18:28.604Z"
   },
   {
    "duration": 10,
    "start_time": "2025-03-25T16:18:28.632Z"
   },
   {
    "duration": 6,
    "start_time": "2025-03-25T16:18:28.644Z"
   },
   {
    "duration": 23,
    "start_time": "2025-03-25T16:18:28.652Z"
   },
   {
    "duration": 16,
    "start_time": "2025-03-25T16:18:28.677Z"
   },
   {
    "duration": 20,
    "start_time": "2025-03-25T16:18:28.695Z"
   },
   {
    "duration": 24,
    "start_time": "2025-03-25T16:18:28.716Z"
   },
   {
    "duration": 24,
    "start_time": "2025-03-25T16:18:28.742Z"
   },
   {
    "duration": 5,
    "start_time": "2025-03-25T16:18:28.768Z"
   },
   {
    "duration": 29,
    "start_time": "2025-03-25T16:18:28.774Z"
   },
   {
    "duration": 10,
    "start_time": "2025-03-25T16:18:28.805Z"
   },
   {
    "duration": 12,
    "start_time": "2025-03-25T16:18:28.816Z"
   },
   {
    "duration": 14,
    "start_time": "2025-03-25T16:18:28.830Z"
   },
   {
    "duration": 47,
    "start_time": "2025-03-25T16:18:28.845Z"
   },
   {
    "duration": 4,
    "start_time": "2025-03-25T16:18:28.893Z"
   },
   {
    "duration": 9,
    "start_time": "2025-03-25T16:18:28.899Z"
   },
   {
    "duration": 6,
    "start_time": "2025-03-25T16:18:28.909Z"
   },
   {
    "duration": 20,
    "start_time": "2025-03-25T16:18:28.919Z"
   },
   {
    "duration": 36,
    "start_time": "2025-03-25T16:18:28.941Z"
   },
   {
    "duration": 6,
    "start_time": "2025-03-25T16:18:28.978Z"
   },
   {
    "duration": 20,
    "start_time": "2025-03-25T16:18:28.986Z"
   },
   {
    "duration": 5,
    "start_time": "2025-03-25T16:18:29.007Z"
   },
   {
    "duration": 12,
    "start_time": "2025-03-25T16:18:29.014Z"
   },
   {
    "duration": 52,
    "start_time": "2025-03-25T16:18:29.028Z"
   },
   {
    "duration": 21,
    "start_time": "2025-03-25T16:18:29.082Z"
   },
   {
    "duration": 11,
    "start_time": "2025-03-25T16:18:29.104Z"
   },
   {
    "duration": 6,
    "start_time": "2025-03-25T16:18:29.116Z"
   },
   {
    "duration": 23,
    "start_time": "2025-03-25T16:18:29.123Z"
   },
   {
    "duration": 5,
    "start_time": "2025-03-25T16:18:29.147Z"
   },
   {
    "duration": 5,
    "start_time": "2025-03-25T16:18:29.173Z"
   },
   {
    "duration": 17,
    "start_time": "2025-03-25T16:18:29.179Z"
   },
   {
    "duration": 12,
    "start_time": "2025-03-25T16:18:29.197Z"
   },
   {
    "duration": 222,
    "start_time": "2025-03-25T16:18:29.210Z"
   },
   {
    "duration": 18,
    "start_time": "2025-03-25T16:18:29.434Z"
   },
   {
    "duration": 5,
    "start_time": "2025-03-25T16:18:29.453Z"
   },
   {
    "duration": 217,
    "start_time": "2025-03-25T16:18:29.473Z"
   },
   {
    "duration": 501,
    "start_time": "2025-03-25T16:18:29.692Z"
   },
   {
    "duration": 5,
    "start_time": "2025-03-25T16:18:30.195Z"
   },
   {
    "duration": 98,
    "start_time": "2025-03-25T16:18:30.202Z"
   },
   {
    "duration": 276,
    "start_time": "2025-03-25T16:18:30.302Z"
   },
   {
    "duration": 411,
    "start_time": "2025-03-25T16:18:30.580Z"
   },
   {
    "duration": 11,
    "start_time": "2025-03-25T16:18:30.993Z"
   },
   {
    "duration": 9,
    "start_time": "2025-03-25T16:18:31.006Z"
   },
   {
    "duration": 12,
    "start_time": "2025-03-25T16:18:31.016Z"
   },
   {
    "duration": 916,
    "start_time": "2025-03-25T16:18:31.030Z"
   },
   {
    "duration": 176,
    "start_time": "2025-03-25T16:18:31.947Z"
   },
   {
    "duration": 5,
    "start_time": "2025-03-25T16:27:50.057Z"
   },
   {
    "duration": 64,
    "start_time": "2025-03-25T16:28:40.963Z"
   },
   {
    "duration": 4,
    "start_time": "2025-03-25T16:33:03.685Z"
   },
   {
    "duration": 684,
    "start_time": "2025-03-25T16:33:10.692Z"
   },
   {
    "duration": 131,
    "start_time": "2025-03-25T16:33:11.378Z"
   },
   {
    "duration": 16,
    "start_time": "2025-03-25T16:33:11.510Z"
   },
   {
    "duration": 9,
    "start_time": "2025-03-25T16:33:11.529Z"
   },
   {
    "duration": 17,
    "start_time": "2025-03-25T16:33:11.539Z"
   },
   {
    "duration": 7,
    "start_time": "2025-03-25T16:33:11.558Z"
   },
   {
    "duration": 4,
    "start_time": "2025-03-25T16:33:11.566Z"
   },
   {
    "duration": 15,
    "start_time": "2025-03-25T16:33:11.571Z"
   },
   {
    "duration": 9,
    "start_time": "2025-03-25T16:33:11.587Z"
   },
   {
    "duration": 6,
    "start_time": "2025-03-25T16:33:11.598Z"
   },
   {
    "duration": 12,
    "start_time": "2025-03-25T16:33:11.605Z"
   },
   {
    "duration": 15,
    "start_time": "2025-03-25T16:33:11.618Z"
   },
   {
    "duration": 39,
    "start_time": "2025-03-25T16:33:11.635Z"
   },
   {
    "duration": 3,
    "start_time": "2025-03-25T16:33:11.676Z"
   },
   {
    "duration": 15,
    "start_time": "2025-03-25T16:33:11.681Z"
   },
   {
    "duration": 4,
    "start_time": "2025-03-25T16:33:11.698Z"
   },
   {
    "duration": 23,
    "start_time": "2025-03-25T16:33:11.703Z"
   },
   {
    "duration": 5,
    "start_time": "2025-03-25T16:33:11.728Z"
   },
   {
    "duration": 42,
    "start_time": "2025-03-25T16:33:11.734Z"
   },
   {
    "duration": 5,
    "start_time": "2025-03-25T16:33:11.778Z"
   },
   {
    "duration": 4,
    "start_time": "2025-03-25T16:33:11.785Z"
   },
   {
    "duration": 14,
    "start_time": "2025-03-25T16:33:11.790Z"
   },
   {
    "duration": 82,
    "start_time": "2025-03-25T16:33:11.805Z"
   },
   {
    "duration": 23,
    "start_time": "2025-03-25T16:33:11.889Z"
   },
   {
    "duration": 20,
    "start_time": "2025-03-25T16:33:11.913Z"
   },
   {
    "duration": 38,
    "start_time": "2025-03-25T16:33:11.935Z"
   },
   {
    "duration": 4,
    "start_time": "2025-03-25T16:33:11.975Z"
   },
   {
    "duration": 13,
    "start_time": "2025-03-25T16:33:11.984Z"
   },
   {
    "duration": 5,
    "start_time": "2025-03-25T16:33:11.999Z"
   },
   {
    "duration": 9,
    "start_time": "2025-03-25T16:33:12.006Z"
   },
   {
    "duration": 10,
    "start_time": "2025-03-25T16:33:12.016Z"
   },
   {
    "duration": 24,
    "start_time": "2025-03-25T16:33:12.027Z"
   },
   {
    "duration": 47,
    "start_time": "2025-03-25T16:33:12.053Z"
   },
   {
    "duration": 6,
    "start_time": "2025-03-25T16:33:12.102Z"
   },
   {
    "duration": 24,
    "start_time": "2025-03-25T16:33:12.110Z"
   },
   {
    "duration": 38,
    "start_time": "2025-03-25T16:33:12.136Z"
   },
   {
    "duration": 17,
    "start_time": "2025-03-25T16:33:12.176Z"
   },
   {
    "duration": 13,
    "start_time": "2025-03-25T16:33:12.195Z"
   },
   {
    "duration": 28,
    "start_time": "2025-03-25T16:33:12.210Z"
   },
   {
    "duration": 5,
    "start_time": "2025-03-25T16:33:12.240Z"
   },
   {
    "duration": 28,
    "start_time": "2025-03-25T16:33:12.247Z"
   },
   {
    "duration": 15,
    "start_time": "2025-03-25T16:33:12.277Z"
   },
   {
    "duration": 6,
    "start_time": "2025-03-25T16:33:12.293Z"
   },
   {
    "duration": 21,
    "start_time": "2025-03-25T16:33:12.301Z"
   },
   {
    "duration": 30,
    "start_time": "2025-03-25T16:33:12.323Z"
   },
   {
    "duration": 9,
    "start_time": "2025-03-25T16:33:12.355Z"
   },
   {
    "duration": 22,
    "start_time": "2025-03-25T16:33:12.365Z"
   },
   {
    "duration": 6,
    "start_time": "2025-03-25T16:33:12.388Z"
   },
   {
    "duration": 12,
    "start_time": "2025-03-25T16:33:12.396Z"
   },
   {
    "duration": 12,
    "start_time": "2025-03-25T16:33:12.410Z"
   },
   {
    "duration": 19,
    "start_time": "2025-03-25T16:33:12.424Z"
   },
   {
    "duration": 9,
    "start_time": "2025-03-25T16:33:12.473Z"
   },
   {
    "duration": 6,
    "start_time": "2025-03-25T16:33:12.484Z"
   },
   {
    "duration": 25,
    "start_time": "2025-03-25T16:33:12.491Z"
   },
   {
    "duration": 5,
    "start_time": "2025-03-25T16:33:12.518Z"
   },
   {
    "duration": 8,
    "start_time": "2025-03-25T16:33:12.525Z"
   },
   {
    "duration": 46,
    "start_time": "2025-03-25T16:33:12.534Z"
   },
   {
    "duration": 13,
    "start_time": "2025-03-25T16:33:12.581Z"
   },
   {
    "duration": 234,
    "start_time": "2025-03-25T16:33:12.595Z"
   },
   {
    "duration": 17,
    "start_time": "2025-03-25T16:33:12.831Z"
   },
   {
    "duration": 4,
    "start_time": "2025-03-25T16:33:12.849Z"
   },
   {
    "duration": 264,
    "start_time": "2025-03-25T16:33:12.873Z"
   },
   {
    "duration": 448,
    "start_time": "2025-03-25T16:33:13.139Z"
   },
   {
    "duration": 5,
    "start_time": "2025-03-25T16:33:13.589Z"
   },
   {
    "duration": 25,
    "start_time": "2025-03-25T16:33:13.595Z"
   },
   {
    "duration": 197,
    "start_time": "2025-03-25T16:33:13.621Z"
   },
   {
    "duration": 443,
    "start_time": "2025-03-25T16:33:13.819Z"
   },
   {
    "duration": 17,
    "start_time": "2025-03-25T16:33:14.264Z"
   },
   {
    "duration": 8,
    "start_time": "2025-03-25T16:33:14.283Z"
   },
   {
    "duration": 7,
    "start_time": "2025-03-25T16:33:14.292Z"
   },
   {
    "duration": 1604,
    "start_time": "2025-03-25T16:33:14.301Z"
   },
   {
    "duration": 174,
    "start_time": "2025-03-25T16:33:15.907Z"
   },
   {
    "duration": 9,
    "start_time": "2025-03-25T16:33:45.893Z"
   },
   {
    "duration": 635,
    "start_time": "2025-03-25T16:35:04.202Z"
   },
   {
    "duration": 120,
    "start_time": "2025-03-25T16:35:04.839Z"
   },
   {
    "duration": 17,
    "start_time": "2025-03-25T16:35:04.961Z"
   },
   {
    "duration": 16,
    "start_time": "2025-03-25T16:35:04.979Z"
   },
   {
    "duration": 38,
    "start_time": "2025-03-25T16:35:04.997Z"
   },
   {
    "duration": 20,
    "start_time": "2025-03-25T16:35:05.037Z"
   },
   {
    "duration": 20,
    "start_time": "2025-03-25T16:35:05.058Z"
   },
   {
    "duration": 36,
    "start_time": "2025-03-25T16:35:05.079Z"
   },
   {
    "duration": 18,
    "start_time": "2025-03-25T16:35:05.116Z"
   },
   {
    "duration": 43,
    "start_time": "2025-03-25T16:35:05.136Z"
   },
   {
    "duration": 39,
    "start_time": "2025-03-25T16:35:05.180Z"
   },
   {
    "duration": 21,
    "start_time": "2025-03-25T16:35:05.221Z"
   },
   {
    "duration": 16,
    "start_time": "2025-03-25T16:35:05.244Z"
   },
   {
    "duration": 4,
    "start_time": "2025-03-25T16:35:05.263Z"
   },
   {
    "duration": 43,
    "start_time": "2025-03-25T16:35:05.268Z"
   },
   {
    "duration": 30,
    "start_time": "2025-03-25T16:35:05.312Z"
   },
   {
    "duration": 33,
    "start_time": "2025-03-25T16:35:05.343Z"
   },
   {
    "duration": 5,
    "start_time": "2025-03-25T16:35:05.378Z"
   },
   {
    "duration": 34,
    "start_time": "2025-03-25T16:35:05.385Z"
   },
   {
    "duration": 17,
    "start_time": "2025-03-25T16:35:05.420Z"
   },
   {
    "duration": 12,
    "start_time": "2025-03-25T16:35:05.438Z"
   },
   {
    "duration": 14,
    "start_time": "2025-03-25T16:35:05.452Z"
   },
   {
    "duration": 66,
    "start_time": "2025-03-25T16:35:05.468Z"
   },
   {
    "duration": 21,
    "start_time": "2025-03-25T16:35:05.535Z"
   },
   {
    "duration": 23,
    "start_time": "2025-03-25T16:35:05.558Z"
   },
   {
    "duration": 20,
    "start_time": "2025-03-25T16:35:05.583Z"
   },
   {
    "duration": 12,
    "start_time": "2025-03-25T16:35:05.604Z"
   },
   {
    "duration": 11,
    "start_time": "2025-03-25T16:35:05.617Z"
   },
   {
    "duration": 23,
    "start_time": "2025-03-25T16:35:05.629Z"
   },
   {
    "duration": 8,
    "start_time": "2025-03-25T16:35:05.653Z"
   },
   {
    "duration": 21,
    "start_time": "2025-03-25T16:35:05.663Z"
   },
   {
    "duration": 27,
    "start_time": "2025-03-25T16:35:05.685Z"
   },
   {
    "duration": 24,
    "start_time": "2025-03-25T16:35:05.713Z"
   },
   {
    "duration": 5,
    "start_time": "2025-03-25T16:35:05.738Z"
   },
   {
    "duration": 35,
    "start_time": "2025-03-25T16:35:05.745Z"
   },
   {
    "duration": 15,
    "start_time": "2025-03-25T16:35:05.781Z"
   },
   {
    "duration": 29,
    "start_time": "2025-03-25T16:35:05.797Z"
   },
   {
    "duration": 13,
    "start_time": "2025-03-25T16:35:05.828Z"
   },
   {
    "duration": 9,
    "start_time": "2025-03-25T16:35:05.843Z"
   },
   {
    "duration": 42,
    "start_time": "2025-03-25T16:35:05.854Z"
   },
   {
    "duration": 42,
    "start_time": "2025-03-25T16:35:05.900Z"
   },
   {
    "duration": 11,
    "start_time": "2025-03-25T16:35:05.944Z"
   },
   {
    "duration": 7,
    "start_time": "2025-03-25T16:35:05.956Z"
   },
   {
    "duration": 23,
    "start_time": "2025-03-25T16:35:05.965Z"
   },
   {
    "duration": 38,
    "start_time": "2025-03-25T16:35:05.989Z"
   },
   {
    "duration": 9,
    "start_time": "2025-03-25T16:35:06.029Z"
   },
   {
    "duration": 20,
    "start_time": "2025-03-25T16:35:06.039Z"
   },
   {
    "duration": 16,
    "start_time": "2025-03-25T16:35:06.060Z"
   },
   {
    "duration": 26,
    "start_time": "2025-03-25T16:35:06.078Z"
   },
   {
    "duration": 49,
    "start_time": "2025-03-25T16:35:06.106Z"
   },
   {
    "duration": 19,
    "start_time": "2025-03-25T16:35:06.157Z"
   },
   {
    "duration": 85,
    "start_time": "2025-03-25T16:35:06.178Z"
   },
   {
    "duration": 5,
    "start_time": "2025-03-25T16:35:06.265Z"
   },
   {
    "duration": 22,
    "start_time": "2025-03-25T16:35:06.272Z"
   },
   {
    "duration": 30,
    "start_time": "2025-03-25T16:35:06.296Z"
   },
   {
    "duration": 87,
    "start_time": "2025-03-25T16:35:06.328Z"
   },
   {
    "duration": 22,
    "start_time": "2025-03-25T16:35:06.416Z"
   },
   {
    "duration": 35,
    "start_time": "2025-03-25T16:35:06.441Z"
   },
   {
    "duration": 211,
    "start_time": "2025-03-25T16:35:06.477Z"
   },
   {
    "duration": 16,
    "start_time": "2025-03-25T16:35:06.690Z"
   },
   {
    "duration": 4,
    "start_time": "2025-03-25T16:35:06.708Z"
   },
   {
    "duration": 285,
    "start_time": "2025-03-25T16:35:06.714Z"
   },
   {
    "duration": 444,
    "start_time": "2025-03-25T16:35:07.001Z"
   },
   {
    "duration": 6,
    "start_time": "2025-03-25T16:35:07.446Z"
   },
   {
    "duration": 41,
    "start_time": "2025-03-25T16:35:07.454Z"
   },
   {
    "duration": 180,
    "start_time": "2025-03-25T16:35:07.497Z"
   },
   {
    "duration": 404,
    "start_time": "2025-03-25T16:35:07.679Z"
   },
   {
    "duration": 12,
    "start_time": "2025-03-25T16:35:08.084Z"
   },
   {
    "duration": 8,
    "start_time": "2025-03-25T16:35:08.097Z"
   },
   {
    "duration": 8,
    "start_time": "2025-03-25T16:35:08.107Z"
   },
   {
    "duration": 818,
    "start_time": "2025-03-25T16:35:08.117Z"
   },
   {
    "duration": 159,
    "start_time": "2025-03-25T16:35:08.937Z"
   },
   {
    "duration": 38,
    "start_time": "2025-03-25T16:57:12.148Z"
   },
   {
    "duration": 51,
    "start_time": "2025-03-25T18:12:44.196Z"
   },
   {
    "duration": 828,
    "start_time": "2025-03-25T18:13:12.266Z"
   },
   {
    "duration": 120,
    "start_time": "2025-03-25T18:13:14.926Z"
   },
   {
    "duration": 15,
    "start_time": "2025-03-25T18:13:19.998Z"
   },
   {
    "duration": 2,
    "start_time": "2025-03-25T18:29:42.182Z"
   },
   {
    "duration": 116,
    "start_time": "2025-03-25T18:29:43.902Z"
   },
   {
    "duration": 14,
    "start_time": "2025-03-25T18:30:01.290Z"
   },
   {
    "duration": 8,
    "start_time": "2025-03-25T18:30:11.915Z"
   },
   {
    "duration": 672,
    "start_time": "2025-03-25T18:35:47.773Z"
   },
   {
    "duration": 119,
    "start_time": "2025-03-25T18:35:48.447Z"
   },
   {
    "duration": 17,
    "start_time": "2025-03-25T18:35:48.568Z"
   },
   {
    "duration": 10,
    "start_time": "2025-03-25T18:35:48.587Z"
   },
   {
    "duration": 34,
    "start_time": "2025-03-25T18:35:48.599Z"
   },
   {
    "duration": 7,
    "start_time": "2025-03-25T18:35:48.635Z"
   },
   {
    "duration": 16,
    "start_time": "2025-03-25T18:35:48.645Z"
   },
   {
    "duration": 15,
    "start_time": "2025-03-25T18:35:48.663Z"
   },
   {
    "duration": 13,
    "start_time": "2025-03-25T18:35:48.680Z"
   },
   {
    "duration": 14,
    "start_time": "2025-03-25T18:35:48.696Z"
   },
   {
    "duration": 17,
    "start_time": "2025-03-25T18:35:48.713Z"
   },
   {
    "duration": 33,
    "start_time": "2025-03-25T18:35:48.732Z"
   },
   {
    "duration": 71,
    "start_time": "2025-03-25T18:35:48.767Z"
   },
   {
    "duration": 11,
    "start_time": "2025-03-25T18:35:48.840Z"
   },
   {
    "duration": 24,
    "start_time": "2025-03-25T18:35:48.852Z"
   },
   {
    "duration": 5,
    "start_time": "2025-03-25T18:35:48.877Z"
   },
   {
    "duration": 38,
    "start_time": "2025-03-25T18:35:48.884Z"
   },
   {
    "duration": 6,
    "start_time": "2025-03-25T18:35:48.924Z"
   },
   {
    "duration": 30,
    "start_time": "2025-03-25T18:35:48.932Z"
   },
   {
    "duration": 7,
    "start_time": "2025-03-25T18:35:48.964Z"
   },
   {
    "duration": 5,
    "start_time": "2025-03-25T18:35:48.973Z"
   },
   {
    "duration": 10,
    "start_time": "2025-03-25T18:35:48.980Z"
   },
   {
    "duration": 93,
    "start_time": "2025-03-25T18:35:48.992Z"
   },
   {
    "duration": 25,
    "start_time": "2025-03-25T18:35:49.086Z"
   },
   {
    "duration": 26,
    "start_time": "2025-03-25T18:35:49.112Z"
   },
   {
    "duration": 113,
    "start_time": "2025-03-25T18:35:49.140Z"
   },
   {
    "duration": 17,
    "start_time": "2025-03-25T18:35:49.256Z"
   },
   {
    "duration": 16,
    "start_time": "2025-03-25T18:35:49.280Z"
   },
   {
    "duration": 26,
    "start_time": "2025-03-25T18:35:49.298Z"
   },
   {
    "duration": 30,
    "start_time": "2025-03-25T18:35:49.325Z"
   },
   {
    "duration": 16,
    "start_time": "2025-03-25T18:35:49.356Z"
   },
   {
    "duration": 23,
    "start_time": "2025-03-25T18:35:49.374Z"
   },
   {
    "duration": 41,
    "start_time": "2025-03-25T18:35:49.399Z"
   },
   {
    "duration": 6,
    "start_time": "2025-03-25T18:35:49.442Z"
   },
   {
    "duration": 39,
    "start_time": "2025-03-25T18:35:49.461Z"
   },
   {
    "duration": 10,
    "start_time": "2025-03-25T18:35:49.502Z"
   },
   {
    "duration": 13,
    "start_time": "2025-03-25T18:35:49.514Z"
   },
   {
    "duration": 44,
    "start_time": "2025-03-25T18:35:49.529Z"
   },
   {
    "duration": 12,
    "start_time": "2025-03-25T18:35:49.575Z"
   },
   {
    "duration": 28,
    "start_time": "2025-03-25T18:35:49.588Z"
   },
   {
    "duration": 32,
    "start_time": "2025-03-25T18:35:49.618Z"
   },
   {
    "duration": 16,
    "start_time": "2025-03-25T18:35:49.652Z"
   },
   {
    "duration": 7,
    "start_time": "2025-03-25T18:35:49.670Z"
   },
   {
    "duration": 25,
    "start_time": "2025-03-25T18:35:49.679Z"
   },
   {
    "duration": 14,
    "start_time": "2025-03-25T18:35:49.706Z"
   },
   {
    "duration": 15,
    "start_time": "2025-03-25T18:35:49.721Z"
   },
   {
    "duration": 42,
    "start_time": "2025-03-25T18:35:49.737Z"
   },
   {
    "duration": 7,
    "start_time": "2025-03-25T18:35:49.781Z"
   },
   {
    "duration": 13,
    "start_time": "2025-03-25T18:35:49.789Z"
   },
   {
    "duration": 33,
    "start_time": "2025-03-25T18:35:49.804Z"
   },
   {
    "duration": 40,
    "start_time": "2025-03-25T18:35:49.839Z"
   },
   {
    "duration": 30,
    "start_time": "2025-03-25T18:35:49.880Z"
   },
   {
    "duration": 97,
    "start_time": "2025-03-25T18:35:49.911Z"
   },
   {
    "duration": 118,
    "start_time": "2025-03-25T18:35:50.009Z"
   },
   {
    "duration": 6,
    "start_time": "2025-03-25T18:35:50.129Z"
   },
   {
    "duration": 10,
    "start_time": "2025-03-25T18:35:50.137Z"
   },
   {
    "duration": 31,
    "start_time": "2025-03-25T18:35:50.148Z"
   },
   {
    "duration": 12,
    "start_time": "2025-03-25T18:35:50.181Z"
   },
   {
    "duration": 227,
    "start_time": "2025-03-25T18:35:50.195Z"
   },
   {
    "duration": 17,
    "start_time": "2025-03-25T18:35:50.424Z"
   },
   {
    "duration": 124,
    "start_time": "2025-03-25T18:35:50.443Z"
   },
   {
    "duration": 282,
    "start_time": "2025-03-25T18:35:50.569Z"
   },
   {
    "duration": 447,
    "start_time": "2025-03-25T18:35:50.862Z"
   },
   {
    "duration": 6,
    "start_time": "2025-03-25T18:35:51.311Z"
   },
   {
    "duration": 44,
    "start_time": "2025-03-25T18:35:51.319Z"
   },
   {
    "duration": 189,
    "start_time": "2025-03-25T18:35:51.365Z"
   },
   {
    "duration": 422,
    "start_time": "2025-03-25T18:35:51.556Z"
   },
   {
    "duration": 13,
    "start_time": "2025-03-25T18:35:51.980Z"
   },
   {
    "duration": 14,
    "start_time": "2025-03-25T18:35:51.995Z"
   },
   {
    "duration": 23,
    "start_time": "2025-03-25T18:35:52.011Z"
   },
   {
    "duration": 860,
    "start_time": "2025-03-25T18:35:52.035Z"
   },
   {
    "duration": 180,
    "start_time": "2025-03-25T18:35:52.896Z"
   },
   {
    "duration": 102,
    "start_time": "2025-03-25T19:06:32.632Z"
   },
   {
    "duration": 3,
    "start_time": "2025-03-25T19:17:31.216Z"
   },
   {
    "duration": 130,
    "start_time": "2025-03-25T19:17:33.126Z"
   },
   {
    "duration": 8,
    "start_time": "2025-03-25T19:17:50.772Z"
   },
   {
    "duration": 6,
    "start_time": "2025-03-25T19:17:51.435Z"
   },
   {
    "duration": 13,
    "start_time": "2025-03-25T19:17:52.172Z"
   },
   {
    "duration": 5,
    "start_time": "2025-03-25T19:17:59.401Z"
   },
   {
    "duration": 5,
    "start_time": "2025-03-25T19:18:34.908Z"
   },
   {
    "duration": 7,
    "start_time": "2025-03-25T19:18:48.447Z"
   },
   {
    "duration": 5,
    "start_time": "2025-03-25T19:18:54.705Z"
   },
   {
    "duration": 6,
    "start_time": "2025-03-25T19:20:01.316Z"
   },
   {
    "duration": 7,
    "start_time": "2025-03-25T19:20:16.702Z"
   },
   {
    "duration": 72,
    "start_time": "2025-03-25T19:20:38.471Z"
   },
   {
    "duration": 26,
    "start_time": "2025-03-25T19:27:36.469Z"
   },
   {
    "duration": 6,
    "start_time": "2025-03-25T19:27:43.498Z"
   },
   {
    "duration": 357,
    "start_time": "2025-03-25T19:35:58.306Z"
   },
   {
    "duration": 17,
    "start_time": "2025-03-25T19:36:40.904Z"
   },
   {
    "duration": 9,
    "start_time": "2025-03-25T19:38:13.841Z"
   },
   {
    "duration": 10,
    "start_time": "2025-03-25T19:38:58.349Z"
   },
   {
    "duration": 191,
    "start_time": "2025-03-25T19:41:23.033Z"
   },
   {
    "duration": 287,
    "start_time": "2025-03-25T19:41:51.734Z"
   },
   {
    "duration": 237,
    "start_time": "2025-03-25T19:41:57.407Z"
   },
   {
    "duration": 209,
    "start_time": "2025-03-25T19:42:01.718Z"
   },
   {
    "duration": 216,
    "start_time": "2025-03-25T19:42:16.434Z"
   },
   {
    "duration": 119,
    "start_time": "2025-03-25T19:44:25.150Z"
   },
   {
    "duration": 103,
    "start_time": "2025-03-25T19:44:33.535Z"
   },
   {
    "duration": 96,
    "start_time": "2025-03-25T19:44:42.224Z"
   },
   {
    "duration": 104,
    "start_time": "2025-03-25T19:45:08.206Z"
   },
   {
    "duration": 824,
    "start_time": "2025-03-26T07:07:21.987Z"
   },
   {
    "duration": 208,
    "start_time": "2025-03-26T07:07:22.814Z"
   },
   {
    "duration": 17,
    "start_time": "2025-03-26T07:07:23.024Z"
   },
   {
    "duration": 10,
    "start_time": "2025-03-26T07:07:23.042Z"
   },
   {
    "duration": 16,
    "start_time": "2025-03-26T07:07:23.054Z"
   },
   {
    "duration": 6,
    "start_time": "2025-03-26T07:07:23.072Z"
   },
   {
    "duration": 3,
    "start_time": "2025-03-26T07:07:23.080Z"
   },
   {
    "duration": 14,
    "start_time": "2025-03-26T07:07:23.084Z"
   },
   {
    "duration": 11,
    "start_time": "2025-03-26T07:07:23.100Z"
   },
   {
    "duration": 6,
    "start_time": "2025-03-26T07:07:23.114Z"
   },
   {
    "duration": 43,
    "start_time": "2025-03-26T07:07:23.121Z"
   },
   {
    "duration": 16,
    "start_time": "2025-03-26T07:07:23.165Z"
   },
   {
    "duration": 140,
    "start_time": "2025-03-26T07:07:23.182Z"
   },
   {
    "duration": 14,
    "start_time": "2025-03-26T07:07:23.324Z"
   },
   {
    "duration": 35,
    "start_time": "2025-03-26T07:07:23.339Z"
   },
   {
    "duration": 5,
    "start_time": "2025-03-26T07:07:23.375Z"
   },
   {
    "duration": 32,
    "start_time": "2025-03-26T07:07:23.381Z"
   },
   {
    "duration": 2,
    "start_time": "2025-03-26T07:07:23.415Z"
   },
   {
    "duration": 15,
    "start_time": "2025-03-26T07:07:23.419Z"
   },
   {
    "duration": 25,
    "start_time": "2025-03-26T07:07:23.436Z"
   },
   {
    "duration": 72,
    "start_time": "2025-03-26T07:07:23.463Z"
   },
   {
    "duration": 18,
    "start_time": "2025-03-26T07:07:23.537Z"
   },
   {
    "duration": 71,
    "start_time": "2025-03-26T07:07:23.557Z"
   },
   {
    "duration": 27,
    "start_time": "2025-03-26T07:07:23.630Z"
   },
   {
    "duration": 17,
    "start_time": "2025-03-26T07:07:23.659Z"
   },
   {
    "duration": 17,
    "start_time": "2025-03-26T07:07:23.678Z"
   },
   {
    "duration": 9,
    "start_time": "2025-03-26T07:07:23.697Z"
   },
   {
    "duration": 8,
    "start_time": "2025-03-26T07:07:23.709Z"
   },
   {
    "duration": 10,
    "start_time": "2025-03-26T07:07:23.718Z"
   },
   {
    "duration": 29,
    "start_time": "2025-03-26T07:07:23.730Z"
   },
   {
    "duration": 128,
    "start_time": "2025-03-26T07:07:23.760Z"
   },
   {
    "duration": 6,
    "start_time": "2025-03-26T07:07:23.891Z"
   },
   {
    "duration": 22,
    "start_time": "2025-03-26T07:07:23.899Z"
   },
   {
    "duration": 41,
    "start_time": "2025-03-26T07:07:23.923Z"
   },
   {
    "duration": 5,
    "start_time": "2025-03-26T07:07:23.966Z"
   },
   {
    "duration": 35,
    "start_time": "2025-03-26T07:07:23.972Z"
   },
   {
    "duration": 9,
    "start_time": "2025-03-26T07:07:24.009Z"
   },
   {
    "duration": 15,
    "start_time": "2025-03-26T07:07:24.020Z"
   },
   {
    "duration": 32,
    "start_time": "2025-03-26T07:07:24.037Z"
   },
   {
    "duration": 8,
    "start_time": "2025-03-26T07:07:24.071Z"
   },
   {
    "duration": 37,
    "start_time": "2025-03-26T07:07:24.081Z"
   },
   {
    "duration": 9,
    "start_time": "2025-03-26T07:07:24.120Z"
   },
   {
    "duration": 16,
    "start_time": "2025-03-26T07:07:24.131Z"
   },
   {
    "duration": 18,
    "start_time": "2025-03-26T07:07:24.149Z"
   },
   {
    "duration": 28,
    "start_time": "2025-03-26T07:07:24.169Z"
   },
   {
    "duration": 8,
    "start_time": "2025-03-26T07:07:24.198Z"
   },
   {
    "duration": 8,
    "start_time": "2025-03-26T07:07:24.207Z"
   },
   {
    "duration": 18,
    "start_time": "2025-03-26T07:07:24.216Z"
   },
   {
    "duration": 6,
    "start_time": "2025-03-26T07:07:24.236Z"
   },
   {
    "duration": 13,
    "start_time": "2025-03-26T07:07:24.258Z"
   },
   {
    "duration": 14,
    "start_time": "2025-03-26T07:07:24.272Z"
   },
   {
    "duration": 19,
    "start_time": "2025-03-26T07:07:24.288Z"
   },
   {
    "duration": 9,
    "start_time": "2025-03-26T07:07:24.308Z"
   },
   {
    "duration": 6,
    "start_time": "2025-03-26T07:07:24.318Z"
   },
   {
    "duration": 23,
    "start_time": "2025-03-26T07:07:24.357Z"
   },
   {
    "duration": 5,
    "start_time": "2025-03-26T07:07:24.381Z"
   },
   {
    "duration": 4,
    "start_time": "2025-03-26T07:07:24.388Z"
   },
   {
    "duration": 18,
    "start_time": "2025-03-26T07:07:24.394Z"
   },
   {
    "duration": 11,
    "start_time": "2025-03-26T07:07:24.413Z"
   },
   {
    "duration": 274,
    "start_time": "2025-03-26T07:07:24.425Z"
   },
   {
    "duration": 16,
    "start_time": "2025-03-26T07:07:24.700Z"
   },
   {
    "duration": 4,
    "start_time": "2025-03-26T07:07:24.717Z"
   },
   {
    "duration": 236,
    "start_time": "2025-03-26T07:07:24.722Z"
   },
   {
    "duration": 463,
    "start_time": "2025-03-26T07:07:24.959Z"
   },
   {
    "duration": 6,
    "start_time": "2025-03-26T07:07:25.424Z"
   },
   {
    "duration": 41,
    "start_time": "2025-03-26T07:07:25.431Z"
   },
   {
    "duration": 189,
    "start_time": "2025-03-26T07:07:25.474Z"
   },
   {
    "duration": 408,
    "start_time": "2025-03-26T07:07:25.665Z"
   },
   {
    "duration": 12,
    "start_time": "2025-03-26T07:07:26.074Z"
   },
   {
    "duration": 8,
    "start_time": "2025-03-26T07:07:26.087Z"
   },
   {
    "duration": 12,
    "start_time": "2025-03-26T07:07:26.096Z"
   },
   {
    "duration": 843,
    "start_time": "2025-03-26T07:07:26.110Z"
   },
   {
    "duration": 164,
    "start_time": "2025-03-26T07:07:26.958Z"
   },
   {
    "duration": 88,
    "start_time": "2025-03-26T07:13:21.471Z"
   },
   {
    "duration": 14,
    "start_time": "2025-03-26T07:13:59.795Z"
   },
   {
    "duration": 14,
    "start_time": "2025-03-26T07:14:05.736Z"
   },
   {
    "duration": 649,
    "start_time": "2025-03-26T07:14:14.021Z"
   },
   {
    "duration": 121,
    "start_time": "2025-03-26T07:14:14.672Z"
   },
   {
    "duration": 17,
    "start_time": "2025-03-26T07:14:14.795Z"
   },
   {
    "duration": 11,
    "start_time": "2025-03-26T07:14:14.815Z"
   },
   {
    "duration": 17,
    "start_time": "2025-03-26T07:14:14.827Z"
   },
   {
    "duration": 14,
    "start_time": "2025-03-26T07:14:14.845Z"
   },
   {
    "duration": 5,
    "start_time": "2025-03-26T07:14:14.860Z"
   },
   {
    "duration": 14,
    "start_time": "2025-03-26T07:14:14.867Z"
   },
   {
    "duration": 10,
    "start_time": "2025-03-26T07:14:14.883Z"
   },
   {
    "duration": 5,
    "start_time": "2025-03-26T07:14:14.896Z"
   },
   {
    "duration": 13,
    "start_time": "2025-03-26T07:14:14.902Z"
   },
   {
    "duration": 48,
    "start_time": "2025-03-26T07:14:14.916Z"
   },
   {
    "duration": 14,
    "start_time": "2025-03-26T07:14:14.966Z"
   },
   {
    "duration": 7,
    "start_time": "2025-03-26T07:14:14.982Z"
   },
   {
    "duration": 15,
    "start_time": "2025-03-26T07:14:14.990Z"
   },
   {
    "duration": 4,
    "start_time": "2025-03-26T07:14:15.007Z"
   },
   {
    "duration": 61,
    "start_time": "2025-03-26T07:14:15.013Z"
   },
   {
    "duration": 3,
    "start_time": "2025-03-26T07:14:15.075Z"
   },
   {
    "duration": 25,
    "start_time": "2025-03-26T07:14:15.079Z"
   },
   {
    "duration": 25,
    "start_time": "2025-03-26T07:14:15.105Z"
   },
   {
    "duration": 15,
    "start_time": "2025-03-26T07:14:15.131Z"
   },
   {
    "duration": 23,
    "start_time": "2025-03-26T07:14:15.148Z"
   },
   {
    "duration": 187,
    "start_time": "2025-03-26T07:14:15.173Z"
   },
   {
    "duration": 21,
    "start_time": "2025-03-26T07:14:15.361Z"
   },
   {
    "duration": 21,
    "start_time": "2025-03-26T07:14:15.384Z"
   },
   {
    "duration": 28,
    "start_time": "2025-03-26T07:14:15.406Z"
   },
   {
    "duration": 22,
    "start_time": "2025-03-26T07:14:15.436Z"
   },
   {
    "duration": 12,
    "start_time": "2025-03-26T07:14:15.462Z"
   },
   {
    "duration": 96,
    "start_time": "2025-03-26T07:14:15.476Z"
   },
   {
    "duration": 6,
    "start_time": "2025-03-26T07:14:15.574Z"
   },
   {
    "duration": 123,
    "start_time": "2025-03-26T07:14:15.582Z"
   },
   {
    "duration": 7,
    "start_time": "2025-03-26T07:14:15.706Z"
   },
   {
    "duration": 31,
    "start_time": "2025-03-26T07:14:15.715Z"
   },
   {
    "duration": 29,
    "start_time": "2025-03-26T07:14:15.748Z"
   },
   {
    "duration": 5,
    "start_time": "2025-03-26T07:14:15.778Z"
   },
   {
    "duration": 26,
    "start_time": "2025-03-26T07:14:15.785Z"
   },
   {
    "duration": 71,
    "start_time": "2025-03-26T07:14:15.813Z"
   },
   {
    "duration": 14,
    "start_time": "2025-03-26T07:14:15.885Z"
   },
   {
    "duration": 14,
    "start_time": "2025-03-26T07:14:15.901Z"
   },
   {
    "duration": 10,
    "start_time": "2025-03-26T07:14:15.916Z"
   },
   {
    "duration": 26,
    "start_time": "2025-03-26T07:14:15.927Z"
   },
   {
    "duration": 5,
    "start_time": "2025-03-26T07:14:15.958Z"
   },
   {
    "duration": 19,
    "start_time": "2025-03-26T07:14:15.965Z"
   },
   {
    "duration": 6,
    "start_time": "2025-03-26T07:14:15.986Z"
   },
   {
    "duration": 21,
    "start_time": "2025-03-26T07:14:15.993Z"
   },
   {
    "duration": 5,
    "start_time": "2025-03-26T07:14:16.016Z"
   },
   {
    "duration": 36,
    "start_time": "2025-03-26T07:14:16.023Z"
   },
   {
    "duration": 20,
    "start_time": "2025-03-26T07:14:16.061Z"
   },
   {
    "duration": 7,
    "start_time": "2025-03-26T07:14:16.083Z"
   },
   {
    "duration": 16,
    "start_time": "2025-03-26T07:14:16.091Z"
   },
   {
    "duration": 14,
    "start_time": "2025-03-26T07:14:16.108Z"
   },
   {
    "duration": 49,
    "start_time": "2025-03-26T07:14:16.124Z"
   },
   {
    "duration": 11,
    "start_time": "2025-03-26T07:14:16.175Z"
   },
   {
    "duration": 6,
    "start_time": "2025-03-26T07:14:16.188Z"
   },
   {
    "duration": 27,
    "start_time": "2025-03-26T07:14:16.195Z"
   },
   {
    "duration": 5,
    "start_time": "2025-03-26T07:14:16.224Z"
   },
   {
    "duration": 30,
    "start_time": "2025-03-26T07:14:16.230Z"
   },
   {
    "duration": 19,
    "start_time": "2025-03-26T07:14:16.262Z"
   },
   {
    "duration": 13,
    "start_time": "2025-03-26T07:14:16.282Z"
   },
   {
    "duration": 269,
    "start_time": "2025-03-26T07:14:16.297Z"
   },
   {
    "duration": 16,
    "start_time": "2025-03-26T07:14:16.568Z"
   },
   {
    "duration": 5,
    "start_time": "2025-03-26T07:14:16.586Z"
   },
   {
    "duration": 247,
    "start_time": "2025-03-26T07:14:16.592Z"
   },
   {
    "duration": 451,
    "start_time": "2025-03-26T07:14:16.841Z"
   },
   {
    "duration": 6,
    "start_time": "2025-03-26T07:14:17.294Z"
   },
   {
    "duration": 39,
    "start_time": "2025-03-26T07:14:17.301Z"
   },
   {
    "duration": 179,
    "start_time": "2025-03-26T07:14:17.342Z"
   },
   {
    "duration": 407,
    "start_time": "2025-03-26T07:14:17.523Z"
   },
   {
    "duration": 11,
    "start_time": "2025-03-26T07:14:17.932Z"
   },
   {
    "duration": 8,
    "start_time": "2025-03-26T07:14:17.957Z"
   },
   {
    "duration": 22,
    "start_time": "2025-03-26T07:14:17.967Z"
   },
   {
    "duration": 821,
    "start_time": "2025-03-26T07:14:17.990Z"
   },
   {
    "duration": 170,
    "start_time": "2025-03-26T07:14:18.812Z"
   },
   {
    "duration": 82,
    "start_time": "2025-03-26T07:14:40.311Z"
   },
   {
    "duration": 666,
    "start_time": "2025-03-26T07:16:16.138Z"
   },
   {
    "duration": 123,
    "start_time": "2025-03-26T07:16:16.807Z"
   },
   {
    "duration": 17,
    "start_time": "2025-03-26T07:16:16.931Z"
   },
   {
    "duration": 10,
    "start_time": "2025-03-26T07:16:16.951Z"
   },
   {
    "duration": 17,
    "start_time": "2025-03-26T07:16:16.963Z"
   },
   {
    "duration": 7,
    "start_time": "2025-03-26T07:16:16.982Z"
   },
   {
    "duration": 5,
    "start_time": "2025-03-26T07:16:16.991Z"
   },
   {
    "duration": 17,
    "start_time": "2025-03-26T07:16:16.998Z"
   },
   {
    "duration": 6,
    "start_time": "2025-03-26T07:16:17.016Z"
   },
   {
    "duration": 34,
    "start_time": "2025-03-26T07:16:17.024Z"
   },
   {
    "duration": 17,
    "start_time": "2025-03-26T07:16:17.060Z"
   },
   {
    "duration": 21,
    "start_time": "2025-03-26T07:16:17.079Z"
   },
   {
    "duration": 21,
    "start_time": "2025-03-26T07:16:17.102Z"
   },
   {
    "duration": 5,
    "start_time": "2025-03-26T07:16:17.124Z"
   },
   {
    "duration": 19,
    "start_time": "2025-03-26T07:16:17.159Z"
   },
   {
    "duration": 140,
    "start_time": "2025-03-26T07:16:17.179Z"
   },
   {
    "duration": 27,
    "start_time": "2025-03-26T07:16:17.321Z"
   },
   {
    "duration": 2,
    "start_time": "2025-03-26T07:16:17.350Z"
   },
   {
    "duration": 14,
    "start_time": "2025-03-26T07:16:17.354Z"
   },
   {
    "duration": 17,
    "start_time": "2025-03-26T07:16:17.370Z"
   },
   {
    "duration": 5,
    "start_time": "2025-03-26T07:16:17.389Z"
   },
   {
    "duration": 27,
    "start_time": "2025-03-26T07:16:17.395Z"
   },
   {
    "duration": 61,
    "start_time": "2025-03-26T07:16:17.424Z"
   },
   {
    "duration": 21,
    "start_time": "2025-03-26T07:16:17.486Z"
   },
   {
    "duration": 77,
    "start_time": "2025-03-26T07:16:17.509Z"
   },
   {
    "duration": 17,
    "start_time": "2025-03-26T07:16:17.588Z"
   },
   {
    "duration": 6,
    "start_time": "2025-03-26T07:16:17.608Z"
   },
   {
    "duration": 19,
    "start_time": "2025-03-26T07:16:17.621Z"
   },
   {
    "duration": 25,
    "start_time": "2025-03-26T07:16:17.642Z"
   },
   {
    "duration": 5,
    "start_time": "2025-03-26T07:16:17.670Z"
   },
   {
    "duration": 119,
    "start_time": "2025-03-26T07:16:17.677Z"
   },
   {
    "duration": 4,
    "start_time": "2025-03-26T07:16:17.798Z"
   },
   {
    "duration": 19,
    "start_time": "2025-03-26T07:16:17.804Z"
   },
   {
    "duration": 79,
    "start_time": "2025-03-26T07:16:17.824Z"
   },
   {
    "duration": 6,
    "start_time": "2025-03-26T07:16:17.905Z"
   },
   {
    "duration": 23,
    "start_time": "2025-03-26T07:16:17.912Z"
   },
   {
    "duration": 9,
    "start_time": "2025-03-26T07:16:17.937Z"
   },
   {
    "duration": 16,
    "start_time": "2025-03-26T07:16:17.947Z"
   },
   {
    "duration": 18,
    "start_time": "2025-03-26T07:16:17.964Z"
   },
   {
    "duration": 9,
    "start_time": "2025-03-26T07:16:17.984Z"
   },
   {
    "duration": 26,
    "start_time": "2025-03-26T07:16:17.995Z"
   },
   {
    "duration": 5,
    "start_time": "2025-03-26T07:16:18.023Z"
   },
   {
    "duration": 34,
    "start_time": "2025-03-26T07:16:18.029Z"
   },
   {
    "duration": 7,
    "start_time": "2025-03-26T07:16:18.064Z"
   },
   {
    "duration": 18,
    "start_time": "2025-03-26T07:16:18.073Z"
   },
   {
    "duration": 5,
    "start_time": "2025-03-26T07:16:18.093Z"
   },
   {
    "duration": 6,
    "start_time": "2025-03-26T07:16:18.099Z"
   },
   {
    "duration": 17,
    "start_time": "2025-03-26T07:16:18.107Z"
   },
   {
    "duration": 35,
    "start_time": "2025-03-26T07:16:18.126Z"
   },
   {
    "duration": 12,
    "start_time": "2025-03-26T07:16:18.162Z"
   },
   {
    "duration": 100,
    "start_time": "2025-03-26T07:16:18.175Z"
   },
   {
    "duration": 0,
    "start_time": "2025-03-26T07:16:18.276Z"
   },
   {
    "duration": 0,
    "start_time": "2025-03-26T07:16:18.278Z"
   },
   {
    "duration": 0,
    "start_time": "2025-03-26T07:16:18.279Z"
   },
   {
    "duration": 0,
    "start_time": "2025-03-26T07:16:18.280Z"
   },
   {
    "duration": 0,
    "start_time": "2025-03-26T07:16:18.281Z"
   },
   {
    "duration": 0,
    "start_time": "2025-03-26T07:16:18.282Z"
   },
   {
    "duration": 0,
    "start_time": "2025-03-26T07:16:18.283Z"
   },
   {
    "duration": 0,
    "start_time": "2025-03-26T07:16:18.284Z"
   },
   {
    "duration": 0,
    "start_time": "2025-03-26T07:16:18.285Z"
   },
   {
    "duration": 0,
    "start_time": "2025-03-26T07:16:18.286Z"
   },
   {
    "duration": 0,
    "start_time": "2025-03-26T07:16:18.287Z"
   },
   {
    "duration": 0,
    "start_time": "2025-03-26T07:16:18.288Z"
   },
   {
    "duration": 0,
    "start_time": "2025-03-26T07:16:18.289Z"
   },
   {
    "duration": 0,
    "start_time": "2025-03-26T07:16:18.290Z"
   },
   {
    "duration": 0,
    "start_time": "2025-03-26T07:16:18.292Z"
   },
   {
    "duration": 0,
    "start_time": "2025-03-26T07:16:18.294Z"
   },
   {
    "duration": 0,
    "start_time": "2025-03-26T07:16:18.295Z"
   },
   {
    "duration": 0,
    "start_time": "2025-03-26T07:16:18.295Z"
   },
   {
    "duration": 0,
    "start_time": "2025-03-26T07:16:18.296Z"
   },
   {
    "duration": 0,
    "start_time": "2025-03-26T07:16:18.297Z"
   },
   {
    "duration": 0,
    "start_time": "2025-03-26T07:16:18.298Z"
   },
   {
    "duration": 0,
    "start_time": "2025-03-26T07:16:18.299Z"
   },
   {
    "duration": 99,
    "start_time": "2025-03-26T07:16:48.750Z"
   },
   {
    "duration": 153,
    "start_time": "2025-03-26T07:17:20.170Z"
   },
   {
    "duration": 106,
    "start_time": "2025-03-26T07:17:30.935Z"
   },
   {
    "duration": 21,
    "start_time": "2025-03-26T07:21:19.030Z"
   },
   {
    "duration": 23,
    "start_time": "2025-03-26T07:25:09.815Z"
   },
   {
    "duration": 8582,
    "start_time": "2025-03-26T07:26:07.677Z"
   },
   {
    "duration": 72,
    "start_time": "2025-03-26T07:27:10.788Z"
   },
   {
    "duration": 4,
    "start_time": "2025-03-26T07:28:17.614Z"
   },
   {
    "duration": 754,
    "start_time": "2025-03-26T07:29:07.978Z"
   },
   {
    "duration": 123,
    "start_time": "2025-03-26T07:29:08.734Z"
   },
   {
    "duration": 17,
    "start_time": "2025-03-26T07:29:08.859Z"
   },
   {
    "duration": 13,
    "start_time": "2025-03-26T07:29:08.878Z"
   },
   {
    "duration": 26,
    "start_time": "2025-03-26T07:29:08.893Z"
   },
   {
    "duration": 8,
    "start_time": "2025-03-26T07:29:08.921Z"
   },
   {
    "duration": 3,
    "start_time": "2025-03-26T07:29:08.958Z"
   },
   {
    "duration": 16,
    "start_time": "2025-03-26T07:29:08.962Z"
   },
   {
    "duration": 7,
    "start_time": "2025-03-26T07:29:08.980Z"
   },
   {
    "duration": 5,
    "start_time": "2025-03-26T07:29:08.990Z"
   },
   {
    "duration": 11,
    "start_time": "2025-03-26T07:29:08.997Z"
   },
   {
    "duration": 49,
    "start_time": "2025-03-26T07:29:09.010Z"
   },
   {
    "duration": 15,
    "start_time": "2025-03-26T07:29:09.060Z"
   },
   {
    "duration": 14,
    "start_time": "2025-03-26T07:29:09.077Z"
   },
   {
    "duration": 16,
    "start_time": "2025-03-26T07:29:09.092Z"
   },
   {
    "duration": 5,
    "start_time": "2025-03-26T07:29:09.110Z"
   },
   {
    "duration": 52,
    "start_time": "2025-03-26T07:29:09.116Z"
   },
   {
    "duration": 2,
    "start_time": "2025-03-26T07:29:09.170Z"
   },
   {
    "duration": 14,
    "start_time": "2025-03-26T07:29:09.174Z"
   },
   {
    "duration": 5,
    "start_time": "2025-03-26T07:29:09.190Z"
   },
   {
    "duration": 5,
    "start_time": "2025-03-26T07:29:09.197Z"
   },
   {
    "duration": 10,
    "start_time": "2025-03-26T07:29:09.203Z"
   },
   {
    "duration": 192,
    "start_time": "2025-03-26T07:29:09.214Z"
   },
   {
    "duration": 21,
    "start_time": "2025-03-26T07:29:09.408Z"
   },
   {
    "duration": 31,
    "start_time": "2025-03-26T07:29:09.430Z"
   },
   {
    "duration": 17,
    "start_time": "2025-03-26T07:29:09.463Z"
   },
   {
    "duration": 6,
    "start_time": "2025-03-26T07:29:09.482Z"
   },
   {
    "duration": 9,
    "start_time": "2025-03-26T07:29:09.493Z"
   },
   {
    "duration": 88,
    "start_time": "2025-03-26T07:29:09.503Z"
   },
   {
    "duration": 4,
    "start_time": "2025-03-26T07:29:09.593Z"
   },
   {
    "duration": 117,
    "start_time": "2025-03-26T07:29:09.598Z"
   },
   {
    "duration": 22,
    "start_time": "2025-03-26T07:29:09.717Z"
   },
   {
    "duration": 41,
    "start_time": "2025-03-26T07:29:09.741Z"
   },
   {
    "duration": 7,
    "start_time": "2025-03-26T07:29:09.784Z"
   },
   {
    "duration": 1173,
    "start_time": "2025-03-26T07:29:09.793Z"
   },
   {
    "duration": 3,
    "start_time": "2025-03-26T07:29:10.968Z"
   },
   {
    "duration": 32,
    "start_time": "2025-03-26T07:29:10.973Z"
   },
   {
    "duration": 29,
    "start_time": "2025-03-26T07:29:11.007Z"
   },
   {
    "duration": 6,
    "start_time": "2025-03-26T07:29:11.037Z"
   },
   {
    "duration": 23,
    "start_time": "2025-03-26T07:29:11.058Z"
   },
   {
    "duration": 8,
    "start_time": "2025-03-26T07:29:11.083Z"
   },
   {
    "duration": 11,
    "start_time": "2025-03-26T07:29:11.093Z"
   },
   {
    "duration": 12,
    "start_time": "2025-03-26T07:29:11.106Z"
   },
   {
    "duration": 42,
    "start_time": "2025-03-26T07:29:11.119Z"
   },
   {
    "duration": 28,
    "start_time": "2025-03-26T07:29:11.163Z"
   },
   {
    "duration": 5,
    "start_time": "2025-03-26T07:29:11.192Z"
   },
   {
    "duration": 14,
    "start_time": "2025-03-26T07:29:11.199Z"
   },
   {
    "duration": 26,
    "start_time": "2025-03-26T07:29:11.215Z"
   },
   {
    "duration": 122,
    "start_time": "2025-03-26T07:29:11.242Z"
   },
   {
    "duration": 10,
    "start_time": "2025-03-26T07:29:11.365Z"
   },
   {
    "duration": 6,
    "start_time": "2025-03-26T07:29:11.377Z"
   },
   {
    "duration": 20,
    "start_time": "2025-03-26T07:29:11.385Z"
   },
   {
    "duration": 6,
    "start_time": "2025-03-26T07:29:11.406Z"
   },
   {
    "duration": 75,
    "start_time": "2025-03-26T07:29:11.413Z"
   },
   {
    "duration": 12,
    "start_time": "2025-03-26T07:29:11.490Z"
   },
   {
    "duration": 114,
    "start_time": "2025-03-26T07:29:11.503Z"
   },
   {
    "duration": 12,
    "start_time": "2025-03-26T07:29:11.618Z"
   },
   {
    "duration": 6,
    "start_time": "2025-03-26T07:29:11.632Z"
   },
   {
    "duration": 24,
    "start_time": "2025-03-26T07:29:11.639Z"
   },
   {
    "duration": 7,
    "start_time": "2025-03-26T07:29:11.664Z"
   },
   {
    "duration": 7,
    "start_time": "2025-03-26T07:29:11.672Z"
   },
   {
    "duration": 33,
    "start_time": "2025-03-26T07:29:11.681Z"
   },
   {
    "duration": 15,
    "start_time": "2025-03-26T07:29:11.715Z"
   },
   {
    "duration": 210,
    "start_time": "2025-03-26T07:29:11.731Z"
   },
   {
    "duration": 25,
    "start_time": "2025-03-26T07:29:11.943Z"
   },
   {
    "duration": 5,
    "start_time": "2025-03-26T07:29:11.969Z"
   },
   {
    "duration": 228,
    "start_time": "2025-03-26T07:29:11.975Z"
   },
   {
    "duration": 673,
    "start_time": "2025-03-26T07:29:12.204Z"
   },
   {
    "duration": 6,
    "start_time": "2025-03-26T07:29:12.878Z"
   },
   {
    "duration": 89,
    "start_time": "2025-03-26T07:29:12.886Z"
   },
   {
    "duration": 392,
    "start_time": "2025-03-26T07:29:12.976Z"
   },
   {
    "duration": 645,
    "start_time": "2025-03-26T07:29:13.370Z"
   },
   {
    "duration": 12,
    "start_time": "2025-03-26T07:29:14.017Z"
   },
   {
    "duration": 28,
    "start_time": "2025-03-26T07:29:14.031Z"
   },
   {
    "duration": 10,
    "start_time": "2025-03-26T07:29:14.060Z"
   },
   {
    "duration": 910,
    "start_time": "2025-03-26T07:29:14.071Z"
   },
   {
    "duration": 177,
    "start_time": "2025-03-26T07:29:14.983Z"
   },
   {
    "duration": 1174,
    "start_time": "2025-03-26T07:36:19.976Z"
   },
   {
    "duration": 1517,
    "start_time": "2025-03-26T07:36:31.450Z"
   },
   {
    "duration": 1244,
    "start_time": "2025-03-26T07:36:40.791Z"
   },
   {
    "duration": 7,
    "start_time": "2025-03-26T07:43:10.418Z"
   },
   {
    "duration": 1169,
    "start_time": "2025-03-26T07:43:23.652Z"
   },
   {
    "duration": 6,
    "start_time": "2025-03-26T07:50:07.586Z"
   },
   {
    "duration": 4,
    "start_time": "2025-03-26T07:50:33.492Z"
   },
   {
    "duration": 37,
    "start_time": "2025-03-26T07:50:54.986Z"
   },
   {
    "duration": 7,
    "start_time": "2025-03-26T08:00:01.670Z"
   },
   {
    "duration": 7,
    "start_time": "2025-03-26T08:00:25.583Z"
   },
   {
    "duration": 7,
    "start_time": "2025-03-26T08:00:34.112Z"
   },
   {
    "duration": 5,
    "start_time": "2025-03-26T08:02:59.583Z"
   },
   {
    "duration": 641,
    "start_time": "2025-03-26T08:08:30.294Z"
   },
   {
    "duration": 125,
    "start_time": "2025-03-26T08:08:30.937Z"
   },
   {
    "duration": 17,
    "start_time": "2025-03-26T08:08:31.064Z"
   },
   {
    "duration": 20,
    "start_time": "2025-03-26T08:08:31.083Z"
   },
   {
    "duration": 22,
    "start_time": "2025-03-26T08:08:31.105Z"
   },
   {
    "duration": 7,
    "start_time": "2025-03-26T08:08:31.129Z"
   },
   {
    "duration": 3,
    "start_time": "2025-03-26T08:08:31.137Z"
   },
   {
    "duration": 29,
    "start_time": "2025-03-26T08:08:31.141Z"
   },
   {
    "duration": 15,
    "start_time": "2025-03-26T08:08:31.171Z"
   },
   {
    "duration": 10,
    "start_time": "2025-03-26T08:08:31.189Z"
   },
   {
    "duration": 12,
    "start_time": "2025-03-26T08:08:31.201Z"
   },
   {
    "duration": 27,
    "start_time": "2025-03-26T08:08:31.214Z"
   },
   {
    "duration": 19,
    "start_time": "2025-03-26T08:08:31.242Z"
   },
   {
    "duration": 17,
    "start_time": "2025-03-26T08:08:31.263Z"
   },
   {
    "duration": 23,
    "start_time": "2025-03-26T08:08:31.282Z"
   },
   {
    "duration": 5,
    "start_time": "2025-03-26T08:08:31.306Z"
   },
   {
    "duration": 47,
    "start_time": "2025-03-26T08:08:31.313Z"
   },
   {
    "duration": 95,
    "start_time": "2025-03-26T08:08:31.362Z"
   },
   {
    "duration": 57,
    "start_time": "2025-03-26T08:08:31.459Z"
   },
   {
    "duration": 7,
    "start_time": "2025-03-26T08:08:31.518Z"
   },
   {
    "duration": 13,
    "start_time": "2025-03-26T08:08:31.527Z"
   },
   {
    "duration": 10,
    "start_time": "2025-03-26T08:08:31.542Z"
   },
   {
    "duration": 76,
    "start_time": "2025-03-26T08:08:31.554Z"
   },
   {
    "duration": 30,
    "start_time": "2025-03-26T08:08:31.631Z"
   },
   {
    "duration": 83,
    "start_time": "2025-03-26T08:08:31.663Z"
   },
   {
    "duration": 24,
    "start_time": "2025-03-26T08:08:31.748Z"
   },
   {
    "duration": 5,
    "start_time": "2025-03-26T08:08:31.774Z"
   },
   {
    "duration": 13,
    "start_time": "2025-03-26T08:08:31.783Z"
   },
   {
    "duration": 6,
    "start_time": "2025-03-26T08:08:31.798Z"
   },
   {
    "duration": 4,
    "start_time": "2025-03-26T08:08:31.806Z"
   },
   {
    "duration": 18,
    "start_time": "2025-03-26T08:08:31.811Z"
   },
   {
    "duration": 123,
    "start_time": "2025-03-26T08:08:31.831Z"
   },
   {
    "duration": 22,
    "start_time": "2025-03-26T08:08:31.955Z"
   },
   {
    "duration": 27,
    "start_time": "2025-03-26T08:08:31.978Z"
   },
   {
    "duration": 1379,
    "start_time": "2025-03-26T08:08:32.007Z"
   },
   {
    "duration": 6,
    "start_time": "2025-03-26T08:08:33.387Z"
   },
   {
    "duration": 65,
    "start_time": "2025-03-26T08:08:33.394Z"
   },
   {
    "duration": 20,
    "start_time": "2025-03-26T08:08:33.461Z"
   },
   {
    "duration": 24,
    "start_time": "2025-03-26T08:08:33.483Z"
   },
   {
    "duration": 6,
    "start_time": "2025-03-26T08:08:33.509Z"
   },
   {
    "duration": 23,
    "start_time": "2025-03-26T08:08:33.517Z"
   },
   {
    "duration": 37,
    "start_time": "2025-03-26T08:08:33.542Z"
   },
   {
    "duration": 10,
    "start_time": "2025-03-26T08:08:33.580Z"
   },
   {
    "duration": 13,
    "start_time": "2025-03-26T08:08:33.593Z"
   },
   {
    "duration": 2,
    "start_time": "2025-03-26T08:08:33.608Z"
   },
   {
    "duration": 93,
    "start_time": "2025-03-26T08:08:33.612Z"
   },
   {
    "duration": 29,
    "start_time": "2025-03-26T08:08:33.707Z"
   },
   {
    "duration": 6,
    "start_time": "2025-03-26T08:08:33.738Z"
   },
   {
    "duration": 9,
    "start_time": "2025-03-26T08:08:33.746Z"
   },
   {
    "duration": 10,
    "start_time": "2025-03-26T08:08:33.756Z"
   },
   {
    "duration": 23,
    "start_time": "2025-03-26T08:08:33.767Z"
   },
   {
    "duration": 6,
    "start_time": "2025-03-26T08:08:33.791Z"
   },
   {
    "duration": 6,
    "start_time": "2025-03-26T08:08:33.799Z"
   },
   {
    "duration": 19,
    "start_time": "2025-03-26T08:08:33.806Z"
   },
   {
    "duration": 32,
    "start_time": "2025-03-26T08:08:33.827Z"
   },
   {
    "duration": 67,
    "start_time": "2025-03-26T08:08:33.861Z"
   },
   {
    "duration": 28,
    "start_time": "2025-03-26T08:08:33.930Z"
   },
   {
    "duration": 31,
    "start_time": "2025-03-26T08:08:33.960Z"
   },
   {
    "duration": 15,
    "start_time": "2025-03-26T08:08:33.992Z"
   },
   {
    "duration": 95,
    "start_time": "2025-03-26T08:08:34.008Z"
   },
   {
    "duration": 23,
    "start_time": "2025-03-26T08:08:34.104Z"
   },
   {
    "duration": 6,
    "start_time": "2025-03-26T08:08:34.128Z"
   },
   {
    "duration": 5,
    "start_time": "2025-03-26T08:08:34.136Z"
   },
   {
    "duration": 37,
    "start_time": "2025-03-26T08:08:34.142Z"
   },
   {
    "duration": 12,
    "start_time": "2025-03-26T08:08:34.180Z"
   },
   {
    "duration": 202,
    "start_time": "2025-03-26T08:08:34.194Z"
   },
   {
    "duration": 16,
    "start_time": "2025-03-26T08:08:34.398Z"
   },
   {
    "duration": 8,
    "start_time": "2025-03-26T08:08:34.416Z"
   },
   {
    "duration": 244,
    "start_time": "2025-03-26T08:08:34.426Z"
   },
   {
    "duration": 458,
    "start_time": "2025-03-26T08:08:34.672Z"
   },
   {
    "duration": 8,
    "start_time": "2025-03-26T08:08:35.132Z"
   },
   {
    "duration": 55,
    "start_time": "2025-03-26T08:08:35.143Z"
   },
   {
    "duration": 211,
    "start_time": "2025-03-26T08:08:35.200Z"
   },
   {
    "duration": 423,
    "start_time": "2025-03-26T08:08:35.412Z"
   },
   {
    "duration": 13,
    "start_time": "2025-03-26T08:08:35.837Z"
   },
   {
    "duration": 25,
    "start_time": "2025-03-26T08:08:35.859Z"
   },
   {
    "duration": 27,
    "start_time": "2025-03-26T08:08:35.886Z"
   },
   {
    "duration": 894,
    "start_time": "2025-03-26T08:08:35.914Z"
   },
   {
    "duration": 170,
    "start_time": "2025-03-26T08:08:36.809Z"
   },
   {
    "duration": 6,
    "start_time": "2025-03-26T08:10:14.111Z"
   },
   {
    "duration": 24,
    "start_time": "2025-03-26T08:10:38.469Z"
   },
   {
    "duration": 24,
    "start_time": "2025-03-26T08:14:48.861Z"
   },
   {
    "duration": 6,
    "start_time": "2025-03-26T08:21:04.870Z"
   },
   {
    "duration": 23,
    "start_time": "2025-03-26T08:21:08.772Z"
   },
   {
    "duration": 5,
    "start_time": "2025-03-26T08:21:14.088Z"
   },
   {
    "duration": 24,
    "start_time": "2025-03-26T08:29:54.384Z"
   },
   {
    "duration": 623,
    "start_time": "2025-03-26T08:34:35.104Z"
   },
   {
    "duration": 118,
    "start_time": "2025-03-26T08:34:35.729Z"
   },
   {
    "duration": 22,
    "start_time": "2025-03-26T08:34:35.849Z"
   },
   {
    "duration": 24,
    "start_time": "2025-03-26T08:34:35.873Z"
   },
   {
    "duration": 28,
    "start_time": "2025-03-26T08:34:35.899Z"
   },
   {
    "duration": 8,
    "start_time": "2025-03-26T08:34:35.928Z"
   },
   {
    "duration": 20,
    "start_time": "2025-03-26T08:34:35.938Z"
   },
   {
    "duration": 15,
    "start_time": "2025-03-26T08:34:35.960Z"
   },
   {
    "duration": 32,
    "start_time": "2025-03-26T08:34:35.976Z"
   },
   {
    "duration": 8,
    "start_time": "2025-03-26T08:34:36.010Z"
   },
   {
    "duration": 19,
    "start_time": "2025-03-26T08:34:36.019Z"
   },
   {
    "duration": 15,
    "start_time": "2025-03-26T08:34:36.039Z"
   },
   {
    "duration": 19,
    "start_time": "2025-03-26T08:34:36.056Z"
   },
   {
    "duration": 15,
    "start_time": "2025-03-26T08:34:36.077Z"
   },
   {
    "duration": 70,
    "start_time": "2025-03-26T08:34:36.094Z"
   },
   {
    "duration": 30,
    "start_time": "2025-03-26T08:34:36.166Z"
   },
   {
    "duration": 30,
    "start_time": "2025-03-26T08:34:36.198Z"
   },
   {
    "duration": 3,
    "start_time": "2025-03-26T08:34:36.230Z"
   },
   {
    "duration": 18,
    "start_time": "2025-03-26T08:34:36.235Z"
   },
   {
    "duration": 10,
    "start_time": "2025-03-26T08:34:36.255Z"
   },
   {
    "duration": 13,
    "start_time": "2025-03-26T08:34:36.266Z"
   },
   {
    "duration": 34,
    "start_time": "2025-03-26T08:34:36.281Z"
   },
   {
    "duration": 68,
    "start_time": "2025-03-26T08:34:36.316Z"
   },
   {
    "duration": 22,
    "start_time": "2025-03-26T08:34:36.386Z"
   },
   {
    "duration": 24,
    "start_time": "2025-03-26T08:34:36.409Z"
   },
   {
    "duration": 33,
    "start_time": "2025-03-26T08:34:36.435Z"
   },
   {
    "duration": 6,
    "start_time": "2025-03-26T08:34:36.470Z"
   },
   {
    "duration": 9,
    "start_time": "2025-03-26T08:34:36.480Z"
   },
   {
    "duration": 8,
    "start_time": "2025-03-26T08:34:36.491Z"
   },
   {
    "duration": 4,
    "start_time": "2025-03-26T08:34:36.501Z"
   },
   {
    "duration": 6,
    "start_time": "2025-03-26T08:34:36.507Z"
   },
   {
    "duration": 145,
    "start_time": "2025-03-26T08:34:36.515Z"
   },
   {
    "duration": 21,
    "start_time": "2025-03-26T08:34:36.662Z"
   },
   {
    "duration": 86,
    "start_time": "2025-03-26T08:34:36.685Z"
   },
   {
    "duration": 1190,
    "start_time": "2025-03-26T08:34:36.773Z"
   },
   {
    "duration": 7,
    "start_time": "2025-03-26T08:34:37.965Z"
   },
   {
    "duration": 5,
    "start_time": "2025-03-26T08:34:37.974Z"
   },
   {
    "duration": 26,
    "start_time": "2025-03-26T08:34:37.981Z"
   },
   {
    "duration": 54,
    "start_time": "2025-03-26T08:34:38.009Z"
   },
   {
    "duration": 6,
    "start_time": "2025-03-26T08:34:38.065Z"
   },
   {
    "duration": 5,
    "start_time": "2025-03-26T08:34:38.072Z"
   },
   {
    "duration": 25,
    "start_time": "2025-03-26T08:34:38.078Z"
   },
   {
    "duration": 9,
    "start_time": "2025-03-26T08:34:38.105Z"
   },
   {
    "duration": 92,
    "start_time": "2025-03-26T08:34:38.116Z"
   },
   {
    "duration": 8,
    "start_time": "2025-03-26T08:34:38.210Z"
   },
   {
    "duration": 11,
    "start_time": "2025-03-26T08:34:38.220Z"
   },
   {
    "duration": 29,
    "start_time": "2025-03-26T08:34:38.232Z"
   },
   {
    "duration": 4,
    "start_time": "2025-03-26T08:34:38.263Z"
   },
   {
    "duration": 18,
    "start_time": "2025-03-26T08:34:38.269Z"
   },
   {
    "duration": 7,
    "start_time": "2025-03-26T08:34:38.289Z"
   },
   {
    "duration": 12,
    "start_time": "2025-03-26T08:34:38.297Z"
   },
   {
    "duration": 7,
    "start_time": "2025-03-26T08:34:38.311Z"
   },
   {
    "duration": 22,
    "start_time": "2025-03-26T08:34:38.357Z"
   },
   {
    "duration": 7,
    "start_time": "2025-03-26T08:34:38.381Z"
   },
   {
    "duration": 9,
    "start_time": "2025-03-26T08:34:38.390Z"
   },
   {
    "duration": 19,
    "start_time": "2025-03-26T08:34:38.401Z"
   },
   {
    "duration": 7,
    "start_time": "2025-03-26T08:34:38.457Z"
   },
   {
    "duration": 83,
    "start_time": "2025-03-26T08:34:38.465Z"
   },
   {
    "duration": 17,
    "start_time": "2025-03-26T08:34:38.550Z"
   },
   {
    "duration": 20,
    "start_time": "2025-03-26T08:34:38.569Z"
   },
   {
    "duration": 9,
    "start_time": "2025-03-26T08:34:38.590Z"
   },
   {
    "duration": 7,
    "start_time": "2025-03-26T08:34:38.600Z"
   },
   {
    "duration": 56,
    "start_time": "2025-03-26T08:34:38.609Z"
   },
   {
    "duration": 5,
    "start_time": "2025-03-26T08:34:38.667Z"
   },
   {
    "duration": 100,
    "start_time": "2025-03-26T08:34:38.674Z"
   },
   {
    "duration": 17,
    "start_time": "2025-03-26T08:34:38.775Z"
   },
   {
    "duration": 12,
    "start_time": "2025-03-26T08:34:38.794Z"
   },
   {
    "duration": 212,
    "start_time": "2025-03-26T08:34:38.808Z"
   },
   {
    "duration": 17,
    "start_time": "2025-03-26T08:34:39.022Z"
   },
   {
    "duration": 19,
    "start_time": "2025-03-26T08:34:39.040Z"
   },
   {
    "duration": 230,
    "start_time": "2025-03-26T08:34:39.060Z"
   },
   {
    "duration": 467,
    "start_time": "2025-03-26T08:34:39.291Z"
   },
   {
    "duration": 7,
    "start_time": "2025-03-26T08:34:39.759Z"
   },
   {
    "duration": 26,
    "start_time": "2025-03-26T08:34:39.768Z"
   },
   {
    "duration": 289,
    "start_time": "2025-03-26T08:34:39.796Z"
   },
   {
    "duration": 884,
    "start_time": "2025-03-26T08:34:40.087Z"
   },
   {
    "duration": 17,
    "start_time": "2025-03-26T08:34:40.973Z"
   },
   {
    "duration": 67,
    "start_time": "2025-03-26T08:34:40.992Z"
   },
   {
    "duration": 10,
    "start_time": "2025-03-26T08:34:41.061Z"
   },
   {
    "duration": 1139,
    "start_time": "2025-03-26T08:34:41.072Z"
   },
   {
    "duration": 187,
    "start_time": "2025-03-26T08:34:42.213Z"
   },
   {
    "duration": 7,
    "start_time": "2025-03-26T08:45:01.755Z"
   },
   {
    "duration": 7,
    "start_time": "2025-03-26T08:45:12.448Z"
   },
   {
    "duration": 18,
    "start_time": "2025-03-26T08:45:17.137Z"
   },
   {
    "duration": 37,
    "start_time": "2025-03-26T08:51:03.185Z"
   },
   {
    "duration": 671,
    "start_time": "2025-03-26T08:51:57.651Z"
   },
   {
    "duration": 118,
    "start_time": "2025-03-26T08:51:58.324Z"
   },
   {
    "duration": 18,
    "start_time": "2025-03-26T08:51:58.444Z"
   },
   {
    "duration": 44,
    "start_time": "2025-03-26T08:51:58.463Z"
   },
   {
    "duration": 21,
    "start_time": "2025-03-26T08:51:58.509Z"
   },
   {
    "duration": 7,
    "start_time": "2025-03-26T08:51:58.531Z"
   },
   {
    "duration": 31,
    "start_time": "2025-03-26T08:51:58.539Z"
   },
   {
    "duration": 30,
    "start_time": "2025-03-26T08:51:58.572Z"
   },
   {
    "duration": 9,
    "start_time": "2025-03-26T08:51:58.603Z"
   },
   {
    "duration": 5,
    "start_time": "2025-03-26T08:51:58.614Z"
   },
   {
    "duration": 11,
    "start_time": "2025-03-26T08:51:58.621Z"
   },
   {
    "duration": 17,
    "start_time": "2025-03-26T08:51:58.633Z"
   },
   {
    "duration": 15,
    "start_time": "2025-03-26T08:51:58.652Z"
   },
   {
    "duration": 5,
    "start_time": "2025-03-26T08:51:58.669Z"
   },
   {
    "duration": 15,
    "start_time": "2025-03-26T08:51:58.676Z"
   },
   {
    "duration": 5,
    "start_time": "2025-03-26T08:51:58.693Z"
   },
   {
    "duration": 27,
    "start_time": "2025-03-26T08:51:58.699Z"
   },
   {
    "duration": 30,
    "start_time": "2025-03-26T08:51:58.757Z"
   },
   {
    "duration": 15,
    "start_time": "2025-03-26T08:51:58.789Z"
   },
   {
    "duration": 5,
    "start_time": "2025-03-26T08:51:58.806Z"
   },
   {
    "duration": 5,
    "start_time": "2025-03-26T08:51:58.813Z"
   },
   {
    "duration": 13,
    "start_time": "2025-03-26T08:51:58.819Z"
   },
   {
    "duration": 66,
    "start_time": "2025-03-26T08:51:58.834Z"
   },
   {
    "duration": 20,
    "start_time": "2025-03-26T08:51:58.902Z"
   },
   {
    "duration": 17,
    "start_time": "2025-03-26T08:51:58.924Z"
   },
   {
    "duration": 71,
    "start_time": "2025-03-26T08:51:58.957Z"
   },
   {
    "duration": 5,
    "start_time": "2025-03-26T08:51:59.030Z"
   },
   {
    "duration": 8,
    "start_time": "2025-03-26T08:51:59.040Z"
   },
   {
    "duration": 7,
    "start_time": "2025-03-26T08:51:59.049Z"
   },
   {
    "duration": 4,
    "start_time": "2025-03-26T08:51:59.059Z"
   },
   {
    "duration": 6,
    "start_time": "2025-03-26T08:51:59.064Z"
   },
   {
    "duration": 130,
    "start_time": "2025-03-26T08:51:59.071Z"
   },
   {
    "duration": 22,
    "start_time": "2025-03-26T08:51:59.203Z"
   },
   {
    "duration": 39,
    "start_time": "2025-03-26T08:51:59.227Z"
   },
   {
    "duration": 1182,
    "start_time": "2025-03-26T08:51:59.267Z"
   },
   {
    "duration": 10,
    "start_time": "2025-03-26T08:52:00.450Z"
   },
   {
    "duration": 6,
    "start_time": "2025-03-26T08:52:00.461Z"
   },
   {
    "duration": 30,
    "start_time": "2025-03-26T08:52:00.469Z"
   },
   {
    "duration": 24,
    "start_time": "2025-03-26T08:52:00.500Z"
   },
   {
    "duration": 5,
    "start_time": "2025-03-26T08:52:00.526Z"
   },
   {
    "duration": 28,
    "start_time": "2025-03-26T08:52:00.533Z"
   },
   {
    "duration": 42,
    "start_time": "2025-03-26T08:52:00.563Z"
   },
   {
    "duration": 8,
    "start_time": "2025-03-26T08:52:00.607Z"
   },
   {
    "duration": 15,
    "start_time": "2025-03-26T08:52:00.617Z"
   },
   {
    "duration": 12,
    "start_time": "2025-03-26T08:52:00.633Z"
   },
   {
    "duration": 8,
    "start_time": "2025-03-26T08:52:00.647Z"
   },
   {
    "duration": 43,
    "start_time": "2025-03-26T08:52:00.657Z"
   },
   {
    "duration": 5,
    "start_time": "2025-03-26T08:52:00.701Z"
   },
   {
    "duration": 104,
    "start_time": "2025-03-26T08:52:00.707Z"
   },
   {
    "duration": 7,
    "start_time": "2025-03-26T08:52:00.812Z"
   },
   {
    "duration": 7,
    "start_time": "2025-03-26T08:52:00.821Z"
   },
   {
    "duration": 19,
    "start_time": "2025-03-26T08:52:00.830Z"
   },
   {
    "duration": 24,
    "start_time": "2025-03-26T08:52:00.851Z"
   },
   {
    "duration": 5,
    "start_time": "2025-03-26T08:52:00.876Z"
   },
   {
    "duration": 12,
    "start_time": "2025-03-26T08:52:00.883Z"
   },
   {
    "duration": 21,
    "start_time": "2025-03-26T08:52:00.897Z"
   },
   {
    "duration": 46,
    "start_time": "2025-03-26T08:52:00.920Z"
   },
   {
    "duration": 51,
    "start_time": "2025-03-26T08:52:00.968Z"
   },
   {
    "duration": 67,
    "start_time": "2025-03-26T08:52:01.020Z"
   },
   {
    "duration": 12,
    "start_time": "2025-03-26T08:52:01.089Z"
   },
   {
    "duration": 25,
    "start_time": "2025-03-26T08:52:01.103Z"
   },
   {
    "duration": 14,
    "start_time": "2025-03-26T08:52:01.129Z"
   },
   {
    "duration": 15,
    "start_time": "2025-03-26T08:52:01.144Z"
   },
   {
    "duration": 28,
    "start_time": "2025-03-26T08:52:01.161Z"
   },
   {
    "duration": 5,
    "start_time": "2025-03-26T08:52:01.191Z"
   },
   {
    "duration": 5,
    "start_time": "2025-03-26T08:52:01.197Z"
   },
   {
    "duration": 23,
    "start_time": "2025-03-26T08:52:01.203Z"
   },
   {
    "duration": 30,
    "start_time": "2025-03-26T08:52:01.228Z"
   },
   {
    "duration": 210,
    "start_time": "2025-03-26T08:52:01.260Z"
   },
   {
    "duration": 17,
    "start_time": "2025-03-26T08:52:01.472Z"
   },
   {
    "duration": 196,
    "start_time": "2025-03-26T08:52:01.491Z"
   },
   {
    "duration": 240,
    "start_time": "2025-03-26T08:52:01.688Z"
   },
   {
    "duration": 457,
    "start_time": "2025-03-26T08:52:01.930Z"
   },
   {
    "duration": 6,
    "start_time": "2025-03-26T08:52:02.389Z"
   },
   {
    "duration": 31,
    "start_time": "2025-03-26T08:52:02.396Z"
   },
   {
    "duration": 197,
    "start_time": "2025-03-26T08:52:02.429Z"
   },
   {
    "duration": 414,
    "start_time": "2025-03-26T08:52:02.628Z"
   },
   {
    "duration": 21,
    "start_time": "2025-03-26T08:52:03.043Z"
   },
   {
    "duration": 8,
    "start_time": "2025-03-26T08:52:03.066Z"
   },
   {
    "duration": 13,
    "start_time": "2025-03-26T08:52:03.076Z"
   },
   {
    "duration": 1610,
    "start_time": "2025-03-26T08:52:03.091Z"
   },
   {
    "duration": 147,
    "start_time": "2025-03-26T08:52:04.706Z"
   },
   {
    "duration": 31,
    "start_time": "2025-03-26T09:08:29.704Z"
   },
   {
    "duration": 9,
    "start_time": "2025-03-26T09:49:58.797Z"
   },
   {
    "duration": 8,
    "start_time": "2025-03-26T09:51:35.997Z"
   },
   {
    "duration": 115,
    "start_time": "2025-03-26T09:52:21.763Z"
   },
   {
    "duration": 141,
    "start_time": "2025-03-26T09:53:07.702Z"
   },
   {
    "duration": 152,
    "start_time": "2025-03-26T09:53:47.831Z"
   },
   {
    "duration": 176,
    "start_time": "2025-03-26T09:54:35.158Z"
   },
   {
    "duration": 152,
    "start_time": "2025-03-26T09:54:41.257Z"
   },
   {
    "duration": 152,
    "start_time": "2025-03-26T09:54:46.610Z"
   },
   {
    "duration": 154,
    "start_time": "2025-03-26T09:54:51.859Z"
   },
   {
    "duration": 151,
    "start_time": "2025-03-26T09:54:57.823Z"
   },
   {
    "duration": 160,
    "start_time": "2025-03-26T10:03:20.540Z"
   },
   {
    "duration": 236,
    "start_time": "2025-03-26T10:03:25.974Z"
   },
   {
    "duration": 186,
    "start_time": "2025-03-26T10:05:31.151Z"
   },
   {
    "duration": 170,
    "start_time": "2025-03-26T10:05:50.136Z"
   },
   {
    "duration": 177,
    "start_time": "2025-03-26T10:06:15.929Z"
   },
   {
    "duration": 12,
    "start_time": "2025-03-26T10:26:10.295Z"
   },
   {
    "duration": 5,
    "start_time": "2025-03-26T10:26:14.730Z"
   },
   {
    "duration": 13,
    "start_time": "2025-03-26T10:26:26.085Z"
   },
   {
    "duration": 5,
    "start_time": "2025-03-26T10:26:29.388Z"
   },
   {
    "duration": 682,
    "start_time": "2025-03-26T10:26:51.892Z"
   },
   {
    "duration": 122,
    "start_time": "2025-03-26T10:26:52.576Z"
   },
   {
    "duration": 17,
    "start_time": "2025-03-26T10:26:52.699Z"
   },
   {
    "duration": 11,
    "start_time": "2025-03-26T10:26:52.718Z"
   },
   {
    "duration": 16,
    "start_time": "2025-03-26T10:26:52.731Z"
   },
   {
    "duration": 7,
    "start_time": "2025-03-26T10:26:52.749Z"
   },
   {
    "duration": 6,
    "start_time": "2025-03-26T10:26:52.757Z"
   },
   {
    "duration": 30,
    "start_time": "2025-03-26T10:26:52.765Z"
   },
   {
    "duration": 7,
    "start_time": "2025-03-26T10:26:52.797Z"
   },
   {
    "duration": 7,
    "start_time": "2025-03-26T10:26:52.807Z"
   },
   {
    "duration": 13,
    "start_time": "2025-03-26T10:26:52.816Z"
   },
   {
    "duration": 32,
    "start_time": "2025-03-26T10:26:52.831Z"
   },
   {
    "duration": 14,
    "start_time": "2025-03-26T10:26:52.864Z"
   },
   {
    "duration": 7,
    "start_time": "2025-03-26T10:26:52.880Z"
   },
   {
    "duration": 21,
    "start_time": "2025-03-26T10:26:52.889Z"
   },
   {
    "duration": 6,
    "start_time": "2025-03-26T10:26:52.912Z"
   },
   {
    "duration": 55,
    "start_time": "2025-03-26T10:26:52.920Z"
   },
   {
    "duration": 3,
    "start_time": "2025-03-26T10:26:52.976Z"
   },
   {
    "duration": 50,
    "start_time": "2025-03-26T10:26:52.981Z"
   },
   {
    "duration": 6,
    "start_time": "2025-03-26T10:26:53.033Z"
   },
   {
    "duration": 5,
    "start_time": "2025-03-26T10:26:53.040Z"
   },
   {
    "duration": 10,
    "start_time": "2025-03-26T10:26:53.047Z"
   },
   {
    "duration": 63,
    "start_time": "2025-03-26T10:26:53.059Z"
   },
   {
    "duration": 34,
    "start_time": "2025-03-26T10:26:53.124Z"
   },
   {
    "duration": 17,
    "start_time": "2025-03-26T10:26:53.160Z"
   },
   {
    "duration": 26,
    "start_time": "2025-03-26T10:26:53.178Z"
   },
   {
    "duration": 5,
    "start_time": "2025-03-26T10:26:53.206Z"
   },
   {
    "duration": 8,
    "start_time": "2025-03-26T10:26:53.215Z"
   },
   {
    "duration": 33,
    "start_time": "2025-03-26T10:26:53.225Z"
   },
   {
    "duration": 4,
    "start_time": "2025-03-26T10:26:53.260Z"
   },
   {
    "duration": 34,
    "start_time": "2025-03-26T10:26:53.266Z"
   },
   {
    "duration": 126,
    "start_time": "2025-03-26T10:26:53.302Z"
   },
   {
    "duration": 32,
    "start_time": "2025-03-26T10:26:53.430Z"
   },
   {
    "duration": 27,
    "start_time": "2025-03-26T10:26:53.464Z"
   },
   {
    "duration": 1259,
    "start_time": "2025-03-26T10:26:53.493Z"
   },
   {
    "duration": 9,
    "start_time": "2025-03-26T10:26:54.753Z"
   },
   {
    "duration": 4,
    "start_time": "2025-03-26T10:26:54.764Z"
   },
   {
    "duration": 18,
    "start_time": "2025-03-26T10:26:54.770Z"
   },
   {
    "duration": 25,
    "start_time": "2025-03-26T10:26:54.790Z"
   },
   {
    "duration": 6,
    "start_time": "2025-03-26T10:26:54.817Z"
   },
   {
    "duration": 36,
    "start_time": "2025-03-26T10:26:54.825Z"
   },
   {
    "duration": 24,
    "start_time": "2025-03-26T10:26:54.863Z"
   },
   {
    "duration": 9,
    "start_time": "2025-03-26T10:26:54.888Z"
   },
   {
    "duration": 13,
    "start_time": "2025-03-26T10:26:54.899Z"
   },
   {
    "duration": 4,
    "start_time": "2025-03-26T10:26:54.913Z"
   },
   {
    "duration": 43,
    "start_time": "2025-03-26T10:26:54.919Z"
   },
   {
    "duration": 28,
    "start_time": "2025-03-26T10:26:54.963Z"
   },
   {
    "duration": 4,
    "start_time": "2025-03-26T10:26:54.993Z"
   },
   {
    "duration": 17,
    "start_time": "2025-03-26T10:26:54.999Z"
   },
   {
    "duration": 7,
    "start_time": "2025-03-26T10:26:55.018Z"
   },
   {
    "duration": 9,
    "start_time": "2025-03-26T10:26:55.058Z"
   },
   {
    "duration": 6,
    "start_time": "2025-03-26T10:26:55.069Z"
   },
   {
    "duration": 26,
    "start_time": "2025-03-26T10:26:55.076Z"
   },
   {
    "duration": 5,
    "start_time": "2025-03-26T10:26:55.103Z"
   },
   {
    "duration": 7,
    "start_time": "2025-03-26T10:26:55.110Z"
   },
   {
    "duration": 62,
    "start_time": "2025-03-26T10:26:55.119Z"
   },
   {
    "duration": 45,
    "start_time": "2025-03-26T10:26:55.184Z"
   },
   {
    "duration": 6,
    "start_time": "2025-03-26T10:26:55.230Z"
   },
   {
    "duration": 64,
    "start_time": "2025-03-26T10:26:55.258Z"
   },
   {
    "duration": 14,
    "start_time": "2025-03-26T10:26:55.324Z"
   },
   {
    "duration": 35,
    "start_time": "2025-03-26T10:26:55.340Z"
   },
   {
    "duration": 12,
    "start_time": "2025-03-26T10:26:55.377Z"
   },
   {
    "duration": 6,
    "start_time": "2025-03-26T10:26:55.391Z"
   },
   {
    "duration": 22,
    "start_time": "2025-03-26T10:26:55.399Z"
   },
   {
    "duration": 208,
    "start_time": "2025-03-26T10:26:55.422Z"
   },
   {
    "duration": 5,
    "start_time": "2025-03-26T10:26:55.632Z"
   },
   {
    "duration": 31,
    "start_time": "2025-03-26T10:26:55.639Z"
   },
   {
    "duration": 11,
    "start_time": "2025-03-26T10:26:55.672Z"
   },
   {
    "duration": 215,
    "start_time": "2025-03-26T10:26:55.685Z"
   },
   {
    "duration": 15,
    "start_time": "2025-03-26T10:26:55.902Z"
   },
   {
    "duration": 4,
    "start_time": "2025-03-26T10:26:55.919Z"
   },
   {
    "duration": 38,
    "start_time": "2025-03-26T10:26:55.924Z"
   },
   {
    "duration": 197,
    "start_time": "2025-03-26T10:26:55.964Z"
   },
   {
    "duration": 365,
    "start_time": "2025-03-26T10:26:56.162Z"
   },
   {
    "duration": 6,
    "start_time": "2025-03-26T10:26:56.528Z"
   },
   {
    "duration": 41,
    "start_time": "2025-03-26T10:26:56.536Z"
   },
   {
    "duration": 197,
    "start_time": "2025-03-26T10:26:56.579Z"
   },
   {
    "duration": 502,
    "start_time": "2025-03-26T10:26:56.778Z"
   },
   {
    "duration": 13,
    "start_time": "2025-03-26T10:26:57.282Z"
   },
   {
    "duration": 43,
    "start_time": "2025-03-26T10:26:57.296Z"
   },
   {
    "duration": 14,
    "start_time": "2025-03-26T10:26:57.341Z"
   },
   {
    "duration": 1329,
    "start_time": "2025-03-26T10:26:57.362Z"
   },
   {
    "duration": 312,
    "start_time": "2025-03-26T10:26:58.692Z"
   },
   {
    "duration": 5,
    "start_time": "2025-03-26T10:27:14.323Z"
   },
   {
    "duration": 191,
    "start_time": "2025-03-26T10:27:26.828Z"
   },
   {
    "duration": 147,
    "start_time": "2025-03-26T10:50:20.127Z"
   },
   {
    "duration": 147,
    "start_time": "2025-03-26T10:52:16.912Z"
   },
   {
    "duration": 83,
    "start_time": "2025-03-26T10:52:33.683Z"
   },
   {
    "duration": 144,
    "start_time": "2025-03-26T10:52:52.266Z"
   },
   {
    "duration": 12,
    "start_time": "2025-03-26T10:54:32.289Z"
   },
   {
    "duration": 145,
    "start_time": "2025-03-26T10:54:40.828Z"
   },
   {
    "duration": 5,
    "start_time": "2025-03-26T10:59:08.738Z"
   },
   {
    "duration": 36,
    "start_time": "2025-03-26T10:59:24.487Z"
   },
   {
    "duration": 24,
    "start_time": "2025-03-26T11:00:15.412Z"
   },
   {
    "duration": 804,
    "start_time": "2025-03-26T11:05:28.315Z"
   },
   {
    "duration": 126,
    "start_time": "2025-03-26T11:05:29.121Z"
   },
   {
    "duration": 18,
    "start_time": "2025-03-26T11:05:29.249Z"
   },
   {
    "duration": 10,
    "start_time": "2025-03-26T11:05:29.269Z"
   },
   {
    "duration": 19,
    "start_time": "2025-03-26T11:05:29.281Z"
   },
   {
    "duration": 6,
    "start_time": "2025-03-26T11:05:29.302Z"
   },
   {
    "duration": 2,
    "start_time": "2025-03-26T11:05:29.311Z"
   },
   {
    "duration": 49,
    "start_time": "2025-03-26T11:05:29.315Z"
   },
   {
    "duration": 7,
    "start_time": "2025-03-26T11:05:29.366Z"
   },
   {
    "duration": 6,
    "start_time": "2025-03-26T11:05:29.375Z"
   },
   {
    "duration": 11,
    "start_time": "2025-03-26T11:05:29.382Z"
   },
   {
    "duration": 15,
    "start_time": "2025-03-26T11:05:29.395Z"
   },
   {
    "duration": 14,
    "start_time": "2025-03-26T11:05:29.412Z"
   },
   {
    "duration": 33,
    "start_time": "2025-03-26T11:05:29.428Z"
   },
   {
    "duration": 62,
    "start_time": "2025-03-26T11:05:29.463Z"
   },
   {
    "duration": 5,
    "start_time": "2025-03-26T11:05:29.527Z"
   },
   {
    "duration": 41,
    "start_time": "2025-03-26T11:05:29.533Z"
   },
   {
    "duration": 2,
    "start_time": "2025-03-26T11:05:29.576Z"
   },
   {
    "duration": 40,
    "start_time": "2025-03-26T11:05:29.580Z"
   },
   {
    "duration": 6,
    "start_time": "2025-03-26T11:05:29.621Z"
   },
   {
    "duration": 5,
    "start_time": "2025-03-26T11:05:29.629Z"
   },
   {
    "duration": 11,
    "start_time": "2025-03-26T11:05:29.636Z"
   },
   {
    "duration": 66,
    "start_time": "2025-03-26T11:05:29.649Z"
   },
   {
    "duration": 22,
    "start_time": "2025-03-26T11:05:29.717Z"
   },
   {
    "duration": 17,
    "start_time": "2025-03-26T11:05:29.757Z"
   },
   {
    "duration": 18,
    "start_time": "2025-03-26T11:05:29.775Z"
   },
   {
    "duration": 5,
    "start_time": "2025-03-26T11:05:29.795Z"
   },
   {
    "duration": 9,
    "start_time": "2025-03-26T11:05:29.804Z"
   },
   {
    "duration": 167,
    "start_time": "2025-03-26T11:05:29.815Z"
   },
   {
    "duration": 3,
    "start_time": "2025-03-26T11:05:29.984Z"
   },
   {
    "duration": 4,
    "start_time": "2025-03-26T11:05:29.989Z"
   },
   {
    "duration": 134,
    "start_time": "2025-03-26T11:05:29.994Z"
   },
   {
    "duration": 32,
    "start_time": "2025-03-26T11:05:30.130Z"
   },
   {
    "duration": 123,
    "start_time": "2025-03-26T11:05:30.163Z"
   },
   {
    "duration": 1223,
    "start_time": "2025-03-26T11:05:30.288Z"
   },
   {
    "duration": 7,
    "start_time": "2025-03-26T11:05:31.513Z"
   },
   {
    "duration": 25,
    "start_time": "2025-03-26T11:05:31.522Z"
   },
   {
    "duration": 26,
    "start_time": "2025-03-26T11:05:31.549Z"
   },
   {
    "duration": 28,
    "start_time": "2025-03-26T11:05:31.577Z"
   },
   {
    "duration": 7,
    "start_time": "2025-03-26T11:05:31.607Z"
   },
   {
    "duration": 9,
    "start_time": "2025-03-26T11:05:31.616Z"
   },
   {
    "duration": 45,
    "start_time": "2025-03-26T11:05:31.627Z"
   },
   {
    "duration": 9,
    "start_time": "2025-03-26T11:05:31.674Z"
   },
   {
    "duration": 13,
    "start_time": "2025-03-26T11:05:31.684Z"
   },
   {
    "duration": 5,
    "start_time": "2025-03-26T11:05:31.699Z"
   },
   {
    "duration": 8,
    "start_time": "2025-03-26T11:05:31.706Z"
   },
   {
    "duration": 53,
    "start_time": "2025-03-26T11:05:31.716Z"
   },
   {
    "duration": 5,
    "start_time": "2025-03-26T11:05:31.770Z"
   },
   {
    "duration": 19,
    "start_time": "2025-03-26T11:05:31.776Z"
   },
   {
    "duration": 6,
    "start_time": "2025-03-26T11:05:31.797Z"
   },
   {
    "duration": 200,
    "start_time": "2025-03-26T11:05:31.805Z"
   },
   {
    "duration": 7,
    "start_time": "2025-03-26T11:05:32.006Z"
   },
   {
    "duration": 20,
    "start_time": "2025-03-26T11:05:32.014Z"
   },
   {
    "duration": 4,
    "start_time": "2025-03-26T11:05:32.036Z"
   },
   {
    "duration": 6,
    "start_time": "2025-03-26T11:05:32.042Z"
   },
   {
    "duration": 19,
    "start_time": "2025-03-26T11:05:32.050Z"
   },
   {
    "duration": 43,
    "start_time": "2025-03-26T11:05:32.071Z"
   },
   {
    "duration": 150,
    "start_time": "2025-03-26T11:05:32.116Z"
   },
   {
    "duration": 64,
    "start_time": "2025-03-26T11:05:32.268Z"
   },
   {
    "duration": 23,
    "start_time": "2025-03-26T11:05:32.334Z"
   },
   {
    "duration": 30,
    "start_time": "2025-03-26T11:05:32.359Z"
   },
   {
    "duration": 28,
    "start_time": "2025-03-26T11:05:32.391Z"
   },
   {
    "duration": 16,
    "start_time": "2025-03-26T11:05:32.420Z"
   },
   {
    "duration": 23,
    "start_time": "2025-03-26T11:05:32.438Z"
   },
   {
    "duration": 179,
    "start_time": "2025-03-26T11:05:32.463Z"
   },
   {
    "duration": 5,
    "start_time": "2025-03-26T11:05:32.644Z"
   },
   {
    "duration": 26,
    "start_time": "2025-03-26T11:05:32.659Z"
   },
   {
    "duration": 13,
    "start_time": "2025-03-26T11:05:32.687Z"
   },
   {
    "duration": 207,
    "start_time": "2025-03-26T11:05:32.702Z"
   },
   {
    "duration": 17,
    "start_time": "2025-03-26T11:05:32.911Z"
   },
   {
    "duration": 5,
    "start_time": "2025-03-26T11:05:32.930Z"
   },
   {
    "duration": 16,
    "start_time": "2025-03-26T11:05:32.957Z"
   },
   {
    "duration": 203,
    "start_time": "2025-03-26T11:05:32.974Z"
   },
   {
    "duration": 372,
    "start_time": "2025-03-26T11:05:33.179Z"
   },
   {
    "duration": 7,
    "start_time": "2025-03-26T11:05:33.558Z"
   },
   {
    "duration": 26,
    "start_time": "2025-03-26T11:05:33.567Z"
   },
   {
    "duration": 24,
    "start_time": "2025-03-26T11:05:33.594Z"
   },
   {
    "duration": 105,
    "start_time": "2025-03-26T11:05:33.620Z"
   },
   {
    "duration": 0,
    "start_time": "2025-03-26T11:05:33.727Z"
   },
   {
    "duration": 0,
    "start_time": "2025-03-26T11:05:33.728Z"
   },
   {
    "duration": 0,
    "start_time": "2025-03-26T11:05:33.729Z"
   },
   {
    "duration": 0,
    "start_time": "2025-03-26T11:05:33.731Z"
   },
   {
    "duration": 0,
    "start_time": "2025-03-26T11:05:33.732Z"
   },
   {
    "duration": 0,
    "start_time": "2025-03-26T11:05:33.733Z"
   },
   {
    "duration": 665,
    "start_time": "2025-03-26T11:11:12.071Z"
   },
   {
    "duration": 119,
    "start_time": "2025-03-26T11:11:12.738Z"
   },
   {
    "duration": 17,
    "start_time": "2025-03-26T11:11:12.859Z"
   },
   {
    "duration": 21,
    "start_time": "2025-03-26T11:11:12.878Z"
   },
   {
    "duration": 22,
    "start_time": "2025-03-26T11:11:12.900Z"
   },
   {
    "duration": 6,
    "start_time": "2025-03-26T11:11:12.924Z"
   },
   {
    "duration": 3,
    "start_time": "2025-03-26T11:11:12.931Z"
   },
   {
    "duration": 32,
    "start_time": "2025-03-26T11:11:12.935Z"
   },
   {
    "duration": 10,
    "start_time": "2025-03-26T11:11:12.969Z"
   },
   {
    "duration": 21,
    "start_time": "2025-03-26T11:11:12.982Z"
   },
   {
    "duration": 12,
    "start_time": "2025-03-26T11:11:13.005Z"
   },
   {
    "duration": 16,
    "start_time": "2025-03-26T11:11:13.019Z"
   },
   {
    "duration": 23,
    "start_time": "2025-03-26T11:11:13.037Z"
   },
   {
    "duration": 5,
    "start_time": "2025-03-26T11:11:13.061Z"
   },
   {
    "duration": 26,
    "start_time": "2025-03-26T11:11:13.068Z"
   },
   {
    "duration": 57,
    "start_time": "2025-03-26T11:11:13.096Z"
   },
   {
    "duration": 30,
    "start_time": "2025-03-26T11:11:13.154Z"
   },
   {
    "duration": 2,
    "start_time": "2025-03-26T11:11:13.186Z"
   },
   {
    "duration": 25,
    "start_time": "2025-03-26T11:11:13.189Z"
   },
   {
    "duration": 8,
    "start_time": "2025-03-26T11:11:13.215Z"
   },
   {
    "duration": 8,
    "start_time": "2025-03-26T11:11:13.225Z"
   },
   {
    "duration": 28,
    "start_time": "2025-03-26T11:11:13.235Z"
   },
   {
    "duration": 63,
    "start_time": "2025-03-26T11:11:13.265Z"
   },
   {
    "duration": 38,
    "start_time": "2025-03-26T11:11:13.331Z"
   },
   {
    "duration": 18,
    "start_time": "2025-03-26T11:11:13.371Z"
   },
   {
    "duration": 18,
    "start_time": "2025-03-26T11:11:13.391Z"
   },
   {
    "duration": 6,
    "start_time": "2025-03-26T11:11:13.411Z"
   },
   {
    "duration": 8,
    "start_time": "2025-03-26T11:11:13.421Z"
   },
   {
    "duration": 5,
    "start_time": "2025-03-26T11:11:13.458Z"
   },
   {
    "duration": 83,
    "start_time": "2025-03-26T11:11:13.465Z"
   },
   {
    "duration": 5,
    "start_time": "2025-03-26T11:11:13.550Z"
   },
   {
    "duration": 124,
    "start_time": "2025-03-26T11:11:13.557Z"
   },
   {
    "duration": 22,
    "start_time": "2025-03-26T11:11:13.683Z"
   },
   {
    "duration": 29,
    "start_time": "2025-03-26T11:11:13.707Z"
   },
   {
    "duration": 1233,
    "start_time": "2025-03-26T11:11:13.737Z"
   },
   {
    "duration": 7,
    "start_time": "2025-03-26T11:11:14.972Z"
   },
   {
    "duration": 6,
    "start_time": "2025-03-26T11:11:14.981Z"
   },
   {
    "duration": 21,
    "start_time": "2025-03-26T11:11:14.988Z"
   },
   {
    "duration": 57,
    "start_time": "2025-03-26T11:11:15.011Z"
   },
   {
    "duration": 6,
    "start_time": "2025-03-26T11:11:15.070Z"
   },
   {
    "duration": 16,
    "start_time": "2025-03-26T11:11:15.077Z"
   },
   {
    "duration": 110,
    "start_time": "2025-03-26T11:11:15.095Z"
   },
   {
    "duration": 14,
    "start_time": "2025-03-26T11:11:15.206Z"
   },
   {
    "duration": 29,
    "start_time": "2025-03-26T11:11:15.222Z"
   },
   {
    "duration": 20,
    "start_time": "2025-03-26T11:11:15.252Z"
   },
   {
    "duration": 30,
    "start_time": "2025-03-26T11:11:15.273Z"
   },
   {
    "duration": 36,
    "start_time": "2025-03-26T11:11:15.305Z"
   },
   {
    "duration": 4,
    "start_time": "2025-03-26T11:11:15.343Z"
   },
   {
    "duration": 19,
    "start_time": "2025-03-26T11:11:15.349Z"
   },
   {
    "duration": 7,
    "start_time": "2025-03-26T11:11:15.370Z"
   },
   {
    "duration": 15,
    "start_time": "2025-03-26T11:11:15.379Z"
   },
   {
    "duration": 22,
    "start_time": "2025-03-26T11:11:15.395Z"
   },
   {
    "duration": 29,
    "start_time": "2025-03-26T11:11:15.419Z"
   },
   {
    "duration": 4,
    "start_time": "2025-03-26T11:11:15.450Z"
   },
   {
    "duration": 54,
    "start_time": "2025-03-26T11:11:15.456Z"
   },
   {
    "duration": 55,
    "start_time": "2025-03-26T11:11:15.511Z"
   },
   {
    "duration": 44,
    "start_time": "2025-03-26T11:11:15.568Z"
   },
   {
    "duration": 6,
    "start_time": "2025-03-26T11:11:15.613Z"
   },
   {
    "duration": 74,
    "start_time": "2025-03-26T11:11:15.621Z"
   },
   {
    "duration": 14,
    "start_time": "2025-03-26T11:11:15.697Z"
   },
   {
    "duration": 23,
    "start_time": "2025-03-26T11:11:15.712Z"
   },
   {
    "duration": 23,
    "start_time": "2025-03-26T11:11:15.736Z"
   },
   {
    "duration": 7,
    "start_time": "2025-03-26T11:11:15.760Z"
   },
   {
    "duration": 32,
    "start_time": "2025-03-26T11:11:15.769Z"
   },
   {
    "duration": 185,
    "start_time": "2025-03-26T11:11:15.803Z"
   },
   {
    "duration": 5,
    "start_time": "2025-03-26T11:11:15.989Z"
   },
   {
    "duration": 29,
    "start_time": "2025-03-26T11:11:15.995Z"
   },
   {
    "duration": 12,
    "start_time": "2025-03-26T11:11:16.026Z"
   },
   {
    "duration": 204,
    "start_time": "2025-03-26T11:11:16.039Z"
   },
   {
    "duration": 19,
    "start_time": "2025-03-26T11:11:16.245Z"
   },
   {
    "duration": 19,
    "start_time": "2025-03-26T11:11:16.266Z"
   },
   {
    "duration": 17,
    "start_time": "2025-03-26T11:11:16.287Z"
   },
   {
    "duration": 194,
    "start_time": "2025-03-26T11:11:16.306Z"
   },
   {
    "duration": 370,
    "start_time": "2025-03-26T11:11:16.502Z"
   },
   {
    "duration": 5,
    "start_time": "2025-03-26T11:11:16.874Z"
   },
   {
    "duration": 56,
    "start_time": "2025-03-26T11:11:16.881Z"
   },
   {
    "duration": 24,
    "start_time": "2025-03-26T11:11:16.939Z"
   },
   {
    "duration": 80,
    "start_time": "2025-03-26T11:11:16.965Z"
   },
   {
    "duration": 0,
    "start_time": "2025-03-26T11:11:17.047Z"
   },
   {
    "duration": 0,
    "start_time": "2025-03-26T11:11:17.048Z"
   },
   {
    "duration": 0,
    "start_time": "2025-03-26T11:11:17.058Z"
   },
   {
    "duration": 0,
    "start_time": "2025-03-26T11:11:17.059Z"
   },
   {
    "duration": 0,
    "start_time": "2025-03-26T11:11:17.060Z"
   },
   {
    "duration": 0,
    "start_time": "2025-03-26T11:11:17.061Z"
   },
   {
    "duration": 188,
    "start_time": "2025-03-26T11:16:14.162Z"
   },
   {
    "duration": 483,
    "start_time": "2025-03-26T11:18:28.466Z"
   },
   {
    "duration": 400,
    "start_time": "2025-03-26T11:18:54.686Z"
   },
   {
    "duration": 416,
    "start_time": "2025-03-26T11:19:01.826Z"
   },
   {
    "duration": 9,
    "start_time": "2025-03-26T11:20:49.807Z"
   },
   {
    "duration": 5,
    "start_time": "2025-03-26T11:20:54.296Z"
   },
   {
    "duration": 6,
    "start_time": "2025-03-26T11:20:57.730Z"
   },
   {
    "duration": 9,
    "start_time": "2025-03-26T11:22:09.046Z"
   },
   {
    "duration": 6,
    "start_time": "2025-03-26T11:22:12.630Z"
   },
   {
    "duration": 5,
    "start_time": "2025-03-26T11:22:13.606Z"
   },
   {
    "duration": 847,
    "start_time": "2025-03-26T11:23:56.996Z"
   },
   {
    "duration": 145,
    "start_time": "2025-03-26T11:25:05.628Z"
   },
   {
    "duration": 646,
    "start_time": "2025-03-26T11:35:17.197Z"
   },
   {
    "duration": 129,
    "start_time": "2025-03-26T11:35:17.845Z"
   },
   {
    "duration": 16,
    "start_time": "2025-03-26T11:35:17.976Z"
   },
   {
    "duration": 97,
    "start_time": "2025-03-26T11:35:17.994Z"
   },
   {
    "duration": 17,
    "start_time": "2025-03-26T11:35:18.093Z"
   },
   {
    "duration": 6,
    "start_time": "2025-03-26T11:35:18.112Z"
   },
   {
    "duration": 3,
    "start_time": "2025-03-26T11:35:18.119Z"
   },
   {
    "duration": 13,
    "start_time": "2025-03-26T11:35:18.123Z"
   },
   {
    "duration": 8,
    "start_time": "2025-03-26T11:35:18.138Z"
   },
   {
    "duration": 10,
    "start_time": "2025-03-26T11:35:18.148Z"
   },
   {
    "duration": 11,
    "start_time": "2025-03-26T11:35:18.160Z"
   },
   {
    "duration": 15,
    "start_time": "2025-03-26T11:35:18.173Z"
   },
   {
    "duration": 90,
    "start_time": "2025-03-26T11:35:18.189Z"
   },
   {
    "duration": 112,
    "start_time": "2025-03-26T11:35:18.281Z"
   },
   {
    "duration": 15,
    "start_time": "2025-03-26T11:35:18.395Z"
   },
   {
    "duration": 5,
    "start_time": "2025-03-26T11:35:18.411Z"
   },
   {
    "duration": 28,
    "start_time": "2025-03-26T11:35:18.417Z"
   },
   {
    "duration": 3,
    "start_time": "2025-03-26T11:35:18.446Z"
   },
   {
    "duration": 16,
    "start_time": "2025-03-26T11:35:18.450Z"
   },
   {
    "duration": 5,
    "start_time": "2025-03-26T11:35:18.467Z"
   },
   {
    "duration": 7,
    "start_time": "2025-03-26T11:35:18.474Z"
   },
   {
    "duration": 13,
    "start_time": "2025-03-26T11:35:18.483Z"
   },
   {
    "duration": 85,
    "start_time": "2025-03-26T11:35:18.498Z"
   },
   {
    "duration": 22,
    "start_time": "2025-03-26T11:35:18.585Z"
   },
   {
    "duration": 22,
    "start_time": "2025-03-26T11:35:18.609Z"
   },
   {
    "duration": 35,
    "start_time": "2025-03-26T11:35:18.633Z"
   },
   {
    "duration": 81,
    "start_time": "2025-03-26T11:35:18.670Z"
   },
   {
    "duration": 8,
    "start_time": "2025-03-26T11:35:18.755Z"
   },
   {
    "duration": 7,
    "start_time": "2025-03-26T11:35:18.765Z"
   },
   {
    "duration": 4,
    "start_time": "2025-03-26T11:35:18.774Z"
   },
   {
    "duration": 4,
    "start_time": "2025-03-26T11:35:18.780Z"
   },
   {
    "duration": 130,
    "start_time": "2025-03-26T11:35:18.785Z"
   },
   {
    "duration": 23,
    "start_time": "2025-03-26T11:35:18.917Z"
   },
   {
    "duration": 44,
    "start_time": "2025-03-26T11:35:18.941Z"
   },
   {
    "duration": 1197,
    "start_time": "2025-03-26T11:35:18.986Z"
   },
   {
    "duration": 5,
    "start_time": "2025-03-26T11:35:20.185Z"
   },
   {
    "duration": 84,
    "start_time": "2025-03-26T11:35:20.191Z"
   },
   {
    "duration": 18,
    "start_time": "2025-03-26T11:35:20.277Z"
   },
   {
    "duration": 103,
    "start_time": "2025-03-26T11:35:20.297Z"
   },
   {
    "duration": 5,
    "start_time": "2025-03-26T11:35:20.402Z"
   },
   {
    "duration": 5,
    "start_time": "2025-03-26T11:35:20.409Z"
   },
   {
    "duration": 24,
    "start_time": "2025-03-26T11:35:20.415Z"
   },
   {
    "duration": 9,
    "start_time": "2025-03-26T11:35:20.441Z"
   },
   {
    "duration": 17,
    "start_time": "2025-03-26T11:35:20.451Z"
   },
   {
    "duration": 10,
    "start_time": "2025-03-26T11:35:20.470Z"
   },
   {
    "duration": 10,
    "start_time": "2025-03-26T11:35:20.481Z"
   },
   {
    "duration": 30,
    "start_time": "2025-03-26T11:35:20.492Z"
   },
   {
    "duration": 4,
    "start_time": "2025-03-26T11:35:20.524Z"
   },
   {
    "duration": 44,
    "start_time": "2025-03-26T11:35:20.529Z"
   },
   {
    "duration": 7,
    "start_time": "2025-03-26T11:35:20.574Z"
   },
   {
    "duration": 26,
    "start_time": "2025-03-26T11:35:20.582Z"
   },
   {
    "duration": 12,
    "start_time": "2025-03-26T11:35:20.609Z"
   },
   {
    "duration": 20,
    "start_time": "2025-03-26T11:35:20.623Z"
   },
   {
    "duration": 16,
    "start_time": "2025-03-26T11:35:20.645Z"
   },
   {
    "duration": 95,
    "start_time": "2025-03-26T11:35:20.662Z"
   },
   {
    "duration": 18,
    "start_time": "2025-03-26T11:35:20.759Z"
   },
   {
    "duration": 32,
    "start_time": "2025-03-26T11:35:20.779Z"
   },
   {
    "duration": 5,
    "start_time": "2025-03-26T11:35:20.813Z"
   },
   {
    "duration": 89,
    "start_time": "2025-03-26T11:35:20.820Z"
   },
   {
    "duration": 13,
    "start_time": "2025-03-26T11:35:20.910Z"
   },
   {
    "duration": 35,
    "start_time": "2025-03-26T11:35:20.924Z"
   },
   {
    "duration": 16,
    "start_time": "2025-03-26T11:35:20.960Z"
   },
   {
    "duration": 7,
    "start_time": "2025-03-26T11:35:20.978Z"
   },
   {
    "duration": 36,
    "start_time": "2025-03-26T11:35:20.986Z"
   },
   {
    "duration": 198,
    "start_time": "2025-03-26T11:35:21.023Z"
   },
   {
    "duration": 5,
    "start_time": "2025-03-26T11:35:21.222Z"
   },
   {
    "duration": 60,
    "start_time": "2025-03-26T11:35:21.229Z"
   },
   {
    "duration": 28,
    "start_time": "2025-03-26T11:35:21.291Z"
   },
   {
    "duration": 194,
    "start_time": "2025-03-26T11:35:21.321Z"
   },
   {
    "duration": 18,
    "start_time": "2025-03-26T11:35:21.517Z"
   },
   {
    "duration": 23,
    "start_time": "2025-03-26T11:35:21.537Z"
   },
   {
    "duration": 16,
    "start_time": "2025-03-26T11:35:21.563Z"
   },
   {
    "duration": 224,
    "start_time": "2025-03-26T11:35:21.581Z"
   },
   {
    "duration": 367,
    "start_time": "2025-03-26T11:35:21.807Z"
   },
   {
    "duration": 6,
    "start_time": "2025-03-26T11:35:22.176Z"
   },
   {
    "duration": 98,
    "start_time": "2025-03-26T11:35:22.183Z"
   },
   {
    "duration": 24,
    "start_time": "2025-03-26T11:35:22.283Z"
   },
   {
    "duration": 265,
    "start_time": "2025-03-26T11:35:22.309Z"
   },
   {
    "duration": 497,
    "start_time": "2025-03-26T11:35:22.576Z"
   },
   {
    "duration": 8,
    "start_time": "2025-03-26T11:35:23.074Z"
   },
   {
    "duration": 7,
    "start_time": "2025-03-26T11:35:23.084Z"
   },
   {
    "duration": 4,
    "start_time": "2025-03-26T11:35:23.096Z"
   },
   {
    "duration": 822,
    "start_time": "2025-03-26T11:35:23.102Z"
   },
   {
    "duration": 166,
    "start_time": "2025-03-26T11:35:23.926Z"
   },
   {
    "duration": 651,
    "start_time": "2025-03-26T23:17:45.795Z"
   },
   {
    "duration": 117,
    "start_time": "2025-03-26T23:17:46.448Z"
   },
   {
    "duration": 18,
    "start_time": "2025-03-26T23:17:46.566Z"
   },
   {
    "duration": 17,
    "start_time": "2025-03-26T23:17:46.585Z"
   },
   {
    "duration": 22,
    "start_time": "2025-03-26T23:17:46.604Z"
   },
   {
    "duration": 7,
    "start_time": "2025-03-26T23:17:46.628Z"
   },
   {
    "duration": 4,
    "start_time": "2025-03-26T23:17:46.636Z"
   },
   {
    "duration": 16,
    "start_time": "2025-03-26T23:17:46.641Z"
   },
   {
    "duration": 6,
    "start_time": "2025-03-26T23:17:46.659Z"
   },
   {
    "duration": 16,
    "start_time": "2025-03-26T23:17:46.667Z"
   },
   {
    "duration": 12,
    "start_time": "2025-03-26T23:17:46.685Z"
   },
   {
    "duration": 32,
    "start_time": "2025-03-26T23:17:46.699Z"
   },
   {
    "duration": 15,
    "start_time": "2025-03-26T23:17:46.732Z"
   },
   {
    "duration": 6,
    "start_time": "2025-03-26T23:17:46.750Z"
   },
   {
    "duration": 15,
    "start_time": "2025-03-26T23:17:46.758Z"
   },
   {
    "duration": 5,
    "start_time": "2025-03-26T23:17:46.774Z"
   },
   {
    "duration": 62,
    "start_time": "2025-03-26T23:17:46.781Z"
   },
   {
    "duration": 2,
    "start_time": "2025-03-26T23:17:46.845Z"
   },
   {
    "duration": 15,
    "start_time": "2025-03-26T23:17:46.849Z"
   },
   {
    "duration": 6,
    "start_time": "2025-03-26T23:17:46.865Z"
   },
   {
    "duration": 5,
    "start_time": "2025-03-26T23:17:46.873Z"
   },
   {
    "duration": 11,
    "start_time": "2025-03-26T23:17:46.879Z"
   },
   {
    "duration": 96,
    "start_time": "2025-03-26T23:17:46.891Z"
   },
   {
    "duration": 21,
    "start_time": "2025-03-26T23:17:46.989Z"
   },
   {
    "duration": 31,
    "start_time": "2025-03-26T23:17:47.012Z"
   },
   {
    "duration": 64,
    "start_time": "2025-03-26T23:17:47.045Z"
   },
   {
    "duration": 5,
    "start_time": "2025-03-26T23:17:47.112Z"
   },
   {
    "duration": 14,
    "start_time": "2025-03-26T23:17:47.118Z"
   },
   {
    "duration": 6,
    "start_time": "2025-03-26T23:17:47.133Z"
   },
   {
    "duration": 5,
    "start_time": "2025-03-26T23:17:47.140Z"
   },
   {
    "duration": 7,
    "start_time": "2025-03-26T23:17:47.146Z"
   },
   {
    "duration": 130,
    "start_time": "2025-03-26T23:17:47.154Z"
   },
   {
    "duration": 22,
    "start_time": "2025-03-26T23:17:47.286Z"
   },
   {
    "duration": 40,
    "start_time": "2025-03-26T23:17:47.310Z"
   },
   {
    "duration": 1160,
    "start_time": "2025-03-26T23:17:47.352Z"
   },
   {
    "duration": 5,
    "start_time": "2025-03-26T23:17:48.514Z"
   },
   {
    "duration": 10,
    "start_time": "2025-03-26T23:17:48.520Z"
   },
   {
    "duration": 22,
    "start_time": "2025-03-26T23:17:48.532Z"
   },
   {
    "duration": 22,
    "start_time": "2025-03-26T23:17:48.555Z"
   },
   {
    "duration": 5,
    "start_time": "2025-03-26T23:17:48.579Z"
   },
   {
    "duration": 8,
    "start_time": "2025-03-26T23:17:48.588Z"
   },
   {
    "duration": 41,
    "start_time": "2025-03-26T23:17:48.597Z"
   },
   {
    "duration": 8,
    "start_time": "2025-03-26T23:17:48.640Z"
   },
   {
    "duration": 18,
    "start_time": "2025-03-26T23:17:48.650Z"
   },
   {
    "duration": 1,
    "start_time": "2025-03-26T23:17:48.670Z"
   },
   {
    "duration": 8,
    "start_time": "2025-03-26T23:17:48.673Z"
   },
   {
    "duration": 47,
    "start_time": "2025-03-26T23:17:48.683Z"
   },
   {
    "duration": 4,
    "start_time": "2025-03-26T23:17:48.731Z"
   },
   {
    "duration": 15,
    "start_time": "2025-03-26T23:17:48.737Z"
   },
   {
    "duration": 6,
    "start_time": "2025-03-26T23:17:48.753Z"
   },
   {
    "duration": 7,
    "start_time": "2025-03-26T23:17:48.760Z"
   },
   {
    "duration": 5,
    "start_time": "2025-03-26T23:17:48.769Z"
   },
   {
    "duration": 20,
    "start_time": "2025-03-26T23:17:48.775Z"
   },
   {
    "duration": 36,
    "start_time": "2025-03-26T23:17:48.796Z"
   },
   {
    "duration": 6,
    "start_time": "2025-03-26T23:17:48.834Z"
   },
   {
    "duration": 18,
    "start_time": "2025-03-26T23:17:48.841Z"
   },
   {
    "duration": 30,
    "start_time": "2025-03-26T23:17:48.860Z"
   },
   {
    "duration": 5,
    "start_time": "2025-03-26T23:17:48.892Z"
   },
   {
    "duration": 86,
    "start_time": "2025-03-26T23:17:48.898Z"
   },
   {
    "duration": 13,
    "start_time": "2025-03-26T23:17:48.986Z"
   },
   {
    "duration": 36,
    "start_time": "2025-03-26T23:17:49.000Z"
   },
   {
    "duration": 9,
    "start_time": "2025-03-26T23:17:49.038Z"
   },
   {
    "duration": 7,
    "start_time": "2025-03-26T23:17:49.048Z"
   },
   {
    "duration": 21,
    "start_time": "2025-03-26T23:17:49.056Z"
   },
   {
    "duration": 191,
    "start_time": "2025-03-26T23:17:49.078Z"
   },
   {
    "duration": 4,
    "start_time": "2025-03-26T23:17:49.270Z"
   },
   {
    "duration": 16,
    "start_time": "2025-03-26T23:17:49.276Z"
   },
   {
    "duration": 12,
    "start_time": "2025-03-26T23:17:49.293Z"
   },
   {
    "duration": 194,
    "start_time": "2025-03-26T23:17:49.329Z"
   },
   {
    "duration": 18,
    "start_time": "2025-03-26T23:17:49.525Z"
   },
   {
    "duration": 74,
    "start_time": "2025-03-26T23:17:49.544Z"
   },
   {
    "duration": 15,
    "start_time": "2025-03-26T23:17:49.619Z"
   },
   {
    "duration": 189,
    "start_time": "2025-03-26T23:17:49.635Z"
   },
   {
    "duration": 346,
    "start_time": "2025-03-26T23:17:49.829Z"
   },
   {
    "duration": 6,
    "start_time": "2025-03-26T23:17:50.177Z"
   },
   {
    "duration": 29,
    "start_time": "2025-03-26T23:17:50.185Z"
   },
   {
    "duration": 35,
    "start_time": "2025-03-26T23:17:50.215Z"
   },
   {
    "duration": 183,
    "start_time": "2025-03-26T23:17:50.251Z"
   },
   {
    "duration": 465,
    "start_time": "2025-03-26T23:17:50.436Z"
   },
   {
    "duration": 8,
    "start_time": "2025-03-26T23:17:50.902Z"
   },
   {
    "duration": 25,
    "start_time": "2025-03-26T23:17:50.911Z"
   },
   {
    "duration": 7,
    "start_time": "2025-03-26T23:17:50.938Z"
   },
   {
    "duration": 805,
    "start_time": "2025-03-26T23:17:50.946Z"
   },
   {
    "duration": 153,
    "start_time": "2025-03-26T23:17:51.753Z"
   },
   {
    "duration": 426,
    "start_time": "2025-03-27T07:48:21.708Z"
   },
   {
    "duration": 846,
    "start_time": "2025-03-27T07:48:27.761Z"
   },
   {
    "duration": 134,
    "start_time": "2025-03-27T07:48:28.609Z"
   },
   {
    "duration": 19,
    "start_time": "2025-03-27T07:48:28.744Z"
   },
   {
    "duration": 10,
    "start_time": "2025-03-27T07:48:28.765Z"
   },
   {
    "duration": 22,
    "start_time": "2025-03-27T07:48:28.777Z"
   },
   {
    "duration": 6,
    "start_time": "2025-03-27T07:48:28.800Z"
   },
   {
    "duration": 21,
    "start_time": "2025-03-27T07:48:28.808Z"
   },
   {
    "duration": 24,
    "start_time": "2025-03-27T07:48:28.831Z"
   },
   {
    "duration": 14,
    "start_time": "2025-03-27T07:48:28.857Z"
   },
   {
    "duration": 5,
    "start_time": "2025-03-27T07:48:28.874Z"
   },
   {
    "duration": 13,
    "start_time": "2025-03-27T07:48:28.881Z"
   },
   {
    "duration": 20,
    "start_time": "2025-03-27T07:48:28.895Z"
   },
   {
    "duration": 25,
    "start_time": "2025-03-27T07:48:28.916Z"
   },
   {
    "duration": 14,
    "start_time": "2025-03-27T07:48:28.943Z"
   },
   {
    "duration": 17,
    "start_time": "2025-03-27T07:48:28.958Z"
   },
   {
    "duration": 4,
    "start_time": "2025-03-27T07:48:28.977Z"
   },
   {
    "duration": 28,
    "start_time": "2025-03-27T07:48:28.983Z"
   },
   {
    "duration": 2,
    "start_time": "2025-03-27T07:48:29.013Z"
   },
   {
    "duration": 38,
    "start_time": "2025-03-27T07:48:29.017Z"
   },
   {
    "duration": 6,
    "start_time": "2025-03-27T07:48:29.057Z"
   },
   {
    "duration": 4,
    "start_time": "2025-03-27T07:48:29.065Z"
   },
   {
    "duration": 11,
    "start_time": "2025-03-27T07:48:29.071Z"
   },
   {
    "duration": 87,
    "start_time": "2025-03-27T07:48:29.083Z"
   },
   {
    "duration": 21,
    "start_time": "2025-03-27T07:48:29.172Z"
   },
   {
    "duration": 25,
    "start_time": "2025-03-27T07:48:29.195Z"
   },
   {
    "duration": 20,
    "start_time": "2025-03-27T07:48:29.222Z"
   },
   {
    "duration": 5,
    "start_time": "2025-03-27T07:48:29.255Z"
   },
   {
    "duration": 72,
    "start_time": "2025-03-27T07:48:29.264Z"
   },
   {
    "duration": 15,
    "start_time": "2025-03-27T07:48:29.338Z"
   },
   {
    "duration": 4,
    "start_time": "2025-03-27T07:48:29.354Z"
   },
   {
    "duration": 7,
    "start_time": "2025-03-27T07:48:29.359Z"
   },
   {
    "duration": 128,
    "start_time": "2025-03-27T07:48:29.368Z"
   },
   {
    "duration": 21,
    "start_time": "2025-03-27T07:48:29.498Z"
   },
   {
    "duration": 43,
    "start_time": "2025-03-27T07:48:29.521Z"
   },
   {
    "duration": 1174,
    "start_time": "2025-03-27T07:48:29.566Z"
   },
   {
    "duration": 12,
    "start_time": "2025-03-27T07:48:30.742Z"
   },
   {
    "duration": 11,
    "start_time": "2025-03-27T07:48:30.756Z"
   },
   {
    "duration": 30,
    "start_time": "2025-03-27T07:48:30.768Z"
   },
   {
    "duration": 30,
    "start_time": "2025-03-27T07:48:30.800Z"
   },
   {
    "duration": 11,
    "start_time": "2025-03-27T07:48:30.832Z"
   },
   {
    "duration": 5,
    "start_time": "2025-03-27T07:48:30.855Z"
   },
   {
    "duration": 26,
    "start_time": "2025-03-27T07:48:30.861Z"
   },
   {
    "duration": 9,
    "start_time": "2025-03-27T07:48:30.888Z"
   },
   {
    "duration": 25,
    "start_time": "2025-03-27T07:48:30.899Z"
   },
   {
    "duration": 8,
    "start_time": "2025-03-27T07:48:30.925Z"
   },
   {
    "duration": 24,
    "start_time": "2025-03-27T07:48:30.934Z"
   },
   {
    "duration": 28,
    "start_time": "2025-03-27T07:48:30.959Z"
   },
   {
    "duration": 5,
    "start_time": "2025-03-27T07:48:30.989Z"
   },
   {
    "duration": 17,
    "start_time": "2025-03-27T07:48:30.996Z"
   },
   {
    "duration": 39,
    "start_time": "2025-03-27T07:48:31.015Z"
   },
   {
    "duration": 10,
    "start_time": "2025-03-27T07:48:31.056Z"
   },
   {
    "duration": 6,
    "start_time": "2025-03-27T07:48:31.068Z"
   },
   {
    "duration": 23,
    "start_time": "2025-03-27T07:48:31.076Z"
   },
   {
    "duration": 6,
    "start_time": "2025-03-27T07:48:31.101Z"
   },
   {
    "duration": 24,
    "start_time": "2025-03-27T07:48:31.108Z"
   },
   {
    "duration": 32,
    "start_time": "2025-03-27T07:48:31.134Z"
   },
   {
    "duration": 47,
    "start_time": "2025-03-27T07:48:31.168Z"
   },
   {
    "duration": 5,
    "start_time": "2025-03-27T07:48:31.216Z"
   },
   {
    "duration": 79,
    "start_time": "2025-03-27T07:48:31.223Z"
   },
   {
    "duration": 17,
    "start_time": "2025-03-27T07:48:31.304Z"
   },
   {
    "duration": 31,
    "start_time": "2025-03-27T07:48:31.322Z"
   },
   {
    "duration": 8,
    "start_time": "2025-03-27T07:48:31.355Z"
   },
   {
    "duration": 15,
    "start_time": "2025-03-27T07:48:31.364Z"
   },
   {
    "duration": 23,
    "start_time": "2025-03-27T07:48:31.380Z"
   },
   {
    "duration": 180,
    "start_time": "2025-03-27T07:48:31.405Z"
   },
   {
    "duration": 5,
    "start_time": "2025-03-27T07:48:31.587Z"
   },
   {
    "duration": 31,
    "start_time": "2025-03-27T07:48:31.593Z"
   },
   {
    "duration": 20,
    "start_time": "2025-03-27T07:48:31.627Z"
   },
   {
    "duration": 218,
    "start_time": "2025-03-27T07:48:31.648Z"
   },
   {
    "duration": 16,
    "start_time": "2025-03-27T07:48:31.868Z"
   },
   {
    "duration": 79,
    "start_time": "2025-03-27T07:48:31.886Z"
   },
   {
    "duration": 24,
    "start_time": "2025-03-27T07:48:31.967Z"
   },
   {
    "duration": 375,
    "start_time": "2025-03-27T07:48:31.992Z"
   },
   {
    "duration": 725,
    "start_time": "2025-03-27T07:48:32.369Z"
   },
   {
    "duration": 63,
    "start_time": "2025-03-27T07:48:33.096Z"
   },
   {
    "duration": 45,
    "start_time": "2025-03-27T07:48:33.161Z"
   },
   {
    "duration": 27,
    "start_time": "2025-03-27T07:48:33.255Z"
   },
   {
    "duration": 272,
    "start_time": "2025-03-27T07:48:33.283Z"
   },
   {
    "duration": 484,
    "start_time": "2025-03-27T07:48:33.557Z"
   },
   {
    "duration": 15,
    "start_time": "2025-03-27T07:48:34.043Z"
   },
   {
    "duration": 135,
    "start_time": "2025-03-27T07:48:34.060Z"
   },
   {
    "duration": 267,
    "start_time": "2025-03-27T07:48:34.200Z"
   },
   {
    "duration": 841,
    "start_time": "2025-03-27T07:48:34.469Z"
   },
   {
    "duration": 151,
    "start_time": "2025-03-27T07:48:35.312Z"
   },
   {
    "duration": 123,
    "start_time": "2025-03-27T08:38:15.134Z"
   },
   {
    "duration": 115,
    "start_time": "2025-03-27T08:38:27.941Z"
   },
   {
    "duration": 120,
    "start_time": "2025-03-27T08:39:54.326Z"
   },
   {
    "duration": 120,
    "start_time": "2025-03-27T08:41:18.767Z"
   },
   {
    "duration": 121,
    "start_time": "2025-03-27T08:41:44.187Z"
   },
   {
    "duration": 133,
    "start_time": "2025-03-27T08:46:24.982Z"
   },
   {
    "duration": 187,
    "start_time": "2025-03-27T08:47:21.600Z"
   },
   {
    "duration": 224,
    "start_time": "2025-03-27T08:49:07.944Z"
   },
   {
    "duration": 119,
    "start_time": "2025-03-27T08:49:20.046Z"
   },
   {
    "duration": 722,
    "start_time": "2025-03-27T09:37:13.666Z"
   },
   {
    "duration": 121,
    "start_time": "2025-03-27T09:37:14.390Z"
   },
   {
    "duration": 18,
    "start_time": "2025-03-27T09:37:14.512Z"
   },
   {
    "duration": 100,
    "start_time": "2025-03-27T09:37:14.533Z"
   },
   {
    "duration": 44,
    "start_time": "2025-03-27T09:37:14.635Z"
   },
   {
    "duration": 11,
    "start_time": "2025-03-27T09:37:14.681Z"
   },
   {
    "duration": 5,
    "start_time": "2025-03-27T09:37:14.694Z"
   },
   {
    "duration": 31,
    "start_time": "2025-03-27T09:37:14.700Z"
   },
   {
    "duration": 28,
    "start_time": "2025-03-27T09:37:14.733Z"
   },
   {
    "duration": 7,
    "start_time": "2025-03-27T09:37:14.764Z"
   },
   {
    "duration": 29,
    "start_time": "2025-03-27T09:37:14.773Z"
   },
   {
    "duration": 16,
    "start_time": "2025-03-27T09:37:14.804Z"
   },
   {
    "duration": 21,
    "start_time": "2025-03-27T09:37:14.822Z"
   },
   {
    "duration": 18,
    "start_time": "2025-03-27T09:37:14.845Z"
   },
   {
    "duration": 17,
    "start_time": "2025-03-27T09:37:14.865Z"
   },
   {
    "duration": 6,
    "start_time": "2025-03-27T09:37:14.884Z"
   },
   {
    "duration": 56,
    "start_time": "2025-03-27T09:37:14.892Z"
   },
   {
    "duration": 36,
    "start_time": "2025-03-27T09:37:14.950Z"
   },
   {
    "duration": 96,
    "start_time": "2025-03-27T09:37:14.987Z"
   },
   {
    "duration": 25,
    "start_time": "2025-03-27T09:37:15.085Z"
   },
   {
    "duration": 10,
    "start_time": "2025-03-27T09:37:15.112Z"
   },
   {
    "duration": 60,
    "start_time": "2025-03-27T09:37:15.123Z"
   },
   {
    "duration": 163,
    "start_time": "2025-03-27T09:37:15.185Z"
   },
   {
    "duration": 20,
    "start_time": "2025-03-27T09:37:15.350Z"
   },
   {
    "duration": 23,
    "start_time": "2025-03-27T09:37:15.372Z"
   },
   {
    "duration": 36,
    "start_time": "2025-03-27T09:37:15.397Z"
   },
   {
    "duration": 18,
    "start_time": "2025-03-27T09:37:15.434Z"
   },
   {
    "duration": 8,
    "start_time": "2025-03-27T09:37:15.456Z"
   },
   {
    "duration": 6,
    "start_time": "2025-03-27T09:37:15.466Z"
   },
   {
    "duration": 5,
    "start_time": "2025-03-27T09:37:15.474Z"
   },
   {
    "duration": 7,
    "start_time": "2025-03-27T09:37:15.480Z"
   },
   {
    "duration": 151,
    "start_time": "2025-03-27T09:37:15.488Z"
   },
   {
    "duration": 31,
    "start_time": "2025-03-27T09:37:15.640Z"
   },
   {
    "duration": 27,
    "start_time": "2025-03-27T09:37:15.673Z"
   },
   {
    "duration": 1305,
    "start_time": "2025-03-27T09:37:15.702Z"
   },
   {
    "duration": 2,
    "start_time": "2025-03-27T09:37:17.009Z"
   },
   {
    "duration": 25,
    "start_time": "2025-03-27T09:37:17.013Z"
   },
   {
    "duration": 25,
    "start_time": "2025-03-27T09:37:17.040Z"
   },
   {
    "duration": 24,
    "start_time": "2025-03-27T09:37:17.067Z"
   },
   {
    "duration": 6,
    "start_time": "2025-03-27T09:37:17.092Z"
   },
   {
    "duration": 6,
    "start_time": "2025-03-27T09:37:17.100Z"
   },
   {
    "duration": 52,
    "start_time": "2025-03-27T09:37:17.108Z"
   },
   {
    "duration": 10,
    "start_time": "2025-03-27T09:37:17.162Z"
   },
   {
    "duration": 17,
    "start_time": "2025-03-27T09:37:17.173Z"
   },
   {
    "duration": 108,
    "start_time": "2025-03-27T09:37:17.191Z"
   },
   {
    "duration": 29,
    "start_time": "2025-03-27T09:37:17.301Z"
   },
   {
    "duration": 35,
    "start_time": "2025-03-27T09:37:17.332Z"
   },
   {
    "duration": 7,
    "start_time": "2025-03-27T09:37:17.369Z"
   },
   {
    "duration": 27,
    "start_time": "2025-03-27T09:37:17.378Z"
   },
   {
    "duration": 6,
    "start_time": "2025-03-27T09:37:17.407Z"
   },
   {
    "duration": 30,
    "start_time": "2025-03-27T09:37:17.414Z"
   },
   {
    "duration": 12,
    "start_time": "2025-03-27T09:37:17.446Z"
   },
   {
    "duration": 22,
    "start_time": "2025-03-27T09:37:17.459Z"
   },
   {
    "duration": 4,
    "start_time": "2025-03-27T09:37:17.483Z"
   },
   {
    "duration": 25,
    "start_time": "2025-03-27T09:37:17.489Z"
   },
   {
    "duration": 54,
    "start_time": "2025-03-27T09:37:17.515Z"
   },
   {
    "duration": 35,
    "start_time": "2025-03-27T09:37:17.571Z"
   },
   {
    "duration": 6,
    "start_time": "2025-03-27T09:37:17.607Z"
   },
   {
    "duration": 81,
    "start_time": "2025-03-27T09:37:17.614Z"
   },
   {
    "duration": 18,
    "start_time": "2025-03-27T09:37:17.696Z"
   },
   {
    "duration": 20,
    "start_time": "2025-03-27T09:37:17.715Z"
   },
   {
    "duration": 27,
    "start_time": "2025-03-27T09:37:17.736Z"
   },
   {
    "duration": 16,
    "start_time": "2025-03-27T09:37:17.765Z"
   },
   {
    "duration": 31,
    "start_time": "2025-03-27T09:37:17.782Z"
   },
   {
    "duration": 201,
    "start_time": "2025-03-27T09:37:17.814Z"
   },
   {
    "duration": 5,
    "start_time": "2025-03-27T09:37:18.017Z"
   },
   {
    "duration": 36,
    "start_time": "2025-03-27T09:37:18.023Z"
   },
   {
    "duration": 12,
    "start_time": "2025-03-27T09:37:18.061Z"
   },
   {
    "duration": 205,
    "start_time": "2025-03-27T09:37:18.075Z"
   },
   {
    "duration": 18,
    "start_time": "2025-03-27T09:37:18.282Z"
   },
   {
    "duration": 7,
    "start_time": "2025-03-27T09:37:18.301Z"
   },
   {
    "duration": 46,
    "start_time": "2025-03-27T09:37:18.310Z"
   },
   {
    "duration": 216,
    "start_time": "2025-03-27T09:37:18.359Z"
   },
   {
    "duration": 377,
    "start_time": "2025-03-27T09:37:18.577Z"
   },
   {
    "duration": 7,
    "start_time": "2025-03-27T09:37:18.956Z"
   },
   {
    "duration": 91,
    "start_time": "2025-03-27T09:37:18.964Z"
   },
   {
    "duration": 26,
    "start_time": "2025-03-27T09:37:19.056Z"
   },
   {
    "duration": 199,
    "start_time": "2025-03-27T09:37:19.084Z"
   },
   {
    "duration": 505,
    "start_time": "2025-03-27T09:37:19.285Z"
   },
   {
    "duration": 8,
    "start_time": "2025-03-27T09:37:19.791Z"
   },
   {
    "duration": 6,
    "start_time": "2025-03-27T09:37:19.801Z"
   },
   {
    "duration": 5,
    "start_time": "2025-03-27T09:37:19.814Z"
   },
   {
    "duration": 1669,
    "start_time": "2025-03-27T09:37:19.821Z"
   },
   {
    "duration": 250,
    "start_time": "2025-03-27T09:37:21.491Z"
   },
   {
    "duration": 133,
    "start_time": "2025-03-27T09:37:49.389Z"
   },
   {
    "duration": 137,
    "start_time": "2025-03-27T09:38:24.864Z"
   },
   {
    "duration": 784,
    "start_time": "2025-03-27T10:05:18.821Z"
   },
   {
    "duration": 729,
    "start_time": "2025-03-27T10:05:44.844Z"
   },
   {
    "duration": 120,
    "start_time": "2025-03-27T10:05:45.575Z"
   },
   {
    "duration": 16,
    "start_time": "2025-03-27T10:05:45.697Z"
   },
   {
    "duration": 28,
    "start_time": "2025-03-27T10:05:45.715Z"
   },
   {
    "duration": 50,
    "start_time": "2025-03-27T10:05:45.745Z"
   },
   {
    "duration": 7,
    "start_time": "2025-03-27T10:05:45.796Z"
   },
   {
    "duration": 36,
    "start_time": "2025-03-27T10:05:45.804Z"
   },
   {
    "duration": 17,
    "start_time": "2025-03-27T10:05:45.841Z"
   },
   {
    "duration": 19,
    "start_time": "2025-03-27T10:05:45.860Z"
   },
   {
    "duration": 11,
    "start_time": "2025-03-27T10:05:45.882Z"
   },
   {
    "duration": 12,
    "start_time": "2025-03-27T10:05:45.895Z"
   },
   {
    "duration": 17,
    "start_time": "2025-03-27T10:05:45.908Z"
   },
   {
    "duration": 28,
    "start_time": "2025-03-27T10:05:45.926Z"
   },
   {
    "duration": 4,
    "start_time": "2025-03-27T10:05:45.956Z"
   },
   {
    "duration": 18,
    "start_time": "2025-03-27T10:05:45.962Z"
   },
   {
    "duration": 4,
    "start_time": "2025-03-27T10:05:45.982Z"
   },
   {
    "duration": 31,
    "start_time": "2025-03-27T10:05:45.988Z"
   },
   {
    "duration": 3,
    "start_time": "2025-03-27T10:05:46.020Z"
   },
   {
    "duration": 43,
    "start_time": "2025-03-27T10:05:46.024Z"
   },
   {
    "duration": 6,
    "start_time": "2025-03-27T10:05:46.069Z"
   },
   {
    "duration": 5,
    "start_time": "2025-03-27T10:05:46.076Z"
   },
   {
    "duration": 17,
    "start_time": "2025-03-27T10:05:46.082Z"
   },
   {
    "duration": 80,
    "start_time": "2025-03-27T10:05:46.101Z"
   },
   {
    "duration": 21,
    "start_time": "2025-03-27T10:05:46.182Z"
   },
   {
    "duration": 21,
    "start_time": "2025-03-27T10:05:46.205Z"
   },
   {
    "duration": 35,
    "start_time": "2025-03-27T10:05:46.228Z"
   },
   {
    "duration": 5,
    "start_time": "2025-03-27T10:05:46.264Z"
   },
   {
    "duration": 8,
    "start_time": "2025-03-27T10:05:46.273Z"
   },
   {
    "duration": 6,
    "start_time": "2025-03-27T10:05:46.282Z"
   },
   {
    "duration": 6,
    "start_time": "2025-03-27T10:05:46.289Z"
   },
   {
    "duration": 5,
    "start_time": "2025-03-27T10:05:46.296Z"
   },
   {
    "duration": 191,
    "start_time": "2025-03-27T10:05:46.303Z"
   },
   {
    "duration": 22,
    "start_time": "2025-03-27T10:05:46.496Z"
   },
   {
    "duration": 43,
    "start_time": "2025-03-27T10:05:46.520Z"
   },
   {
    "duration": 1187,
    "start_time": "2025-03-27T10:05:46.565Z"
   },
   {
    "duration": 3,
    "start_time": "2025-03-27T10:05:47.754Z"
   },
   {
    "duration": 8,
    "start_time": "2025-03-27T10:05:47.758Z"
   },
   {
    "duration": 17,
    "start_time": "2025-03-27T10:05:47.768Z"
   },
   {
    "duration": 23,
    "start_time": "2025-03-27T10:05:47.787Z"
   },
   {
    "duration": 6,
    "start_time": "2025-03-27T10:05:47.811Z"
   },
   {
    "duration": 38,
    "start_time": "2025-03-27T10:05:47.818Z"
   },
   {
    "duration": 29,
    "start_time": "2025-03-27T10:05:47.858Z"
   },
   {
    "duration": 31,
    "start_time": "2025-03-27T10:05:47.888Z"
   },
   {
    "duration": 39,
    "start_time": "2025-03-27T10:05:47.920Z"
   },
   {
    "duration": 9,
    "start_time": "2025-03-27T10:05:47.961Z"
   },
   {
    "duration": 35,
    "start_time": "2025-03-27T10:05:47.972Z"
   },
   {
    "duration": 29,
    "start_time": "2025-03-27T10:05:48.010Z"
   },
   {
    "duration": 6,
    "start_time": "2025-03-27T10:05:48.041Z"
   },
   {
    "duration": 27,
    "start_time": "2025-03-27T10:05:48.048Z"
   },
   {
    "duration": 7,
    "start_time": "2025-03-27T10:05:48.077Z"
   },
   {
    "duration": 30,
    "start_time": "2025-03-27T10:05:48.085Z"
   },
   {
    "duration": 24,
    "start_time": "2025-03-27T10:05:48.117Z"
   },
   {
    "duration": 31,
    "start_time": "2025-03-27T10:05:48.143Z"
   },
   {
    "duration": 5,
    "start_time": "2025-03-27T10:05:48.176Z"
   },
   {
    "duration": 9,
    "start_time": "2025-03-27T10:05:48.182Z"
   },
   {
    "duration": 31,
    "start_time": "2025-03-27T10:05:48.192Z"
   },
   {
    "duration": 52,
    "start_time": "2025-03-27T10:05:48.224Z"
   },
   {
    "duration": 18,
    "start_time": "2025-03-27T10:05:48.278Z"
   },
   {
    "duration": 10,
    "start_time": "2025-03-27T10:05:48.297Z"
   },
   {
    "duration": 10,
    "start_time": "2025-03-27T10:05:48.309Z"
   },
   {
    "duration": 25,
    "start_time": "2025-03-27T10:05:48.320Z"
   },
   {
    "duration": 17,
    "start_time": "2025-03-27T10:05:48.346Z"
   },
   {
    "duration": 18,
    "start_time": "2025-03-27T10:05:48.365Z"
   },
   {
    "duration": 39,
    "start_time": "2025-03-27T10:05:48.385Z"
   },
   {
    "duration": 251,
    "start_time": "2025-03-27T10:05:48.425Z"
   },
   {
    "duration": 4,
    "start_time": "2025-03-27T10:05:48.678Z"
   },
   {
    "duration": 58,
    "start_time": "2025-03-27T10:05:48.684Z"
   },
   {
    "duration": 37,
    "start_time": "2025-03-27T10:05:48.744Z"
   },
   {
    "duration": 188,
    "start_time": "2025-03-27T10:05:48.783Z"
   },
   {
    "duration": 16,
    "start_time": "2025-03-27T10:05:48.973Z"
   },
   {
    "duration": 8,
    "start_time": "2025-03-27T10:05:48.991Z"
   },
   {
    "duration": 12,
    "start_time": "2025-03-27T10:05:49.001Z"
   },
   {
    "duration": 204,
    "start_time": "2025-03-27T10:05:49.015Z"
   },
   {
    "duration": 358,
    "start_time": "2025-03-27T10:05:49.221Z"
   },
   {
    "duration": 7,
    "start_time": "2025-03-27T10:05:49.580Z"
   },
   {
    "duration": 32,
    "start_time": "2025-03-27T10:05:49.588Z"
   },
   {
    "duration": 36,
    "start_time": "2025-03-27T10:05:49.621Z"
   },
   {
    "duration": 188,
    "start_time": "2025-03-27T10:05:49.659Z"
   },
   {
    "duration": 430,
    "start_time": "2025-03-27T10:05:49.854Z"
   },
   {
    "duration": 8,
    "start_time": "2025-03-27T10:05:50.286Z"
   },
   {
    "duration": 6,
    "start_time": "2025-03-27T10:05:50.296Z"
   },
   {
    "duration": 6,
    "start_time": "2025-03-27T10:05:50.308Z"
   },
   {
    "duration": 895,
    "start_time": "2025-03-27T10:05:50.315Z"
   },
   {
    "duration": 180,
    "start_time": "2025-03-27T10:05:51.212Z"
   },
   {
    "duration": 924,
    "start_time": "2025-03-27T10:06:27.174Z"
   },
   {
    "duration": 5,
    "start_time": "2025-03-27T10:07:21.350Z"
   },
   {
    "duration": 8,
    "start_time": "2025-03-27T10:07:50.543Z"
   },
   {
    "duration": 4,
    "start_time": "2025-03-27T10:08:34.485Z"
   },
   {
    "duration": 4,
    "start_time": "2025-03-27T10:11:07.355Z"
   },
   {
    "duration": 12,
    "start_time": "2025-03-27T10:11:16.738Z"
   },
   {
    "duration": 732,
    "start_time": "2025-03-27T10:13:13.226Z"
   },
   {
    "duration": 127,
    "start_time": "2025-03-27T10:13:13.959Z"
   },
   {
    "duration": 17,
    "start_time": "2025-03-27T10:13:14.088Z"
   },
   {
    "duration": 10,
    "start_time": "2025-03-27T10:13:14.107Z"
   },
   {
    "duration": 18,
    "start_time": "2025-03-27T10:13:14.118Z"
   },
   {
    "duration": 6,
    "start_time": "2025-03-27T10:13:14.138Z"
   },
   {
    "duration": 3,
    "start_time": "2025-03-27T10:13:14.146Z"
   },
   {
    "duration": 27,
    "start_time": "2025-03-27T10:13:14.151Z"
   },
   {
    "duration": 26,
    "start_time": "2025-03-27T10:13:14.181Z"
   },
   {
    "duration": 17,
    "start_time": "2025-03-27T10:13:14.211Z"
   },
   {
    "duration": 19,
    "start_time": "2025-03-27T10:13:14.230Z"
   },
   {
    "duration": 17,
    "start_time": "2025-03-27T10:13:14.250Z"
   },
   {
    "duration": 14,
    "start_time": "2025-03-27T10:13:14.269Z"
   },
   {
    "duration": 5,
    "start_time": "2025-03-27T10:13:14.285Z"
   },
   {
    "duration": 17,
    "start_time": "2025-03-27T10:13:14.292Z"
   },
   {
    "duration": 5,
    "start_time": "2025-03-27T10:13:14.311Z"
   },
   {
    "duration": 58,
    "start_time": "2025-03-27T10:13:14.318Z"
   },
   {
    "duration": 3,
    "start_time": "2025-03-27T10:13:14.378Z"
   },
   {
    "duration": 23,
    "start_time": "2025-03-27T10:13:14.383Z"
   },
   {
    "duration": 10,
    "start_time": "2025-03-27T10:13:14.408Z"
   },
   {
    "duration": 5,
    "start_time": "2025-03-27T10:13:14.420Z"
   },
   {
    "duration": 32,
    "start_time": "2025-03-27T10:13:14.427Z"
   },
   {
    "duration": 61,
    "start_time": "2025-03-27T10:13:14.461Z"
   },
   {
    "duration": 43,
    "start_time": "2025-03-27T10:13:14.524Z"
   },
   {
    "duration": 17,
    "start_time": "2025-03-27T10:13:14.569Z"
   },
   {
    "duration": 23,
    "start_time": "2025-03-27T10:13:14.588Z"
   },
   {
    "duration": 8,
    "start_time": "2025-03-27T10:13:14.613Z"
   },
   {
    "duration": 29,
    "start_time": "2025-03-27T10:13:14.626Z"
   },
   {
    "duration": 37,
    "start_time": "2025-03-27T10:13:14.657Z"
   },
   {
    "duration": 33,
    "start_time": "2025-03-27T10:13:14.696Z"
   },
   {
    "duration": 10,
    "start_time": "2025-03-27T10:13:14.730Z"
   },
   {
    "duration": 139,
    "start_time": "2025-03-27T10:13:14.741Z"
   },
   {
    "duration": 23,
    "start_time": "2025-03-27T10:13:14.883Z"
   },
   {
    "duration": 47,
    "start_time": "2025-03-27T10:13:14.908Z"
   },
   {
    "duration": 1163,
    "start_time": "2025-03-27T10:13:14.957Z"
   },
   {
    "duration": 3,
    "start_time": "2025-03-27T10:13:16.122Z"
   },
   {
    "duration": 7,
    "start_time": "2025-03-27T10:13:16.126Z"
   },
   {
    "duration": 36,
    "start_time": "2025-03-27T10:13:16.134Z"
   },
   {
    "duration": 23,
    "start_time": "2025-03-27T10:13:16.172Z"
   },
   {
    "duration": 6,
    "start_time": "2025-03-27T10:13:16.196Z"
   },
   {
    "duration": 24,
    "start_time": "2025-03-27T10:13:16.203Z"
   },
   {
    "duration": 26,
    "start_time": "2025-03-27T10:13:16.229Z"
   },
   {
    "duration": 8,
    "start_time": "2025-03-27T10:13:16.257Z"
   },
   {
    "duration": 12,
    "start_time": "2025-03-27T10:13:16.267Z"
   },
   {
    "duration": 3,
    "start_time": "2025-03-27T10:13:16.281Z"
   },
   {
    "duration": 14,
    "start_time": "2025-03-27T10:13:16.285Z"
   },
   {
    "duration": 57,
    "start_time": "2025-03-27T10:13:16.300Z"
   },
   {
    "duration": 8,
    "start_time": "2025-03-27T10:13:16.360Z"
   },
   {
    "duration": 30,
    "start_time": "2025-03-27T10:13:16.369Z"
   },
   {
    "duration": 9,
    "start_time": "2025-03-27T10:13:16.402Z"
   },
   {
    "duration": 11,
    "start_time": "2025-03-27T10:13:16.413Z"
   },
   {
    "duration": 7,
    "start_time": "2025-03-27T10:13:16.454Z"
   },
   {
    "duration": 21,
    "start_time": "2025-03-27T10:13:16.463Z"
   },
   {
    "duration": 6,
    "start_time": "2025-03-27T10:13:16.485Z"
   },
   {
    "duration": 4,
    "start_time": "2025-03-27T10:13:16.492Z"
   },
   {
    "duration": 10,
    "start_time": "2025-03-27T10:13:16.497Z"
   },
   {
    "duration": 47,
    "start_time": "2025-03-27T10:13:16.508Z"
   },
   {
    "duration": 21,
    "start_time": "2025-03-27T10:13:16.557Z"
   },
   {
    "duration": 6,
    "start_time": "2025-03-27T10:13:16.579Z"
   },
   {
    "duration": 6,
    "start_time": "2025-03-27T10:13:16.586Z"
   },
   {
    "duration": 11,
    "start_time": "2025-03-27T10:13:16.593Z"
   },
   {
    "duration": 21,
    "start_time": "2025-03-27T10:13:16.605Z"
   },
   {
    "duration": 31,
    "start_time": "2025-03-27T10:13:16.627Z"
   },
   {
    "duration": 6,
    "start_time": "2025-03-27T10:13:16.659Z"
   },
   {
    "duration": 21,
    "start_time": "2025-03-27T10:13:16.666Z"
   },
   {
    "duration": 237,
    "start_time": "2025-03-27T10:13:16.689Z"
   },
   {
    "duration": 4,
    "start_time": "2025-03-27T10:13:16.928Z"
   },
   {
    "duration": 31,
    "start_time": "2025-03-27T10:13:16.934Z"
   },
   {
    "duration": 12,
    "start_time": "2025-03-27T10:13:16.967Z"
   },
   {
    "duration": 187,
    "start_time": "2025-03-27T10:13:16.980Z"
   },
   {
    "duration": 16,
    "start_time": "2025-03-27T10:13:17.169Z"
   },
   {
    "duration": 4,
    "start_time": "2025-03-27T10:13:17.187Z"
   },
   {
    "duration": 5,
    "start_time": "2025-03-27T10:13:17.192Z"
   },
   {
    "duration": 201,
    "start_time": "2025-03-27T10:13:17.199Z"
   },
   {
    "duration": 346,
    "start_time": "2025-03-27T10:13:17.402Z"
   },
   {
    "duration": 6,
    "start_time": "2025-03-27T10:13:17.753Z"
   },
   {
    "duration": 42,
    "start_time": "2025-03-27T10:13:17.760Z"
   },
   {
    "duration": 23,
    "start_time": "2025-03-27T10:13:17.804Z"
   },
   {
    "duration": 180,
    "start_time": "2025-03-27T10:13:17.829Z"
   },
   {
    "duration": 416,
    "start_time": "2025-03-27T10:13:18.011Z"
   },
   {
    "duration": 9,
    "start_time": "2025-03-27T10:13:18.429Z"
   },
   {
    "duration": 9,
    "start_time": "2025-03-27T10:13:18.457Z"
   },
   {
    "duration": 13,
    "start_time": "2025-03-27T10:13:18.468Z"
   },
   {
    "duration": 810,
    "start_time": "2025-03-27T10:13:18.483Z"
   },
   {
    "duration": 169,
    "start_time": "2025-03-27T10:13:19.295Z"
   },
   {
    "duration": 765,
    "start_time": "2025-03-27T10:22:31.009Z"
   },
   {
    "duration": 116,
    "start_time": "2025-03-27T10:22:31.776Z"
   },
   {
    "duration": 15,
    "start_time": "2025-03-27T10:22:31.894Z"
   },
   {
    "duration": 26,
    "start_time": "2025-03-27T10:22:31.911Z"
   },
   {
    "duration": 17,
    "start_time": "2025-03-27T10:22:31.938Z"
   },
   {
    "duration": 15,
    "start_time": "2025-03-27T10:22:31.957Z"
   },
   {
    "duration": 10,
    "start_time": "2025-03-27T10:22:31.974Z"
   },
   {
    "duration": 30,
    "start_time": "2025-03-27T10:22:31.986Z"
   },
   {
    "duration": 15,
    "start_time": "2025-03-27T10:22:32.018Z"
   },
   {
    "duration": 5,
    "start_time": "2025-03-27T10:22:32.036Z"
   },
   {
    "duration": 18,
    "start_time": "2025-03-27T10:22:32.043Z"
   },
   {
    "duration": 24,
    "start_time": "2025-03-27T10:22:32.063Z"
   },
   {
    "duration": 14,
    "start_time": "2025-03-27T10:22:32.089Z"
   },
   {
    "duration": 17,
    "start_time": "2025-03-27T10:22:32.104Z"
   },
   {
    "duration": 37,
    "start_time": "2025-03-27T10:22:32.123Z"
   },
   {
    "duration": 21,
    "start_time": "2025-03-27T10:22:32.162Z"
   },
   {
    "duration": 29,
    "start_time": "2025-03-27T10:22:32.184Z"
   },
   {
    "duration": 2,
    "start_time": "2025-03-27T10:22:32.215Z"
   },
   {
    "duration": 18,
    "start_time": "2025-03-27T10:22:32.218Z"
   },
   {
    "duration": 6,
    "start_time": "2025-03-27T10:22:32.237Z"
   },
   {
    "duration": 11,
    "start_time": "2025-03-27T10:22:32.244Z"
   },
   {
    "duration": 20,
    "start_time": "2025-03-27T10:22:32.257Z"
   },
   {
    "duration": 58,
    "start_time": "2025-03-27T10:22:32.279Z"
   },
   {
    "duration": 31,
    "start_time": "2025-03-27T10:22:32.339Z"
   },
   {
    "duration": 18,
    "start_time": "2025-03-27T10:22:32.372Z"
   },
   {
    "duration": 29,
    "start_time": "2025-03-27T10:22:32.391Z"
   },
   {
    "duration": 18,
    "start_time": "2025-03-27T10:22:32.421Z"
   },
   {
    "duration": 20,
    "start_time": "2025-03-27T10:22:32.443Z"
   },
   {
    "duration": 20,
    "start_time": "2025-03-27T10:22:32.465Z"
   },
   {
    "duration": 4,
    "start_time": "2025-03-27T10:22:32.487Z"
   },
   {
    "duration": 42,
    "start_time": "2025-03-27T10:22:32.492Z"
   },
   {
    "duration": 146,
    "start_time": "2025-03-27T10:22:32.535Z"
   },
   {
    "duration": 22,
    "start_time": "2025-03-27T10:22:32.682Z"
   },
   {
    "duration": 26,
    "start_time": "2025-03-27T10:22:32.706Z"
   },
   {
    "duration": 1160,
    "start_time": "2025-03-27T10:22:32.733Z"
   },
   {
    "duration": 2,
    "start_time": "2025-03-27T10:22:33.895Z"
   },
   {
    "duration": 36,
    "start_time": "2025-03-27T10:22:33.898Z"
   },
   {
    "duration": 19,
    "start_time": "2025-03-27T10:22:33.936Z"
   },
   {
    "duration": 24,
    "start_time": "2025-03-27T10:22:33.957Z"
   },
   {
    "duration": 5,
    "start_time": "2025-03-27T10:22:33.982Z"
   },
   {
    "duration": 5,
    "start_time": "2025-03-27T10:22:33.989Z"
   },
   {
    "duration": 23,
    "start_time": "2025-03-27T10:22:33.995Z"
   },
   {
    "duration": 9,
    "start_time": "2025-03-27T10:22:34.019Z"
   },
   {
    "duration": 12,
    "start_time": "2025-03-27T10:22:34.054Z"
   },
   {
    "duration": 7,
    "start_time": "2025-03-27T10:22:34.068Z"
   },
   {
    "duration": 12,
    "start_time": "2025-03-27T10:22:34.077Z"
   },
   {
    "duration": 60,
    "start_time": "2025-03-27T10:22:34.090Z"
   },
   {
    "duration": 4,
    "start_time": "2025-03-27T10:22:34.152Z"
   },
   {
    "duration": 29,
    "start_time": "2025-03-27T10:22:34.158Z"
   },
   {
    "duration": 6,
    "start_time": "2025-03-27T10:22:34.189Z"
   },
   {
    "duration": 45,
    "start_time": "2025-03-27T10:22:34.196Z"
   },
   {
    "duration": 8,
    "start_time": "2025-03-27T10:22:34.242Z"
   },
   {
    "duration": 35,
    "start_time": "2025-03-27T10:22:34.252Z"
   },
   {
    "duration": 10,
    "start_time": "2025-03-27T10:22:34.288Z"
   },
   {
    "duration": 0,
    "start_time": "2025-03-27T10:22:34.299Z"
   },
   {
    "duration": 0,
    "start_time": "2025-03-27T10:22:34.301Z"
   },
   {
    "duration": 0,
    "start_time": "2025-03-27T10:22:34.302Z"
   },
   {
    "duration": 0,
    "start_time": "2025-03-27T10:22:34.303Z"
   },
   {
    "duration": 0,
    "start_time": "2025-03-27T10:22:34.304Z"
   },
   {
    "duration": 0,
    "start_time": "2025-03-27T10:22:34.305Z"
   },
   {
    "duration": 0,
    "start_time": "2025-03-27T10:22:34.307Z"
   },
   {
    "duration": 0,
    "start_time": "2025-03-27T10:22:34.309Z"
   },
   {
    "duration": 0,
    "start_time": "2025-03-27T10:22:34.310Z"
   },
   {
    "duration": 0,
    "start_time": "2025-03-27T10:22:34.311Z"
   },
   {
    "duration": 0,
    "start_time": "2025-03-27T10:22:34.313Z"
   },
   {
    "duration": 0,
    "start_time": "2025-03-27T10:22:34.314Z"
   },
   {
    "duration": 0,
    "start_time": "2025-03-27T10:22:34.316Z"
   },
   {
    "duration": 0,
    "start_time": "2025-03-27T10:22:34.317Z"
   },
   {
    "duration": 1,
    "start_time": "2025-03-27T10:22:34.318Z"
   },
   {
    "duration": 0,
    "start_time": "2025-03-27T10:22:34.320Z"
   },
   {
    "duration": 0,
    "start_time": "2025-03-27T10:22:34.321Z"
   },
   {
    "duration": 0,
    "start_time": "2025-03-27T10:22:34.322Z"
   },
   {
    "duration": 0,
    "start_time": "2025-03-27T10:22:34.324Z"
   },
   {
    "duration": 0,
    "start_time": "2025-03-27T10:22:34.325Z"
   },
   {
    "duration": 0,
    "start_time": "2025-03-27T10:22:34.356Z"
   },
   {
    "duration": 0,
    "start_time": "2025-03-27T10:22:34.357Z"
   },
   {
    "duration": 0,
    "start_time": "2025-03-27T10:22:34.359Z"
   },
   {
    "duration": 0,
    "start_time": "2025-03-27T10:22:34.360Z"
   },
   {
    "duration": 1,
    "start_time": "2025-03-27T10:22:34.361Z"
   },
   {
    "duration": 0,
    "start_time": "2025-03-27T10:22:34.363Z"
   },
   {
    "duration": 0,
    "start_time": "2025-03-27T10:22:34.364Z"
   },
   {
    "duration": 0,
    "start_time": "2025-03-27T10:22:34.366Z"
   },
   {
    "duration": 0,
    "start_time": "2025-03-27T10:22:34.367Z"
   },
   {
    "duration": 0,
    "start_time": "2025-03-27T10:22:34.369Z"
   },
   {
    "duration": 0,
    "start_time": "2025-03-27T10:22:34.370Z"
   },
   {
    "duration": 7,
    "start_time": "2025-03-27T10:24:12.864Z"
   },
   {
    "duration": 4,
    "start_time": "2025-03-27T10:24:15.026Z"
   },
   {
    "duration": 11,
    "start_time": "2025-03-27T10:24:23.568Z"
   },
   {
    "duration": 6,
    "start_time": "2025-03-27T10:24:27.008Z"
   },
   {
    "duration": 8,
    "start_time": "2025-03-27T10:24:29.221Z"
   },
   {
    "duration": 665,
    "start_time": "2025-03-27T10:24:40.987Z"
   },
   {
    "duration": 126,
    "start_time": "2025-03-27T10:24:41.654Z"
   },
   {
    "duration": 17,
    "start_time": "2025-03-27T10:24:41.782Z"
   },
   {
    "duration": 10,
    "start_time": "2025-03-27T10:24:41.800Z"
   },
   {
    "duration": 27,
    "start_time": "2025-03-27T10:24:41.812Z"
   },
   {
    "duration": 6,
    "start_time": "2025-03-27T10:24:41.841Z"
   },
   {
    "duration": 3,
    "start_time": "2025-03-27T10:24:41.848Z"
   },
   {
    "duration": 16,
    "start_time": "2025-03-27T10:24:41.852Z"
   },
   {
    "duration": 7,
    "start_time": "2025-03-27T10:24:41.870Z"
   },
   {
    "duration": 6,
    "start_time": "2025-03-27T10:24:41.879Z"
   },
   {
    "duration": 14,
    "start_time": "2025-03-27T10:24:41.886Z"
   },
   {
    "duration": 15,
    "start_time": "2025-03-27T10:24:41.901Z"
   },
   {
    "duration": 14,
    "start_time": "2025-03-27T10:24:41.918Z"
   },
   {
    "duration": 5,
    "start_time": "2025-03-27T10:24:41.954Z"
   },
   {
    "duration": 29,
    "start_time": "2025-03-27T10:24:41.960Z"
   },
   {
    "duration": 4,
    "start_time": "2025-03-27T10:24:41.991Z"
   },
   {
    "duration": 28,
    "start_time": "2025-03-27T10:24:41.997Z"
   },
   {
    "duration": 2,
    "start_time": "2025-03-27T10:24:42.027Z"
   },
   {
    "duration": 32,
    "start_time": "2025-03-27T10:24:42.031Z"
   },
   {
    "duration": 5,
    "start_time": "2025-03-27T10:24:42.065Z"
   },
   {
    "duration": 5,
    "start_time": "2025-03-27T10:24:42.072Z"
   },
   {
    "duration": 11,
    "start_time": "2025-03-27T10:24:42.078Z"
   },
   {
    "duration": 82,
    "start_time": "2025-03-27T10:24:42.091Z"
   },
   {
    "duration": 21,
    "start_time": "2025-03-27T10:24:42.174Z"
   },
   {
    "duration": 20,
    "start_time": "2025-03-27T10:24:42.196Z"
   },
   {
    "duration": 37,
    "start_time": "2025-03-27T10:24:42.218Z"
   },
   {
    "duration": 8,
    "start_time": "2025-03-27T10:24:42.257Z"
   },
   {
    "duration": 8,
    "start_time": "2025-03-27T10:24:42.269Z"
   },
   {
    "duration": 10,
    "start_time": "2025-03-27T10:24:42.279Z"
   },
   {
    "duration": 6,
    "start_time": "2025-03-27T10:24:42.290Z"
   },
   {
    "duration": 8,
    "start_time": "2025-03-27T10:24:42.297Z"
   },
   {
    "duration": 151,
    "start_time": "2025-03-27T10:24:42.306Z"
   },
   {
    "duration": 23,
    "start_time": "2025-03-27T10:24:42.459Z"
   },
   {
    "duration": 27,
    "start_time": "2025-03-27T10:24:42.483Z"
   },
   {
    "duration": 1163,
    "start_time": "2025-03-27T10:24:42.512Z"
   },
   {
    "duration": 2,
    "start_time": "2025-03-27T10:24:43.677Z"
   },
   {
    "duration": 7,
    "start_time": "2025-03-27T10:24:43.681Z"
   },
   {
    "duration": 19,
    "start_time": "2025-03-27T10:24:43.689Z"
   },
   {
    "duration": 49,
    "start_time": "2025-03-27T10:24:43.710Z"
   },
   {
    "duration": 6,
    "start_time": "2025-03-27T10:24:43.761Z"
   },
   {
    "duration": 5,
    "start_time": "2025-03-27T10:24:43.768Z"
   },
   {
    "duration": 24,
    "start_time": "2025-03-27T10:24:43.775Z"
   },
   {
    "duration": 9,
    "start_time": "2025-03-27T10:24:43.801Z"
   },
   {
    "duration": 47,
    "start_time": "2025-03-27T10:24:43.812Z"
   },
   {
    "duration": 4,
    "start_time": "2025-03-27T10:24:43.860Z"
   },
   {
    "duration": 10,
    "start_time": "2025-03-27T10:24:43.865Z"
   },
   {
    "duration": 28,
    "start_time": "2025-03-27T10:24:43.876Z"
   },
   {
    "duration": 6,
    "start_time": "2025-03-27T10:24:43.906Z"
   },
   {
    "duration": 52,
    "start_time": "2025-03-27T10:24:43.914Z"
   },
   {
    "duration": 8,
    "start_time": "2025-03-27T10:24:43.968Z"
   },
   {
    "duration": 13,
    "start_time": "2025-03-27T10:24:43.977Z"
   },
   {
    "duration": 6,
    "start_time": "2025-03-27T10:24:43.992Z"
   },
   {
    "duration": 21,
    "start_time": "2025-03-27T10:24:44.000Z"
   },
   {
    "duration": 7,
    "start_time": "2025-03-27T10:24:44.054Z"
   },
   {
    "duration": 5,
    "start_time": "2025-03-27T10:24:44.063Z"
   },
   {
    "duration": 14,
    "start_time": "2025-03-27T10:24:44.069Z"
   },
   {
    "duration": 18,
    "start_time": "2025-03-27T10:24:44.085Z"
   },
   {
    "duration": 57,
    "start_time": "2025-03-27T10:24:44.105Z"
   },
   {
    "duration": 7,
    "start_time": "2025-03-27T10:24:44.164Z"
   },
   {
    "duration": 65,
    "start_time": "2025-03-27T10:24:44.172Z"
   },
   {
    "duration": 15,
    "start_time": "2025-03-27T10:24:44.255Z"
   },
   {
    "duration": 41,
    "start_time": "2025-03-27T10:24:44.272Z"
   },
   {
    "duration": 20,
    "start_time": "2025-03-27T10:24:44.315Z"
   },
   {
    "duration": 7,
    "start_time": "2025-03-27T10:24:44.337Z"
   },
   {
    "duration": 26,
    "start_time": "2025-03-27T10:24:44.346Z"
   },
   {
    "duration": 172,
    "start_time": "2025-03-27T10:24:44.373Z"
   },
   {
    "duration": 11,
    "start_time": "2025-03-27T10:24:44.546Z"
   },
   {
    "duration": 22,
    "start_time": "2025-03-27T10:24:44.558Z"
   },
   {
    "duration": 20,
    "start_time": "2025-03-27T10:24:44.581Z"
   },
   {
    "duration": 196,
    "start_time": "2025-03-27T10:24:44.602Z"
   },
   {
    "duration": 16,
    "start_time": "2025-03-27T10:24:44.799Z"
   },
   {
    "duration": 53,
    "start_time": "2025-03-27T10:24:44.816Z"
   },
   {
    "duration": 16,
    "start_time": "2025-03-27T10:24:44.872Z"
   },
   {
    "duration": 199,
    "start_time": "2025-03-27T10:24:44.890Z"
   },
   {
    "duration": 344,
    "start_time": "2025-03-27T10:24:45.091Z"
   },
   {
    "duration": 5,
    "start_time": "2025-03-27T10:24:45.437Z"
   },
   {
    "duration": 158,
    "start_time": "2025-03-27T10:24:45.454Z"
   },
   {
    "duration": 23,
    "start_time": "2025-03-27T10:24:45.614Z"
   },
   {
    "duration": 217,
    "start_time": "2025-03-27T10:24:45.638Z"
   },
   {
    "duration": 1019,
    "start_time": "2025-03-27T10:24:45.857Z"
   },
   {
    "duration": 7,
    "start_time": "2025-03-27T10:24:46.878Z"
   },
   {
    "duration": 4,
    "start_time": "2025-03-27T10:24:46.891Z"
   },
   {
    "duration": 60,
    "start_time": "2025-03-27T10:24:46.897Z"
   },
   {
    "duration": 958,
    "start_time": "2025-03-27T10:24:46.959Z"
   },
   {
    "duration": 169,
    "start_time": "2025-03-27T10:24:47.919Z"
   },
   {
    "duration": 818,
    "start_time": "2025-03-27T10:26:50.009Z"
   },
   {
    "duration": 5,
    "start_time": "2025-03-27T10:27:23.066Z"
   },
   {
    "duration": 27,
    "start_time": "2025-03-27T10:27:45.706Z"
   },
   {
    "duration": 707,
    "start_time": "2025-03-27T10:39:48.165Z"
   },
   {
    "duration": 118,
    "start_time": "2025-03-27T10:39:48.876Z"
   },
   {
    "duration": 16,
    "start_time": "2025-03-27T10:39:48.997Z"
   },
   {
    "duration": 9,
    "start_time": "2025-03-27T10:39:49.015Z"
   },
   {
    "duration": 21,
    "start_time": "2025-03-27T10:39:49.026Z"
   },
   {
    "duration": 11,
    "start_time": "2025-03-27T10:39:49.048Z"
   },
   {
    "duration": 9,
    "start_time": "2025-03-27T10:39:49.060Z"
   },
   {
    "duration": 16,
    "start_time": "2025-03-27T10:39:49.070Z"
   },
   {
    "duration": 9,
    "start_time": "2025-03-27T10:39:49.088Z"
   },
   {
    "duration": 6,
    "start_time": "2025-03-27T10:39:49.098Z"
   },
   {
    "duration": 11,
    "start_time": "2025-03-27T10:39:49.106Z"
   },
   {
    "duration": 15,
    "start_time": "2025-03-27T10:39:49.119Z"
   },
   {
    "duration": 14,
    "start_time": "2025-03-27T10:39:49.155Z"
   },
   {
    "duration": 52,
    "start_time": "2025-03-27T10:39:49.170Z"
   },
   {
    "duration": 26,
    "start_time": "2025-03-27T10:39:49.223Z"
   },
   {
    "duration": 8,
    "start_time": "2025-03-27T10:39:49.251Z"
   },
   {
    "duration": 33,
    "start_time": "2025-03-27T10:39:49.260Z"
   },
   {
    "duration": 3,
    "start_time": "2025-03-27T10:39:49.294Z"
   },
   {
    "duration": 25,
    "start_time": "2025-03-27T10:39:49.298Z"
   },
   {
    "duration": 5,
    "start_time": "2025-03-27T10:39:49.325Z"
   },
   {
    "duration": 9,
    "start_time": "2025-03-27T10:39:49.332Z"
   },
   {
    "duration": 17,
    "start_time": "2025-03-27T10:39:49.343Z"
   },
   {
    "duration": 78,
    "start_time": "2025-03-27T10:39:49.362Z"
   },
   {
    "duration": 22,
    "start_time": "2025-03-27T10:39:49.441Z"
   },
   {
    "duration": 16,
    "start_time": "2025-03-27T10:39:49.465Z"
   },
   {
    "duration": 23,
    "start_time": "2025-03-27T10:39:49.483Z"
   },
   {
    "duration": 5,
    "start_time": "2025-03-27T10:39:49.511Z"
   },
   {
    "duration": 8,
    "start_time": "2025-03-27T10:39:49.517Z"
   },
   {
    "duration": 111,
    "start_time": "2025-03-27T10:39:49.527Z"
   },
   {
    "duration": 4,
    "start_time": "2025-03-27T10:39:49.640Z"
   },
   {
    "duration": 8,
    "start_time": "2025-03-27T10:39:49.645Z"
   },
   {
    "duration": 145,
    "start_time": "2025-03-27T10:39:49.654Z"
   },
   {
    "duration": 23,
    "start_time": "2025-03-27T10:39:49.801Z"
   },
   {
    "duration": 41,
    "start_time": "2025-03-27T10:39:49.825Z"
   },
   {
    "duration": 1217,
    "start_time": "2025-03-27T10:39:49.867Z"
   },
   {
    "duration": 2,
    "start_time": "2025-03-27T10:39:51.086Z"
   },
   {
    "duration": 15,
    "start_time": "2025-03-27T10:39:51.090Z"
   },
   {
    "duration": 39,
    "start_time": "2025-03-27T10:39:51.107Z"
   },
   {
    "duration": 24,
    "start_time": "2025-03-27T10:39:51.147Z"
   },
   {
    "duration": 66,
    "start_time": "2025-03-27T10:39:51.172Z"
   },
   {
    "duration": 36,
    "start_time": "2025-03-27T10:39:51.240Z"
   },
   {
    "duration": 24,
    "start_time": "2025-03-27T10:39:51.278Z"
   },
   {
    "duration": 19,
    "start_time": "2025-03-27T10:39:51.303Z"
   },
   {
    "duration": 54,
    "start_time": "2025-03-27T10:39:51.324Z"
   },
   {
    "duration": 5,
    "start_time": "2025-03-27T10:39:51.380Z"
   },
   {
    "duration": 16,
    "start_time": "2025-03-27T10:39:51.386Z"
   },
   {
    "duration": 51,
    "start_time": "2025-03-27T10:39:51.404Z"
   },
   {
    "duration": 22,
    "start_time": "2025-03-27T10:39:51.457Z"
   },
   {
    "duration": 25,
    "start_time": "2025-03-27T10:39:51.481Z"
   },
   {
    "duration": 28,
    "start_time": "2025-03-27T10:39:51.508Z"
   },
   {
    "duration": 19,
    "start_time": "2025-03-27T10:39:51.538Z"
   },
   {
    "duration": 8,
    "start_time": "2025-03-27T10:39:51.559Z"
   },
   {
    "duration": 25,
    "start_time": "2025-03-27T10:39:51.569Z"
   },
   {
    "duration": 15,
    "start_time": "2025-03-27T10:39:51.595Z"
   },
   {
    "duration": 14,
    "start_time": "2025-03-27T10:39:51.611Z"
   },
   {
    "duration": 27,
    "start_time": "2025-03-27T10:39:51.627Z"
   },
   {
    "duration": 57,
    "start_time": "2025-03-27T10:39:51.655Z"
   },
   {
    "duration": 38,
    "start_time": "2025-03-27T10:39:51.714Z"
   },
   {
    "duration": 110,
    "start_time": "2025-03-27T10:39:51.754Z"
   },
   {
    "duration": 43,
    "start_time": "2025-03-27T10:39:51.866Z"
   },
   {
    "duration": 22,
    "start_time": "2025-03-27T10:39:51.911Z"
   },
   {
    "duration": 15,
    "start_time": "2025-03-27T10:39:51.935Z"
   },
   {
    "duration": 7,
    "start_time": "2025-03-27T10:39:51.951Z"
   },
   {
    "duration": 34,
    "start_time": "2025-03-27T10:39:51.960Z"
   },
   {
    "duration": 9,
    "start_time": "2025-03-27T10:39:51.996Z"
   },
   {
    "duration": 183,
    "start_time": "2025-03-27T10:39:52.007Z"
   },
   {
    "duration": 6,
    "start_time": "2025-03-27T10:39:52.192Z"
   },
   {
    "duration": 31,
    "start_time": "2025-03-27T10:39:52.200Z"
   },
   {
    "duration": 12,
    "start_time": "2025-03-27T10:39:52.232Z"
   },
   {
    "duration": 200,
    "start_time": "2025-03-27T10:39:52.254Z"
   },
   {
    "duration": 15,
    "start_time": "2025-03-27T10:39:52.456Z"
   },
   {
    "duration": 4,
    "start_time": "2025-03-27T10:39:52.473Z"
   },
   {
    "duration": 29,
    "start_time": "2025-03-27T10:39:52.479Z"
   },
   {
    "duration": 187,
    "start_time": "2025-03-27T10:39:52.510Z"
   },
   {
    "duration": 362,
    "start_time": "2025-03-27T10:39:52.699Z"
   },
   {
    "duration": 5,
    "start_time": "2025-03-27T10:39:53.063Z"
   },
   {
    "duration": 25,
    "start_time": "2025-03-27T10:39:53.070Z"
   },
   {
    "duration": 25,
    "start_time": "2025-03-27T10:39:53.097Z"
   },
   {
    "duration": 205,
    "start_time": "2025-03-27T10:39:53.123Z"
   },
   {
    "duration": 485,
    "start_time": "2025-03-27T10:39:53.329Z"
   },
   {
    "duration": 8,
    "start_time": "2025-03-27T10:39:53.819Z"
   },
   {
    "duration": 23,
    "start_time": "2025-03-27T10:39:53.828Z"
   },
   {
    "duration": 13,
    "start_time": "2025-03-27T10:39:53.852Z"
   },
   {
    "duration": 826,
    "start_time": "2025-03-27T10:39:53.867Z"
   },
   {
    "duration": 371,
    "start_time": "2025-03-27T10:39:54.695Z"
   },
   {
    "duration": 715,
    "start_time": "2025-03-27T10:40:21.560Z"
   },
   {
    "duration": 117,
    "start_time": "2025-03-27T10:40:22.277Z"
   },
   {
    "duration": 17,
    "start_time": "2025-03-27T10:40:22.396Z"
   },
   {
    "duration": 20,
    "start_time": "2025-03-27T10:40:22.415Z"
   },
   {
    "duration": 15,
    "start_time": "2025-03-27T10:40:22.437Z"
   },
   {
    "duration": 29,
    "start_time": "2025-03-27T10:40:22.453Z"
   },
   {
    "duration": 27,
    "start_time": "2025-03-27T10:40:22.483Z"
   },
   {
    "duration": 43,
    "start_time": "2025-03-27T10:40:22.512Z"
   },
   {
    "duration": 10,
    "start_time": "2025-03-27T10:40:22.556Z"
   },
   {
    "duration": 10,
    "start_time": "2025-03-27T10:40:22.569Z"
   },
   {
    "duration": 13,
    "start_time": "2025-03-27T10:40:22.580Z"
   },
   {
    "duration": 35,
    "start_time": "2025-03-27T10:40:22.595Z"
   },
   {
    "duration": 26,
    "start_time": "2025-03-27T10:40:22.632Z"
   },
   {
    "duration": 26,
    "start_time": "2025-03-27T10:40:22.660Z"
   },
   {
    "duration": 44,
    "start_time": "2025-03-27T10:40:22.687Z"
   },
   {
    "duration": 17,
    "start_time": "2025-03-27T10:40:22.733Z"
   },
   {
    "duration": 46,
    "start_time": "2025-03-27T10:40:22.752Z"
   },
   {
    "duration": 2,
    "start_time": "2025-03-27T10:40:22.800Z"
   },
   {
    "duration": 84,
    "start_time": "2025-03-27T10:40:22.803Z"
   },
   {
    "duration": 6,
    "start_time": "2025-03-27T10:40:22.890Z"
   },
   {
    "duration": 7,
    "start_time": "2025-03-27T10:40:22.897Z"
   },
   {
    "duration": 11,
    "start_time": "2025-03-27T10:40:22.906Z"
   },
   {
    "duration": 67,
    "start_time": "2025-03-27T10:40:22.919Z"
   },
   {
    "duration": 21,
    "start_time": "2025-03-27T10:40:22.988Z"
   },
   {
    "duration": 31,
    "start_time": "2025-03-27T10:40:23.010Z"
   },
   {
    "duration": 27,
    "start_time": "2025-03-27T10:40:23.043Z"
   },
   {
    "duration": 16,
    "start_time": "2025-03-27T10:40:23.072Z"
   },
   {
    "duration": 13,
    "start_time": "2025-03-27T10:40:23.092Z"
   },
   {
    "duration": 25,
    "start_time": "2025-03-27T10:40:23.107Z"
   },
   {
    "duration": 60,
    "start_time": "2025-03-27T10:40:23.134Z"
   },
   {
    "duration": 41,
    "start_time": "2025-03-27T10:40:23.196Z"
   },
   {
    "duration": 143,
    "start_time": "2025-03-27T10:40:23.239Z"
   },
   {
    "duration": 22,
    "start_time": "2025-03-27T10:40:23.384Z"
   },
   {
    "duration": 26,
    "start_time": "2025-03-27T10:40:23.408Z"
   },
   {
    "duration": 1144,
    "start_time": "2025-03-27T10:40:23.454Z"
   },
   {
    "duration": 3,
    "start_time": "2025-03-27T10:40:24.599Z"
   },
   {
    "duration": 21,
    "start_time": "2025-03-27T10:40:24.603Z"
   },
   {
    "duration": 22,
    "start_time": "2025-03-27T10:40:24.626Z"
   },
   {
    "duration": 23,
    "start_time": "2025-03-27T10:40:24.654Z"
   },
   {
    "duration": 20,
    "start_time": "2025-03-27T10:40:24.678Z"
   },
   {
    "duration": 26,
    "start_time": "2025-03-27T10:40:24.699Z"
   },
   {
    "duration": 23,
    "start_time": "2025-03-27T10:40:24.727Z"
   },
   {
    "duration": 9,
    "start_time": "2025-03-27T10:40:24.752Z"
   },
   {
    "duration": 21,
    "start_time": "2025-03-27T10:40:24.762Z"
   },
   {
    "duration": 7,
    "start_time": "2025-03-27T10:40:24.785Z"
   },
   {
    "duration": 110,
    "start_time": "2025-03-27T10:40:24.793Z"
   },
   {
    "duration": 33,
    "start_time": "2025-03-27T10:40:24.905Z"
   },
   {
    "duration": 5,
    "start_time": "2025-03-27T10:40:24.940Z"
   },
   {
    "duration": 36,
    "start_time": "2025-03-27T10:40:24.947Z"
   },
   {
    "duration": 6,
    "start_time": "2025-03-27T10:40:24.985Z"
   },
   {
    "duration": 76,
    "start_time": "2025-03-27T10:40:24.993Z"
   },
   {
    "duration": 13,
    "start_time": "2025-03-27T10:40:25.070Z"
   },
   {
    "duration": 33,
    "start_time": "2025-03-27T10:40:25.084Z"
   },
   {
    "duration": 17,
    "start_time": "2025-03-27T10:40:25.119Z"
   },
   {
    "duration": 86,
    "start_time": "2025-03-27T10:40:25.138Z"
   },
   {
    "duration": 25,
    "start_time": "2025-03-27T10:40:25.225Z"
   },
   {
    "duration": 32,
    "start_time": "2025-03-27T10:40:25.252Z"
   },
   {
    "duration": 6,
    "start_time": "2025-03-27T10:40:25.285Z"
   },
   {
    "duration": 78,
    "start_time": "2025-03-27T10:40:25.293Z"
   },
   {
    "duration": 18,
    "start_time": "2025-03-27T10:40:25.373Z"
   },
   {
    "duration": 31,
    "start_time": "2025-03-27T10:40:25.392Z"
   },
   {
    "duration": 10,
    "start_time": "2025-03-27T10:40:25.424Z"
   },
   {
    "duration": 9,
    "start_time": "2025-03-27T10:40:25.435Z"
   },
   {
    "duration": 31,
    "start_time": "2025-03-27T10:40:25.445Z"
   },
   {
    "duration": 4,
    "start_time": "2025-03-27T10:40:25.477Z"
   },
   {
    "duration": 192,
    "start_time": "2025-03-27T10:40:25.482Z"
   },
   {
    "duration": 4,
    "start_time": "2025-03-27T10:40:25.675Z"
   },
   {
    "duration": 23,
    "start_time": "2025-03-27T10:40:25.680Z"
   },
   {
    "duration": 12,
    "start_time": "2025-03-27T10:40:25.705Z"
   },
   {
    "duration": 204,
    "start_time": "2025-03-27T10:40:25.719Z"
   },
   {
    "duration": 30,
    "start_time": "2025-03-27T10:40:25.925Z"
   },
   {
    "duration": 5,
    "start_time": "2025-03-27T10:40:25.956Z"
   },
   {
    "duration": 22,
    "start_time": "2025-03-27T10:40:25.962Z"
   },
   {
    "duration": 186,
    "start_time": "2025-03-27T10:40:25.985Z"
   },
   {
    "duration": 396,
    "start_time": "2025-03-27T10:40:26.172Z"
   },
   {
    "duration": 8,
    "start_time": "2025-03-27T10:40:26.570Z"
   },
   {
    "duration": 39,
    "start_time": "2025-03-27T10:40:26.580Z"
   },
   {
    "duration": 41,
    "start_time": "2025-03-27T10:40:26.620Z"
   },
   {
    "duration": 186,
    "start_time": "2025-03-27T10:40:26.662Z"
   },
   {
    "duration": 486,
    "start_time": "2025-03-27T10:40:26.850Z"
   },
   {
    "duration": 22,
    "start_time": "2025-03-27T10:40:27.338Z"
   },
   {
    "duration": 48,
    "start_time": "2025-03-27T10:40:27.365Z"
   },
   {
    "duration": 25,
    "start_time": "2025-03-27T10:40:27.415Z"
   },
   {
    "duration": 818,
    "start_time": "2025-03-27T10:40:27.442Z"
   },
   {
    "duration": 172,
    "start_time": "2025-03-27T10:40:28.262Z"
   },
   {
    "duration": 704,
    "start_time": "2025-03-27T20:26:20.499Z"
   },
   {
    "duration": 130,
    "start_time": "2025-03-27T20:26:21.206Z"
   },
   {
    "duration": 17,
    "start_time": "2025-03-27T20:26:21.338Z"
   },
   {
    "duration": 16,
    "start_time": "2025-03-27T20:26:21.357Z"
   },
   {
    "duration": 17,
    "start_time": "2025-03-27T20:26:21.375Z"
   },
   {
    "duration": 6,
    "start_time": "2025-03-27T20:26:21.393Z"
   },
   {
    "duration": 2,
    "start_time": "2025-03-27T20:26:21.401Z"
   },
   {
    "duration": 14,
    "start_time": "2025-03-27T20:26:21.404Z"
   },
   {
    "duration": 9,
    "start_time": "2025-03-27T20:26:21.420Z"
   },
   {
    "duration": 4,
    "start_time": "2025-03-27T20:26:21.432Z"
   },
   {
    "duration": 20,
    "start_time": "2025-03-27T20:26:21.438Z"
   },
   {
    "duration": 15,
    "start_time": "2025-03-27T20:26:21.460Z"
   },
   {
    "duration": 33,
    "start_time": "2025-03-27T20:26:21.476Z"
   },
   {
    "duration": 33,
    "start_time": "2025-03-27T20:26:21.511Z"
   },
   {
    "duration": 18,
    "start_time": "2025-03-27T20:26:21.546Z"
   },
   {
    "duration": 10,
    "start_time": "2025-03-27T20:26:21.566Z"
   },
   {
    "duration": 31,
    "start_time": "2025-03-27T20:26:21.578Z"
   },
   {
    "duration": 3,
    "start_time": "2025-03-27T20:26:21.611Z"
   },
   {
    "duration": 19,
    "start_time": "2025-03-27T20:26:21.615Z"
   },
   {
    "duration": 13,
    "start_time": "2025-03-27T20:26:21.636Z"
   },
   {
    "duration": 5,
    "start_time": "2025-03-27T20:26:21.652Z"
   },
   {
    "duration": 15,
    "start_time": "2025-03-27T20:26:21.659Z"
   },
   {
    "duration": 77,
    "start_time": "2025-03-27T20:26:21.675Z"
   },
   {
    "duration": 20,
    "start_time": "2025-03-27T20:26:21.753Z"
   },
   {
    "duration": 16,
    "start_time": "2025-03-27T20:26:21.774Z"
   },
   {
    "duration": 31,
    "start_time": "2025-03-27T20:26:21.791Z"
   },
   {
    "duration": 17,
    "start_time": "2025-03-27T20:26:21.823Z"
   },
   {
    "duration": 8,
    "start_time": "2025-03-27T20:26:21.844Z"
   },
   {
    "duration": 5,
    "start_time": "2025-03-27T20:26:21.853Z"
   },
   {
    "duration": 5,
    "start_time": "2025-03-27T20:26:21.859Z"
   },
   {
    "duration": 4,
    "start_time": "2025-03-27T20:26:21.865Z"
   },
   {
    "duration": 147,
    "start_time": "2025-03-27T20:26:21.870Z"
   },
   {
    "duration": 19,
    "start_time": "2025-03-27T20:26:22.019Z"
   },
   {
    "duration": 24,
    "start_time": "2025-03-27T20:26:22.039Z"
   },
   {
    "duration": 1070,
    "start_time": "2025-03-27T20:26:22.064Z"
   },
   {
    "duration": 2,
    "start_time": "2025-03-27T20:26:23.136Z"
   },
   {
    "duration": 28,
    "start_time": "2025-03-27T20:26:23.139Z"
   },
   {
    "duration": 22,
    "start_time": "2025-03-27T20:26:23.168Z"
   },
   {
    "duration": 21,
    "start_time": "2025-03-27T20:26:23.191Z"
   },
   {
    "duration": 5,
    "start_time": "2025-03-27T20:26:23.213Z"
   },
   {
    "duration": 6,
    "start_time": "2025-03-27T20:26:23.219Z"
   },
   {
    "duration": 24,
    "start_time": "2025-03-27T20:26:23.226Z"
   },
   {
    "duration": 8,
    "start_time": "2025-03-27T20:26:23.252Z"
   },
   {
    "duration": 13,
    "start_time": "2025-03-27T20:26:23.261Z"
   },
   {
    "duration": 3,
    "start_time": "2025-03-27T20:26:23.275Z"
   },
   {
    "duration": 29,
    "start_time": "2025-03-27T20:26:23.280Z"
   },
   {
    "duration": 31,
    "start_time": "2025-03-27T20:26:23.311Z"
   },
   {
    "duration": 4,
    "start_time": "2025-03-27T20:26:23.344Z"
   },
   {
    "duration": 14,
    "start_time": "2025-03-27T20:26:23.349Z"
   },
   {
    "duration": 5,
    "start_time": "2025-03-27T20:26:23.364Z"
   },
   {
    "duration": 7,
    "start_time": "2025-03-27T20:26:23.371Z"
   },
   {
    "duration": 31,
    "start_time": "2025-03-27T20:26:23.379Z"
   },
   {
    "duration": 18,
    "start_time": "2025-03-27T20:26:23.411Z"
   },
   {
    "duration": 6,
    "start_time": "2025-03-27T20:26:23.430Z"
   },
   {
    "duration": 5,
    "start_time": "2025-03-27T20:26:23.437Z"
   },
   {
    "duration": 22,
    "start_time": "2025-03-27T20:26:23.443Z"
   },
   {
    "duration": 55,
    "start_time": "2025-03-27T20:26:23.466Z"
   },
   {
    "duration": 5,
    "start_time": "2025-03-27T20:26:23.522Z"
   },
   {
    "duration": 57,
    "start_time": "2025-03-27T20:26:23.528Z"
   },
   {
    "duration": 29,
    "start_time": "2025-03-27T20:26:23.587Z"
   },
   {
    "duration": 19,
    "start_time": "2025-03-27T20:26:23.617Z"
   },
   {
    "duration": 7,
    "start_time": "2025-03-27T20:26:23.637Z"
   },
   {
    "duration": 6,
    "start_time": "2025-03-27T20:26:23.646Z"
   },
   {
    "duration": 20,
    "start_time": "2025-03-27T20:26:23.653Z"
   },
   {
    "duration": 3,
    "start_time": "2025-03-27T20:26:23.674Z"
   },
   {
    "duration": 160,
    "start_time": "2025-03-27T20:26:23.707Z"
   },
   {
    "duration": 4,
    "start_time": "2025-03-27T20:26:23.869Z"
   },
   {
    "duration": 16,
    "start_time": "2025-03-27T20:26:23.874Z"
   },
   {
    "duration": 24,
    "start_time": "2025-03-27T20:26:23.891Z"
   },
   {
    "duration": 187,
    "start_time": "2025-03-27T20:26:23.916Z"
   },
   {
    "duration": 14,
    "start_time": "2025-03-27T20:26:24.104Z"
   },
   {
    "duration": 65,
    "start_time": "2025-03-27T20:26:24.120Z"
   },
   {
    "duration": 13,
    "start_time": "2025-03-27T20:26:24.187Z"
   },
   {
    "duration": 162,
    "start_time": "2025-03-27T20:26:24.202Z"
   },
   {
    "duration": 315,
    "start_time": "2025-03-27T20:26:24.365Z"
   },
   {
    "duration": 6,
    "start_time": "2025-03-27T20:26:24.681Z"
   },
   {
    "duration": 33,
    "start_time": "2025-03-27T20:26:24.688Z"
   },
   {
    "duration": 21,
    "start_time": "2025-03-27T20:26:24.722Z"
   },
   {
    "duration": 179,
    "start_time": "2025-03-27T20:26:24.745Z"
   },
   {
    "duration": 437,
    "start_time": "2025-03-27T20:26:24.926Z"
   },
   {
    "duration": 8,
    "start_time": "2025-03-27T20:26:25.365Z"
   },
   {
    "duration": 4,
    "start_time": "2025-03-27T20:26:25.379Z"
   },
   {
    "duration": 25,
    "start_time": "2025-03-27T20:26:25.385Z"
   },
   {
    "duration": 743,
    "start_time": "2025-03-27T20:26:25.412Z"
   },
   {
    "duration": 150,
    "start_time": "2025-03-27T20:26:26.157Z"
   },
   {
    "duration": 864,
    "start_time": "2025-04-04T16:02:01.721Z"
   },
   {
    "duration": 135,
    "start_time": "2025-04-04T16:02:05.436Z"
   },
   {
    "duration": 14,
    "start_time": "2025-04-04T16:02:14.605Z"
   },
   {
    "duration": 11,
    "start_time": "2025-04-04T16:06:03.494Z"
   },
   {
    "duration": 16,
    "start_time": "2025-04-04T16:10:55.358Z"
   },
   {
    "duration": 8,
    "start_time": "2025-04-04T16:11:02.851Z"
   },
   {
    "duration": 6,
    "start_time": "2025-04-04T16:11:03.651Z"
   },
   {
    "duration": 12,
    "start_time": "2025-04-04T16:11:04.489Z"
   },
   {
    "duration": 17,
    "start_time": "2025-04-04T16:11:16.759Z"
   },
   {
    "duration": 5,
    "start_time": "2025-04-04T16:11:32.550Z"
   },
   {
    "duration": 15,
    "start_time": "2025-04-04T16:11:34.971Z"
   },
   {
    "duration": 5,
    "start_time": "2025-04-04T16:14:22.829Z"
   },
   {
    "duration": 30,
    "start_time": "2025-04-04T16:17:12.500Z"
   },
   {
    "duration": 17,
    "start_time": "2025-04-04T16:17:26.458Z"
   },
   {
    "duration": 7,
    "start_time": "2025-04-04T16:17:34.002Z"
   },
   {
    "duration": 6,
    "start_time": "2025-04-04T16:20:12.391Z"
   },
   {
    "duration": 72,
    "start_time": "2025-04-04T16:20:34.199Z"
   },
   {
    "duration": 2,
    "start_time": "2025-04-04T16:21:29.899Z"
   },
   {
    "duration": 132,
    "start_time": "2025-04-04T16:21:31.049Z"
   },
   {
    "duration": 8,
    "start_time": "2025-04-04T16:21:36.762Z"
   },
   {
    "duration": 15,
    "start_time": "2025-04-04T16:21:40.470Z"
   },
   {
    "duration": 426,
    "start_time": "2025-04-04T16:21:52.660Z"
   },
   {
    "duration": 17,
    "start_time": "2025-04-04T16:22:07.009Z"
   },
   {
    "duration": 6,
    "start_time": "2025-04-04T16:22:08.950Z"
   },
   {
    "duration": 7,
    "start_time": "2025-04-04T16:22:09.539Z"
   },
   {
    "duration": 20,
    "start_time": "2025-04-04T16:22:10.110Z"
   },
   {
    "duration": 5,
    "start_time": "2025-04-04T16:22:15.249Z"
   },
   {
    "duration": 6,
    "start_time": "2025-04-04T16:22:20.090Z"
   },
   {
    "duration": 32,
    "start_time": "2025-04-04T16:22:23.457Z"
   },
   {
    "duration": 7,
    "start_time": "2025-04-04T16:22:26.701Z"
   },
   {
    "duration": 5,
    "start_time": "2025-04-04T16:22:29.843Z"
   },
   {
    "duration": 12,
    "start_time": "2025-04-04T16:22:33.777Z"
   },
   {
    "duration": 26,
    "start_time": "2025-04-04T16:22:36.129Z"
   },
   {
    "duration": 26,
    "start_time": "2025-04-04T16:22:41.629Z"
   },
   {
    "duration": 7,
    "start_time": "2025-04-04T16:23:07.140Z"
   },
   {
    "duration": 10,
    "start_time": "2025-04-04T16:23:09.580Z"
   },
   {
    "duration": 6,
    "start_time": "2025-04-04T16:24:24.487Z"
   },
   {
    "duration": 4,
    "start_time": "2025-04-04T16:24:25.110Z"
   },
   {
    "duration": 4,
    "start_time": "2025-04-04T16:24:47.980Z"
   },
   {
    "duration": 159,
    "start_time": "2025-04-04T16:25:10.074Z"
   },
   {
    "duration": 25,
    "start_time": "2025-04-04T16:25:56.940Z"
   },
   {
    "duration": 30,
    "start_time": "2025-04-04T16:27:09.629Z"
   },
   {
    "duration": 5,
    "start_time": "2025-04-04T16:31:52.935Z"
   },
   {
    "duration": 21,
    "start_time": "2025-04-04T16:32:04.234Z"
   },
   {
    "duration": 27,
    "start_time": "2025-04-04T16:32:51.630Z"
   },
   {
    "duration": 6,
    "start_time": "2025-04-04T16:33:06.310Z"
   },
   {
    "duration": 5,
    "start_time": "2025-04-04T16:33:14.356Z"
   },
   {
    "duration": 27,
    "start_time": "2025-04-04T16:33:22.550Z"
   },
   {
    "duration": 10,
    "start_time": "2025-04-04T16:33:37.940Z"
   },
   {
    "duration": 13,
    "start_time": "2025-04-04T16:33:43.101Z"
   },
   {
    "duration": 5,
    "start_time": "2025-04-04T16:36:04.180Z"
   },
   {
    "duration": 19,
    "start_time": "2025-04-04T16:36:05.580Z"
   },
   {
    "duration": 6,
    "start_time": "2025-04-04T16:36:13.661Z"
   },
   {
    "duration": 10,
    "start_time": "2025-04-04T16:39:54.910Z"
   },
   {
    "duration": 7,
    "start_time": "2025-04-04T16:40:00.571Z"
   },
   {
    "duration": 24,
    "start_time": "2025-04-04T16:40:03.232Z"
   },
   {
    "duration": 7,
    "start_time": "2025-04-04T16:40:50.524Z"
   },
   {
    "duration": 8,
    "start_time": "2025-04-04T16:41:28.687Z"
   },
   {
    "duration": 8,
    "start_time": "2025-04-04T16:41:30.138Z"
   },
   {
    "duration": 21,
    "start_time": "2025-04-04T16:41:34.080Z"
   },
   {
    "duration": 36,
    "start_time": "2025-04-04T16:41:45.091Z"
   },
   {
    "duration": 7,
    "start_time": "2025-04-04T16:45:05.901Z"
   },
   {
    "duration": 6,
    "start_time": "2025-04-04T16:46:13.306Z"
   },
   {
    "duration": 714,
    "start_time": "2025-04-04T16:46:25.452Z"
   },
   {
    "duration": 133,
    "start_time": "2025-04-04T16:46:26.168Z"
   },
   {
    "duration": 20,
    "start_time": "2025-04-04T16:46:26.303Z"
   },
   {
    "duration": 11,
    "start_time": "2025-04-04T16:46:26.326Z"
   },
   {
    "duration": 36,
    "start_time": "2025-04-04T16:46:26.339Z"
   },
   {
    "duration": 9,
    "start_time": "2025-04-04T16:46:26.377Z"
   },
   {
    "duration": 462,
    "start_time": "2025-04-04T16:46:26.405Z"
   },
   {
    "duration": 0,
    "start_time": "2025-04-04T16:46:26.872Z"
   },
   {
    "duration": 0,
    "start_time": "2025-04-04T16:46:26.873Z"
   },
   {
    "duration": 0,
    "start_time": "2025-04-04T16:46:26.874Z"
   },
   {
    "duration": 0,
    "start_time": "2025-04-04T16:46:26.875Z"
   },
   {
    "duration": 0,
    "start_time": "2025-04-04T16:46:26.876Z"
   },
   {
    "duration": 0,
    "start_time": "2025-04-04T16:46:26.877Z"
   },
   {
    "duration": 0,
    "start_time": "2025-04-04T16:46:26.878Z"
   },
   {
    "duration": 0,
    "start_time": "2025-04-04T16:46:26.879Z"
   },
   {
    "duration": 0,
    "start_time": "2025-04-04T16:46:26.880Z"
   },
   {
    "duration": 0,
    "start_time": "2025-04-04T16:46:26.881Z"
   },
   {
    "duration": 0,
    "start_time": "2025-04-04T16:46:26.882Z"
   },
   {
    "duration": 0,
    "start_time": "2025-04-04T16:46:26.883Z"
   },
   {
    "duration": 0,
    "start_time": "2025-04-04T16:46:26.884Z"
   },
   {
    "duration": 0,
    "start_time": "2025-04-04T16:46:26.885Z"
   },
   {
    "duration": 0,
    "start_time": "2025-04-04T16:46:26.886Z"
   },
   {
    "duration": 1,
    "start_time": "2025-04-04T16:46:26.886Z"
   },
   {
    "duration": 0,
    "start_time": "2025-04-04T16:46:26.888Z"
   },
   {
    "duration": 0,
    "start_time": "2025-04-04T16:46:26.888Z"
   },
   {
    "duration": 0,
    "start_time": "2025-04-04T16:46:26.889Z"
   },
   {
    "duration": 0,
    "start_time": "2025-04-04T16:46:26.890Z"
   },
   {
    "duration": 0,
    "start_time": "2025-04-04T16:46:26.891Z"
   },
   {
    "duration": 0,
    "start_time": "2025-04-04T16:46:26.892Z"
   },
   {
    "duration": 0,
    "start_time": "2025-04-04T16:46:26.893Z"
   },
   {
    "duration": 0,
    "start_time": "2025-04-04T16:46:26.894Z"
   },
   {
    "duration": 0,
    "start_time": "2025-04-04T16:46:26.895Z"
   },
   {
    "duration": 0,
    "start_time": "2025-04-04T16:46:26.896Z"
   },
   {
    "duration": 0,
    "start_time": "2025-04-04T16:46:26.897Z"
   },
   {
    "duration": 0,
    "start_time": "2025-04-04T16:46:26.898Z"
   },
   {
    "duration": 0,
    "start_time": "2025-04-04T16:46:26.899Z"
   },
   {
    "duration": 0,
    "start_time": "2025-04-04T16:46:26.900Z"
   },
   {
    "duration": 0,
    "start_time": "2025-04-04T16:46:26.901Z"
   },
   {
    "duration": 0,
    "start_time": "2025-04-04T16:46:26.902Z"
   },
   {
    "duration": 0,
    "start_time": "2025-04-04T16:46:26.903Z"
   },
   {
    "duration": 0,
    "start_time": "2025-04-04T16:46:26.904Z"
   },
   {
    "duration": 0,
    "start_time": "2025-04-04T16:46:26.905Z"
   },
   {
    "duration": 0,
    "start_time": "2025-04-04T16:46:26.906Z"
   },
   {
    "duration": 0,
    "start_time": "2025-04-04T16:46:26.906Z"
   },
   {
    "duration": 0,
    "start_time": "2025-04-04T16:46:26.908Z"
   },
   {
    "duration": 0,
    "start_time": "2025-04-04T16:46:26.909Z"
   },
   {
    "duration": 0,
    "start_time": "2025-04-04T16:46:26.910Z"
   },
   {
    "duration": 0,
    "start_time": "2025-04-04T16:46:26.911Z"
   },
   {
    "duration": 0,
    "start_time": "2025-04-04T16:46:26.911Z"
   },
   {
    "duration": 1,
    "start_time": "2025-04-04T16:46:26.912Z"
   },
   {
    "duration": 0,
    "start_time": "2025-04-04T16:46:26.913Z"
   },
   {
    "duration": 0,
    "start_time": "2025-04-04T16:46:26.914Z"
   },
   {
    "duration": 0,
    "start_time": "2025-04-04T16:46:26.915Z"
   },
   {
    "duration": 0,
    "start_time": "2025-04-04T16:46:26.916Z"
   },
   {
    "duration": 0,
    "start_time": "2025-04-04T16:46:26.917Z"
   },
   {
    "duration": 0,
    "start_time": "2025-04-04T16:46:26.918Z"
   },
   {
    "duration": 0,
    "start_time": "2025-04-04T16:46:26.919Z"
   },
   {
    "duration": 0,
    "start_time": "2025-04-04T16:46:26.920Z"
   },
   {
    "duration": 0,
    "start_time": "2025-04-04T16:46:26.921Z"
   },
   {
    "duration": 0,
    "start_time": "2025-04-04T16:46:26.922Z"
   },
   {
    "duration": 0,
    "start_time": "2025-04-04T16:46:26.923Z"
   },
   {
    "duration": 0,
    "start_time": "2025-04-04T16:46:26.924Z"
   },
   {
    "duration": 0,
    "start_time": "2025-04-04T16:46:26.925Z"
   },
   {
    "duration": 0,
    "start_time": "2025-04-04T16:46:26.925Z"
   },
   {
    "duration": 0,
    "start_time": "2025-04-04T16:46:26.927Z"
   },
   {
    "duration": 0,
    "start_time": "2025-04-04T16:46:26.927Z"
   },
   {
    "duration": 0,
    "start_time": "2025-04-04T16:46:26.928Z"
   },
   {
    "duration": 0,
    "start_time": "2025-04-04T16:46:26.929Z"
   },
   {
    "duration": 0,
    "start_time": "2025-04-04T16:46:26.930Z"
   },
   {
    "duration": 0,
    "start_time": "2025-04-04T16:46:26.931Z"
   },
   {
    "duration": 0,
    "start_time": "2025-04-04T16:46:26.932Z"
   },
   {
    "duration": 0,
    "start_time": "2025-04-04T16:46:26.933Z"
   },
   {
    "duration": 0,
    "start_time": "2025-04-04T16:46:26.934Z"
   },
   {
    "duration": 0,
    "start_time": "2025-04-04T16:46:26.935Z"
   },
   {
    "duration": 0,
    "start_time": "2025-04-04T16:46:26.936Z"
   },
   {
    "duration": 0,
    "start_time": "2025-04-04T16:46:26.937Z"
   },
   {
    "duration": 0,
    "start_time": "2025-04-04T16:46:26.938Z"
   },
   {
    "duration": 0,
    "start_time": "2025-04-04T16:46:26.938Z"
   },
   {
    "duration": 0,
    "start_time": "2025-04-04T16:46:26.939Z"
   },
   {
    "duration": 0,
    "start_time": "2025-04-04T16:46:26.941Z"
   },
   {
    "duration": 0,
    "start_time": "2025-04-04T16:46:26.942Z"
   },
   {
    "duration": 759,
    "start_time": "2025-04-04T16:47:56.613Z"
   },
   {
    "duration": 128,
    "start_time": "2025-04-04T16:47:57.374Z"
   },
   {
    "duration": 21,
    "start_time": "2025-04-04T16:47:57.504Z"
   },
   {
    "duration": 14,
    "start_time": "2025-04-04T16:47:57.528Z"
   },
   {
    "duration": 30,
    "start_time": "2025-04-04T16:47:57.544Z"
   },
   {
    "duration": 8,
    "start_time": "2025-04-04T16:47:57.604Z"
   },
   {
    "duration": 9,
    "start_time": "2025-04-04T16:47:57.614Z"
   },
   {
    "duration": 19,
    "start_time": "2025-04-04T16:47:57.625Z"
   },
   {
    "duration": 26,
    "start_time": "2025-04-04T16:47:57.646Z"
   },
   {
    "duration": 11,
    "start_time": "2025-04-04T16:47:57.675Z"
   },
   {
    "duration": 55,
    "start_time": "2025-04-04T16:47:57.688Z"
   },
   {
    "duration": 18,
    "start_time": "2025-04-04T16:47:57.745Z"
   },
   {
    "duration": 18,
    "start_time": "2025-04-04T16:47:57.765Z"
   },
   {
    "duration": 9,
    "start_time": "2025-04-04T16:47:57.785Z"
   },
   {
    "duration": 25,
    "start_time": "2025-04-04T16:47:57.796Z"
   },
   {
    "duration": 5,
    "start_time": "2025-04-04T16:47:57.823Z"
   },
   {
    "duration": 32,
    "start_time": "2025-04-04T16:47:57.830Z"
   },
   {
    "duration": 16,
    "start_time": "2025-04-04T16:47:57.864Z"
   },
   {
    "duration": 7,
    "start_time": "2025-04-04T16:47:57.904Z"
   },
   {
    "duration": 7,
    "start_time": "2025-04-04T16:47:57.913Z"
   },
   {
    "duration": 52,
    "start_time": "2025-04-04T16:47:57.922Z"
   },
   {
    "duration": 152,
    "start_time": "2025-04-04T16:47:57.976Z"
   },
   {
    "duration": 23,
    "start_time": "2025-04-04T16:47:58.130Z"
   },
   {
    "duration": 19,
    "start_time": "2025-04-04T16:47:58.156Z"
   },
   {
    "duration": 52,
    "start_time": "2025-04-04T16:47:58.177Z"
   },
   {
    "duration": 73,
    "start_time": "2025-04-04T16:47:58.231Z"
   },
   {
    "duration": 20,
    "start_time": "2025-04-04T16:47:58.305Z"
   },
   {
    "duration": 9,
    "start_time": "2025-04-04T16:47:58.330Z"
   },
   {
    "duration": 19,
    "start_time": "2025-04-04T16:47:58.341Z"
   },
   {
    "duration": 23,
    "start_time": "2025-04-04T16:47:58.362Z"
   },
   {
    "duration": 243,
    "start_time": "2025-04-04T16:47:58.387Z"
   },
   {
    "duration": 24,
    "start_time": "2025-04-04T16:47:58.632Z"
   },
   {
    "duration": 47,
    "start_time": "2025-04-04T16:47:58.658Z"
   },
   {
    "duration": 1262,
    "start_time": "2025-04-04T16:47:58.706Z"
   },
   {
    "duration": 5,
    "start_time": "2025-04-04T16:47:59.969Z"
   },
   {
    "duration": 190,
    "start_time": "2025-04-04T16:47:59.975Z"
   },
   {
    "duration": 42,
    "start_time": "2025-04-04T16:48:00.167Z"
   },
   {
    "duration": 128,
    "start_time": "2025-04-04T16:48:00.211Z"
   },
   {
    "duration": 53,
    "start_time": "2025-04-04T16:48:00.340Z"
   },
   {
    "duration": 120,
    "start_time": "2025-04-04T16:48:00.395Z"
   },
   {
    "duration": 24,
    "start_time": "2025-04-04T16:48:00.517Z"
   },
   {
    "duration": 56,
    "start_time": "2025-04-04T16:48:00.543Z"
   },
   {
    "duration": 65,
    "start_time": "2025-04-04T16:48:00.601Z"
   },
   {
    "duration": 11,
    "start_time": "2025-04-04T16:48:00.668Z"
   },
   {
    "duration": 122,
    "start_time": "2025-04-04T16:48:00.681Z"
   },
   {
    "duration": 6,
    "start_time": "2025-04-04T16:48:00.805Z"
   },
   {
    "duration": 22,
    "start_time": "2025-04-04T16:48:00.812Z"
   },
   {
    "duration": 23,
    "start_time": "2025-04-04T16:48:00.836Z"
   },
   {
    "duration": 38,
    "start_time": "2025-04-04T16:48:00.861Z"
   },
   {
    "duration": 21,
    "start_time": "2025-04-04T16:48:00.901Z"
   },
   {
    "duration": 19,
    "start_time": "2025-04-04T16:48:00.924Z"
   },
   {
    "duration": 57,
    "start_time": "2025-04-04T16:48:00.945Z"
   },
   {
    "duration": 63,
    "start_time": "2025-04-04T16:48:01.004Z"
   },
   {
    "duration": 7,
    "start_time": "2025-04-04T16:48:01.069Z"
   },
   {
    "duration": 101,
    "start_time": "2025-04-04T16:48:01.078Z"
   },
   {
    "duration": 72,
    "start_time": "2025-04-04T16:48:01.180Z"
   },
   {
    "duration": 52,
    "start_time": "2025-04-04T16:48:01.254Z"
   },
   {
    "duration": 13,
    "start_time": "2025-04-04T16:48:01.308Z"
   },
   {
    "duration": 17,
    "start_time": "2025-04-04T16:48:01.322Z"
   },
   {
    "duration": 34,
    "start_time": "2025-04-04T16:48:01.341Z"
   },
   {
    "duration": 23,
    "start_time": "2025-04-04T16:48:01.377Z"
   },
   {
    "duration": 219,
    "start_time": "2025-04-04T16:48:01.402Z"
   },
   {
    "duration": 6,
    "start_time": "2025-04-04T16:48:01.623Z"
   },
   {
    "duration": 26,
    "start_time": "2025-04-04T16:48:01.630Z"
   },
   {
    "duration": 28,
    "start_time": "2025-04-04T16:48:01.658Z"
   },
   {
    "duration": 247,
    "start_time": "2025-04-04T16:48:01.688Z"
   },
   {
    "duration": 18,
    "start_time": "2025-04-04T16:48:01.937Z"
   },
   {
    "duration": 158,
    "start_time": "2025-04-04T16:48:01.957Z"
   },
   {
    "duration": 23,
    "start_time": "2025-04-04T16:48:02.117Z"
   },
   {
    "duration": 207,
    "start_time": "2025-04-04T16:48:02.142Z"
   },
   {
    "duration": 398,
    "start_time": "2025-04-04T16:48:02.351Z"
   },
   {
    "duration": 9,
    "start_time": "2025-04-04T16:48:02.751Z"
   },
   {
    "duration": 73,
    "start_time": "2025-04-04T16:48:02.762Z"
   },
   {
    "duration": 40,
    "start_time": "2025-04-04T16:48:02.837Z"
   },
   {
    "duration": 233,
    "start_time": "2025-04-04T16:48:02.878Z"
   },
   {
    "duration": 546,
    "start_time": "2025-04-04T16:48:03.113Z"
   },
   {
    "duration": 9,
    "start_time": "2025-04-04T16:48:03.661Z"
   },
   {
    "duration": 55,
    "start_time": "2025-04-04T16:48:03.672Z"
   },
   {
    "duration": 25,
    "start_time": "2025-04-04T16:48:03.729Z"
   },
   {
    "duration": 915,
    "start_time": "2025-04-04T16:48:03.756Z"
   },
   {
    "duration": 197,
    "start_time": "2025-04-04T16:48:04.673Z"
   },
   {
    "duration": 8,
    "start_time": "2025-04-04T16:49:10.384Z"
   },
   {
    "duration": 6,
    "start_time": "2025-04-04T16:49:15.494Z"
   },
   {
    "duration": 13,
    "start_time": "2025-04-04T16:49:27.764Z"
   },
   {
    "duration": 15,
    "start_time": "2025-04-04T16:49:31.884Z"
   },
   {
    "duration": 22,
    "start_time": "2025-04-04T16:49:34.583Z"
   },
   {
    "duration": 7,
    "start_time": "2025-04-04T16:50:53.313Z"
   },
   {
    "duration": 7,
    "start_time": "2025-04-04T16:51:01.644Z"
   },
   {
    "duration": 3,
    "start_time": "2025-04-04T16:51:39.164Z"
   },
   {
    "duration": 3,
    "start_time": "2025-04-04T16:51:46.655Z"
   },
   {
    "duration": 5,
    "start_time": "2025-04-04T16:55:29.880Z"
   },
   {
    "duration": 21,
    "start_time": "2025-04-04T16:55:55.204Z"
   },
   {
    "duration": 13,
    "start_time": "2025-04-04T16:56:40.594Z"
   },
   {
    "duration": 208,
    "start_time": "2025-04-04T16:56:44.404Z"
   },
   {
    "duration": 16,
    "start_time": "2025-04-04T16:57:03.871Z"
   },
   {
    "duration": 6,
    "start_time": "2025-04-04T17:02:24.514Z"
   },
   {
    "duration": 14,
    "start_time": "2025-04-04T17:03:19.154Z"
   },
   {
    "duration": 209,
    "start_time": "2025-04-04T17:03:21.335Z"
   },
   {
    "duration": 390,
    "start_time": "2025-04-04T17:03:36.935Z"
   },
   {
    "duration": 391,
    "start_time": "2025-04-04T17:03:41.675Z"
   },
   {
    "duration": 7,
    "start_time": "2025-04-04T17:04:29.944Z"
   },
   {
    "duration": 9,
    "start_time": "2025-04-04T17:13:39.973Z"
   },
   {
    "duration": 6,
    "start_time": "2025-04-04T17:13:46.435Z"
   },
   {
    "duration": 5,
    "start_time": "2025-04-04T17:13:47.405Z"
   },
   {
    "duration": 714,
    "start_time": "2025-04-04T17:15:39.088Z"
   },
   {
    "duration": 122,
    "start_time": "2025-04-04T17:15:39.804Z"
   },
   {
    "duration": 18,
    "start_time": "2025-04-04T17:15:39.927Z"
   },
   {
    "duration": 12,
    "start_time": "2025-04-04T17:15:39.948Z"
   },
   {
    "duration": 17,
    "start_time": "2025-04-04T17:15:39.962Z"
   },
   {
    "duration": 6,
    "start_time": "2025-04-04T17:15:39.981Z"
   },
   {
    "duration": 15,
    "start_time": "2025-04-04T17:15:39.989Z"
   },
   {
    "duration": 15,
    "start_time": "2025-04-04T17:15:40.005Z"
   },
   {
    "duration": 20,
    "start_time": "2025-04-04T17:15:40.022Z"
   },
   {
    "duration": 20,
    "start_time": "2025-04-04T17:15:40.045Z"
   },
   {
    "duration": 146,
    "start_time": "2025-04-04T17:15:40.066Z"
   },
   {
    "duration": 17,
    "start_time": "2025-04-04T17:15:40.214Z"
   },
   {
    "duration": 15,
    "start_time": "2025-04-04T17:15:40.233Z"
   },
   {
    "duration": 9,
    "start_time": "2025-04-04T17:15:40.250Z"
   },
   {
    "duration": 17,
    "start_time": "2025-04-04T17:15:40.261Z"
   },
   {
    "duration": 5,
    "start_time": "2025-04-04T17:15:40.304Z"
   },
   {
    "duration": 83,
    "start_time": "2025-04-04T17:15:40.310Z"
   },
   {
    "duration": 15,
    "start_time": "2025-04-04T17:15:40.395Z"
   },
   {
    "duration": 6,
    "start_time": "2025-04-04T17:15:40.412Z"
   },
   {
    "duration": 5,
    "start_time": "2025-04-04T17:15:40.419Z"
   },
   {
    "duration": 11,
    "start_time": "2025-04-04T17:15:40.425Z"
   },
   {
    "duration": 81,
    "start_time": "2025-04-04T17:15:40.437Z"
   },
   {
    "duration": 21,
    "start_time": "2025-04-04T17:15:40.520Z"
   },
   {
    "duration": 16,
    "start_time": "2025-04-04T17:15:40.543Z"
   },
   {
    "duration": 44,
    "start_time": "2025-04-04T17:15:40.561Z"
   },
   {
    "duration": 5,
    "start_time": "2025-04-04T17:15:40.607Z"
   },
   {
    "duration": 21,
    "start_time": "2025-04-04T17:15:40.614Z"
   },
   {
    "duration": 6,
    "start_time": "2025-04-04T17:15:40.639Z"
   },
   {
    "duration": 6,
    "start_time": "2025-04-04T17:15:40.646Z"
   },
   {
    "duration": 10,
    "start_time": "2025-04-04T17:15:40.653Z"
   },
   {
    "duration": 163,
    "start_time": "2025-04-04T17:15:40.665Z"
   },
   {
    "duration": 23,
    "start_time": "2025-04-04T17:15:40.830Z"
   },
   {
    "duration": 30,
    "start_time": "2025-04-04T17:15:40.855Z"
   },
   {
    "duration": 1249,
    "start_time": "2025-04-04T17:15:40.905Z"
   },
   {
    "duration": 4,
    "start_time": "2025-04-04T17:15:42.156Z"
   },
   {
    "duration": 68,
    "start_time": "2025-04-04T17:15:42.162Z"
   },
   {
    "duration": 25,
    "start_time": "2025-04-04T17:15:42.232Z"
   },
   {
    "duration": 5,
    "start_time": "2025-04-04T17:15:42.258Z"
   },
   {
    "duration": 20,
    "start_time": "2025-04-04T17:15:42.265Z"
   },
   {
    "duration": 101,
    "start_time": "2025-04-04T17:15:42.286Z"
   },
   {
    "duration": 10,
    "start_time": "2025-04-04T17:15:42.389Z"
   },
   {
    "duration": 13,
    "start_time": "2025-04-04T17:15:42.400Z"
   },
   {
    "duration": 29,
    "start_time": "2025-04-04T17:15:42.414Z"
   },
   {
    "duration": 5,
    "start_time": "2025-04-04T17:15:42.445Z"
   },
   {
    "duration": 18,
    "start_time": "2025-04-04T17:15:42.451Z"
   },
   {
    "duration": 5,
    "start_time": "2025-04-04T17:15:42.471Z"
   },
   {
    "duration": 33,
    "start_time": "2025-04-04T17:15:42.478Z"
   },
   {
    "duration": 6,
    "start_time": "2025-04-04T17:15:42.513Z"
   },
   {
    "duration": 22,
    "start_time": "2025-04-04T17:15:42.521Z"
   },
   {
    "duration": 7,
    "start_time": "2025-04-04T17:15:42.545Z"
   },
   {
    "duration": 11,
    "start_time": "2025-04-04T17:15:42.553Z"
   },
   {
    "duration": 48,
    "start_time": "2025-04-04T17:15:42.566Z"
   },
   {
    "duration": 35,
    "start_time": "2025-04-04T17:15:42.615Z"
   },
   {
    "duration": 6,
    "start_time": "2025-04-04T17:15:42.651Z"
   },
   {
    "duration": 95,
    "start_time": "2025-04-04T17:15:42.659Z"
   },
   {
    "duration": 23,
    "start_time": "2025-04-04T17:15:42.756Z"
   },
   {
    "duration": 82,
    "start_time": "2025-04-04T17:15:42.781Z"
   },
   {
    "duration": 16,
    "start_time": "2025-04-04T17:15:42.865Z"
   },
   {
    "duration": 6,
    "start_time": "2025-04-04T17:15:42.883Z"
   },
   {
    "duration": 30,
    "start_time": "2025-04-04T17:15:42.891Z"
   },
   {
    "duration": 4,
    "start_time": "2025-04-04T17:15:42.922Z"
   },
   {
    "duration": 192,
    "start_time": "2025-04-04T17:15:42.927Z"
   },
   {
    "duration": 4,
    "start_time": "2025-04-04T17:15:43.121Z"
   },
   {
    "duration": 24,
    "start_time": "2025-04-04T17:15:43.127Z"
   },
   {
    "duration": 13,
    "start_time": "2025-04-04T17:15:43.152Z"
   },
   {
    "duration": 228,
    "start_time": "2025-04-04T17:15:43.167Z"
   },
   {
    "duration": 21,
    "start_time": "2025-04-04T17:15:43.397Z"
   },
   {
    "duration": 4,
    "start_time": "2025-04-04T17:15:43.420Z"
   },
   {
    "duration": 14,
    "start_time": "2025-04-04T17:15:43.426Z"
   },
   {
    "duration": 220,
    "start_time": "2025-04-04T17:15:43.442Z"
   },
   {
    "duration": 392,
    "start_time": "2025-04-04T17:15:43.664Z"
   },
   {
    "duration": 6,
    "start_time": "2025-04-04T17:15:44.058Z"
   },
   {
    "duration": 146,
    "start_time": "2025-04-04T17:15:44.066Z"
   },
   {
    "duration": 24,
    "start_time": "2025-04-04T17:15:44.214Z"
   },
   {
    "duration": 201,
    "start_time": "2025-04-04T17:15:44.240Z"
   },
   {
    "duration": 535,
    "start_time": "2025-04-04T17:15:44.443Z"
   },
   {
    "duration": 8,
    "start_time": "2025-04-04T17:15:44.980Z"
   },
   {
    "duration": 5,
    "start_time": "2025-04-04T17:15:45.005Z"
   },
   {
    "duration": 49,
    "start_time": "2025-04-04T17:15:45.012Z"
   },
   {
    "duration": 929,
    "start_time": "2025-04-04T17:15:45.063Z"
   },
   {
    "duration": 185,
    "start_time": "2025-04-04T17:15:45.993Z"
   }
  ],
  "colab": {
   "name": "DA+. Сборный проект 1. Шаблон (1).ipynb",
   "provenance": []
  },
  "kernelspec": {
   "display_name": "Python 3 (ipykernel)",
   "language": "python",
   "name": "python3"
  },
  "language_info": {
   "codemirror_mode": {
    "name": "ipython",
    "version": 3
   },
   "file_extension": ".py",
   "mimetype": "text/x-python",
   "name": "python",
   "nbconvert_exporter": "python",
   "pygments_lexer": "ipython3",
   "version": "3.9.5"
  },
  "toc": {
   "base_numbering": 1,
   "nav_menu": {},
   "number_sections": true,
   "sideBar": true,
   "skip_h1_title": true,
   "title_cell": "Table of Contents",
   "title_sidebar": "Contents",
   "toc_cell": false,
   "toc_position": {
    "height": "calc(100% - 180px)",
    "left": "10px",
    "top": "150px",
    "width": "454.188px"
   },
   "toc_section_display": true,
   "toc_window_display": false
  }
 },
 "nbformat": 4,
 "nbformat_minor": 1
}
